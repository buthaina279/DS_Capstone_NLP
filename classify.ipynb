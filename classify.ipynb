{
  "nbformat": 4,
  "nbformat_minor": 0,
  "metadata": {
    "colab": {
      "name": "classify.ipynb",
      "provenance": [],
      "collapsed_sections": [],
      "authorship_tag": "ABX9TyPpcX76LMPYBu9CC132COnf",
      "include_colab_link": true
    },
    "kernelspec": {
      "name": "python3",
      "display_name": "Python 3"
    }
  },
  "cells": [
    {
      "cell_type": "markdown",
      "metadata": {
        "id": "view-in-github",
        "colab_type": "text"
      },
      "source": [
        "<a href=\"https://colab.research.google.com/github/buthaina279/DS_Capstone_NLP/blob/main/classify.ipynb\" target=\"_parent\"><img src=\"https://colab.research.google.com/assets/colab-badge.svg\" alt=\"Open In Colab\"/></a>"
      ]
    },
    {
      "cell_type": "code",
      "metadata": {
        "id": "LDKsYdKwcT0D",
        "colab": {
          "base_uri": "https://localhost:8080/"
        },
        "outputId": "b662657f-ac00-4c53-c507-f4050f19569a"
      },
      "source": [
        "# Import Libraries\n",
        "\n",
        "from textblob import TextBlob\n",
        "import matplotlib.pyplot as plt\n",
        "import pandas as pd\n",
        "import numpy as np\n",
        "import os\n",
        "import nltk\n",
        "from google.colab import drive  \n",
        "#import pycountry\n",
        "import re\n",
        "import string\n",
        "\n",
        "from wordcloud import WordCloud, STOPWORDS\n",
        "from PIL import Image\n",
        "from nltk.sentiment.vader import SentimentIntensityAnalyzer\n",
        "#from langdetect import detect\n",
        "from nltk.stem import SnowballStemmer\n",
        "from nltk.sentiment.vader import SentimentIntensityAnalyzer\n",
        "from sklearn.feature_extraction.text import CountVectorizer"
      ],
      "execution_count": 1,
      "outputs": [
        {
          "output_type": "stream",
          "text": [
            "/usr/local/lib/python3.6/dist-packages/nltk/twitter/__init__.py:20: UserWarning: The twython library has not been installed. Some functionality from the twitter package will not be available.\n",
            "  warnings.warn(\"The twython library has not been installed. \"\n"
          ],
          "name": "stderr"
        }
      ]
    },
    {
      "cell_type": "code",
      "metadata": {
        "colab": {
          "base_uri": "https://localhost:8080/"
        },
        "id": "U0yxPnqidFpH",
        "outputId": "c274f768-91e2-4124-f7b8-8864970ea541"
      },
      "source": [
        "# Connect Google Drive to Colab\n",
        "drive.mount('/content/gdrive')\n",
        "# Create a variable to store the data path on your drive\n",
        "path = './gdrive/My Drive/datasets/twitter_analysis'"
      ],
      "execution_count": 83,
      "outputs": [
        {
          "output_type": "stream",
          "text": [
            "Drive already mounted at /content/gdrive; to attempt to forcibly remount, call drive.mount(\"/content/gdrive\", force_remount=True).\n"
          ],
          "name": "stdout"
        }
      ]
    },
    {
      "cell_type": "code",
      "metadata": {
        "id": "RBesGftldFvv"
      },
      "source": [
        "saudia_airlines = pd.read_csv(\"./gdrive/My Drive/datasets/twitter_analysis/saudia_airlines_en.csv\")"
      ],
      "execution_count": 76,
      "outputs": []
    },
    {
      "cell_type": "code",
      "metadata": {
        "colab": {
          "base_uri": "https://localhost:8080/",
          "height": 716
        },
        "id": "BgLCjU-U7ieQ",
        "outputId": "8e4af69d-cfc3-4ff0-e9e1-7a61764eea4f"
      },
      "source": [
        "saudia_airlines.head(10)"
      ],
      "execution_count": 40,
      "outputs": [
        {
          "output_type": "execute_result",
          "data": {
            "text/html": [
              "<div>\n",
              "<style scoped>\n",
              "    .dataframe tbody tr th:only-of-type {\n",
              "        vertical-align: middle;\n",
              "    }\n",
              "\n",
              "    .dataframe tbody tr th {\n",
              "        vertical-align: top;\n",
              "    }\n",
              "\n",
              "    .dataframe thead th {\n",
              "        text-align: right;\n",
              "    }\n",
              "</style>\n",
              "<table border=\"1\" class=\"dataframe\">\n",
              "  <thead>\n",
              "    <tr style=\"text-align: right;\">\n",
              "      <th></th>\n",
              "      <th>Unnamed: 0</th>\n",
              "      <th>tweet_id</th>\n",
              "      <th>created_at</th>\n",
              "      <th>text</th>\n",
              "      <th>likes</th>\n",
              "      <th>retweeted</th>\n",
              "      <th>location</th>\n",
              "      <th>language</th>\n",
              "      <th>airline</th>\n",
              "      <th>Tweet_nonstop</th>\n",
              "    </tr>\n",
              "  </thead>\n",
              "  <tbody>\n",
              "    <tr>\n",
              "      <th>0</th>\n",
              "      <td>14</td>\n",
              "      <td>1335393841810202624</td>\n",
              "      <td>2020-12-06 01:21:16</td>\n",
              "      <td>dear guest there is no flight from india to s...</td>\n",
              "      <td>1</td>\n",
              "      <td>False</td>\n",
              "      <td>Saudi Arabia</td>\n",
              "      <td>en</td>\n",
              "      <td>Saudi_airlines</td>\n",
              "      <td>['', 'dear', 'guest', 'flight', 'india', 'saud...</td>\n",
              "    </tr>\n",
              "    <tr>\n",
              "      <th>1</th>\n",
              "      <td>23</td>\n",
              "      <td>1335337522738720770</td>\n",
              "      <td>2020-12-05 21:37:29</td>\n",
              "      <td>hello dear guest we hope you check and be inf...</td>\n",
              "      <td>1</td>\n",
              "      <td>False</td>\n",
              "      <td>Saudi Arabia</td>\n",
              "      <td>en</td>\n",
              "      <td>Saudi_airlines</td>\n",
              "      <td>['', 'hello', 'dear', 'guest', 'hope', 'check'...</td>\n",
              "    </tr>\n",
              "    <tr>\n",
              "      <th>2</th>\n",
              "      <td>29</td>\n",
              "      <td>1335334320014315521</td>\n",
              "      <td>2020-12-05 21:24:45</td>\n",
              "      <td>hello dear guest please provide us with the b...</td>\n",
              "      <td>0</td>\n",
              "      <td>False</td>\n",
              "      <td>Saudi Arabia</td>\n",
              "      <td>en</td>\n",
              "      <td>Saudi_airlines</td>\n",
              "      <td>['', 'hello', 'dear', 'guest', 'please', 'prov...</td>\n",
              "    </tr>\n",
              "    <tr>\n",
              "      <th>3</th>\n",
              "      <td>38</td>\n",
              "      <td>1335322063851167748</td>\n",
              "      <td>2020-12-05 20:36:03</td>\n",
              "      <td>dear guest there is no flight from india to s...</td>\n",
              "      <td>1</td>\n",
              "      <td>False</td>\n",
              "      <td>Saudi Arabia</td>\n",
              "      <td>en</td>\n",
              "      <td>Saudi_airlines</td>\n",
              "      <td>['', 'dear', 'guest', 'flight', 'india', 'saud...</td>\n",
              "    </tr>\n",
              "    <tr>\n",
              "      <th>4</th>\n",
              "      <td>43</td>\n",
              "      <td>1335314759588122626</td>\n",
              "      <td>2020-12-05 20:07:02</td>\n",
              "      <td>hello dear guest you can follow up the flight...</td>\n",
              "      <td>1</td>\n",
              "      <td>False</td>\n",
              "      <td>Saudi Arabia</td>\n",
              "      <td>en</td>\n",
              "      <td>Saudi_airlines</td>\n",
              "      <td>['', 'hello', 'dear', 'guest', 'follow', 'flig...</td>\n",
              "    </tr>\n",
              "    <tr>\n",
              "      <th>5</th>\n",
              "      <td>50</td>\n",
              "      <td>1335306576312356865</td>\n",
              "      <td>2020-12-05 19:34:31</td>\n",
              "      <td>dear guest there is no flight from india to s...</td>\n",
              "      <td>0</td>\n",
              "      <td>False</td>\n",
              "      <td>Saudi Arabia</td>\n",
              "      <td>en</td>\n",
              "      <td>Saudi_airlines</td>\n",
              "      <td>['', 'dear', 'guest', 'flight', 'india', 'saud...</td>\n",
              "    </tr>\n",
              "    <tr>\n",
              "      <th>6</th>\n",
              "      <td>51</td>\n",
              "      <td>1335304974679613443</td>\n",
              "      <td>2020-12-05 19:28:09</td>\n",
              "      <td>hello dear valued guest once the confirmation...</td>\n",
              "      <td>1</td>\n",
              "      <td>False</td>\n",
              "      <td>Saudi Arabia</td>\n",
              "      <td>en</td>\n",
              "      <td>Saudi_airlines</td>\n",
              "      <td>['', 'hello', 'dear', 'valued', 'guest', 'conf...</td>\n",
              "    </tr>\n",
              "    <tr>\n",
              "      <th>7</th>\n",
              "      <td>53</td>\n",
              "      <td>1335276146653589507</td>\n",
              "      <td>2020-12-05 17:33:36</td>\n",
              "      <td>dear guest there is no flight from india to s...</td>\n",
              "      <td>0</td>\n",
              "      <td>False</td>\n",
              "      <td>Saudi Arabia</td>\n",
              "      <td>en</td>\n",
              "      <td>Saudi_airlines</td>\n",
              "      <td>['', 'dear', 'guest', 'flight', 'india', 'saud...</td>\n",
              "    </tr>\n",
              "    <tr>\n",
              "      <th>8</th>\n",
              "      <td>55</td>\n",
              "      <td>1335275872295804928</td>\n",
              "      <td>2020-12-05 17:32:30</td>\n",
              "      <td>dear guest there is no flight from india to s...</td>\n",
              "      <td>0</td>\n",
              "      <td>False</td>\n",
              "      <td>Saudi Arabia</td>\n",
              "      <td>en</td>\n",
              "      <td>Saudi_airlines</td>\n",
              "      <td>['', 'dear', 'guest', 'flight', 'india', 'saud...</td>\n",
              "    </tr>\n",
              "    <tr>\n",
              "      <th>9</th>\n",
              "      <td>57</td>\n",
              "      <td>1335266364739694593</td>\n",
              "      <td>2020-12-05 16:54:44</td>\n",
              "      <td>hello dear guest imran please provide us with...</td>\n",
              "      <td>0</td>\n",
              "      <td>False</td>\n",
              "      <td>Saudi Arabia</td>\n",
              "      <td>en</td>\n",
              "      <td>Saudi_airlines</td>\n",
              "      <td>['', 'hello', 'dear', 'guest', 'imran', 'pleas...</td>\n",
              "    </tr>\n",
              "  </tbody>\n",
              "</table>\n",
              "</div>"
            ],
            "text/plain": [
              "   Unnamed: 0  ...                                      Tweet_nonstop\n",
              "0          14  ...  ['', 'dear', 'guest', 'flight', 'india', 'saud...\n",
              "1          23  ...  ['', 'hello', 'dear', 'guest', 'hope', 'check'...\n",
              "2          29  ...  ['', 'hello', 'dear', 'guest', 'please', 'prov...\n",
              "3          38  ...  ['', 'dear', 'guest', 'flight', 'india', 'saud...\n",
              "4          43  ...  ['', 'hello', 'dear', 'guest', 'follow', 'flig...\n",
              "5          50  ...  ['', 'dear', 'guest', 'flight', 'india', 'saud...\n",
              "6          51  ...  ['', 'hello', 'dear', 'valued', 'guest', 'conf...\n",
              "7          53  ...  ['', 'dear', 'guest', 'flight', 'india', 'saud...\n",
              "8          55  ...  ['', 'dear', 'guest', 'flight', 'india', 'saud...\n",
              "9          57  ...  ['', 'hello', 'dear', 'guest', 'imran', 'pleas...\n",
              "\n",
              "[10 rows x 10 columns]"
            ]
          },
          "metadata": {
            "tags": []
          },
          "execution_count": 40
        }
      ]
    },
    {
      "cell_type": "markdown",
      "metadata": {
        "id": "lgKcN2_KOSdQ"
      },
      "source": [
        "#Lexicon-based Approach\n",
        "\n",
        "This approach utilizes lexicon or dictionaries. In this step semantic orientation or polarity of words or phrases in the document are used in calculating the orientation for a document."
      ]
    },
    {
      "cell_type": "markdown",
      "metadata": {
        "id": "IC8jtHcD3vyO"
      },
      "source": [
        "#Create a function to get the subjectivity\n",
        "\n",
        "Opinions are usually subjective expressions that describe people’s sentiments, appraisals, or feelings toward entities, events, and their properties."
      ]
    },
    {
      "cell_type": "code",
      "metadata": {
        "id": "Lt0ANmwScna6"
      },
      "source": [
        "def getSubjectivity(text):\n",
        "   return TextBlob(text).sentiment.subjectivity"
      ],
      "execution_count": 64,
      "outputs": []
    },
    {
      "cell_type": "markdown",
      "metadata": {
        "id": "CVwtThld30jf"
      },
      "source": [
        "# Create a function to get the polarity\n",
        "\n",
        "Sentiment analysis is a method of identifying attitudes in text data about a subject of interest. It is scored using polarity values that range from 1 to -1. Values closer to 1 indicate more positivity, while values closer to -1 indicate more negativity."
      ]
    },
    {
      "cell_type": "code",
      "metadata": {
        "id": "9Pu5sFkX34kx"
      },
      "source": [
        "def getPolarity(text):\n",
        "   return  TextBlob(text).sentiment.polarity"
      ],
      "execution_count": 65,
      "outputs": []
    },
    {
      "cell_type": "code",
      "metadata": {
        "id": "jQzQdiq1ckMh",
        "colab": {
          "base_uri": "https://localhost:8080/",
          "height": 940
        },
        "outputId": "55a168ba-116f-4df0-b320-6bf1c01818ab"
      },
      "source": [
        "# Create two new columns 'Subjectivity' & 'Polarity'\n",
        "saudia_airlines['sentiment_confidence'] = saudia_airlines['Tweet_nonstop'].apply(getSubjectivity)\n",
        "saudia_airlines['polarity'] = saudia_airlines['Tweet_nonstop'].apply(getPolarity)\n",
        "\n",
        "# Show the new dataframe with columns 'Subjectivity' & 'Polarity'\n",
        "saudia_airlines.head(10)"
      ],
      "execution_count": 77,
      "outputs": [
        {
          "output_type": "execute_result",
          "data": {
            "text/html": [
              "<div>\n",
              "<style scoped>\n",
              "    .dataframe tbody tr th:only-of-type {\n",
              "        vertical-align: middle;\n",
              "    }\n",
              "\n",
              "    .dataframe tbody tr th {\n",
              "        vertical-align: top;\n",
              "    }\n",
              "\n",
              "    .dataframe thead th {\n",
              "        text-align: right;\n",
              "    }\n",
              "</style>\n",
              "<table border=\"1\" class=\"dataframe\">\n",
              "  <thead>\n",
              "    <tr style=\"text-align: right;\">\n",
              "      <th></th>\n",
              "      <th>Unnamed: 0</th>\n",
              "      <th>tweet_id</th>\n",
              "      <th>created_at</th>\n",
              "      <th>text</th>\n",
              "      <th>likes</th>\n",
              "      <th>retweeted</th>\n",
              "      <th>location</th>\n",
              "      <th>language</th>\n",
              "      <th>airline</th>\n",
              "      <th>Tweet_nonstop</th>\n",
              "      <th>sentiment_confidence</th>\n",
              "      <th>polarity</th>\n",
              "    </tr>\n",
              "  </thead>\n",
              "  <tbody>\n",
              "    <tr>\n",
              "      <th>0</th>\n",
              "      <td>14</td>\n",
              "      <td>1335393841810202624</td>\n",
              "      <td>2020-12-06 01:21:16</td>\n",
              "      <td>dear guest there is no flight from india to s...</td>\n",
              "      <td>1</td>\n",
              "      <td>False</td>\n",
              "      <td>Saudi Arabia</td>\n",
              "      <td>en</td>\n",
              "      <td>Saudi_airlines</td>\n",
              "      <td>['', 'dear', 'guest', 'flight', 'india', 'saud...</td>\n",
              "      <td>0.900</td>\n",
              "      <td>0.600</td>\n",
              "    </tr>\n",
              "    <tr>\n",
              "      <th>1</th>\n",
              "      <td>23</td>\n",
              "      <td>1335337522738720770</td>\n",
              "      <td>2020-12-05 21:37:29</td>\n",
              "      <td>hello dear guest we hope you check and be inf...</td>\n",
              "      <td>1</td>\n",
              "      <td>False</td>\n",
              "      <td>Saudi Arabia</td>\n",
              "      <td>en</td>\n",
              "      <td>Saudi_airlines</td>\n",
              "      <td>['', 'hello', 'dear', 'guest', 'hope', 'check'...</td>\n",
              "      <td>0.375</td>\n",
              "      <td>-0.125</td>\n",
              "    </tr>\n",
              "    <tr>\n",
              "      <th>2</th>\n",
              "      <td>29</td>\n",
              "      <td>1335334320014315521</td>\n",
              "      <td>2020-12-05 21:24:45</td>\n",
              "      <td>hello dear guest please provide us with the b...</td>\n",
              "      <td>0</td>\n",
              "      <td>False</td>\n",
              "      <td>Saudi Arabia</td>\n",
              "      <td>en</td>\n",
              "      <td>Saudi_airlines</td>\n",
              "      <td>['', 'hello', 'dear', 'guest', 'please', 'prov...</td>\n",
              "      <td>0.400</td>\n",
              "      <td>0.100</td>\n",
              "    </tr>\n",
              "    <tr>\n",
              "      <th>3</th>\n",
              "      <td>38</td>\n",
              "      <td>1335322063851167748</td>\n",
              "      <td>2020-12-05 20:36:03</td>\n",
              "      <td>dear guest there is no flight from india to s...</td>\n",
              "      <td>1</td>\n",
              "      <td>False</td>\n",
              "      <td>Saudi Arabia</td>\n",
              "      <td>en</td>\n",
              "      <td>Saudi_airlines</td>\n",
              "      <td>['', 'dear', 'guest', 'flight', 'india', 'saud...</td>\n",
              "      <td>0.000</td>\n",
              "      <td>0.000</td>\n",
              "    </tr>\n",
              "    <tr>\n",
              "      <th>4</th>\n",
              "      <td>43</td>\n",
              "      <td>1335314759588122626</td>\n",
              "      <td>2020-12-05 20:07:02</td>\n",
              "      <td>hello dear guest you can follow up the flight...</td>\n",
              "      <td>1</td>\n",
              "      <td>False</td>\n",
              "      <td>Saudi Arabia</td>\n",
              "      <td>en</td>\n",
              "      <td>Saudi_airlines</td>\n",
              "      <td>['', 'hello', 'dear', 'guest', 'follow', 'flig...</td>\n",
              "      <td>0.000</td>\n",
              "      <td>0.000</td>\n",
              "    </tr>\n",
              "    <tr>\n",
              "      <th>5</th>\n",
              "      <td>50</td>\n",
              "      <td>1335306576312356865</td>\n",
              "      <td>2020-12-05 19:34:31</td>\n",
              "      <td>dear guest there is no flight from india to s...</td>\n",
              "      <td>0</td>\n",
              "      <td>False</td>\n",
              "      <td>Saudi Arabia</td>\n",
              "      <td>en</td>\n",
              "      <td>Saudi_airlines</td>\n",
              "      <td>['', 'dear', 'guest', 'flight', 'india', 'saud...</td>\n",
              "      <td>0.000</td>\n",
              "      <td>0.000</td>\n",
              "    </tr>\n",
              "    <tr>\n",
              "      <th>6</th>\n",
              "      <td>51</td>\n",
              "      <td>1335304974679613443</td>\n",
              "      <td>2020-12-05 19:28:09</td>\n",
              "      <td>hello dear valued guest once the confirmation...</td>\n",
              "      <td>1</td>\n",
              "      <td>False</td>\n",
              "      <td>Saudi Arabia</td>\n",
              "      <td>en</td>\n",
              "      <td>Saudi_airlines</td>\n",
              "      <td>['', 'hello', 'dear', 'valued', 'guest', 'conf...</td>\n",
              "      <td>0.000</td>\n",
              "      <td>0.000</td>\n",
              "    </tr>\n",
              "    <tr>\n",
              "      <th>7</th>\n",
              "      <td>53</td>\n",
              "      <td>1335276146653589507</td>\n",
              "      <td>2020-12-05 17:33:36</td>\n",
              "      <td>dear guest there is no flight from india to s...</td>\n",
              "      <td>0</td>\n",
              "      <td>False</td>\n",
              "      <td>Saudi Arabia</td>\n",
              "      <td>en</td>\n",
              "      <td>Saudi_airlines</td>\n",
              "      <td>['', 'dear', 'guest', 'flight', 'india', 'saud...</td>\n",
              "      <td>0.000</td>\n",
              "      <td>0.000</td>\n",
              "    </tr>\n",
              "    <tr>\n",
              "      <th>8</th>\n",
              "      <td>55</td>\n",
              "      <td>1335275872295804928</td>\n",
              "      <td>2020-12-05 17:32:30</td>\n",
              "      <td>dear guest there is no flight from india to s...</td>\n",
              "      <td>0</td>\n",
              "      <td>False</td>\n",
              "      <td>Saudi Arabia</td>\n",
              "      <td>en</td>\n",
              "      <td>Saudi_airlines</td>\n",
              "      <td>['', 'dear', 'guest', 'flight', 'india', 'saud...</td>\n",
              "      <td>0.000</td>\n",
              "      <td>0.000</td>\n",
              "    </tr>\n",
              "    <tr>\n",
              "      <th>9</th>\n",
              "      <td>57</td>\n",
              "      <td>1335266364739694593</td>\n",
              "      <td>2020-12-05 16:54:44</td>\n",
              "      <td>hello dear guest imran please provide us with...</td>\n",
              "      <td>0</td>\n",
              "      <td>False</td>\n",
              "      <td>Saudi Arabia</td>\n",
              "      <td>en</td>\n",
              "      <td>Saudi_airlines</td>\n",
              "      <td>['', 'hello', 'dear', 'guest', 'imran', 'pleas...</td>\n",
              "      <td>0.400</td>\n",
              "      <td>0.100</td>\n",
              "    </tr>\n",
              "  </tbody>\n",
              "</table>\n",
              "</div>"
            ],
            "text/plain": [
              "   Unnamed: 0             tweet_id  ... sentiment_confidence polarity\n",
              "0          14  1335393841810202624  ...                0.900    0.600\n",
              "1          23  1335337522738720770  ...                0.375   -0.125\n",
              "2          29  1335334320014315521  ...                0.400    0.100\n",
              "3          38  1335322063851167748  ...                0.000    0.000\n",
              "4          43  1335314759588122626  ...                0.000    0.000\n",
              "5          50  1335306576312356865  ...                0.000    0.000\n",
              "6          51  1335304974679613443  ...                0.000    0.000\n",
              "7          53  1335276146653589507  ...                0.000    0.000\n",
              "8          55  1335275872295804928  ...                0.000    0.000\n",
              "9          57  1335266364739694593  ...                0.400    0.100\n",
              "\n",
              "[10 rows x 12 columns]"
            ]
          },
          "metadata": {
            "tags": []
          },
          "execution_count": 77
        }
      ]
    },
    {
      "cell_type": "code",
      "metadata": {
        "id": "lSD5QJtu3q8b"
      },
      "source": [
        "def getPolarityPlot(polarity, airline):\n",
        "   fig, ax = plt.subplots(figsize=(8, 6))\n",
        "\n",
        "   # Plot histogram of the polarity values\n",
        "   polarity.hist(bins=[-1, -0.75, -0.5, -0.25, 0.25, 0.5, 0.75, 1],\n",
        "                 ax=ax,\n",
        "                 color=\"purple\")\n",
        "\n",
        "   plt.title(\"Sentiments from Tweets on \" +airline)\n",
        "   plt.show()"
      ],
      "execution_count": 70,
      "outputs": []
    },
    {
      "cell_type": "code",
      "metadata": {
        "colab": {
          "base_uri": "https://localhost:8080/",
          "height": 390
        },
        "id": "KIB92KhnAtZH",
        "outputId": "74c59e53-eeb7-4127-9c65-cef068d5a4f1"
      },
      "source": [
        "getPolarityPlot(saudia_airlines['polarity'], \"Saudia Airlines\")"
      ],
      "execution_count": 78,
      "outputs": [
        {
          "output_type": "display_data",
          "data": {
            "image/png": "[encoded data removed]",
            "text/plain": [
              "<Figure size 576x432 with 1 Axes>"
            ]
          },
          "metadata": {
            "tags": [],
            "needs_background": "light"
          }
        }
      ]
    },
    {
      "cell_type": "markdown",
      "metadata": {
        "id": "vYU6AbJmB-X4"
      },
      "source": [
        "it is clear that the majority of tweets have positive santiment"
      ]
    },
    {
      "cell_type": "markdown",
      "metadata": {
        "id": "gVgq2UtG7Jhz"
      },
      "source": [
        "#Classify the tweets based on polarity value "
      ]
    },
    {
      "cell_type": "code",
      "metadata": {
        "id": "zuV6H9stckZK"
      },
      "source": [
        "# Create a function to compute negative (-1), neutral (0) and positive (+1) analysis\n",
        "def getSentiment(score):\n",
        "  if score < 0:\n",
        "    return 'Negative'\n",
        "  elif score == 0:\n",
        "    return 'Neutral'\n",
        "  else:\n",
        "    return 'Positive'"
      ],
      "execution_count": 72,
      "outputs": []
    },
    {
      "cell_type": "code",
      "metadata": {
        "id": "HlKAIyINckib"
      },
      "source": [
        "saudia_airlines['sentiment'] = saudia_airlines['polarity'].apply(getSentiment)"
      ],
      "execution_count": 79,
      "outputs": []
    },
    {
      "cell_type": "code",
      "metadata": {
        "colab": {
          "base_uri": "https://localhost:8080/",
          "height": 940
        },
        "id": "3hWzAQBD-UBV",
        "outputId": "2061806d-0160-4ad7-d112-a2c11df02d9f"
      },
      "source": [
        "saudia_airlines.head(10)"
      ],
      "execution_count": 74,
      "outputs": [
        {
          "output_type": "execute_result",
          "data": {
            "text/html": [
              "<div>\n",
              "<style scoped>\n",
              "    .dataframe tbody tr th:only-of-type {\n",
              "        vertical-align: middle;\n",
              "    }\n",
              "\n",
              "    .dataframe tbody tr th {\n",
              "        vertical-align: top;\n",
              "    }\n",
              "\n",
              "    .dataframe thead th {\n",
              "        text-align: right;\n",
              "    }\n",
              "</style>\n",
              "<table border=\"1\" class=\"dataframe\">\n",
              "  <thead>\n",
              "    <tr style=\"text-align: right;\">\n",
              "      <th></th>\n",
              "      <th>Unnamed: 0</th>\n",
              "      <th>tweet_id</th>\n",
              "      <th>created_at</th>\n",
              "      <th>text</th>\n",
              "      <th>likes</th>\n",
              "      <th>retweeted</th>\n",
              "      <th>location</th>\n",
              "      <th>language</th>\n",
              "      <th>airline</th>\n",
              "      <th>Tweet_nonstop</th>\n",
              "      <th>Sentiment_confidence</th>\n",
              "      <th>Polarity</th>\n",
              "      <th>Sentiment</th>\n",
              "    </tr>\n",
              "  </thead>\n",
              "  <tbody>\n",
              "    <tr>\n",
              "      <th>0</th>\n",
              "      <td>14</td>\n",
              "      <td>1335393841810202624</td>\n",
              "      <td>2020-12-06 01:21:16</td>\n",
              "      <td>dear guest there is no flight from india to s...</td>\n",
              "      <td>1</td>\n",
              "      <td>False</td>\n",
              "      <td>Saudi Arabia</td>\n",
              "      <td>en</td>\n",
              "      <td>Saudi_airlines</td>\n",
              "      <td>['', 'dear', 'guest', 'flight', 'india', 'saud...</td>\n",
              "      <td>0.900</td>\n",
              "      <td>0.600</td>\n",
              "      <td>Positive</td>\n",
              "    </tr>\n",
              "    <tr>\n",
              "      <th>1</th>\n",
              "      <td>23</td>\n",
              "      <td>1335337522738720770</td>\n",
              "      <td>2020-12-05 21:37:29</td>\n",
              "      <td>hello dear guest we hope you check and be inf...</td>\n",
              "      <td>1</td>\n",
              "      <td>False</td>\n",
              "      <td>Saudi Arabia</td>\n",
              "      <td>en</td>\n",
              "      <td>Saudi_airlines</td>\n",
              "      <td>['', 'hello', 'dear', 'guest', 'hope', 'check'...</td>\n",
              "      <td>0.375</td>\n",
              "      <td>-0.125</td>\n",
              "      <td>Negative</td>\n",
              "    </tr>\n",
              "    <tr>\n",
              "      <th>2</th>\n",
              "      <td>29</td>\n",
              "      <td>1335334320014315521</td>\n",
              "      <td>2020-12-05 21:24:45</td>\n",
              "      <td>hello dear guest please provide us with the b...</td>\n",
              "      <td>0</td>\n",
              "      <td>False</td>\n",
              "      <td>Saudi Arabia</td>\n",
              "      <td>en</td>\n",
              "      <td>Saudi_airlines</td>\n",
              "      <td>['', 'hello', 'dear', 'guest', 'please', 'prov...</td>\n",
              "      <td>0.400</td>\n",
              "      <td>0.100</td>\n",
              "      <td>Positive</td>\n",
              "    </tr>\n",
              "    <tr>\n",
              "      <th>3</th>\n",
              "      <td>38</td>\n",
              "      <td>1335322063851167748</td>\n",
              "      <td>2020-12-05 20:36:03</td>\n",
              "      <td>dear guest there is no flight from india to s...</td>\n",
              "      <td>1</td>\n",
              "      <td>False</td>\n",
              "      <td>Saudi Arabia</td>\n",
              "      <td>en</td>\n",
              "      <td>Saudi_airlines</td>\n",
              "      <td>['', 'dear', 'guest', 'flight', 'india', 'saud...</td>\n",
              "      <td>0.000</td>\n",
              "      <td>0.000</td>\n",
              "      <td>Neutral</td>\n",
              "    </tr>\n",
              "    <tr>\n",
              "      <th>4</th>\n",
              "      <td>43</td>\n",
              "      <td>1335314759588122626</td>\n",
              "      <td>2020-12-05 20:07:02</td>\n",
              "      <td>hello dear guest you can follow up the flight...</td>\n",
              "      <td>1</td>\n",
              "      <td>False</td>\n",
              "      <td>Saudi Arabia</td>\n",
              "      <td>en</td>\n",
              "      <td>Saudi_airlines</td>\n",
              "      <td>['', 'hello', 'dear', 'guest', 'follow', 'flig...</td>\n",
              "      <td>0.000</td>\n",
              "      <td>0.000</td>\n",
              "      <td>Neutral</td>\n",
              "    </tr>\n",
              "    <tr>\n",
              "      <th>5</th>\n",
              "      <td>50</td>\n",
              "      <td>1335306576312356865</td>\n",
              "      <td>2020-12-05 19:34:31</td>\n",
              "      <td>dear guest there is no flight from india to s...</td>\n",
              "      <td>0</td>\n",
              "      <td>False</td>\n",
              "      <td>Saudi Arabia</td>\n",
              "      <td>en</td>\n",
              "      <td>Saudi_airlines</td>\n",
              "      <td>['', 'dear', 'guest', 'flight', 'india', 'saud...</td>\n",
              "      <td>0.000</td>\n",
              "      <td>0.000</td>\n",
              "      <td>Neutral</td>\n",
              "    </tr>\n",
              "    <tr>\n",
              "      <th>6</th>\n",
              "      <td>51</td>\n",
              "      <td>1335304974679613443</td>\n",
              "      <td>2020-12-05 19:28:09</td>\n",
              "      <td>hello dear valued guest once the confirmation...</td>\n",
              "      <td>1</td>\n",
              "      <td>False</td>\n",
              "      <td>Saudi Arabia</td>\n",
              "      <td>en</td>\n",
              "      <td>Saudi_airlines</td>\n",
              "      <td>['', 'hello', 'dear', 'valued', 'guest', 'conf...</td>\n",
              "      <td>0.000</td>\n",
              "      <td>0.000</td>\n",
              "      <td>Neutral</td>\n",
              "    </tr>\n",
              "    <tr>\n",
              "      <th>7</th>\n",
              "      <td>53</td>\n",
              "      <td>1335276146653589507</td>\n",
              "      <td>2020-12-05 17:33:36</td>\n",
              "      <td>dear guest there is no flight from india to s...</td>\n",
              "      <td>0</td>\n",
              "      <td>False</td>\n",
              "      <td>Saudi Arabia</td>\n",
              "      <td>en</td>\n",
              "      <td>Saudi_airlines</td>\n",
              "      <td>['', 'dear', 'guest', 'flight', 'india', 'saud...</td>\n",
              "      <td>0.000</td>\n",
              "      <td>0.000</td>\n",
              "      <td>Neutral</td>\n",
              "    </tr>\n",
              "    <tr>\n",
              "      <th>8</th>\n",
              "      <td>55</td>\n",
              "      <td>1335275872295804928</td>\n",
              "      <td>2020-12-05 17:32:30</td>\n",
              "      <td>dear guest there is no flight from india to s...</td>\n",
              "      <td>0</td>\n",
              "      <td>False</td>\n",
              "      <td>Saudi Arabia</td>\n",
              "      <td>en</td>\n",
              "      <td>Saudi_airlines</td>\n",
              "      <td>['', 'dear', 'guest', 'flight', 'india', 'saud...</td>\n",
              "      <td>0.000</td>\n",
              "      <td>0.000</td>\n",
              "      <td>Neutral</td>\n",
              "    </tr>\n",
              "    <tr>\n",
              "      <th>9</th>\n",
              "      <td>57</td>\n",
              "      <td>1335266364739694593</td>\n",
              "      <td>2020-12-05 16:54:44</td>\n",
              "      <td>hello dear guest imran please provide us with...</td>\n",
              "      <td>0</td>\n",
              "      <td>False</td>\n",
              "      <td>Saudi Arabia</td>\n",
              "      <td>en</td>\n",
              "      <td>Saudi_airlines</td>\n",
              "      <td>['', 'hello', 'dear', 'guest', 'imran', 'pleas...</td>\n",
              "      <td>0.400</td>\n",
              "      <td>0.100</td>\n",
              "      <td>Positive</td>\n",
              "    </tr>\n",
              "  </tbody>\n",
              "</table>\n",
              "</div>"
            ],
            "text/plain": [
              "   Unnamed: 0             tweet_id  ... Polarity Sentiment\n",
              "0          14  1335393841810202624  ...    0.600  Positive\n",
              "1          23  1335337522738720770  ...   -0.125  Negative\n",
              "2          29  1335334320014315521  ...    0.100  Positive\n",
              "3          38  1335322063851167748  ...    0.000   Neutral\n",
              "4          43  1335314759588122626  ...    0.000   Neutral\n",
              "5          50  1335306576312356865  ...    0.000   Neutral\n",
              "6          51  1335304974679613443  ...    0.000   Neutral\n",
              "7          53  1335276146653589507  ...    0.000   Neutral\n",
              "8          55  1335275872295804928  ...    0.000   Neutral\n",
              "9          57  1335266364739694593  ...    0.100  Positive\n",
              "\n",
              "[10 rows x 13 columns]"
            ]
          },
          "metadata": {
            "tags": []
          },
          "execution_count": 74
        }
      ]
    },
    {
      "cell_type": "markdown",
      "metadata": {
        "id": "BJfybfV9DmGc"
      },
      "source": [
        "# visualizing the seniment"
      ]
    },
    {
      "cell_type": "code",
      "metadata": {
        "id": "CzgWwPWEDUNG"
      },
      "source": [
        "# Data balance\n",
        "def createPieChartFor(t_df):\n",
        "    Lst = 100*t_df.value_counts()/len(t_df)\n",
        "    \n",
        "    # set data for pie chart\n",
        "    labels = t_df.value_counts().index.values\n",
        "    sizes =  Lst \n",
        "    \n",
        "    # set labels\n",
        "    fig1, ax1 = plt.subplots()\n",
        "    ax1.pie(sizes, labels=labels, autopct='%1.2f%%', shadow=True, startangle=90)\n",
        "    ax1.axis('equal')  # Equal aspect ratio ensures that pie is drawn as a circle.\n",
        "    plt.show()"
      ],
      "execution_count": 80,
      "outputs": []
    },
    {
      "cell_type": "code",
      "metadata": {
        "colab": {
          "base_uri": "https://localhost:8080/",
          "height": 250
        },
        "id": "0yMA61_x_iE_",
        "outputId": "2582f5f6-858c-4141-e3b0-42537619ad43"
      },
      "source": [
        "createPieChartFor(saudia_airlines.sentiment)"
      ],
      "execution_count": 81,
      "outputs": [
        {
          "output_type": "display_data",
          "data": {
            "image/png": "[encoded data removed]",
            "text/plain": [
              "<Figure size 432x288 with 1 Axes>"
            ]
          },
          "metadata": {
            "tags": []
          }
        }
      ]
    },
    {
      "cell_type": "markdown",
      "metadata": {
        "id": "gSfTYMUxA-Ev"
      },
      "source": [
        "#Save the data set"
      ]
    },
    {
      "cell_type": "code",
      "metadata": {
        "id": "VE4eV649BAqx"
      },
      "source": [
        "saudia_airlines.to_csv('saudia_airlines_classified.csv')\n",
        "!cp saudia_airlines_classified.csv \"./gdrive/My Drive/datasets/twitter_analysis/\""
      ],
      "execution_count": 86,
      "outputs": []
    }
  ]
}