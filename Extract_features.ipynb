{
  "nbformat": 4,
  "nbformat_minor": 0,
  "metadata": {
    "colab": {
      "name": "Extract_features.ipynb",
      "provenance": [],
      "collapsed_sections": [],
      "authorship_tag": "ABX9TyMOVFNiESfprMdKa/6uJYp/",
      "include_colab_link": true
    },
    "kernelspec": {
      "name": "python3",
      "display_name": "Python 3"
    }
  },
  "cells": [
    {
      "cell_type": "markdown",
      "metadata": {
        "id": "view-in-github",
        "colab_type": "text"
      },
      "source": [
        "<a href=\"https://colab.research.google.com/github/buthaina279/DS_Capstone_NLP/blob/main/Extract_features.ipynb\" target=\"_parent\"><img src=\"https://colab.research.google.com/assets/colab-badge.svg\" alt=\"Open In Colab\"/></a>"
      ]
    },
    {
      "cell_type": "code",
      "metadata": {
        "id": "sOdukwzK4jTR"
      },
      "source": [
        "import matplotlib.pyplot as plt\n",
        "import pandas as pd\n",
        "import numpy as np\n",
        "import seaborn as sns\n",
        "import os\n",
        "from google.colab import drive  \n",
        "\n",
        "import re\n",
        "import nltk\n",
        "from nltk.corpus import stopwords\n",
        "\n",
        "from sklearn.feature_extraction.text import TfidfVectorizer\n",
        "\n",
        "from sklearn import metrics\n",
        "\n",
        "from sklearn.metrics import accuracy_score, classification_report\n",
        "\n",
        "from sklearn.tree import DecisionTreeClassifier\n",
        "from sklearn.naive_bayes import MultinomialNB\n",
        "from sklearn.ensemble import RandomForestClassifier\n",
        "from sklearn.neighbors import KNeighborsClassifier\n",
        "from sklearn.linear_model import LogisticRegression\n",
        "from sklearn.preprocessing import LabelEncoder\n",
        "\n",
        "\n",
        "from sklearn.model_selection import train_test_split\n",
        "from sklearn.preprocessing import OneHotEncoder\n",
        "from sklearn.compose import ColumnTransformer\n",
        "import itertools\n"
      ],
      "execution_count": 40,
      "outputs": []
    },
    {
      "cell_type": "code",
      "metadata": {
        "colab": {
          "base_uri": "https://localhost:8080/"
        },
        "id": "P5NkcKWD4tzu",
        "outputId": "5148757e-29ca-4911-e15a-e6dd95638f52"
      },
      "source": [
        "# Connect Google Drive to Colab\n",
        "drive.mount('/content/gdrive')\n",
        "# Create a variable to store the data path on your drive\n",
        "path = './gdrive/My Drive/datasets/new_datasets'"
      ],
      "execution_count": 41,
      "outputs": [
        {
          "output_type": "stream",
          "text": [
            "Drive already mounted at /content/gdrive; to attempt to forcibly remount, call drive.mount(\"/content/gdrive\", force_remount=True).\n"
          ],
          "name": "stdout"
        }
      ]
    },
    {
      "cell_type": "code",
      "metadata": {
        "id": "vtqNACeR4wqC"
      },
      "source": [
        "airline = pd.read_csv(\"./gdrive/My Drive/datasets/new_datasets/airline_classified.csv\")"
      ],
      "execution_count": 65,
      "outputs": []
    },
    {
      "cell_type": "code",
      "metadata": {
        "colab": {
          "base_uri": "https://localhost:8080/",
          "height": 530
        },
        "id": "1_-S8t0r4y_B",
        "outputId": "8d15258b-5f2a-4bff-97e9-b611cb6ff2c2"
      },
      "source": [
        "airline.sample(5)"
      ],
      "execution_count": 66,
      "outputs": [
        {
          "output_type": "execute_result",
          "data": {
            "text/html": [
              "<div>\n",
              "<style scoped>\n",
              "    .dataframe tbody tr th:only-of-type {\n",
              "        vertical-align: middle;\n",
              "    }\n",
              "\n",
              "    .dataframe tbody tr th {\n",
              "        vertical-align: top;\n",
              "    }\n",
              "\n",
              "    .dataframe thead th {\n",
              "        text-align: right;\n",
              "    }\n",
              "</style>\n",
              "<table border=\"1\" class=\"dataframe\">\n",
              "  <thead>\n",
              "    <tr style=\"text-align: right;\">\n",
              "      <th></th>\n",
              "      <th>Unnamed: 0</th>\n",
              "      <th>Unnamed: 0.1</th>\n",
              "      <th>tweet_id</th>\n",
              "      <th>created_at</th>\n",
              "      <th>text</th>\n",
              "      <th>likes</th>\n",
              "      <th>retweeted</th>\n",
              "      <th>location</th>\n",
              "      <th>language</th>\n",
              "      <th>airline</th>\n",
              "      <th>string_text</th>\n",
              "      <th>subjectivity</th>\n",
              "      <th>polarity</th>\n",
              "      <th>sentiment</th>\n",
              "      <th>reason</th>\n",
              "    </tr>\n",
              "  </thead>\n",
              "  <tbody>\n",
              "    <tr>\n",
              "      <th>124</th>\n",
              "      <td>275</td>\n",
              "      <td>44</td>\n",
              "      <td>1336613386000490496</td>\n",
              "      <td>2020-12-09 10:07:18</td>\n",
              "      <td>['fantastic', 'service', 'virginatlantic', 'ca...</td>\n",
              "      <td>0</td>\n",
              "      <td>False</td>\n",
              "      <td>NaN</td>\n",
              "      <td>en</td>\n",
              "      <td>Virgin Atlantic</td>\n",
              "      <td>fantastic service virginatlantic cancelled fli...</td>\n",
              "      <td>0.900000</td>\n",
              "      <td>0.400000</td>\n",
              "      <td>Positive</td>\n",
              "      <td>['better']</td>\n",
              "    </tr>\n",
              "    <tr>\n",
              "      <th>106</th>\n",
              "      <td>252</td>\n",
              "      <td>11</td>\n",
              "      <td>1337081847956824064</td>\n",
              "      <td>2020-12-10 17:08:48</td>\n",
              "      <td>['virgin', 'sell', 'reality', 'dramatic', 'ope...</td>\n",
              "      <td>0</td>\n",
              "      <td>False</td>\n",
              "      <td>NaN</td>\n",
              "      <td>en</td>\n",
              "      <td>Virgin Atlantic</td>\n",
              "      <td>virgin sell reality dramatic opening suggests ...</td>\n",
              "      <td>0.600000</td>\n",
              "      <td>-0.433333</td>\n",
              "      <td>Negative</td>\n",
              "      <td>['early', 'light']</td>\n",
              "    </tr>\n",
              "    <tr>\n",
              "      <th>557</th>\n",
              "      <td>1268</td>\n",
              "      <td>543</td>\n",
              "      <td>1333831638669733889</td>\n",
              "      <td>2020-12-01 17:53:38</td>\n",
              "      <td>['airway', 'covid', 'hard', 'airline', 'britis...</td>\n",
              "      <td>0</td>\n",
              "      <td>False</td>\n",
              "      <td>NaN</td>\n",
              "      <td>en</td>\n",
              "      <td>British airways</td>\n",
              "      <td>airway covid hard airline britishairways simul...</td>\n",
              "      <td>0.541667</td>\n",
              "      <td>-0.291667</td>\n",
              "      <td>Negative</td>\n",
              "      <td>NaN</td>\n",
              "    </tr>\n",
              "    <tr>\n",
              "      <th>63</th>\n",
              "      <td>170</td>\n",
              "      <td>142</td>\n",
              "      <td>1335271356070383621</td>\n",
              "      <td>2020-12-05 17:14:34</td>\n",
              "      <td>['photo', 'full', 'flight', 'donotflyunited', ...</td>\n",
              "      <td>1</td>\n",
              "      <td>False</td>\n",
              "      <td>New York, NY</td>\n",
              "      <td>en</td>\n",
              "      <td>United Airlines</td>\n",
              "      <td>photo full flight donotflyunited pandemic pand...</td>\n",
              "      <td>0.550000</td>\n",
              "      <td>0.350000</td>\n",
              "      <td>Positive</td>\n",
              "      <td>['best']</td>\n",
              "    </tr>\n",
              "    <tr>\n",
              "      <th>315</th>\n",
              "      <td>705</td>\n",
              "      <td>196</td>\n",
              "      <td>1336472317153734656</td>\n",
              "      <td>2020-12-09 00:46:45</td>\n",
              "      <td>['qatarairways', 'pleased', 'announce', 'frequ...</td>\n",
              "      <td>0</td>\n",
              "      <td>False</td>\n",
              "      <td>Duino-Aurisina, Friuli-Venezia</td>\n",
              "      <td>en</td>\n",
              "      <td>Qatar airways</td>\n",
              "      <td>qatarairways pleased announce frequent flyer p...</td>\n",
              "      <td>0.650000</td>\n",
              "      <td>0.300000</td>\n",
              "      <td>Positive</td>\n",
              "      <td>['nice', 'nice']</td>\n",
              "    </tr>\n",
              "  </tbody>\n",
              "</table>\n",
              "</div>"
            ],
            "text/plain": [
              "     Unnamed: 0  Unnamed: 0.1  ...  sentiment              reason\n",
              "124         275            44  ...   Positive          ['better']\n",
              "106         252            11  ...   Negative  ['early', 'light']\n",
              "557        1268           543  ...   Negative                 NaN\n",
              "63          170           142  ...   Positive            ['best']\n",
              "315         705           196  ...   Positive    ['nice', 'nice']\n",
              "\n",
              "[5 rows x 15 columns]"
            ]
          },
          "metadata": {
            "tags": []
          },
          "execution_count": 66
        }
      ]
    },
    {
      "cell_type": "code",
      "metadata": {
        "colab": {
          "base_uri": "https://localhost:8080/"
        },
        "id": "POySdL_O41jF",
        "outputId": "0ae5e5b4-fb8c-4b6c-8827-a637b0e0f31b"
      },
      "source": [
        "airline.columns"
      ],
      "execution_count": 67,
      "outputs": [
        {
          "output_type": "execute_result",
          "data": {
            "text/plain": [
              "Index(['Unnamed: 0', 'Unnamed: 0.1', 'tweet_id', 'created_at', 'text', 'likes',\n",
              "       'retweeted', 'location', 'language', 'airline', 'string_text',\n",
              "       'subjectivity', 'polarity', 'sentiment', 'reason'],\n",
              "      dtype='object')"
            ]
          },
          "metadata": {
            "tags": []
          },
          "execution_count": 67
        }
      ]
    },
    {
      "cell_type": "code",
      "metadata": {
        "colab": {
          "base_uri": "https://localhost:8080/"
        },
        "id": "VzmZvcnv45R0",
        "outputId": "7f6c6ad7-4ab5-4deb-b7e2-db7296e9eb8d"
      },
      "source": [
        "airline.isna().sum()"
      ],
      "execution_count": 68,
      "outputs": [
        {
          "output_type": "execute_result",
          "data": {
            "text/plain": [
              "Unnamed: 0        0\n",
              "Unnamed: 0.1      0\n",
              "tweet_id          0\n",
              "created_at        0\n",
              "text              0\n",
              "likes             0\n",
              "retweeted         0\n",
              "location        192\n",
              "language          0\n",
              "airline           0\n",
              "string_text       0\n",
              "subjectivity      0\n",
              "polarity          0\n",
              "sentiment         0\n",
              "reason          436\n",
              "dtype: int64"
            ]
          },
          "metadata": {
            "tags": []
          },
          "execution_count": 68
        }
      ]
    },
    {
      "cell_type": "markdown",
      "metadata": {
        "id": "0q6jTcyd4_fD"
      },
      "source": [
        "#Extract features\n",
        "\n",
        "Extract features from each tweet and create a column for each feature, this represented by 0 (did not find the feature) and 1 (found the feature)."
      ]
    },
    {
      "cell_type": "code",
      "metadata": {
        "id": "2__wJ5D16H2u"
      },
      "source": [
        "#test\n",
        "text_list = ['changi', 'ready', 'vaccine', 'distribution', 'asia', 'singapore', 'cargo', 'gear', 'safe', 'transportation']\n",
        "keyword_list = ['see']\n",
        "for i in text_list:\n",
        "  if i in keyword_list:\n",
        "    print(\"yes\") if word == 'safe' else print(\"no\")"
      ],
      "execution_count": 7,
      "outputs": []
    },
    {
      "cell_type": "code",
      "metadata": {
        "id": "DkSE2Q9B47Y-"
      },
      "source": [
        "#transfom from str to list\n",
        "airline['text'] = airline['text'].apply(eval)"
      ],
      "execution_count": 69,
      "outputs": []
    },
    {
      "cell_type": "code",
      "metadata": {
        "id": "BK9gjn6P5H8M"
      },
      "source": [
        "#feature: column name\n",
        "#keyword_list: for that feature \n",
        "def getfeatures(feature, keyword_list):\n",
        "  for index, airline_list in enumerate(airline['text']):\n",
        "    if any(word in airline_list for word in keyword_list):\n",
        "      airline[feature][index] = 1 \n",
        "    else:\n",
        "      airline[feature][index] = 0\n",
        "  return airline"
      ],
      "execution_count": 70,
      "outputs": []
    },
    {
      "cell_type": "code",
      "metadata": {
        "colab": {
          "base_uri": "https://localhost:8080/"
        },
        "id": "M5_qHjRK5LnT",
        "outputId": "3abd6205-c04a-4bb2-bc2a-4a965aa60da2"
      },
      "source": [
        "airline['cancel'] = ''\n",
        "keyword_list = ['canceled', 'cancellation']\n",
        "airline = getfeatures('cancel', keyword_list)"
      ],
      "execution_count": 71,
      "outputs": [
        {
          "output_type": "stream",
          "text": [
            "/usr/local/lib/python3.6/dist-packages/ipykernel_launcher.py:8: SettingWithCopyWarning: \n",
            "A value is trying to be set on a copy of a slice from a DataFrame\n",
            "\n",
            "See the caveats in the documentation: https://pandas.pydata.org/pandas-docs/stable/user_guide/indexing.html#returning-a-view-versus-a-copy\n",
            "  \n",
            "/usr/local/lib/python3.6/dist-packages/ipykernel_launcher.py:6: SettingWithCopyWarning: \n",
            "A value is trying to be set on a copy of a slice from a DataFrame\n",
            "\n",
            "See the caveats in the documentation: https://pandas.pydata.org/pandas-docs/stable/user_guide/indexing.html#returning-a-view-versus-a-copy\n",
            "  \n"
          ],
          "name": "stderr"
        }
      ]
    },
    {
      "cell_type": "code",
      "metadata": {
        "colab": {
          "base_uri": "https://localhost:8080/"
        },
        "id": "OoICcBmK5N4j",
        "outputId": "80b66396-527c-4ce7-9cb3-32dca06e5b74"
      },
      "source": [
        "airline['staff'] = ''\n",
        "keyword_list = ['staff', 'crew', 'team', 'agent', 'personnel', 'worker', 'workforce', 'employee', 'group']\n",
        "airline = getfeatures('staff', keyword_list)"
      ],
      "execution_count": 72,
      "outputs": [
        {
          "output_type": "stream",
          "text": [
            "/usr/local/lib/python3.6/dist-packages/ipykernel_launcher.py:8: SettingWithCopyWarning: \n",
            "A value is trying to be set on a copy of a slice from a DataFrame\n",
            "\n",
            "See the caveats in the documentation: https://pandas.pydata.org/pandas-docs/stable/user_guide/indexing.html#returning-a-view-versus-a-copy\n",
            "  \n",
            "/usr/local/lib/python3.6/dist-packages/ipykernel_launcher.py:6: SettingWithCopyWarning: \n",
            "A value is trying to be set on a copy of a slice from a DataFrame\n",
            "\n",
            "See the caveats in the documentation: https://pandas.pydata.org/pandas-docs/stable/user_guide/indexing.html#returning-a-view-versus-a-copy\n",
            "  \n"
          ],
          "name": "stderr"
        }
      ]
    },
    {
      "cell_type": "code",
      "metadata": {
        "colab": {
          "base_uri": "https://localhost:8080/"
        },
        "id": "n8NeSJFI5QZm",
        "outputId": "3da87a85-c1e5-4a15-d145-f86430a41dbf"
      },
      "source": [
        "airline['flight'] = ''\n",
        "keyword_list = ['flight', 'aviation', 'transport']\n",
        "airline = getfeatures('flight', keyword_list)"
      ],
      "execution_count": 73,
      "outputs": [
        {
          "output_type": "stream",
          "text": [
            "/usr/local/lib/python3.6/dist-packages/ipykernel_launcher.py:8: SettingWithCopyWarning: \n",
            "A value is trying to be set on a copy of a slice from a DataFrame\n",
            "\n",
            "See the caveats in the documentation: https://pandas.pydata.org/pandas-docs/stable/user_guide/indexing.html#returning-a-view-versus-a-copy\n",
            "  \n",
            "/usr/local/lib/python3.6/dist-packages/ipykernel_launcher.py:6: SettingWithCopyWarning: \n",
            "A value is trying to be set on a copy of a slice from a DataFrame\n",
            "\n",
            "See the caveats in the documentation: https://pandas.pydata.org/pandas-docs/stable/user_guide/indexing.html#returning-a-view-versus-a-copy\n",
            "  \n"
          ],
          "name": "stderr"
        }
      ]
    },
    {
      "cell_type": "code",
      "metadata": {
        "colab": {
          "base_uri": "https://localhost:8080/"
        },
        "id": "jWBtz4N65Q9z",
        "outputId": "bbe6a8e6-2b06-4221-f8e6-e206a6482c9b"
      },
      "source": [
        "airline['cost'] = ''\n",
        "keyword_list = ['cost', 'money', 'price', 'expensive', 'cheap','deal', 'offer', 'dollars', 'overpriced', 'underpriced'$,\n",
        "                'expense', 'charge', 'value', 'expenditure','cash']\n",
        "airline = getfeatures('cost', keyword_list)"
      ],
      "execution_count": 74,
      "outputs": [
        {
          "output_type": "stream",
          "text": [
            "/usr/local/lib/python3.6/dist-packages/ipykernel_launcher.py:8: SettingWithCopyWarning: \n",
            "A value is trying to be set on a copy of a slice from a DataFrame\n",
            "\n",
            "See the caveats in the documentation: https://pandas.pydata.org/pandas-docs/stable/user_guide/indexing.html#returning-a-view-versus-a-copy\n",
            "  \n",
            "/usr/local/lib/python3.6/dist-packages/ipykernel_launcher.py:6: SettingWithCopyWarning: \n",
            "A value is trying to be set on a copy of a slice from a DataFrame\n",
            "\n",
            "See the caveats in the documentation: https://pandas.pydata.org/pandas-docs/stable/user_guide/indexing.html#returning-a-view-versus-a-copy\n",
            "  \n"
          ],
          "name": "stderr"
        }
      ]
    },
    {
      "cell_type": "code",
      "metadata": {
        "colab": {
          "base_uri": "https://localhost:8080/"
        },
        "id": "CLeKCJMj5S6I",
        "outputId": "f8a7f39b-8bc0-442c-812b-31594249ed84"
      },
      "source": [
        "airline['refund'] = ''\n",
        "keyword_list = ['refund', 'return', 'repayment', 'pay', 'give', 'back', 'repaid']\n",
        "airline = getfeatures('refund', keyword_list)"
      ],
      "execution_count": 75,
      "outputs": [
        {
          "output_type": "stream",
          "text": [
            "/usr/local/lib/python3.6/dist-packages/ipykernel_launcher.py:8: SettingWithCopyWarning: \n",
            "A value is trying to be set on a copy of a slice from a DataFrame\n",
            "\n",
            "See the caveats in the documentation: https://pandas.pydata.org/pandas-docs/stable/user_guide/indexing.html#returning-a-view-versus-a-copy\n",
            "  \n",
            "/usr/local/lib/python3.6/dist-packages/ipykernel_launcher.py:6: SettingWithCopyWarning: \n",
            "A value is trying to be set on a copy of a slice from a DataFrame\n",
            "\n",
            "See the caveats in the documentation: https://pandas.pydata.org/pandas-docs/stable/user_guide/indexing.html#returning-a-view-versus-a-copy\n",
            "  \n"
          ],
          "name": "stderr"
        }
      ]
    },
    {
      "cell_type": "code",
      "metadata": {
        "colab": {
          "base_uri": "https://localhost:8080/"
        },
        "id": "GeMbxIuB5UtI",
        "outputId": "a14dad96-7e19-410c-e534-9ffc7f2c8350"
      },
      "source": [
        "airline['customrt service'] = ''\n",
        "keyword_list = ['service', 'customer', 'client', 'care', 'support', 'assistance','friendly']\n",
        "airline = getfeatures('customrt service', keyword_list)"
      ],
      "execution_count": 76,
      "outputs": [
        {
          "output_type": "stream",
          "text": [
            "/usr/local/lib/python3.6/dist-packages/ipykernel_launcher.py:8: SettingWithCopyWarning: \n",
            "A value is trying to be set on a copy of a slice from a DataFrame\n",
            "\n",
            "See the caveats in the documentation: https://pandas.pydata.org/pandas-docs/stable/user_guide/indexing.html#returning-a-view-versus-a-copy\n",
            "  \n",
            "/usr/local/lib/python3.6/dist-packages/ipykernel_launcher.py:6: SettingWithCopyWarning: \n",
            "A value is trying to be set on a copy of a slice from a DataFrame\n",
            "\n",
            "See the caveats in the documentation: https://pandas.pydata.org/pandas-docs/stable/user_guide/indexing.html#returning-a-view-versus-a-copy\n",
            "  \n"
          ],
          "name": "stderr"
        }
      ]
    },
    {
      "cell_type": "code",
      "metadata": {
        "colab": {
          "base_uri": "https://localhost:8080/"
        },
        "id": "KovpqqPd5Wk8",
        "outputId": "eda05195-fe50-4ef2-ad72-4effcdb486f3"
      },
      "source": [
        "airline['experience'] = ''\n",
        "keyword_list = ['experience','undergo']\n",
        "airline = getfeatures('experience', keyword_list)"
      ],
      "execution_count": 77,
      "outputs": [
        {
          "output_type": "stream",
          "text": [
            "/usr/local/lib/python3.6/dist-packages/ipykernel_launcher.py:8: SettingWithCopyWarning: \n",
            "A value is trying to be set on a copy of a slice from a DataFrame\n",
            "\n",
            "See the caveats in the documentation: https://pandas.pydata.org/pandas-docs/stable/user_guide/indexing.html#returning-a-view-versus-a-copy\n",
            "  \n",
            "/usr/local/lib/python3.6/dist-packages/ipykernel_launcher.py:6: SettingWithCopyWarning: \n",
            "A value is trying to be set on a copy of a slice from a DataFrame\n",
            "\n",
            "See the caveats in the documentation: https://pandas.pydata.org/pandas-docs/stable/user_guide/indexing.html#returning-a-view-versus-a-copy\n",
            "  \n"
          ],
          "name": "stderr"
        }
      ]
    },
    {
      "cell_type": "code",
      "metadata": {
        "colab": {
          "base_uri": "https://localhost:8080/",
          "height": 547
        },
        "id": "cjKbPRZn5YL1",
        "outputId": "65aa810c-22ef-4abb-b32d-b23fc518e92b"
      },
      "source": [
        "airline.sample(5)"
      ],
      "execution_count": 78,
      "outputs": [
        {
          "output_type": "execute_result",
          "data": {
            "text/html": [
              "<div>\n",
              "<style scoped>\n",
              "    .dataframe tbody tr th:only-of-type {\n",
              "        vertical-align: middle;\n",
              "    }\n",
              "\n",
              "    .dataframe tbody tr th {\n",
              "        vertical-align: top;\n",
              "    }\n",
              "\n",
              "    .dataframe thead th {\n",
              "        text-align: right;\n",
              "    }\n",
              "</style>\n",
              "<table border=\"1\" class=\"dataframe\">\n",
              "  <thead>\n",
              "    <tr style=\"text-align: right;\">\n",
              "      <th></th>\n",
              "      <th>Unnamed: 0</th>\n",
              "      <th>Unnamed: 0.1</th>\n",
              "      <th>tweet_id</th>\n",
              "      <th>created_at</th>\n",
              "      <th>text</th>\n",
              "      <th>likes</th>\n",
              "      <th>retweeted</th>\n",
              "      <th>location</th>\n",
              "      <th>language</th>\n",
              "      <th>airline</th>\n",
              "      <th>string_text</th>\n",
              "      <th>subjectivity</th>\n",
              "      <th>polarity</th>\n",
              "      <th>sentiment</th>\n",
              "      <th>reason</th>\n",
              "      <th>cancel</th>\n",
              "      <th>staff</th>\n",
              "      <th>flight</th>\n",
              "      <th>cost</th>\n",
              "      <th>refund</th>\n",
              "      <th>customrt service</th>\n",
              "      <th>experience</th>\n",
              "    </tr>\n",
              "  </thead>\n",
              "  <tbody>\n",
              "    <tr>\n",
              "      <th>202</th>\n",
              "      <td>451</td>\n",
              "      <td>134</td>\n",
              "      <td>1336247169662263296</td>\n",
              "      <td>2020-12-08 09:52:06</td>\n",
              "      <td>[mwah, comeback, great, turkishairlines, turki...</td>\n",
              "      <td>0</td>\n",
              "      <td>False</td>\n",
              "      <td>NaN</td>\n",
              "      <td>en</td>\n",
              "      <td>Turkish airlines</td>\n",
              "      <td>mwah comeback great turkishairlines turkishair...</td>\n",
              "      <td>0.750000</td>\n",
              "      <td>0.800000</td>\n",
              "      <td>Positive</td>\n",
              "      <td>['behind']</td>\n",
              "      <td>0</td>\n",
              "      <td>0</td>\n",
              "      <td>0</td>\n",
              "      <td>0</td>\n",
              "      <td>0</td>\n",
              "      <td>0</td>\n",
              "      <td>0</td>\n",
              "    </tr>\n",
              "    <tr>\n",
              "      <th>247</th>\n",
              "      <td>566</td>\n",
              "      <td>32</td>\n",
              "      <td>1335164076079501312</td>\n",
              "      <td>2020-12-05 10:08:16</td>\n",
              "      <td>[coronavirus, singapore, airline, ready, fleet...</td>\n",
              "      <td>1</td>\n",
              "      <td>False</td>\n",
              "      <td>San Francisco, singapore</td>\n",
              "      <td>en</td>\n",
              "      <td>Singapor airlines</td>\n",
              "      <td>coronavirus singapore airline ready fleet ship...</td>\n",
              "      <td>0.500000</td>\n",
              "      <td>0.200000</td>\n",
              "      <td>Positive</td>\n",
              "      <td>['best', 'best']</td>\n",
              "      <td>0</td>\n",
              "      <td>0</td>\n",
              "      <td>0</td>\n",
              "      <td>0</td>\n",
              "      <td>0</td>\n",
              "      <td>0</td>\n",
              "      <td>0</td>\n",
              "    </tr>\n",
              "    <tr>\n",
              "      <th>250</th>\n",
              "      <td>570</td>\n",
              "      <td>37</td>\n",
              "      <td>1334701348059635712</td>\n",
              "      <td>2020-12-04 03:29:33</td>\n",
              "      <td>[singapore, airline, singapore, airline, expen...</td>\n",
              "      <td>0</td>\n",
              "      <td>False</td>\n",
              "      <td>Paris, France</td>\n",
              "      <td>en</td>\n",
              "      <td>Singapor airlines</td>\n",
              "      <td>singapore airline singapore airline expensive ...</td>\n",
              "      <td>0.700000</td>\n",
              "      <td>-0.500000</td>\n",
              "      <td>Negative</td>\n",
              "      <td>['ready']</td>\n",
              "      <td>0</td>\n",
              "      <td>0</td>\n",
              "      <td>0</td>\n",
              "      <td>1</td>\n",
              "      <td>0</td>\n",
              "      <td>0</td>\n",
              "      <td>0</td>\n",
              "    </tr>\n",
              "    <tr>\n",
              "      <th>18</th>\n",
              "      <td>61</td>\n",
              "      <td>633</td>\n",
              "      <td>1333819527759622144</td>\n",
              "      <td>2020-12-01 17:05:31</td>\n",
              "      <td>[iran, foreign, minister, zarif, desperate, bl...</td>\n",
              "      <td>0</td>\n",
              "      <td>False</td>\n",
              "      <td>مملكة البحرين</td>\n",
              "      <td>en</td>\n",
              "      <td>Saudia airlines</td>\n",
              "      <td>iran foreign minister zarif desperate blame ki...</td>\n",
              "      <td>0.508333</td>\n",
              "      <td>-0.341667</td>\n",
              "      <td>Negative</td>\n",
              "      <td>['empty']</td>\n",
              "      <td>0</td>\n",
              "      <td>0</td>\n",
              "      <td>0</td>\n",
              "      <td>0</td>\n",
              "      <td>0</td>\n",
              "      <td>0</td>\n",
              "      <td>0</td>\n",
              "    </tr>\n",
              "    <tr>\n",
              "      <th>171</th>\n",
              "      <td>377</td>\n",
              "      <td>257</td>\n",
              "      <td>1334650543902400513</td>\n",
              "      <td>2020-12-04 00:07:40</td>\n",
              "      <td>[remember, flying, barbarella, ruby, tuesday, ...</td>\n",
              "      <td>4</td>\n",
              "      <td>False</td>\n",
              "      <td>New Mexico</td>\n",
              "      <td>en</td>\n",
              "      <td>Virgin Atlantic</td>\n",
              "      <td>remember flying barbarella ruby tuesday surely...</td>\n",
              "      <td>0.888889</td>\n",
              "      <td>0.500000</td>\n",
              "      <td>Positive</td>\n",
              "      <td>['unique', 'extraordinary']</td>\n",
              "      <td>0</td>\n",
              "      <td>0</td>\n",
              "      <td>0</td>\n",
              "      <td>0</td>\n",
              "      <td>0</td>\n",
              "      <td>0</td>\n",
              "      <td>0</td>\n",
              "    </tr>\n",
              "  </tbody>\n",
              "</table>\n",
              "</div>"
            ],
            "text/plain": [
              "     Unnamed: 0  Unnamed: 0.1  ...  customrt service experience\n",
              "202         451           134  ...                 0          0\n",
              "247         566            32  ...                 0          0\n",
              "250         570            37  ...                 0          0\n",
              "18           61           633  ...                 0          0\n",
              "171         377           257  ...                 0          0\n",
              "\n",
              "[5 rows x 22 columns]"
            ]
          },
          "metadata": {
            "tags": []
          },
          "execution_count": 78
        }
      ]
    },
    {
      "cell_type": "markdown",
      "metadata": {
        "id": "8bF6VhhV5ifV"
      },
      "source": [
        "#Count how many 1's in each features' column "
      ]
    },
    {
      "cell_type": "code",
      "metadata": {
        "id": "aMCmbTfvXIj-"
      },
      "source": [
        "color_list = [ '#d73027',\n",
        "              '#1a9850']"
      ],
      "execution_count": 56,
      "outputs": []
    },
    {
      "cell_type": "code",
      "metadata": {
        "colab": {
          "base_uri": "https://localhost:8080/",
          "height": 285
        },
        "id": "xKnbSstS5avo",
        "outputId": "a14fff0a-46b2-4c00-f8ba-0f9e5ca2eed7"
      },
      "source": [
        "#add airline as well or you mighr do this in EDA and here just count how many one's do you have \n",
        "sns.set_theme(style=\"whitegrid\")\n",
        "ax = sns.countplot(x=\"cancel\",data=airline,palette= color_list )"
      ],
      "execution_count": 57,
      "outputs": [
        {
          "output_type": "display_data",
          "data": {
            "image/png": "[encoded data removed]",
            "text/plain": [
              "<Figure size 432x288 with 1 Axes>"
            ]
          },
          "metadata": {
            "tags": []
          }
        }
      ]
    },
    {
      "cell_type": "code",
      "metadata": {
        "colab": {
          "base_uri": "https://localhost:8080/",
          "height": 288
        },
        "id": "bwQ5dOIL5wGE",
        "outputId": "46273453-fe8d-4033-d54f-f9be2eb0ce74"
      },
      "source": [
        "sns.set_theme(style=\"whitegrid\")\n",
        "ax = sns.countplot(x=\"staff\",data=airline,palette= color_list)"
      ],
      "execution_count": 58,
      "outputs": [
        {
          "output_type": "display_data",
          "data": {
            "image/png": "[encoded data removed]",
            "text/plain": [
              "<Figure size 432x288 with 1 Axes>"
            ]
          },
          "metadata": {
            "tags": []
          }
        }
      ]
    },
    {
      "cell_type": "code",
      "metadata": {
        "colab": {
          "base_uri": "https://localhost:8080/",
          "height": 285
        },
        "id": "71MeM6Aw5yAz",
        "outputId": "17a65fac-523e-479a-a867-843588f6f10f"
      },
      "source": [
        "sns.set_theme(style=\"whitegrid\")\n",
        "ax = sns.countplot(x=\"flight\",data=airline, palette= color_list)"
      ],
      "execution_count": 59,
      "outputs": [
        {
          "output_type": "display_data",
          "data": {
            "image/png": "[encoded data removed]",
            "text/plain": [
              "<Figure size 432x288 with 1 Axes>"
            ]
          },
          "metadata": {
            "tags": []
          }
        }
      ]
    },
    {
      "cell_type": "code",
      "metadata": {
        "colab": {
          "base_uri": "https://localhost:8080/",
          "height": 285
        },
        "id": "PlE1E45V5ynp",
        "outputId": "1d489ea0-f7ba-48f2-dde4-6ac1f0c28bba"
      },
      "source": [
        "sns.set_theme(style=\"whitegrid\")\n",
        "ax = sns.countplot(x=\"refund\",data=airline,palette= color_list)"
      ],
      "execution_count": 60,
      "outputs": [
        {
          "output_type": "display_data",
          "data": {
            "image/png": "[encoded data removed]",
            "text/plain": [
              "<Figure size 432x288 with 1 Axes>"
            ]
          },
          "metadata": {
            "tags": []
          }
        }
      ]
    },
    {
      "cell_type": "code",
      "metadata": {
        "colab": {
          "base_uri": "https://localhost:8080/",
          "height": 285
        },
        "id": "kAalNICW51Ht",
        "outputId": "a0580afb-b727-4103-dfcf-bb5649d61dd3"
      },
      "source": [
        "sns.set_theme(style=\"whitegrid\")\n",
        "ax = sns.countplot(x=\"customrt service\",data=airline,palette= color_list)"
      ],
      "execution_count": 61,
      "outputs": [
        {
          "output_type": "display_data",
          "data": {
            "image/png": "[encoded data removed]",
            "text/plain": [
              "<Figure size 432x288 with 1 Axes>"
            ]
          },
          "metadata": {
            "tags": []
          }
        }
      ]
    },
    {
      "cell_type": "code",
      "metadata": {
        "colab": {
          "base_uri": "https://localhost:8080/",
          "height": 285
        },
        "id": "MGrBWQea53W3",
        "outputId": "10a08197-c704-4cc9-f396-1040fe176312"
      },
      "source": [
        "sns.set_theme(style=\"whitegrid\")\n",
        "ax = sns.countplot(x=\"experience\",data=airline, palette= color_list)"
      ],
      "execution_count": 62,
      "outputs": [
        {
          "output_type": "display_data",
          "data": {
            "image/png": "[encoded data removed]",
            "text/plain": [
              "<Figure size 432x288 with 1 Axes>"
            ]
          },
          "metadata": {
            "tags": []
          }
        }
      ]
    },
    {
      "cell_type": "markdown",
      "metadata": {
        "id": "C-GrcdcL58qg"
      },
      "source": [
        "#Save the data set"
      ]
    },
    {
      "cell_type": "code",
      "metadata": {
        "id": "EdlwQQbT57uf"
      },
      "source": [
        "#save them first because without saving it, it will cause me issues later\n",
        "airline.to_csv('airline_features.csv')\n",
        "!cp airline_features.csv \"./gdrive/My Drive/datasets/new_datasets/\""
      ],
      "execution_count": 79,
      "outputs": []
    }
  ]
}