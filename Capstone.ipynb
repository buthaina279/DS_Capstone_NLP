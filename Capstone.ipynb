{
  "nbformat": 4,
  "nbformat_minor": 0,
  "metadata": {
    "colab": {
      "name": "Capstone.ipynb",
      "provenance": [],
      "collapsed_sections": [],
      "authorship_tag": "ABX9TyOh00LWaiw6DBw+Yz9FAl0H",
      "include_colab_link": true
    },
    "kernelspec": {
      "name": "python3",
      "display_name": "Python 3"
    }
  },
  "cells": [
    {
      "cell_type": "markdown",
      "metadata": {
        "id": "view-in-github",
        "colab_type": "text"
      },
      "source": [
        "<a href=\"https://colab.research.google.com/github/buthaina279/DS_Capstone_NLP/blob/main/Capstone.ipynb\" target=\"_parent\"><img src=\"https://colab.research.google.com/assets/colab-badge.svg\" alt=\"Open In Colab\"/></a>"
      ]
    },
    {
      "cell_type": "code",
      "metadata": {
        "id": "trMq9TeJe4VX"
      },
      "source": [
        "# Import all needed libraries\n",
        "import tweepy                   # Python wrapper around Twitter API\n",
        "from google.colab import drive  # to mount Drive to Colab notebook\n",
        "import json\n",
        "import csv\n",
        "from datetime import date\n",
        "from datetime import datetime\n",
        "import time"
      ],
      "execution_count": 2,
      "outputs": []
    },
    {
      "cell_type": "code",
      "metadata": {
        "id": "9Z-0D4S43YBB"
      },
      "source": [
        "# Install Libraries\n",
        "!pip install pycountry"
      ],
      "execution_count": null,
      "outputs": []
    },
    {
      "cell_type": "code",
      "metadata": {
        "id": "wt04mgwg36NV"
      },
      "source": [
        "!pip install langdetect"
      ],
      "execution_count": null,
      "outputs": []
    },
    {
      "cell_type": "code",
      "metadata": {
        "id": "fpwspMND3VaM",
        "colab": {
          "base_uri": "https://localhost:8080/"
        },
        "outputId": "ad4b88c3-2aa5-4771-e6aa-ea7c068cb926"
      },
      "source": [
        "# Import Libraries\n",
        "\n",
        "from textblob import TextBlob\n",
        "import sys\n",
        "import tweepy\n",
        "import matplotlib.pyplot as plt\n",
        "import pandas as pd\n",
        "import numpy as np\n",
        "import os\n",
        "import nltk\n",
        "import pycountry\n",
        "import re\n",
        "import string\n",
        "\n",
        "from wordcloud import WordCloud, STOPWORDS\n",
        "from PIL import Image\n",
        "from nltk.sentiment.vader import SentimentIntensityAnalyzer\n",
        "from langdetect import detect\n",
        "from nltk.stem import SnowballStemmer\n",
        "from nltk.sentiment.vader import SentimentIntensityAnalyzer\n",
        "from sklearn.feature_extraction.text import CountVectorizer"
      ],
      "execution_count": 4,
      "outputs": [
        {
          "output_type": "stream",
          "text": [
            "/usr/local/lib/python3.6/dist-packages/nltk/twitter/__init__.py:20: UserWarning: The twython library has not been installed. Some functionality from the twitter package will not be available.\n",
            "  warnings.warn(\"The twython library has not been installed. \"\n"
          ],
          "name": "stderr"
        }
      ]
    },
    {
      "cell_type": "code",
      "metadata": {
        "colab": {
          "base_uri": "https://localhost:8080/"
        },
        "id": "yBHSJYtuRlwq",
        "outputId": "d2e4df39-2c4c-40e1-b7b0-3111376a0ec8"
      },
      "source": [
        "from sklearn.feature_extraction.text import CountVectorizer\n",
        "import nltk \n",
        "import string\n",
        "import re\n",
        "%matplotlib inline\n",
        "pd.set_option('display.max_colwidth', 100)\n",
        "nltk.download('stopwords')"
      ],
      "execution_count": 5,
      "outputs": [
        {
          "output_type": "stream",
          "text": [
            "[nltk_data] Downloading package stopwords to /root/nltk_data...\n",
            "[nltk_data]   Package stopwords is already up-to-date!\n"
          ],
          "name": "stdout"
        },
        {
          "output_type": "execute_result",
          "data": {
            "text/plain": [
              "True"
            ]
          },
          "metadata": {
            "tags": []
          },
          "execution_count": 5
        }
      ]
    },
    {
      "cell_type": "code",
      "metadata": {
        "colab": {
          "base_uri": "https://localhost:8080/"
        },
        "id": "23aiW2uc5FEL",
        "outputId": "6128bdff-6c75-496e-e11c-a44895fc6443"
      },
      "source": [
        "import nltk\n",
        "nltk.download('vader_lexicon')"
      ],
      "execution_count": 9,
      "outputs": [
        {
          "output_type": "stream",
          "text": [
            "[nltk_data] Downloading package vader_lexicon to /root/nltk_data...\n"
          ],
          "name": "stdout"
        },
        {
          "output_type": "execute_result",
          "data": {
            "text/plain": [
              "True"
            ]
          },
          "metadata": {
            "tags": []
          },
          "execution_count": 9
        }
      ]
    },
    {
      "cell_type": "code",
      "metadata": {
        "colab": {
          "base_uri": "https://localhost:8080/"
        },
        "id": "hvqCIx4yl9Hu",
        "outputId": "55bc6a23-67e2-498b-ddd3-1df86e05e41c"
      },
      "source": [
        "# Connect Google Drive to Colab\n",
        "drive.mount('/content/gdrive')\n",
        "# Create a variable to store the data path on your drive\n",
        "path = './gdrive/My Drive/datasets/twitter_analysis'"
      ],
      "execution_count": 118,
      "outputs": [
        {
          "output_type": "stream",
          "text": [
            "Drive already mounted at /content/gdrive; to attempt to forcibly remount, call drive.mount(\"/content/gdrive\", force_remount=True).\n"
          ],
          "name": "stdout"
        }
      ]
    },
    {
      "cell_type": "code",
      "metadata": {
        "id": "VLYWMUPJmmGh"
      },
      "source": [
        "consumer_key=\"5iwJ0kh5IkWudh2kXbbV0s5eM\"\n",
        "consumer_secret=\"DSZGordR8WpGbNJbxwEwMBvJ4E4RJRbemzLQ0vpVArAzSuoLqY\"\n",
        "access_token=\"799815406462652416-V4f33Mp2G81GeSLeWVHQgGtp2djIuyK\"\n",
        "access_token_secret=\"UH4iGaQhmNiKVeo2scTmgZneTQuRDR10SSoyivGS0qU0K\"\n",
        "\n",
        "\n",
        "auth = tweepy.OAuthHandler(consumer_key,consumer_secret)\n",
        "auth.set_access_token(access_token, access_token_secret)\n",
        "api = tweepy.API(auth)"
      ],
      "execution_count": 116,
      "outputs": []
    },
    {
      "cell_type": "code",
      "metadata": {
        "id": "f-5CJLw-60N7"
      },
      "source": [
        "# Helper function to get all tweets of a specified user\n",
        "# NOTE:This method only allows access to the most recent 3200 tweets\n",
        "# Source: https://gist.github.com/yanofsky/5436496\n",
        "def get_all_tweets(screen_name):\n",
        "  # initialize a list to hold all the Tweets\n",
        "  alltweets = []\n",
        "  # make initial request for most recent tweets \n",
        "  # (200 is the maximum allowed count)\n",
        "  new_tweets = api.user_timeline(screen_name = screen_name,count=200, lang = \"en\")\n",
        "  # save most recent tweets\n",
        "  alltweets.extend(new_tweets)\n",
        "  # save the id of the oldest tweet less one to avoid duplication\n",
        "  oldest = alltweets[-1].id - 1\n",
        "  # keep grabbing tweets until there are no tweets left\n",
        "  while len(new_tweets) > 0:\n",
        "    print(\"getting tweets before %s\" % (oldest))\n",
        "    # all subsequent requests use the max_id param to prevent\n",
        "    # duplicates\n",
        "    \n",
        "    new_tweets = api.user_timeline(screen_name = screen_name,count=200,max_id=oldest, lang = \"en\")\n",
        "    #just if lan tweetes \n",
        "    # save most recent tweets\n",
        "    \n",
        "    alltweets.extend(new_tweets)\n",
        "    # update the id of the oldest tweet less one\n",
        "    oldest = alltweets[-1].id - 1\n",
        "    print(\"...%s tweets downloaded so far\" % (len(alltweets)))\n",
        "    ### END OF WHILE LOOP ###\n",
        "  # transform the tweepy tweets into a 2D array that will \n",
        "  # populate the csv\n",
        "  outtweets = [[tweet.id_str, tweet.created_at, tweet.text, tweet.favorite_count,\n",
        "                tweet.retweeted, tweet.user.location, tweet.lang, screen_name] \n",
        "               for tweet in alltweets]\n",
        "  # write the csv\n",
        "  with open(path + '/%s_tweets_en.csv' % screen_name, 'w') as f:\n",
        "    writer = csv.writer(f)\n",
        "    writer.writerow([\"tweet_id\",\"created_at\",\"text\",\"likes\",\"retweeted\", \"location\", \"language\" , \"airline\"])\n",
        "    writer.writerows(outtweets)\n",
        "  pass"
      ],
      "execution_count": 125,
      "outputs": []
    },
    {
      "cell_type": "code",
      "metadata": {
        "id": "INh4lHly7hQv"
      },
      "source": [
        "get_all_tweets(\"Saudi_airlines\")"
      ],
      "execution_count": null,
      "outputs": []
    },
    {
      "cell_type": "code",
      "metadata": {
        "id": "09LO2MO5B146"
      },
      "source": [
        "saudia_airlines = pd.read_csv(\"./gdrive/My Drive/datasets/twitter_analysis/Saudi_airlines_tweets.csv\")"
      ],
      "execution_count": 6,
      "outputs": []
    },
    {
      "cell_type": "code",
      "metadata": {
        "colab": {
          "base_uri": "https://localhost:8080/",
          "height": 529
        },
        "id": "paymIhP7Crwc",
        "outputId": "fa89d75b-6274-4f4b-dc6f-4a8a2ecdd379"
      },
      "source": [
        "saudia_airlines.sample(10)"
      ],
      "execution_count": 7,
      "outputs": [
        {
          "output_type": "execute_result",
          "data": {
            "text/html": [
              "<div>\n",
              "<style scoped>\n",
              "    .dataframe tbody tr th:only-of-type {\n",
              "        vertical-align: middle;\n",
              "    }\n",
              "\n",
              "    .dataframe tbody tr th {\n",
              "        vertical-align: top;\n",
              "    }\n",
              "\n",
              "    .dataframe thead th {\n",
              "        text-align: right;\n",
              "    }\n",
              "</style>\n",
              "<table border=\"1\" class=\"dataframe\">\n",
              "  <thead>\n",
              "    <tr style=\"text-align: right;\">\n",
              "      <th></th>\n",
              "      <th>tweet_id</th>\n",
              "      <th>created_at</th>\n",
              "      <th>text</th>\n",
              "      <th>likes</th>\n",
              "      <th>retweeted</th>\n",
              "      <th>location</th>\n",
              "      <th>language</th>\n",
              "      <th>airline</th>\n",
              "    </tr>\n",
              "  </thead>\n",
              "  <tbody>\n",
              "    <tr>\n",
              "      <th>705</th>\n",
              "      <td>1331011084690579456</td>\n",
              "      <td>2020-11-23 23:05:46</td>\n",
              "      <td>@AmjadALShahrany عليكم السلام ضيفنا العزيز، يرجي أرسال رقم التذكرة الاكترونية عبر الخاص  لنتمكن ...</td>\n",
              "      <td>0</td>\n",
              "      <td>False</td>\n",
              "      <td>Saudi Arabia</td>\n",
              "      <td>ar</td>\n",
              "      <td>Saudi_airlines</td>\n",
              "    </tr>\n",
              "    <tr>\n",
              "      <th>2175</th>\n",
              "      <td>1323627291705024513</td>\n",
              "      <td>2020-11-03 14:05:12</td>\n",
              "      <td>@mude_jxp ضيفنا العزيز، تم الرد عبر الخاص</td>\n",
              "      <td>0</td>\n",
              "      <td>False</td>\n",
              "      <td>Saudi Arabia</td>\n",
              "      <td>ar</td>\n",
              "      <td>Saudi_airlines</td>\n",
              "    </tr>\n",
              "    <tr>\n",
              "      <th>2144</th>\n",
              "      <td>1323682878153175040</td>\n",
              "      <td>2020-11-03 17:46:05</td>\n",
              "      <td>@abdulsa35722850 @MohdKhu12784812 Dear guest, there is no flight from India to Saudi Arabia at t...</td>\n",
              "      <td>1</td>\n",
              "      <td>False</td>\n",
              "      <td>Saudi Arabia</td>\n",
              "      <td>en</td>\n",
              "      <td>Saudi_airlines</td>\n",
              "    </tr>\n",
              "    <tr>\n",
              "      <th>1235</th>\n",
              "      <td>1328348163107926016</td>\n",
              "      <td>2020-11-16 14:44:16</td>\n",
              "      <td>@Dharmen42542636 Dear guest, there is no flight from India to Saudi Arabia at this time. Kindly ...</td>\n",
              "      <td>0</td>\n",
              "      <td>False</td>\n",
              "      <td>Saudi Arabia</td>\n",
              "      <td>en</td>\n",
              "      <td>Saudi_airlines</td>\n",
              "    </tr>\n",
              "    <tr>\n",
              "      <th>116</th>\n",
              "      <td>1334893773160112134</td>\n",
              "      <td>2020-12-04 16:14:11</td>\n",
              "      <td>@ae_707x وعليكم السلام ضيفنا العزيز، في حال جدولتها سيتم الإعلان عن ذلك. شكرا</td>\n",
              "      <td>0</td>\n",
              "      <td>False</td>\n",
              "      <td>Saudi Arabia</td>\n",
              "      <td>ar</td>\n",
              "      <td>Saudi_airlines</td>\n",
              "    </tr>\n",
              "    <tr>\n",
              "      <th>533</th>\n",
              "      <td>1332126493598691330</td>\n",
              "      <td>2020-11-27 00:58:00</td>\n",
              "      <td>@GEgBlzbnB2eQhia وعليكم السلام ضيفنا العزيز ، نأمل منك تزويدنا برقم التذكرة الإلكترونية والذي يب...</td>\n",
              "      <td>0</td>\n",
              "      <td>False</td>\n",
              "      <td>Saudi Arabia</td>\n",
              "      <td>ar</td>\n",
              "      <td>Saudi_airlines</td>\n",
              "    </tr>\n",
              "    <tr>\n",
              "      <th>133</th>\n",
              "      <td>1334856776152461312</td>\n",
              "      <td>2020-12-04 13:47:10</td>\n",
              "      <td>@oxamakhalyd Dear guest, we sincerely apologize for any inconvenience you have faced. You can fi...</td>\n",
              "      <td>0</td>\n",
              "      <td>False</td>\n",
              "      <td>Saudi Arabia</td>\n",
              "      <td>en</td>\n",
              "      <td>Saudi_airlines</td>\n",
              "    </tr>\n",
              "    <tr>\n",
              "      <th>2443</th>\n",
              "      <td>1322577446877757441</td>\n",
              "      <td>2020-10-31 16:33:30</td>\n",
              "      <td>@MohdKhu12784812 Dear guest, Kindly check the flights schedule on https://t.co/WjcVaRgoVw and ch...</td>\n",
              "      <td>0</td>\n",
              "      <td>False</td>\n",
              "      <td>Saudi Arabia</td>\n",
              "      <td>en</td>\n",
              "      <td>Saudi_airlines</td>\n",
              "    </tr>\n",
              "    <tr>\n",
              "      <th>2533</th>\n",
              "      <td>1322269051696144384</td>\n",
              "      <td>2020-10-30 20:08:03</td>\n",
              "      <td>@arnabsarka18 Dear guest, Kindly check the flights schedule on https://t.co/AnD1Tc8gpl and choos...</td>\n",
              "      <td>0</td>\n",
              "      <td>False</td>\n",
              "      <td>Saudi Arabia</td>\n",
              "      <td>en</td>\n",
              "      <td>Saudi_airlines</td>\n",
              "    </tr>\n",
              "    <tr>\n",
              "      <th>768</th>\n",
              "      <td>1330579792387780615</td>\n",
              "      <td>2020-11-22 18:31:58</td>\n",
              "      <td>@FurkanK79708161 Welcome dear guest, the flights from India still suspended. We will announce on...</td>\n",
              "      <td>1</td>\n",
              "      <td>False</td>\n",
              "      <td>Saudi Arabia</td>\n",
              "      <td>en</td>\n",
              "      <td>Saudi_airlines</td>\n",
              "    </tr>\n",
              "  </tbody>\n",
              "</table>\n",
              "</div>"
            ],
            "text/plain": [
              "                 tweet_id           created_at  ... language         airline\n",
              "705   1331011084690579456  2020-11-23 23:05:46  ...       ar  Saudi_airlines\n",
              "2175  1323627291705024513  2020-11-03 14:05:12  ...       ar  Saudi_airlines\n",
              "2144  1323682878153175040  2020-11-03 17:46:05  ...       en  Saudi_airlines\n",
              "1235  1328348163107926016  2020-11-16 14:44:16  ...       en  Saudi_airlines\n",
              "116   1334893773160112134  2020-12-04 16:14:11  ...       ar  Saudi_airlines\n",
              "533   1332126493598691330  2020-11-27 00:58:00  ...       ar  Saudi_airlines\n",
              "133   1334856776152461312  2020-12-04 13:47:10  ...       en  Saudi_airlines\n",
              "2443  1322577446877757441  2020-10-31 16:33:30  ...       en  Saudi_airlines\n",
              "2533  1322269051696144384  2020-10-30 20:08:03  ...       en  Saudi_airlines\n",
              "768   1330579792387780615  2020-11-22 18:31:58  ...       en  Saudi_airlines\n",
              "\n",
              "[10 rows x 8 columns]"
            ]
          },
          "metadata": {
            "tags": []
          },
          "execution_count": 7
        }
      ]
    },
    {
      "cell_type": "code",
      "metadata": {
        "colab": {
          "base_uri": "https://localhost:8080/"
        },
        "id": "8QqQ0EegC2Bn",
        "outputId": "f99c94e2-7a96-4f34-89ea-468f6f973e30"
      },
      "source": [
        "get_all_tweets(\"flynas\")"
      ],
      "execution_count": 77,
      "outputs": [
        {
          "output_type": "stream",
          "text": [
            "getting tweets before 1333803986864857088\n",
            "...400 tweets downloaded so far\n",
            "getting tweets before 1331903679733977088\n",
            "...600 tweets downloaded so far\n",
            "getting tweets before 1330055167807549446\n",
            "...800 tweets downloaded so far\n",
            "getting tweets before 1328180460221059071\n",
            "...1000 tweets downloaded so far\n",
            "getting tweets before 1326192459039338495\n",
            "...1200 tweets downloaded so far\n",
            "getting tweets before 1324406303817609218\n",
            "...1400 tweets downloaded so far\n",
            "getting tweets before 1322929543569678335\n",
            "...1600 tweets downloaded so far\n",
            "getting tweets before 1321350527469367295\n",
            "...1800 tweets downloaded so far\n",
            "getting tweets before 1319797682727170049\n",
            "...2000 tweets downloaded so far\n",
            "getting tweets before 1318201592693329920\n",
            "...2200 tweets downloaded so far\n",
            "getting tweets before 1316789074557100033\n",
            "...2400 tweets downloaded so far\n",
            "getting tweets before 1315389871813464063\n",
            "...2600 tweets downloaded so far\n",
            "getting tweets before 1314166213241700353\n",
            "...2800 tweets downloaded so far\n",
            "getting tweets before 1312731818022637567\n",
            "...3000 tweets downloaded so far\n",
            "getting tweets before 1311446830165757962\n",
            "...3200 tweets downloaded so far\n",
            "getting tweets before 1310174980794200070\n",
            "...3218 tweets downloaded so far\n",
            "getting tweets before 1310117946942017536\n",
            "...3218 tweets downloaded so far\n"
          ],
          "name": "stdout"
        }
      ]
    },
    {
      "cell_type": "code",
      "metadata": {
        "id": "v1WWJd1CGZY3"
      },
      "source": [
        "flynas_airlines = pd.read_csv(\"./gdrive/My Drive/datasets/twitter_analysis/flynas_tweets.csv\")"
      ],
      "execution_count": 169,
      "outputs": []
    },
    {
      "cell_type": "code",
      "metadata": {
        "colab": {
          "base_uri": "https://localhost:8080/",
          "height": 359
        },
        "id": "DHkxXoZdGqNC",
        "outputId": "6da7da21-b7cd-436d-9b38-82f2ee36afc5"
      },
      "source": [
        "flynas_airlines.sample(10)"
      ],
      "execution_count": 61,
      "outputs": [
        {
          "output_type": "execute_result",
          "data": {
            "text/html": [
              "<div>\n",
              "<style scoped>\n",
              "    .dataframe tbody tr th:only-of-type {\n",
              "        vertical-align: middle;\n",
              "    }\n",
              "\n",
              "    .dataframe tbody tr th {\n",
              "        vertical-align: top;\n",
              "    }\n",
              "\n",
              "    .dataframe thead th {\n",
              "        text-align: right;\n",
              "    }\n",
              "</style>\n",
              "<table border=\"1\" class=\"dataframe\">\n",
              "  <thead>\n",
              "    <tr style=\"text-align: right;\">\n",
              "      <th></th>\n",
              "      <th>id</th>\n",
              "      <th>created_at</th>\n",
              "      <th>text</th>\n",
              "      <th>likes</th>\n",
              "      <th>in reply to</th>\n",
              "      <th>retweeted</th>\n",
              "      <th>location</th>\n",
              "      <th>language</th>\n",
              "    </tr>\n",
              "  </thead>\n",
              "  <tbody>\n",
              "    <tr>\n",
              "      <th>2829</th>\n",
              "      <td>1312469651083853824</td>\n",
              "      <td>2020-10-03 19:08:43</td>\n",
              "      <td>@Mehtab0000786 Hello dear, provide us with you...</td>\n",
              "      <td>0</td>\n",
              "      <td>Mehtab0000786</td>\n",
              "      <td>False</td>\n",
              "      <td>Saudi Arabia</td>\n",
              "      <td>en</td>\n",
              "    </tr>\n",
              "    <tr>\n",
              "      <th>719</th>\n",
              "      <td>1328838370856984577</td>\n",
              "      <td>2020-11-17 23:12:10</td>\n",
              "      <td>@A_F_Alanzi وعليكم السلام ، يرجى تزويدنا برقم ...</td>\n",
              "      <td>0</td>\n",
              "      <td>A_F_Alanzi</td>\n",
              "      <td>False</td>\n",
              "      <td>Saudi Arabia</td>\n",
              "      <td>ar</td>\n",
              "    </tr>\n",
              "    <tr>\n",
              "      <th>1862</th>\n",
              "      <td>1319281845918265347</td>\n",
              "      <td>2020-10-22 14:17:57</td>\n",
              "      <td>ايش الأغراض اللي ماتقدر تسافر بدونها ؟ 👀\\n\\n#ط...</td>\n",
              "      <td>14</td>\n",
              "      <td>NaN</td>\n",
              "      <td>False</td>\n",
              "      <td>Saudi Arabia</td>\n",
              "      <td>ar</td>\n",
              "    </tr>\n",
              "    <tr>\n",
              "      <th>1239</th>\n",
              "      <td>1324001912254091270</td>\n",
              "      <td>2020-11-04 14:53:49</td>\n",
              "      <td>@hatemamreet مرحبا، تم الرد في الخاص .</td>\n",
              "      <td>0</td>\n",
              "      <td>hatemamreet</td>\n",
              "      <td>False</td>\n",
              "      <td>Saudi Arabia</td>\n",
              "      <td>ar</td>\n",
              "    </tr>\n",
              "    <tr>\n",
              "      <th>2943</th>\n",
              "      <td>1311701994210549760</td>\n",
              "      <td>2020-10-01 16:18:20</td>\n",
              "      <td>@A_thobaiti وعليكم السلام، يسمح بحمله فقط داخل...</td>\n",
              "      <td>0</td>\n",
              "      <td>A_thobaiti</td>\n",
              "      <td>False</td>\n",
              "      <td>Saudi Arabia</td>\n",
              "      <td>ar</td>\n",
              "    </tr>\n",
              "    <tr>\n",
              "      <th>1768</th>\n",
              "      <td>1320018351800930306</td>\n",
              "      <td>2020-10-24 15:04:34</td>\n",
              "      <td>@ii_il15 حياك الله ، تم الرد من خلال الخاص . ش...</td>\n",
              "      <td>0</td>\n",
              "      <td>ii_il15</td>\n",
              "      <td>False</td>\n",
              "      <td>Saudi Arabia</td>\n",
              "      <td>ar</td>\n",
              "    </tr>\n",
              "    <tr>\n",
              "      <th>306</th>\n",
              "      <td>1332817897144594432</td>\n",
              "      <td>2020-11-28 22:45:23</td>\n",
              "      <td>@sale_b0b تم الرد عبر الخاص</td>\n",
              "      <td>0</td>\n",
              "      <td>sale_b0b</td>\n",
              "      <td>False</td>\n",
              "      <td>Saudi Arabia</td>\n",
              "      <td>ar</td>\n",
              "    </tr>\n",
              "    <tr>\n",
              "      <th>2387</th>\n",
              "      <td>1315536164716261377</td>\n",
              "      <td>2020-10-12 06:13:57</td>\n",
              "      <td>@Asamjh11123 حياك الله،تابعنا وسيتم الإعلان عن...</td>\n",
              "      <td>0</td>\n",
              "      <td>Asamjh11123</td>\n",
              "      <td>False</td>\n",
              "      <td>Saudi Arabia</td>\n",
              "      <td>ar</td>\n",
              "    </tr>\n",
              "    <tr>\n",
              "      <th>2785</th>\n",
              "      <td>1312782872001085443</td>\n",
              "      <td>2020-10-04 15:53:21</td>\n",
              "      <td>@kmell4411 مرحبا، تابعنا بإستمرار وسيتم الإعلا...</td>\n",
              "      <td>0</td>\n",
              "      <td>kmell4411</td>\n",
              "      <td>False</td>\n",
              "      <td>Saudi Arabia</td>\n",
              "      <td>ar</td>\n",
              "    </tr>\n",
              "    <tr>\n",
              "      <th>2650</th>\n",
              "      <td>1313770948017958914</td>\n",
              "      <td>2020-10-07 09:19:37</td>\n",
              "      <td>@MecFawzi حياك الله ،رحلاتنا من مطار الملك عبد...</td>\n",
              "      <td>0</td>\n",
              "      <td>MecFawzi</td>\n",
              "      <td>False</td>\n",
              "      <td>Saudi Arabia</td>\n",
              "      <td>ar</td>\n",
              "    </tr>\n",
              "  </tbody>\n",
              "</table>\n",
              "</div>"
            ],
            "text/plain": [
              "                       id           created_at  ...      location  language\n",
              "2829  1312469651083853824  2020-10-03 19:08:43  ...  Saudi Arabia        en\n",
              "719   1328838370856984577  2020-11-17 23:12:10  ...  Saudi Arabia        ar\n",
              "1862  1319281845918265347  2020-10-22 14:17:57  ...  Saudi Arabia        ar\n",
              "1239  1324001912254091270  2020-11-04 14:53:49  ...  Saudi Arabia        ar\n",
              "2943  1311701994210549760  2020-10-01 16:18:20  ...  Saudi Arabia        ar\n",
              "1768  1320018351800930306  2020-10-24 15:04:34  ...  Saudi Arabia        ar\n",
              "306   1332817897144594432  2020-11-28 22:45:23  ...  Saudi Arabia        ar\n",
              "2387  1315536164716261377  2020-10-12 06:13:57  ...  Saudi Arabia        ar\n",
              "2785  1312782872001085443  2020-10-04 15:53:21  ...  Saudi Arabia        ar\n",
              "2650  1313770948017958914  2020-10-07 09:19:37  ...  Saudi Arabia        ar\n",
              "\n",
              "[10 rows x 8 columns]"
            ]
          },
          "metadata": {
            "tags": []
          },
          "execution_count": 61
        }
      ]
    },
    {
      "cell_type": "code",
      "metadata": {
        "colab": {
          "base_uri": "https://localhost:8080/"
        },
        "id": "hRzSlXxRdmYU",
        "outputId": "52627ed7-3a90-41ed-9cea-7869b5a87ad9"
      },
      "source": [
        "len(saudia_airlines[saudia_airlines.language == \"en\"])"
      ],
      "execution_count": 92,
      "outputs": [
        {
          "output_type": "execute_result",
          "data": {
            "text/plain": [
              "1464"
            ]
          },
          "metadata": {
            "tags": []
          },
          "execution_count": 92
        }
      ]
    },
    {
      "cell_type": "code",
      "metadata": {
        "colab": {
          "base_uri": "https://localhost:8080/"
        },
        "id": "D9s7w7SEgA5Y",
        "outputId": "d0948792-1cbe-4a55-f6a7-cf95dc238b09"
      },
      "source": [
        "len(flynas_airlines[flynas_airlines.language == \"en\"])"
      ],
      "execution_count": 94,
      "outputs": [
        {
          "output_type": "execute_result",
          "data": {
            "text/plain": [
              "219"
            ]
          },
          "metadata": {
            "tags": []
          },
          "execution_count": 94
        }
      ]
    },
    {
      "cell_type": "code",
      "metadata": {
        "id": "pmD6TM9CEwCS"
      },
      "source": [
        "saudia_airlines_en = saudia_airlines[saudia_airlines.language == \"en\"]"
      ],
      "execution_count": 8,
      "outputs": []
    },
    {
      "cell_type": "code",
      "metadata": {
        "colab": {
          "base_uri": "https://localhost:8080/",
          "height": 289
        },
        "id": "r8uKzLnUE9sH",
        "outputId": "70fca376-57ff-4897-8477-c0c4bebcc1fe"
      },
      "source": [
        "saudia_airlines_en.head()"
      ],
      "execution_count": 9,
      "outputs": [
        {
          "output_type": "execute_result",
          "data": {
            "text/html": [
              "<div>\n",
              "<style scoped>\n",
              "    .dataframe tbody tr th:only-of-type {\n",
              "        vertical-align: middle;\n",
              "    }\n",
              "\n",
              "    .dataframe tbody tr th {\n",
              "        vertical-align: top;\n",
              "    }\n",
              "\n",
              "    .dataframe thead th {\n",
              "        text-align: right;\n",
              "    }\n",
              "</style>\n",
              "<table border=\"1\" class=\"dataframe\">\n",
              "  <thead>\n",
              "    <tr style=\"text-align: right;\">\n",
              "      <th></th>\n",
              "      <th>tweet_id</th>\n",
              "      <th>created_at</th>\n",
              "      <th>text</th>\n",
              "      <th>likes</th>\n",
              "      <th>retweeted</th>\n",
              "      <th>location</th>\n",
              "      <th>language</th>\n",
              "      <th>airline</th>\n",
              "    </tr>\n",
              "  </thead>\n",
              "  <tbody>\n",
              "    <tr>\n",
              "      <th>14</th>\n",
              "      <td>1335393841810202624</td>\n",
              "      <td>2020-12-06 01:21:16</td>\n",
              "      <td>@Mohamme43723700 Dear guest, there is no flight from India to Saudi Arabia at this time. Kindly ...</td>\n",
              "      <td>1</td>\n",
              "      <td>False</td>\n",
              "      <td>Saudi Arabia</td>\n",
              "      <td>en</td>\n",
              "      <td>Saudi_airlines</td>\n",
              "    </tr>\n",
              "    <tr>\n",
              "      <th>23</th>\n",
              "      <td>1335337522738720770</td>\n",
              "      <td>2020-12-05 21:37:29</td>\n",
              "      <td>@khalidwhd Hello dear guest, we hope you check and be informed of travel updates due to the Coro...</td>\n",
              "      <td>1</td>\n",
              "      <td>False</td>\n",
              "      <td>Saudi Arabia</td>\n",
              "      <td>en</td>\n",
              "      <td>Saudi_airlines</td>\n",
              "    </tr>\n",
              "    <tr>\n",
              "      <th>29</th>\n",
              "      <td>1335334320014315521</td>\n",
              "      <td>2020-12-05 21:24:45</td>\n",
              "      <td>@JailanShair Hello dear guest, please provide us with the booking number through the direct mess...</td>\n",
              "      <td>0</td>\n",
              "      <td>False</td>\n",
              "      <td>Saudi Arabia</td>\n",
              "      <td>en</td>\n",
              "      <td>Saudi_airlines</td>\n",
              "    </tr>\n",
              "    <tr>\n",
              "      <th>38</th>\n",
              "      <td>1335322063851167748</td>\n",
              "      <td>2020-12-05 20:36:03</td>\n",
              "      <td>@Shakeel60633858 Dear guest, there is no flight from India to Saudi Arabia at this time. When fl...</td>\n",
              "      <td>1</td>\n",
              "      <td>False</td>\n",
              "      <td>Saudi Arabia</td>\n",
              "      <td>en</td>\n",
              "      <td>Saudi_airlines</td>\n",
              "    </tr>\n",
              "    <tr>\n",
              "      <th>43</th>\n",
              "      <td>1335314759588122626</td>\n",
              "      <td>2020-12-05 20:07:02</td>\n",
              "      <td>@AliAnsari079348 Hello dear guest, You can follow up the flights schedule in our website https:/...</td>\n",
              "      <td>1</td>\n",
              "      <td>False</td>\n",
              "      <td>Saudi Arabia</td>\n",
              "      <td>en</td>\n",
              "      <td>Saudi_airlines</td>\n",
              "    </tr>\n",
              "  </tbody>\n",
              "</table>\n",
              "</div>"
            ],
            "text/plain": [
              "               tweet_id           created_at  ... language         airline\n",
              "14  1335393841810202624  2020-12-06 01:21:16  ...       en  Saudi_airlines\n",
              "23  1335337522738720770  2020-12-05 21:37:29  ...       en  Saudi_airlines\n",
              "29  1335334320014315521  2020-12-05 21:24:45  ...       en  Saudi_airlines\n",
              "38  1335322063851167748  2020-12-05 20:36:03  ...       en  Saudi_airlines\n",
              "43  1335314759588122626  2020-12-05 20:07:02  ...       en  Saudi_airlines\n",
              "\n",
              "[5 rows x 8 columns]"
            ]
          },
          "metadata": {
            "tags": []
          },
          "execution_count": 9
        }
      ]
    },
    {
      "cell_type": "code",
      "metadata": {
        "id": "BYTR5SINFD50"
      },
      "source": [
        "flynas_airlines_en = flynas_airlines[flynas_airlines.language == \"en\"]"
      ],
      "execution_count": 173,
      "outputs": []
    },
    {
      "cell_type": "code",
      "metadata": {
        "colab": {
          "base_uri": "https://localhost:8080/",
          "height": 289
        },
        "id": "Cmd77uvcFKTJ",
        "outputId": "125550de-5401-47c7-b0f4-cda22c482b9b"
      },
      "source": [
        "flynas_airlines_en.head()"
      ],
      "execution_count": 174,
      "outputs": [
        {
          "output_type": "execute_result",
          "data": {
            "text/html": [
              "<div>\n",
              "<style scoped>\n",
              "    .dataframe tbody tr th:only-of-type {\n",
              "        vertical-align: middle;\n",
              "    }\n",
              "\n",
              "    .dataframe tbody tr th {\n",
              "        vertical-align: top;\n",
              "    }\n",
              "\n",
              "    .dataframe thead th {\n",
              "        text-align: right;\n",
              "    }\n",
              "</style>\n",
              "<table border=\"1\" class=\"dataframe\">\n",
              "  <thead>\n",
              "    <tr style=\"text-align: right;\">\n",
              "      <th></th>\n",
              "      <th>tweet_id</th>\n",
              "      <th>created_at</th>\n",
              "      <th>text</th>\n",
              "      <th>likes</th>\n",
              "      <th>retweeted</th>\n",
              "      <th>location</th>\n",
              "      <th>language</th>\n",
              "      <th>airline</th>\n",
              "    </tr>\n",
              "  </thead>\n",
              "  <tbody>\n",
              "    <tr>\n",
              "      <th>2</th>\n",
              "      <td>1335581954213900288</td>\n",
              "      <td>2020-12-06 13:48:46</td>\n",
              "      <td>@dhanraj_parmar Hello, kindly provide us with your booking number on private message</td>\n",
              "      <td>0</td>\n",
              "      <td>False</td>\n",
              "      <td>Saudi Arabia</td>\n",
              "      <td>en</td>\n",
              "      <td>flynas</td>\n",
              "    </tr>\n",
              "    <tr>\n",
              "      <th>17</th>\n",
              "      <td>1335517244978245632</td>\n",
              "      <td>2020-12-06 09:31:38</td>\n",
              "      <td>@Ansar34237667 Hello, please provide us with your reservation number via the private. Please</td>\n",
              "      <td>0</td>\n",
              "      <td>False</td>\n",
              "      <td>Saudi Arabia</td>\n",
              "      <td>en</td>\n",
              "      <td>flynas</td>\n",
              "    </tr>\n",
              "    <tr>\n",
              "      <th>19</th>\n",
              "      <td>1335515818642255873</td>\n",
              "      <td>2020-12-06 09:25:58</td>\n",
              "      <td>@_lulzz Hello, kindly provide us with your booking number on private message https://t.co/Hgn8z1...</td>\n",
              "      <td>0</td>\n",
              "      <td>False</td>\n",
              "      <td>Saudi Arabia</td>\n",
              "      <td>en</td>\n",
              "      <td>flynas</td>\n",
              "    </tr>\n",
              "    <tr>\n",
              "      <th>51</th>\n",
              "      <td>1335109047671001088</td>\n",
              "      <td>2020-12-05 06:29:36</td>\n",
              "      <td>@aliarum44 Hi, kindly keep following us continuously, any new flights will be announced as soon ...</td>\n",
              "      <td>0</td>\n",
              "      <td>False</td>\n",
              "      <td>Saudi Arabia</td>\n",
              "      <td>en</td>\n",
              "      <td>flynas</td>\n",
              "    </tr>\n",
              "    <tr>\n",
              "      <th>65</th>\n",
              "      <td>1334936896925995009</td>\n",
              "      <td>2020-12-04 19:05:32</td>\n",
              "      <td>@afsarmohd78 God bless you, follow us and an announcement will be made when any new trips are av...</td>\n",
              "      <td>0</td>\n",
              "      <td>False</td>\n",
              "      <td>Saudi Arabia</td>\n",
              "      <td>en</td>\n",
              "      <td>flynas</td>\n",
              "    </tr>\n",
              "  </tbody>\n",
              "</table>\n",
              "</div>"
            ],
            "text/plain": [
              "               tweet_id           created_at  ... language  airline\n",
              "2   1335581954213900288  2020-12-06 13:48:46  ...       en   flynas\n",
              "17  1335517244978245632  2020-12-06 09:31:38  ...       en   flynas\n",
              "19  1335515818642255873  2020-12-06 09:25:58  ...       en   flynas\n",
              "51  1335109047671001088  2020-12-05 06:29:36  ...       en   flynas\n",
              "65  1334936896925995009  2020-12-04 19:05:32  ...       en   flynas\n",
              "\n",
              "[5 rows x 8 columns]"
            ]
          },
          "metadata": {
            "tags": []
          },
          "execution_count": 174
        }
      ]
    },
    {
      "cell_type": "code",
      "metadata": {
        "id": "Hlvw4WRk1Txx"
      },
      "source": [
        ""
      ],
      "execution_count": 142,
      "outputs": []
    },
    {
      "cell_type": "code",
      "metadata": {
        "colab": {
          "base_uri": "https://localhost:8080/"
        },
        "id": "zugcYUr31T6A",
        "outputId": "2addf782-f1ec-4e1a-bfdf-122465c017e5"
      },
      "source": [
        ""
      ],
      "execution_count": 143,
      "outputs": [
        {
          "output_type": "stream",
          "text": [
            "total number:  1464\n",
            "positive number:  1429\n",
            "negative number:  28\n",
            "neutral number:  7\n"
          ],
          "name": "stdout"
        }
      ]
    },
    {
      "cell_type": "code",
      "metadata": {
        "id": "A37qyiiD942V"
      },
      "source": [
        "#Creating PieCart\n",
        "\n",
        "labels = ['Positive ['+str(positive)+'%]' , 'Neutral ['+str(neutral)+'%]','Negative ['+str(negative)+'%]']\n",
        "sizes = [positive, neutral, negative]\n",
        "colors = ['yellowgreen', 'blue','red']\n",
        "patches, texts = plt.pie(sizes,colors=colors, startangle=90)\n",
        "plt.style.use('default')\n",
        "plt.legend(labels)\n",
        "plt.title(\"Sentiment Analysis Result for keyword=  \"+keyword+\"\" )\n",
        "plt.axis('equal')\n",
        "plt.show()"
      ],
      "execution_count": null,
      "outputs": []
    },
    {
      "cell_type": "markdown",
      "metadata": {
        "id": "LomcoeEHNDAw"
      },
      "source": [
        "#Cleaning the text"
      ]
    },
    {
      "cell_type": "code",
      "metadata": {
        "id": "j5w6YrFGQV5O"
      },
      "source": [
        "# Create a function to clean the tweets\n",
        "def cleanTxt(text):\n",
        " text = re.sub('@[A-Za-z0–9]+', '', text) #Removing @mentions\n",
        " text = re.sub('#', '', text) # Removing '#' hash tag\n",
        " text = re.sub('RT[\\s]+', '', text) # Removing RT\n",
        " text = re.sub('https?:\\/\\/\\S+', '', text) # Removing hyperlink\n",
        " text = re.sub(r'\\d', '', text)\n",
        " text = \"\".join([word.lower() for word in text if word not in string.punctuation])\n",
        " \n",
        " return text"
      ],
      "execution_count": 19,
      "outputs": []
    },
    {
      "cell_type": "code",
      "metadata": {
        "colab": {
          "base_uri": "https://localhost:8080/",
          "height": 1000
        },
        "id": "Aqjl50j_GZSA",
        "outputId": "b0c3544c-ab06-4627-de2d-74b6cca26e44"
      },
      "source": [
        "# Clean the tweets\n",
        "saudia_airlines_en[\"text\"] = saudia_airlines_en[\"text\"].apply(cleanTxt)\n",
        "\n",
        "# Show the cleaned tweets\n",
        "saudia_airlines_en"
      ],
      "execution_count": 20,
      "outputs": [
        {
          "output_type": "stream",
          "text": [
            "/usr/local/lib/python3.6/dist-packages/ipykernel_launcher.py:2: SettingWithCopyWarning: \n",
            "A value is trying to be set on a copy of a slice from a DataFrame.\n",
            "Try using .loc[row_indexer,col_indexer] = value instead\n",
            "\n",
            "See the caveats in the documentation: https://pandas.pydata.org/pandas-docs/stable/user_guide/indexing.html#returning-a-view-versus-a-copy\n",
            "  \n"
          ],
          "name": "stderr"
        },
        {
          "output_type": "execute_result",
          "data": {
            "text/html": [
              "<div>\n",
              "<style scoped>\n",
              "    .dataframe tbody tr th:only-of-type {\n",
              "        vertical-align: middle;\n",
              "    }\n",
              "\n",
              "    .dataframe tbody tr th {\n",
              "        vertical-align: top;\n",
              "    }\n",
              "\n",
              "    .dataframe thead th {\n",
              "        text-align: right;\n",
              "    }\n",
              "</style>\n",
              "<table border=\"1\" class=\"dataframe\">\n",
              "  <thead>\n",
              "    <tr style=\"text-align: right;\">\n",
              "      <th></th>\n",
              "      <th>tweet_id</th>\n",
              "      <th>created_at</th>\n",
              "      <th>text</th>\n",
              "      <th>likes</th>\n",
              "      <th>retweeted</th>\n",
              "      <th>location</th>\n",
              "      <th>language</th>\n",
              "      <th>airline</th>\n",
              "      <th>Tweet_tokenized</th>\n",
              "      <th>Tweet_nonstop</th>\n",
              "      <th>Tweet_stemmed</th>\n",
              "    </tr>\n",
              "  </thead>\n",
              "  <tbody>\n",
              "    <tr>\n",
              "      <th>14</th>\n",
              "      <td>1335393841810202624</td>\n",
              "      <td>2020-12-06 01:21:16</td>\n",
              "      <td>dear guest there is no flight from india to saudi arabia at this time kindly follow the flights…</td>\n",
              "      <td>1</td>\n",
              "      <td>False</td>\n",
              "      <td>Saudi Arabia</td>\n",
              "      <td>en</td>\n",
              "      <td>Saudi_airlines</td>\n",
              "      <td>[, dear, guest, there, is, no, flight, from, india, to, saudi, arabia, at, this, time, kindly, f...</td>\n",
              "      <td>[, dear, guest, flight, india, saudi, arabia, time, kindly, follow, flights, ]</td>\n",
              "      <td>[, dear, guest, flight, india, saudi, arabia, time, kindli, follow, flight, ]</td>\n",
              "    </tr>\n",
              "    <tr>\n",
              "      <th>23</th>\n",
              "      <td>1335337522738720770</td>\n",
              "      <td>2020-12-05 21:37:29</td>\n",
              "      <td>hello dear guest we hope you check and be informed of travel updates due to the corona virus co...</td>\n",
              "      <td>1</td>\n",
              "      <td>False</td>\n",
              "      <td>Saudi Arabia</td>\n",
              "      <td>en</td>\n",
              "      <td>Saudi_airlines</td>\n",
              "      <td>[, hello, dear, guest, we, hope, you, check, and, be, informed, of, travel, updates, due, to, th...</td>\n",
              "      <td>[, hello, dear, guest, hope, check, informed, travel, updates, due, corona, virus, covid, ]</td>\n",
              "      <td>[, hello, dear, guest, hope, check, inform, travel, updat, due, corona, viru, covid, ]</td>\n",
              "    </tr>\n",
              "    <tr>\n",
              "      <th>29</th>\n",
              "      <td>1335334320014315521</td>\n",
              "      <td>2020-12-05 21:24:45</td>\n",
              "      <td>hello dear guest please provide us with the booking number through the direct message to let yo...</td>\n",
              "      <td>0</td>\n",
              "      <td>False</td>\n",
              "      <td>Saudi Arabia</td>\n",
              "      <td>en</td>\n",
              "      <td>Saudi_airlines</td>\n",
              "      <td>[, hello, dear, guest, please, provide, us, with, the, booking, number, through, the, direct, me...</td>\n",
              "      <td>[, hello, dear, guest, please, provide, us, booking, number, direct, message, let, know, thank]</td>\n",
              "      <td>[, hello, dear, guest, pleas, provid, us, book, number, direct, messag, let, know, thank]</td>\n",
              "    </tr>\n",
              "    <tr>\n",
              "      <th>38</th>\n",
              "      <td>1335322063851167748</td>\n",
              "      <td>2020-12-05 20:36:03</td>\n",
              "      <td>dear guest there is no flight from india to saudi arabia at this time when flights schedule back…</td>\n",
              "      <td>1</td>\n",
              "      <td>False</td>\n",
              "      <td>Saudi Arabia</td>\n",
              "      <td>en</td>\n",
              "      <td>Saudi_airlines</td>\n",
              "      <td>[, dear, guest, there, is, no, flight, from, india, to, saudi, arabia, at, this, time, when, fli...</td>\n",
              "      <td>[, dear, guest, flight, india, saudi, arabia, time, flights, schedule, back, ]</td>\n",
              "      <td>[, dear, guest, flight, india, saudi, arabia, time, flight, schedul, back, ]</td>\n",
              "    </tr>\n",
              "    <tr>\n",
              "      <th>43</th>\n",
              "      <td>1335314759588122626</td>\n",
              "      <td>2020-12-05 20:07:02</td>\n",
              "      <td>hello dear guest you can follow up the flights schedule in our website  …</td>\n",
              "      <td>1</td>\n",
              "      <td>False</td>\n",
              "      <td>Saudi Arabia</td>\n",
              "      <td>en</td>\n",
              "      <td>Saudi_airlines</td>\n",
              "      <td>[, hello, dear, guest, you, can, follow, up, the, flights, schedule, in, our, website, ]</td>\n",
              "      <td>[, hello, dear, guest, follow, flights, schedule, website, ]</td>\n",
              "      <td>[, hello, dear, guest, follow, flight, schedul, websit, ]</td>\n",
              "    </tr>\n",
              "    <tr>\n",
              "      <th>...</th>\n",
              "      <td>...</td>\n",
              "      <td>...</td>\n",
              "      <td>...</td>\n",
              "      <td>...</td>\n",
              "      <td>...</td>\n",
              "      <td>...</td>\n",
              "      <td>...</td>\n",
              "      <td>...</td>\n",
              "      <td>...</td>\n",
              "      <td>...</td>\n",
              "      <td>...</td>\n",
              "    </tr>\n",
              "    <tr>\n",
              "      <th>3225</th>\n",
              "      <td>1320352707732000768</td>\n",
              "      <td>2020-10-25 13:13:11</td>\n",
              "      <td>dear guest kindly check the flights schedule on  and choose flights info…</td>\n",
              "      <td>0</td>\n",
              "      <td>False</td>\n",
              "      <td>Saudi Arabia</td>\n",
              "      <td>en</td>\n",
              "      <td>Saudi_airlines</td>\n",
              "      <td>[, dear, guest, kindly, check, the, flights, schedule, on, and, choose, flights, info, ]</td>\n",
              "      <td>[, dear, guest, kindly, check, flights, schedule, choose, flights, info, ]</td>\n",
              "      <td>[, dear, guest, kindli, check, flight, schedul, choos, flight, info, ]</td>\n",
              "    </tr>\n",
              "    <tr>\n",
              "      <th>3226</th>\n",
              "      <td>1320352682104729600</td>\n",
              "      <td>2020-10-25 13:13:05</td>\n",
              "      <td>dear guest kindly check the flights schedule on  and choose flights info…</td>\n",
              "      <td>0</td>\n",
              "      <td>False</td>\n",
              "      <td>Saudi Arabia</td>\n",
              "      <td>en</td>\n",
              "      <td>Saudi_airlines</td>\n",
              "      <td>[, dear, guest, kindly, check, the, flights, schedule, on, and, choose, flights, info, ]</td>\n",
              "      <td>[, dear, guest, kindly, check, flights, schedule, choose, flights, info, ]</td>\n",
              "      <td>[, dear, guest, kindli, check, flight, schedul, choos, flight, info, ]</td>\n",
              "    </tr>\n",
              "    <tr>\n",
              "      <th>3227</th>\n",
              "      <td>1320352661305237507</td>\n",
              "      <td>2020-10-25 13:13:00</td>\n",
              "      <td>dear guest kindly check the flights schedule on  and choose flights info t…</td>\n",
              "      <td>0</td>\n",
              "      <td>False</td>\n",
              "      <td>Saudi Arabia</td>\n",
              "      <td>en</td>\n",
              "      <td>Saudi_airlines</td>\n",
              "      <td>[, dear, guest, kindly, check, the, flights, schedule, on, and, choose, flights, info, t, ]</td>\n",
              "      <td>[, dear, guest, kindly, check, flights, schedule, choose, flights, info, ]</td>\n",
              "      <td>[, dear, guest, kindli, check, flight, schedul, choos, flight, info, ]</td>\n",
              "    </tr>\n",
              "    <tr>\n",
              "      <th>3229</th>\n",
              "      <td>1320339013727899648</td>\n",
              "      <td>2020-10-25 12:18:46</td>\n",
              "      <td>once the flights resumed it will show in our website and you can book your flight residents wit...</td>\n",
              "      <td>0</td>\n",
              "      <td>False</td>\n",
              "      <td>Saudi Arabia</td>\n",
              "      <td>en</td>\n",
              "      <td>Saudi_airlines</td>\n",
              "      <td>[, once, the, flights, resumed, it, will, show, in, our, website, and, you, can, book, your, fli...</td>\n",
              "      <td>[, flights, resumed, show, website, book, flight, residents, ex, ]</td>\n",
              "      <td>[, flight, resum, show, websit, book, flight, resid, ex, ]</td>\n",
              "    </tr>\n",
              "    <tr>\n",
              "      <th>3231</th>\n",
              "      <td>1320337737224998918</td>\n",
              "      <td>2020-10-25 12:13:41</td>\n",
              "      <td>once the flights resumed it will show in our website and yo can book your flight residents with...</td>\n",
              "      <td>0</td>\n",
              "      <td>False</td>\n",
              "      <td>Saudi Arabia</td>\n",
              "      <td>en</td>\n",
              "      <td>Saudi_airlines</td>\n",
              "      <td>[, once, the, flights, resumed, it, will, show, in, our, website, and, yo, can, book, your, flig...</td>\n",
              "      <td>[, flights, resumed, show, website, yo, book, flight, residents, e, ]</td>\n",
              "      <td>[, flight, resum, show, websit, yo, book, flight, resid, e, ]</td>\n",
              "    </tr>\n",
              "  </tbody>\n",
              "</table>\n",
              "<p>1464 rows × 11 columns</p>\n",
              "</div>"
            ],
            "text/plain": [
              "                 tweet_id  ...                                                                              Tweet_stemmed\n",
              "14    1335393841810202624  ...              [, dear, guest, flight, india, saudi, arabia, time, kindli, follow, flight, ]\n",
              "23    1335337522738720770  ...     [, hello, dear, guest, hope, check, inform, travel, updat, due, corona, viru, covid, ]\n",
              "29    1335334320014315521  ...  [, hello, dear, guest, pleas, provid, us, book, number, direct, messag, let, know, thank]\n",
              "38    1335322063851167748  ...               [, dear, guest, flight, india, saudi, arabia, time, flight, schedul, back, ]\n",
              "43    1335314759588122626  ...                                  [, hello, dear, guest, follow, flight, schedul, websit, ]\n",
              "...                   ...  ...                                                                                        ...\n",
              "3225  1320352707732000768  ...                     [, dear, guest, kindli, check, flight, schedul, choos, flight, info, ]\n",
              "3226  1320352682104729600  ...                     [, dear, guest, kindli, check, flight, schedul, choos, flight, info, ]\n",
              "3227  1320352661305237507  ...                     [, dear, guest, kindli, check, flight, schedul, choos, flight, info, ]\n",
              "3229  1320339013727899648  ...                                 [, flight, resum, show, websit, book, flight, resid, ex, ]\n",
              "3231  1320337737224998918  ...                              [, flight, resum, show, websit, yo, book, flight, resid, e, ]\n",
              "\n",
              "[1464 rows x 11 columns]"
            ]
          },
          "metadata": {
            "tags": []
          },
          "execution_count": 20
        }
      ]
    },
    {
      "cell_type": "code",
      "metadata": {
        "id": "ste8xB17RRqR"
      },
      "source": [
        "def tokenization(text):\n",
        "    text = re.split('\\W+', text)\n",
        "    return text\n"
      ],
      "execution_count": 21,
      "outputs": []
    },
    {
      "cell_type": "code",
      "metadata": {
        "colab": {
          "base_uri": "https://localhost:8080/",
          "height": 1000
        },
        "id": "CN5KKh-fRrFe",
        "outputId": "02c58854-95d4-49e3-a970-05194d55fef6"
      },
      "source": [
        "\n",
        "saudia_airlines_en['Tweet_tokenized'] = saudia_airlines_en['text'].apply(lambda x: tokenization(x.lower()))\n",
        "saudia_airlines_en.head()"
      ],
      "execution_count": 22,
      "outputs": [
        {
          "output_type": "stream",
          "text": [
            "/usr/local/lib/python3.6/dist-packages/ipykernel_launcher.py:2: SettingWithCopyWarning: \n",
            "A value is trying to be set on a copy of a slice from a DataFrame.\n",
            "Try using .loc[row_indexer,col_indexer] = value instead\n",
            "\n",
            "See the caveats in the documentation: https://pandas.pydata.org/pandas-docs/stable/user_guide/indexing.html#returning-a-view-versus-a-copy\n",
            "  \n"
          ],
          "name": "stderr"
        },
        {
          "output_type": "execute_result",
          "data": {
            "text/html": [
              "<div>\n",
              "<style scoped>\n",
              "    .dataframe tbody tr th:only-of-type {\n",
              "        vertical-align: middle;\n",
              "    }\n",
              "\n",
              "    .dataframe tbody tr th {\n",
              "        vertical-align: top;\n",
              "    }\n",
              "\n",
              "    .dataframe thead th {\n",
              "        text-align: right;\n",
              "    }\n",
              "</style>\n",
              "<table border=\"1\" class=\"dataframe\">\n",
              "  <thead>\n",
              "    <tr style=\"text-align: right;\">\n",
              "      <th></th>\n",
              "      <th>tweet_id</th>\n",
              "      <th>created_at</th>\n",
              "      <th>text</th>\n",
              "      <th>likes</th>\n",
              "      <th>retweeted</th>\n",
              "      <th>location</th>\n",
              "      <th>language</th>\n",
              "      <th>airline</th>\n",
              "      <th>Tweet_tokenized</th>\n",
              "      <th>Tweet_nonstop</th>\n",
              "      <th>Tweet_stemmed</th>\n",
              "    </tr>\n",
              "  </thead>\n",
              "  <tbody>\n",
              "    <tr>\n",
              "      <th>14</th>\n",
              "      <td>1335393841810202624</td>\n",
              "      <td>2020-12-06 01:21:16</td>\n",
              "      <td>dear guest there is no flight from india to saudi arabia at this time kindly follow the flights…</td>\n",
              "      <td>1</td>\n",
              "      <td>False</td>\n",
              "      <td>Saudi Arabia</td>\n",
              "      <td>en</td>\n",
              "      <td>Saudi_airlines</td>\n",
              "      <td>[, dear, guest, there, is, no, flight, from, india, to, saudi, arabia, at, this, time, kindly, f...</td>\n",
              "      <td>[, dear, guest, flight, india, saudi, arabia, time, kindly, follow, flights, ]</td>\n",
              "      <td>[, dear, guest, flight, india, saudi, arabia, time, kindli, follow, flight, ]</td>\n",
              "    </tr>\n",
              "    <tr>\n",
              "      <th>23</th>\n",
              "      <td>1335337522738720770</td>\n",
              "      <td>2020-12-05 21:37:29</td>\n",
              "      <td>hello dear guest we hope you check and be informed of travel updates due to the corona virus co...</td>\n",
              "      <td>1</td>\n",
              "      <td>False</td>\n",
              "      <td>Saudi Arabia</td>\n",
              "      <td>en</td>\n",
              "      <td>Saudi_airlines</td>\n",
              "      <td>[, hello, dear, guest, we, hope, you, check, and, be, informed, of, travel, updates, due, to, th...</td>\n",
              "      <td>[, hello, dear, guest, hope, check, informed, travel, updates, due, corona, virus, covid, ]</td>\n",
              "      <td>[, hello, dear, guest, hope, check, inform, travel, updat, due, corona, viru, covid, ]</td>\n",
              "    </tr>\n",
              "    <tr>\n",
              "      <th>29</th>\n",
              "      <td>1335334320014315521</td>\n",
              "      <td>2020-12-05 21:24:45</td>\n",
              "      <td>hello dear guest please provide us with the booking number through the direct message to let yo...</td>\n",
              "      <td>0</td>\n",
              "      <td>False</td>\n",
              "      <td>Saudi Arabia</td>\n",
              "      <td>en</td>\n",
              "      <td>Saudi_airlines</td>\n",
              "      <td>[, hello, dear, guest, please, provide, us, with, the, booking, number, through, the, direct, me...</td>\n",
              "      <td>[, hello, dear, guest, please, provide, us, booking, number, direct, message, let, know, thank]</td>\n",
              "      <td>[, hello, dear, guest, pleas, provid, us, book, number, direct, messag, let, know, thank]</td>\n",
              "    </tr>\n",
              "    <tr>\n",
              "      <th>38</th>\n",
              "      <td>1335322063851167748</td>\n",
              "      <td>2020-12-05 20:36:03</td>\n",
              "      <td>dear guest there is no flight from india to saudi arabia at this time when flights schedule back…</td>\n",
              "      <td>1</td>\n",
              "      <td>False</td>\n",
              "      <td>Saudi Arabia</td>\n",
              "      <td>en</td>\n",
              "      <td>Saudi_airlines</td>\n",
              "      <td>[, dear, guest, there, is, no, flight, from, india, to, saudi, arabia, at, this, time, when, fli...</td>\n",
              "      <td>[, dear, guest, flight, india, saudi, arabia, time, flights, schedule, back, ]</td>\n",
              "      <td>[, dear, guest, flight, india, saudi, arabia, time, flight, schedul, back, ]</td>\n",
              "    </tr>\n",
              "    <tr>\n",
              "      <th>43</th>\n",
              "      <td>1335314759588122626</td>\n",
              "      <td>2020-12-05 20:07:02</td>\n",
              "      <td>hello dear guest you can follow up the flights schedule in our website  …</td>\n",
              "      <td>1</td>\n",
              "      <td>False</td>\n",
              "      <td>Saudi Arabia</td>\n",
              "      <td>en</td>\n",
              "      <td>Saudi_airlines</td>\n",
              "      <td>[, hello, dear, guest, you, can, follow, up, the, flights, schedule, in, our, website, ]</td>\n",
              "      <td>[, hello, dear, guest, follow, flights, schedule, website, ]</td>\n",
              "      <td>[, hello, dear, guest, follow, flight, schedul, websit, ]</td>\n",
              "    </tr>\n",
              "  </tbody>\n",
              "</table>\n",
              "</div>"
            ],
            "text/plain": [
              "               tweet_id  ...                                                                              Tweet_stemmed\n",
              "14  1335393841810202624  ...              [, dear, guest, flight, india, saudi, arabia, time, kindli, follow, flight, ]\n",
              "23  1335337522738720770  ...     [, hello, dear, guest, hope, check, inform, travel, updat, due, corona, viru, covid, ]\n",
              "29  1335334320014315521  ...  [, hello, dear, guest, pleas, provid, us, book, number, direct, messag, let, know, thank]\n",
              "38  1335322063851167748  ...               [, dear, guest, flight, india, saudi, arabia, time, flight, schedul, back, ]\n",
              "43  1335314759588122626  ...                                  [, hello, dear, guest, follow, flight, schedul, websit, ]\n",
              "\n",
              "[5 rows x 11 columns]"
            ]
          },
          "metadata": {
            "tags": []
          },
          "execution_count": 22
        }
      ]
    },
    {
      "cell_type": "markdown",
      "metadata": {
        "id": "gbO5F6ciWehL"
      },
      "source": [
        "Identified few more words to be removed along with English stopwords"
      ]
    },
    {
      "cell_type": "code",
      "metadata": {
        "id": "0yXqxCOOWGlJ"
      },
      "source": [
        "english = (['dear', 'guest', 'woman', 'flight', 'India','Saudi Arabia','Time', 'Follow', 'Kindly', 'hello', 'website'])"
      ],
      "execution_count": 15,
      "outputs": []
    },
    {
      "cell_type": "code",
      "metadata": {
        "id": "XXS0gupkWth3"
      },
      "source": [
        "stopword = nltk.corpus.stopwords.words('english')"
      ],
      "execution_count": 16,
      "outputs": []
    },
    {
      "cell_type": "markdown",
      "metadata": {
        "id": "Tyyi0PAgZweP"
      },
      "source": [
        "#did not work "
      ]
    },
    {
      "cell_type": "code",
      "metadata": {
        "id": "QJHGRIGvXS1J"
      },
      "source": [
        "def remove_stopwords(text):\n",
        "    text = [word for word in text if word not in stopword]\n",
        "    return text\n",
        "    \n",
        "saudia_airlines_en['Tweet_nonstop'] = saudia_airlines_en['text'].apply(lambda x: remove_stopwords(x))\n",
        "saudia_airlines_en.head(10)"
      ],
      "execution_count": null,
      "outputs": []
    },
    {
      "cell_type": "markdown",
      "metadata": {
        "id": "qi7qrf56dRk3"
      },
      "source": [
        "Removing Short Words"
      ]
    },
    {
      "cell_type": "code",
      "metadata": {
        "colab": {
          "base_uri": "https://localhost:8080/"
        },
        "id": "EdCi_pgddP0q",
        "outputId": "50409bad-878e-4372-b104-ed93f1ce31a6"
      },
      "source": [
        "#saudia_airlines_en['tidy_tweet'] = saudia_airlines_en['text'].apply(lambda x: ' '.join([w for w in x.split() if len(w)>3]))"
      ],
      "execution_count": 25,
      "outputs": [
        {
          "output_type": "stream",
          "text": [
            "/usr/local/lib/python3.6/dist-packages/ipykernel_launcher.py:1: SettingWithCopyWarning: \n",
            "A value is trying to be set on a copy of a slice from a DataFrame.\n",
            "Try using .loc[row_indexer,col_indexer] = value instead\n",
            "\n",
            "See the caveats in the documentation: https://pandas.pydata.org/pandas-docs/stable/user_guide/indexing.html#returning-a-view-versus-a-copy\n",
            "  \"\"\"Entry point for launching an IPython kernel.\n"
          ],
          "name": "stderr"
        }
      ]
    },
    {
      "cell_type": "code",
      "metadata": {
        "colab": {
          "base_uri": "https://localhost:8080/",
          "height": 1000
        },
        "id": "f34UQPonZUf_",
        "outputId": "95610ab7-c850-49c8-fd54-782b88356ad9"
      },
      "source": [
        "ps = nltk.PorterStemmer()\n",
        "\n",
        "def stemming(text):\n",
        "    text = [ps.stem(word) for word in text]\n",
        "    return text\n",
        "\n",
        "saudia_airlines_en['Tweet_stemmed'] = saudia_airlines_en['Tweet_nonstop'].apply(lambda x: stemming(x))\n",
        "saudia_airlines_en.head()"
      ],
      "execution_count": 26,
      "outputs": [
        {
          "output_type": "stream",
          "text": [
            "/usr/local/lib/python3.6/dist-packages/ipykernel_launcher.py:7: SettingWithCopyWarning: \n",
            "A value is trying to be set on a copy of a slice from a DataFrame.\n",
            "Try using .loc[row_indexer,col_indexer] = value instead\n",
            "\n",
            "See the caveats in the documentation: https://pandas.pydata.org/pandas-docs/stable/user_guide/indexing.html#returning-a-view-versus-a-copy\n",
            "  import sys\n"
          ],
          "name": "stderr"
        },
        {
          "output_type": "execute_result",
          "data": {
            "text/html": [
              "<div>\n",
              "<style scoped>\n",
              "    .dataframe tbody tr th:only-of-type {\n",
              "        vertical-align: middle;\n",
              "    }\n",
              "\n",
              "    .dataframe tbody tr th {\n",
              "        vertical-align: top;\n",
              "    }\n",
              "\n",
              "    .dataframe thead th {\n",
              "        text-align: right;\n",
              "    }\n",
              "</style>\n",
              "<table border=\"1\" class=\"dataframe\">\n",
              "  <thead>\n",
              "    <tr style=\"text-align: right;\">\n",
              "      <th></th>\n",
              "      <th>tweet_id</th>\n",
              "      <th>created_at</th>\n",
              "      <th>text</th>\n",
              "      <th>likes</th>\n",
              "      <th>retweeted</th>\n",
              "      <th>location</th>\n",
              "      <th>language</th>\n",
              "      <th>airline</th>\n",
              "      <th>Tweet_tokenized</th>\n",
              "      <th>Tweet_nonstop</th>\n",
              "      <th>Tweet_stemmed</th>\n",
              "      <th>tidy_tweet</th>\n",
              "    </tr>\n",
              "  </thead>\n",
              "  <tbody>\n",
              "    <tr>\n",
              "      <th>14</th>\n",
              "      <td>1335393841810202624</td>\n",
              "      <td>2020-12-06 01:21:16</td>\n",
              "      <td>dear guest there is no flight from india to saudi arabia at this time kindly follow the flights…</td>\n",
              "      <td>1</td>\n",
              "      <td>False</td>\n",
              "      <td>Saudi Arabia</td>\n",
              "      <td>en</td>\n",
              "      <td>Saudi_airlines</td>\n",
              "      <td>[, dear, guest, there, is, no, flight, from, india, to, saudi, arabia, at, this, time, kindly, f...</td>\n",
              "      <td>[, dear, guest, flight, india, saudi, arabia, time, kindly, follow, flights, ]</td>\n",
              "      <td>[, dear, guest, flight, india, saudi, arabia, time, kindli, follow, flight, ]</td>\n",
              "      <td>dear guest there flight from india saudi arabia this time kindly follow flights…</td>\n",
              "    </tr>\n",
              "    <tr>\n",
              "      <th>23</th>\n",
              "      <td>1335337522738720770</td>\n",
              "      <td>2020-12-05 21:37:29</td>\n",
              "      <td>hello dear guest we hope you check and be informed of travel updates due to the corona virus co...</td>\n",
              "      <td>1</td>\n",
              "      <td>False</td>\n",
              "      <td>Saudi Arabia</td>\n",
              "      <td>en</td>\n",
              "      <td>Saudi_airlines</td>\n",
              "      <td>[, hello, dear, guest, we, hope, you, check, and, be, informed, of, travel, updates, due, to, th...</td>\n",
              "      <td>[, hello, dear, guest, hope, check, informed, travel, updates, due, corona, virus, covid, ]</td>\n",
              "      <td>[, hello, dear, guest, hope, check, inform, travel, updat, due, corona, viru, covid, ]</td>\n",
              "      <td>hello dear guest hope check informed travel updates corona virus covid…</td>\n",
              "    </tr>\n",
              "    <tr>\n",
              "      <th>29</th>\n",
              "      <td>1335334320014315521</td>\n",
              "      <td>2020-12-05 21:24:45</td>\n",
              "      <td>hello dear guest please provide us with the booking number through the direct message to let yo...</td>\n",
              "      <td>0</td>\n",
              "      <td>False</td>\n",
              "      <td>Saudi Arabia</td>\n",
              "      <td>en</td>\n",
              "      <td>Saudi_airlines</td>\n",
              "      <td>[, hello, dear, guest, please, provide, us, with, the, booking, number, through, the, direct, me...</td>\n",
              "      <td>[, hello, dear, guest, please, provide, us, booking, number, direct, message, let, know, thank]</td>\n",
              "      <td>[, hello, dear, guest, pleas, provid, us, book, number, direct, messag, let, know, thank]</td>\n",
              "      <td>hello dear guest please provide with booking number through direct message know thank</td>\n",
              "    </tr>\n",
              "    <tr>\n",
              "      <th>38</th>\n",
              "      <td>1335322063851167748</td>\n",
              "      <td>2020-12-05 20:36:03</td>\n",
              "      <td>dear guest there is no flight from india to saudi arabia at this time when flights schedule back…</td>\n",
              "      <td>1</td>\n",
              "      <td>False</td>\n",
              "      <td>Saudi Arabia</td>\n",
              "      <td>en</td>\n",
              "      <td>Saudi_airlines</td>\n",
              "      <td>[, dear, guest, there, is, no, flight, from, india, to, saudi, arabia, at, this, time, when, fli...</td>\n",
              "      <td>[, dear, guest, flight, india, saudi, arabia, time, flights, schedule, back, ]</td>\n",
              "      <td>[, dear, guest, flight, india, saudi, arabia, time, flight, schedul, back, ]</td>\n",
              "      <td>dear guest there flight from india saudi arabia this time when flights schedule back…</td>\n",
              "    </tr>\n",
              "    <tr>\n",
              "      <th>43</th>\n",
              "      <td>1335314759588122626</td>\n",
              "      <td>2020-12-05 20:07:02</td>\n",
              "      <td>hello dear guest you can follow up the flights schedule in our website  …</td>\n",
              "      <td>1</td>\n",
              "      <td>False</td>\n",
              "      <td>Saudi Arabia</td>\n",
              "      <td>en</td>\n",
              "      <td>Saudi_airlines</td>\n",
              "      <td>[, hello, dear, guest, you, can, follow, up, the, flights, schedule, in, our, website, ]</td>\n",
              "      <td>[, hello, dear, guest, follow, flights, schedule, website, ]</td>\n",
              "      <td>[, hello, dear, guest, follow, flight, schedul, websit, ]</td>\n",
              "      <td>hello dear guest follow flights schedule website</td>\n",
              "    </tr>\n",
              "  </tbody>\n",
              "</table>\n",
              "</div>"
            ],
            "text/plain": [
              "               tweet_id  ...                                                                             tidy_tweet\n",
              "14  1335393841810202624  ...       dear guest there flight from india saudi arabia this time kindly follow flights…\n",
              "23  1335337522738720770  ...                hello dear guest hope check informed travel updates corona virus covid…\n",
              "29  1335334320014315521  ...  hello dear guest please provide with booking number through direct message know thank\n",
              "38  1335322063851167748  ...  dear guest there flight from india saudi arabia this time when flights schedule back…\n",
              "43  1335314759588122626  ...                                       hello dear guest follow flights schedule website\n",
              "\n",
              "[5 rows x 12 columns]"
            ]
          },
          "metadata": {
            "tags": []
          },
          "execution_count": 26
        }
      ]
    },
    {
      "cell_type": "code",
      "metadata": {
        "id": "Ifag5vI2ZUyB"
      },
      "source": [
        ""
      ],
      "execution_count": null,
      "outputs": []
    },
    {
      "cell_type": "markdown",
      "metadata": {
        "id": "_G_N3j7wNRMO"
      },
      "source": [
        "#Classify the data"
      ]
    },
    {
      "cell_type": "code",
      "metadata": {
        "id": "1QRTdX8KRVQG"
      },
      "source": [
        "# Create a function to get the subjectivity\n",
        "def getSubjectivity(text):\n",
        "   return TextBlob(text).sentiment.subjectivity\n",
        "\n",
        "# Create a function to get the polarity\n",
        "def getPolarity(text):\n",
        "   return  TextBlob(text).sentiment.polarity"
      ],
      "execution_count": 27,
      "outputs": []
    },
    {
      "cell_type": "code",
      "metadata": {
        "colab": {
          "base_uri": "https://localhost:8080/",
          "height": 1000
        },
        "id": "Kd7FekefHR5l",
        "outputId": "ae38fbcb-6a8e-4167-82a8-28679bc726b7"
      },
      "source": [
        "# Create two new columns 'Subjectivity' & 'Polarity'\n",
        "saudia_airlines_en['Subjectivity'] = saudia_airlines_en['text'].apply(getSubjectivity)\n",
        "saudia_airlines_en['Polarity'] = saudia_airlines_en['text'].apply(getPolarity)\n",
        "\n",
        "# Show the new dataframe with columns 'Subjectivity' & 'Polarity'\n",
        "saudia_airlines_en"
      ],
      "execution_count": 28,
      "outputs": [
        {
          "output_type": "stream",
          "text": [
            "/usr/local/lib/python3.6/dist-packages/ipykernel_launcher.py:2: SettingWithCopyWarning: \n",
            "A value is trying to be set on a copy of a slice from a DataFrame.\n",
            "Try using .loc[row_indexer,col_indexer] = value instead\n",
            "\n",
            "See the caveats in the documentation: https://pandas.pydata.org/pandas-docs/stable/user_guide/indexing.html#returning-a-view-versus-a-copy\n",
            "  \n",
            "/usr/local/lib/python3.6/dist-packages/ipykernel_launcher.py:3: SettingWithCopyWarning: \n",
            "A value is trying to be set on a copy of a slice from a DataFrame.\n",
            "Try using .loc[row_indexer,col_indexer] = value instead\n",
            "\n",
            "See the caveats in the documentation: https://pandas.pydata.org/pandas-docs/stable/user_guide/indexing.html#returning-a-view-versus-a-copy\n",
            "  This is separate from the ipykernel package so we can avoid doing imports until\n"
          ],
          "name": "stderr"
        },
        {
          "output_type": "execute_result",
          "data": {
            "text/html": [
              "<div>\n",
              "<style scoped>\n",
              "    .dataframe tbody tr th:only-of-type {\n",
              "        vertical-align: middle;\n",
              "    }\n",
              "\n",
              "    .dataframe tbody tr th {\n",
              "        vertical-align: top;\n",
              "    }\n",
              "\n",
              "    .dataframe thead th {\n",
              "        text-align: right;\n",
              "    }\n",
              "</style>\n",
              "<table border=\"1\" class=\"dataframe\">\n",
              "  <thead>\n",
              "    <tr style=\"text-align: right;\">\n",
              "      <th></th>\n",
              "      <th>tweet_id</th>\n",
              "      <th>created_at</th>\n",
              "      <th>text</th>\n",
              "      <th>likes</th>\n",
              "      <th>retweeted</th>\n",
              "      <th>location</th>\n",
              "      <th>language</th>\n",
              "      <th>airline</th>\n",
              "      <th>Tweet_tokenized</th>\n",
              "      <th>Tweet_nonstop</th>\n",
              "      <th>Tweet_stemmed</th>\n",
              "      <th>tidy_tweet</th>\n",
              "      <th>Subjectivity</th>\n",
              "      <th>Polarity</th>\n",
              "    </tr>\n",
              "  </thead>\n",
              "  <tbody>\n",
              "    <tr>\n",
              "      <th>14</th>\n",
              "      <td>1335393841810202624</td>\n",
              "      <td>2020-12-06 01:21:16</td>\n",
              "      <td>dear guest there is no flight from india to saudi arabia at this time kindly follow the flights…</td>\n",
              "      <td>1</td>\n",
              "      <td>False</td>\n",
              "      <td>Saudi Arabia</td>\n",
              "      <td>en</td>\n",
              "      <td>Saudi_airlines</td>\n",
              "      <td>[, dear, guest, there, is, no, flight, from, india, to, saudi, arabia, at, this, time, kindly, f...</td>\n",
              "      <td>[, dear, guest, flight, india, saudi, arabia, time, kindly, follow, flights, ]</td>\n",
              "      <td>[, dear, guest, flight, india, saudi, arabia, time, kindli, follow, flight, ]</td>\n",
              "      <td>dear guest there flight from india saudi arabia this time kindly follow flights…</td>\n",
              "      <td>0.900</td>\n",
              "      <td>0.600</td>\n",
              "    </tr>\n",
              "    <tr>\n",
              "      <th>23</th>\n",
              "      <td>1335337522738720770</td>\n",
              "      <td>2020-12-05 21:37:29</td>\n",
              "      <td>hello dear guest we hope you check and be informed of travel updates due to the corona virus co...</td>\n",
              "      <td>1</td>\n",
              "      <td>False</td>\n",
              "      <td>Saudi Arabia</td>\n",
              "      <td>en</td>\n",
              "      <td>Saudi_airlines</td>\n",
              "      <td>[, hello, dear, guest, we, hope, you, check, and, be, informed, of, travel, updates, due, to, th...</td>\n",
              "      <td>[, hello, dear, guest, hope, check, informed, travel, updates, due, corona, virus, covid, ]</td>\n",
              "      <td>[, hello, dear, guest, hope, check, inform, travel, updat, due, corona, viru, covid, ]</td>\n",
              "      <td>hello dear guest hope check informed travel updates corona virus covid…</td>\n",
              "      <td>0.375</td>\n",
              "      <td>-0.125</td>\n",
              "    </tr>\n",
              "    <tr>\n",
              "      <th>29</th>\n",
              "      <td>1335334320014315521</td>\n",
              "      <td>2020-12-05 21:24:45</td>\n",
              "      <td>hello dear guest please provide us with the booking number through the direct message to let yo...</td>\n",
              "      <td>0</td>\n",
              "      <td>False</td>\n",
              "      <td>Saudi Arabia</td>\n",
              "      <td>en</td>\n",
              "      <td>Saudi_airlines</td>\n",
              "      <td>[, hello, dear, guest, please, provide, us, with, the, booking, number, through, the, direct, me...</td>\n",
              "      <td>[, hello, dear, guest, please, provide, us, booking, number, direct, message, let, know, thank]</td>\n",
              "      <td>[, hello, dear, guest, pleas, provid, us, book, number, direct, messag, let, know, thank]</td>\n",
              "      <td>hello dear guest please provide with booking number through direct message know thank</td>\n",
              "      <td>0.400</td>\n",
              "      <td>0.100</td>\n",
              "    </tr>\n",
              "    <tr>\n",
              "      <th>38</th>\n",
              "      <td>1335322063851167748</td>\n",
              "      <td>2020-12-05 20:36:03</td>\n",
              "      <td>dear guest there is no flight from india to saudi arabia at this time when flights schedule back…</td>\n",
              "      <td>1</td>\n",
              "      <td>False</td>\n",
              "      <td>Saudi Arabia</td>\n",
              "      <td>en</td>\n",
              "      <td>Saudi_airlines</td>\n",
              "      <td>[, dear, guest, there, is, no, flight, from, india, to, saudi, arabia, at, this, time, when, fli...</td>\n",
              "      <td>[, dear, guest, flight, india, saudi, arabia, time, flights, schedule, back, ]</td>\n",
              "      <td>[, dear, guest, flight, india, saudi, arabia, time, flight, schedul, back, ]</td>\n",
              "      <td>dear guest there flight from india saudi arabia this time when flights schedule back…</td>\n",
              "      <td>0.000</td>\n",
              "      <td>0.000</td>\n",
              "    </tr>\n",
              "    <tr>\n",
              "      <th>43</th>\n",
              "      <td>1335314759588122626</td>\n",
              "      <td>2020-12-05 20:07:02</td>\n",
              "      <td>hello dear guest you can follow up the flights schedule in our website  …</td>\n",
              "      <td>1</td>\n",
              "      <td>False</td>\n",
              "      <td>Saudi Arabia</td>\n",
              "      <td>en</td>\n",
              "      <td>Saudi_airlines</td>\n",
              "      <td>[, hello, dear, guest, you, can, follow, up, the, flights, schedule, in, our, website, ]</td>\n",
              "      <td>[, hello, dear, guest, follow, flights, schedule, website, ]</td>\n",
              "      <td>[, hello, dear, guest, follow, flight, schedul, websit, ]</td>\n",
              "      <td>hello dear guest follow flights schedule website</td>\n",
              "      <td>0.000</td>\n",
              "      <td>0.000</td>\n",
              "    </tr>\n",
              "    <tr>\n",
              "      <th>...</th>\n",
              "      <td>...</td>\n",
              "      <td>...</td>\n",
              "      <td>...</td>\n",
              "      <td>...</td>\n",
              "      <td>...</td>\n",
              "      <td>...</td>\n",
              "      <td>...</td>\n",
              "      <td>...</td>\n",
              "      <td>...</td>\n",
              "      <td>...</td>\n",
              "      <td>...</td>\n",
              "      <td>...</td>\n",
              "      <td>...</td>\n",
              "      <td>...</td>\n",
              "    </tr>\n",
              "    <tr>\n",
              "      <th>3225</th>\n",
              "      <td>1320352707732000768</td>\n",
              "      <td>2020-10-25 13:13:11</td>\n",
              "      <td>dear guest kindly check the flights schedule on  and choose flights info…</td>\n",
              "      <td>0</td>\n",
              "      <td>False</td>\n",
              "      <td>Saudi Arabia</td>\n",
              "      <td>en</td>\n",
              "      <td>Saudi_airlines</td>\n",
              "      <td>[, dear, guest, kindly, check, the, flights, schedule, on, and, choose, flights, info, ]</td>\n",
              "      <td>[, dear, guest, kindly, check, flights, schedule, choose, flights, info, ]</td>\n",
              "      <td>[, dear, guest, kindli, check, flight, schedul, choos, flight, info, ]</td>\n",
              "      <td>dear guest kindly check flights schedule choose flights info…</td>\n",
              "      <td>0.900</td>\n",
              "      <td>0.600</td>\n",
              "    </tr>\n",
              "    <tr>\n",
              "      <th>3226</th>\n",
              "      <td>1320352682104729600</td>\n",
              "      <td>2020-10-25 13:13:05</td>\n",
              "      <td>dear guest kindly check the flights schedule on  and choose flights info…</td>\n",
              "      <td>0</td>\n",
              "      <td>False</td>\n",
              "      <td>Saudi Arabia</td>\n",
              "      <td>en</td>\n",
              "      <td>Saudi_airlines</td>\n",
              "      <td>[, dear, guest, kindly, check, the, flights, schedule, on, and, choose, flights, info, ]</td>\n",
              "      <td>[, dear, guest, kindly, check, flights, schedule, choose, flights, info, ]</td>\n",
              "      <td>[, dear, guest, kindli, check, flight, schedul, choos, flight, info, ]</td>\n",
              "      <td>dear guest kindly check flights schedule choose flights info…</td>\n",
              "      <td>0.900</td>\n",
              "      <td>0.600</td>\n",
              "    </tr>\n",
              "    <tr>\n",
              "      <th>3227</th>\n",
              "      <td>1320352661305237507</td>\n",
              "      <td>2020-10-25 13:13:00</td>\n",
              "      <td>dear guest kindly check the flights schedule on  and choose flights info t…</td>\n",
              "      <td>0</td>\n",
              "      <td>False</td>\n",
              "      <td>Saudi Arabia</td>\n",
              "      <td>en</td>\n",
              "      <td>Saudi_airlines</td>\n",
              "      <td>[, dear, guest, kindly, check, the, flights, schedule, on, and, choose, flights, info, t, ]</td>\n",
              "      <td>[, dear, guest, kindly, check, flights, schedule, choose, flights, info, ]</td>\n",
              "      <td>[, dear, guest, kindli, check, flight, schedul, choos, flight, info, ]</td>\n",
              "      <td>dear guest kindly check flights schedule choose flights info</td>\n",
              "      <td>0.900</td>\n",
              "      <td>0.600</td>\n",
              "    </tr>\n",
              "    <tr>\n",
              "      <th>3229</th>\n",
              "      <td>1320339013727899648</td>\n",
              "      <td>2020-10-25 12:18:46</td>\n",
              "      <td>once the flights resumed it will show in our website and you can book your flight residents wit...</td>\n",
              "      <td>0</td>\n",
              "      <td>False</td>\n",
              "      <td>Saudi Arabia</td>\n",
              "      <td>en</td>\n",
              "      <td>Saudi_airlines</td>\n",
              "      <td>[, once, the, flights, resumed, it, will, show, in, our, website, and, you, can, book, your, fli...</td>\n",
              "      <td>[, flights, resumed, show, website, book, flight, residents, ex, ]</td>\n",
              "      <td>[, flight, resum, show, websit, book, flight, resid, ex, ]</td>\n",
              "      <td>once flights resumed will show website book your flight residents with</td>\n",
              "      <td>0.000</td>\n",
              "      <td>0.000</td>\n",
              "    </tr>\n",
              "    <tr>\n",
              "      <th>3231</th>\n",
              "      <td>1320337737224998918</td>\n",
              "      <td>2020-10-25 12:13:41</td>\n",
              "      <td>once the flights resumed it will show in our website and yo can book your flight residents with...</td>\n",
              "      <td>0</td>\n",
              "      <td>False</td>\n",
              "      <td>Saudi Arabia</td>\n",
              "      <td>en</td>\n",
              "      <td>Saudi_airlines</td>\n",
              "      <td>[, once, the, flights, resumed, it, will, show, in, our, website, and, yo, can, book, your, flig...</td>\n",
              "      <td>[, flights, resumed, show, website, yo, book, flight, residents, e, ]</td>\n",
              "      <td>[, flight, resum, show, websit, yo, book, flight, resid, e, ]</td>\n",
              "      <td>once flights resumed will show website book your flight residents with</td>\n",
              "      <td>0.000</td>\n",
              "      <td>0.000</td>\n",
              "    </tr>\n",
              "  </tbody>\n",
              "</table>\n",
              "<p>1464 rows × 14 columns</p>\n",
              "</div>"
            ],
            "text/plain": [
              "                 tweet_id           created_at  ... Subjectivity  Polarity\n",
              "14    1335393841810202624  2020-12-06 01:21:16  ...        0.900     0.600\n",
              "23    1335337522738720770  2020-12-05 21:37:29  ...        0.375    -0.125\n",
              "29    1335334320014315521  2020-12-05 21:24:45  ...        0.400     0.100\n",
              "38    1335322063851167748  2020-12-05 20:36:03  ...        0.000     0.000\n",
              "43    1335314759588122626  2020-12-05 20:07:02  ...        0.000     0.000\n",
              "...                   ...                  ...  ...          ...       ...\n",
              "3225  1320352707732000768  2020-10-25 13:13:11  ...        0.900     0.600\n",
              "3226  1320352682104729600  2020-10-25 13:13:05  ...        0.900     0.600\n",
              "3227  1320352661305237507  2020-10-25 13:13:00  ...        0.900     0.600\n",
              "3229  1320339013727899648  2020-10-25 12:18:46  ...        0.000     0.000\n",
              "3231  1320337737224998918  2020-10-25 12:13:41  ...        0.000     0.000\n",
              "\n",
              "[1464 rows x 14 columns]"
            ]
          },
          "metadata": {
            "tags": []
          },
          "execution_count": 28
        }
      ]
    },
    {
      "cell_type": "code",
      "metadata": {
        "colab": {
          "base_uri": "https://localhost:8080/",
          "height": 232
        },
        "id": "Bn7IsS7uSKWR",
        "outputId": "cae1ecba-19bc-49b2-d787-3470ae5bb929"
      },
      "source": [
        "# word cloud visualization\n",
        "allWords = ' '.join([twts for twts in saudia_airlines_en['text']])\n",
        "wordCloud = WordCloud(width=500, height=300, random_state=21, max_font_size=110).generate(allWords)\n",
        "\n",
        "\n",
        "plt.imshow(wordCloud, interpolation=\"bilinear\")\n",
        "plt.axis('off')\n",
        "plt.show()"
      ],
      "execution_count": 32,
      "outputs": [
        {
          "output_type": "display_data",
          "data": {
            "image/png": "[encoded data removed]",
            "text/plain": [
              "<Figure size 432x288 with 1 Axes>"
            ]
          },
          "metadata": {
            "tags": [],
            "needs_background": "light"
          }
        }
      ]
    },
    {
      "cell_type": "code",
      "metadata": {
        "id": "fI4qzixXSap_"
      },
      "source": [
        "# Create a function to compute negative (-1), neutral (0) and positive (+1) analysis\n",
        "def getAnalysis(score):\n",
        "  if score < 0:\n",
        "    return 'Negative'\n",
        "  elif score == 0:\n",
        "    return 'Neutral'\n",
        "  else:\n",
        "    return 'Positive'"
      ],
      "execution_count": 153,
      "outputs": []
    },
    {
      "cell_type": "code",
      "metadata": {
        "colab": {
          "base_uri": "https://localhost:8080/",
          "height": 881
        },
        "id": "zGUFHFVPH5hY",
        "outputId": "1134d746-5bea-4d34-9d11-fa071f1c1063"
      },
      "source": [
        "saudia_airlines_en['Analysis'] = saudia_airlines_en['Polarity'].apply(getAnalysis)\n",
        "# Show the dataframe\n",
        "saudia_airlines_en"
      ],
      "execution_count": 154,
      "outputs": [
        {
          "output_type": "stream",
          "text": [
            "/usr/local/lib/python3.6/dist-packages/ipykernel_launcher.py:1: SettingWithCopyWarning: \n",
            "A value is trying to be set on a copy of a slice from a DataFrame.\n",
            "Try using .loc[row_indexer,col_indexer] = value instead\n",
            "\n",
            "See the caveats in the documentation: https://pandas.pydata.org/pandas-docs/stable/user_guide/indexing.html#returning-a-view-versus-a-copy\n",
            "  \"\"\"Entry point for launching an IPython kernel.\n"
          ],
          "name": "stderr"
        },
        {
          "output_type": "execute_result",
          "data": {
            "text/html": [
              "<div>\n",
              "<style scoped>\n",
              "    .dataframe tbody tr th:only-of-type {\n",
              "        vertical-align: middle;\n",
              "    }\n",
              "\n",
              "    .dataframe tbody tr th {\n",
              "        vertical-align: top;\n",
              "    }\n",
              "\n",
              "    .dataframe thead th {\n",
              "        text-align: right;\n",
              "    }\n",
              "</style>\n",
              "<table border=\"1\" class=\"dataframe\">\n",
              "  <thead>\n",
              "    <tr style=\"text-align: right;\">\n",
              "      <th></th>\n",
              "      <th>tweet_id</th>\n",
              "      <th>created_at</th>\n",
              "      <th>text</th>\n",
              "      <th>likes</th>\n",
              "      <th>retweeted</th>\n",
              "      <th>location</th>\n",
              "      <th>language</th>\n",
              "      <th>airline</th>\n",
              "      <th>Subjectivity</th>\n",
              "      <th>Polarity</th>\n",
              "      <th>Analysis</th>\n",
              "    </tr>\n",
              "  </thead>\n",
              "  <tbody>\n",
              "    <tr>\n",
              "      <th>14</th>\n",
              "      <td>1335393841810202624</td>\n",
              "      <td>2020-12-06 01:21:16</td>\n",
              "      <td>43723700 Dear guest, there is no flight from I...</td>\n",
              "      <td>1</td>\n",
              "      <td>False</td>\n",
              "      <td>Saudi Arabia</td>\n",
              "      <td>en</td>\n",
              "      <td>Saudi_airlines</td>\n",
              "      <td>0.900</td>\n",
              "      <td>0.600</td>\n",
              "      <td>Positive</td>\n",
              "    </tr>\n",
              "    <tr>\n",
              "      <th>23</th>\n",
              "      <td>1335337522738720770</td>\n",
              "      <td>2020-12-05 21:37:29</td>\n",
              "      <td>Hello dear guest, we hope you check and be in...</td>\n",
              "      <td>1</td>\n",
              "      <td>False</td>\n",
              "      <td>Saudi Arabia</td>\n",
              "      <td>en</td>\n",
              "      <td>Saudi_airlines</td>\n",
              "      <td>0.375</td>\n",
              "      <td>-0.125</td>\n",
              "      <td>Negative</td>\n",
              "    </tr>\n",
              "    <tr>\n",
              "      <th>29</th>\n",
              "      <td>1335334320014315521</td>\n",
              "      <td>2020-12-05 21:24:45</td>\n",
              "      <td>Hello dear guest, please provide us with the ...</td>\n",
              "      <td>0</td>\n",
              "      <td>False</td>\n",
              "      <td>Saudi Arabia</td>\n",
              "      <td>en</td>\n",
              "      <td>Saudi_airlines</td>\n",
              "      <td>0.400</td>\n",
              "      <td>0.100</td>\n",
              "      <td>Positive</td>\n",
              "    </tr>\n",
              "    <tr>\n",
              "      <th>38</th>\n",
              "      <td>1335322063851167748</td>\n",
              "      <td>2020-12-05 20:36:03</td>\n",
              "      <td>60633858 Dear guest, there is no flight from I...</td>\n",
              "      <td>1</td>\n",
              "      <td>False</td>\n",
              "      <td>Saudi Arabia</td>\n",
              "      <td>en</td>\n",
              "      <td>Saudi_airlines</td>\n",
              "      <td>0.000</td>\n",
              "      <td>0.000</td>\n",
              "      <td>Neutral</td>\n",
              "    </tr>\n",
              "    <tr>\n",
              "      <th>43</th>\n",
              "      <td>1335314759588122626</td>\n",
              "      <td>2020-12-05 20:07:02</td>\n",
              "      <td>79348 Hello dear guest, You can follow up the ...</td>\n",
              "      <td>1</td>\n",
              "      <td>False</td>\n",
              "      <td>Saudi Arabia</td>\n",
              "      <td>en</td>\n",
              "      <td>Saudi_airlines</td>\n",
              "      <td>0.000</td>\n",
              "      <td>0.000</td>\n",
              "      <td>Neutral</td>\n",
              "    </tr>\n",
              "    <tr>\n",
              "      <th>...</th>\n",
              "      <td>...</td>\n",
              "      <td>...</td>\n",
              "      <td>...</td>\n",
              "      <td>...</td>\n",
              "      <td>...</td>\n",
              "      <td>...</td>\n",
              "      <td>...</td>\n",
              "      <td>...</td>\n",
              "      <td>...</td>\n",
              "      <td>...</td>\n",
              "      <td>...</td>\n",
              "    </tr>\n",
              "    <tr>\n",
              "      <th>3225</th>\n",
              "      <td>1320352707732000768</td>\n",
              "      <td>2020-10-25 13:13:11</td>\n",
              "      <td>667949 Dear guest, Kindly check the flights sc...</td>\n",
              "      <td>0</td>\n",
              "      <td>False</td>\n",
              "      <td>Saudi Arabia</td>\n",
              "      <td>en</td>\n",
              "      <td>Saudi_airlines</td>\n",
              "      <td>0.900</td>\n",
              "      <td>0.600</td>\n",
              "      <td>Positive</td>\n",
              "    </tr>\n",
              "    <tr>\n",
              "      <th>3226</th>\n",
              "      <td>1320352682104729600</td>\n",
              "      <td>2020-10-25 13:13:05</td>\n",
              "      <td>56730529 Dear guest, Kindly check the flights ...</td>\n",
              "      <td>0</td>\n",
              "      <td>False</td>\n",
              "      <td>Saudi Arabia</td>\n",
              "      <td>en</td>\n",
              "      <td>Saudi_airlines</td>\n",
              "      <td>0.900</td>\n",
              "      <td>0.600</td>\n",
              "      <td>Positive</td>\n",
              "    </tr>\n",
              "    <tr>\n",
              "      <th>3227</th>\n",
              "      <td>1320352661305237507</td>\n",
              "      <td>2020-10-25 13:13:00</td>\n",
              "      <td>5 Dear guest, Kindly check the flights schedul...</td>\n",
              "      <td>0</td>\n",
              "      <td>False</td>\n",
              "      <td>Saudi Arabia</td>\n",
              "      <td>en</td>\n",
              "      <td>Saudi_airlines</td>\n",
              "      <td>0.900</td>\n",
              "      <td>0.600</td>\n",
              "      <td>Positive</td>\n",
              "    </tr>\n",
              "    <tr>\n",
              "      <th>3229</th>\n",
              "      <td>1320339013727899648</td>\n",
              "      <td>2020-10-25 12:18:46</td>\n",
              "      <td>58724090 Once the flights resumed it will show...</td>\n",
              "      <td>0</td>\n",
              "      <td>False</td>\n",
              "      <td>Saudi Arabia</td>\n",
              "      <td>en</td>\n",
              "      <td>Saudi_airlines</td>\n",
              "      <td>0.000</td>\n",
              "      <td>0.000</td>\n",
              "      <td>Neutral</td>\n",
              "    </tr>\n",
              "    <tr>\n",
              "      <th>3231</th>\n",
              "      <td>1320337737224998918</td>\n",
              "      <td>2020-10-25 12:13:41</td>\n",
              "      <td>1180751 Once the flights resumed it will show ...</td>\n",
              "      <td>0</td>\n",
              "      <td>False</td>\n",
              "      <td>Saudi Arabia</td>\n",
              "      <td>en</td>\n",
              "      <td>Saudi_airlines</td>\n",
              "      <td>0.000</td>\n",
              "      <td>0.000</td>\n",
              "      <td>Neutral</td>\n",
              "    </tr>\n",
              "  </tbody>\n",
              "</table>\n",
              "<p>1464 rows × 11 columns</p>\n",
              "</div>"
            ],
            "text/plain": [
              "                 tweet_id           created_at  ... Polarity  Analysis\n",
              "14    1335393841810202624  2020-12-06 01:21:16  ...    0.600  Positive\n",
              "23    1335337522738720770  2020-12-05 21:37:29  ...   -0.125  Negative\n",
              "29    1335334320014315521  2020-12-05 21:24:45  ...    0.100  Positive\n",
              "38    1335322063851167748  2020-12-05 20:36:03  ...    0.000   Neutral\n",
              "43    1335314759588122626  2020-12-05 20:07:02  ...    0.000   Neutral\n",
              "...                   ...                  ...  ...      ...       ...\n",
              "3225  1320352707732000768  2020-10-25 13:13:11  ...    0.600  Positive\n",
              "3226  1320352682104729600  2020-10-25 13:13:05  ...    0.600  Positive\n",
              "3227  1320352661305237507  2020-10-25 13:13:00  ...    0.600  Positive\n",
              "3229  1320339013727899648  2020-10-25 12:18:46  ...    0.000   Neutral\n",
              "3231  1320337737224998918  2020-10-25 12:13:41  ...    0.000   Neutral\n",
              "\n",
              "[1464 rows x 11 columns]"
            ]
          },
          "metadata": {
            "tags": []
          },
          "execution_count": 154
        }
      ]
    },
    {
      "cell_type": "code",
      "metadata": {
        "id": "yWWzSccbML2U"
      },
      "source": [
        "#Sentiment Analysis\n",
        "\n",
        "#def percentage(part,whole):\n",
        "    #return 100 * float(part)/float(whole) \n",
        "\n",
        "#keyword = \"flynas\"\n",
        "#noOfTweet = 100\n",
        "\n",
        "\n",
        "\n",
        "#tweets = tweepy.Cursor(api.search, q=keyword, lang = \"en\", since = \"2019-09-01\" ).items(noOfTweet)\n",
        "\n",
        "# transform it to FUNCTION\n",
        "positive  = 0\n",
        "negative = 0\n",
        "neutral = 0\n",
        "polarity = 0\n",
        "tweet_list = []\n",
        "neutral_list = []\n",
        "negative_list = []\n",
        "positive_list = []\n",
        "\n",
        "for tweet in saudia_airlines_en[\"text\"]:\n",
        "    \n",
        "    #print(tweet.text)\n",
        "    tweet_list.append(tweet)\n",
        "    analysis = TextBlob(tweet)\n",
        "    score = SentimentIntensityAnalyzer().polarity_scores(tweet)\n",
        "    neg = score['neg']\n",
        "    neu = score['neu']\n",
        "    pos = score['pos']\n",
        "    comp = score['compound']\n",
        "    polarity += analysis.sentiment.polarity\n",
        "    \n",
        "    if neg > pos:\n",
        "        negative_list.append(tweet)\n",
        "        negative += 1\n",
        "\n",
        "    elif pos > neg:\n",
        "        positive_list.append(tweet)\n",
        "        positive += 1\n",
        "    \n",
        "    elif pos == neg:\n",
        "        neutral_list.append(tweet)\n",
        "        neutral += 1\n",
        "\n",
        "#positive = percentage(positive, noOfTweet)\n",
        "#negative = percentage(negative, noOfTweet)\n",
        "#neutral = percentage(neutral, noOfTweet)\n",
        "#polarity = percentage(polarity, noOfTweet)\n",
        "#positive = format(positive, '.1f')\n",
        "#negative = format(negative, '.1f')\n",
        "#neutral = format(neutral, '.1f')"
      ],
      "execution_count": 30,
      "outputs": []
    },
    {
      "cell_type": "code",
      "metadata": {
        "colab": {
          "base_uri": "https://localhost:8080/"
        },
        "id": "VU1WRAZqcpDR",
        "outputId": "20761aac-dfbc-4a06-83b1-9af7dafbe2bc"
      },
      "source": [
        "#Number of Tweets (Total, Positive, Negative, Neutral)\n",
        "tweet_list = pd.DataFrame(tweet_list)\n",
        "neutral_list = pd.DataFrame(neutral_list)\n",
        "negative_list = pd.DataFrame(negative_list)\n",
        "positive_list = pd.DataFrame(positive_list)\n",
        "print(\"total number: \",len(tweet_list))\n",
        "print(\"positive number: \",len(positive_list))\n",
        "print(\"negative number: \", len(negative_list))\n",
        "print(\"neutral number: \",len(neutral_list))\n"
      ],
      "execution_count": 31,
      "outputs": [
        {
          "output_type": "stream",
          "text": [
            "total number:  1464\n",
            "positive number:  1429\n",
            "negative number:  28\n",
            "neutral number:  7\n"
          ],
          "name": "stdout"
        }
      ]
    }
  ]
}