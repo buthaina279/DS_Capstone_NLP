{
  "nbformat": 4,
  "nbformat_minor": 0,
  "metadata": {
    "colab": {
      "name": "Capstone.ipynb",
      "provenance": [],
      "collapsed_sections": [],
      "authorship_tag": "ABX9TyPNoizN6JYwyfxnwRnK5A1G",
      "include_colab_link": true
    },
    "kernelspec": {
      "name": "python3",
      "display_name": "Python 3"
    }
  },
  "cells": [
    {
      "cell_type": "markdown",
      "metadata": {
        "id": "view-in-github",
        "colab_type": "text"
      },
      "source": [
        "<a href=\"https://colab.research.google.com/github/buthaina279/DS_Capstone_NLP/blob/main/Capstone.ipynb\" target=\"_parent\"><img src=\"https://colab.research.google.com/assets/colab-badge.svg\" alt=\"Open In Colab\"/></a>"
      ]
    },
    {
      "cell_type": "code",
      "metadata": {
        "id": "trMq9TeJe4VX"
      },
      "source": [
        "# Import all needed libraries\n",
        "import tweepy                   # Python wrapper around Twitter API\n",
        "from google.colab import drive  # to mount Drive to Colab notebook\n",
        "import json\n",
        "import csv\n",
        "from datetime import date\n",
        "from datetime import datetime\n",
        "import time"
      ],
      "execution_count": 5,
      "outputs": []
    },
    {
      "cell_type": "code",
      "metadata": {
        "id": "9Z-0D4S43YBB"
      },
      "source": [
        "# Install Libraries\n",
        "!pip install pycountry"
      ],
      "execution_count": null,
      "outputs": []
    },
    {
      "cell_type": "code",
      "metadata": {
        "id": "wt04mgwg36NV"
      },
      "source": [
        "!pip install langdetect"
      ],
      "execution_count": null,
      "outputs": []
    },
    {
      "cell_type": "code",
      "metadata": {
        "id": "fpwspMND3VaM",
        "colab": {
          "base_uri": "https://localhost:8080/"
        },
        "outputId": "ebec991f-030c-4527-ff99-212fb1466994"
      },
      "source": [
        "# Import Libraries\n",
        "\n",
        "from textblob import TextBlob\n",
        "import sys\n",
        "import tweepy\n",
        "import matplotlib.pyplot as plt\n",
        "import pandas as pd\n",
        "import numpy as np\n",
        "import os\n",
        "import nltk\n",
        "import pycountry\n",
        "import re\n",
        "import string\n",
        "\n",
        "from wordcloud import WordCloud, STOPWORDS\n",
        "from PIL import Image\n",
        "from nltk.sentiment.vader import SentimentIntensityAnalyzer\n",
        "from langdetect import detect\n",
        "from nltk.stem import SnowballStemmer\n",
        "from nltk.sentiment.vader import SentimentIntensityAnalyzer\n",
        "from sklearn.feature_extraction.text import CountVectorizer"
      ],
      "execution_count": 14,
      "outputs": [
        {
          "output_type": "stream",
          "text": [
            "/usr/local/lib/python3.6/dist-packages/nltk/twitter/__init__.py:20: UserWarning: The twython library has not been installed. Some functionality from the twitter package will not be available.\n",
            "  warnings.warn(\"The twython library has not been installed. \"\n"
          ],
          "name": "stderr"
        }
      ]
    },
    {
      "cell_type": "code",
      "metadata": {
        "colab": {
          "base_uri": "https://localhost:8080/"
        },
        "id": "23aiW2uc5FEL",
        "outputId": "6128bdff-6c75-496e-e11c-a44895fc6443"
      },
      "source": [
        "import nltk\n",
        "nltk.download('vader_lexicon')"
      ],
      "execution_count": 9,
      "outputs": [
        {
          "output_type": "stream",
          "text": [
            "[nltk_data] Downloading package vader_lexicon to /root/nltk_data...\n"
          ],
          "name": "stdout"
        },
        {
          "output_type": "execute_result",
          "data": {
            "text/plain": [
              "True"
            ]
          },
          "metadata": {
            "tags": []
          },
          "execution_count": 9
        }
      ]
    },
    {
      "cell_type": "code",
      "metadata": {
        "colab": {
          "base_uri": "https://localhost:8080/"
        },
        "id": "hvqCIx4yl9Hu",
        "outputId": "e7dd595e-4c25-4217-e2a9-46d2e1c9dd0c"
      },
      "source": [
        "# Connect Google Drive to Colab\n",
        "drive.mount('/content/gdrive')\n",
        "# Create a variable to store the data path on your drive\n",
        "path = './gdrive/My Drive/datasets/twitter_analysis'"
      ],
      "execution_count": 23,
      "outputs": [
        {
          "output_type": "stream",
          "text": [
            "Drive already mounted at /content/gdrive; to attempt to forcibly remount, call drive.mount(\"/content/gdrive\", force_remount=True).\n"
          ],
          "name": "stdout"
        }
      ]
    },
    {
      "cell_type": "code",
      "metadata": {
        "id": "VLYWMUPJmmGh"
      },
      "source": [
        "consumer_key=\"5iwJ0kh5IkWudh2kXbbV0s5eM\"\n",
        "consumer_secret=\"DSZGordR8WpGbNJbxwEwMBvJ4E4RJRbemzLQ0vpVArAzSuoLqY\"\n",
        "access_token=\"799815406462652416-V4f33Mp2G81GeSLeWVHQgGtp2djIuyK\"\n",
        "access_token_secret=\"UH4iGaQhmNiKVeo2scTmgZneTQuRDR10SSoyivGS0qU0K\"\n",
        "\n",
        "\n",
        "auth = tweepy.OAuthHandler(consumer_key,consumer_secret)\n",
        "auth.set_access_token(access_token, access_token_secret)\n",
        "api = tweepy.API(auth)"
      ],
      "execution_count": 9,
      "outputs": []
    },
    {
      "cell_type": "code",
      "metadata": {
        "id": "f-5CJLw-60N7"
      },
      "source": [
        "# Helper function to get all tweets of a specified user\n",
        "# NOTE:This method only allows access to the most recent 3200 tweets\n",
        "# Source: https://gist.github.com/yanofsky/5436496\n",
        "def get_all_tweets(screen_name):\n",
        "  # initialize a list to hold all the Tweets\n",
        "  alltweets = []\n",
        "  # make initial request for most recent tweets \n",
        "  # (200 is the maximum allowed count)\n",
        "  new_tweets = api.user_timeline(screen_name = screen_name,count=200,lang=\"en\")\n",
        "  # save most recent tweets\n",
        "  alltweets.extend(new_tweets)\n",
        "  # save the id of the oldest tweet less one to avoid duplication\n",
        "  oldest = alltweets[-1].id - 1\n",
        "  # keep grabbing tweets until there are no tweets left\n",
        "  while len(new_tweets) > 0:\n",
        "    print(\"getting tweets before %s\" % (oldest))\n",
        "    # all subsequent requests use the max_id param to prevent\n",
        "    # duplicates\n",
        "    new_tweets = api.user_timeline(screen_name = screen_name,count=200,max_id=oldest,lang=\"en\")\n",
        "    # save most recent tweets\n",
        "    alltweets.extend(new_tweets)\n",
        "    # update the id of the oldest tweet less one\n",
        "    oldest = alltweets[-1].id - 1\n",
        "    print(\"...%s tweets downloaded so far\" % (len(alltweets)))\n",
        "    ### END OF WHILE LOOP ###\n",
        "  # transform the tweepy tweets into a 2D array that will \n",
        "  # populate the csv\n",
        "  outtweets = [[tweet.id_str, tweet.created_at, tweet.text, tweet.favorite_count,\n",
        "                tweet.retweeted, tweet.user.location, tweet.lang, screen_name] \n",
        "               for tweet in alltweets]\n",
        "  # write the csv\n",
        "  with open(path + '/%s_tweets.csv' % screen_name, 'w') as f:\n",
        "    writer = csv.writer(f)\n",
        "    writer.writerow([\"tweet_id\",\"created_at\",\"text\",\"likes\",\"retweeted\", \"location\", \"language\" , \"airline\"])\n",
        "    writer.writerows(outtweets)\n",
        "  pass"
      ],
      "execution_count": 73,
      "outputs": []
    },
    {
      "cell_type": "code",
      "metadata": {
        "id": "INh4lHly7hQv",
        "outputId": "ffa50313-3948-4461-d103-011e028fe064",
        "colab": {
          "base_uri": "https://localhost:8080/"
        }
      },
      "source": [
        "get_all_tweets(\"Saudi_airlines\")"
      ],
      "execution_count": 74,
      "outputs": [
        {
          "output_type": "stream",
          "text": [
            "getting tweets before 1334489417705283583\n",
            "...400 tweets downloaded so far\n",
            "getting tweets before 1333113052523278335\n",
            "...600 tweets downloaded so far\n",
            "getting tweets before 1331842146010329087\n",
            "...800 tweets downloaded so far\n",
            "getting tweets before 1330515098880892938\n",
            "...1000 tweets downloaded so far\n",
            "getting tweets before 1329484694203854847\n",
            "...1200 tweets downloaded so far\n",
            "getting tweets before 1328416262863675409\n",
            "...1400 tweets downloaded so far\n",
            "getting tweets before 1327585367529238527\n",
            "...1600 tweets downloaded so far\n",
            "getting tweets before 1326219825186824194\n",
            "...1800 tweets downloaded so far\n",
            "getting tweets before 1325428767305699328\n",
            "...2000 tweets downloaded so far\n",
            "getting tweets before 1324199870668906495\n",
            "...2200 tweets downloaded so far\n",
            "getting tweets before 1323489534596841472\n",
            "...2400 tweets downloaded so far\n",
            "getting tweets before 1322723737125441537\n",
            "...2600 tweets downloaded so far\n",
            "getting tweets before 1322025226901901312\n",
            "...2800 tweets downloaded so far\n",
            "getting tweets before 1321139105506447360\n",
            "...3000 tweets downloaded so far\n",
            "getting tweets before 1320726657603407876\n",
            "...3200 tweets downloaded so far\n",
            "getting tweets before 1320366898882727936\n",
            "...3233 tweets downloaded so far\n",
            "getting tweets before 1320337620996657152\n",
            "...3233 tweets downloaded so far\n"
          ],
          "name": "stdout"
        }
      ]
    },
    {
      "cell_type": "code",
      "metadata": {
        "id": "09LO2MO5B146"
      },
      "source": [
        "saudia_airlines = pd.read_csv(\"./gdrive/My Drive/datasets/twitter_analysis/Saudi_airlines_tweets.csv\")"
      ],
      "execution_count": 75,
      "outputs": []
    },
    {
      "cell_type": "code",
      "metadata": {
        "id": "paymIhP7Crwc",
        "outputId": "e32e5bfd-2295-429f-8f2b-0484e4ec8518",
        "colab": {
          "base_uri": "https://localhost:8080/",
          "height": 359
        }
      },
      "source": [
        "saudia_airlines.sample(10)"
      ],
      "execution_count": 76,
      "outputs": [
        {
          "output_type": "execute_result",
          "data": {
            "text/html": [
              "<div>\n",
              "<style scoped>\n",
              "    .dataframe tbody tr th:only-of-type {\n",
              "        vertical-align: middle;\n",
              "    }\n",
              "\n",
              "    .dataframe tbody tr th {\n",
              "        vertical-align: top;\n",
              "    }\n",
              "\n",
              "    .dataframe thead th {\n",
              "        text-align: right;\n",
              "    }\n",
              "</style>\n",
              "<table border=\"1\" class=\"dataframe\">\n",
              "  <thead>\n",
              "    <tr style=\"text-align: right;\">\n",
              "      <th></th>\n",
              "      <th>tweet_id</th>\n",
              "      <th>created_at</th>\n",
              "      <th>text</th>\n",
              "      <th>likes</th>\n",
              "      <th>retweeted</th>\n",
              "      <th>location</th>\n",
              "      <th>language</th>\n",
              "      <th>airline</th>\n",
              "    </tr>\n",
              "  </thead>\n",
              "  <tbody>\n",
              "    <tr>\n",
              "      <th>1690</th>\n",
              "      <td>1325860928630497284</td>\n",
              "      <td>2020-11-09 18:00:53</td>\n",
              "      <td>في الذكرى الخامسة والسبعين لمحة لشبكة وجهات ال...</td>\n",
              "      <td>211</td>\n",
              "      <td>False</td>\n",
              "      <td>Saudi Arabia</td>\n",
              "      <td>und</td>\n",
              "      <td>Saudi_airlines</td>\n",
              "    </tr>\n",
              "    <tr>\n",
              "      <th>340</th>\n",
              "      <td>1333677002327519232</td>\n",
              "      <td>2020-12-01 07:39:10</td>\n",
              "      <td>@mohmad181970 مرحباً ضيفنا العزيز، في حال استئ...</td>\n",
              "      <td>0</td>\n",
              "      <td>False</td>\n",
              "      <td>Saudi Arabia</td>\n",
              "      <td>ar</td>\n",
              "      <td>Saudi_airlines</td>\n",
              "    </tr>\n",
              "    <tr>\n",
              "      <th>1167</th>\n",
              "      <td>1328517911875645442</td>\n",
              "      <td>2020-11-17 01:58:47</td>\n",
              "      <td>@SonuKum59437675 Dear guest, international fli...</td>\n",
              "      <td>1</td>\n",
              "      <td>False</td>\n",
              "      <td>Saudi Arabia</td>\n",
              "      <td>en</td>\n",
              "      <td>Saudi_airlines</td>\n",
              "    </tr>\n",
              "    <tr>\n",
              "      <th>1191</th>\n",
              "      <td>1328438430284574722</td>\n",
              "      <td>2020-11-16 20:42:57</td>\n",
              "      <td>@Reemm_9999 ضيفنا العزيز، يمكنك السفر الى دول ...</td>\n",
              "      <td>0</td>\n",
              "      <td>False</td>\n",
              "      <td>Saudi Arabia</td>\n",
              "      <td>ar</td>\n",
              "      <td>Saudi_airlines</td>\n",
              "    </tr>\n",
              "    <tr>\n",
              "      <th>2699</th>\n",
              "      <td>1321532472400793609</td>\n",
              "      <td>2020-10-28 19:21:08</td>\n",
              "      <td>@yTSyKF9Z44FxuXP مرحبا ضيفنا العزيز، يرجى تزوي...</td>\n",
              "      <td>0</td>\n",
              "      <td>False</td>\n",
              "      <td>Saudi Arabia</td>\n",
              "      <td>ar</td>\n",
              "      <td>Saudi_airlines</td>\n",
              "    </tr>\n",
              "    <tr>\n",
              "      <th>3194</th>\n",
              "      <td>1320368402775609349</td>\n",
              "      <td>2020-10-25 14:15:33</td>\n",
              "      <td>@Ahamedjh Dear guest, We just reply through a ...</td>\n",
              "      <td>0</td>\n",
              "      <td>False</td>\n",
              "      <td>Saudi Arabia</td>\n",
              "      <td>en</td>\n",
              "      <td>Saudi_airlines</td>\n",
              "    </tr>\n",
              "    <tr>\n",
              "      <th>743</th>\n",
              "      <td>1330790186704396288</td>\n",
              "      <td>2020-11-23 08:28:00</td>\n",
              "      <td>@nasruddin410 Hello our dear guest, Saudia wil...</td>\n",
              "      <td>1</td>\n",
              "      <td>False</td>\n",
              "      <td>Saudi Arabia</td>\n",
              "      <td>en</td>\n",
              "      <td>Saudi_airlines</td>\n",
              "    </tr>\n",
              "    <tr>\n",
              "      <th>2664</th>\n",
              "      <td>1321767425600348160</td>\n",
              "      <td>2020-10-29 10:54:46</td>\n",
              "      <td>@nouffk__ تم الرد عبر الخاص ضيفتنا العزيزة</td>\n",
              "      <td>0</td>\n",
              "      <td>False</td>\n",
              "      <td>Saudi Arabia</td>\n",
              "      <td>ar</td>\n",
              "      <td>Saudi_airlines</td>\n",
              "    </tr>\n",
              "    <tr>\n",
              "      <th>1090</th>\n",
              "      <td>1328899636925521923</td>\n",
              "      <td>2020-11-18 03:15:37</td>\n",
              "      <td>@Juber96382640 Dear guest, according to the di...</td>\n",
              "      <td>0</td>\n",
              "      <td>False</td>\n",
              "      <td>Saudi Arabia</td>\n",
              "      <td>en</td>\n",
              "      <td>Saudi_airlines</td>\n",
              "    </tr>\n",
              "    <tr>\n",
              "      <th>2413</th>\n",
              "      <td>1322648378094850048</td>\n",
              "      <td>2020-10-31 21:15:21</td>\n",
              "      <td>@salmatoh20 ضيفنا العزيز ، وفقا للتوجيهات سيتم...</td>\n",
              "      <td>2</td>\n",
              "      <td>False</td>\n",
              "      <td>Saudi Arabia</td>\n",
              "      <td>ar</td>\n",
              "      <td>Saudi_airlines</td>\n",
              "    </tr>\n",
              "  </tbody>\n",
              "</table>\n",
              "</div>"
            ],
            "text/plain": [
              "                 tweet_id           created_at  ... language         airline\n",
              "1690  1325860928630497284  2020-11-09 18:00:53  ...      und  Saudi_airlines\n",
              "340   1333677002327519232  2020-12-01 07:39:10  ...       ar  Saudi_airlines\n",
              "1167  1328517911875645442  2020-11-17 01:58:47  ...       en  Saudi_airlines\n",
              "1191  1328438430284574722  2020-11-16 20:42:57  ...       ar  Saudi_airlines\n",
              "2699  1321532472400793609  2020-10-28 19:21:08  ...       ar  Saudi_airlines\n",
              "3194  1320368402775609349  2020-10-25 14:15:33  ...       en  Saudi_airlines\n",
              "743   1330790186704396288  2020-11-23 08:28:00  ...       en  Saudi_airlines\n",
              "2664  1321767425600348160  2020-10-29 10:54:46  ...       ar  Saudi_airlines\n",
              "1090  1328899636925521923  2020-11-18 03:15:37  ...       en  Saudi_airlines\n",
              "2413  1322648378094850048  2020-10-31 21:15:21  ...       ar  Saudi_airlines\n",
              "\n",
              "[10 rows x 8 columns]"
            ]
          },
          "metadata": {
            "tags": []
          },
          "execution_count": 76
        }
      ]
    },
    {
      "cell_type": "code",
      "metadata": {
        "id": "8QqQ0EegC2Bn",
        "outputId": "f99c94e2-7a96-4f34-89ea-468f6f973e30",
        "colab": {
          "base_uri": "https://localhost:8080/"
        }
      },
      "source": [
        "get_all_tweets(\"flynas\")"
      ],
      "execution_count": 77,
      "outputs": [
        {
          "output_type": "stream",
          "text": [
            "getting tweets before 1333803986864857088\n",
            "...400 tweets downloaded so far\n",
            "getting tweets before 1331903679733977088\n",
            "...600 tweets downloaded so far\n",
            "getting tweets before 1330055167807549446\n",
            "...800 tweets downloaded so far\n",
            "getting tweets before 1328180460221059071\n",
            "...1000 tweets downloaded so far\n",
            "getting tweets before 1326192459039338495\n",
            "...1200 tweets downloaded so far\n",
            "getting tweets before 1324406303817609218\n",
            "...1400 tweets downloaded so far\n",
            "getting tweets before 1322929543569678335\n",
            "...1600 tweets downloaded so far\n",
            "getting tweets before 1321350527469367295\n",
            "...1800 tweets downloaded so far\n",
            "getting tweets before 1319797682727170049\n",
            "...2000 tweets downloaded so far\n",
            "getting tweets before 1318201592693329920\n",
            "...2200 tweets downloaded so far\n",
            "getting tweets before 1316789074557100033\n",
            "...2400 tweets downloaded so far\n",
            "getting tweets before 1315389871813464063\n",
            "...2600 tweets downloaded so far\n",
            "getting tweets before 1314166213241700353\n",
            "...2800 tweets downloaded so far\n",
            "getting tweets before 1312731818022637567\n",
            "...3000 tweets downloaded so far\n",
            "getting tweets before 1311446830165757962\n",
            "...3200 tweets downloaded so far\n",
            "getting tweets before 1310174980794200070\n",
            "...3218 tweets downloaded so far\n",
            "getting tweets before 1310117946942017536\n",
            "...3218 tweets downloaded so far\n"
          ],
          "name": "stdout"
        }
      ]
    },
    {
      "cell_type": "code",
      "metadata": {
        "id": "v1WWJd1CGZY3"
      },
      "source": [
        "flynas_airlines = pd.read_csv(\"./gdrive/My Drive/datasets/twitter_analysis/flynas_tweets.csv\")"
      ],
      "execution_count": 60,
      "outputs": []
    },
    {
      "cell_type": "code",
      "metadata": {
        "id": "DHkxXoZdGqNC",
        "outputId": "6da7da21-b7cd-436d-9b38-82f2ee36afc5",
        "colab": {
          "base_uri": "https://localhost:8080/",
          "height": 359
        }
      },
      "source": [
        "flynas_airlines.sample(10)"
      ],
      "execution_count": 61,
      "outputs": [
        {
          "output_type": "execute_result",
          "data": {
            "text/html": [
              "<div>\n",
              "<style scoped>\n",
              "    .dataframe tbody tr th:only-of-type {\n",
              "        vertical-align: middle;\n",
              "    }\n",
              "\n",
              "    .dataframe tbody tr th {\n",
              "        vertical-align: top;\n",
              "    }\n",
              "\n",
              "    .dataframe thead th {\n",
              "        text-align: right;\n",
              "    }\n",
              "</style>\n",
              "<table border=\"1\" class=\"dataframe\">\n",
              "  <thead>\n",
              "    <tr style=\"text-align: right;\">\n",
              "      <th></th>\n",
              "      <th>id</th>\n",
              "      <th>created_at</th>\n",
              "      <th>text</th>\n",
              "      <th>likes</th>\n",
              "      <th>in reply to</th>\n",
              "      <th>retweeted</th>\n",
              "      <th>location</th>\n",
              "      <th>language</th>\n",
              "    </tr>\n",
              "  </thead>\n",
              "  <tbody>\n",
              "    <tr>\n",
              "      <th>2829</th>\n",
              "      <td>1312469651083853824</td>\n",
              "      <td>2020-10-03 19:08:43</td>\n",
              "      <td>@Mehtab0000786 Hello dear, provide us with you...</td>\n",
              "      <td>0</td>\n",
              "      <td>Mehtab0000786</td>\n",
              "      <td>False</td>\n",
              "      <td>Saudi Arabia</td>\n",
              "      <td>en</td>\n",
              "    </tr>\n",
              "    <tr>\n",
              "      <th>719</th>\n",
              "      <td>1328838370856984577</td>\n",
              "      <td>2020-11-17 23:12:10</td>\n",
              "      <td>@A_F_Alanzi وعليكم السلام ، يرجى تزويدنا برقم ...</td>\n",
              "      <td>0</td>\n",
              "      <td>A_F_Alanzi</td>\n",
              "      <td>False</td>\n",
              "      <td>Saudi Arabia</td>\n",
              "      <td>ar</td>\n",
              "    </tr>\n",
              "    <tr>\n",
              "      <th>1862</th>\n",
              "      <td>1319281845918265347</td>\n",
              "      <td>2020-10-22 14:17:57</td>\n",
              "      <td>ايش الأغراض اللي ماتقدر تسافر بدونها ؟ 👀\\n\\n#ط...</td>\n",
              "      <td>14</td>\n",
              "      <td>NaN</td>\n",
              "      <td>False</td>\n",
              "      <td>Saudi Arabia</td>\n",
              "      <td>ar</td>\n",
              "    </tr>\n",
              "    <tr>\n",
              "      <th>1239</th>\n",
              "      <td>1324001912254091270</td>\n",
              "      <td>2020-11-04 14:53:49</td>\n",
              "      <td>@hatemamreet مرحبا، تم الرد في الخاص .</td>\n",
              "      <td>0</td>\n",
              "      <td>hatemamreet</td>\n",
              "      <td>False</td>\n",
              "      <td>Saudi Arabia</td>\n",
              "      <td>ar</td>\n",
              "    </tr>\n",
              "    <tr>\n",
              "      <th>2943</th>\n",
              "      <td>1311701994210549760</td>\n",
              "      <td>2020-10-01 16:18:20</td>\n",
              "      <td>@A_thobaiti وعليكم السلام، يسمح بحمله فقط داخل...</td>\n",
              "      <td>0</td>\n",
              "      <td>A_thobaiti</td>\n",
              "      <td>False</td>\n",
              "      <td>Saudi Arabia</td>\n",
              "      <td>ar</td>\n",
              "    </tr>\n",
              "    <tr>\n",
              "      <th>1768</th>\n",
              "      <td>1320018351800930306</td>\n",
              "      <td>2020-10-24 15:04:34</td>\n",
              "      <td>@ii_il15 حياك الله ، تم الرد من خلال الخاص . ش...</td>\n",
              "      <td>0</td>\n",
              "      <td>ii_il15</td>\n",
              "      <td>False</td>\n",
              "      <td>Saudi Arabia</td>\n",
              "      <td>ar</td>\n",
              "    </tr>\n",
              "    <tr>\n",
              "      <th>306</th>\n",
              "      <td>1332817897144594432</td>\n",
              "      <td>2020-11-28 22:45:23</td>\n",
              "      <td>@sale_b0b تم الرد عبر الخاص</td>\n",
              "      <td>0</td>\n",
              "      <td>sale_b0b</td>\n",
              "      <td>False</td>\n",
              "      <td>Saudi Arabia</td>\n",
              "      <td>ar</td>\n",
              "    </tr>\n",
              "    <tr>\n",
              "      <th>2387</th>\n",
              "      <td>1315536164716261377</td>\n",
              "      <td>2020-10-12 06:13:57</td>\n",
              "      <td>@Asamjh11123 حياك الله،تابعنا وسيتم الإعلان عن...</td>\n",
              "      <td>0</td>\n",
              "      <td>Asamjh11123</td>\n",
              "      <td>False</td>\n",
              "      <td>Saudi Arabia</td>\n",
              "      <td>ar</td>\n",
              "    </tr>\n",
              "    <tr>\n",
              "      <th>2785</th>\n",
              "      <td>1312782872001085443</td>\n",
              "      <td>2020-10-04 15:53:21</td>\n",
              "      <td>@kmell4411 مرحبا، تابعنا بإستمرار وسيتم الإعلا...</td>\n",
              "      <td>0</td>\n",
              "      <td>kmell4411</td>\n",
              "      <td>False</td>\n",
              "      <td>Saudi Arabia</td>\n",
              "      <td>ar</td>\n",
              "    </tr>\n",
              "    <tr>\n",
              "      <th>2650</th>\n",
              "      <td>1313770948017958914</td>\n",
              "      <td>2020-10-07 09:19:37</td>\n",
              "      <td>@MecFawzi حياك الله ،رحلاتنا من مطار الملك عبد...</td>\n",
              "      <td>0</td>\n",
              "      <td>MecFawzi</td>\n",
              "      <td>False</td>\n",
              "      <td>Saudi Arabia</td>\n",
              "      <td>ar</td>\n",
              "    </tr>\n",
              "  </tbody>\n",
              "</table>\n",
              "</div>"
            ],
            "text/plain": [
              "                       id           created_at  ...      location  language\n",
              "2829  1312469651083853824  2020-10-03 19:08:43  ...  Saudi Arabia        en\n",
              "719   1328838370856984577  2020-11-17 23:12:10  ...  Saudi Arabia        ar\n",
              "1862  1319281845918265347  2020-10-22 14:17:57  ...  Saudi Arabia        ar\n",
              "1239  1324001912254091270  2020-11-04 14:53:49  ...  Saudi Arabia        ar\n",
              "2943  1311701994210549760  2020-10-01 16:18:20  ...  Saudi Arabia        ar\n",
              "1768  1320018351800930306  2020-10-24 15:04:34  ...  Saudi Arabia        ar\n",
              "306   1332817897144594432  2020-11-28 22:45:23  ...  Saudi Arabia        ar\n",
              "2387  1315536164716261377  2020-10-12 06:13:57  ...  Saudi Arabia        ar\n",
              "2785  1312782872001085443  2020-10-04 15:53:21  ...  Saudi Arabia        ar\n",
              "2650  1313770948017958914  2020-10-07 09:19:37  ...  Saudi Arabia        ar\n",
              "\n",
              "[10 rows x 8 columns]"
            ]
          },
          "metadata": {
            "tags": []
          },
          "execution_count": 61
        }
      ]
    },
    {
      "cell_type": "code",
      "metadata": {
        "id": "hQ10AdsiGwtB",
        "outputId": "a963b4ab-f2b0-4756-fd91-98b7f5a1eefe",
        "colab": {
          "base_uri": "https://localhost:8080/"
        }
      },
      "source": [
        "is_eng = [saudia_airlines[\"language\"] == \"en\"]\n"
      ],
      "execution_count": 65,
      "outputs": [
        {
          "output_type": "execute_result",
          "data": {
            "text/plain": [
              "[0       False\n",
              " 1       False\n",
              " 2       False\n",
              " 3       False\n",
              " 4       False\n",
              "         ...  \n",
              " 3218    False\n",
              " 3219     True\n",
              " 3220     True\n",
              " 3221     True\n",
              " 3222     True\n",
              " Name: language, Length: 3223, dtype: bool]"
            ]
          },
          "metadata": {
            "tags": []
          },
          "execution_count": 65
        }
      ]
    },
    {
      "cell_type": "code",
      "metadata": {
        "id": "tWilXuzEHhhz",
        "outputId": "091f135a-51ea-4f86-a904-0b87f6a87310",
        "colab": {
          "base_uri": "https://localhost:8080/",
          "height": 283
        }
      },
      "source": [
        "is_eng.count(\"True\")"
      ],
      "execution_count": 72,
      "outputs": [
        {
          "output_type": "error",
          "ename": "ValueError",
          "evalue": "ignored",
          "traceback": [
            "\u001b[0;31m---------------------------------------------------------------------------\u001b[0m",
            "\u001b[0;31mValueError\u001b[0m                                Traceback (most recent call last)",
            "\u001b[0;32m<ipython-input-72-61d9fc803804>\u001b[0m in \u001b[0;36m<module>\u001b[0;34m()\u001b[0m\n\u001b[0;32m----> 1\u001b[0;31m \u001b[0mis_eng\u001b[0m\u001b[0;34m.\u001b[0m\u001b[0mcount\u001b[0m\u001b[0;34m(\u001b[0m\u001b[0;34m\"True\"\u001b[0m\u001b[0;34m)\u001b[0m\u001b[0;34m\u001b[0m\u001b[0;34m\u001b[0m\u001b[0m\n\u001b[0m",
            "\u001b[0;32m/usr/local/lib/python3.6/dist-packages/pandas/core/generic.py\u001b[0m in \u001b[0;36m__nonzero__\u001b[0;34m(self)\u001b[0m\n\u001b[1;32m   1328\u001b[0m     \u001b[0;32mdef\u001b[0m \u001b[0m__nonzero__\u001b[0m\u001b[0;34m(\u001b[0m\u001b[0mself\u001b[0m\u001b[0;34m)\u001b[0m\u001b[0;34m:\u001b[0m\u001b[0;34m\u001b[0m\u001b[0;34m\u001b[0m\u001b[0m\n\u001b[1;32m   1329\u001b[0m         raise ValueError(\n\u001b[0;32m-> 1330\u001b[0;31m             \u001b[0;34mf\"The truth value of a {type(self).__name__} is ambiguous. \"\u001b[0m\u001b[0;34m\u001b[0m\u001b[0;34m\u001b[0m\u001b[0m\n\u001b[0m\u001b[1;32m   1331\u001b[0m             \u001b[0;34m\"Use a.empty, a.bool(), a.item(), a.any() or a.all().\"\u001b[0m\u001b[0;34m\u001b[0m\u001b[0;34m\u001b[0m\u001b[0m\n\u001b[1;32m   1332\u001b[0m         )\n",
            "\u001b[0;31mValueError\u001b[0m: The truth value of a Series is ambiguous. Use a.empty, a.bool(), a.item(), a.any() or a.all()."
          ]
        }
      ]
    },
    {
      "cell_type": "code",
      "metadata": {
        "id": "Hlvw4WRk1Txx"
      },
      "source": [
        "#Sentiment Analysis\n",
        "\n",
        "def percentage(part,whole):\n",
        "    return 100 * float(part)/float(whole) \n",
        "\n",
        "keyword = \"flynas\"\n",
        "noOfTweet = 100\n",
        "\n",
        "\n",
        "\n",
        "tweets = tweepy.Cursor(api.search, q=keyword, lang = \"en\", since = \"2019-09-01\" ).items(noOfTweet)\n",
        "positive  = 0\n",
        "negative = 0\n",
        "neutral = 0\n",
        "polarity = 0\n",
        "tweet_list = []\n",
        "neutral_list = []\n",
        "negative_list = []\n",
        "positive_list = []\n",
        "\n",
        "for tweet in tweets:\n",
        "    \n",
        "    #print(tweet.text)\n",
        "    tweet_list.append(tweet.text)\n",
        "    analysis = TextBlob(tweet.text)\n",
        "    score = SentimentIntensityAnalyzer().polarity_scores(tweet.text)\n",
        "    neg = score['neg']\n",
        "    neu = score['neu']\n",
        "    pos = score['pos']\n",
        "    comp = score['compound']\n",
        "    polarity += analysis.sentiment.polarity\n",
        "    \n",
        "    if neg > pos:\n",
        "        negative_list.append(tweet.text)\n",
        "        negative += 1\n",
        "\n",
        "    elif pos > neg:\n",
        "        positive_list.append(tweet.text)\n",
        "        positive += 1\n",
        "    \n",
        "    elif pos == neg:\n",
        "        neutral_list.append(tweet.text)\n",
        "        neutral += 1\n",
        "\n",
        "positive = percentage(positive, noOfTweet)\n",
        "negative = percentage(negative, noOfTweet)\n",
        "neutral = percentage(neutral, noOfTweet)\n",
        "polarity = percentage(polarity, noOfTweet)\n",
        "positive = format(positive, '.1f')\n",
        "negative = format(negative, '.1f')\n",
        "neutral = format(neutral, '.1f')"
      ],
      "execution_count": 53,
      "outputs": []
    },
    {
      "cell_type": "code",
      "metadata": {
        "colab": {
          "base_uri": "https://localhost:8080/"
        },
        "id": "zugcYUr31T6A",
        "outputId": "d51d8d51-4fa1-4ca2-c100-765091f9076c"
      },
      "source": [
        "#Number of Tweets (Total, Positive, Negative, Neutral)\n",
        "tweet_list = pd.DataFrame(tweet_list)\n",
        "neutral_list = pd.DataFrame(neutral_list)\n",
        "negative_list = pd.DataFrame(negative_list)\n",
        "positive_list = pd.DataFrame(positive_list)\n",
        "print(\"total number: \",len(tweet_list))\n",
        "print(\"positive number: \",len(positive_list))\n",
        "print(\"negative number: \", len(negative_list))\n",
        "print(\"neutral number: \",len(neutral_list))\n"
      ],
      "execution_count": 54,
      "outputs": [
        {
          "output_type": "stream",
          "text": [
            "total number:  87\n",
            "positive number:  53\n",
            "negative number:  20\n",
            "neutral number:  14\n"
          ],
          "name": "stdout"
        }
      ]
    },
    {
      "cell_type": "code",
      "metadata": {
        "id": "TBuV0EW_19HD"
      },
      "source": [
        "# Function created to extract coordinates from tweet if it has coordinate info\n",
        "# Tweets tend to have null so important to run check\n",
        "# Make sure to run this cell as it is used in a lot of different functions below\n",
        "def extract_coordinates(row):\n",
        "    if row['Tweet Coordinates']:\n",
        "        return row['Tweet Coordinates']['coordinates']\n",
        "    else:\n",
        "        return None\n",
        "# Function created to extract place such as city, state or country from tweet if it has place info\n",
        "# Tweets tend to have null so important to run check\n",
        "# Make sure to run this cell as it is used in a lot of different functions below\n",
        "def extract_place(row):\n",
        "    if row['Place Info']:\n",
        "        return row['Place Info'].full_name\n",
        "    else:\n",
        "        return None"
      ],
      "execution_count": 17,
      "outputs": []
    },
    {
      "cell_type": "code",
      "metadata": {
        "id": "rLe791Ba2gF0"
      },
      "source": [
        "noOfTweet = 100\n",
        "tweets = tweepy.Cursor(api.search, q=\"Saudi_airlines\", lang = \"en\").items(noOfTweet)"
      ],
      "execution_count": 12,
      "outputs": []
    },
    {
      "cell_type": "code",
      "metadata": {
        "id": "esJGlXls3r5Q"
      },
      "source": [
        "# Pulling information from tweets iterable object\n",
        "# Add or remove tweet information you want in the below list comprehension\n",
        "tweets_list = [[tweet.text, tweet.created_at, tweet.id_str, tweet.user.screen_name, \n",
        "                tweet.coordinates, tweet.place, tweet.retweet_count, tweet.favorite_count, \n",
        "                tweet.lang, tweet.source, tweet.in_reply_to_status_id_str, tweet.in_reply_to_user_id_str,\n",
        "                tweet.is_quote_status] for tweet in tweets]\n",
        " \n",
        "# Creation of dataframe from tweets_list\n",
        "# Add or remove columns as you remove tweet information\n",
        "tweets_df = pd.DataFrame(tweets_list,columns=['Tweet Text', 'Tweet Datetime', 'Tweet Id', 'Twitter @ Name', 'Tweet Coordinates', 'Place Info', 'Retweets', 'Favorites', 'Language', 'Source', 'Replied Tweet Id', 'Replied Tweet User Id Str', 'Quote Status Bool'])\n",
        " \n",
        "# Checks if there are coordinates attached to tweets, if so extracts them\n",
        "tweets_df['Tweet Coordinates'] = tweets_df.apply(extract_coordinates,axis=1)\n",
        " \n",
        "# Checks if there is place information available, if so extracts them\n",
        "tweets_df['Place Info'] = tweets_df.apply(extract_place,axis=1)"
      ],
      "execution_count": 18,
      "outputs": []
    },
    {
      "cell_type": "code",
      "metadata": {
        "id": "yvd-OSS94jf6",
        "outputId": "5e6a341a-c22d-448d-8a4e-1e985567edc4",
        "colab": {
          "base_uri": "https://localhost:8080/",
          "height": 83
        }
      },
      "source": [
        "tweets_df"
      ],
      "execution_count": 19,
      "outputs": [
        {
          "output_type": "execute_result",
          "data": {
            "text/html": [
              "<div>\n",
              "<style scoped>\n",
              "    .dataframe tbody tr th:only-of-type {\n",
              "        vertical-align: middle;\n",
              "    }\n",
              "\n",
              "    .dataframe tbody tr th {\n",
              "        vertical-align: top;\n",
              "    }\n",
              "\n",
              "    .dataframe thead th {\n",
              "        text-align: right;\n",
              "    }\n",
              "</style>\n",
              "<table border=\"1\" class=\"dataframe\">\n",
              "  <thead>\n",
              "    <tr style=\"text-align: right;\">\n",
              "      <th></th>\n",
              "      <th>Tweet Text</th>\n",
              "      <th>Tweet Datetime</th>\n",
              "      <th>Tweet Id</th>\n",
              "      <th>Twitter @ Name</th>\n",
              "      <th>Tweet Coordinates</th>\n",
              "      <th>Place Info</th>\n",
              "      <th>Retweets</th>\n",
              "      <th>Favorites</th>\n",
              "      <th>Language</th>\n",
              "      <th>Source</th>\n",
              "      <th>Replied Tweet Id</th>\n",
              "      <th>Replied Tweet User Id Str</th>\n",
              "      <th>Quote Status Bool</th>\n",
              "    </tr>\n",
              "  </thead>\n",
              "  <tbody>\n",
              "  </tbody>\n",
              "</table>\n",
              "</div>"
            ],
            "text/plain": [
              "Empty DataFrame\n",
              "Columns: [Tweet Text, Tweet Datetime, Tweet Id, Twitter @ Name, Tweet Coordinates, Place Info, Retweets, Favorites, Language, Source, Replied Tweet Id, Replied Tweet User Id Str, Quote Status Bool]\n",
              "Index: []"
            ]
          },
          "metadata": {
            "tags": []
          },
          "execution_count": 19
        }
      ]
    },
    {
      "cell_type": "code",
      "metadata": {
        "colab": {
          "base_uri": "https://localhost:8080/",
          "height": 419
        },
        "id": "qVPZIf5A4Lp-",
        "outputId": "de10cd09-2b22-4fde-c2d2-164f2a3b76e3"
      },
      "source": [
        "tweet_list"
      ],
      "execution_count": 35,
      "outputs": [
        {
          "output_type": "execute_result",
          "data": {
            "text/html": [
              "<div>\n",
              "<style scoped>\n",
              "    .dataframe tbody tr th:only-of-type {\n",
              "        vertical-align: middle;\n",
              "    }\n",
              "\n",
              "    .dataframe tbody tr th {\n",
              "        vertical-align: top;\n",
              "    }\n",
              "\n",
              "    .dataframe thead th {\n",
              "        text-align: right;\n",
              "    }\n",
              "</style>\n",
              "<table border=\"1\" class=\"dataframe\">\n",
              "  <thead>\n",
              "    <tr style=\"text-align: right;\">\n",
              "      <th></th>\n",
              "      <th>0</th>\n",
              "    </tr>\n",
              "  </thead>\n",
              "  <tbody>\n",
              "    <tr>\n",
              "      <th>0</th>\n",
              "      <td>@ahmadchuhan12 @SupportPoonam @DGCAIndia @drau...</td>\n",
              "    </tr>\n",
              "    <tr>\n",
              "      <th>1</th>\n",
              "      <td>@Saudi_Airlines Sir plzz open flight india to ...</td>\n",
              "    </tr>\n",
              "    <tr>\n",
              "      <th>2</th>\n",
              "      <td>Please sir very humble request start flight #I...</td>\n",
              "    </tr>\n",
              "    <tr>\n",
              "      <th>3</th>\n",
              "      <td>@Saudi_Airlines @mahmoudmakhlou2 Sir please op...</td>\n",
              "    </tr>\n",
              "    <tr>\n",
              "      <th>4</th>\n",
              "      <td>@Saudi_Airlines may I book it https://t.co/k2m...</td>\n",
              "    </tr>\n",
              "    <tr>\n",
              "      <th>...</th>\n",
              "      <td>...</td>\n",
              "    </tr>\n",
              "    <tr>\n",
              "      <th>995</th>\n",
              "      <td>@Saudi_Airlines I request for refund with in h...</td>\n",
              "    </tr>\n",
              "    <tr>\n",
              "      <th>996</th>\n",
              "      <td>@Ahmad91169140 Welcome valued guest, The fligh...</td>\n",
              "    </tr>\n",
              "    <tr>\n",
              "      <th>997</th>\n",
              "      <td>RT @JetPhotos: A Saudi Arabian Airlines 787 in...</td>\n",
              "    </tr>\n",
              "    <tr>\n",
              "      <th>998</th>\n",
              "      <td>@Saudi_Airlines Sir please open flights india ...</td>\n",
              "    </tr>\n",
              "    <tr>\n",
              "      <th>999</th>\n",
              "      <td>RT @JabbarulMondal4: #resumeflightsIND_KSA ✈️🇮...</td>\n",
              "    </tr>\n",
              "  </tbody>\n",
              "</table>\n",
              "<p>1000 rows × 1 columns</p>\n",
              "</div>"
            ],
            "text/plain": [
              "                                                     0\n",
              "0    @ahmadchuhan12 @SupportPoonam @DGCAIndia @drau...\n",
              "1    @Saudi_Airlines Sir plzz open flight india to ...\n",
              "2    Please sir very humble request start flight #I...\n",
              "3    @Saudi_Airlines @mahmoudmakhlou2 Sir please op...\n",
              "4    @Saudi_Airlines may I book it https://t.co/k2m...\n",
              "..                                                 ...\n",
              "995  @Saudi_Airlines I request for refund with in h...\n",
              "996  @Ahmad91169140 Welcome valued guest, The fligh...\n",
              "997  RT @JetPhotos: A Saudi Arabian Airlines 787 in...\n",
              "998  @Saudi_Airlines Sir please open flights india ...\n",
              "999  RT @JabbarulMondal4: #resumeflightsIND_KSA ✈️🇮...\n",
              "\n",
              "[1000 rows x 1 columns]"
            ]
          },
          "metadata": {
            "tags": []
          },
          "execution_count": 35
        }
      ]
    },
    {
      "cell_type": "code",
      "metadata": {
        "colab": {
          "base_uri": "https://localhost:8080/",
          "height": 264
        },
        "id": "A37qyiiD942V",
        "outputId": "40433d79-62a3-4698-cea3-2ac9de8b8063"
      },
      "source": [
        "#Creating PieCart\n",
        "\n",
        "labels = ['Positive ['+str(positive)+'%]' , 'Neutral ['+str(neutral)+'%]','Negative ['+str(negative)+'%]']\n",
        "sizes = [positive, neutral, negative]\n",
        "colors = ['yellowgreen', 'blue','red']\n",
        "patches, texts = plt.pie(sizes,colors=colors, startangle=90)\n",
        "plt.style.use('default')\n",
        "plt.legend(labels)\n",
        "plt.title(\"Sentiment Analysis Result for keyword=  \"+keyword+\"\" )\n",
        "plt.axis('equal')\n",
        "plt.show()"
      ],
      "execution_count": 14,
      "outputs": [
        {
          "output_type": "display_data",
          "data": {
            "image/png": "[encoded data removed]",
            "text/plain": [
              "<Figure size 432x288 with 1 Axes>"
            ]
          },
          "metadata": {
            "tags": []
          }
        }
      ]
    },
    {
      "cell_type": "code",
      "metadata": {
        "colab": {
          "base_uri": "https://localhost:8080/",
          "height": 232
        },
        "id": "F0YjUrJ2WrYk",
        "outputId": "bc08787b-fbf1-49e2-9027-20673143af99"
      },
      "source": [
        "#This splits all the sentences up which makes it easier for us to work with\n",
        "\n",
        "all_sentences = []\n",
        "\n",
        "for word in tweet_list:\n",
        "    all_sentences.append(word)\n",
        "\n",
        "all_sentences\n",
        "#df1 = df.to_string()\n",
        "\n",
        "#df_split = df1.split()\n",
        "\n",
        "#df_split\n",
        "lines = list()\n",
        "for line in all_sentences:    \n",
        "    words = line.split()\n",
        "    for w in words: \n",
        "       lines.append(w)\n",
        "\n",
        "\n",
        "print(lines)"
      ],
      "execution_count": 1,
      "outputs": [
        {
          "output_type": "error",
          "ename": "NameError",
          "evalue": "ignored",
          "traceback": [
            "\u001b[0;31m---------------------------------------------------------------------------\u001b[0m",
            "\u001b[0;31mNameError\u001b[0m                                 Traceback (most recent call last)",
            "\u001b[0;32m<ipython-input-1-c751e347c2b9>\u001b[0m in \u001b[0;36m<module>\u001b[0;34m()\u001b[0m\n\u001b[1;32m      3\u001b[0m \u001b[0mall_sentences\u001b[0m \u001b[0;34m=\u001b[0m \u001b[0;34m[\u001b[0m\u001b[0;34m]\u001b[0m\u001b[0;34m\u001b[0m\u001b[0;34m\u001b[0m\u001b[0m\n\u001b[1;32m      4\u001b[0m \u001b[0;34m\u001b[0m\u001b[0m\n\u001b[0;32m----> 5\u001b[0;31m \u001b[0;32mfor\u001b[0m \u001b[0mword\u001b[0m \u001b[0;32min\u001b[0m \u001b[0mtweet_list\u001b[0m\u001b[0;34m:\u001b[0m\u001b[0;34m\u001b[0m\u001b[0;34m\u001b[0m\u001b[0m\n\u001b[0m\u001b[1;32m      6\u001b[0m     \u001b[0mall_sentences\u001b[0m\u001b[0;34m.\u001b[0m\u001b[0mappend\u001b[0m\u001b[0;34m(\u001b[0m\u001b[0mword\u001b[0m\u001b[0;34m)\u001b[0m\u001b[0;34m\u001b[0m\u001b[0;34m\u001b[0m\u001b[0m\n\u001b[1;32m      7\u001b[0m \u001b[0;34m\u001b[0m\u001b[0m\n",
            "\u001b[0;31mNameError\u001b[0m: name 'tweet_list' is not defined"
          ]
        }
      ]
    },
    {
      "cell_type": "code",
      "metadata": {
        "colab": {
          "base_uri": "https://localhost:8080/",
          "height": 419
        },
        "id": "EXiNPZgdvzPK",
        "outputId": "c205badf-7026-4876-f379-f1c4eb72c357"
      },
      "source": [
        "tw_list = pd.DataFrame(tweet_list)\n",
        "tw_list[\"text\"] = tw_list[0]\n",
        "tw_list"
      ],
      "execution_count": 37,
      "outputs": [
        {
          "output_type": "execute_result",
          "data": {
            "text/html": [
              "<div>\n",
              "<style scoped>\n",
              "    .dataframe tbody tr th:only-of-type {\n",
              "        vertical-align: middle;\n",
              "    }\n",
              "\n",
              "    .dataframe tbody tr th {\n",
              "        vertical-align: top;\n",
              "    }\n",
              "\n",
              "    .dataframe thead th {\n",
              "        text-align: right;\n",
              "    }\n",
              "</style>\n",
              "<table border=\"1\" class=\"dataframe\">\n",
              "  <thead>\n",
              "    <tr style=\"text-align: right;\">\n",
              "      <th></th>\n",
              "      <th>0</th>\n",
              "      <th>text</th>\n",
              "    </tr>\n",
              "  </thead>\n",
              "  <tbody>\n",
              "    <tr>\n",
              "      <th>0</th>\n",
              "      <td>@ahmadchuhan12 @SupportPoonam @DGCAIndia @drau...</td>\n",
              "      <td>@ahmadchuhan12 @SupportPoonam @DGCAIndia @drau...</td>\n",
              "    </tr>\n",
              "    <tr>\n",
              "      <th>1</th>\n",
              "      <td>@Saudi_Airlines Sir plzz open flight india to ...</td>\n",
              "      <td>@Saudi_Airlines Sir plzz open flight india to ...</td>\n",
              "    </tr>\n",
              "    <tr>\n",
              "      <th>2</th>\n",
              "      <td>Please sir very humble request start flight #I...</td>\n",
              "      <td>Please sir very humble request start flight #I...</td>\n",
              "    </tr>\n",
              "    <tr>\n",
              "      <th>3</th>\n",
              "      <td>@Saudi_Airlines @mahmoudmakhlou2 Sir please op...</td>\n",
              "      <td>@Saudi_Airlines @mahmoudmakhlou2 Sir please op...</td>\n",
              "    </tr>\n",
              "    <tr>\n",
              "      <th>4</th>\n",
              "      <td>@Saudi_Airlines may I book it https://t.co/k2m...</td>\n",
              "      <td>@Saudi_Airlines may I book it https://t.co/k2m...</td>\n",
              "    </tr>\n",
              "    <tr>\n",
              "      <th>...</th>\n",
              "      <td>...</td>\n",
              "      <td>...</td>\n",
              "    </tr>\n",
              "    <tr>\n",
              "      <th>995</th>\n",
              "      <td>@Saudi_Airlines I request for refund with in h...</td>\n",
              "      <td>@Saudi_Airlines I request for refund with in h...</td>\n",
              "    </tr>\n",
              "    <tr>\n",
              "      <th>996</th>\n",
              "      <td>@Ahmad91169140 Welcome valued guest, The fligh...</td>\n",
              "      <td>@Ahmad91169140 Welcome valued guest, The fligh...</td>\n",
              "    </tr>\n",
              "    <tr>\n",
              "      <th>997</th>\n",
              "      <td>RT @JetPhotos: A Saudi Arabian Airlines 787 in...</td>\n",
              "      <td>RT @JetPhotos: A Saudi Arabian Airlines 787 in...</td>\n",
              "    </tr>\n",
              "    <tr>\n",
              "      <th>998</th>\n",
              "      <td>@Saudi_Airlines Sir please open flights india ...</td>\n",
              "      <td>@Saudi_Airlines Sir please open flights india ...</td>\n",
              "    </tr>\n",
              "    <tr>\n",
              "      <th>999</th>\n",
              "      <td>RT @JabbarulMondal4: #resumeflightsIND_KSA ✈️🇮...</td>\n",
              "      <td>RT @JabbarulMondal4: #resumeflightsIND_KSA ✈️🇮...</td>\n",
              "    </tr>\n",
              "  </tbody>\n",
              "</table>\n",
              "<p>1000 rows × 2 columns</p>\n",
              "</div>"
            ],
            "text/plain": [
              "                                                     0                                               text\n",
              "0    @ahmadchuhan12 @SupportPoonam @DGCAIndia @drau...  @ahmadchuhan12 @SupportPoonam @DGCAIndia @drau...\n",
              "1    @Saudi_Airlines Sir plzz open flight india to ...  @Saudi_Airlines Sir plzz open flight india to ...\n",
              "2    Please sir very humble request start flight #I...  Please sir very humble request start flight #I...\n",
              "3    @Saudi_Airlines @mahmoudmakhlou2 Sir please op...  @Saudi_Airlines @mahmoudmakhlou2 Sir please op...\n",
              "4    @Saudi_Airlines may I book it https://t.co/k2m...  @Saudi_Airlines may I book it https://t.co/k2m...\n",
              "..                                                 ...                                                ...\n",
              "995  @Saudi_Airlines I request for refund with in h...  @Saudi_Airlines I request for refund with in h...\n",
              "996  @Ahmad91169140 Welcome valued guest, The fligh...  @Ahmad91169140 Welcome valued guest, The fligh...\n",
              "997  RT @JetPhotos: A Saudi Arabian Airlines 787 in...  RT @JetPhotos: A Saudi Arabian Airlines 787 in...\n",
              "998  @Saudi_Airlines Sir please open flights india ...  @Saudi_Airlines Sir please open flights india ...\n",
              "999  RT @JabbarulMondal4: #resumeflightsIND_KSA ✈️🇮...  RT @JabbarulMondal4: #resumeflightsIND_KSA ✈️🇮...\n",
              "\n",
              "[1000 rows x 2 columns]"
            ]
          },
          "metadata": {
            "tags": []
          },
          "execution_count": 37
        }
      ]
    },
    {
      "cell_type": "code",
      "metadata": {
        "colab": {
          "base_uri": "https://localhost:8080/",
          "height": 419
        },
        "id": "j5w6YrFGQV5O",
        "outputId": "938b5f7c-e9e9-45b1-a2b8-b08e2de3e073"
      },
      "source": [
        "# Create a function to clean the tweets\n",
        "def cleanTxt(text):\n",
        " text = re.sub('@[A-Za-z0–9]+', '', text) #Removing @mentions\n",
        " text = re.sub('#', '', text) # Removing '#' hash tag\n",
        " text = re.sub('RT[\\s]+', '', text) # Removing RT\n",
        " text = re.sub('https?:\\/\\/\\S+', '', text) # Removing hyperlink\n",
        " \n",
        " return text\n",
        "\n",
        "\n",
        "# Clean the tweets\n",
        "tw_list[\"text\"] = tw_list[\"text\"].apply(cleanTxt)\n",
        "\n",
        "# Show the cleaned tweets\n",
        "tw_list"
      ],
      "execution_count": 38,
      "outputs": [
        {
          "output_type": "execute_result",
          "data": {
            "text/html": [
              "<div>\n",
              "<style scoped>\n",
              "    .dataframe tbody tr th:only-of-type {\n",
              "        vertical-align: middle;\n",
              "    }\n",
              "\n",
              "    .dataframe tbody tr th {\n",
              "        vertical-align: top;\n",
              "    }\n",
              "\n",
              "    .dataframe thead th {\n",
              "        text-align: right;\n",
              "    }\n",
              "</style>\n",
              "<table border=\"1\" class=\"dataframe\">\n",
              "  <thead>\n",
              "    <tr style=\"text-align: right;\">\n",
              "      <th></th>\n",
              "      <th>0</th>\n",
              "      <th>text</th>\n",
              "    </tr>\n",
              "  </thead>\n",
              "  <tbody>\n",
              "    <tr>\n",
              "      <th>0</th>\n",
              "      <td>@ahmadchuhan12 @SupportPoonam @DGCAIndia @drau...</td>\n",
              "      <td>12       Dear sir…</td>\n",
              "    </tr>\n",
              "    <tr>\n",
              "      <th>1</th>\n",
              "      <td>@Saudi_Airlines Sir plzz open flight india to ...</td>\n",
              "      <td>_Airlines Sir plzz open flight india to Saudi ...</td>\n",
              "    </tr>\n",
              "    <tr>\n",
              "      <th>2</th>\n",
              "      <td>Please sir very humble request start flight #I...</td>\n",
              "      <td>Please sir very humble request start flight In...</td>\n",
              "    </tr>\n",
              "    <tr>\n",
              "      <th>3</th>\n",
              "      <td>@Saudi_Airlines @mahmoudmakhlou2 Sir please op...</td>\n",
              "      <td>_Airlines 2 Sir please open flyight india to s...</td>\n",
              "    </tr>\n",
              "    <tr>\n",
              "      <th>4</th>\n",
              "      <td>@Saudi_Airlines may I book it https://t.co/k2m...</td>\n",
              "      <td>_Airlines may I book it</td>\n",
              "    </tr>\n",
              "    <tr>\n",
              "      <th>...</th>\n",
              "      <td>...</td>\n",
              "      <td>...</td>\n",
              "    </tr>\n",
              "    <tr>\n",
              "      <th>995</th>\n",
              "      <td>@Saudi_Airlines I request for refund with in h...</td>\n",
              "      <td>_Airlines I request for refund with in how man...</td>\n",
              "    </tr>\n",
              "    <tr>\n",
              "      <th>996</th>\n",
              "      <td>@Ahmad91169140 Welcome valued guest, The fligh...</td>\n",
              "      <td>1169140 Welcome valued guest, The flights From...</td>\n",
              "    </tr>\n",
              "    <tr>\n",
              "      <th>997</th>\n",
              "      <td>RT @JetPhotos: A Saudi Arabian Airlines 787 in...</td>\n",
              "      <td>: A Saudi Arabian Airlines 787 in special G20 ...</td>\n",
              "    </tr>\n",
              "    <tr>\n",
              "      <th>998</th>\n",
              "      <td>@Saudi_Airlines Sir please open flights india ...</td>\n",
              "      <td>_Airlines Sir please open flights india to sau...</td>\n",
              "    </tr>\n",
              "    <tr>\n",
              "      <th>999</th>\n",
              "      <td>RT @JabbarulMondal4: #resumeflightsIND_KSA ✈️🇮...</td>\n",
              "      <td>4: resumeflightsIND_KSA ✈️🇮🇳🤝🇸🇦\\nPlease Starti...</td>\n",
              "    </tr>\n",
              "  </tbody>\n",
              "</table>\n",
              "<p>1000 rows × 2 columns</p>\n",
              "</div>"
            ],
            "text/plain": [
              "                                                     0                                               text\n",
              "0    @ahmadchuhan12 @SupportPoonam @DGCAIndia @drau...                                12       Dear sir… \n",
              "1    @Saudi_Airlines Sir plzz open flight india to ...  _Airlines Sir plzz open flight india to Saudi ...\n",
              "2    Please sir very humble request start flight #I...  Please sir very humble request start flight In...\n",
              "3    @Saudi_Airlines @mahmoudmakhlou2 Sir please op...  _Airlines 2 Sir please open flyight india to s...\n",
              "4    @Saudi_Airlines may I book it https://t.co/k2m...                           _Airlines may I book it \n",
              "..                                                 ...                                                ...\n",
              "995  @Saudi_Airlines I request for refund with in h...  _Airlines I request for refund with in how man...\n",
              "996  @Ahmad91169140 Welcome valued guest, The fligh...  1169140 Welcome valued guest, The flights From...\n",
              "997  RT @JetPhotos: A Saudi Arabian Airlines 787 in...  : A Saudi Arabian Airlines 787 in special G20 ...\n",
              "998  @Saudi_Airlines Sir please open flights india ...  _Airlines Sir please open flights india to sau...\n",
              "999  RT @JabbarulMondal4: #resumeflightsIND_KSA ✈️🇮...  4: resumeflightsIND_KSA ✈️🇮🇳🤝🇸🇦\\nPlease Starti...\n",
              "\n",
              "[1000 rows x 2 columns]"
            ]
          },
          "metadata": {
            "tags": []
          },
          "execution_count": 38
        }
      ]
    },
    {
      "cell_type": "code",
      "metadata": {
        "colab": {
          "base_uri": "https://localhost:8080/",
          "height": 419
        },
        "id": "1QRTdX8KRVQG",
        "outputId": "4f2c1829-54da-4f30-ad47-c74d98cf9308"
      },
      "source": [
        "# Create a function to get the subjectivity\n",
        "def getSubjectivity(text):\n",
        "   return TextBlob(text).sentiment.subjectivity\n",
        "\n",
        "# Create a function to get the polarity\n",
        "def getPolarity(text):\n",
        "   return  TextBlob(text).sentiment.polarity\n",
        "\n",
        "\n",
        "# Create two new columns 'Subjectivity' & 'Polarity'\n",
        "tw_list['Subjectivity'] = tw_list['text'].apply(getSubjectivity)\n",
        "tw_list['Polarity'] = tw_list['text'].apply(getPolarity)\n",
        "\n",
        "# Show the new dataframe with columns 'Subjectivity' & 'Polarity'\n",
        "tw_list"
      ],
      "execution_count": 40,
      "outputs": [
        {
          "output_type": "execute_result",
          "data": {
            "text/html": [
              "<div>\n",
              "<style scoped>\n",
              "    .dataframe tbody tr th:only-of-type {\n",
              "        vertical-align: middle;\n",
              "    }\n",
              "\n",
              "    .dataframe tbody tr th {\n",
              "        vertical-align: top;\n",
              "    }\n",
              "\n",
              "    .dataframe thead th {\n",
              "        text-align: right;\n",
              "    }\n",
              "</style>\n",
              "<table border=\"1\" class=\"dataframe\">\n",
              "  <thead>\n",
              "    <tr style=\"text-align: right;\">\n",
              "      <th></th>\n",
              "      <th>0</th>\n",
              "      <th>text</th>\n",
              "      <th>Subjectivity</th>\n",
              "      <th>Polarity</th>\n",
              "    </tr>\n",
              "  </thead>\n",
              "  <tbody>\n",
              "    <tr>\n",
              "      <th>0</th>\n",
              "      <td>@ahmadchuhan12 @SupportPoonam @DGCAIndia @drau...</td>\n",
              "      <td>12       Dear sir…</td>\n",
              "      <td>0.000000</td>\n",
              "      <td>0.000000</td>\n",
              "    </tr>\n",
              "    <tr>\n",
              "      <th>1</th>\n",
              "      <td>@Saudi_Airlines Sir plzz open flight india to ...</td>\n",
              "      <td>_Airlines Sir plzz open flight india to Saudi ...</td>\n",
              "      <td>0.500000</td>\n",
              "      <td>0.000000</td>\n",
              "    </tr>\n",
              "    <tr>\n",
              "      <th>2</th>\n",
              "      <td>Please sir very humble request start flight #I...</td>\n",
              "      <td>Please sir very humble request start flight In...</td>\n",
              "      <td>0.520000</td>\n",
              "      <td>-0.260000</td>\n",
              "    </tr>\n",
              "    <tr>\n",
              "      <th>3</th>\n",
              "      <td>@Saudi_Airlines @mahmoudmakhlou2 Sir please op...</td>\n",
              "      <td>_Airlines 2 Sir please open flyight india to s...</td>\n",
              "      <td>0.500000</td>\n",
              "      <td>0.000000</td>\n",
              "    </tr>\n",
              "    <tr>\n",
              "      <th>4</th>\n",
              "      <td>@Saudi_Airlines may I book it https://t.co/k2m...</td>\n",
              "      <td>_Airlines may I book it</td>\n",
              "      <td>0.000000</td>\n",
              "      <td>0.000000</td>\n",
              "    </tr>\n",
              "    <tr>\n",
              "      <th>...</th>\n",
              "      <td>...</td>\n",
              "      <td>...</td>\n",
              "      <td>...</td>\n",
              "      <td>...</td>\n",
              "    </tr>\n",
              "    <tr>\n",
              "      <th>995</th>\n",
              "      <td>@Saudi_Airlines I request for refund with in h...</td>\n",
              "      <td>_Airlines I request for refund with in how man...</td>\n",
              "      <td>0.750000</td>\n",
              "      <td>0.250000</td>\n",
              "    </tr>\n",
              "    <tr>\n",
              "      <th>996</th>\n",
              "      <td>@Ahmad91169140 Welcome valued guest, The fligh...</td>\n",
              "      <td>1169140 Welcome valued guest, The flights From...</td>\n",
              "      <td>0.650000</td>\n",
              "      <td>0.400000</td>\n",
              "    </tr>\n",
              "    <tr>\n",
              "      <th>997</th>\n",
              "      <td>RT @JetPhotos: A Saudi Arabian Airlines 787 in...</td>\n",
              "      <td>: A Saudi Arabian Airlines 787 in special G20 ...</td>\n",
              "      <td>0.571429</td>\n",
              "      <td>0.357143</td>\n",
              "    </tr>\n",
              "    <tr>\n",
              "      <th>998</th>\n",
              "      <td>@Saudi_Airlines Sir please open flights india ...</td>\n",
              "      <td>_Airlines Sir please open flights india to sau...</td>\n",
              "      <td>0.500000</td>\n",
              "      <td>0.000000</td>\n",
              "    </tr>\n",
              "    <tr>\n",
              "      <th>999</th>\n",
              "      <td>RT @JabbarulMondal4: #resumeflightsIND_KSA ✈️🇮...</td>\n",
              "      <td>4: resumeflightsIND_KSA ✈️🇮🇳🤝🇸🇦\\nPlease Starti...</td>\n",
              "      <td>0.216667</td>\n",
              "      <td>0.125000</td>\n",
              "    </tr>\n",
              "  </tbody>\n",
              "</table>\n",
              "<p>1000 rows × 4 columns</p>\n",
              "</div>"
            ],
            "text/plain": [
              "                                                     0  ...  Polarity\n",
              "0    @ahmadchuhan12 @SupportPoonam @DGCAIndia @drau...  ...  0.000000\n",
              "1    @Saudi_Airlines Sir plzz open flight india to ...  ...  0.000000\n",
              "2    Please sir very humble request start flight #I...  ... -0.260000\n",
              "3    @Saudi_Airlines @mahmoudmakhlou2 Sir please op...  ...  0.000000\n",
              "4    @Saudi_Airlines may I book it https://t.co/k2m...  ...  0.000000\n",
              "..                                                 ...  ...       ...\n",
              "995  @Saudi_Airlines I request for refund with in h...  ...  0.250000\n",
              "996  @Ahmad91169140 Welcome valued guest, The fligh...  ...  0.400000\n",
              "997  RT @JetPhotos: A Saudi Arabian Airlines 787 in...  ...  0.357143\n",
              "998  @Saudi_Airlines Sir please open flights india ...  ...  0.000000\n",
              "999  RT @JabbarulMondal4: #resumeflightsIND_KSA ✈️🇮...  ...  0.125000\n",
              "\n",
              "[1000 rows x 4 columns]"
            ]
          },
          "metadata": {
            "tags": []
          },
          "execution_count": 40
        }
      ]
    },
    {
      "cell_type": "code",
      "metadata": {
        "colab": {
          "base_uri": "https://localhost:8080/",
          "height": 334
        },
        "id": "Bn7IsS7uSKWR",
        "outputId": "47eebbbe-cb19-4e29-c0e6-0892b904e009"
      },
      "source": [
        "# word cloud visualization\n",
        "allWords = ' '.join([twts for twts in tw_list['text']])\n",
        "wordCloud = WordCloud(width=500, height=300, random_state=21, max_font_size=110).generate(allWords)\n",
        "\n",
        "\n",
        "plt.imshow(wordCloud, interpolation=\"bilinear\")\n",
        "plt.axis('off')\n",
        "plt.show()"
      ],
      "execution_count": 42,
      "outputs": [
        {
          "output_type": "display_data",
          "data": {
            "image/png": "[encoded data removed]",
            "text/plain": [
              "<Figure size 640x480 with 1 Axes>"
            ]
          },
          "metadata": {
            "tags": []
          }
        }
      ]
    },
    {
      "cell_type": "code",
      "metadata": {
        "colab": {
          "base_uri": "https://localhost:8080/",
          "height": 419
        },
        "id": "fI4qzixXSap_",
        "outputId": "ba40b09a-873c-4960-d7b1-e1f2fbc17bc4"
      },
      "source": [
        "# Create a function to compute negative (-1), neutral (0) and positive (+1) analysis\n",
        "def getAnalysis(score):\n",
        "  if score < 0:\n",
        "    return 'Negative'\n",
        "  elif score == 0:\n",
        "    return 'Neutral'\n",
        "  else:\n",
        "    return 'Positive'\n",
        "tweet_list['Analysis'] = tweet_list['Polarity'].apply(getAnalysis)\n",
        "# Show the dataframe\n",
        "tweet_list"
      ],
      "execution_count": 43,
      "outputs": [
        {
          "output_type": "execute_result",
          "data": {
            "text/html": [
              "<div>\n",
              "<style scoped>\n",
              "    .dataframe tbody tr th:only-of-type {\n",
              "        vertical-align: middle;\n",
              "    }\n",
              "\n",
              "    .dataframe tbody tr th {\n",
              "        vertical-align: top;\n",
              "    }\n",
              "\n",
              "    .dataframe thead th {\n",
              "        text-align: right;\n",
              "    }\n",
              "</style>\n",
              "<table border=\"1\" class=\"dataframe\">\n",
              "  <thead>\n",
              "    <tr style=\"text-align: right;\">\n",
              "      <th></th>\n",
              "      <th>0</th>\n",
              "      <th>text</th>\n",
              "      <th>Subjectivity</th>\n",
              "      <th>Polarity</th>\n",
              "      <th>Analysis</th>\n",
              "    </tr>\n",
              "  </thead>\n",
              "  <tbody>\n",
              "    <tr>\n",
              "      <th>0</th>\n",
              "      <td>@ahmadchuhan12 @SupportPoonam @DGCAIndia @drau...</td>\n",
              "      <td>12       Dear sir…</td>\n",
              "      <td>0.000000</td>\n",
              "      <td>0.000000</td>\n",
              "      <td>Neutral</td>\n",
              "    </tr>\n",
              "    <tr>\n",
              "      <th>1</th>\n",
              "      <td>@Saudi_Airlines Sir plzz open flight india to ...</td>\n",
              "      <td>_Airlines Sir plzz open flight india to Saudi ...</td>\n",
              "      <td>0.500000</td>\n",
              "      <td>0.000000</td>\n",
              "      <td>Neutral</td>\n",
              "    </tr>\n",
              "    <tr>\n",
              "      <th>2</th>\n",
              "      <td>Please sir very humble request start flight #I...</td>\n",
              "      <td>Please sir very humble request start flight In...</td>\n",
              "      <td>0.520000</td>\n",
              "      <td>-0.260000</td>\n",
              "      <td>Negative</td>\n",
              "    </tr>\n",
              "    <tr>\n",
              "      <th>3</th>\n",
              "      <td>@Saudi_Airlines @mahmoudmakhlou2 Sir please op...</td>\n",
              "      <td>_Airlines 2 Sir please open flyight india to s...</td>\n",
              "      <td>0.500000</td>\n",
              "      <td>0.000000</td>\n",
              "      <td>Neutral</td>\n",
              "    </tr>\n",
              "    <tr>\n",
              "      <th>4</th>\n",
              "      <td>@Saudi_Airlines may I book it https://t.co/k2m...</td>\n",
              "      <td>_Airlines may I book it</td>\n",
              "      <td>0.000000</td>\n",
              "      <td>0.000000</td>\n",
              "      <td>Neutral</td>\n",
              "    </tr>\n",
              "    <tr>\n",
              "      <th>...</th>\n",
              "      <td>...</td>\n",
              "      <td>...</td>\n",
              "      <td>...</td>\n",
              "      <td>...</td>\n",
              "      <td>...</td>\n",
              "    </tr>\n",
              "    <tr>\n",
              "      <th>995</th>\n",
              "      <td>@Saudi_Airlines I request for refund with in h...</td>\n",
              "      <td>_Airlines I request for refund with in how man...</td>\n",
              "      <td>0.750000</td>\n",
              "      <td>0.250000</td>\n",
              "      <td>Positive</td>\n",
              "    </tr>\n",
              "    <tr>\n",
              "      <th>996</th>\n",
              "      <td>@Ahmad91169140 Welcome valued guest, The fligh...</td>\n",
              "      <td>1169140 Welcome valued guest, The flights From...</td>\n",
              "      <td>0.650000</td>\n",
              "      <td>0.400000</td>\n",
              "      <td>Positive</td>\n",
              "    </tr>\n",
              "    <tr>\n",
              "      <th>997</th>\n",
              "      <td>RT @JetPhotos: A Saudi Arabian Airlines 787 in...</td>\n",
              "      <td>: A Saudi Arabian Airlines 787 in special G20 ...</td>\n",
              "      <td>0.571429</td>\n",
              "      <td>0.357143</td>\n",
              "      <td>Positive</td>\n",
              "    </tr>\n",
              "    <tr>\n",
              "      <th>998</th>\n",
              "      <td>@Saudi_Airlines Sir please open flights india ...</td>\n",
              "      <td>_Airlines Sir please open flights india to sau...</td>\n",
              "      <td>0.500000</td>\n",
              "      <td>0.000000</td>\n",
              "      <td>Neutral</td>\n",
              "    </tr>\n",
              "    <tr>\n",
              "      <th>999</th>\n",
              "      <td>RT @JabbarulMondal4: #resumeflightsIND_KSA ✈️🇮...</td>\n",
              "      <td>4: resumeflightsIND_KSA ✈️🇮🇳🤝🇸🇦\\nPlease Starti...</td>\n",
              "      <td>0.216667</td>\n",
              "      <td>0.125000</td>\n",
              "      <td>Positive</td>\n",
              "    </tr>\n",
              "  </tbody>\n",
              "</table>\n",
              "<p>1000 rows × 5 columns</p>\n",
              "</div>"
            ],
            "text/plain": [
              "                                                     0  ...  Analysis\n",
              "0    @ahmadchuhan12 @SupportPoonam @DGCAIndia @drau...  ...   Neutral\n",
              "1    @Saudi_Airlines Sir plzz open flight india to ...  ...   Neutral\n",
              "2    Please sir very humble request start flight #I...  ...  Negative\n",
              "3    @Saudi_Airlines @mahmoudmakhlou2 Sir please op...  ...   Neutral\n",
              "4    @Saudi_Airlines may I book it https://t.co/k2m...  ...   Neutral\n",
              "..                                                 ...  ...       ...\n",
              "995  @Saudi_Airlines I request for refund with in h...  ...  Positive\n",
              "996  @Ahmad91169140 Welcome valued guest, The fligh...  ...  Positive\n",
              "997  RT @JetPhotos: A Saudi Arabian Airlines 787 in...  ...  Positive\n",
              "998  @Saudi_Airlines Sir please open flights india ...  ...   Neutral\n",
              "999  RT @JabbarulMondal4: #resumeflightsIND_KSA ✈️🇮...  ...  Positive\n",
              "\n",
              "[1000 rows x 5 columns]"
            ]
          },
          "metadata": {
            "tags": []
          },
          "execution_count": 43
        }
      ]
    }
  ]
}