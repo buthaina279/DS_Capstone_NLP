{
  "nbformat": 4,
  "nbformat_minor": 0,
  "metadata": {
    "colab": {
      "name": "ML.ipynb",
      "provenance": [],
      "collapsed_sections": [
        "vU-xTW__yB2V",
        "EOOs4XN5FqxP",
        "6gw5Z2KoRQ9Q",
        "wfeky4IcRVEf",
        "LYWvChBCRjoq",
        "Wtj0ARzOakBW",
        "kpMMft_4mFMI",
        "Jbk6yE6Hl_H1",
        "jvLU2NAml3Um",
        "wll65xfWrOYB",
        "WDAPlutYAOKh",
        "ipBPReUJdITK"
      ],
      "authorship_tag": "ABX9TyNAbG43XNZu6t9d/QOaTA7q",
      "include_colab_link": true
    },
    "kernelspec": {
      "name": "python3",
      "display_name": "Python 3"
    }
  },
  "cells": [
    {
      "cell_type": "markdown",
      "metadata": {
        "id": "view-in-github",
        "colab_type": "text"
      },
      "source": [
        "<a href=\"https://colab.research.google.com/github/buthaina279/DS_Capstone_NLP/blob/main/ML.ipynb\" target=\"_parent\"><img src=\"https://colab.research.google.com/assets/colab-badge.svg\" alt=\"Open In Colab\"/></a>"
      ]
    },
    {
      "cell_type": "code",
      "metadata": {
        "id": "T6lSDH9fP1bh"
      },
      "source": [
        "import matplotlib.pyplot as plt\n",
        "import pandas as pd\n",
        "import numpy as np\n",
        "import seaborn as sns\n",
        "import os\n",
        "from google.colab import drive  \n",
        "\n",
        "import re\n",
        "import nltk\n",
        "from nltk.corpus import stopwords\n",
        "\n",
        "from sklearn.feature_extraction.text import TfidfVectorizer\n",
        "\n",
        "from sklearn import metrics\n",
        "\n",
        "from sklearn.metrics import accuracy_score, classification_report\n",
        "\n",
        "from sklearn.tree import DecisionTreeClassifier\n",
        "from sklearn.naive_bayes import MultinomialNB\n",
        "from sklearn.ensemble import RandomForestClassifier\n",
        "from sklearn.neighbors import KNeighborsClassifier\n",
        "from sklearn.linear_model import LogisticRegression\n",
        "from sklearn.preprocessing import LabelEncoder\n",
        "\n",
        "\n",
        "from sklearn.model_selection import train_test_split\n",
        "from sklearn.preprocessing import OneHotEncoder\n",
        "from sklearn.compose import ColumnTransformer\n",
        "import itertools\n"
      ],
      "execution_count": 1,
      "outputs": []
    },
    {
      "cell_type": "code",
      "metadata": {
        "colab": {
          "base_uri": "https://localhost:8080/"
        },
        "id": "tLxuFtesH9Fd",
        "outputId": "25c47622-c0d0-4bbb-809d-40c072e9d1dd"
      },
      "source": [
        "import pandas as pd\n",
        "import numpy as np\n",
        "import matplotlib.pyplot as plt\n",
        "%matplotlib inline\n",
        "from IPython.display import display\n",
        "pd.options.display.max_columns = None\n",
        "import missingno as msno\n",
        "import seaborn as sb\n",
        "from sklearn.linear_model import LogisticRegression\n",
        "from sklearn.ensemble import RandomForestClassifier\n",
        "from sklearn import metrics\n",
        "from sklearn.preprocessing import MinMaxScaler, StandardScaler, LabelEncoder\n",
        "from sklearn.feature_selection import SelectKBest\n",
        "from sklearn.pipeline import Pipeline\n",
        "from sklearn.model_selection import train_test_split, GridSearchCV, RandomizedSearchCV\n",
        "from imblearn.over_sampling import SMOTE"
      ],
      "execution_count": 2,
      "outputs": [
        {
          "output_type": "stream",
          "text": [
            "/usr/local/lib/python3.6/dist-packages/sklearn/externals/six.py:31: FutureWarning: The module is deprecated in version 0.21 and will be removed in version 0.23 since we've dropped support for Python 2.7. Please rely on the official version of six (https://pypi.org/project/six/).\n",
            "  \"(https://pypi.org/project/six/).\", FutureWarning)\n",
            "/usr/local/lib/python3.6/dist-packages/sklearn/utils/deprecation.py:144: FutureWarning: The sklearn.neighbors.base module is  deprecated in version 0.22 and will be removed in version 0.24. The corresponding classes / functions should instead be imported from sklearn.neighbors. Anything that cannot be imported from sklearn.neighbors is now part of the private API.\n",
            "  warnings.warn(message, FutureWarning)\n"
          ],
          "name": "stderr"
        }
      ]
    },
    {
      "cell_type": "code",
      "metadata": {
        "colab": {
          "base_uri": "https://localhost:8080/"
        },
        "id": "IJ40D7s1Pd6R",
        "outputId": "807799b5-de63-41f1-e310-48e0f46ac854"
      },
      "source": [
        "# Connect Google Drive to Colab\n",
        "drive.mount('/content/gdrive')\n",
        "# Create a variable to store the data path on your drive\n",
        "path = './gdrive/My Drive/datasets/new_datasets'"
      ],
      "execution_count": 3,
      "outputs": [
        {
          "output_type": "stream",
          "text": [
            "Drive already mounted at /content/gdrive; to attempt to forcibly remount, call drive.mount(\"/content/gdrive\", force_remount=True).\n"
          ],
          "name": "stdout"
        }
      ]
    },
    {
      "cell_type": "code",
      "metadata": {
        "id": "ePGRejyTPd_t"
      },
      "source": [
        "airline = pd.read_csv(\"./gdrive/My Drive/datasets/new_datasets/airline_EDA.csv\")"
      ],
      "execution_count": 4,
      "outputs": []
    },
    {
      "cell_type": "code",
      "metadata": {
        "colab": {
          "base_uri": "https://localhost:8080/"
        },
        "id": "WFlADsxAQYwt",
        "outputId": "d26ad807-7016-4516-8784-fd8295c1757c"
      },
      "source": [
        "airline.shape"
      ],
      "execution_count": 5,
      "outputs": [
        {
          "output_type": "execute_result",
          "data": {
            "text/plain": [
              "(787, 21)"
            ]
          },
          "metadata": {
            "tags": []
          },
          "execution_count": 5
        }
      ]
    },
    {
      "cell_type": "code",
      "metadata": {
        "colab": {
          "base_uri": "https://localhost:8080/",
          "height": 445
        },
        "id": "jiSegzNTQNtf",
        "outputId": "4f820a1a-89b3-4074-89bc-5ce83281e63c"
      },
      "source": [
        "airline.sample(5)"
      ],
      "execution_count": 6,
      "outputs": [
        {
          "output_type": "execute_result",
          "data": {
            "text/html": [
              "<div>\n",
              "<style scoped>\n",
              "    .dataframe tbody tr th:only-of-type {\n",
              "        vertical-align: middle;\n",
              "    }\n",
              "\n",
              "    .dataframe tbody tr th {\n",
              "        vertical-align: top;\n",
              "    }\n",
              "\n",
              "    .dataframe thead th {\n",
              "        text-align: right;\n",
              "    }\n",
              "</style>\n",
              "<table border=\"1\" class=\"dataframe\">\n",
              "  <thead>\n",
              "    <tr style=\"text-align: right;\">\n",
              "      <th></th>\n",
              "      <th>Unnamed: 0</th>\n",
              "      <th>Unnamed: 0.1.1</th>\n",
              "      <th>tweet_id</th>\n",
              "      <th>created_at</th>\n",
              "      <th>text</th>\n",
              "      <th>likes</th>\n",
              "      <th>retweeted</th>\n",
              "      <th>location</th>\n",
              "      <th>language</th>\n",
              "      <th>airline</th>\n",
              "      <th>string_text</th>\n",
              "      <th>subjectivity</th>\n",
              "      <th>polarity</th>\n",
              "      <th>sentiment</th>\n",
              "      <th>cancel</th>\n",
              "      <th>staff</th>\n",
              "      <th>flight</th>\n",
              "      <th>cost</th>\n",
              "      <th>refund</th>\n",
              "      <th>customrt service</th>\n",
              "      <th>experience</th>\n",
              "    </tr>\n",
              "  </thead>\n",
              "  <tbody>\n",
              "    <tr>\n",
              "      <th>338</th>\n",
              "      <td>338</td>\n",
              "      <td>304</td>\n",
              "      <td>1335849819366166529</td>\n",
              "      <td>2020-12-07 07:33:10</td>\n",
              "      <td>['wishing', 'happy', 'international', 'civil',...</td>\n",
              "      <td>0</td>\n",
              "      <td>False</td>\n",
              "      <td>Doha, Qatar</td>\n",
              "      <td>en</td>\n",
              "      <td>Qatar airways</td>\n",
              "      <td>wishing happy international civil aviation som...</td>\n",
              "      <td>0.500000</td>\n",
              "      <td>0.400000</td>\n",
              "      <td>Positive</td>\n",
              "      <td>0</td>\n",
              "      <td>0</td>\n",
              "      <td>1</td>\n",
              "      <td>0</td>\n",
              "      <td>0</td>\n",
              "      <td>0</td>\n",
              "      <td>0</td>\n",
              "    </tr>\n",
              "    <tr>\n",
              "      <th>516</th>\n",
              "      <td>516</td>\n",
              "      <td>433</td>\n",
              "      <td>1334930567989784579</td>\n",
              "      <td>2020-12-04 18:40:23</td>\n",
              "      <td>['lieflat', 'free', 'fizz', 'posh', 'generous'...</td>\n",
              "      <td>1</td>\n",
              "      <td>False</td>\n",
              "      <td>NaN</td>\n",
              "      <td>en</td>\n",
              "      <td>British airways</td>\n",
              "      <td>lieflat free fizz posh generous coffee service...</td>\n",
              "      <td>0.266667</td>\n",
              "      <td>0.133333</td>\n",
              "      <td>Positive</td>\n",
              "      <td>0</td>\n",
              "      <td>0</td>\n",
              "      <td>0</td>\n",
              "      <td>0</td>\n",
              "      <td>1</td>\n",
              "      <td>1</td>\n",
              "      <td>0</td>\n",
              "    </tr>\n",
              "    <tr>\n",
              "      <th>711</th>\n",
              "      <td>711</td>\n",
              "      <td>277</td>\n",
              "      <td>1334106555642503169</td>\n",
              "      <td>2020-12-02 12:06:04</td>\n",
              "      <td>['worth', 'paying', 'extra', 'business', 'clas...</td>\n",
              "      <td>0</td>\n",
              "      <td>False</td>\n",
              "      <td>London, England</td>\n",
              "      <td>en</td>\n",
              "      <td>Air France</td>\n",
              "      <td>worth paying extra business class france find ...</td>\n",
              "      <td>0.100000</td>\n",
              "      <td>0.150000</td>\n",
              "      <td>Positive</td>\n",
              "      <td>0</td>\n",
              "      <td>0</td>\n",
              "      <td>0</td>\n",
              "      <td>0</td>\n",
              "      <td>0</td>\n",
              "      <td>0</td>\n",
              "      <td>0</td>\n",
              "    </tr>\n",
              "    <tr>\n",
              "      <th>600</th>\n",
              "      <td>600</td>\n",
              "      <td>136</td>\n",
              "      <td>1336072246645968908</td>\n",
              "      <td>2020-12-07 22:17:01</td>\n",
              "      <td>['video', 'series', 'americanairlines', 'featu...</td>\n",
              "      <td>0</td>\n",
              "      <td>False</td>\n",
              "      <td>Worldwide</td>\n",
              "      <td>en</td>\n",
              "      <td>American airlines</td>\n",
              "      <td>video series americanairlines featuring flight...</td>\n",
              "      <td>0.400000</td>\n",
              "      <td>0.200000</td>\n",
              "      <td>Positive</td>\n",
              "      <td>0</td>\n",
              "      <td>0</td>\n",
              "      <td>1</td>\n",
              "      <td>0</td>\n",
              "      <td>0</td>\n",
              "      <td>0</td>\n",
              "      <td>0</td>\n",
              "    </tr>\n",
              "    <tr>\n",
              "      <th>359</th>\n",
              "      <td>359</td>\n",
              "      <td>397</td>\n",
              "      <td>1335539485644230657</td>\n",
              "      <td>2020-12-06 11:00:01</td>\n",
              "      <td>['terrible', 'track', 'record', 'catching', 'f...</td>\n",
              "      <td>78</td>\n",
              "      <td>False</td>\n",
              "      <td>Doha, Qatar</td>\n",
              "      <td>en</td>\n",
              "      <td>Qatar airways</td>\n",
              "      <td>terrible track record catching flight hopefull...</td>\n",
              "      <td>0.950000</td>\n",
              "      <td>-0.200000</td>\n",
              "      <td>Negative</td>\n",
              "      <td>0</td>\n",
              "      <td>0</td>\n",
              "      <td>1</td>\n",
              "      <td>0</td>\n",
              "      <td>0</td>\n",
              "      <td>0</td>\n",
              "      <td>0</td>\n",
              "    </tr>\n",
              "  </tbody>\n",
              "</table>\n",
              "</div>"
            ],
            "text/plain": [
              "     Unnamed: 0  Unnamed: 0.1.1             tweet_id           created_at  \\\n",
              "338         338             304  1335849819366166529  2020-12-07 07:33:10   \n",
              "516         516             433  1334930567989784579  2020-12-04 18:40:23   \n",
              "711         711             277  1334106555642503169  2020-12-02 12:06:04   \n",
              "600         600             136  1336072246645968908  2020-12-07 22:17:01   \n",
              "359         359             397  1335539485644230657  2020-12-06 11:00:01   \n",
              "\n",
              "                                                  text  likes  retweeted  \\\n",
              "338  ['wishing', 'happy', 'international', 'civil',...      0      False   \n",
              "516  ['lieflat', 'free', 'fizz', 'posh', 'generous'...      1      False   \n",
              "711  ['worth', 'paying', 'extra', 'business', 'clas...      0      False   \n",
              "600  ['video', 'series', 'americanairlines', 'featu...      0      False   \n",
              "359  ['terrible', 'track', 'record', 'catching', 'f...     78      False   \n",
              "\n",
              "            location language            airline  \\\n",
              "338      Doha, Qatar       en      Qatar airways   \n",
              "516              NaN       en    British airways   \n",
              "711  London, England       en         Air France   \n",
              "600        Worldwide       en  American airlines   \n",
              "359      Doha, Qatar       en      Qatar airways   \n",
              "\n",
              "                                           string_text  subjectivity  \\\n",
              "338  wishing happy international civil aviation som...      0.500000   \n",
              "516  lieflat free fizz posh generous coffee service...      0.266667   \n",
              "711  worth paying extra business class france find ...      0.100000   \n",
              "600  video series americanairlines featuring flight...      0.400000   \n",
              "359  terrible track record catching flight hopefull...      0.950000   \n",
              "\n",
              "     polarity sentiment  cancel  staff  flight  cost  refund  \\\n",
              "338  0.400000  Positive       0      0       1     0       0   \n",
              "516  0.133333  Positive       0      0       0     0       1   \n",
              "711  0.150000  Positive       0      0       0     0       0   \n",
              "600  0.200000  Positive       0      0       1     0       0   \n",
              "359 -0.200000  Negative       0      0       1     0       0   \n",
              "\n",
              "     customrt service  experience  \n",
              "338                 0           0  \n",
              "516                 1           0  \n",
              "711                 0           0  \n",
              "600                 0           0  \n",
              "359                 0           0  "
            ]
          },
          "metadata": {
            "tags": []
          },
          "execution_count": 6
        }
      ]
    },
    {
      "cell_type": "code",
      "metadata": {
        "colab": {
          "base_uri": "https://localhost:8080/"
        },
        "id": "b5Qt3Xa2QT-0",
        "outputId": "4c517d4d-4897-4b11-9183-8b6bce6a6e3a"
      },
      "source": [
        "airline.columns"
      ],
      "execution_count": 7,
      "outputs": [
        {
          "output_type": "execute_result",
          "data": {
            "text/plain": [
              "Index(['Unnamed: 0', 'Unnamed: 0.1.1', 'tweet_id', 'created_at', 'text',\n",
              "       'likes', 'retweeted', 'location', 'language', 'airline', 'string_text',\n",
              "       'subjectivity', 'polarity', 'sentiment', 'cancel', 'staff', 'flight',\n",
              "       'cost', 'refund', 'customrt service', 'experience'],\n",
              "      dtype='object')"
            ]
          },
          "metadata": {
            "tags": []
          },
          "execution_count": 7
        }
      ]
    },
    {
      "cell_type": "code",
      "metadata": {
        "id": "ZHl7g3RNUFIo"
      },
      "source": [
        "#a lot of missing value and the locations needs to be cleaned as well\n",
        "airline = airline.drop(['Unnamed: 0', 'Unnamed: 0.1.1','string_text', 'text', 'location'], axis=1)"
      ],
      "execution_count": 8,
      "outputs": []
    },
    {
      "cell_type": "code",
      "metadata": {
        "colab": {
          "base_uri": "https://localhost:8080/",
          "height": 326
        },
        "id": "vf-Og_gNU2iH",
        "outputId": "f00cc82a-687f-401f-d79a-8bd38b238ead"
      },
      "source": [
        "airline.sample(5)"
      ],
      "execution_count": 9,
      "outputs": [
        {
          "output_type": "execute_result",
          "data": {
            "text/html": [
              "<div>\n",
              "<style scoped>\n",
              "    .dataframe tbody tr th:only-of-type {\n",
              "        vertical-align: middle;\n",
              "    }\n",
              "\n",
              "    .dataframe tbody tr th {\n",
              "        vertical-align: top;\n",
              "    }\n",
              "\n",
              "    .dataframe thead th {\n",
              "        text-align: right;\n",
              "    }\n",
              "</style>\n",
              "<table border=\"1\" class=\"dataframe\">\n",
              "  <thead>\n",
              "    <tr style=\"text-align: right;\">\n",
              "      <th></th>\n",
              "      <th>tweet_id</th>\n",
              "      <th>created_at</th>\n",
              "      <th>likes</th>\n",
              "      <th>retweeted</th>\n",
              "      <th>language</th>\n",
              "      <th>airline</th>\n",
              "      <th>subjectivity</th>\n",
              "      <th>polarity</th>\n",
              "      <th>sentiment</th>\n",
              "      <th>cancel</th>\n",
              "      <th>staff</th>\n",
              "      <th>flight</th>\n",
              "      <th>cost</th>\n",
              "      <th>refund</th>\n",
              "      <th>customrt service</th>\n",
              "      <th>experience</th>\n",
              "    </tr>\n",
              "  </thead>\n",
              "  <tbody>\n",
              "    <tr>\n",
              "      <th>559</th>\n",
              "      <td>1333805173030916103</td>\n",
              "      <td>2020-12-01 16:08:28</td>\n",
              "      <td>0</td>\n",
              "      <td>False</td>\n",
              "      <td>en</td>\n",
              "      <td>British airways</td>\n",
              "      <td>1.000</td>\n",
              "      <td>-1.000000</td>\n",
              "      <td>Negative</td>\n",
              "      <td>1</td>\n",
              "      <td>0</td>\n",
              "      <td>1</td>\n",
              "      <td>1</td>\n",
              "      <td>1</td>\n",
              "      <td>0</td>\n",
              "      <td>0</td>\n",
              "    </tr>\n",
              "    <tr>\n",
              "      <th>200</th>\n",
              "      <td>1336597626721071105</td>\n",
              "      <td>2020-12-09 09:04:41</td>\n",
              "      <td>3</td>\n",
              "      <td>False</td>\n",
              "      <td>en</td>\n",
              "      <td>Turkish airlines</td>\n",
              "      <td>0.500</td>\n",
              "      <td>0.200000</td>\n",
              "      <td>Positive</td>\n",
              "      <td>0</td>\n",
              "      <td>0</td>\n",
              "      <td>1</td>\n",
              "      <td>0</td>\n",
              "      <td>0</td>\n",
              "      <td>0</td>\n",
              "      <td>0</td>\n",
              "    </tr>\n",
              "    <tr>\n",
              "      <th>578</th>\n",
              "      <td>1336609675156975616</td>\n",
              "      <td>2020-12-09 09:52:34</td>\n",
              "      <td>1</td>\n",
              "      <td>False</td>\n",
              "      <td>en</td>\n",
              "      <td>American airlines</td>\n",
              "      <td>0.625</td>\n",
              "      <td>0.500000</td>\n",
              "      <td>Positive</td>\n",
              "      <td>0</td>\n",
              "      <td>0</td>\n",
              "      <td>0</td>\n",
              "      <td>0</td>\n",
              "      <td>0</td>\n",
              "      <td>0</td>\n",
              "      <td>0</td>\n",
              "    </tr>\n",
              "    <tr>\n",
              "      <th>175</th>\n",
              "      <td>1334495530840449026</td>\n",
              "      <td>2020-12-03 13:51:42</td>\n",
              "      <td>175</td>\n",
              "      <td>False</td>\n",
              "      <td>en</td>\n",
              "      <td>Virgin Atlantic</td>\n",
              "      <td>0.850</td>\n",
              "      <td>0.250000</td>\n",
              "      <td>Positive</td>\n",
              "      <td>0</td>\n",
              "      <td>0</td>\n",
              "      <td>0</td>\n",
              "      <td>0</td>\n",
              "      <td>0</td>\n",
              "      <td>0</td>\n",
              "      <td>0</td>\n",
              "    </tr>\n",
              "    <tr>\n",
              "      <th>72</th>\n",
              "      <td>1334860574509953025</td>\n",
              "      <td>2020-12-04 14:02:16</td>\n",
              "      <td>1</td>\n",
              "      <td>False</td>\n",
              "      <td>en</td>\n",
              "      <td>United Airlines</td>\n",
              "      <td>0.700</td>\n",
              "      <td>0.383333</td>\n",
              "      <td>Positive</td>\n",
              "      <td>0</td>\n",
              "      <td>0</td>\n",
              "      <td>0</td>\n",
              "      <td>0</td>\n",
              "      <td>0</td>\n",
              "      <td>0</td>\n",
              "      <td>0</td>\n",
              "    </tr>\n",
              "  </tbody>\n",
              "</table>\n",
              "</div>"
            ],
            "text/plain": [
              "                tweet_id           created_at  likes  retweeted language  \\\n",
              "559  1333805173030916103  2020-12-01 16:08:28      0      False       en   \n",
              "200  1336597626721071105  2020-12-09 09:04:41      3      False       en   \n",
              "578  1336609675156975616  2020-12-09 09:52:34      1      False       en   \n",
              "175  1334495530840449026  2020-12-03 13:51:42    175      False       en   \n",
              "72   1334860574509953025  2020-12-04 14:02:16      1      False       en   \n",
              "\n",
              "               airline  subjectivity  polarity sentiment  cancel  staff  \\\n",
              "559    British airways         1.000 -1.000000  Negative       1      0   \n",
              "200   Turkish airlines         0.500  0.200000  Positive       0      0   \n",
              "578  American airlines         0.625  0.500000  Positive       0      0   \n",
              "175    Virgin Atlantic         0.850  0.250000  Positive       0      0   \n",
              "72     United Airlines         0.700  0.383333  Positive       0      0   \n",
              "\n",
              "     flight  cost  refund  customrt service  experience  \n",
              "559       1     1       1                 0           0  \n",
              "200       1     0       0                 0           0  \n",
              "578       0     0       0                 0           0  \n",
              "175       0     0       0                 0           0  \n",
              "72        0     0       0                 0           0  "
            ]
          },
          "metadata": {
            "tags": []
          },
          "execution_count": 9
        }
      ]
    },
    {
      "cell_type": "code",
      "metadata": {
        "colab": {
          "base_uri": "https://localhost:8080/"
        },
        "id": "ry0Zd-2kQbaD",
        "outputId": "5bd1c602-eae6-45ca-9cf5-0f4609f51752"
      },
      "source": [
        "airline.isna().sum()"
      ],
      "execution_count": 10,
      "outputs": [
        {
          "output_type": "execute_result",
          "data": {
            "text/plain": [
              "tweet_id            0\n",
              "created_at          0\n",
              "likes               0\n",
              "retweeted           0\n",
              "language            0\n",
              "airline             0\n",
              "subjectivity        0\n",
              "polarity            0\n",
              "sentiment           0\n",
              "cancel              0\n",
              "staff               0\n",
              "flight              0\n",
              "cost                0\n",
              "refund              0\n",
              "customrt service    0\n",
              "experience          0\n",
              "dtype: int64"
            ]
          },
          "metadata": {
            "tags": []
          },
          "execution_count": 10
        }
      ]
    },
    {
      "cell_type": "code",
      "metadata": {
        "colab": {
          "base_uri": "https://localhost:8080/"
        },
        "id": "eM3ic7xrQfts",
        "outputId": "7006822c-0c62-4a96-db51-1507b7dfecbb"
      },
      "source": [
        "airline.info()"
      ],
      "execution_count": 11,
      "outputs": [
        {
          "output_type": "stream",
          "text": [
            "<class 'pandas.core.frame.DataFrame'>\n",
            "RangeIndex: 787 entries, 0 to 786\n",
            "Data columns (total 16 columns):\n",
            " #   Column            Non-Null Count  Dtype  \n",
            "---  ------            --------------  -----  \n",
            " 0   tweet_id          787 non-null    int64  \n",
            " 1   created_at        787 non-null    object \n",
            " 2   likes             787 non-null    int64  \n",
            " 3   retweeted         787 non-null    bool   \n",
            " 4   language          787 non-null    object \n",
            " 5   airline           787 non-null    object \n",
            " 6   subjectivity      787 non-null    float64\n",
            " 7   polarity          787 non-null    float64\n",
            " 8   sentiment         787 non-null    object \n",
            " 9   cancel            787 non-null    int64  \n",
            " 10  staff             787 non-null    int64  \n",
            " 11  flight            787 non-null    int64  \n",
            " 12  cost              787 non-null    int64  \n",
            " 13  refund            787 non-null    int64  \n",
            " 14  customrt service  787 non-null    int64  \n",
            " 15  experience        787 non-null    int64  \n",
            "dtypes: bool(1), float64(2), int64(9), object(4)\n",
            "memory usage: 93.1+ KB\n"
          ],
          "name": "stdout"
        }
      ]
    },
    {
      "cell_type": "code",
      "metadata": {
        "colab": {
          "base_uri": "https://localhost:8080/",
          "height": 297
        },
        "id": "GYraR4UuYSjm",
        "outputId": "9991ea23-87c0-402b-891e-8f3f7b35a865"
      },
      "source": [
        "airline.describe()"
      ],
      "execution_count": 168,
      "outputs": [
        {
          "output_type": "execute_result",
          "data": {
            "text/html": [
              "<div>\n",
              "<style scoped>\n",
              "    .dataframe tbody tr th:only-of-type {\n",
              "        vertical-align: middle;\n",
              "    }\n",
              "\n",
              "    .dataframe tbody tr th {\n",
              "        vertical-align: top;\n",
              "    }\n",
              "\n",
              "    .dataframe thead th {\n",
              "        text-align: right;\n",
              "    }\n",
              "</style>\n",
              "<table border=\"1\" class=\"dataframe\">\n",
              "  <thead>\n",
              "    <tr style=\"text-align: right;\">\n",
              "      <th></th>\n",
              "      <th>tweet_id</th>\n",
              "      <th>likes</th>\n",
              "      <th>subjectivity</th>\n",
              "      <th>polarity</th>\n",
              "      <th>cancel</th>\n",
              "      <th>staff</th>\n",
              "      <th>flight</th>\n",
              "      <th>cost</th>\n",
              "      <th>refund</th>\n",
              "      <th>customrt service</th>\n",
              "      <th>experience</th>\n",
              "    </tr>\n",
              "  </thead>\n",
              "  <tbody>\n",
              "    <tr>\n",
              "      <th>count</th>\n",
              "      <td>7.870000e+02</td>\n",
              "      <td>787.000000</td>\n",
              "      <td>787.000000</td>\n",
              "      <td>787.000000</td>\n",
              "      <td>787.000000</td>\n",
              "      <td>787.000000</td>\n",
              "      <td>787.000000</td>\n",
              "      <td>787.000000</td>\n",
              "      <td>787.000000</td>\n",
              "      <td>787.000000</td>\n",
              "      <td>787.000000</td>\n",
              "    </tr>\n",
              "    <tr>\n",
              "      <th>mean</th>\n",
              "      <td>1.335635e+18</td>\n",
              "      <td>12.672173</td>\n",
              "      <td>0.547357</td>\n",
              "      <td>0.212746</td>\n",
              "      <td>0.010165</td>\n",
              "      <td>0.026684</td>\n",
              "      <td>0.231258</td>\n",
              "      <td>0.054638</td>\n",
              "      <td>0.055909</td>\n",
              "      <td>0.058450</td>\n",
              "      <td>0.011436</td>\n",
              "    </tr>\n",
              "    <tr>\n",
              "      <th>std</th>\n",
              "      <td>1.015809e+15</td>\n",
              "      <td>61.246129</td>\n",
              "      <td>0.266249</td>\n",
              "      <td>0.384728</td>\n",
              "      <td>0.100373</td>\n",
              "      <td>0.161260</td>\n",
              "      <td>0.421905</td>\n",
              "      <td>0.227417</td>\n",
              "      <td>0.229891</td>\n",
              "      <td>0.234741</td>\n",
              "      <td>0.106393</td>\n",
              "    </tr>\n",
              "    <tr>\n",
              "      <th>min</th>\n",
              "      <td>1.333677e+18</td>\n",
              "      <td>0.000000</td>\n",
              "      <td>0.000000</td>\n",
              "      <td>-1.000000</td>\n",
              "      <td>0.000000</td>\n",
              "      <td>0.000000</td>\n",
              "      <td>0.000000</td>\n",
              "      <td>0.000000</td>\n",
              "      <td>0.000000</td>\n",
              "      <td>0.000000</td>\n",
              "      <td>0.000000</td>\n",
              "    </tr>\n",
              "    <tr>\n",
              "      <th>25%</th>\n",
              "      <td>1.334704e+18</td>\n",
              "      <td>0.000000</td>\n",
              "      <td>0.333333</td>\n",
              "      <td>0.050000</td>\n",
              "      <td>0.000000</td>\n",
              "      <td>0.000000</td>\n",
              "      <td>0.000000</td>\n",
              "      <td>0.000000</td>\n",
              "      <td>0.000000</td>\n",
              "      <td>0.000000</td>\n",
              "      <td>0.000000</td>\n",
              "    </tr>\n",
              "    <tr>\n",
              "      <th>50%</th>\n",
              "      <td>1.335797e+18</td>\n",
              "      <td>0.000000</td>\n",
              "      <td>0.533333</td>\n",
              "      <td>0.250000</td>\n",
              "      <td>0.000000</td>\n",
              "      <td>0.000000</td>\n",
              "      <td>0.000000</td>\n",
              "      <td>0.000000</td>\n",
              "      <td>0.000000</td>\n",
              "      <td>0.000000</td>\n",
              "      <td>0.000000</td>\n",
              "    </tr>\n",
              "    <tr>\n",
              "      <th>75%</th>\n",
              "      <td>1.336525e+18</td>\n",
              "      <td>1.000000</td>\n",
              "      <td>0.750000</td>\n",
              "      <td>0.495833</td>\n",
              "      <td>0.000000</td>\n",
              "      <td>0.000000</td>\n",
              "      <td>0.000000</td>\n",
              "      <td>0.000000</td>\n",
              "      <td>0.000000</td>\n",
              "      <td>0.000000</td>\n",
              "      <td>0.000000</td>\n",
              "    </tr>\n",
              "    <tr>\n",
              "      <th>max</th>\n",
              "      <td>1.337167e+18</td>\n",
              "      <td>706.000000</td>\n",
              "      <td>1.000000</td>\n",
              "      <td>1.000000</td>\n",
              "      <td>1.000000</td>\n",
              "      <td>1.000000</td>\n",
              "      <td>1.000000</td>\n",
              "      <td>1.000000</td>\n",
              "      <td>1.000000</td>\n",
              "      <td>1.000000</td>\n",
              "      <td>1.000000</td>\n",
              "    </tr>\n",
              "  </tbody>\n",
              "</table>\n",
              "</div>"
            ],
            "text/plain": [
              "           tweet_id       likes  subjectivity    polarity      cancel  \\\n",
              "count  7.870000e+02  787.000000    787.000000  787.000000  787.000000   \n",
              "mean   1.335635e+18   12.672173      0.547357    0.212746    0.010165   \n",
              "std    1.015809e+15   61.246129      0.266249    0.384728    0.100373   \n",
              "min    1.333677e+18    0.000000      0.000000   -1.000000    0.000000   \n",
              "25%    1.334704e+18    0.000000      0.333333    0.050000    0.000000   \n",
              "50%    1.335797e+18    0.000000      0.533333    0.250000    0.000000   \n",
              "75%    1.336525e+18    1.000000      0.750000    0.495833    0.000000   \n",
              "max    1.337167e+18  706.000000      1.000000    1.000000    1.000000   \n",
              "\n",
              "            staff      flight        cost      refund  customrt service  \\\n",
              "count  787.000000  787.000000  787.000000  787.000000        787.000000   \n",
              "mean     0.026684    0.231258    0.054638    0.055909          0.058450   \n",
              "std      0.161260    0.421905    0.227417    0.229891          0.234741   \n",
              "min      0.000000    0.000000    0.000000    0.000000          0.000000   \n",
              "25%      0.000000    0.000000    0.000000    0.000000          0.000000   \n",
              "50%      0.000000    0.000000    0.000000    0.000000          0.000000   \n",
              "75%      0.000000    0.000000    0.000000    0.000000          0.000000   \n",
              "max      1.000000    1.000000    1.000000    1.000000          1.000000   \n",
              "\n",
              "       experience  \n",
              "count  787.000000  \n",
              "mean     0.011436  \n",
              "std      0.106393  \n",
              "min      0.000000  \n",
              "25%      0.000000  \n",
              "50%      0.000000  \n",
              "75%      0.000000  \n",
              "max      1.000000  "
            ]
          },
          "metadata": {
            "tags": []
          },
          "execution_count": 168
        }
      ]
    },
    {
      "cell_type": "markdown",
      "metadata": {
        "id": "TEFltwoSQ7E1"
      },
      "source": [
        "#**Preproccesing**"
      ]
    },
    {
      "cell_type": "markdown",
      "metadata": {
        "id": "Wvh4NUxC247E"
      },
      "source": [
        "#Distribution of the target \n",
        "\n",
        "there is imbalance in the distribution, we are going to stratify the data when split it"
      ]
    },
    {
      "cell_type": "code",
      "metadata": {
        "colab": {
          "base_uri": "https://localhost:8080/",
          "height": 285
        },
        "id": "a47s3sJI29XY",
        "outputId": "f843db4c-d597-473d-c74f-aed4d6ec21c3"
      },
      "source": [
        "sns.set_theme(style=\"whitegrid\")\n",
        "ax = sns.countplot(x=\"sentiment\",data=airline, palette= ['#1a9850', '#d73027'])"
      ],
      "execution_count": 12,
      "outputs": [
        {
          "output_type": "display_data",
          "data": {
            "image/png": "[encoded data removed]",
            "text/plain": [
              "<Figure size 432x288 with 1 Axes>"
            ]
          },
          "metadata": {
            "tags": []
          }
        }
      ]
    },
    {
      "cell_type": "markdown",
      "metadata": {
        "id": "VEwXRQ2o5Rqe"
      },
      "source": [
        "#Variance"
      ]
    },
    {
      "cell_type": "code",
      "metadata": {
        "id": "vHZQc8pL5ekr"
      },
      "source": [
        "variance = airline.var()\n",
        "variance = variance.to_frame(\"variance\")\n",
        "variance[\"feature_names\"] = variance.index \n",
        "variance.reset_index(inplace=True)\n",
        "#reordering columns \n",
        "variance = variance[[\"feature_names\",\"variance\"]]\n",
        "#logging.debug(\"exporting variance to csv file\")\n",
        "#variance.to_csv(data_file+\"_variance.csv\", sep=\"|\", index=False)"
      ],
      "execution_count": 170,
      "outputs": []
    },
    {
      "cell_type": "code",
      "metadata": {
        "colab": {
          "base_uri": "https://localhost:8080/",
          "height": 421
        },
        "id": "bsgONMW75q--",
        "outputId": "798d89c2-4f9e-4752-9e5c-024d77394ae8"
      },
      "source": [
        "variance"
      ],
      "execution_count": 171,
      "outputs": [
        {
          "output_type": "execute_result",
          "data": {
            "text/html": [
              "<div>\n",
              "<style scoped>\n",
              "    .dataframe tbody tr th:only-of-type {\n",
              "        vertical-align: middle;\n",
              "    }\n",
              "\n",
              "    .dataframe tbody tr th {\n",
              "        vertical-align: top;\n",
              "    }\n",
              "\n",
              "    .dataframe thead th {\n",
              "        text-align: right;\n",
              "    }\n",
              "</style>\n",
              "<table border=\"1\" class=\"dataframe\">\n",
              "  <thead>\n",
              "    <tr style=\"text-align: right;\">\n",
              "      <th></th>\n",
              "      <th>feature_names</th>\n",
              "      <th>variance</th>\n",
              "    </tr>\n",
              "  </thead>\n",
              "  <tbody>\n",
              "    <tr>\n",
              "      <th>0</th>\n",
              "      <td>tweet_id</td>\n",
              "      <td>1.031867e+30</td>\n",
              "    </tr>\n",
              "    <tr>\n",
              "      <th>1</th>\n",
              "      <td>likes</td>\n",
              "      <td>3.751088e+03</td>\n",
              "    </tr>\n",
              "    <tr>\n",
              "      <th>2</th>\n",
              "      <td>retweeted</td>\n",
              "      <td>0.000000e+00</td>\n",
              "    </tr>\n",
              "    <tr>\n",
              "      <th>3</th>\n",
              "      <td>subjectivity</td>\n",
              "      <td>7.088837e-02</td>\n",
              "    </tr>\n",
              "    <tr>\n",
              "      <th>4</th>\n",
              "      <td>polarity</td>\n",
              "      <td>1.480154e-01</td>\n",
              "    </tr>\n",
              "    <tr>\n",
              "      <th>5</th>\n",
              "      <td>cancel</td>\n",
              "      <td>1.007465e-02</td>\n",
              "    </tr>\n",
              "    <tr>\n",
              "      <th>6</th>\n",
              "      <td>staff</td>\n",
              "      <td>2.600464e-02</td>\n",
              "    </tr>\n",
              "    <tr>\n",
              "      <th>7</th>\n",
              "      <td>flight</td>\n",
              "      <td>1.780039e-01</td>\n",
              "    </tr>\n",
              "    <tr>\n",
              "      <th>8</th>\n",
              "      <td>cost</td>\n",
              "      <td>5.171828e-02</td>\n",
              "    </tr>\n",
              "    <tr>\n",
              "      <th>9</th>\n",
              "      <td>refund</td>\n",
              "      <td>5.284991e-02</td>\n",
              "    </tr>\n",
              "    <tr>\n",
              "      <th>10</th>\n",
              "      <td>customrt service</td>\n",
              "      <td>5.510345e-02</td>\n",
              "    </tr>\n",
              "    <tr>\n",
              "      <th>11</th>\n",
              "      <td>experience</td>\n",
              "      <td>1.131944e-02</td>\n",
              "    </tr>\n",
              "  </tbody>\n",
              "</table>\n",
              "</div>"
            ],
            "text/plain": [
              "       feature_names      variance\n",
              "0           tweet_id  1.031867e+30\n",
              "1              likes  3.751088e+03\n",
              "2          retweeted  0.000000e+00\n",
              "3       subjectivity  7.088837e-02\n",
              "4           polarity  1.480154e-01\n",
              "5             cancel  1.007465e-02\n",
              "6              staff  2.600464e-02\n",
              "7             flight  1.780039e-01\n",
              "8               cost  5.171828e-02\n",
              "9             refund  5.284991e-02\n",
              "10  customrt service  5.510345e-02\n",
              "11        experience  1.131944e-02"
            ]
          },
          "metadata": {
            "tags": []
          },
          "execution_count": 171
        }
      ]
    },
    {
      "cell_type": "markdown",
      "metadata": {
        "id": "16-q99cf8k9O"
      },
      "source": [
        "- we are going to remove zero variance(retweeted)\n",
        "- we are going to remove near zero variance (tweet_id, polarity, cancel, flight, experience)"
      ]
    },
    {
      "cell_type": "code",
      "metadata": {
        "id": "7Jdj7BjM9CAg"
      },
      "source": [
        "airline = airline.drop(['retweeted', 'polarity', 'cancel', 'flight', 'experience', 'tweet_id'], axis=1)"
      ],
      "execution_count": 13,
      "outputs": []
    },
    {
      "cell_type": "code",
      "metadata": {
        "colab": {
          "base_uri": "https://localhost:8080/",
          "height": 285
        },
        "id": "mCh20YAX-e1P",
        "outputId": "c1db7003-0f44-4e99-c005-eba7bb46a924"
      },
      "source": [
        "sns.set_theme(style=\"whitegrid\")\n",
        "ax = sns.countplot(x=\"language\",data=airline, palette= ['#1a9850', '#d73027'])"
      ],
      "execution_count": 173,
      "outputs": [
        {
          "output_type": "display_data",
          "data": {
            "image/png": "[encoded data removed]",
            "text/plain": [
              "<Figure size 432x288 with 1 Axes>"
            ]
          },
          "metadata": {
            "tags": []
          }
        }
      ]
    },
    {
      "cell_type": "code",
      "metadata": {
        "id": "RzBfWc4S-RWE"
      },
      "source": [
        "#remove language because it contains only one language \n",
        "airline = airline.drop(['language'], axis=1)"
      ],
      "execution_count": 14,
      "outputs": []
    },
    {
      "cell_type": "code",
      "metadata": {
        "id": "iwWd5eSG-xCe"
      },
      "source": [
        "#remove it for now\n",
        "airline = airline.drop(['created_at', 'subjectivity'], axis=1)"
      ],
      "execution_count": 15,
      "outputs": []
    },
    {
      "cell_type": "code",
      "metadata": {
        "colab": {
          "base_uri": "https://localhost:8080/"
        },
        "id": "IIfkfodAQlPO",
        "outputId": "c835088e-0c94-48c9-ec8c-67f00be89804"
      },
      "source": [
        "airline['likes'].unique()"
      ],
      "execution_count": 42,
      "outputs": [
        {
          "output_type": "execute_result",
          "data": {
            "text/plain": [
              "array([  0,   5,   1, 160,   2,   7,   8,  10,  52,   3,  40,  61,  53,\n",
              "        28,  62,  24,  29,   6,  46,  33, 106,  20,   4,  16,  22,  39,\n",
              "       124,  34,  59, 175,  11, 185, 110,  21,  19,  66, 706, 534, 588,\n",
              "       488, 575, 155,  71,  44,  94, 164,  51, 442,  79,  99,  86,  91,\n",
              "       147,  78, 456, 294, 305,  38,  23, 100,   9,  15,  63, 112,  48,\n",
              "       385,  14, 431,  13,  35,  12,  47, 130, 248, 165])"
            ]
          },
          "metadata": {
            "tags": []
          },
          "execution_count": 42
        }
      ]
    },
    {
      "cell_type": "code",
      "metadata": {
        "colab": {
          "base_uri": "https://localhost:8080/",
          "height": 372
        },
        "id": "_0Tto1Zv-77u",
        "outputId": "f06dfc9d-1d00-492f-8721-ebb24bf69e6e"
      },
      "source": [
        "# matplotlib histogram\n",
        "# I want y to be as the highest number in likes not the number of rows\n",
        "#plt.hist(airline['likes'], color = 'blue', edgecolor = 'black', bins = 45)\n",
        "\n",
        "# seaborn histogram\n",
        "sns.distplot(airline['likes'], hist=True, kde=False, color = 'blue',\n",
        "             hist_kws={'edgecolor':'black'}, bins = 30)\n",
        "# Add labels\n",
        "plt.title('Histogram of likes')\n",
        "plt.xlabel('Delay (min)')\n",
        "plt.ylabel('Flights')"
      ],
      "execution_count": 98,
      "outputs": [
        {
          "output_type": "stream",
          "text": [
            "/usr/local/lib/python3.6/dist-packages/seaborn/distributions.py:2551: FutureWarning: `distplot` is a deprecated function and will be removed in a future version. Please adapt your code to use either `displot` (a figure-level function with similar flexibility) or `histplot` (an axes-level function for histograms).\n",
            "  warnings.warn(msg, FutureWarning)\n"
          ],
          "name": "stderr"
        },
        {
          "output_type": "execute_result",
          "data": {
            "text/plain": [
              "Text(0, 0.5, 'Flights')"
            ]
          },
          "metadata": {
            "tags": []
          },
          "execution_count": 98
        },
        {
          "output_type": "display_data",
          "data": {
            "image/png": "[encoded data removed]",
            "text/plain": [
              "<Figure size 432x288 with 1 Axes>"
            ]
          },
          "metadata": {
            "tags": []
          }
        }
      ]
    },
    {
      "cell_type": "markdown",
      "metadata": {
        "id": "IViXHbPCSDHQ"
      },
      "source": [
        "the likes is positively skewed"
      ]
    },
    {
      "cell_type": "code",
      "metadata": {
        "colab": {
          "base_uri": "https://localhost:8080/"
        },
        "id": "3T6FlWtXbx1O",
        "outputId": "105e383f-536a-44ca-c719-301d571cdfd6"
      },
      "source": [
        "log_likes = np.log(airline['likes'])\n",
        "#log_likes.skew()"
      ],
      "execution_count": 95,
      "outputs": [
        {
          "output_type": "stream",
          "text": [
            "/usr/local/lib/python3.6/dist-packages/pandas/core/series.py:726: RuntimeWarning: divide by zero encountered in log\n",
            "  result = getattr(ufunc, method)(*inputs, **kwargs)\n"
          ],
          "name": "stderr"
        }
      ]
    },
    {
      "cell_type": "code",
      "metadata": {
        "colab": {
          "base_uri": "https://localhost:8080/"
        },
        "id": "UkcUaacSgPLx",
        "outputId": "1f39265f-e8e0-477c-f58d-eed962b360cb"
      },
      "source": [
        "def sigmoid(x):\n",
        "    e = np.exp(1)\n",
        "    y = 1/(1+e**(-x))\n",
        "    return y\n",
        "likes_sigmoid = sigmoid(airline.likes)\n",
        "likes_sigmoid.describe()"
      ],
      "execution_count": 99,
      "outputs": [
        {
          "output_type": "execute_result",
          "data": {
            "text/plain": [
              "count    787.000000\n",
              "mean       0.641606\n",
              "std        0.197379\n",
              "min        0.500000\n",
              "25%        0.500000\n",
              "50%        0.500000\n",
              "75%        0.731059\n",
              "max        1.000000\n",
              "Name: likes, dtype: float64"
            ]
          },
          "metadata": {
            "tags": []
          },
          "execution_count": 99
        }
      ]
    },
    {
      "cell_type": "code",
      "metadata": {
        "colab": {
          "base_uri": "https://localhost:8080/",
          "height": 372
        },
        "id": "VEQa19zWgcq1",
        "outputId": "fcd2e876-2fb2-4fd1-92e7-099139488db3"
      },
      "source": [
        "sns.distplot(likes_sigmoid, hist=True, kde=False, color = 'blue',\n",
        "             hist_kws={'edgecolor':'black'}, bins = 30)\n",
        "# Add labels\n",
        "plt.title('Histogram of likes')\n",
        "plt.xlabel('Delay (min)')\n",
        "plt.ylabel('Flights')"
      ],
      "execution_count": 100,
      "outputs": [
        {
          "output_type": "stream",
          "text": [
            "/usr/local/lib/python3.6/dist-packages/seaborn/distributions.py:2551: FutureWarning: `distplot` is a deprecated function and will be removed in a future version. Please adapt your code to use either `displot` (a figure-level function with similar flexibility) or `histplot` (an axes-level function for histograms).\n",
            "  warnings.warn(msg, FutureWarning)\n"
          ],
          "name": "stderr"
        },
        {
          "output_type": "execute_result",
          "data": {
            "text/plain": [
              "Text(0, 0.5, 'Flights')"
            ]
          },
          "metadata": {
            "tags": []
          },
          "execution_count": 100
        },
        {
          "output_type": "display_data",
          "data": {
            "image/png": "[encoded data removed]",
            "text/plain": [
              "<Figure size 432x288 with 1 Axes>"
            ]
          },
          "metadata": {
            "tags": []
          }
        }
      ]
    },
    {
      "cell_type": "code",
      "metadata": {
        "colab": {
          "base_uri": "https://localhost:8080/"
        },
        "id": "J7rhmnyfg2FH",
        "outputId": "101fb676-28aa-48a8-e145-a5413307f7c2"
      },
      "source": [
        "likes_log = np.log(airline.likes + 1)\n",
        "likes_log.describe()"
      ],
      "execution_count": 101,
      "outputs": [
        {
          "output_type": "execute_result",
          "data": {
            "text/plain": [
              "count    787.000000\n",
              "mean       0.707242\n",
              "std        1.309784\n",
              "min        0.000000\n",
              "25%        0.000000\n",
              "50%        0.000000\n",
              "75%        0.693147\n",
              "max        6.561031\n",
              "Name: likes, dtype: float64"
            ]
          },
          "metadata": {
            "tags": []
          },
          "execution_count": 101
        }
      ]
    },
    {
      "cell_type": "code",
      "metadata": {
        "colab": {
          "base_uri": "https://localhost:8080/",
          "height": 372
        },
        "id": "rzQgp1jMgPbY",
        "outputId": "336b8182-400a-417c-deac-c026c5763c07"
      },
      "source": [
        "sns.distplot(likes_log, hist=True, kde=False, color = 'blue',\n",
        "             hist_kws={'edgecolor':'black'}, bins = 30)\n",
        "# Add labels\n",
        "plt.title('Histogram of likes')\n",
        "plt.xlabel('likes')\n",
        "plt.ylabel('counts')"
      ],
      "execution_count": 102,
      "outputs": [
        {
          "output_type": "stream",
          "text": [
            "/usr/local/lib/python3.6/dist-packages/seaborn/distributions.py:2551: FutureWarning: `distplot` is a deprecated function and will be removed in a future version. Please adapt your code to use either `displot` (a figure-level function with similar flexibility) or `histplot` (an axes-level function for histograms).\n",
            "  warnings.warn(msg, FutureWarning)\n"
          ],
          "name": "stderr"
        },
        {
          "output_type": "execute_result",
          "data": {
            "text/plain": [
              "Text(0, 0.5, 'Flights')"
            ]
          },
          "metadata": {
            "tags": []
          },
          "execution_count": 102
        },
        {
          "output_type": "display_data",
          "data": {
            "image/png": "[encoded data removed]",
            "text/plain": [
              "<Figure size 432x288 with 1 Axes>"
            ]
          },
          "metadata": {
            "tags": []
          }
        }
      ]
    },
    {
      "cell_type": "code",
      "metadata": {
        "id": "ZlKTTYVjhdMH"
      },
      "source": [
        ""
      ],
      "execution_count": null,
      "outputs": []
    },
    {
      "cell_type": "code",
      "metadata": {
        "colab": {
          "base_uri": "https://localhost:8080/"
        },
        "id": "k5W6f_COhSZV",
        "outputId": "3cdc7804-f4a2-498f-e2de-19bb1d89ecea"
      },
      "source": [
        "likes_log_normalized = normalize(likes_log)\n",
        "likes_log_normalized.describe()"
      ],
      "execution_count": 103,
      "outputs": [
        {
          "output_type": "execute_result",
          "data": {
            "text/plain": [
              "count    787.000000\n",
              "mean       0.107794\n",
              "std        0.199631\n",
              "min        0.000000\n",
              "25%        0.000000\n",
              "50%        0.000000\n",
              "75%        0.105646\n",
              "max        1.000000\n",
              "Name: likes, dtype: float64"
            ]
          },
          "metadata": {
            "tags": []
          },
          "execution_count": 103
        }
      ]
    },
    {
      "cell_type": "code",
      "metadata": {
        "colab": {
          "base_uri": "https://localhost:8080/",
          "height": 372
        },
        "id": "LfBDs1u-hh4m",
        "outputId": "b3346783-1b66-49a5-ca0a-69795d9b992a"
      },
      "source": [
        "sns.distplot(likes_log_normalized, hist=True, kde=False, color = 'blue',\n",
        "             hist_kws={'edgecolor':'black'}, bins = 30)\n",
        "# Add labels\n",
        "plt.title('Histogram of likes')\n",
        "plt.xlabel('likes')\n",
        "plt.ylabel('counts')"
      ],
      "execution_count": 104,
      "outputs": [
        {
          "output_type": "stream",
          "text": [
            "/usr/local/lib/python3.6/dist-packages/seaborn/distributions.py:2551: FutureWarning: `distplot` is a deprecated function and will be removed in a future version. Please adapt your code to use either `displot` (a figure-level function with similar flexibility) or `histplot` (an axes-level function for histograms).\n",
            "  warnings.warn(msg, FutureWarning)\n"
          ],
          "name": "stderr"
        },
        {
          "output_type": "execute_result",
          "data": {
            "text/plain": [
              "Text(0, 0.5, 'counts')"
            ]
          },
          "metadata": {
            "tags": []
          },
          "execution_count": 104
        },
        {
          "output_type": "display_data",
          "data": {
            "image/png": "[encoded data removed]",
            "text/plain": [
              "<Figure size 432x288 with 1 Axes>"
            ]
          },
          "metadata": {
            "tags": []
          }
        }
      ]
    },
    {
      "cell_type": "markdown",
      "metadata": {
        "id": "JRosNRKbiKhT"
      },
      "source": [
        "#Assess the distribution of the airlines"
      ]
    },
    {
      "cell_type": "code",
      "metadata": {
        "colab": {
          "base_uri": "https://localhost:8080/",
          "height": 285
        },
        "id": "RrJbAIg3iQXQ",
        "outputId": "a162488a-d56c-436e-da6b-52895246e088"
      },
      "source": [
        "sns.set_theme(style=\"whitegrid\")\n",
        "ax = sns.countplot(y=\"airline\",data=airline, color= '#2166ac', order = airline['airline'].value_counts().index)"
      ],
      "execution_count": 176,
      "outputs": [
        {
          "output_type": "display_data",
          "data": {
            "image/png": "[encoded data removed]",
            "text/plain": [
              "<Figure size 432x288 with 1 Axes>"
            ]
          },
          "metadata": {
            "tags": []
          }
        }
      ]
    },
    {
      "cell_type": "code",
      "metadata": {
        "id": "YoNUUWL-h59O"
      },
      "source": [
        ""
      ],
      "execution_count": null,
      "outputs": []
    },
    {
      "cell_type": "markdown",
      "metadata": {
        "id": "WaUpVXlJRIne"
      },
      "source": [
        "#Encoding the variables\n",
        "\n",
        "\n",
        "- airline\n",
        "- sentiment (target)"
      ]
    },
    {
      "cell_type": "code",
      "metadata": {
        "colab": {
          "base_uri": "https://localhost:8080/",
          "height": 419
        },
        "id": "cwmF8hZSF4mF",
        "outputId": "f1a7fd37-4969-4f89-ed91-77dd2bf06d73"
      },
      "source": [
        "le = LabelEncoder()\n",
        "airline['airline'] = le.fit_transform(airline['airline'])\n",
        "airline"
      ],
      "execution_count": 16,
      "outputs": [
        {
          "output_type": "execute_result",
          "data": {
            "text/html": [
              "<div>\n",
              "<style scoped>\n",
              "    .dataframe tbody tr th:only-of-type {\n",
              "        vertical-align: middle;\n",
              "    }\n",
              "\n",
              "    .dataframe tbody tr th {\n",
              "        vertical-align: top;\n",
              "    }\n",
              "\n",
              "    .dataframe thead th {\n",
              "        text-align: right;\n",
              "    }\n",
              "</style>\n",
              "<table border=\"1\" class=\"dataframe\">\n",
              "  <thead>\n",
              "    <tr style=\"text-align: right;\">\n",
              "      <th></th>\n",
              "      <th>likes</th>\n",
              "      <th>airline</th>\n",
              "      <th>sentiment</th>\n",
              "      <th>staff</th>\n",
              "      <th>cost</th>\n",
              "      <th>refund</th>\n",
              "      <th>customrt service</th>\n",
              "    </tr>\n",
              "  </thead>\n",
              "  <tbody>\n",
              "    <tr>\n",
              "      <th>0</th>\n",
              "      <td>0</td>\n",
              "      <td>5</td>\n",
              "      <td>Positive</td>\n",
              "      <td>0</td>\n",
              "      <td>0</td>\n",
              "      <td>0</td>\n",
              "      <td>0</td>\n",
              "    </tr>\n",
              "    <tr>\n",
              "      <th>1</th>\n",
              "      <td>5</td>\n",
              "      <td>5</td>\n",
              "      <td>Positive</td>\n",
              "      <td>0</td>\n",
              "      <td>0</td>\n",
              "      <td>0</td>\n",
              "      <td>0</td>\n",
              "    </tr>\n",
              "    <tr>\n",
              "      <th>2</th>\n",
              "      <td>1</td>\n",
              "      <td>5</td>\n",
              "      <td>Positive</td>\n",
              "      <td>0</td>\n",
              "      <td>0</td>\n",
              "      <td>0</td>\n",
              "      <td>0</td>\n",
              "    </tr>\n",
              "    <tr>\n",
              "      <th>3</th>\n",
              "      <td>0</td>\n",
              "      <td>5</td>\n",
              "      <td>Positive</td>\n",
              "      <td>0</td>\n",
              "      <td>0</td>\n",
              "      <td>0</td>\n",
              "      <td>0</td>\n",
              "    </tr>\n",
              "    <tr>\n",
              "      <th>4</th>\n",
              "      <td>0</td>\n",
              "      <td>5</td>\n",
              "      <td>Positive</td>\n",
              "      <td>1</td>\n",
              "      <td>0</td>\n",
              "      <td>0</td>\n",
              "      <td>0</td>\n",
              "    </tr>\n",
              "    <tr>\n",
              "      <th>...</th>\n",
              "      <td>...</td>\n",
              "      <td>...</td>\n",
              "      <td>...</td>\n",
              "      <td>...</td>\n",
              "      <td>...</td>\n",
              "      <td>...</td>\n",
              "      <td>...</td>\n",
              "    </tr>\n",
              "    <tr>\n",
              "      <th>782</th>\n",
              "      <td>0</td>\n",
              "      <td>0</td>\n",
              "      <td>Positive</td>\n",
              "      <td>0</td>\n",
              "      <td>0</td>\n",
              "      <td>0</td>\n",
              "      <td>0</td>\n",
              "    </tr>\n",
              "    <tr>\n",
              "      <th>783</th>\n",
              "      <td>0</td>\n",
              "      <td>0</td>\n",
              "      <td>Positive</td>\n",
              "      <td>0</td>\n",
              "      <td>1</td>\n",
              "      <td>1</td>\n",
              "      <td>0</td>\n",
              "    </tr>\n",
              "    <tr>\n",
              "      <th>784</th>\n",
              "      <td>1</td>\n",
              "      <td>0</td>\n",
              "      <td>Positive</td>\n",
              "      <td>0</td>\n",
              "      <td>0</td>\n",
              "      <td>0</td>\n",
              "      <td>0</td>\n",
              "    </tr>\n",
              "    <tr>\n",
              "      <th>785</th>\n",
              "      <td>0</td>\n",
              "      <td>0</td>\n",
              "      <td>Negative</td>\n",
              "      <td>0</td>\n",
              "      <td>0</td>\n",
              "      <td>0</td>\n",
              "      <td>0</td>\n",
              "    </tr>\n",
              "    <tr>\n",
              "      <th>786</th>\n",
              "      <td>1</td>\n",
              "      <td>0</td>\n",
              "      <td>Positive</td>\n",
              "      <td>0</td>\n",
              "      <td>0</td>\n",
              "      <td>0</td>\n",
              "      <td>0</td>\n",
              "    </tr>\n",
              "  </tbody>\n",
              "</table>\n",
              "<p>787 rows × 7 columns</p>\n",
              "</div>"
            ],
            "text/plain": [
              "     likes  airline sentiment  staff  cost  refund  customrt service\n",
              "0        0        5  Positive      0     0       0                 0\n",
              "1        5        5  Positive      0     0       0                 0\n",
              "2        1        5  Positive      0     0       0                 0\n",
              "3        0        5  Positive      0     0       0                 0\n",
              "4        0        5  Positive      1     0       0                 0\n",
              "..     ...      ...       ...    ...   ...     ...               ...\n",
              "782      0        0  Positive      0     0       0                 0\n",
              "783      0        0  Positive      0     1       1                 0\n",
              "784      1        0  Positive      0     0       0                 0\n",
              "785      0        0  Negative      0     0       0                 0\n",
              "786      1        0  Positive      0     0       0                 0\n",
              "\n",
              "[787 rows x 7 columns]"
            ]
          },
          "metadata": {
            "tags": []
          },
          "execution_count": 16
        }
      ]
    },
    {
      "cell_type": "markdown",
      "metadata": {
        "id": "S60lhuGcjm1L"
      },
      "source": [
        "#check if there is high correlation"
      ]
    },
    {
      "cell_type": "code",
      "metadata": {
        "colab": {
          "base_uri": "https://localhost:8080/",
          "height": 355
        },
        "id": "8PwqQp5ijZRo",
        "outputId": "dca199aa-45b2-4297-b040-d8d86370ae6f"
      },
      "source": [
        "sns.heatmap(airline.corr())\n",
        "plt.show()"
      ],
      "execution_count": 17,
      "outputs": [
        {
          "output_type": "display_data",
          "data": {
            "image/png": "[encoded data removed]",
            "text/plain": [
              "<Figure size 432x288 with 2 Axes>"
            ]
          },
          "metadata": {
            "tags": []
          }
        }
      ]
    },
    {
      "cell_type": "code",
      "metadata": {
        "id": "B_eNfQ3Cn7Q0"
      },
      "source": [
        "x_data = airline[['likes', 'airline', 'staff', 'cost', 'refund', 'customrt service']]\n",
        "y_data = airline['sentiment']"
      ],
      "execution_count": 33,
      "outputs": []
    },
    {
      "cell_type": "code",
      "metadata": {
        "colab": {
          "base_uri": "https://localhost:8080/"
        },
        "id": "QtFklUPt3Nq4",
        "outputId": "9fc694cb-36e8-468f-b1f5-636b3d0e61fd"
      },
      "source": [
        "# Map response variable to integers 0,1.\n",
        "\n",
        "y_data = pd.Series(np.where(y_data.values == 'Positive',1,0), y_data.index)\n",
        "\n",
        "y_data.value_counts()"
      ],
      "execution_count": 34,
      "outputs": [
        {
          "output_type": "execute_result",
          "data": {
            "text/plain": [
              "1    613\n",
              "0    174\n",
              "dtype: int64"
            ]
          },
          "metadata": {
            "tags": []
          },
          "execution_count": 34
        }
      ]
    },
    {
      "cell_type": "markdown",
      "metadata": {
        "id": "7Mwfb4NPRdkh"
      },
      "source": [
        "#Test-Train split\n",
        "\n",
        "70% train\n",
        "30# test"
      ]
    },
    {
      "cell_type": "code",
      "metadata": {
        "id": "2zY_yZhu6ROP"
      },
      "source": [
        "X_train, X_test, y_train, y_test = train_test_split(x_data,y_data, test_size=0.3, stratify=y_data, random_state=123)\n"
      ],
      "execution_count": 35,
      "outputs": []
    },
    {
      "cell_type": "code",
      "metadata": {
        "colab": {
          "base_uri": "https://localhost:8080/"
        },
        "id": "qgP30guvzy2w",
        "outputId": "1d8d271b-e231-4247-ee0c-fe5270b1784d"
      },
      "source": [
        "X_train.shape, y_train.shape"
      ],
      "execution_count": 36,
      "outputs": [
        {
          "output_type": "execute_result",
          "data": {
            "text/plain": [
              "((550, 6), (550,))"
            ]
          },
          "metadata": {
            "tags": []
          },
          "execution_count": 36
        }
      ]
    },
    {
      "cell_type": "code",
      "metadata": {
        "colab": {
          "base_uri": "https://localhost:8080/"
        },
        "id": "LDANo9sgz4h7",
        "outputId": "423a2c93-e8d9-4a8a-f703-c23f0dde9818"
      },
      "source": [
        "X_test.shape , y_test.shape"
      ],
      "execution_count": 37,
      "outputs": [
        {
          "output_type": "execute_result",
          "data": {
            "text/plain": [
              "((237, 6), (237,))"
            ]
          },
          "metadata": {
            "tags": []
          },
          "execution_count": 37
        }
      ]
    },
    {
      "cell_type": "code",
      "metadata": {
        "colab": {
          "base_uri": "https://localhost:8080/"
        },
        "id": "iSI0DmVa0D5c",
        "outputId": "65d96ca1-1abb-4870-dc28-4993f1cd3c59"
      },
      "source": [
        "y_test"
      ],
      "execution_count": 39,
      "outputs": [
        {
          "output_type": "execute_result",
          "data": {
            "text/plain": [
              "763    1\n",
              "451    0\n",
              "530    1\n",
              "669    1\n",
              "760    0\n",
              "      ..\n",
              "783    1\n",
              "776    1\n",
              "394    0\n",
              "442    1\n",
              "422    1\n",
              "Length: 237, dtype: int64"
            ]
          },
          "metadata": {
            "tags": []
          },
          "execution_count": 39
        }
      ]
    },
    {
      "cell_type": "code",
      "metadata": {
        "id": "2OfizjcJ0MoB"
      },
      "source": [
        "scaler = MinMaxScaler(feature_range = (0,1))\n",
        "\n",
        "scaler.fit(X_train)\n",
        "X_train = scaler.transform(X_train)\n",
        "X_test = scaler.transform(X_test)"
      ],
      "execution_count": 45,
      "outputs": []
    },
    {
      "cell_type": "markdown",
      "metadata": {
        "id": "zxxn6X48Bt6O"
      },
      "source": [
        "#Imbalance dataset\n",
        "\n",
        "#Dealing with imbalance data\n",
        "\n",
        "https://towardsdatascience.com/how-to-deal-with-imbalanced-data-34ab7db9b100\n",
        "\n",
        "**Confusion-Matrix:**\n",
        "In case of imbalanced classes confusion-matrix is good technique to summarizing the performance of a classification algorithm.\n",
        "\n",
        "\n",
        "Since, as explained above, accuracy isn’t a good measure when working with imbalanced datasets, let’s consider more appropriate measures.\n",
        "\n",
        "- Precision: True Positives / All Predicted Positives = TP / (TP+FP). Precision is a measure of a classifier’s exactness. Low precision indicates a high number of false positives.\n",
        "\n",
        "\n",
        "- Recall: True Positives / All actual positives = TP / (TP + FN). Recall is a measure of a classifier’s completeness. It is also the same as Sensitivity or the True positive rate. Low recall indicates a high number of false negatives.\n",
        "\n",
        "\n",
        "- F1 score: 2TP/(2TP + FP + FN) A weighted average of precision and recall. If we wanted a balance between precision and recall then we’d look at F1 score.\n"
      ]
    },
    {
      "cell_type": "markdown",
      "metadata": {
        "id": "EAek7Fznnu0G"
      },
      "source": [
        "#Build Model\n",
        "- Logistic regression\n",
        "- RandomForestClassifier"
      ]
    },
    {
      "cell_type": "code",
      "metadata": {
        "colab": {
          "base_uri": "https://localhost:8080/"
        },
        "id": "IW7UAT5enwpw",
        "outputId": "6ddc11c9-3406-41ee-9b1e-4af54818a588"
      },
      "source": [
        "# Create first pipeline for base without reducing features.\n",
        "\n",
        "pipe = Pipeline([('classifier' , RandomForestClassifier())])\n",
        "# pipe = Pipeline([('classifier', RandomForestClassifier())])\n",
        "\n",
        "# Create param grid.\n",
        "\n",
        "param_grid = [\n",
        "    {'classifier' : [LogisticRegression()],\n",
        "     'classifier__penalty' : ['l1', 'l2'],\n",
        "    'classifier__C' : np.logspace(-4, 4, 20),\n",
        "    'classifier__solver' : ['liblinear']},\n",
        "    {'classifier' : [RandomForestClassifier()],\n",
        "    'classifier__n_estimators' : list(range(10,101,10)),\n",
        "    'classifier__max_features' : list(range(6,32,5))}\n",
        "]\n",
        "\n",
        "# Create grid search object\n",
        "\n",
        "clf = GridSearchCV(pipe, param_grid = param_grid, cv = 5, verbose=True, n_jobs=-1)\n",
        "\n",
        "# Fit on data\n",
        "\n",
        "best_clf = clf.fit(X_train, y_train)"
      ],
      "execution_count": 46,
      "outputs": [
        {
          "output_type": "stream",
          "text": [
            "Fitting 5 folds for each of 100 candidates, totalling 500 fits\n"
          ],
          "name": "stdout"
        },
        {
          "output_type": "stream",
          "text": [
            "[Parallel(n_jobs=-1)]: Using backend LokyBackend with 2 concurrent workers.\n",
            "[Parallel(n_jobs=-1)]: Done 432 tasks      | elapsed:    8.9s\n",
            "[Parallel(n_jobs=-1)]: Done 497 out of 500 | elapsed:   10.5s remaining:    0.1s\n",
            "[Parallel(n_jobs=-1)]: Done 500 out of 500 | elapsed:   10.5s finished\n"
          ],
          "name": "stderr"
        }
      ]
    },
    {
      "cell_type": "code",
      "metadata": {
        "colab": {
          "base_uri": "https://localhost:8080/"
        },
        "id": "jZy_WMZQoJ2t",
        "outputId": "2c29416e-5b0d-43cd-85f2-702a9f90aeef"
      },
      "source": [
        "best_clf.best_estimator_.get_params()['classifier']"
      ],
      "execution_count": 47,
      "outputs": [
        {
          "output_type": "execute_result",
          "data": {
            "text/plain": [
              "LogisticRegression(C=0.0001, class_weight=None, dual=False, fit_intercept=True,\n",
              "                   intercept_scaling=1, l1_ratio=None, max_iter=100,\n",
              "                   multi_class='auto', n_jobs=None, penalty='l2',\n",
              "                   random_state=None, solver='liblinear', tol=0.0001, verbose=0,\n",
              "                   warm_start=False)"
            ]
          },
          "metadata": {
            "tags": []
          },
          "execution_count": 47
        }
      ]
    },
    {
      "cell_type": "code",
      "metadata": {
        "colab": {
          "base_uri": "https://localhost:8080/"
        },
        "id": "27rWv5GsoVdq",
        "outputId": "32c1bcb8-6500-4c7e-dba5-d0c79fc0bcb6"
      },
      "source": [
        "print('Model accuracy is',best_clf.score(X_test, y_test))"
      ],
      "execution_count": 48,
      "outputs": [
        {
          "output_type": "stream",
          "text": [
            "Model accuracy is 0.7805907172995781\n"
          ],
          "name": "stdout"
        }
      ]
    },
    {
      "cell_type": "code",
      "metadata": {
        "colab": {
          "base_uri": "https://localhost:8080/",
          "height": 301
        },
        "id": "MqeMeSHEoiMu",
        "outputId": "d21af9f4-b405-49d0-8b4f-43f87f1ec20f"
      },
      "source": [
        "probs = best_clf.predict_proba(X_test)\n",
        "preds = probs[:,1]\n",
        "fpr, tpr, threshold = metrics.roc_curve(y_test, preds)\n",
        "roc_auc = metrics.auc(fpr, tpr)\n",
        "\n",
        "plt.figure()\n",
        "plt.plot(fpr, tpr, label='GridSearchCV (area = %0.2f)' % roc_auc)\n",
        "plt.plot([0, 1], [0, 1],'r--')\n",
        "plt.xlim([0.0, 1.0])\n",
        "plt.ylim([0.0, 1.05])\n",
        "plt.xlabel('False Positive Rate')\n",
        "plt.ylabel('True Positive Rate')\n",
        "plt.title('Receiver operating characteristic')\n",
        "plt.legend(loc=\"lower right\")\n",
        "plt.savefig('Log_ROC')\n",
        "plt.show()"
      ],
      "execution_count": 49,
      "outputs": [
        {
          "output_type": "display_data",
          "data": {
            "image/png": "[encoded data removed]",
            "text/plain": [
              "<Figure size 432x288 with 1 Axes>"
            ]
          },
          "metadata": {
            "tags": []
          }
        }
      ]
    },
    {
      "cell_type": "code",
      "metadata": {
        "colab": {
          "base_uri": "https://localhost:8080/"
        },
        "id": "8qQYzKWNouut",
        "outputId": "fa9caf9e-63e0-4237-9de2-cd28487fe16f"
      },
      "source": [
        "roc_auc"
      ],
      "execution_count": 191,
      "outputs": [
        {
          "output_type": "execute_result",
          "data": {
            "text/plain": [
              "0.4851351351351352"
            ]
          },
          "metadata": {
            "tags": []
          },
          "execution_count": 191
        }
      ]
    },
    {
      "cell_type": "code",
      "metadata": {
        "colab": {
          "base_uri": "https://localhost:8080/"
        },
        "id": "NtIaJ-LGf9Ka",
        "outputId": "e34ce314-251f-4602-f176-08f7670264df"
      },
      "source": [
        "classes"
      ],
      "execution_count": 58,
      "outputs": [
        {
          "output_type": "execute_result",
          "data": {
            "text/plain": [
              "array([1, 1, 1, 1, 1, 1, 1, 1, 1, 1, 1, 1, 1, 1, 1, 1, 1, 1, 1, 1, 1, 1,\n",
              "       1, 1, 1, 1, 1, 1, 1, 1, 1, 1, 1, 1, 1, 1, 1, 1, 1, 1, 1, 1, 1, 1,\n",
              "       1, 1, 1, 1, 1, 1, 1, 1, 1, 1, 1, 1, 1, 1, 1, 1, 1, 1, 1, 1, 1, 1,\n",
              "       1, 1, 1, 1, 1, 1, 1, 1, 1, 1, 1, 1, 1, 1, 1, 1, 1, 1, 1, 1, 1, 1,\n",
              "       1, 1, 1, 1, 1, 1, 1, 1, 1, 1, 1, 1, 1, 1, 1, 1, 1, 1, 1, 1, 1, 1,\n",
              "       1, 1, 1, 1, 1, 1, 1, 1, 1, 1, 1, 1, 1, 1, 1, 1, 1, 1, 1, 1, 1, 1,\n",
              "       1, 1, 1, 1, 1, 1, 1, 1, 1, 1, 1, 1, 1, 1, 1, 1, 1, 1, 1, 1, 1, 1,\n",
              "       1, 1, 1, 1, 1, 1, 1, 1, 1, 1, 1, 1, 1, 1, 1, 1, 1, 1, 1, 1, 1, 1,\n",
              "       1, 1, 1, 1, 1, 1, 1, 1, 1, 1, 1, 1, 1, 1, 1, 1, 1, 1, 1, 1, 1, 1,\n",
              "       1, 1, 1, 1, 1, 1, 1, 1, 1, 1, 1, 1, 1, 1, 1, 1, 1, 1, 1, 1, 1, 1,\n",
              "       1, 1, 1, 1, 1, 1, 1, 1, 1, 1, 1, 1, 1, 1, 1, 1, 1])"
            ]
          },
          "metadata": {
            "tags": []
          },
          "execution_count": 58
        }
      ]
    },
    {
      "cell_type": "code",
      "metadata": {
        "colab": {
          "base_uri": "https://localhost:8080/"
        },
        "id": "CYbKEtZbo4Aq",
        "outputId": "769b8657-b151-4be1-bc87-6ce4ff3f50dd"
      },
      "source": [
        "classes = best_clf.predict(X_test)\n",
        "    \n",
        "accuracy = metrics.accuracy_score(classes, y_test)\n",
        "    \n",
        "balanced_accuracy = metrics.balanced_accuracy_score(classes, y_test)\n",
        "\n",
        "precision = metrics.precision_score(classes, y_test)\n",
        "    \n",
        "average_precision = metrics.average_precision_score(classes, y_test)\n",
        "    \n",
        "f1_score = metrics.f1_score(classes, y_test)\n",
        "    \n",
        "recall = metrics.recall_score(classes, y_test)\n",
        "\n",
        "print (accuracy, balanced_accuracy, precision, average_precision, f1_score, recall, roc_auc)"
      ],
      "execution_count": 57,
      "outputs": [
        {
          "output_type": "stream",
          "text": [
            "0.7805907172995781 0.7805907172995781 1.0 1.0 0.8767772511848342 0.7805907172995781 0.4851351351351352\n"
          ],
          "name": "stdout"
        },
        {
          "output_type": "stream",
          "text": [
            "/usr/local/lib/python3.6/dist-packages/sklearn/metrics/_classification.py:1859: UserWarning: y_pred contains classes not in y_true\n",
            "  warnings.warn('y_pred contains classes not in y_true')\n"
          ],
          "name": "stderr"
        }
      ]
    },
    {
      "cell_type": "code",
      "metadata": {
        "colab": {
          "base_uri": "https://localhost:8080/"
        },
        "id": "fpm0fbvqpORc",
        "outputId": "d1d16b11-bda7-40d7-cb86-1d5684e7790e"
      },
      "source": [
        "print(metrics.classification_report(classes, y_test))"
      ],
      "execution_count": 51,
      "outputs": [
        {
          "output_type": "stream",
          "text": [
            "              precision    recall  f1-score   support\n",
            "\n",
            "           0       0.00      0.00      0.00         0\n",
            "           1       1.00      0.78      0.88       237\n",
            "\n",
            "    accuracy                           0.78       237\n",
            "   macro avg       0.50      0.39      0.44       237\n",
            "weighted avg       1.00      0.78      0.88       237\n",
            "\n"
          ],
          "name": "stdout"
        },
        {
          "output_type": "stream",
          "text": [
            "/usr/local/lib/python3.6/dist-packages/sklearn/metrics/_classification.py:1272: UndefinedMetricWarning: Recall and F-score are ill-defined and being set to 0.0 in labels with no true samples. Use `zero_division` parameter to control this behavior.\n",
            "  _warn_prf(average, modifier, msg_start, len(result))\n"
          ],
          "name": "stderr"
        }
      ]
    },
    {
      "cell_type": "markdown",
      "metadata": {
        "id": "VNqpkKr7D2np"
      },
      "source": [
        "a model that classified all sentiments as positive sentiment would obtain a precision of 100% since it correctly classified all positive and a recall of 0% since it incorrectly classified all negative"
      ]
    },
    {
      "cell_type": "markdown",
      "metadata": {
        "id": "5FhdY3dDcL2P"
      },
      "source": [
        "#SMOTE (Synthetic Minority Over-sampling Technique)\n",
        "\n",
        "SMOTE is an over-sampling method. What it does is, it creates synthetic (not duplicate) samples of the minority class. Hence making the minority class equal to the majority class."
      ]
    },
    {
      "cell_type": "code",
      "metadata": {
        "colab": {
          "base_uri": "https://localhost:8080/"
        },
        "id": "jm1tFdX1plQb",
        "outputId": "9f6f6d71-8cf1-428e-db86-0393add92905"
      },
      "source": [
        "sm = SMOTE(random_state = 123)\n",
        "X_train_res, y_train_res = sm.fit_sample(X_train, y_train.ravel())\n",
        "\n",
        "best_clf = clf.fit(X_train_res, y_train_res)"
      ],
      "execution_count": 79,
      "outputs": [
        {
          "output_type": "stream",
          "text": [
            "Fitting 5 folds for each of 100 candidates, totalling 500 fits\n"
          ],
          "name": "stdout"
        },
        {
          "output_type": "stream",
          "text": [
            "/usr/local/lib/python3.6/dist-packages/sklearn/utils/deprecation.py:87: FutureWarning: Function safe_indexing is deprecated; safe_indexing is deprecated in version 0.22 and will be removed in version 0.24.\n",
            "  warnings.warn(msg, category=FutureWarning)\n",
            "[Parallel(n_jobs=-1)]: Using backend LokyBackend with 2 concurrent workers.\n",
            "[Parallel(n_jobs=-1)]: Done 440 tasks      | elapsed:    9.0s\n",
            "[Parallel(n_jobs=-1)]: Done 500 out of 500 | elapsed:   10.5s finished\n"
          ],
          "name": "stderr"
        }
      ]
    },
    {
      "cell_type": "code",
      "metadata": {
        "colab": {
          "base_uri": "https://localhost:8080/"
        },
        "id": "AN5NQybM4IgT",
        "outputId": "33108c75-613e-4cfd-8122-2b34f499dc8a"
      },
      "source": [
        "X_train_res.shape, y_train_res.shape"
      ],
      "execution_count": 80,
      "outputs": [
        {
          "output_type": "execute_result",
          "data": {
            "text/plain": [
              "((856, 6), (856,))"
            ]
          },
          "metadata": {
            "tags": []
          },
          "execution_count": 80
        }
      ]
    },
    {
      "cell_type": "code",
      "metadata": {
        "colab": {
          "base_uri": "https://localhost:8080/"
        },
        "id": "MiEVeQt0ptUz",
        "outputId": "048de516-c612-4cc2-dfac-7cc04a33ec88"
      },
      "source": [
        "best_clf.best_estimator_.get_params()['classifier']"
      ],
      "execution_count": 81,
      "outputs": [
        {
          "output_type": "execute_result",
          "data": {
            "text/plain": [
              "RandomForestClassifier(bootstrap=True, ccp_alpha=0.0, class_weight=None,\n",
              "                       criterion='gini', max_depth=None, max_features=6,\n",
              "                       max_leaf_nodes=None, max_samples=None,\n",
              "                       min_impurity_decrease=0.0, min_impurity_split=None,\n",
              "                       min_samples_leaf=1, min_samples_split=2,\n",
              "                       min_weight_fraction_leaf=0.0, n_estimators=70,\n",
              "                       n_jobs=None, oob_score=False, random_state=None,\n",
              "                       verbose=0, warm_start=False)"
            ]
          },
          "metadata": {
            "tags": []
          },
          "execution_count": 81
        }
      ]
    },
    {
      "cell_type": "code",
      "metadata": {
        "colab": {
          "base_uri": "https://localhost:8080/"
        },
        "id": "1mqLrp2YpxId",
        "outputId": "4b138674-4bcf-40a4-9bde-ea8d7f7e9ce2"
      },
      "source": [
        "print('Model accuracy is',best_clf.score(X_test, y_test))"
      ],
      "execution_count": 82,
      "outputs": [
        {
          "output_type": "stream",
          "text": [
            "Model accuracy is 0.6244725738396625\n"
          ],
          "name": "stdout"
        }
      ]
    },
    {
      "cell_type": "code",
      "metadata": {
        "colab": {
          "base_uri": "https://localhost:8080/",
          "height": 301
        },
        "id": "0xi5isw-qAR0",
        "outputId": "c76bc18b-799b-4ed3-ee5e-ed8139dc3875"
      },
      "source": [
        "probs = best_clf.predict_proba(X_test)\n",
        "preds = probs[:,1]\n",
        "fpr, tpr, threshold = metrics.roc_curve(y_test, preds)\n",
        "roc_auc = metrics.auc(fpr, tpr)\n",
        "\n",
        "plt.figure()\n",
        "plt.plot(fpr, tpr, label='Logistic Regression (area = %0.2f)' % roc_auc)\n",
        "plt.plot([0, 1], [0, 1],'r--')\n",
        "plt.xlim([0.0, 1.0])\n",
        "plt.ylim([0.0, 1.05])\n",
        "plt.xlabel('False Positive Rate')\n",
        "plt.ylabel('True Positive Rate')\n",
        "plt.title('Receiver operating characteristic')\n",
        "plt.legend(loc=\"lower right\")\n",
        "plt.savefig('Log_ROC')\n",
        "plt.show()"
      ],
      "execution_count": 83,
      "outputs": [
        {
          "output_type": "display_data",
          "data": {
            "image/png": "[encoded data removed]",
            "text/plain": [
              "<Figure size 432x288 with 1 Axes>"
            ]
          },
          "metadata": {
            "tags": []
          }
        }
      ]
    },
    {
      "cell_type": "code",
      "metadata": {
        "colab": {
          "base_uri": "https://localhost:8080/"
        },
        "id": "dQ_maGsMyIX7",
        "outputId": "2b2e7593-7a52-4710-d4b6-3c73d80056ec"
      },
      "source": [
        "roc_auc"
      ],
      "execution_count": 84,
      "outputs": [
        {
          "output_type": "execute_result",
          "data": {
            "text/plain": [
              "0.6377338877338876"
            ]
          },
          "metadata": {
            "tags": []
          },
          "execution_count": 84
        }
      ]
    },
    {
      "cell_type": "markdown",
      "metadata": {
        "id": "hHRrnZUS-BN-"
      },
      "source": [
        "The AUC score improved to 0.63\n",
        "\n"
      ]
    },
    {
      "cell_type": "code",
      "metadata": {
        "colab": {
          "base_uri": "https://localhost:8080/"
        },
        "id": "J_BUBd9d8Sa3",
        "outputId": "880ab712-1c44-4121-d23b-3ccaa93ccad3"
      },
      "source": [
        "classes = best_clf.predict(X_test)\n",
        "    \n",
        "accuracy = metrics.accuracy_score(classes, y_test)\n",
        "    \n",
        "balanced_accuracy = metrics.balanced_accuracy_score(classes, y_test)\n",
        "\n",
        "precision = metrics.precision_score(classes, y_test)\n",
        "    \n",
        "average_precision = metrics.average_precision_score(classes, y_test)\n",
        "    \n",
        "f1_score = metrics.f1_score(classes, y_test)\n",
        "    \n",
        "recall = metrics.recall_score(classes, y_test)\n",
        "\n",
        "print (accuracy, balanced_accuracy, precision, average_precision, f1_score, recall, roc_auc)"
      ],
      "execution_count": 85,
      "outputs": [
        {
          "output_type": "stream",
          "text": [
            "0.6244725738396625 0.5892986523692219 0.6216216216216216 0.6136500188077744 0.7210031347962382 0.8582089552238806 0.6377338877338876\n"
          ],
          "name": "stdout"
        }
      ]
    },
    {
      "cell_type": "code",
      "metadata": {
        "colab": {
          "base_uri": "https://localhost:8080/"
        },
        "id": "o-i2aTwKqDuv",
        "outputId": "703b39c3-0d02-4030-af23-0188ad0e8225"
      },
      "source": [
        "print(metrics.classification_report(classes, y_test))"
      ],
      "execution_count": 86,
      "outputs": [
        {
          "output_type": "stream",
          "text": [
            "              precision    recall  f1-score   support\n",
            "\n",
            "           0       0.63      0.32      0.43       103\n",
            "           1       0.62      0.86      0.72       134\n",
            "\n",
            "    accuracy                           0.62       237\n",
            "   macro avg       0.63      0.59      0.57       237\n",
            "weighted avg       0.63      0.62      0.59       237\n",
            "\n"
          ],
          "name": "stdout"
        }
      ]
    },
    {
      "cell_type": "markdown",
      "metadata": {
        "id": "MtRlv5cqwZwz"
      },
      "source": [
        "#Compare the results"
      ]
    },
    {
      "cell_type": "code",
      "metadata": {
        "id": "A60FTCyFN1BL"
      },
      "source": [
        "df_predictors=pd.DataFrame(X_test) "
      ],
      "execution_count": 40,
      "outputs": []
    },
    {
      "cell_type": "code",
      "metadata": {
        "id": "b8K8iJ7ZReDL"
      },
      "source": [
        "df_target = pd.DataFrame(y_test)"
      ],
      "execution_count": 66,
      "outputs": []
    },
    {
      "cell_type": "code",
      "metadata": {
        "id": "pXyh8cNKRwmw"
      },
      "source": [
        "df_predict_Logistic = pd.DataFrame(classes, columns=['p_logistic'],index=df_predictors.index.copy())"
      ],
      "execution_count": 74,
      "outputs": []
    },
    {
      "cell_type": "code",
      "metadata": {
        "id": "zeDYiy18dPez"
      },
      "source": [
        "df_predict_Random = pd.DataFrame(classes, columns=['p_random'],index=df_predictors.index.copy())"
      ],
      "execution_count": 87,
      "outputs": []
    },
    {
      "cell_type": "code",
      "metadata": {
        "id": "bA3mAS_jNXpt"
      },
      "source": [
        "df_results = pd.merge(df_predictors, df_target,how = 'left',left_index = True, right_index = True)"
      ],
      "execution_count": 76,
      "outputs": []
    },
    {
      "cell_type": "code",
      "metadata": {
        "id": "p5WwJYOvOGdS"
      },
      "source": [
        "df_results = pd.merge(df_results, df_predict_Logistic,how = 'left',left_index = True, right_index = True)"
      ],
      "execution_count": 77,
      "outputs": []
    },
    {
      "cell_type": "code",
      "metadata": {
        "id": "jTKlZgsnfd9p"
      },
      "source": [
        "df_results = pd.merge(df_results, df_predict_Random,how = 'left',left_index = True, right_index = True)"
      ],
      "execution_count": 88,
      "outputs": []
    },
    {
      "cell_type": "code",
      "metadata": {
        "colab": {
          "base_uri": "https://localhost:8080/",
          "height": 419
        },
        "id": "sDgJla2iScy2",
        "outputId": "d0ae00fc-79f3-480d-b9f0-7d3aad01d5d3"
      },
      "source": [
        "df_results"
      ],
      "execution_count": 89,
      "outputs": [
        {
          "output_type": "execute_result",
          "data": {
            "text/html": [
              "<div>\n",
              "<style scoped>\n",
              "    .dataframe tbody tr th:only-of-type {\n",
              "        vertical-align: middle;\n",
              "    }\n",
              "\n",
              "    .dataframe tbody tr th {\n",
              "        vertical-align: top;\n",
              "    }\n",
              "\n",
              "    .dataframe thead th {\n",
              "        text-align: right;\n",
              "    }\n",
              "</style>\n",
              "<table border=\"1\" class=\"dataframe\">\n",
              "  <thead>\n",
              "    <tr style=\"text-align: right;\">\n",
              "      <th></th>\n",
              "      <th>likes</th>\n",
              "      <th>airline</th>\n",
              "      <th>staff</th>\n",
              "      <th>cost</th>\n",
              "      <th>refund</th>\n",
              "      <th>customrt service</th>\n",
              "      <th>0</th>\n",
              "      <th>p_logistic</th>\n",
              "      <th>p_random</th>\n",
              "    </tr>\n",
              "  </thead>\n",
              "  <tbody>\n",
              "    <tr>\n",
              "      <th>763</th>\n",
              "      <td>165</td>\n",
              "      <td>0</td>\n",
              "      <td>0</td>\n",
              "      <td>0</td>\n",
              "      <td>0</td>\n",
              "      <td>0</td>\n",
              "      <td>1</td>\n",
              "      <td>1</td>\n",
              "      <td>1</td>\n",
              "    </tr>\n",
              "    <tr>\n",
              "      <th>451</th>\n",
              "      <td>0</td>\n",
              "      <td>3</td>\n",
              "      <td>0</td>\n",
              "      <td>0</td>\n",
              "      <td>0</td>\n",
              "      <td>0</td>\n",
              "      <td>0</td>\n",
              "      <td>1</td>\n",
              "      <td>0</td>\n",
              "    </tr>\n",
              "    <tr>\n",
              "      <th>530</th>\n",
              "      <td>0</td>\n",
              "      <td>3</td>\n",
              "      <td>0</td>\n",
              "      <td>0</td>\n",
              "      <td>1</td>\n",
              "      <td>0</td>\n",
              "      <td>1</td>\n",
              "      <td>1</td>\n",
              "      <td>0</td>\n",
              "    </tr>\n",
              "    <tr>\n",
              "      <th>669</th>\n",
              "      <td>0</td>\n",
              "      <td>2</td>\n",
              "      <td>0</td>\n",
              "      <td>1</td>\n",
              "      <td>0</td>\n",
              "      <td>0</td>\n",
              "      <td>1</td>\n",
              "      <td>1</td>\n",
              "      <td>1</td>\n",
              "    </tr>\n",
              "    <tr>\n",
              "      <th>760</th>\n",
              "      <td>0</td>\n",
              "      <td>0</td>\n",
              "      <td>0</td>\n",
              "      <td>0</td>\n",
              "      <td>0</td>\n",
              "      <td>1</td>\n",
              "      <td>0</td>\n",
              "      <td>1</td>\n",
              "      <td>1</td>\n",
              "    </tr>\n",
              "    <tr>\n",
              "      <th>...</th>\n",
              "      <td>...</td>\n",
              "      <td>...</td>\n",
              "      <td>...</td>\n",
              "      <td>...</td>\n",
              "      <td>...</td>\n",
              "      <td>...</td>\n",
              "      <td>...</td>\n",
              "      <td>...</td>\n",
              "      <td>...</td>\n",
              "    </tr>\n",
              "    <tr>\n",
              "      <th>783</th>\n",
              "      <td>0</td>\n",
              "      <td>0</td>\n",
              "      <td>0</td>\n",
              "      <td>1</td>\n",
              "      <td>1</td>\n",
              "      <td>0</td>\n",
              "      <td>1</td>\n",
              "      <td>1</td>\n",
              "      <td>1</td>\n",
              "    </tr>\n",
              "    <tr>\n",
              "      <th>776</th>\n",
              "      <td>4</td>\n",
              "      <td>0</td>\n",
              "      <td>0</td>\n",
              "      <td>0</td>\n",
              "      <td>0</td>\n",
              "      <td>0</td>\n",
              "      <td>1</td>\n",
              "      <td>1</td>\n",
              "      <td>0</td>\n",
              "    </tr>\n",
              "    <tr>\n",
              "      <th>394</th>\n",
              "      <td>0</td>\n",
              "      <td>4</td>\n",
              "      <td>0</td>\n",
              "      <td>0</td>\n",
              "      <td>0</td>\n",
              "      <td>0</td>\n",
              "      <td>0</td>\n",
              "      <td>1</td>\n",
              "      <td>0</td>\n",
              "    </tr>\n",
              "    <tr>\n",
              "      <th>442</th>\n",
              "      <td>0</td>\n",
              "      <td>3</td>\n",
              "      <td>0</td>\n",
              "      <td>0</td>\n",
              "      <td>0</td>\n",
              "      <td>0</td>\n",
              "      <td>1</td>\n",
              "      <td>1</td>\n",
              "      <td>0</td>\n",
              "    </tr>\n",
              "    <tr>\n",
              "      <th>422</th>\n",
              "      <td>3</td>\n",
              "      <td>10</td>\n",
              "      <td>0</td>\n",
              "      <td>0</td>\n",
              "      <td>0</td>\n",
              "      <td>0</td>\n",
              "      <td>1</td>\n",
              "      <td>1</td>\n",
              "      <td>1</td>\n",
              "    </tr>\n",
              "  </tbody>\n",
              "</table>\n",
              "<p>237 rows × 9 columns</p>\n",
              "</div>"
            ],
            "text/plain": [
              "     likes  airline  staff  cost  refund  customrt service  0  p_logistic  \\\n",
              "763    165        0      0     0       0                 0  1           1   \n",
              "451      0        3      0     0       0                 0  0           1   \n",
              "530      0        3      0     0       1                 0  1           1   \n",
              "669      0        2      0     1       0                 0  1           1   \n",
              "760      0        0      0     0       0                 1  0           1   \n",
              "..     ...      ...    ...   ...     ...               ... ..         ...   \n",
              "783      0        0      0     1       1                 0  1           1   \n",
              "776      4        0      0     0       0                 0  1           1   \n",
              "394      0        4      0     0       0                 0  0           1   \n",
              "442      0        3      0     0       0                 0  1           1   \n",
              "422      3       10      0     0       0                 0  1           1   \n",
              "\n",
              "     p_random  \n",
              "763         1  \n",
              "451         0  \n",
              "530         0  \n",
              "669         1  \n",
              "760         1  \n",
              "..        ...  \n",
              "783         1  \n",
              "776         0  \n",
              "394         0  \n",
              "442         0  \n",
              "422         1  \n",
              "\n",
              "[237 rows x 9 columns]"
            ]
          },
          "metadata": {
            "tags": []
          },
          "execution_count": 89
        }
      ]
    },
    {
      "cell_type": "code",
      "metadata": {
        "colab": {
          "base_uri": "https://localhost:8080/",
          "height": 285
        },
        "id": "r6SnfdW7Sf5v",
        "outputId": "e318b61d-9d60-4cd9-a18f-27ab782836ca"
      },
      "source": [
        "#y_test\n",
        "sns.set_theme(style=\"whitegrid\")\n",
        "ax = sns.countplot(x=0,data=df_results, palette= ['#d73027', '#1a9850'])"
      ],
      "execution_count": 93,
      "outputs": [
        {
          "output_type": "display_data",
          "data": {
            "image/png": "[encoded data removed]",
            "text/plain": [
              "<Figure size 432x288 with 1 Axes>"
            ]
          },
          "metadata": {
            "tags": []
          }
        }
      ]
    },
    {
      "cell_type": "code",
      "metadata": {
        "colab": {
          "base_uri": "https://localhost:8080/",
          "height": 285
        },
        "id": "AYd43veDTBXU",
        "outputId": "0a82d066-9242-44f0-803e-884793a09f7a"
      },
      "source": [
        "#predict logistic\n",
        "sns.set_theme(style=\"whitegrid\")\n",
        "ax = sns.countplot(x='p_logistic',data=df_results, palette= ['#1a9850'])"
      ],
      "execution_count": 91,
      "outputs": [
        {
          "output_type": "display_data",
          "data": {
            "image/png": "[encoded data removed]",
            "text/plain": [
              "<Figure size 432x288 with 1 Axes>"
            ]
          },
          "metadata": {
            "tags": []
          }
        }
      ]
    },
    {
      "cell_type": "code",
      "metadata": {
        "colab": {
          "base_uri": "https://localhost:8080/",
          "height": 288
        },
        "id": "YYaiAFyLigkw",
        "outputId": "bb5b8ae3-62a6-4b55-95b9-38dd160ea1bb"
      },
      "source": [
        "#predict logistic\n",
        "sns.set_theme(style=\"whitegrid\")\n",
        "ax = sns.countplot(x='p_random',data=df_results, palette= ['#d73027', '#1a9850'])"
      ],
      "execution_count": 92,
      "outputs": [
        {
          "output_type": "display_data",
          "data": {
            "image/png": "[encoded data removed]",
            "text/plain": [
              "<Figure size 432x288 with 1 Axes>"
            ]
          },
          "metadata": {
            "tags": []
          }
        }
      ]
    },
    {
      "cell_type": "markdown",
      "metadata": {
        "id": "S24allHvRqP9"
      },
      "source": [
        "#Attempt five models\n",
        "\n",
        "- Logistic Regression,\n",
        "- MultinomialNB\n",
        "- DecisionTreeClassifier\n",
        "- RandomForestClassifier\n",
        "- KNeighborsClassifier"
      ]
    },
    {
      "cell_type": "code",
      "metadata": {
        "id": "J8j3VkOzG8Se"
      },
      "source": [
        "cls = [LogisticRegression(),\n",
        "       MultinomialNB(), \n",
        "       DecisionTreeClassifier(),\n",
        "       RandomForestClassifier(n_estimators=200),\n",
        "       KNeighborsClassifier(n_neighbors = 5)]\n",
        "\n",
        "cls_name = []"
      ],
      "execution_count": 14,
      "outputs": []
    },
    {
      "cell_type": "code",
      "metadata": {
        "colab": {
          "base_uri": "https://localhost:8080/"
        },
        "id": "c49SbFd5G9gZ",
        "outputId": "a3ab6cf3-5fd1-4703-e240-80e92b6f6fb5"
      },
      "source": [
        "#lbl_actual = test.sentiment\n",
        "i = 0\n",
        "accuracy = []\n",
        "for cl in cls:\n",
        "    model = cl.fit(X_train, y_train)\n",
        "    lbl_pred = model.predict(X_test)\n",
        "    a = (100*accuracy_score(lbl_pred, y_test))\n",
        "    a = round(a,2)\n",
        "    accuracy.append(a)\n",
        "    cls_name.append(cl.__class__.__name__)\n",
        "    print (\"{}  Accuracy Score : {}%\".format(cls_name[i],a))\n",
        "    print ( classification_report(lbl_pred, y_test))\n",
        "    i +=1"
      ],
      "execution_count": 26,
      "outputs": [
        {
          "output_type": "stream",
          "text": [
            "LogisticRegression  Accuracy Score : 78.06%\n",
            "              precision    recall  f1-score   support\n",
            "\n",
            "           0       0.02      0.50      0.04         2\n",
            "           1       0.99      0.78      0.88       235\n",
            "\n",
            "    accuracy                           0.78       237\n",
            "   macro avg       0.51      0.64      0.46       237\n",
            "weighted avg       0.99      0.78      0.87       237\n",
            "\n",
            "MultinomialNB  Accuracy Score : 78.06%\n",
            "              precision    recall  f1-score   support\n",
            "\n",
            "           0       0.02      0.50      0.04         2\n",
            "           1       0.99      0.78      0.88       235\n",
            "\n",
            "    accuracy                           0.78       237\n",
            "   macro avg       0.51      0.64      0.46       237\n",
            "weighted avg       0.99      0.78      0.87       237\n",
            "\n",
            "DecisionTreeClassifier  Accuracy Score : 76.37%\n",
            "              precision    recall  f1-score   support\n",
            "\n",
            "           0       0.12      0.38      0.18        16\n",
            "           1       0.95      0.79      0.86       221\n",
            "\n",
            "    accuracy                           0.76       237\n",
            "   macro avg       0.53      0.58      0.52       237\n",
            "weighted avg       0.89      0.76      0.82       237\n",
            "\n",
            "RandomForestClassifier  Accuracy Score : 76.37%\n",
            "              precision    recall  f1-score   support\n",
            "\n",
            "           0       0.04      0.25      0.07         8\n",
            "           1       0.97      0.78      0.86       229\n",
            "\n",
            "    accuracy                           0.76       237\n",
            "   macro avg       0.50      0.52      0.47       237\n",
            "weighted avg       0.94      0.76      0.84       237\n",
            "\n",
            "KNeighborsClassifier  Accuracy Score : 77.64%\n",
            "              precision    recall  f1-score   support\n",
            "\n",
            "           0       0.12      0.46      0.18        13\n",
            "           1       0.96      0.79      0.87       224\n",
            "\n",
            "    accuracy                           0.78       237\n",
            "   macro avg       0.54      0.63      0.53       237\n",
            "weighted avg       0.92      0.78      0.83       237\n",
            "\n"
          ],
          "name": "stdout"
        }
      ]
    },
    {
      "cell_type": "markdown",
      "metadata": {
        "id": "AEyRlKfKQSY2"
      },
      "source": [
        "#After SMOTE"
      ]
    },
    {
      "cell_type": "code",
      "metadata": {
        "colab": {
          "base_uri": "https://localhost:8080/"
        },
        "id": "mYe6LFqmQUQV",
        "outputId": "c8986559-e408-455f-9b59-35e05360b268"
      },
      "source": [
        "sm = SMOTE(random_state = 123)\n",
        "X_train_res, y_train_res = sm.fit_sample(X_train, y_train.ravel())\n",
        "\n",
        "#best_clf = clf.fit(X_train_res, y_train_res)"
      ],
      "execution_count": 94,
      "outputs": [
        {
          "output_type": "stream",
          "text": [
            "/usr/local/lib/python3.6/dist-packages/sklearn/utils/deprecation.py:87: FutureWarning: Function safe_indexing is deprecated; safe_indexing is deprecated in version 0.22 and will be removed in version 0.24.\n",
            "  warnings.warn(msg, category=FutureWarning)\n"
          ],
          "name": "stderr"
        }
      ]
    },
    {
      "cell_type": "code",
      "metadata": {
        "colab": {
          "base_uri": "https://localhost:8080/"
        },
        "id": "Ya5yQ4y9QkJN",
        "outputId": "3f1992cb-1e7f-4b22-d815-930f5b282b13"
      },
      "source": [
        "#lbl_actual = test.sentiment\n",
        "i = 0\n",
        "accuracy = []\n",
        "for cl in cls:\n",
        "    model = cl.fit(X_train_res, y_train_res)\n",
        "    lbl_pred = model.predict(X_test)\n",
        "    a = (100*accuracy_score(lbl_pred, y_test))\n",
        "    a = round(a,2)\n",
        "    accuracy.append(a)\n",
        "    cls_name.append(cl.__class__.__name__)\n",
        "    print (\"{}  Accuracy Score : {}%\".format(cls_name[i],a))\n",
        "    print ( classification_report(lbl_pred, y_test))\n",
        "    i +=1"
      ],
      "execution_count": 29,
      "outputs": [
        {
          "output_type": "stream",
          "text": [
            "LogisticRegression  Accuracy Score : 48.1%\n",
            "              precision    recall  f1-score   support\n",
            "\n",
            "           0       0.56      0.22      0.32       129\n",
            "           1       0.46      0.79      0.58       108\n",
            "\n",
            "    accuracy                           0.48       237\n",
            "   macro avg       0.51      0.51      0.45       237\n",
            "weighted avg       0.51      0.48      0.44       237\n",
            "\n",
            "MultinomialNB  Accuracy Score : 75.53%\n",
            "              precision    recall  f1-score   support\n",
            "\n",
            "           0       0.25      0.41      0.31        32\n",
            "           1       0.90      0.81      0.85       205\n",
            "\n",
            "    accuracy                           0.76       237\n",
            "   macro avg       0.57      0.61      0.58       237\n",
            "weighted avg       0.81      0.76      0.78       237\n",
            "\n",
            "DecisionTreeClassifier  Accuracy Score : 51.05%\n",
            "              precision    recall  f1-score   support\n",
            "\n",
            "           0       0.65      0.26      0.37       132\n",
            "           1       0.47      0.83      0.60       105\n",
            "\n",
            "    accuracy                           0.51       237\n",
            "   macro avg       0.56      0.54      0.48       237\n",
            "weighted avg       0.57      0.51      0.47       237\n",
            "\n",
            "RandomForestClassifier  Accuracy Score : 52.32%\n",
            "              precision    recall  f1-score   support\n",
            "\n",
            "           0       0.62      0.26      0.36       125\n",
            "           1       0.50      0.82      0.62       112\n",
            "\n",
            "    accuracy                           0.52       237\n",
            "   macro avg       0.56      0.54      0.49       237\n",
            "weighted avg       0.56      0.52      0.48       237\n",
            "\n",
            "KNeighborsClassifier  Accuracy Score : 66.24%\n",
            "              precision    recall  f1-score   support\n",
            "\n",
            "           0       0.27      0.25      0.26        56\n",
            "           1       0.77      0.79      0.78       181\n",
            "\n",
            "    accuracy                           0.66       237\n",
            "   macro avg       0.52      0.52      0.52       237\n",
            "weighted avg       0.65      0.66      0.66       237\n",
            "\n"
          ],
          "name": "stdout"
        }
      ]
    },
    {
      "cell_type": "markdown",
      "metadata": {
        "id": "o3gmISkwERZC"
      },
      "source": [
        "The best model is MultinomialNB() since marco avarage of f1 score 58 with is the highest number"
      ]
    },
    {
      "cell_type": "code",
      "metadata": {
        "id": "9MecWYDVDuWT"
      },
      "source": [
        "cl = MultinomialNB()\n",
        "best_clf = cl.fit(X_train_res, y_train_res)"
      ],
      "execution_count": 96,
      "outputs": []
    },
    {
      "cell_type": "code",
      "metadata": {
        "colab": {
          "base_uri": "https://localhost:8080/",
          "height": 301
        },
        "id": "cKK_2o14Dp0J",
        "outputId": "c496ac61-b11d-42c3-efa7-685138ca2c6a"
      },
      "source": [
        "probs = best_clf.predict_proba(X_test)\n",
        "preds = probs[:,1]\n",
        "fpr, tpr, threshold = metrics.roc_curve(y_test, preds)\n",
        "roc_auc = metrics.auc(fpr, tpr)\n",
        "\n",
        "plt.figure()\n",
        "plt.plot(fpr, tpr, label='Logistic Regression (area = %0.2f)' % roc_auc)\n",
        "plt.plot([0, 1], [0, 1],'r--')\n",
        "plt.xlim([0.0, 1.0])\n",
        "plt.ylim([0.0, 1.05])\n",
        "plt.xlabel('False Positive Rate')\n",
        "plt.ylabel('True Positive Rate')\n",
        "plt.title('Receiver operating characteristic')\n",
        "plt.legend(loc=\"lower right\")\n",
        "plt.savefig('Log_ROC')\n",
        "plt.show()"
      ],
      "execution_count": 97,
      "outputs": [
        {
          "output_type": "display_data",
          "data": {
            "image/png": "[encoded data removed]",
            "text/plain": [
              "<Figure size 432x288 with 1 Axes>"
            ]
          },
          "metadata": {
            "tags": []
          }
        }
      ]
    }
  ]
}