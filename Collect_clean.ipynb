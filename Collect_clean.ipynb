{
  "nbformat": 4,
  "nbformat_minor": 0,
  "metadata": {
    "colab": {
      "name": "Collect_clean.ipynb",
      "provenance": [],
      "collapsed_sections": [
        "r5veUgiY4gbC",
        "SqgRsUYhR7Gm",
        "gjOty28NqtDV"
      ],
      "authorship_tag": "ABX9TyOtybT/huWLQ1ScdcypmjT9",
      "include_colab_link": true
    },
    "kernelspec": {
      "name": "python3",
      "display_name": "Python 3"
    }
  },
  "cells": [
    {
      "cell_type": "markdown",
      "metadata": {
        "id": "view-in-github",
        "colab_type": "text"
      },
      "source": [
        "<a href=\"https://colab.research.google.com/github/buthaina279/DS_Capstone_NLP/blob/main/Collect_clean.ipynb\" target=\"_parent\"><img src=\"https://colab.research.google.com/assets/colab-badge.svg\" alt=\"Open In Colab\"/></a>"
      ]
    },
    {
      "cell_type": "code",
      "metadata": {
        "id": "trMq9TeJe4VX"
      },
      "source": [
        "# Import all needed libraries\n",
        "import tweepy                   # Python wrapper around Twitter API\n",
        "from google.colab import drive  # to mount Drive to Colab notebook\n",
        "import json\n",
        "import csv\n",
        "from datetime import date\n",
        "from datetime import datetime\n",
        "import time\n",
        "import itertools "
      ],
      "execution_count": 1,
      "outputs": []
    },
    {
      "cell_type": "code",
      "metadata": {
        "id": "fpwspMND3VaM",
        "colab": {
          "base_uri": "https://localhost:8080/"
        },
        "outputId": "5567ed33-7c9f-40a0-abbc-2f81d779e122"
      },
      "source": [
        "# Import Libraries\n",
        "\n",
        "from textblob import TextBlob\n",
        "import sys\n",
        "import tweepy\n",
        "import matplotlib.pyplot as plt\n",
        "import pandas as pd\n",
        "import numpy as np\n",
        "import os\n",
        "import nltk\n",
        "#import pycountry\n",
        "import re\n",
        "import string\n",
        "\n",
        "from wordcloud import WordCloud, STOPWORDS\n",
        "from PIL import Image\n",
        "from nltk.sentiment.vader import SentimentIntensityAnalyzer\n",
        "#from langdetect import detect\n",
        "from nltk.stem import SnowballStemmer\n",
        "from nltk.sentiment.vader import SentimentIntensityAnalyzer\n",
        "from sklearn.feature_extraction.text import CountVectorizer"
      ],
      "execution_count": 2,
      "outputs": [
        {
          "output_type": "stream",
          "text": [
            "/usr/local/lib/python3.6/dist-packages/nltk/twitter/__init__.py:20: UserWarning: The twython library has not been installed. Some functionality from the twitter package will not be available.\n",
            "  warnings.warn(\"The twython library has not been installed. \"\n"
          ],
          "name": "stderr"
        }
      ]
    },
    {
      "cell_type": "code",
      "metadata": {
        "id": "yBHSJYtuRlwq"
      },
      "source": [
        "from sklearn.feature_extraction.text import CountVectorizer\n",
        "import nltk \n",
        "import string\n",
        "import re\n",
        "%matplotlib inline\n",
        "pd.set_option('display.max_colwidth', 100)"
      ],
      "execution_count": 3,
      "outputs": []
    },
    {
      "cell_type": "code",
      "metadata": {
        "colab": {
          "base_uri": "https://localhost:8080/"
        },
        "id": "23aiW2uc5FEL",
        "outputId": "3532b48c-d9d2-4fd3-a9d3-8c40e96e4a44"
      },
      "source": [
        "import nltk\n",
        "nltk.download('vader_lexicon')"
      ],
      "execution_count": null,
      "outputs": [
        {
          "output_type": "stream",
          "text": [
            "[nltk_data] Downloading package vader_lexicon to /root/nltk_data...\n",
            "[nltk_data]   Package vader_lexicon is already up-to-date!\n"
          ],
          "name": "stdout"
        },
        {
          "output_type": "execute_result",
          "data": {
            "text/plain": [
              "True"
            ]
          },
          "metadata": {
            "tags": []
          },
          "execution_count": 59
        }
      ]
    },
    {
      "cell_type": "code",
      "metadata": {
        "colab": {
          "base_uri": "https://localhost:8080/"
        },
        "id": "hvqCIx4yl9Hu",
        "outputId": "39dd7bab-71f1-4eb7-e983-19d71db83e4d"
      },
      "source": [
        "# Connect Google Drive to Colab\n",
        "drive.mount('/content/gdrive')\n",
        "# Create a variable to store the data path on your drive\n",
        "path = './gdrive/My Drive/datasets/new_datasets/'"
      ],
      "execution_count": 4,
      "outputs": [
        {
          "output_type": "stream",
          "text": [
            "Mounted at /content/gdrive\n"
          ],
          "name": "stdout"
        }
      ]
    },
    {
      "cell_type": "code",
      "metadata": {
        "id": "eYzRfr9hKYMr"
      },
      "source": [
        "secrets = pd.read_csv(\"./gdrive/My Drive/datasets/new_datasets/API_keys.csv\")"
      ],
      "execution_count": 10,
      "outputs": []
    },
    {
      "cell_type": "code",
      "metadata": {
        "id": "VLYWMUPJmmGh"
      },
      "source": [
        "consumer_key= secrets['consumer_key']\n",
        "consumer_secret= secrets['consumer_secret']\n",
        "access_token= secrets['access_token']\n",
        "access_token_secret= secrets['access_token_secret']\n",
        "\n",
        "\n",
        "auth = tweepy.OAuthHandler(consumer_key,consumer_secret)\n",
        "auth.set_access_token(access_token, access_token_secret)\n",
        "api = tweepy.API(auth)\n",
        "#, wait_on_rate_limit=True, timeout = 5"
      ],
      "execution_count": 11,
      "outputs": []
    },
    {
      "cell_type": "markdown",
      "metadata": {
        "id": "qt9owuGbyxVx"
      },
      "source": [
        "#Collect the datasets"
      ]
    },
    {
      "cell_type": "code",
      "metadata": {
        "id": "Gtmd6dRQoGhY"
      },
      "source": [
        "# Helper function to get all tweets of a specified user\n",
        "# NOTE:This method only allows access to the most recent 3200 tweets\n",
        "# Source: https://gist.github.com/yanofsky/5436496\n",
        "def get_all_tweets4(screen_name):\n",
        "  # initialize a list to hold all the Tweets\n",
        "  alltweets = []\n",
        "  # make initial request for most recent tweets \n",
        "  # (200 is the maximum allowed count)\n",
        "  new_tweets = api.search(q = screen_name, rpp = 100, lang = \"en\")\n",
        "  # save most recent tweets\n",
        "  alltweets.extend(new_tweets)\n",
        "  # save the id of the oldest tweet less one to avoid duplication\n",
        "  oldest = alltweets[-1].id - 1\n",
        "  # keep grabbing tweets until there are no tweets left\n",
        "  while len(new_tweets) > 0:\n",
        "    print(\"getting tweets before %s\" % (oldest))\n",
        "    # all subsequent requests use the max_id param to prevent\n",
        "    # duplicates\n",
        "    \n",
        "    new_tweets = api.search(q = screen_name,rpp = 100,max_id=oldest, lang = \"en\")\n",
        "    #just if lan tweetes \n",
        "    # save most recent tweets\n",
        "    \n",
        "    alltweets.extend(new_tweets)\n",
        "    # update the id of the oldest tweet less one\n",
        "    oldest = alltweets[-1].id - 1\n",
        "    print(\"...%s tweets downloaded so far\" % (len(alltweets)))\n",
        "    ### END OF WHILE LOOP ###\n",
        "  # transform the tweepy tweets into a 2D array that will \n",
        "  # populate the csv\n",
        "  outtweets = [[tweet.id_str, tweet.created_at, tweet.text, tweet.favorite_count,\n",
        "                tweet.retweeted, tweet.user.location, tweet.lang, screen_name] \n",
        "               for tweet in alltweets]\n",
        "  # write the csv\n",
        "  with open(path + '/%s_tweets.csv' % screen_name, 'w') as f:\n",
        "    writer = csv.writer(f)\n",
        "    writer.writerow([\"tweet_id\",\"created_at\",\"text\",\"likes\",\"retweeted\", \"location\", \"language\" , \"airline\"])\n",
        "    writer.writerows(outtweets)\n",
        "  pass"
      ],
      "execution_count": null,
      "outputs": []
    },
    {
      "cell_type": "code",
      "metadata": {
        "colab": {
          "base_uri": "https://localhost:8080/"
        },
        "id": "tf6xfjd4ULq0",
        "outputId": "48c23b20-a7d9-4862-f855-271b743e16e5"
      },
      "source": [
        "get_all_tweets4('#saudia_care')"
      ],
      "execution_count": null,
      "outputs": [
        {
          "output_type": "stream",
          "text": [
            "getting tweets before 1337035614730915839\n",
            "...30 tweets downloaded so far\n",
            "getting tweets before 1336763263082696705\n",
            "...45 tweets downloaded so far\n",
            "getting tweets before 1336700087830011908\n",
            "...60 tweets downloaded so far\n",
            "getting tweets before 1336515175319564288\n",
            "...71 tweets downloaded so far\n",
            "getting tweets before 1336452110418927618\n",
            "...86 tweets downloaded so far\n",
            "getting tweets before 1336430076884365316\n",
            "...98 tweets downloaded so far\n",
            "getting tweets before 1336403765386207232\n",
            "...112 tweets downloaded so far\n",
            "getting tweets before 1336337692213198850\n",
            "...126 tweets downloaded so far\n",
            "getting tweets before 1336074483551981567\n",
            "...139 tweets downloaded so far\n",
            "getting tweets before 1335987378062671881\n",
            "...152 tweets downloaded so far\n",
            "getting tweets before 1335946554016935936\n",
            "...167 tweets downloaded so far\n",
            "getting tweets before 1335777383127937024\n",
            "...182 tweets downloaded so far\n",
            "getting tweets before 1335684440064847872\n",
            "...197 tweets downloaded so far\n",
            "getting tweets before 1335127416310788096\n",
            "...210 tweets downloaded so far\n",
            "getting tweets before 1334817233776861184\n",
            "...225 tweets downloaded so far\n",
            "getting tweets before 1334458125567528959\n",
            "...237 tweets downloaded so far\n",
            "getting tweets before 1334199371852902403\n",
            "...247 tweets downloaded so far\n",
            "getting tweets before 1333782849519046656\n",
            "...247 tweets downloaded so far\n"
          ],
          "name": "stdout"
        }
      ]
    },
    {
      "cell_type": "markdown",
      "metadata": {
        "id": "SH0nMx1nFyka"
      },
      "source": [
        "#Combine the same airline with different hashtags in one file "
      ]
    },
    {
      "cell_type": "markdown",
      "metadata": {
        "id": "UeuV7FoOIzRF"
      },
      "source": [
        "**read the datasets**"
      ]
    },
    {
      "cell_type": "code",
      "metadata": {
        "id": "dXeowBw6F8Sq"
      },
      "source": [
        "saudia1 = pd.read_csv('./gdrive/My Drive/datasets/new_datasets/saudia_tweets_try1.csv')\n",
        "saudia2 = pd.read_csv('./gdrive/My Drive/datasets/new_datasets/#saudia_tweets.csv')\n",
        "saudia3 = pd.read_csv('./gdrive/My Drive/datasets/new_datasets/#saudi_airlines_tweets.csv')"
      ],
      "execution_count": null,
      "outputs": []
    },
    {
      "cell_type": "code",
      "metadata": {
        "id": "HFuKiNyDI4_V"
      },
      "source": [
        "united1 = pd.read_csv('./gdrive/My Drive/datasets/new_datasets/#UnitedAirlines_tweets.csv')\n",
        "united2 = pd.read_csv('./gdrive/My Drive/datasets/new_datasets/#United_Airlines_tweets.csv')\n"
      ],
      "execution_count": null,
      "outputs": []
    },
    {
      "cell_type": "markdown",
      "metadata": {
        "id": "14sSmu11JZJ-"
      },
      "source": [
        "**combine**"
      ]
    },
    {
      "cell_type": "code",
      "metadata": {
        "id": "RtZ8hKWOJcs_"
      },
      "source": [
        "saudia = [saudia1, saudia2, saudia3]\n",
        "saudia_airline = pd.concat(saudia)"
      ],
      "execution_count": null,
      "outputs": []
    },
    {
      "cell_type": "code",
      "metadata": {
        "id": "BgIuOYyjJc_C"
      },
      "source": [
        "united = [united1, united2]\n",
        "united_airline = pd.concat(united)"
      ],
      "execution_count": null,
      "outputs": []
    },
    {
      "cell_type": "markdown",
      "metadata": {
        "id": "dhsUeJZ8J7Cz"
      },
      "source": [
        "**save**"
      ]
    },
    {
      "cell_type": "code",
      "metadata": {
        "id": "R6HntCv_J-24"
      },
      "source": [
        "saudia_airline.to_csv('saudia_airline.csv')\n",
        "!cp saudia_airline.csv \"./gdrive/My Drive/datasets/new_datasets/\""
      ],
      "execution_count": null,
      "outputs": []
    },
    {
      "cell_type": "code",
      "metadata": {
        "id": "xGZVYVInKF_S"
      },
      "source": [
        "united_airline.to_csv('united_airline.csv')\n",
        "!cp united_airline.csv \"./gdrive/My Drive/datasets/new_datasets/\""
      ],
      "execution_count": null,
      "outputs": []
    },
    {
      "cell_type": "markdown",
      "metadata": {
        "id": "KDUbuXLl5TmN"
      },
      "source": [
        "#Read all the files"
      ]
    },
    {
      "cell_type": "code",
      "metadata": {
        "colab": {
          "base_uri": "https://localhost:8080/"
        },
        "id": "5FibISC16wXN",
        "outputId": "c41b3640-8a0e-4f65-d85f-e4d667ecd594"
      },
      "source": [
        "#read all files in new_datasets \n",
        "# use join for multi platform compatibility\n",
        "import csv\n",
        "import os\n",
        "import sys\n",
        "import re\n",
        "import glob\n",
        "\n",
        "all_files = []\n",
        "for infile in glob.glob(os.path.join(path, '*.csv')):\n",
        "    \n",
        "    # infile stores the complete path of the file\n",
        "    print(\"Current File Being Processed is:  \" + infile)\n",
        "    read_one = pd.read_csv(infile)\n",
        "    all_files.append(read_one)\n",
        "\n",
        "    #use split to seperate the path and name of the file\n",
        "    (PATH, FILENAME) = os.path.split(infile)\n",
        "    print(\" PATH is \" + PATH)\n",
        "    print(\" FILENAME is \" + FILENAME)\n",
        "    \n",
        "    #use splitext() to seperate name of the file and the extension\n",
        "    (ShortName, Extension) = os.path.splitext(FILENAME)\n",
        "    print(ShortName)\n",
        "    print(Extension)"
      ],
      "execution_count": null,
      "outputs": [
        {
          "output_type": "stream",
          "text": [
            "Current File Being Processed is:  ./gdrive/My Drive/datasets/new_datasets/saudia_airline.csv\n",
            " PATH is ./gdrive/My Drive/datasets/new_datasets\n",
            " FILENAME is saudia_airline.csv\n",
            "saudia_airline\n",
            ".csv\n",
            "Current File Being Processed is:  ./gdrive/My Drive/datasets/new_datasets/united_airline.csv\n",
            " PATH is ./gdrive/My Drive/datasets/new_datasets\n",
            " FILENAME is united_airline.csv\n",
            "united_airline\n",
            ".csv\n",
            "Current File Being Processed is:  ./gdrive/My Drive/datasets/new_datasets/virginatlantic_tweets.csv\n",
            " PATH is ./gdrive/My Drive/datasets/new_datasets\n",
            " FILENAME is virginatlantic_tweets.csv\n",
            "virginatlantic_tweets\n",
            ".csv\n",
            "Current File Being Processed is:  ./gdrive/My Drive/datasets/new_datasets/turkishairlines_tweets.csv\n",
            " PATH is ./gdrive/My Drive/datasets/new_datasets\n",
            " FILENAME is turkishairlines_tweets.csv\n",
            "turkishairlines_tweets\n",
            ".csv\n",
            "Current File Being Processed is:  ./gdrive/My Drive/datasets/new_datasets/Singapore _Airlines_tweets.csv\n",
            " PATH is ./gdrive/My Drive/datasets/new_datasets\n",
            " FILENAME is Singapore _Airlines_tweets.csv\n",
            "Singapore _Airlines_tweets\n",
            ".csv\n",
            "Current File Being Processed is:  ./gdrive/My Drive/datasets/new_datasets/qatarairways_tweets.csv\n",
            " PATH is ./gdrive/My Drive/datasets/new_datasets\n",
            " FILENAME is qatarairways_tweets.csv\n",
            "qatarairways_tweets\n",
            ".csv\n",
            "Current File Being Processed is:  ./gdrive/My Drive/datasets/new_datasets/flydubai_tweets.csv\n",
            " PATH is ./gdrive/My Drive/datasets/new_datasets\n",
            " FILENAME is flydubai_tweets.csv\n",
            "flydubai_tweets\n",
            ".csv\n",
            "Current File Being Processed is:  ./gdrive/My Drive/datasets/new_datasets/britishairways_tweets.csv\n",
            " PATH is ./gdrive/My Drive/datasets/new_datasets\n",
            " FILENAME is britishairways_tweets.csv\n",
            "britishairways_tweets\n",
            ".csv\n",
            "Current File Being Processed is:  ./gdrive/My Drive/datasets/new_datasets/Americanairlines_tweets.csv\n",
            " PATH is ./gdrive/My Drive/datasets/new_datasets\n",
            " FILENAME is Americanairlines_tweets.csv\n",
            "Americanairlines_tweets\n",
            ".csv\n",
            "Current File Being Processed is:  ./gdrive/My Drive/datasets/new_datasets/airfrance_tweets.csv\n",
            " PATH is ./gdrive/My Drive/datasets/new_datasets\n",
            " FILENAME is airfrance_tweets.csv\n",
            "airfrance_tweets\n",
            ".csv\n",
            "Current File Being Processed is:  ./gdrive/My Drive/datasets/new_datasets/AirCanada_tweets.csv\n",
            " PATH is ./gdrive/My Drive/datasets/new_datasets\n",
            " FILENAME is AirCanada_tweets.csv\n",
            "AirCanada_tweets\n",
            ".csv\n"
          ],
          "name": "stdout"
        }
      ]
    },
    {
      "cell_type": "markdown",
      "metadata": {
        "id": "r5veUgiY4gbC"
      },
      "source": [
        "#Filter English tweets"
      ]
    },
    {
      "cell_type": "markdown",
      "metadata": {
        "id": "kDqe04xF4ph9"
      },
      "source": [
        "**Saudia Airlines**"
      ]
    },
    {
      "cell_type": "code",
      "metadata": {
        "id": "kWlQYYAV4jYa"
      },
      "source": [
        "saudia_airlines_en = saudia_airlines[saudia_airlines.language == \"en\"]"
      ],
      "execution_count": null,
      "outputs": []
    },
    {
      "cell_type": "code",
      "metadata": {
        "colab": {
          "base_uri": "https://localhost:8080/"
        },
        "id": "ZciURK8B4myg",
        "outputId": "94b9f319-a471-473d-a3c8-ebebec73af89"
      },
      "source": [
        "saudia_airlines_en.shape"
      ],
      "execution_count": null,
      "outputs": [
        {
          "output_type": "execute_result",
          "data": {
            "text/plain": [
              "(1373, 8)"
            ]
          },
          "metadata": {
            "tags": []
          },
          "execution_count": 67
        }
      ]
    },
    {
      "cell_type": "code",
      "metadata": {
        "colab": {
          "base_uri": "https://localhost:8080/",
          "height": 204
        },
        "id": "X5qXpXWL5Bpa",
        "outputId": "e972f8d0-5505-4806-8699-82342b4534a5"
      },
      "source": [
        "saudia_airlines_en.head(5)"
      ],
      "execution_count": null,
      "outputs": [
        {
          "output_type": "execute_result",
          "data": {
            "text/html": [
              "<div>\n",
              "<style scoped>\n",
              "    .dataframe tbody tr th:only-of-type {\n",
              "        vertical-align: middle;\n",
              "    }\n",
              "\n",
              "    .dataframe tbody tr th {\n",
              "        vertical-align: top;\n",
              "    }\n",
              "\n",
              "    .dataframe thead th {\n",
              "        text-align: right;\n",
              "    }\n",
              "</style>\n",
              "<table border=\"1\" class=\"dataframe\">\n",
              "  <thead>\n",
              "    <tr style=\"text-align: right;\">\n",
              "      <th></th>\n",
              "      <th>tweet_id</th>\n",
              "      <th>created_at</th>\n",
              "      <th>text</th>\n",
              "      <th>likes</th>\n",
              "      <th>retweeted</th>\n",
              "      <th>location</th>\n",
              "      <th>language</th>\n",
              "      <th>airline</th>\n",
              "    </tr>\n",
              "  </thead>\n",
              "  <tbody>\n",
              "    <tr>\n",
              "      <th>5</th>\n",
              "      <td>1336728569272262663</td>\n",
              "      <td>2020-12-09 17:45:00</td>\n",
              "      <td>@Shakeel60633858 Dear guest, there is no fligh...</td>\n",
              "      <td>0</td>\n",
              "      <td>False</td>\n",
              "      <td>Saudi Arabia</td>\n",
              "      <td>en</td>\n",
              "      <td>Saudi_airlines</td>\n",
              "    </tr>\n",
              "    <tr>\n",
              "      <th>7</th>\n",
              "      <td>1336719354537369603</td>\n",
              "      <td>2020-12-09 17:08:23</td>\n",
              "      <td>@Zishanh31436141 Dear guest, there is no fligh...</td>\n",
              "      <td>0</td>\n",
              "      <td>False</td>\n",
              "      <td>Saudi Arabia</td>\n",
              "      <td>en</td>\n",
              "      <td>Saudi_airlines</td>\n",
              "    </tr>\n",
              "    <tr>\n",
              "      <th>9</th>\n",
              "      <td>1336711502087254018</td>\n",
              "      <td>2020-12-09 16:37:11</td>\n",
              "      <td>@AnwarHu13119859 Hello dear valued guest, once...</td>\n",
              "      <td>0</td>\n",
              "      <td>False</td>\n",
              "      <td>Saudi Arabia</td>\n",
              "      <td>en</td>\n",
              "      <td>Saudi_airlines</td>\n",
              "    </tr>\n",
              "    <tr>\n",
              "      <th>14</th>\n",
              "      <td>1336705261340332032</td>\n",
              "      <td>2020-12-09 16:12:23</td>\n",
              "      <td>@Emuyefetari Dear valued guest, kindly review ...</td>\n",
              "      <td>0</td>\n",
              "      <td>False</td>\n",
              "      <td>Saudi Arabia</td>\n",
              "      <td>en</td>\n",
              "      <td>Saudi_airlines</td>\n",
              "    </tr>\n",
              "    <tr>\n",
              "      <th>19</th>\n",
              "      <td>1336693042225483781</td>\n",
              "      <td>2020-12-09 15:23:50</td>\n",
              "      <td>@KashmirLakha5 Dear guest, there is no flight ...</td>\n",
              "      <td>0</td>\n",
              "      <td>False</td>\n",
              "      <td>Saudi Arabia</td>\n",
              "      <td>en</td>\n",
              "      <td>Saudi_airlines</td>\n",
              "    </tr>\n",
              "  </tbody>\n",
              "</table>\n",
              "</div>"
            ],
            "text/plain": [
              "               tweet_id           created_at  ... language         airline\n",
              "5   1336728569272262663  2020-12-09 17:45:00  ...       en  Saudi_airlines\n",
              "7   1336719354537369603  2020-12-09 17:08:23  ...       en  Saudi_airlines\n",
              "9   1336711502087254018  2020-12-09 16:37:11  ...       en  Saudi_airlines\n",
              "14  1336705261340332032  2020-12-09 16:12:23  ...       en  Saudi_airlines\n",
              "19  1336693042225483781  2020-12-09 15:23:50  ...       en  Saudi_airlines\n",
              "\n",
              "[5 rows x 8 columns]"
            ]
          },
          "metadata": {
            "tags": []
          },
          "execution_count": 68
        }
      ]
    },
    {
      "cell_type": "markdown",
      "metadata": {
        "id": "VwbRshC44sL2"
      },
      "source": [
        "**Flynas**"
      ]
    },
    {
      "cell_type": "code",
      "metadata": {
        "id": "68S3cgRY4uit"
      },
      "source": [
        "flynas_airlines_en = flynas_airlines[flynas_airlines.language == \"en\"]"
      ],
      "execution_count": null,
      "outputs": []
    },
    {
      "cell_type": "code",
      "metadata": {
        "colab": {
          "base_uri": "https://localhost:8080/"
        },
        "id": "0ROGYquz4u0N",
        "outputId": "ac1bdaee-707b-479e-9ed8-dfa506b91851"
      },
      "source": [
        "flynas_airlines_en.shape"
      ],
      "execution_count": null,
      "outputs": [
        {
          "output_type": "execute_result",
          "data": {
            "text/plain": [
              "(225, 8)"
            ]
          },
          "metadata": {
            "tags": []
          },
          "execution_count": 70
        }
      ]
    },
    {
      "cell_type": "code",
      "metadata": {
        "colab": {
          "base_uri": "https://localhost:8080/",
          "height": 204
        },
        "id": "iD2x_o_T5EmN",
        "outputId": "bafa6a8e-8f65-4ea3-9d9f-578e8a8374a2"
      },
      "source": [
        "flynas_airlines_en.head(5)"
      ],
      "execution_count": null,
      "outputs": [
        {
          "output_type": "execute_result",
          "data": {
            "text/html": [
              "<div>\n",
              "<style scoped>\n",
              "    .dataframe tbody tr th:only-of-type {\n",
              "        vertical-align: middle;\n",
              "    }\n",
              "\n",
              "    .dataframe tbody tr th {\n",
              "        vertical-align: top;\n",
              "    }\n",
              "\n",
              "    .dataframe thead th {\n",
              "        text-align: right;\n",
              "    }\n",
              "</style>\n",
              "<table border=\"1\" class=\"dataframe\">\n",
              "  <thead>\n",
              "    <tr style=\"text-align: right;\">\n",
              "      <th></th>\n",
              "      <th>tweet_id</th>\n",
              "      <th>created_at</th>\n",
              "      <th>text</th>\n",
              "      <th>likes</th>\n",
              "      <th>retweeted</th>\n",
              "      <th>location</th>\n",
              "      <th>language</th>\n",
              "      <th>airline</th>\n",
              "    </tr>\n",
              "  </thead>\n",
              "  <tbody>\n",
              "    <tr>\n",
              "      <th>11</th>\n",
              "      <td>1336631281145294850</td>\n",
              "      <td>2020-12-09 11:18:25</td>\n",
              "      <td>@lahoridhol hello, dear kindly cheek link belo...</td>\n",
              "      <td>0</td>\n",
              "      <td>False</td>\n",
              "      <td>Saudi Arabia</td>\n",
              "      <td>en</td>\n",
              "      <td>flynas</td>\n",
              "    </tr>\n",
              "    <tr>\n",
              "      <th>24</th>\n",
              "      <td>1336548014068994051</td>\n",
              "      <td>2020-12-09 05:47:33</td>\n",
              "      <td>@jessica_uys Hello, kindly provide us with you...</td>\n",
              "      <td>0</td>\n",
              "      <td>False</td>\n",
              "      <td>Saudi Arabia</td>\n",
              "      <td>en</td>\n",
              "      <td>flynas</td>\n",
              "    </tr>\n",
              "    <tr>\n",
              "      <th>25</th>\n",
              "      <td>1336463232177934338</td>\n",
              "      <td>2020-12-09 00:10:39</td>\n",
              "      <td>@saqibxtc Good morning dear , kindly provide u...</td>\n",
              "      <td>0</td>\n",
              "      <td>False</td>\n",
              "      <td>Saudi Arabia</td>\n",
              "      <td>en</td>\n",
              "      <td>flynas</td>\n",
              "    </tr>\n",
              "    <tr>\n",
              "      <th>45</th>\n",
              "      <td>1336310819198537740</td>\n",
              "      <td>2020-12-08 14:05:01</td>\n",
              "      <td>@nandlal23173532 Dear, Follow us if available ...</td>\n",
              "      <td>0</td>\n",
              "      <td>False</td>\n",
              "      <td>Saudi Arabia</td>\n",
              "      <td>en</td>\n",
              "      <td>flynas</td>\n",
              "    </tr>\n",
              "    <tr>\n",
              "      <th>53</th>\n",
              "      <td>1336270489245921280</td>\n",
              "      <td>2020-12-08 11:24:45</td>\n",
              "      <td>@HusainA89126244 kindly delete the tweet becau...</td>\n",
              "      <td>0</td>\n",
              "      <td>False</td>\n",
              "      <td>Saudi Arabia</td>\n",
              "      <td>en</td>\n",
              "      <td>flynas</td>\n",
              "    </tr>\n",
              "  </tbody>\n",
              "</table>\n",
              "</div>"
            ],
            "text/plain": [
              "               tweet_id           created_at  ... language  airline\n",
              "11  1336631281145294850  2020-12-09 11:18:25  ...       en   flynas\n",
              "24  1336548014068994051  2020-12-09 05:47:33  ...       en   flynas\n",
              "25  1336463232177934338  2020-12-09 00:10:39  ...       en   flynas\n",
              "45  1336310819198537740  2020-12-08 14:05:01  ...       en   flynas\n",
              "53  1336270489245921280  2020-12-08 11:24:45  ...       en   flynas\n",
              "\n",
              "[5 rows x 8 columns]"
            ]
          },
          "metadata": {
            "tags": []
          },
          "execution_count": 71
        }
      ]
    },
    {
      "cell_type": "markdown",
      "metadata": {
        "id": "wCnrmR4w5cBo"
      },
      "source": [
        "As we can see here there is **imbalance** in the number of tweets in Saudia Airlines and Flynas so we must consider this when apply **Machine Learning**"
      ]
    },
    {
      "cell_type": "markdown",
      "metadata": {
        "id": "8nkGHySp3x_K"
      },
      "source": [
        "#Combine the data sets\n"
      ]
    },
    {
      "cell_type": "code",
      "metadata": {
        "id": "ELgqRmNF_8md"
      },
      "source": [
        "airline = pd.concat(all_files)"
      ],
      "execution_count": null,
      "outputs": []
    },
    {
      "cell_type": "code",
      "metadata": {
        "colab": {
          "base_uri": "https://localhost:8080/"
        },
        "id": "U8ZR2GjkEs46",
        "outputId": "060b191f-5180-4740-ad35-369f9ee4a009"
      },
      "source": [
        "airline.shape"
      ],
      "execution_count": null,
      "outputs": [
        {
          "output_type": "execute_result",
          "data": {
            "text/plain": [
              "(3834, 9)"
            ]
          },
          "metadata": {
            "tags": []
          },
          "execution_count": 126
        }
      ]
    },
    {
      "cell_type": "code",
      "metadata": {
        "colab": {
          "base_uri": "https://localhost:8080/"
        },
        "id": "YLrPNsH3NzMz",
        "outputId": "7d30303c-6324-4d81-d93c-735808d4971f"
      },
      "source": [
        "airline.info()"
      ],
      "execution_count": null,
      "outputs": [
        {
          "output_type": "stream",
          "text": [
            "<class 'pandas.core.frame.DataFrame'>\n",
            "Int64Index: 3834 entries, 0 to 246\n",
            "Data columns (total 9 columns):\n",
            " #   Column      Non-Null Count  Dtype  \n",
            "---  ------      --------------  -----  \n",
            " 0   Unnamed: 0  873 non-null    float64\n",
            " 1   tweet_id    3834 non-null   int64  \n",
            " 2   created_at  3834 non-null   object \n",
            " 3   text        3834 non-null   object \n",
            " 4   likes       3834 non-null   int64  \n",
            " 5   retweeted   3834 non-null   bool   \n",
            " 6   location    2942 non-null   object \n",
            " 7   language    3834 non-null   object \n",
            " 8   airline     3834 non-null   object \n",
            "dtypes: bool(1), float64(1), int64(2), object(5)\n",
            "memory usage: 273.3+ KB\n"
          ],
          "name": "stdout"
        }
      ]
    },
    {
      "cell_type": "markdown",
      "metadata": {
        "id": "hkzeY_XeOglE"
      },
      "source": [
        "**remove dummy variable**"
      ]
    },
    {
      "cell_type": "code",
      "metadata": {
        "id": "TjG66hv1OTKL"
      },
      "source": [
        "airline = airline.drop(columns = ['Unnamed: 0'])"
      ],
      "execution_count": null,
      "outputs": []
    },
    {
      "cell_type": "code",
      "metadata": {
        "colab": {
          "base_uri": "https://localhost:8080/",
          "height": 529
        },
        "id": "mHVz8tde7dhH",
        "outputId": "862e7f0a-6c5a-454d-b1b9-ec713ac75322"
      },
      "source": [
        "airline.sample(10)"
      ],
      "execution_count": null,
      "outputs": [
        {
          "output_type": "execute_result",
          "data": {
            "text/html": [
              "<div>\n",
              "<style scoped>\n",
              "    .dataframe tbody tr th:only-of-type {\n",
              "        vertical-align: middle;\n",
              "    }\n",
              "\n",
              "    .dataframe tbody tr th {\n",
              "        vertical-align: top;\n",
              "    }\n",
              "\n",
              "    .dataframe thead th {\n",
              "        text-align: right;\n",
              "    }\n",
              "</style>\n",
              "<table border=\"1\" class=\"dataframe\">\n",
              "  <thead>\n",
              "    <tr style=\"text-align: right;\">\n",
              "      <th></th>\n",
              "      <th>tweet_id</th>\n",
              "      <th>created_at</th>\n",
              "      <th>text</th>\n",
              "      <th>likes</th>\n",
              "      <th>retweeted</th>\n",
              "      <th>location</th>\n",
              "      <th>language</th>\n",
              "      <th>airline</th>\n",
              "    </tr>\n",
              "  </thead>\n",
              "  <tbody>\n",
              "    <tr>\n",
              "      <th>292</th>\n",
              "      <td>1334546223802556417</td>\n",
              "      <td>2020-12-03 17:13:09</td>\n",
              "      <td>Me and my sister showing how we felt about our flight on G-VLIP from Gatwick to Las Vegas in 201...</td>\n",
              "      <td>5</td>\n",
              "      <td>False</td>\n",
              "      <td>London</td>\n",
              "      <td>en</td>\n",
              "      <td>#virginatlantic</td>\n",
              "    </tr>\n",
              "    <tr>\n",
              "      <th>73</th>\n",
              "      <td>1336966824416735234</td>\n",
              "      <td>2020-12-10 09:31:45</td>\n",
              "      <td>RT @SAEIMEDIA: To achieve the Kingdom's vision 🇸🇦 in the sustainability of economic power, socia...</td>\n",
              "      <td>0</td>\n",
              "      <td>False</td>\n",
              "      <td>الرياض, المملكة العربية السعود</td>\n",
              "      <td>en</td>\n",
              "      <td>Saudia airlines</td>\n",
              "    </tr>\n",
              "    <tr>\n",
              "      <th>164</th>\n",
              "      <td>1335791004516044801</td>\n",
              "      <td>2020-12-07 03:39:27</td>\n",
              "      <td>@AirCanada why is it not possible for me to refund my cancelled flight ticket since March2020? W...</td>\n",
              "      <td>2</td>\n",
              "      <td>False</td>\n",
              "      <td>NaN</td>\n",
              "      <td>en</td>\n",
              "      <td>#AirCanada</td>\n",
              "    </tr>\n",
              "    <tr>\n",
              "      <th>433</th>\n",
              "      <td>1336966824416735234</td>\n",
              "      <td>2020-12-10 09:31:45</td>\n",
              "      <td>RT @SAEIMEDIA: To achieve the Kingdom's vision 🇸🇦 in the sustainability of economic power, socia...</td>\n",
              "      <td>0</td>\n",
              "      <td>False</td>\n",
              "      <td>الرياض, المملكة العربية السعود</td>\n",
              "      <td>en</td>\n",
              "      <td>Saudia airlines</td>\n",
              "    </tr>\n",
              "    <tr>\n",
              "      <th>68</th>\n",
              "      <td>1335868495565905920</td>\n",
              "      <td>2020-12-07 08:47:23</td>\n",
              "      <td>RT @GINIEJET11: #AirFrance Cargo 💙🤍❤️\\n\\n#aviation #aviationlovers #avgeek #aviationlife #aviati...</td>\n",
              "      <td>0</td>\n",
              "      <td>False</td>\n",
              "      <td>NaN</td>\n",
              "      <td>en</td>\n",
              "      <td>#airfrance</td>\n",
              "    </tr>\n",
              "    <tr>\n",
              "      <th>243</th>\n",
              "      <td>1333818452377800705</td>\n",
              "      <td>2020-12-01 17:01:14</td>\n",
              "      <td>Air Canada Provides Update on Cargo Business #Aviation #AvGeek #AirCanada .@AirCanada \\nhttps://...</td>\n",
              "      <td>0</td>\n",
              "      <td>False</td>\n",
              "      <td>Fort Atkinson, WI</td>\n",
              "      <td>en</td>\n",
              "      <td>#AirCanada</td>\n",
              "    </tr>\n",
              "    <tr>\n",
              "      <th>138</th>\n",
              "      <td>1335987378062671882</td>\n",
              "      <td>2020-12-07 16:39:47</td>\n",
              "      <td>THIS. IS.TRULY. SICKENING... #AirCanada still has $1,785.09:\\n\\n                  #PayPassengres...</td>\n",
              "      <td>0</td>\n",
              "      <td>False</td>\n",
              "      <td>Vancouver, B.C.</td>\n",
              "      <td>en</td>\n",
              "      <td>#AirCanada</td>\n",
              "    </tr>\n",
              "    <tr>\n",
              "      <th>28</th>\n",
              "      <td>1337059633668771849</td>\n",
              "      <td>2020-12-10 15:40:32</td>\n",
              "      <td>RT @qatarairways: Do you know a healthcare hero who would love a well-deserved holiday when trav...</td>\n",
              "      <td>0</td>\n",
              "      <td>False</td>\n",
              "      <td>NaN</td>\n",
              "      <td>en</td>\n",
              "      <td>#qatarairways</td>\n",
              "    </tr>\n",
              "    <tr>\n",
              "      <th>51</th>\n",
              "      <td>1334093738730205184</td>\n",
              "      <td>2020-12-02 11:15:08</td>\n",
              "      <td>RT @jfkjetsofficial: These stunning @SingaporeAir @Airbus A350s needed their beauty sleep in bet...</td>\n",
              "      <td>0</td>\n",
              "      <td>False</td>\n",
              "      <td>NaN</td>\n",
              "      <td>en</td>\n",
              "      <td>#Singapore _Airlines</td>\n",
              "    </tr>\n",
              "    <tr>\n",
              "      <th>270</th>\n",
              "      <td>1334596820383772675</td>\n",
              "      <td>2020-12-03 20:34:12</td>\n",
              "      <td>RT @AirbusRed: A respectful final taxy of Manchester for G-VXLG ‘Ruby Tuesday’ led by a ground o...</td>\n",
              "      <td>0</td>\n",
              "      <td>False</td>\n",
              "      <td>United Kingdom</td>\n",
              "      <td>en</td>\n",
              "      <td>#virginatlantic</td>\n",
              "    </tr>\n",
              "  </tbody>\n",
              "</table>\n",
              "</div>"
            ],
            "text/plain": [
              "                tweet_id           created_at  ... language               airline\n",
              "292  1334546223802556417  2020-12-03 17:13:09  ...       en       #virginatlantic\n",
              "73   1336966824416735234  2020-12-10 09:31:45  ...       en       Saudia airlines\n",
              "164  1335791004516044801  2020-12-07 03:39:27  ...       en            #AirCanada\n",
              "433  1336966824416735234  2020-12-10 09:31:45  ...       en       Saudia airlines\n",
              "68   1335868495565905920  2020-12-07 08:47:23  ...       en            #airfrance\n",
              "243  1333818452377800705  2020-12-01 17:01:14  ...       en            #AirCanada\n",
              "138  1335987378062671882  2020-12-07 16:39:47  ...       en            #AirCanada\n",
              "28   1337059633668771849  2020-12-10 15:40:32  ...       en         #qatarairways\n",
              "51   1334093738730205184  2020-12-02 11:15:08  ...       en  #Singapore _Airlines\n",
              "270  1334596820383772675  2020-12-03 20:34:12  ...       en       #virginatlantic\n",
              "\n",
              "[10 rows x 8 columns]"
            ]
          },
          "metadata": {
            "tags": []
          },
          "execution_count": 14
        }
      ]
    },
    {
      "cell_type": "markdown",
      "metadata": {
        "id": "a8yATewu6c-1"
      },
      "source": [
        "#Check the duplicated tweets and remove it \n",
        "\n"
      ]
    },
    {
      "cell_type": "code",
      "metadata": {
        "id": "5mJb3c4fAbTe"
      },
      "source": [
        "airline.drop_duplicates(subset='text', inplace= True)"
      ],
      "execution_count": null,
      "outputs": []
    },
    {
      "cell_type": "code",
      "metadata": {
        "colab": {
          "base_uri": "https://localhost:8080/"
        },
        "id": "jTnekAZ5AhmK",
        "outputId": "37275b1e-bc7f-4b75-9b21-268a808f1144"
      },
      "source": [
        "airline.shape"
      ],
      "execution_count": null,
      "outputs": [
        {
          "output_type": "execute_result",
          "data": {
            "text/plain": [
              "(1857, 8)"
            ]
          },
          "metadata": {
            "tags": []
          },
          "execution_count": 129
        }
      ]
    },
    {
      "cell_type": "code",
      "metadata": {
        "colab": {
          "base_uri": "https://localhost:8080/",
          "height": 326
        },
        "id": "KuXaG4LTXrh_",
        "outputId": "2a839483-00e2-487d-bed7-81df84d83cd9"
      },
      "source": [
        "airline.head(5)"
      ],
      "execution_count": null,
      "outputs": [
        {
          "output_type": "execute_result",
          "data": {
            "text/html": [
              "<div>\n",
              "<style scoped>\n",
              "    .dataframe tbody tr th:only-of-type {\n",
              "        vertical-align: middle;\n",
              "    }\n",
              "\n",
              "    .dataframe tbody tr th {\n",
              "        vertical-align: top;\n",
              "    }\n",
              "\n",
              "    .dataframe thead th {\n",
              "        text-align: right;\n",
              "    }\n",
              "</style>\n",
              "<table border=\"1\" class=\"dataframe\">\n",
              "  <thead>\n",
              "    <tr style=\"text-align: right;\">\n",
              "      <th></th>\n",
              "      <th>tweet_id</th>\n",
              "      <th>created_at</th>\n",
              "      <th>text</th>\n",
              "      <th>likes</th>\n",
              "      <th>retweeted</th>\n",
              "      <th>location</th>\n",
              "      <th>language</th>\n",
              "      <th>airline</th>\n",
              "    </tr>\n",
              "  </thead>\n",
              "  <tbody>\n",
              "    <tr>\n",
              "      <th>0</th>\n",
              "      <td>1336979288470548481</td>\n",
              "      <td>2020-12-10 10:21:16</td>\n",
              "      <td>RT @SAEIMEDIA: To achieve the Kingdom's vision 🇸🇦 in the sustainability of economic power, socia...</td>\n",
              "      <td>0</td>\n",
              "      <td>False</td>\n",
              "      <td>RIYADH,SAUDI ARABIA</td>\n",
              "      <td>en</td>\n",
              "      <td>Saudia airlines</td>\n",
              "    </tr>\n",
              "    <tr>\n",
              "      <th>2</th>\n",
              "      <td>1336950027005161473</td>\n",
              "      <td>2020-12-10 08:25:00</td>\n",
              "      <td>To achieve the Kingdom's vision 🇸🇦 in the sustainability of economic power, social development a...</td>\n",
              "      <td>5</td>\n",
              "      <td>False</td>\n",
              "      <td>Jeddah, Saudi Arabia</td>\n",
              "      <td>en</td>\n",
              "      <td>Saudia airlines</td>\n",
              "    </tr>\n",
              "    <tr>\n",
              "      <th>540</th>\n",
              "      <td>1336909751532351489</td>\n",
              "      <td>2020-12-10 05:44:58</td>\n",
              "      <td>DM&amp;amp;Get 80+ Mark\\n+923136861386\\n#Java\\n#DataBase\\n#Accounting\\n#Finance\\n#Business \\n#Econom...</td>\n",
              "      <td>0</td>\n",
              "      <td>False</td>\n",
              "      <td>NaN</td>\n",
              "      <td>en</td>\n",
              "      <td>#saudia</td>\n",
              "    </tr>\n",
              "    <tr>\n",
              "      <th>541</th>\n",
              "      <td>1336827127824572422</td>\n",
              "      <td>2020-12-10 00:16:38</td>\n",
              "      <td>RT @essaygenius_ctr: I'llDo ur #Math #Stat #Marketing #Accounting #onlineExam\\n\\nText/awhatsapp ...</td>\n",
              "      <td>0</td>\n",
              "      <td>False</td>\n",
              "      <td>NaN</td>\n",
              "      <td>en</td>\n",
              "      <td>#saudia</td>\n",
              "    </tr>\n",
              "    <tr>\n",
              "      <th>542</th>\n",
              "      <td>1336826958764789762</td>\n",
              "      <td>2020-12-10 00:15:58</td>\n",
              "      <td>I'llDo ur #Math #Stat #Marketing #Accounting #onlineExam\\n\\nText/awhatsapp +1 213 212-5976\\n\\n#H...</td>\n",
              "      <td>2</td>\n",
              "      <td>False</td>\n",
              "      <td>United States</td>\n",
              "      <td>en</td>\n",
              "      <td>#saudia</td>\n",
              "    </tr>\n",
              "  </tbody>\n",
              "</table>\n",
              "</div>"
            ],
            "text/plain": [
              "                tweet_id           created_at  ... language          airline\n",
              "0    1336979288470548481  2020-12-10 10:21:16  ...       en  Saudia airlines\n",
              "2    1336950027005161473  2020-12-10 08:25:00  ...       en  Saudia airlines\n",
              "540  1336909751532351489  2020-12-10 05:44:58  ...       en          #saudia\n",
              "541  1336827127824572422  2020-12-10 00:16:38  ...       en          #saudia\n",
              "542  1336826958764789762  2020-12-10 00:15:58  ...       en          #saudia\n",
              "\n",
              "[5 rows x 8 columns]"
            ]
          },
          "metadata": {
            "tags": []
          },
          "execution_count": 17
        }
      ]
    },
    {
      "cell_type": "markdown",
      "metadata": {
        "id": "-is71XELer5g"
      },
      "source": [
        "#rename airline's name "
      ]
    },
    {
      "cell_type": "code",
      "metadata": {
        "id": "WvjBE1b6g12c"
      },
      "source": [
        "airline.loc[airline['airline'] == '#saudia', 'airline'] = 'Saudia airlines'\n",
        "airline.loc[airline['airline'] == '#saudia_airlines', 'airline'] = 'Saudia airlines'\n",
        "airline.loc[airline['airline'] == 'Saudia airlines', 'airline'] = 'Saudia airlines'\n",
        "airline.loc[airline['airline'] == '#saudi_airlines', 'airline'] = 'Saudia airlines'"
      ],
      "execution_count": null,
      "outputs": []
    },
    {
      "cell_type": "code",
      "metadata": {
        "id": "UwI3bk0hi0LL"
      },
      "source": [
        "airline.loc[airline['airline'] == '#Singapore _Airlines', 'airline'] = 'Singapor airlines'"
      ],
      "execution_count": null,
      "outputs": []
    },
    {
      "cell_type": "code",
      "metadata": {
        "id": "b4xdzAxKjaH6"
      },
      "source": [
        "airline.loc[airline['airline'] == '#Americanairlines', 'airline'] = 'American airlines'"
      ],
      "execution_count": null,
      "outputs": []
    },
    {
      "cell_type": "code",
      "metadata": {
        "id": "brBb4l8sjg6v"
      },
      "source": [
        "airline.loc[airline['airline'] == '#britishairways', 'airline'] = 'British airways'"
      ],
      "execution_count": null,
      "outputs": []
    },
    {
      "cell_type": "code",
      "metadata": {
        "id": "v2LSBD04jhYu"
      },
      "source": [
        "airline.loc[airline['airline'] == '#AirCanada', 'airline'] = 'Air Canada'"
      ],
      "execution_count": null,
      "outputs": []
    },
    {
      "cell_type": "code",
      "metadata": {
        "id": "pf-f1asajhsk"
      },
      "source": [
        "airline.loc[airline['airline'] == '#qatarairways', 'airline'] = 'Qatar airways'"
      ],
      "execution_count": null,
      "outputs": []
    },
    {
      "cell_type": "code",
      "metadata": {
        "id": "5MfimJrwjh_x"
      },
      "source": [
        "airline.loc[airline['airline'] == '#airfrance', 'airline'] = 'Air France'"
      ],
      "execution_count": null,
      "outputs": []
    },
    {
      "cell_type": "code",
      "metadata": {
        "id": "c1d2HN4ljiTW"
      },
      "source": [
        "airline.loc[airline['airline'] == '#virginatlantic', 'airline'] = 'Virgin Atlantic'"
      ],
      "execution_count": null,
      "outputs": []
    },
    {
      "cell_type": "code",
      "metadata": {
        "id": "A3LUXP2Bjil1"
      },
      "source": [
        "airline.loc[airline['airline'] == '#UnitedAirlines', 'airline'] = 'United Airlines'\n",
        "airline.loc[airline['airline'] == '#United_Airlines', 'airline'] = 'United Airlines'"
      ],
      "execution_count": null,
      "outputs": []
    },
    {
      "cell_type": "code",
      "metadata": {
        "id": "yI8D9WINji5z"
      },
      "source": [
        "airline.loc[airline['airline'] == '#turkishairlines', 'airline'] = 'Turkish airlines'"
      ],
      "execution_count": null,
      "outputs": []
    },
    {
      "cell_type": "code",
      "metadata": {
        "id": "yJXAxMfKjjRf"
      },
      "source": [
        "airline.loc[airline['airline'] == '#flydubai', 'airline'] = 'fly Dubai'"
      ],
      "execution_count": null,
      "outputs": []
    },
    {
      "cell_type": "code",
      "metadata": {
        "colab": {
          "base_uri": "https://localhost:8080/",
          "height": 546
        },
        "id": "BUt2az075aAj",
        "outputId": "e16f5bc1-ddba-4693-99bb-dfa1c0a4b6c2"
      },
      "source": [
        "airline.sample(10)"
      ],
      "execution_count": null,
      "outputs": [
        {
          "output_type": "execute_result",
          "data": {
            "text/html": [
              "<div>\n",
              "<style scoped>\n",
              "    .dataframe tbody tr th:only-of-type {\n",
              "        vertical-align: middle;\n",
              "    }\n",
              "\n",
              "    .dataframe tbody tr th {\n",
              "        vertical-align: top;\n",
              "    }\n",
              "\n",
              "    .dataframe thead th {\n",
              "        text-align: right;\n",
              "    }\n",
              "</style>\n",
              "<table border=\"1\" class=\"dataframe\">\n",
              "  <thead>\n",
              "    <tr style=\"text-align: right;\">\n",
              "      <th></th>\n",
              "      <th>tweet_id</th>\n",
              "      <th>created_at</th>\n",
              "      <th>text</th>\n",
              "      <th>likes</th>\n",
              "      <th>retweeted</th>\n",
              "      <th>location</th>\n",
              "      <th>language</th>\n",
              "      <th>airline</th>\n",
              "    </tr>\n",
              "  </thead>\n",
              "  <tbody>\n",
              "    <tr>\n",
              "      <th>162</th>\n",
              "      <td>1335169940211568640</td>\n",
              "      <td>2020-12-05 10:31:34</td>\n",
              "      <td>The British airline, #VirginAtlantic, has announced to commence its flight operation for #Pakist...</td>\n",
              "      <td>2</td>\n",
              "      <td>False</td>\n",
              "      <td>Karachi Pakistan</td>\n",
              "      <td>en</td>\n",
              "      <td>Virgin Atlantic</td>\n",
              "    </tr>\n",
              "    <tr>\n",
              "      <th>14</th>\n",
              "      <td>1336436473529176064</td>\n",
              "      <td>2020-12-08 22:24:19</td>\n",
              "      <td>Singapore Airlines To Strengthen Ties With India’s Vistara \\n#Singapore #Airlines #vistara #Indi...</td>\n",
              "      <td>3</td>\n",
              "      <td>False</td>\n",
              "      <td>Dadaocheng, Taipei.🇹🇼</td>\n",
              "      <td>en</td>\n",
              "      <td>Singapor airlines</td>\n",
              "    </tr>\n",
              "    <tr>\n",
              "      <th>412</th>\n",
              "      <td>1335509283471904770</td>\n",
              "      <td>2020-12-06 09:00:00</td>\n",
              "      <td>UV cleaning with the @HoneywellAero systems ensures that our aircraft cabin is disinfected befor...</td>\n",
              "      <td>138</td>\n",
              "      <td>False</td>\n",
              "      <td>Doha, Qatar</td>\n",
              "      <td>en</td>\n",
              "      <td>Qatar airways</td>\n",
              "    </tr>\n",
              "    <tr>\n",
              "      <th>236</th>\n",
              "      <td>1334199371852902404</td>\n",
              "      <td>2020-12-02 18:14:53</td>\n",
              "      <td>RT @UweMuegge: #AirCanada seek a #Temporary #English &amp;gt; #French #Translator in #Dorval, #Canad...</td>\n",
              "      <td>0</td>\n",
              "      <td>False</td>\n",
              "      <td>NaN</td>\n",
              "      <td>en</td>\n",
              "      <td>Air Canada</td>\n",
              "    </tr>\n",
              "    <tr>\n",
              "      <th>205</th>\n",
              "      <td>1335628496169824258</td>\n",
              "      <td>2020-12-06 16:53:42</td>\n",
              "      <td>Angels in the Mist. #BritishAirways https://t.co/UX0A1YsYBB</td>\n",
              "      <td>3</td>\n",
              "      <td>False</td>\n",
              "      <td>England, United Kingdom</td>\n",
              "      <td>en</td>\n",
              "      <td>British airways</td>\n",
              "    </tr>\n",
              "    <tr>\n",
              "      <th>284</th>\n",
              "      <td>1334707064673771524</td>\n",
              "      <td>2020-12-04 03:52:16</td>\n",
              "      <td>@ShameOnLA @AdamSmithMD #usdtry #turkishlira #bist100 #DolarTL  $TUR  #SanctionTurkey #turkiye #...</td>\n",
              "      <td>1</td>\n",
              "      <td>False</td>\n",
              "      <td>GAVURISTAN</td>\n",
              "      <td>en</td>\n",
              "      <td>Turkish airlines</td>\n",
              "    </tr>\n",
              "    <tr>\n",
              "      <th>179</th>\n",
              "      <td>1335848559837638656</td>\n",
              "      <td>2020-12-07 07:28:10</td>\n",
              "      <td>Caught in a 🌈 is this BEA Trident 3 on display at the Runway Visitor Park at @manairport #avgeek...</td>\n",
              "      <td>74</td>\n",
              "      <td>False</td>\n",
              "      <td>Manchester</td>\n",
              "      <td>en</td>\n",
              "      <td>British airways</td>\n",
              "    </tr>\n",
              "    <tr>\n",
              "      <th>252</th>\n",
              "      <td>1336272918553251841</td>\n",
              "      <td>2020-12-08 11:34:25</td>\n",
              "      <td>How shameful &amp;amp; low can QR stoop? Being kind &amp;amp; compassionate is what employees want the a...</td>\n",
              "      <td>0</td>\n",
              "      <td>False</td>\n",
              "      <td>Frankfurt</td>\n",
              "      <td>en</td>\n",
              "      <td>Qatar airways</td>\n",
              "    </tr>\n",
              "    <tr>\n",
              "      <th>111</th>\n",
              "      <td>1335228177510088707</td>\n",
              "      <td>2020-12-05 14:22:59</td>\n",
              "      <td>Find flight deals to #Tirana from UK and book today. Major airlines connecting both the destinat...</td>\n",
              "      <td>0</td>\n",
              "      <td>False</td>\n",
              "      <td>2nd Floor, 7 Mackenzie Street, Slough – SL1 1XQ</td>\n",
              "      <td>en</td>\n",
              "      <td>Air France</td>\n",
              "    </tr>\n",
              "    <tr>\n",
              "      <th>155</th>\n",
              "      <td>1335946996868321280</td>\n",
              "      <td>2020-12-07 13:59:19</td>\n",
              "      <td>RT @SamBennB: @Debs0705 For all @British_Airways future customers, BA will stop replying you and...</td>\n",
              "      <td>0</td>\n",
              "      <td>False</td>\n",
              "      <td>Aberdeenshire</td>\n",
              "      <td>en</td>\n",
              "      <td>British airways</td>\n",
              "    </tr>\n",
              "  </tbody>\n",
              "</table>\n",
              "</div>"
            ],
            "text/plain": [
              "                tweet_id           created_at  ... language            airline\n",
              "162  1335169940211568640  2020-12-05 10:31:34  ...       en    Virgin Atlantic\n",
              "14   1336436473529176064  2020-12-08 22:24:19  ...       en  Singapor airlines\n",
              "412  1335509283471904770  2020-12-06 09:00:00  ...       en      Qatar airways\n",
              "236  1334199371852902404  2020-12-02 18:14:53  ...       en         Air Canada\n",
              "205  1335628496169824258  2020-12-06 16:53:42  ...       en    British airways\n",
              "284  1334707064673771524  2020-12-04 03:52:16  ...       en   Turkish airlines\n",
              "179  1335848559837638656  2020-12-07 07:28:10  ...       en    British airways\n",
              "252  1336272918553251841  2020-12-08 11:34:25  ...       en      Qatar airways\n",
              "111  1335228177510088707  2020-12-05 14:22:59  ...       en         Air France\n",
              "155  1335946996868321280  2020-12-07 13:59:19  ...       en    British airways\n",
              "\n",
              "[10 rows x 8 columns]"
            ]
          },
          "metadata": {
            "tags": []
          },
          "execution_count": 173
        }
      ]
    },
    {
      "cell_type": "markdown",
      "metadata": {
        "id": "LomcoeEHNDAw"
      },
      "source": [
        "#**NLP text pre-processing**"
      ]
    },
    {
      "cell_type": "markdown",
      "metadata": {
        "id": "WiWbUeuHiD8s"
      },
      "source": [
        "#using regular expression"
      ]
    },
    {
      "cell_type": "code",
      "metadata": {
        "id": "j5w6YrFGQV5O"
      },
      "source": [
        "# Create a function to clean the tweets\n",
        "def cleanTxt(text):\n",
        " text = re.sub('@[A-Za-z0–9]+', '', text) #Removing @mentions\n",
        " text = re.sub('#', '', text) # Removing '#' hash tag\n",
        " text = re.sub('RT[\\s]+', '', text) # Removing RT\n",
        " text = re.sub('https?:\\/\\/\\S+', '', text) # Removing hyperlink\n",
        " text = re.sub(r'\\d', '', text)\n",
        " text = \"\".join([word.lower() for word in text if word not in string.punctuation])\n",
        " \n",
        " return text"
      ],
      "execution_count": null,
      "outputs": []
    },
    {
      "cell_type": "code",
      "metadata": {
        "colab": {
          "base_uri": "https://localhost:8080/",
          "height": 306
        },
        "id": "Aqjl50j_GZSA",
        "outputId": "23586ed3-ea51-4059-f79d-4e018fefad71"
      },
      "source": [
        "# Clean the tweets\n",
        "airline[\"text\"] = airline[\"text\"].apply(cleanTxt)\n",
        "\n",
        "# Show the cleaned tweets\n",
        "airline.head(5)"
      ],
      "execution_count": null,
      "outputs": [
        {
          "output_type": "execute_result",
          "data": {
            "text/html": [
              "<div>\n",
              "<style scoped>\n",
              "    .dataframe tbody tr th:only-of-type {\n",
              "        vertical-align: middle;\n",
              "    }\n",
              "\n",
              "    .dataframe tbody tr th {\n",
              "        vertical-align: top;\n",
              "    }\n",
              "\n",
              "    .dataframe thead th {\n",
              "        text-align: right;\n",
              "    }\n",
              "</style>\n",
              "<table border=\"1\" class=\"dataframe\">\n",
              "  <thead>\n",
              "    <tr style=\"text-align: right;\">\n",
              "      <th></th>\n",
              "      <th>tweet_id</th>\n",
              "      <th>created_at</th>\n",
              "      <th>text</th>\n",
              "      <th>likes</th>\n",
              "      <th>retweeted</th>\n",
              "      <th>location</th>\n",
              "      <th>language</th>\n",
              "      <th>airline</th>\n",
              "    </tr>\n",
              "  </thead>\n",
              "  <tbody>\n",
              "    <tr>\n",
              "      <th>0</th>\n",
              "      <td>1336979288470548481</td>\n",
              "      <td>2020-12-10 10:21:16</td>\n",
              "      <td>to achieve the kingdoms vision 🇸🇦 in the sustainability of economic power social development an...</td>\n",
              "      <td>0</td>\n",
              "      <td>False</td>\n",
              "      <td>RIYADH,SAUDI ARABIA</td>\n",
              "      <td>en</td>\n",
              "      <td>Saudia airlines</td>\n",
              "    </tr>\n",
              "    <tr>\n",
              "      <th>2</th>\n",
              "      <td>1336950027005161473</td>\n",
              "      <td>2020-12-10 08:25:00</td>\n",
              "      <td>to achieve the kingdoms vision 🇸🇦 in the sustainability of economic power social development and...</td>\n",
              "      <td>5</td>\n",
              "      <td>False</td>\n",
              "      <td>Jeddah, Saudi Arabia</td>\n",
              "      <td>en</td>\n",
              "      <td>Saudia airlines</td>\n",
              "    </tr>\n",
              "    <tr>\n",
              "      <th>540</th>\n",
              "      <td>1336909751532351489</td>\n",
              "      <td>2020-12-10 05:44:58</td>\n",
              "      <td>dmampget  mark\\n\\njava\\ndatabase\\naccounting\\nfinance\\nbusiness \\neconomics \\nstatistics \\ncalcu...</td>\n",
              "      <td>0</td>\n",
              "      <td>False</td>\n",
              "      <td>NaN</td>\n",
              "      <td>en</td>\n",
              "      <td>Saudia airlines</td>\n",
              "    </tr>\n",
              "    <tr>\n",
              "      <th>541</th>\n",
              "      <td>1336827127824572422</td>\n",
              "      <td>2020-12-10 00:16:38</td>\n",
              "      <td>ctr illdo ur math stat marketing accounting onlineexam\\n\\ntextawhatsapp   \\n\\nhomework\\nassignme...</td>\n",
              "      <td>0</td>\n",
              "      <td>False</td>\n",
              "      <td>NaN</td>\n",
              "      <td>en</td>\n",
              "      <td>Saudia airlines</td>\n",
              "    </tr>\n",
              "    <tr>\n",
              "      <th>542</th>\n",
              "      <td>1336826958764789762</td>\n",
              "      <td>2020-12-10 00:15:58</td>\n",
              "      <td>illdo ur math stat marketing accounting onlineexam\\n\\ntextawhatsapp   \\n\\nhomework\\nassignment…</td>\n",
              "      <td>2</td>\n",
              "      <td>False</td>\n",
              "      <td>United States</td>\n",
              "      <td>en</td>\n",
              "      <td>Saudia airlines</td>\n",
              "    </tr>\n",
              "  </tbody>\n",
              "</table>\n",
              "</div>"
            ],
            "text/plain": [
              "                tweet_id           created_at  ... language          airline\n",
              "0    1336979288470548481  2020-12-10 10:21:16  ...       en  Saudia airlines\n",
              "2    1336950027005161473  2020-12-10 08:25:00  ...       en  Saudia airlines\n",
              "540  1336909751532351489  2020-12-10 05:44:58  ...       en  Saudia airlines\n",
              "541  1336827127824572422  2020-12-10 00:16:38  ...       en  Saudia airlines\n",
              "542  1336826958764789762  2020-12-10 00:15:58  ...       en  Saudia airlines\n",
              "\n",
              "[5 rows x 8 columns]"
            ]
          },
          "metadata": {
            "tags": []
          },
          "execution_count": 174
        }
      ]
    },
    {
      "cell_type": "markdown",
      "metadata": {
        "id": "WNyjvOcMJb6I"
      },
      "source": [
        "#Tokanization"
      ]
    },
    {
      "cell_type": "code",
      "metadata": {
        "id": "ste8xB17RRqR"
      },
      "source": [
        "def tokenization(text):\n",
        "    text = re.split('\\W+', text)\n",
        "    return text\n"
      ],
      "execution_count": null,
      "outputs": []
    },
    {
      "cell_type": "code",
      "metadata": {
        "colab": {
          "base_uri": "https://localhost:8080/",
          "height": 289
        },
        "id": "CN5KKh-fRrFe",
        "outputId": "9c7fc7a6-9d00-417e-94d5-ef3dd49e0e3f"
      },
      "source": [
        "\n",
        "airline['text'] = airline['text'].apply(lambda x: tokenization(x.lower()))\n",
        "airline.head(5)"
      ],
      "execution_count": null,
      "outputs": [
        {
          "output_type": "execute_result",
          "data": {
            "text/html": [
              "<div>\n",
              "<style scoped>\n",
              "    .dataframe tbody tr th:only-of-type {\n",
              "        vertical-align: middle;\n",
              "    }\n",
              "\n",
              "    .dataframe tbody tr th {\n",
              "        vertical-align: top;\n",
              "    }\n",
              "\n",
              "    .dataframe thead th {\n",
              "        text-align: right;\n",
              "    }\n",
              "</style>\n",
              "<table border=\"1\" class=\"dataframe\">\n",
              "  <thead>\n",
              "    <tr style=\"text-align: right;\">\n",
              "      <th></th>\n",
              "      <th>tweet_id</th>\n",
              "      <th>created_at</th>\n",
              "      <th>text</th>\n",
              "      <th>likes</th>\n",
              "      <th>retweeted</th>\n",
              "      <th>location</th>\n",
              "      <th>language</th>\n",
              "      <th>airline</th>\n",
              "    </tr>\n",
              "  </thead>\n",
              "  <tbody>\n",
              "    <tr>\n",
              "      <th>0</th>\n",
              "      <td>1336979288470548481</td>\n",
              "      <td>2020-12-10 10:21:16</td>\n",
              "      <td>[, to, achieve, the, kingdoms, vision, in, the, sustainability, of, economic, power, social, dev...</td>\n",
              "      <td>0</td>\n",
              "      <td>False</td>\n",
              "      <td>RIYADH,SAUDI ARABIA</td>\n",
              "      <td>en</td>\n",
              "      <td>Saudia airlines</td>\n",
              "    </tr>\n",
              "    <tr>\n",
              "      <th>2</th>\n",
              "      <td>1336950027005161473</td>\n",
              "      <td>2020-12-10 08:25:00</td>\n",
              "      <td>[to, achieve, the, kingdoms, vision, in, the, sustainability, of, economic, power, social, devel...</td>\n",
              "      <td>5</td>\n",
              "      <td>False</td>\n",
              "      <td>Jeddah, Saudi Arabia</td>\n",
              "      <td>en</td>\n",
              "      <td>Saudia airlines</td>\n",
              "    </tr>\n",
              "    <tr>\n",
              "      <th>540</th>\n",
              "      <td>1336909751532351489</td>\n",
              "      <td>2020-12-10 05:44:58</td>\n",
              "      <td>[dmampget, mark, java, database, accounting, finance, business, economics, statistics, calculus, ]</td>\n",
              "      <td>0</td>\n",
              "      <td>False</td>\n",
              "      <td>NaN</td>\n",
              "      <td>en</td>\n",
              "      <td>Saudia airlines</td>\n",
              "    </tr>\n",
              "    <tr>\n",
              "      <th>541</th>\n",
              "      <td>1336827127824572422</td>\n",
              "      <td>2020-12-10 00:16:38</td>\n",
              "      <td>[ctr, illdo, ur, math, stat, marketing, accounting, onlineexam, textawhatsapp, homework, assignm...</td>\n",
              "      <td>0</td>\n",
              "      <td>False</td>\n",
              "      <td>NaN</td>\n",
              "      <td>en</td>\n",
              "      <td>Saudia airlines</td>\n",
              "    </tr>\n",
              "    <tr>\n",
              "      <th>542</th>\n",
              "      <td>1336826958764789762</td>\n",
              "      <td>2020-12-10 00:15:58</td>\n",
              "      <td>[illdo, ur, math, stat, marketing, accounting, onlineexam, textawhatsapp, homework, assignment, ]</td>\n",
              "      <td>2</td>\n",
              "      <td>False</td>\n",
              "      <td>United States</td>\n",
              "      <td>en</td>\n",
              "      <td>Saudia airlines</td>\n",
              "    </tr>\n",
              "  </tbody>\n",
              "</table>\n",
              "</div>"
            ],
            "text/plain": [
              "                tweet_id           created_at  ... language          airline\n",
              "0    1336979288470548481  2020-12-10 10:21:16  ...       en  Saudia airlines\n",
              "2    1336950027005161473  2020-12-10 08:25:00  ...       en  Saudia airlines\n",
              "540  1336909751532351489  2020-12-10 05:44:58  ...       en  Saudia airlines\n",
              "541  1336827127824572422  2020-12-10 00:16:38  ...       en  Saudia airlines\n",
              "542  1336826958764789762  2020-12-10 00:15:58  ...       en  Saudia airlines\n",
              "\n",
              "[5 rows x 8 columns]"
            ]
          },
          "metadata": {
            "tags": []
          },
          "execution_count": 175
        }
      ]
    },
    {
      "cell_type": "markdown",
      "metadata": {
        "id": "E91sKwLcWPbf"
      },
      "source": [
        "#stemming\n",
        "\n",
        "stemming is basically an algorithm to categorize similar words into one. "
      ]
    },
    {
      "cell_type": "code",
      "metadata": {
        "id": "f34UQPonZUf_"
      },
      "source": [
        "ps = nltk.PorterStemmer()\n",
        "\n",
        "def stemming(text):\n",
        "    text = [ps.stem(word) for word in text]\n",
        "    return text"
      ],
      "execution_count": null,
      "outputs": []
    },
    {
      "cell_type": "code",
      "metadata": {
        "id": "fMRaOH2gKHEL",
        "colab": {
          "base_uri": "https://localhost:8080/",
          "height": 646
        },
        "outputId": "080187d0-33fa-4324-a35d-2d9dc726b41c"
      },
      "source": [
        "airline['Tweet_stemmed'] = airline['text'].apply(lambda x: stemming(x))\n",
        "airline.head(5)"
      ],
      "execution_count": null,
      "outputs": [
        {
          "output_type": "execute_result",
          "data": {
            "text/html": [
              "<div>\n",
              "<style scoped>\n",
              "    .dataframe tbody tr th:only-of-type {\n",
              "        vertical-align: middle;\n",
              "    }\n",
              "\n",
              "    .dataframe tbody tr th {\n",
              "        vertical-align: top;\n",
              "    }\n",
              "\n",
              "    .dataframe thead th {\n",
              "        text-align: right;\n",
              "    }\n",
              "</style>\n",
              "<table border=\"1\" class=\"dataframe\">\n",
              "  <thead>\n",
              "    <tr style=\"text-align: right;\">\n",
              "      <th></th>\n",
              "      <th>tweet_id</th>\n",
              "      <th>created_at</th>\n",
              "      <th>text</th>\n",
              "      <th>likes</th>\n",
              "      <th>retweeted</th>\n",
              "      <th>location</th>\n",
              "      <th>language</th>\n",
              "      <th>airline</th>\n",
              "      <th>Tweet_stemmed</th>\n",
              "    </tr>\n",
              "  </thead>\n",
              "  <tbody>\n",
              "    <tr>\n",
              "      <th>0</th>\n",
              "      <td>1336979288470548481</td>\n",
              "      <td>2020-12-10 10:21:16</td>\n",
              "      <td>[, to, achieve, the, kingdoms, vision, in, the, sustainability, of, economic, power, social, dev...</td>\n",
              "      <td>0</td>\n",
              "      <td>False</td>\n",
              "      <td>RIYADH,SAUDI ARABIA</td>\n",
              "      <td>en</td>\n",
              "      <td>Saudia airlines</td>\n",
              "      <td>[, to, achiev, the, kingdom, vision, in, the, sustain, of, econom, power, social, develop, and, ...</td>\n",
              "    </tr>\n",
              "    <tr>\n",
              "      <th>2</th>\n",
              "      <td>1336950027005161473</td>\n",
              "      <td>2020-12-10 08:25:00</td>\n",
              "      <td>[to, achieve, the, kingdoms, vision, in, the, sustainability, of, economic, power, social, devel...</td>\n",
              "      <td>5</td>\n",
              "      <td>False</td>\n",
              "      <td>Jeddah, Saudi Arabia</td>\n",
              "      <td>en</td>\n",
              "      <td>Saudia airlines</td>\n",
              "      <td>[to, achiev, the, kingdom, vision, in, the, sustain, of, econom, power, social, develop, and, kn...</td>\n",
              "    </tr>\n",
              "    <tr>\n",
              "      <th>540</th>\n",
              "      <td>1336909751532351489</td>\n",
              "      <td>2020-12-10 05:44:58</td>\n",
              "      <td>[dmampget, mark, java, database, accounting, finance, business, economics, statistics, calculus, ]</td>\n",
              "      <td>0</td>\n",
              "      <td>False</td>\n",
              "      <td>NaN</td>\n",
              "      <td>en</td>\n",
              "      <td>Saudia airlines</td>\n",
              "      <td>[dmampget, mark, java, databas, account, financ, busi, econom, statist, calculu, ]</td>\n",
              "    </tr>\n",
              "    <tr>\n",
              "      <th>541</th>\n",
              "      <td>1336827127824572422</td>\n",
              "      <td>2020-12-10 00:16:38</td>\n",
              "      <td>[ctr, illdo, ur, math, stat, marketing, accounting, onlineexam, textawhatsapp, homework, assignm...</td>\n",
              "      <td>0</td>\n",
              "      <td>False</td>\n",
              "      <td>NaN</td>\n",
              "      <td>en</td>\n",
              "      <td>Saudia airlines</td>\n",
              "      <td>[ctr, illdo, ur, math, stat, market, account, onlineexam, textawhatsapp, homework, assign, onlin, ]</td>\n",
              "    </tr>\n",
              "    <tr>\n",
              "      <th>542</th>\n",
              "      <td>1336826958764789762</td>\n",
              "      <td>2020-12-10 00:15:58</td>\n",
              "      <td>[illdo, ur, math, stat, marketing, accounting, onlineexam, textawhatsapp, homework, assignment, ]</td>\n",
              "      <td>2</td>\n",
              "      <td>False</td>\n",
              "      <td>United States</td>\n",
              "      <td>en</td>\n",
              "      <td>Saudia airlines</td>\n",
              "      <td>[illdo, ur, math, stat, market, account, onlineexam, textawhatsapp, homework, assign, ]</td>\n",
              "    </tr>\n",
              "  </tbody>\n",
              "</table>\n",
              "</div>"
            ],
            "text/plain": [
              "                tweet_id  ...                                                                                        Tweet_stemmed\n",
              "0    1336979288470548481  ...  [, to, achiev, the, kingdom, vision, in, the, sustain, of, econom, power, social, develop, and, ...\n",
              "2    1336950027005161473  ...  [to, achiev, the, kingdom, vision, in, the, sustain, of, econom, power, social, develop, and, kn...\n",
              "540  1336909751532351489  ...                   [dmampget, mark, java, databas, account, financ, busi, econom, statist, calculu, ]\n",
              "541  1336827127824572422  ...  [ctr, illdo, ur, math, stat, market, account, onlineexam, textawhatsapp, homework, assign, onlin, ]\n",
              "542  1336826958764789762  ...              [illdo, ur, math, stat, market, account, onlineexam, textawhatsapp, homework, assign, ]\n",
              "\n",
              "[5 rows x 9 columns]"
            ]
          },
          "metadata": {
            "tags": []
          },
          "execution_count": 176
        }
      ]
    },
    {
      "cell_type": "markdown",
      "metadata": {
        "id": "qyceIrDnYlWV"
      },
      "source": [
        "#Lemmatizing\n",
        "\n",
        "According to wiki, Lemmatisation is closely related to stemming. The difference is that a stemmer operates on a single word without knowledge of the context, and therefore cannot discriminate between words which have different meanings depending on part of speech"
      ]
    },
    {
      "cell_type": "code",
      "metadata": {
        "colab": {
          "base_uri": "https://localhost:8080/"
        },
        "id": "Uti6WRCQWXUj",
        "outputId": "88c0d621-a36a-48cc-aaef-7b685981d292"
      },
      "source": [
        "nltk.download('wordnet')\n",
        "wn = nltk.WordNetLemmatizer()\n",
        "\n",
        "def lemmatize(text):\n",
        "    text = [wn.lemmatize(word) for word in text]\n",
        "    return text\n"
      ],
      "execution_count": null,
      "outputs": [
        {
          "output_type": "stream",
          "text": [
            "[nltk_data] Downloading package wordnet to /root/nltk_data...\n",
            "[nltk_data]   Unzipping corpora/wordnet.zip.\n"
          ],
          "name": "stdout"
        }
      ]
    },
    {
      "cell_type": "code",
      "metadata": {
        "id": "2XJJfuwZKh7g",
        "colab": {
          "base_uri": "https://localhost:8080/",
          "height": 680
        },
        "outputId": "28c5c02e-c8d2-4d64-8b39-be662a723d06"
      },
      "source": [
        "airline['Tweet_lemmatized'] = airline['text'].apply(lambda x: lemmatize(x))\n",
        "airline.head(5)"
      ],
      "execution_count": null,
      "outputs": [
        {
          "output_type": "execute_result",
          "data": {
            "text/html": [
              "<div>\n",
              "<style scoped>\n",
              "    .dataframe tbody tr th:only-of-type {\n",
              "        vertical-align: middle;\n",
              "    }\n",
              "\n",
              "    .dataframe tbody tr th {\n",
              "        vertical-align: top;\n",
              "    }\n",
              "\n",
              "    .dataframe thead th {\n",
              "        text-align: right;\n",
              "    }\n",
              "</style>\n",
              "<table border=\"1\" class=\"dataframe\">\n",
              "  <thead>\n",
              "    <tr style=\"text-align: right;\">\n",
              "      <th></th>\n",
              "      <th>tweet_id</th>\n",
              "      <th>created_at</th>\n",
              "      <th>text</th>\n",
              "      <th>likes</th>\n",
              "      <th>retweeted</th>\n",
              "      <th>location</th>\n",
              "      <th>language</th>\n",
              "      <th>airline</th>\n",
              "      <th>Tweet_stemmed</th>\n",
              "      <th>Tweet_lemmatized</th>\n",
              "    </tr>\n",
              "  </thead>\n",
              "  <tbody>\n",
              "    <tr>\n",
              "      <th>0</th>\n",
              "      <td>1336979288470548481</td>\n",
              "      <td>2020-12-10 10:21:16</td>\n",
              "      <td>[, to, achieve, the, kingdoms, vision, in, the, sustainability, of, economic, power, social, dev...</td>\n",
              "      <td>0</td>\n",
              "      <td>False</td>\n",
              "      <td>RIYADH,SAUDI ARABIA</td>\n",
              "      <td>en</td>\n",
              "      <td>Saudia airlines</td>\n",
              "      <td>[, to, achiev, the, kingdom, vision, in, the, sustain, of, econom, power, social, develop, and, ...</td>\n",
              "      <td>[, to, achieve, the, kingdom, vision, in, the, sustainability, of, economic, power, social, deve...</td>\n",
              "    </tr>\n",
              "    <tr>\n",
              "      <th>2</th>\n",
              "      <td>1336950027005161473</td>\n",
              "      <td>2020-12-10 08:25:00</td>\n",
              "      <td>[to, achieve, the, kingdoms, vision, in, the, sustainability, of, economic, power, social, devel...</td>\n",
              "      <td>5</td>\n",
              "      <td>False</td>\n",
              "      <td>Jeddah, Saudi Arabia</td>\n",
              "      <td>en</td>\n",
              "      <td>Saudia airlines</td>\n",
              "      <td>[to, achiev, the, kingdom, vision, in, the, sustain, of, econom, power, social, develop, and, kn...</td>\n",
              "      <td>[to, achieve, the, kingdom, vision, in, the, sustainability, of, economic, power, social, develo...</td>\n",
              "    </tr>\n",
              "    <tr>\n",
              "      <th>540</th>\n",
              "      <td>1336909751532351489</td>\n",
              "      <td>2020-12-10 05:44:58</td>\n",
              "      <td>[dmampget, mark, java, database, accounting, finance, business, economics, statistics, calculus, ]</td>\n",
              "      <td>0</td>\n",
              "      <td>False</td>\n",
              "      <td>NaN</td>\n",
              "      <td>en</td>\n",
              "      <td>Saudia airlines</td>\n",
              "      <td>[dmampget, mark, java, databas, account, financ, busi, econom, statist, calculu, ]</td>\n",
              "      <td>[dmampget, mark, java, database, accounting, finance, business, economics, statistic, calculus, ]</td>\n",
              "    </tr>\n",
              "    <tr>\n",
              "      <th>541</th>\n",
              "      <td>1336827127824572422</td>\n",
              "      <td>2020-12-10 00:16:38</td>\n",
              "      <td>[ctr, illdo, ur, math, stat, marketing, accounting, onlineexam, textawhatsapp, homework, assignm...</td>\n",
              "      <td>0</td>\n",
              "      <td>False</td>\n",
              "      <td>NaN</td>\n",
              "      <td>en</td>\n",
              "      <td>Saudia airlines</td>\n",
              "      <td>[ctr, illdo, ur, math, stat, market, account, onlineexam, textawhatsapp, homework, assign, onlin, ]</td>\n",
              "      <td>[ctr, illdo, ur, math, stat, marketing, accounting, onlineexam, textawhatsapp, homework, assignm...</td>\n",
              "    </tr>\n",
              "    <tr>\n",
              "      <th>542</th>\n",
              "      <td>1336826958764789762</td>\n",
              "      <td>2020-12-10 00:15:58</td>\n",
              "      <td>[illdo, ur, math, stat, marketing, accounting, onlineexam, textawhatsapp, homework, assignment, ]</td>\n",
              "      <td>2</td>\n",
              "      <td>False</td>\n",
              "      <td>United States</td>\n",
              "      <td>en</td>\n",
              "      <td>Saudia airlines</td>\n",
              "      <td>[illdo, ur, math, stat, market, account, onlineexam, textawhatsapp, homework, assign, ]</td>\n",
              "      <td>[illdo, ur, math, stat, marketing, accounting, onlineexam, textawhatsapp, homework, assignment, ]</td>\n",
              "    </tr>\n",
              "  </tbody>\n",
              "</table>\n",
              "</div>"
            ],
            "text/plain": [
              "                tweet_id  ...                                                                                     Tweet_lemmatized\n",
              "0    1336979288470548481  ...  [, to, achieve, the, kingdom, vision, in, the, sustainability, of, economic, power, social, deve...\n",
              "2    1336950027005161473  ...  [to, achieve, the, kingdom, vision, in, the, sustainability, of, economic, power, social, develo...\n",
              "540  1336909751532351489  ...    [dmampget, mark, java, database, accounting, finance, business, economics, statistic, calculus, ]\n",
              "541  1336827127824572422  ...  [ctr, illdo, ur, math, stat, marketing, accounting, onlineexam, textawhatsapp, homework, assignm...\n",
              "542  1336826958764789762  ...    [illdo, ur, math, stat, marketing, accounting, onlineexam, textawhatsapp, homework, assignment, ]\n",
              "\n",
              "[5 rows x 10 columns]"
            ]
          },
          "metadata": {
            "tags": []
          },
          "execution_count": 177
        }
      ]
    },
    {
      "cell_type": "markdown",
      "metadata": {
        "id": "DQBoBiOTnMsG"
      },
      "source": [
        "In fact, it can be clearly seen that lemmatizing better than stemming since some the words transformed to meaningless words such as kindli instead of being kindly which is the correct form of the word "
      ]
    },
    {
      "cell_type": "markdown",
      "metadata": {
        "id": "s6CyjKuCalCc"
      },
      "source": [
        "Now let's compare the number of unique words in Lemmatizing and Stemming"
      ]
    },
    {
      "cell_type": "code",
      "metadata": {
        "colab": {
          "base_uri": "https://localhost:8080/"
        },
        "id": "vVyPn-JjY4mc",
        "outputId": "405858e7-147c-46e7-a50c-50cbd8d675e9"
      },
      "source": [
        "listOfWordsLemma = list(itertools.chain.from_iterable(airline['Tweet_lemmatized']))\n",
        "listOfWordsStem = list(itertools.chain.from_iterable(airline['Tweet_stemmed']))\n",
        "\n",
        "#number of unique tokens\n",
        "print(\"Unique words aft Lemm :\"+str(len(set(listOfWordsLemma))))\n",
        "print(\"Unique words aft Stem :\"+str(len(set(listOfWordsStem))))"
      ],
      "execution_count": null,
      "outputs": [
        {
          "output_type": "stream",
          "text": [
            "Unique words aft Lemm :4396\n",
            "Unique words aft Stem :3899\n"
          ],
          "name": "stdout"
        }
      ]
    },
    {
      "cell_type": "markdown",
      "metadata": {
        "id": "9ta44Djjn4K7"
      },
      "source": [
        "Surprisingly the Stemmed version got a lesser number of words. Therefore I will have to move forward with ['Tweet_lemmatized'] data set."
      ]
    },
    {
      "cell_type": "markdown",
      "metadata": {
        "id": "1t1JXvDIYSMo"
      },
      "source": [
        "#Remove stopwords"
      ]
    },
    {
      "cell_type": "code",
      "metadata": {
        "colab": {
          "base_uri": "https://localhost:8080/"
        },
        "id": "C_9nfiibo2sn",
        "outputId": "8ad7eaa5-400b-491e-a010-1c9ed9d9e9f3"
      },
      "source": [
        "nltk.download('stopwords')\n",
        "stopword = nltk.corpus.stopwords.words('english')"
      ],
      "execution_count": null,
      "outputs": [
        {
          "output_type": "stream",
          "text": [
            "[nltk_data] Downloading package stopwords to /root/nltk_data...\n",
            "[nltk_data]   Unzipping corpora/stopwords.zip.\n"
          ],
          "name": "stdout"
        }
      ]
    },
    {
      "cell_type": "code",
      "metadata": {
        "id": "wVMd789EpKa-"
      },
      "source": [
        "def remove_stopwords(text):\n",
        "    text = [word for word in text if word not in stopword]\n",
        "    return text"
      ],
      "execution_count": null,
      "outputs": []
    },
    {
      "cell_type": "code",
      "metadata": {
        "colab": {
          "base_uri": "https://localhost:8080/",
          "height": 680
        },
        "id": "S5xdTfuSX7di",
        "outputId": "4262e153-2806-497f-9e18-0a354306fa4b"
      },
      "source": [
        "airline['text'] = airline['Tweet_lemmatized'].apply(lambda x: remove_stopwords(x))\n",
        "airline.head(5)"
      ],
      "execution_count": null,
      "outputs": [
        {
          "output_type": "execute_result",
          "data": {
            "text/html": [
              "<div>\n",
              "<style scoped>\n",
              "    .dataframe tbody tr th:only-of-type {\n",
              "        vertical-align: middle;\n",
              "    }\n",
              "\n",
              "    .dataframe tbody tr th {\n",
              "        vertical-align: top;\n",
              "    }\n",
              "\n",
              "    .dataframe thead th {\n",
              "        text-align: right;\n",
              "    }\n",
              "</style>\n",
              "<table border=\"1\" class=\"dataframe\">\n",
              "  <thead>\n",
              "    <tr style=\"text-align: right;\">\n",
              "      <th></th>\n",
              "      <th>tweet_id</th>\n",
              "      <th>created_at</th>\n",
              "      <th>text</th>\n",
              "      <th>likes</th>\n",
              "      <th>retweeted</th>\n",
              "      <th>location</th>\n",
              "      <th>language</th>\n",
              "      <th>airline</th>\n",
              "      <th>Tweet_stemmed</th>\n",
              "      <th>Tweet_lemmatized</th>\n",
              "    </tr>\n",
              "  </thead>\n",
              "  <tbody>\n",
              "    <tr>\n",
              "      <th>0</th>\n",
              "      <td>1336979288470548481</td>\n",
              "      <td>2020-12-10 10:21:16</td>\n",
              "      <td>[, achieve, kingdom, vision, sustainability, economic, power, social, development, knowledge, tr...</td>\n",
              "      <td>0</td>\n",
              "      <td>False</td>\n",
              "      <td>RIYADH,SAUDI ARABIA</td>\n",
              "      <td>en</td>\n",
              "      <td>Saudia airlines</td>\n",
              "      <td>[, to, achiev, the, kingdom, vision, in, the, sustain, of, econom, power, social, develop, and, ...</td>\n",
              "      <td>[, to, achieve, the, kingdom, vision, in, the, sustainability, of, economic, power, social, deve...</td>\n",
              "    </tr>\n",
              "    <tr>\n",
              "      <th>2</th>\n",
              "      <td>1336950027005161473</td>\n",
              "      <td>2020-12-10 08:25:00</td>\n",
              "      <td>[achieve, kingdom, vision, sustainability, economic, power, social, development, knowledge, tran...</td>\n",
              "      <td>5</td>\n",
              "      <td>False</td>\n",
              "      <td>Jeddah, Saudi Arabia</td>\n",
              "      <td>en</td>\n",
              "      <td>Saudia airlines</td>\n",
              "      <td>[to, achiev, the, kingdom, vision, in, the, sustain, of, econom, power, social, develop, and, kn...</td>\n",
              "      <td>[to, achieve, the, kingdom, vision, in, the, sustainability, of, economic, power, social, develo...</td>\n",
              "    </tr>\n",
              "    <tr>\n",
              "      <th>540</th>\n",
              "      <td>1336909751532351489</td>\n",
              "      <td>2020-12-10 05:44:58</td>\n",
              "      <td>[dmampget, mark, java, database, accounting, finance, business, economics, statistic, calculus, ]</td>\n",
              "      <td>0</td>\n",
              "      <td>False</td>\n",
              "      <td>NaN</td>\n",
              "      <td>en</td>\n",
              "      <td>Saudia airlines</td>\n",
              "      <td>[dmampget, mark, java, databas, account, financ, busi, econom, statist, calculu, ]</td>\n",
              "      <td>[dmampget, mark, java, database, accounting, finance, business, economics, statistic, calculus, ]</td>\n",
              "    </tr>\n",
              "    <tr>\n",
              "      <th>541</th>\n",
              "      <td>1336827127824572422</td>\n",
              "      <td>2020-12-10 00:16:38</td>\n",
              "      <td>[ctr, illdo, ur, math, stat, marketing, accounting, onlineexam, textawhatsapp, homework, assignm...</td>\n",
              "      <td>0</td>\n",
              "      <td>False</td>\n",
              "      <td>NaN</td>\n",
              "      <td>en</td>\n",
              "      <td>Saudia airlines</td>\n",
              "      <td>[ctr, illdo, ur, math, stat, market, account, onlineexam, textawhatsapp, homework, assign, onlin, ]</td>\n",
              "      <td>[ctr, illdo, ur, math, stat, marketing, accounting, onlineexam, textawhatsapp, homework, assignm...</td>\n",
              "    </tr>\n",
              "    <tr>\n",
              "      <th>542</th>\n",
              "      <td>1336826958764789762</td>\n",
              "      <td>2020-12-10 00:15:58</td>\n",
              "      <td>[illdo, ur, math, stat, marketing, accounting, onlineexam, textawhatsapp, homework, assignment, ]</td>\n",
              "      <td>2</td>\n",
              "      <td>False</td>\n",
              "      <td>United States</td>\n",
              "      <td>en</td>\n",
              "      <td>Saudia airlines</td>\n",
              "      <td>[illdo, ur, math, stat, market, account, onlineexam, textawhatsapp, homework, assign, ]</td>\n",
              "      <td>[illdo, ur, math, stat, marketing, accounting, onlineexam, textawhatsapp, homework, assignment, ]</td>\n",
              "    </tr>\n",
              "  </tbody>\n",
              "</table>\n",
              "</div>"
            ],
            "text/plain": [
              "                tweet_id  ...                                                                                     Tweet_lemmatized\n",
              "0    1336979288470548481  ...  [, to, achieve, the, kingdom, vision, in, the, sustainability, of, economic, power, social, deve...\n",
              "2    1336950027005161473  ...  [to, achieve, the, kingdom, vision, in, the, sustainability, of, economic, power, social, develo...\n",
              "540  1336909751532351489  ...    [dmampget, mark, java, database, accounting, finance, business, economics, statistic, calculus, ]\n",
              "541  1336827127824572422  ...  [ctr, illdo, ur, math, stat, marketing, accounting, onlineexam, textawhatsapp, homework, assignm...\n",
              "542  1336826958764789762  ...    [illdo, ur, math, stat, marketing, accounting, onlineexam, textawhatsapp, homework, assignment, ]\n",
              "\n",
              "[5 rows x 10 columns]"
            ]
          },
          "metadata": {
            "tags": []
          },
          "execution_count": 178
        }
      ]
    },
    {
      "cell_type": "markdown",
      "metadata": {
        "id": "mFhrHbmNpaa9"
      },
      "source": [
        "Now, let's check the number of unique words has reduced or not. Ideally, there has to be some reduction. "
      ]
    },
    {
      "cell_type": "code",
      "metadata": {
        "colab": {
          "base_uri": "https://localhost:8080/"
        },
        "id": "o5ZmiTYlpfQL",
        "outputId": "7f9ddd66-74db-4374-f93b-45c8434bdcaa"
      },
      "source": [
        "listOfWordsNonstop = list(itertools.chain.from_iterable(airline['text']))\n",
        "\n",
        "#number of unique tokens in first data set\n",
        "print(\"Unique words aft removing stop words :\"+str(len(set(listOfWordsNonstop))))"
      ],
      "execution_count": null,
      "outputs": [
        {
          "output_type": "stream",
          "text": [
            "Unique words aft removing stop words :4270\n"
          ],
          "name": "stdout"
        }
      ]
    },
    {
      "cell_type": "markdown",
      "metadata": {
        "id": "hWVR54lARts6"
      },
      "source": [
        "#remove short words "
      ]
    },
    {
      "cell_type": "code",
      "metadata": {
        "id": "1yw965tXVYTy"
      },
      "source": [
        "def shortword(text):\n",
        "    text = [word for word in text if len(word)>3]\n",
        "    return text"
      ],
      "execution_count": null,
      "outputs": []
    },
    {
      "cell_type": "code",
      "metadata": {
        "colab": {
          "base_uri": "https://localhost:8080/",
          "height": 680
        },
        "id": "FOAM5S-nVB8b",
        "outputId": "a2c23194-2475-4eb3-ae11-02c40f6b6259"
      },
      "source": [
        "airline['text'] = airline['text'].apply(lambda x: shortword(x))\n",
        "airline.head(5)"
      ],
      "execution_count": null,
      "outputs": [
        {
          "output_type": "execute_result",
          "data": {
            "text/html": [
              "<div>\n",
              "<style scoped>\n",
              "    .dataframe tbody tr th:only-of-type {\n",
              "        vertical-align: middle;\n",
              "    }\n",
              "\n",
              "    .dataframe tbody tr th {\n",
              "        vertical-align: top;\n",
              "    }\n",
              "\n",
              "    .dataframe thead th {\n",
              "        text-align: right;\n",
              "    }\n",
              "</style>\n",
              "<table border=\"1\" class=\"dataframe\">\n",
              "  <thead>\n",
              "    <tr style=\"text-align: right;\">\n",
              "      <th></th>\n",
              "      <th>tweet_id</th>\n",
              "      <th>created_at</th>\n",
              "      <th>text</th>\n",
              "      <th>likes</th>\n",
              "      <th>retweeted</th>\n",
              "      <th>location</th>\n",
              "      <th>language</th>\n",
              "      <th>airline</th>\n",
              "      <th>Tweet_stemmed</th>\n",
              "      <th>Tweet_lemmatized</th>\n",
              "    </tr>\n",
              "  </thead>\n",
              "  <tbody>\n",
              "    <tr>\n",
              "      <th>0</th>\n",
              "      <td>1336979288470548481</td>\n",
              "      <td>2020-12-10 10:21:16</td>\n",
              "      <td>[achieve, kingdom, vision, sustainability, economic, power, social, development, knowledge, tran...</td>\n",
              "      <td>0</td>\n",
              "      <td>False</td>\n",
              "      <td>RIYADH,SAUDI ARABIA</td>\n",
              "      <td>en</td>\n",
              "      <td>Saudia airlines</td>\n",
              "      <td>[, to, achiev, the, kingdom, vision, in, the, sustain, of, econom, power, social, develop, and, ...</td>\n",
              "      <td>[, to, achieve, the, kingdom, vision, in, the, sustainability, of, economic, power, social, deve...</td>\n",
              "    </tr>\n",
              "    <tr>\n",
              "      <th>2</th>\n",
              "      <td>1336950027005161473</td>\n",
              "      <td>2020-12-10 08:25:00</td>\n",
              "      <td>[achieve, kingdom, vision, sustainability, economic, power, social, development, knowledge, tran...</td>\n",
              "      <td>5</td>\n",
              "      <td>False</td>\n",
              "      <td>Jeddah, Saudi Arabia</td>\n",
              "      <td>en</td>\n",
              "      <td>Saudia airlines</td>\n",
              "      <td>[to, achiev, the, kingdom, vision, in, the, sustain, of, econom, power, social, develop, and, kn...</td>\n",
              "      <td>[to, achieve, the, kingdom, vision, in, the, sustainability, of, economic, power, social, develo...</td>\n",
              "    </tr>\n",
              "    <tr>\n",
              "      <th>540</th>\n",
              "      <td>1336909751532351489</td>\n",
              "      <td>2020-12-10 05:44:58</td>\n",
              "      <td>[dmampget, mark, java, database, accounting, finance, business, economics, statistic, calculus]</td>\n",
              "      <td>0</td>\n",
              "      <td>False</td>\n",
              "      <td>NaN</td>\n",
              "      <td>en</td>\n",
              "      <td>Saudia airlines</td>\n",
              "      <td>[dmampget, mark, java, databas, account, financ, busi, econom, statist, calculu, ]</td>\n",
              "      <td>[dmampget, mark, java, database, accounting, finance, business, economics, statistic, calculus, ]</td>\n",
              "    </tr>\n",
              "    <tr>\n",
              "      <th>541</th>\n",
              "      <td>1336827127824572422</td>\n",
              "      <td>2020-12-10 00:16:38</td>\n",
              "      <td>[illdo, math, stat, marketing, accounting, onlineexam, textawhatsapp, homework, assignment, onlin]</td>\n",
              "      <td>0</td>\n",
              "      <td>False</td>\n",
              "      <td>NaN</td>\n",
              "      <td>en</td>\n",
              "      <td>Saudia airlines</td>\n",
              "      <td>[ctr, illdo, ur, math, stat, market, account, onlineexam, textawhatsapp, homework, assign, onlin, ]</td>\n",
              "      <td>[ctr, illdo, ur, math, stat, marketing, accounting, onlineexam, textawhatsapp, homework, assignm...</td>\n",
              "    </tr>\n",
              "    <tr>\n",
              "      <th>542</th>\n",
              "      <td>1336826958764789762</td>\n",
              "      <td>2020-12-10 00:15:58</td>\n",
              "      <td>[illdo, math, stat, marketing, accounting, onlineexam, textawhatsapp, homework, assignment]</td>\n",
              "      <td>2</td>\n",
              "      <td>False</td>\n",
              "      <td>United States</td>\n",
              "      <td>en</td>\n",
              "      <td>Saudia airlines</td>\n",
              "      <td>[illdo, ur, math, stat, market, account, onlineexam, textawhatsapp, homework, assign, ]</td>\n",
              "      <td>[illdo, ur, math, stat, marketing, accounting, onlineexam, textawhatsapp, homework, assignment, ]</td>\n",
              "    </tr>\n",
              "  </tbody>\n",
              "</table>\n",
              "</div>"
            ],
            "text/plain": [
              "                tweet_id  ...                                                                                     Tweet_lemmatized\n",
              "0    1336979288470548481  ...  [, to, achieve, the, kingdom, vision, in, the, sustainability, of, economic, power, social, deve...\n",
              "2    1336950027005161473  ...  [to, achieve, the, kingdom, vision, in, the, sustainability, of, economic, power, social, develo...\n",
              "540  1336909751532351489  ...    [dmampget, mark, java, database, accounting, finance, business, economics, statistic, calculus, ]\n",
              "541  1336827127824572422  ...  [ctr, illdo, ur, math, stat, marketing, accounting, onlineexam, textawhatsapp, homework, assignm...\n",
              "542  1336826958764789762  ...    [illdo, ur, math, stat, marketing, accounting, onlineexam, textawhatsapp, homework, assignment, ]\n",
              "\n",
              "[5 rows x 10 columns]"
            ]
          },
          "metadata": {
            "tags": []
          },
          "execution_count": 179
        }
      ]
    },
    {
      "cell_type": "markdown",
      "metadata": {
        "id": "9a6u7R3N3tz2"
      },
      "source": [
        "#Convert tokens into string"
      ]
    },
    {
      "cell_type": "code",
      "metadata": {
        "id": "2tauy8rU3QdQ"
      },
      "source": [
        "def join_tokens(tokens):\n",
        "  document = \" \".join([word for word in tokens if not word.isdigit()])\n",
        "  return document"
      ],
      "execution_count": null,
      "outputs": []
    },
    {
      "cell_type": "code",
      "metadata": {
        "id": "a38Hh_XjL7tw",
        "colab": {
          "base_uri": "https://localhost:8080/",
          "height": 904
        },
        "outputId": "45794d8f-586e-4d36-a222-34adc1e5a001"
      },
      "source": [
        "airline['string_text'] = airline['text'].apply(lambda x: join_tokens(x))\n",
        "airline.head(5)"
      ],
      "execution_count": null,
      "outputs": [
        {
          "output_type": "execute_result",
          "data": {
            "text/html": [
              "<div>\n",
              "<style scoped>\n",
              "    .dataframe tbody tr th:only-of-type {\n",
              "        vertical-align: middle;\n",
              "    }\n",
              "\n",
              "    .dataframe tbody tr th {\n",
              "        vertical-align: top;\n",
              "    }\n",
              "\n",
              "    .dataframe thead th {\n",
              "        text-align: right;\n",
              "    }\n",
              "</style>\n",
              "<table border=\"1\" class=\"dataframe\">\n",
              "  <thead>\n",
              "    <tr style=\"text-align: right;\">\n",
              "      <th></th>\n",
              "      <th>tweet_id</th>\n",
              "      <th>created_at</th>\n",
              "      <th>text</th>\n",
              "      <th>likes</th>\n",
              "      <th>retweeted</th>\n",
              "      <th>location</th>\n",
              "      <th>language</th>\n",
              "      <th>airline</th>\n",
              "      <th>Tweet_stemmed</th>\n",
              "      <th>Tweet_lemmatized</th>\n",
              "      <th>string_text</th>\n",
              "    </tr>\n",
              "  </thead>\n",
              "  <tbody>\n",
              "    <tr>\n",
              "      <th>0</th>\n",
              "      <td>1336979288470548481</td>\n",
              "      <td>2020-12-10 10:21:16</td>\n",
              "      <td>[achieve, kingdom, vision, sustainability, economic, power, social, development, knowledge, tran...</td>\n",
              "      <td>0</td>\n",
              "      <td>False</td>\n",
              "      <td>RIYADH,SAUDI ARABIA</td>\n",
              "      <td>en</td>\n",
              "      <td>Saudia airlines</td>\n",
              "      <td>[, to, achiev, the, kingdom, vision, in, the, sustain, of, econom, power, social, develop, and, ...</td>\n",
              "      <td>[, to, achieve, the, kingdom, vision, in, the, sustainability, of, economic, power, social, deve...</td>\n",
              "      <td>achieve kingdom vision sustainability economic power social development knowledge transfer</td>\n",
              "    </tr>\n",
              "    <tr>\n",
              "      <th>2</th>\n",
              "      <td>1336950027005161473</td>\n",
              "      <td>2020-12-10 08:25:00</td>\n",
              "      <td>[achieve, kingdom, vision, sustainability, economic, power, social, development, knowledge, tran...</td>\n",
              "      <td>5</td>\n",
              "      <td>False</td>\n",
              "      <td>Jeddah, Saudi Arabia</td>\n",
              "      <td>en</td>\n",
              "      <td>Saudia airlines</td>\n",
              "      <td>[to, achiev, the, kingdom, vision, in, the, sustain, of, econom, power, social, develop, and, kn...</td>\n",
              "      <td>[to, achieve, the, kingdom, vision, in, the, sustainability, of, economic, power, social, develo...</td>\n",
              "      <td>achieve kingdom vision sustainability economic power social development knowledge transfer aviat...</td>\n",
              "    </tr>\n",
              "    <tr>\n",
              "      <th>540</th>\n",
              "      <td>1336909751532351489</td>\n",
              "      <td>2020-12-10 05:44:58</td>\n",
              "      <td>[dmampget, mark, java, database, accounting, finance, business, economics, statistic, calculus]</td>\n",
              "      <td>0</td>\n",
              "      <td>False</td>\n",
              "      <td>NaN</td>\n",
              "      <td>en</td>\n",
              "      <td>Saudia airlines</td>\n",
              "      <td>[dmampget, mark, java, databas, account, financ, busi, econom, statist, calculu, ]</td>\n",
              "      <td>[dmampget, mark, java, database, accounting, finance, business, economics, statistic, calculus, ]</td>\n",
              "      <td>dmampget mark java database accounting finance business economics statistic calculus</td>\n",
              "    </tr>\n",
              "    <tr>\n",
              "      <th>541</th>\n",
              "      <td>1336827127824572422</td>\n",
              "      <td>2020-12-10 00:16:38</td>\n",
              "      <td>[illdo, math, stat, marketing, accounting, onlineexam, textawhatsapp, homework, assignment, onlin]</td>\n",
              "      <td>0</td>\n",
              "      <td>False</td>\n",
              "      <td>NaN</td>\n",
              "      <td>en</td>\n",
              "      <td>Saudia airlines</td>\n",
              "      <td>[ctr, illdo, ur, math, stat, market, account, onlineexam, textawhatsapp, homework, assign, onlin, ]</td>\n",
              "      <td>[ctr, illdo, ur, math, stat, marketing, accounting, onlineexam, textawhatsapp, homework, assignm...</td>\n",
              "      <td>illdo math stat marketing accounting onlineexam textawhatsapp homework assignment onlin</td>\n",
              "    </tr>\n",
              "    <tr>\n",
              "      <th>542</th>\n",
              "      <td>1336826958764789762</td>\n",
              "      <td>2020-12-10 00:15:58</td>\n",
              "      <td>[illdo, math, stat, marketing, accounting, onlineexam, textawhatsapp, homework, assignment]</td>\n",
              "      <td>2</td>\n",
              "      <td>False</td>\n",
              "      <td>United States</td>\n",
              "      <td>en</td>\n",
              "      <td>Saudia airlines</td>\n",
              "      <td>[illdo, ur, math, stat, market, account, onlineexam, textawhatsapp, homework, assign, ]</td>\n",
              "      <td>[illdo, ur, math, stat, marketing, accounting, onlineexam, textawhatsapp, homework, assignment, ]</td>\n",
              "      <td>illdo math stat marketing accounting onlineexam textawhatsapp homework assignment</td>\n",
              "    </tr>\n",
              "  </tbody>\n",
              "</table>\n",
              "</div>"
            ],
            "text/plain": [
              "                tweet_id  ...                                                                                          string_text\n",
              "0    1336979288470548481  ...           achieve kingdom vision sustainability economic power social development knowledge transfer\n",
              "2    1336950027005161473  ...  achieve kingdom vision sustainability economic power social development knowledge transfer aviat...\n",
              "540  1336909751532351489  ...                 dmampget mark java database accounting finance business economics statistic calculus\n",
              "541  1336827127824572422  ...              illdo math stat marketing accounting onlineexam textawhatsapp homework assignment onlin\n",
              "542  1336826958764789762  ...                    illdo math stat marketing accounting onlineexam textawhatsapp homework assignment\n",
              "\n",
              "[5 rows x 11 columns]"
            ]
          },
          "metadata": {
            "tags": []
          },
          "execution_count": 180
        }
      ]
    },
    {
      "cell_type": "markdown",
      "metadata": {
        "id": "SqgRsUYhR7Gm"
      },
      "source": [
        "#spelling correction"
      ]
    },
    {
      "cell_type": "code",
      "metadata": {
        "colab": {
          "base_uri": "https://localhost:8080/",
          "height": 358
        },
        "id": "-_zCIB9aXGNz",
        "outputId": "1eee5b44-5eee-48eb-ad40-1c178856cec5"
      },
      "source": [
        "from textblob import TextBlob\n",
        "airline['text'] = airline['text'].apply(lambda x: str(TextBlob(x).correct()))"
      ],
      "execution_count": null,
      "outputs": [
        {
          "output_type": "error",
          "ename": "KeyboardInterrupt",
          "evalue": "ignored",
          "traceback": [
            "\u001b[0;31m---------------------------------------------------------------------------\u001b[0m",
            "\u001b[0;31mKeyboardInterrupt\u001b[0m                         Traceback (most recent call last)",
            "\u001b[0;32m<ipython-input-168-f2ddd8e99fbc>\u001b[0m in \u001b[0;36m<module>\u001b[0;34m()\u001b[0m\n\u001b[1;32m      1\u001b[0m \u001b[0;32mfrom\u001b[0m \u001b[0mtextblob\u001b[0m \u001b[0;32mimport\u001b[0m \u001b[0mTextBlob\u001b[0m\u001b[0;34m\u001b[0m\u001b[0;34m\u001b[0m\u001b[0m\n\u001b[0;32m----> 2\u001b[0;31m \u001b[0mairline\u001b[0m\u001b[0;34m[\u001b[0m\u001b[0;34m'text'\u001b[0m\u001b[0;34m]\u001b[0m \u001b[0;34m=\u001b[0m \u001b[0mairline\u001b[0m\u001b[0;34m[\u001b[0m\u001b[0;34m'text'\u001b[0m\u001b[0;34m]\u001b[0m\u001b[0;34m.\u001b[0m\u001b[0mapply\u001b[0m\u001b[0;34m(\u001b[0m\u001b[0;32mlambda\u001b[0m \u001b[0mx\u001b[0m\u001b[0;34m:\u001b[0m \u001b[0mstr\u001b[0m\u001b[0;34m(\u001b[0m\u001b[0mTextBlob\u001b[0m\u001b[0;34m(\u001b[0m\u001b[0mx\u001b[0m\u001b[0;34m)\u001b[0m\u001b[0;34m.\u001b[0m\u001b[0mcorrect\u001b[0m\u001b[0;34m(\u001b[0m\u001b[0;34m)\u001b[0m\u001b[0;34m)\u001b[0m\u001b[0;34m)\u001b[0m\u001b[0;34m\u001b[0m\u001b[0;34m\u001b[0m\u001b[0m\n\u001b[0m",
            "\u001b[0;32m/usr/local/lib/python3.6/dist-packages/pandas/core/series.py\u001b[0m in \u001b[0;36mapply\u001b[0;34m(self, func, convert_dtype, args, **kwds)\u001b[0m\n\u001b[1;32m   4211\u001b[0m             \u001b[0;32melse\u001b[0m\u001b[0;34m:\u001b[0m\u001b[0;34m\u001b[0m\u001b[0;34m\u001b[0m\u001b[0m\n\u001b[1;32m   4212\u001b[0m                 \u001b[0mvalues\u001b[0m \u001b[0;34m=\u001b[0m \u001b[0mself\u001b[0m\u001b[0;34m.\u001b[0m\u001b[0mastype\u001b[0m\u001b[0;34m(\u001b[0m\u001b[0mobject\u001b[0m\u001b[0;34m)\u001b[0m\u001b[0;34m.\u001b[0m\u001b[0m_values\u001b[0m\u001b[0;34m\u001b[0m\u001b[0;34m\u001b[0m\u001b[0m\n\u001b[0;32m-> 4213\u001b[0;31m                 \u001b[0mmapped\u001b[0m \u001b[0;34m=\u001b[0m \u001b[0mlib\u001b[0m\u001b[0;34m.\u001b[0m\u001b[0mmap_infer\u001b[0m\u001b[0;34m(\u001b[0m\u001b[0mvalues\u001b[0m\u001b[0;34m,\u001b[0m \u001b[0mf\u001b[0m\u001b[0;34m,\u001b[0m \u001b[0mconvert\u001b[0m\u001b[0;34m=\u001b[0m\u001b[0mconvert_dtype\u001b[0m\u001b[0;34m)\u001b[0m\u001b[0;34m\u001b[0m\u001b[0;34m\u001b[0m\u001b[0m\n\u001b[0m\u001b[1;32m   4214\u001b[0m \u001b[0;34m\u001b[0m\u001b[0m\n\u001b[1;32m   4215\u001b[0m         \u001b[0;32mif\u001b[0m \u001b[0mlen\u001b[0m\u001b[0;34m(\u001b[0m\u001b[0mmapped\u001b[0m\u001b[0;34m)\u001b[0m \u001b[0;32mand\u001b[0m \u001b[0misinstance\u001b[0m\u001b[0;34m(\u001b[0m\u001b[0mmapped\u001b[0m\u001b[0;34m[\u001b[0m\u001b[0;36m0\u001b[0m\u001b[0;34m]\u001b[0m\u001b[0;34m,\u001b[0m \u001b[0mSeries\u001b[0m\u001b[0;34m)\u001b[0m\u001b[0;34m:\u001b[0m\u001b[0;34m\u001b[0m\u001b[0;34m\u001b[0m\u001b[0m\n",
            "\u001b[0;32mpandas/_libs/lib.pyx\u001b[0m in \u001b[0;36mpandas._libs.lib.map_infer\u001b[0;34m()\u001b[0m\n",
            "\u001b[0;32m<ipython-input-168-f2ddd8e99fbc>\u001b[0m in \u001b[0;36m<lambda>\u001b[0;34m(x)\u001b[0m\n\u001b[1;32m      1\u001b[0m \u001b[0;32mfrom\u001b[0m \u001b[0mtextblob\u001b[0m \u001b[0;32mimport\u001b[0m \u001b[0mTextBlob\u001b[0m\u001b[0;34m\u001b[0m\u001b[0;34m\u001b[0m\u001b[0m\n\u001b[0;32m----> 2\u001b[0;31m \u001b[0mairline\u001b[0m\u001b[0;34m[\u001b[0m\u001b[0;34m'text'\u001b[0m\u001b[0;34m]\u001b[0m \u001b[0;34m=\u001b[0m \u001b[0mairline\u001b[0m\u001b[0;34m[\u001b[0m\u001b[0;34m'text'\u001b[0m\u001b[0;34m]\u001b[0m\u001b[0;34m.\u001b[0m\u001b[0mapply\u001b[0m\u001b[0;34m(\u001b[0m\u001b[0;32mlambda\u001b[0m \u001b[0mx\u001b[0m\u001b[0;34m:\u001b[0m \u001b[0mstr\u001b[0m\u001b[0;34m(\u001b[0m\u001b[0mTextBlob\u001b[0m\u001b[0;34m(\u001b[0m\u001b[0mx\u001b[0m\u001b[0;34m)\u001b[0m\u001b[0;34m.\u001b[0m\u001b[0mcorrect\u001b[0m\u001b[0;34m(\u001b[0m\u001b[0;34m)\u001b[0m\u001b[0;34m)\u001b[0m\u001b[0;34m)\u001b[0m\u001b[0;34m\u001b[0m\u001b[0;34m\u001b[0m\u001b[0m\n\u001b[0m",
            "\u001b[0;32m/usr/local/lib/python3.6/dist-packages/textblob/blob.py\u001b[0m in \u001b[0;36mcorrect\u001b[0;34m(self)\u001b[0m\n\u001b[1;32m    578\u001b[0m         \u001b[0mtokens\u001b[0m \u001b[0;34m=\u001b[0m \u001b[0mnltk\u001b[0m\u001b[0;34m.\u001b[0m\u001b[0mtokenize\u001b[0m\u001b[0;34m.\u001b[0m\u001b[0mregexp_tokenize\u001b[0m\u001b[0;34m(\u001b[0m\u001b[0mself\u001b[0m\u001b[0;34m.\u001b[0m\u001b[0mraw\u001b[0m\u001b[0;34m,\u001b[0m \u001b[0;34mr\"\\w+|[^\\w\\s]|\\s\"\u001b[0m\u001b[0;34m)\u001b[0m\u001b[0;34m\u001b[0m\u001b[0;34m\u001b[0m\u001b[0m\n\u001b[1;32m    579\u001b[0m         \u001b[0mcorrected\u001b[0m \u001b[0;34m=\u001b[0m \u001b[0;34m(\u001b[0m\u001b[0mWord\u001b[0m\u001b[0;34m(\u001b[0m\u001b[0mw\u001b[0m\u001b[0;34m)\u001b[0m\u001b[0;34m.\u001b[0m\u001b[0mcorrect\u001b[0m\u001b[0;34m(\u001b[0m\u001b[0;34m)\u001b[0m \u001b[0;32mfor\u001b[0m \u001b[0mw\u001b[0m \u001b[0;32min\u001b[0m \u001b[0mtokens\u001b[0m\u001b[0;34m)\u001b[0m\u001b[0;34m\u001b[0m\u001b[0;34m\u001b[0m\u001b[0m\n\u001b[0;32m--> 580\u001b[0;31m         \u001b[0mret\u001b[0m \u001b[0;34m=\u001b[0m \u001b[0;34m''\u001b[0m\u001b[0;34m.\u001b[0m\u001b[0mjoin\u001b[0m\u001b[0;34m(\u001b[0m\u001b[0mcorrected\u001b[0m\u001b[0;34m)\u001b[0m\u001b[0;34m\u001b[0m\u001b[0;34m\u001b[0m\u001b[0m\n\u001b[0m\u001b[1;32m    581\u001b[0m         \u001b[0;32mreturn\u001b[0m \u001b[0mself\u001b[0m\u001b[0;34m.\u001b[0m\u001b[0m__class__\u001b[0m\u001b[0;34m(\u001b[0m\u001b[0mret\u001b[0m\u001b[0;34m)\u001b[0m\u001b[0;34m\u001b[0m\u001b[0;34m\u001b[0m\u001b[0m\n\u001b[1;32m    582\u001b[0m \u001b[0;34m\u001b[0m\u001b[0m\n",
            "\u001b[0;32m/usr/local/lib/python3.6/dist-packages/textblob/blob.py\u001b[0m in \u001b[0;36m<genexpr>\u001b[0;34m(.0)\u001b[0m\n\u001b[1;32m    577\u001b[0m         \u001b[0;31m# regex matches: word or punctuation or whitespace\u001b[0m\u001b[0;34m\u001b[0m\u001b[0;34m\u001b[0m\u001b[0;34m\u001b[0m\u001b[0m\n\u001b[1;32m    578\u001b[0m         \u001b[0mtokens\u001b[0m \u001b[0;34m=\u001b[0m \u001b[0mnltk\u001b[0m\u001b[0;34m.\u001b[0m\u001b[0mtokenize\u001b[0m\u001b[0;34m.\u001b[0m\u001b[0mregexp_tokenize\u001b[0m\u001b[0;34m(\u001b[0m\u001b[0mself\u001b[0m\u001b[0;34m.\u001b[0m\u001b[0mraw\u001b[0m\u001b[0;34m,\u001b[0m \u001b[0;34mr\"\\w+|[^\\w\\s]|\\s\"\u001b[0m\u001b[0;34m)\u001b[0m\u001b[0;34m\u001b[0m\u001b[0;34m\u001b[0m\u001b[0m\n\u001b[0;32m--> 579\u001b[0;31m         \u001b[0mcorrected\u001b[0m \u001b[0;34m=\u001b[0m \u001b[0;34m(\u001b[0m\u001b[0mWord\u001b[0m\u001b[0;34m(\u001b[0m\u001b[0mw\u001b[0m\u001b[0;34m)\u001b[0m\u001b[0;34m.\u001b[0m\u001b[0mcorrect\u001b[0m\u001b[0;34m(\u001b[0m\u001b[0;34m)\u001b[0m \u001b[0;32mfor\u001b[0m \u001b[0mw\u001b[0m \u001b[0;32min\u001b[0m \u001b[0mtokens\u001b[0m\u001b[0;34m)\u001b[0m\u001b[0;34m\u001b[0m\u001b[0;34m\u001b[0m\u001b[0m\n\u001b[0m\u001b[1;32m    580\u001b[0m         \u001b[0mret\u001b[0m \u001b[0;34m=\u001b[0m \u001b[0;34m''\u001b[0m\u001b[0;34m.\u001b[0m\u001b[0mjoin\u001b[0m\u001b[0;34m(\u001b[0m\u001b[0mcorrected\u001b[0m\u001b[0;34m)\u001b[0m\u001b[0;34m\u001b[0m\u001b[0;34m\u001b[0m\u001b[0m\n\u001b[1;32m    581\u001b[0m         \u001b[0;32mreturn\u001b[0m \u001b[0mself\u001b[0m\u001b[0;34m.\u001b[0m\u001b[0m__class__\u001b[0m\u001b[0;34m(\u001b[0m\u001b[0mret\u001b[0m\u001b[0;34m)\u001b[0m\u001b[0;34m\u001b[0m\u001b[0;34m\u001b[0m\u001b[0m\n",
            "\u001b[0;32m/usr/local/lib/python3.6/dist-packages/textblob/blob.py\u001b[0m in \u001b[0;36mcorrect\u001b[0;34m(self)\u001b[0m\n\u001b[1;32m    125\u001b[0m         \u001b[0;34m.\u001b[0m\u001b[0;34m.\u001b[0m \u001b[0mversionadded\u001b[0m\u001b[0;34m:\u001b[0m\u001b[0;34m:\u001b[0m \u001b[0;36m0.6\u001b[0m\u001b[0;36m.0\u001b[0m\u001b[0;34m\u001b[0m\u001b[0;34m\u001b[0m\u001b[0m\n\u001b[1;32m    126\u001b[0m         '''\n\u001b[0;32m--> 127\u001b[0;31m         \u001b[0;32mreturn\u001b[0m \u001b[0mWord\u001b[0m\u001b[0;34m(\u001b[0m\u001b[0mself\u001b[0m\u001b[0;34m.\u001b[0m\u001b[0mspellcheck\u001b[0m\u001b[0;34m(\u001b[0m\u001b[0;34m)\u001b[0m\u001b[0;34m[\u001b[0m\u001b[0;36m0\u001b[0m\u001b[0;34m]\u001b[0m\u001b[0;34m[\u001b[0m\u001b[0;36m0\u001b[0m\u001b[0;34m]\u001b[0m\u001b[0;34m)\u001b[0m\u001b[0;34m\u001b[0m\u001b[0;34m\u001b[0m\u001b[0m\n\u001b[0m\u001b[1;32m    128\u001b[0m \u001b[0;34m\u001b[0m\u001b[0m\n\u001b[1;32m    129\u001b[0m     \u001b[0;34m@\u001b[0m\u001b[0mcached_property\u001b[0m\u001b[0;34m\u001b[0m\u001b[0;34m\u001b[0m\u001b[0m\n",
            "\u001b[0;32m/usr/local/lib/python3.6/dist-packages/textblob/blob.py\u001b[0m in \u001b[0;36mspellcheck\u001b[0;34m(self)\u001b[0m\n\u001b[1;32m    117\u001b[0m         \u001b[0;34m.\u001b[0m\u001b[0;34m.\u001b[0m \u001b[0mversionadded\u001b[0m\u001b[0;34m:\u001b[0m\u001b[0;34m:\u001b[0m \u001b[0;36m0.6\u001b[0m\u001b[0;36m.0\u001b[0m\u001b[0;34m\u001b[0m\u001b[0;34m\u001b[0m\u001b[0m\n\u001b[1;32m    118\u001b[0m         '''\n\u001b[0;32m--> 119\u001b[0;31m         \u001b[0;32mreturn\u001b[0m \u001b[0msuggest\u001b[0m\u001b[0;34m(\u001b[0m\u001b[0mself\u001b[0m\u001b[0;34m.\u001b[0m\u001b[0mstring\u001b[0m\u001b[0;34m)\u001b[0m\u001b[0;34m\u001b[0m\u001b[0;34m\u001b[0m\u001b[0m\n\u001b[0m\u001b[1;32m    120\u001b[0m \u001b[0;34m\u001b[0m\u001b[0m\n\u001b[1;32m    121\u001b[0m     \u001b[0;32mdef\u001b[0m \u001b[0mcorrect\u001b[0m\u001b[0;34m(\u001b[0m\u001b[0mself\u001b[0m\u001b[0;34m)\u001b[0m\u001b[0;34m:\u001b[0m\u001b[0;34m\u001b[0m\u001b[0;34m\u001b[0m\u001b[0m\n",
            "\u001b[0;32m/usr/local/lib/python3.6/dist-packages/textblob/en/__init__.py\u001b[0m in \u001b[0;36msuggest\u001b[0;34m(w)\u001b[0m\n\u001b[1;32m    121\u001b[0m     \"\"\" Returns a list of (word, confidence)-tuples of spelling corrections.\n\u001b[1;32m    122\u001b[0m     \"\"\"\n\u001b[0;32m--> 123\u001b[0;31m     \u001b[0;32mreturn\u001b[0m \u001b[0mspelling\u001b[0m\u001b[0;34m.\u001b[0m\u001b[0msuggest\u001b[0m\u001b[0;34m(\u001b[0m\u001b[0mw\u001b[0m\u001b[0;34m)\u001b[0m\u001b[0;34m\u001b[0m\u001b[0;34m\u001b[0m\u001b[0m\n\u001b[0m\u001b[1;32m    124\u001b[0m \u001b[0;34m\u001b[0m\u001b[0m\n\u001b[1;32m    125\u001b[0m \u001b[0;32mdef\u001b[0m \u001b[0mpolarity\u001b[0m\u001b[0;34m(\u001b[0m\u001b[0ms\u001b[0m\u001b[0;34m,\u001b[0m \u001b[0;34m**\u001b[0m\u001b[0mkwargs\u001b[0m\u001b[0;34m)\u001b[0m\u001b[0;34m:\u001b[0m\u001b[0;34m\u001b[0m\u001b[0;34m\u001b[0m\u001b[0m\n",
            "\u001b[0;32m/usr/local/lib/python3.6/dist-packages/textblob/_text.py\u001b[0m in \u001b[0;36msuggest\u001b[0;34m(self, w)\u001b[0m\n\u001b[1;32m   1396\u001b[0m         \u001b[0mcandidates\u001b[0m \u001b[0;34m=\u001b[0m \u001b[0mself\u001b[0m\u001b[0;34m.\u001b[0m\u001b[0m_known\u001b[0m\u001b[0;34m(\u001b[0m\u001b[0;34m[\u001b[0m\u001b[0mw\u001b[0m\u001b[0;34m]\u001b[0m\u001b[0;34m)\u001b[0m\u001b[0;31m \u001b[0m\u001b[0;31m\\\u001b[0m\u001b[0;34m\u001b[0m\u001b[0;34m\u001b[0m\u001b[0m\n\u001b[1;32m   1397\u001b[0m                   \u001b[0;32mor\u001b[0m \u001b[0mself\u001b[0m\u001b[0;34m.\u001b[0m\u001b[0m_known\u001b[0m\u001b[0;34m(\u001b[0m\u001b[0mself\u001b[0m\u001b[0;34m.\u001b[0m\u001b[0m_edit1\u001b[0m\u001b[0;34m(\u001b[0m\u001b[0mw\u001b[0m\u001b[0;34m)\u001b[0m\u001b[0;34m)\u001b[0m\u001b[0;31m \u001b[0m\u001b[0;31m\\\u001b[0m\u001b[0;34m\u001b[0m\u001b[0;34m\u001b[0m\u001b[0m\n\u001b[0;32m-> 1398\u001b[0;31m                   \u001b[0;32mor\u001b[0m \u001b[0mself\u001b[0m\u001b[0;34m.\u001b[0m\u001b[0m_known\u001b[0m\u001b[0;34m(\u001b[0m\u001b[0mself\u001b[0m\u001b[0;34m.\u001b[0m\u001b[0m_edit2\u001b[0m\u001b[0;34m(\u001b[0m\u001b[0mw\u001b[0m\u001b[0;34m)\u001b[0m\u001b[0;34m)\u001b[0m\u001b[0;31m \u001b[0m\u001b[0;31m\\\u001b[0m\u001b[0;34m\u001b[0m\u001b[0;34m\u001b[0m\u001b[0m\n\u001b[0m\u001b[1;32m   1399\u001b[0m                   \u001b[0;32mor\u001b[0m \u001b[0;34m[\u001b[0m\u001b[0mw\u001b[0m\u001b[0;34m]\u001b[0m\u001b[0;34m\u001b[0m\u001b[0;34m\u001b[0m\u001b[0m\n\u001b[1;32m   1400\u001b[0m         \u001b[0mcandidates\u001b[0m \u001b[0;34m=\u001b[0m \u001b[0;34m[\u001b[0m\u001b[0;34m(\u001b[0m\u001b[0mself\u001b[0m\u001b[0;34m.\u001b[0m\u001b[0mget\u001b[0m\u001b[0;34m(\u001b[0m\u001b[0mc\u001b[0m\u001b[0;34m,\u001b[0m \u001b[0;36m0.0\u001b[0m\u001b[0;34m)\u001b[0m\u001b[0;34m,\u001b[0m \u001b[0mc\u001b[0m\u001b[0;34m)\u001b[0m \u001b[0;32mfor\u001b[0m \u001b[0mc\u001b[0m \u001b[0;32min\u001b[0m \u001b[0mcandidates\u001b[0m\u001b[0;34m]\u001b[0m\u001b[0;34m\u001b[0m\u001b[0;34m\u001b[0m\u001b[0m\n",
            "\u001b[0;32m/usr/local/lib/python3.6/dist-packages/textblob/_text.py\u001b[0m in \u001b[0;36m_edit2\u001b[0;34m(self, w)\u001b[0m\n\u001b[1;32m   1373\u001b[0m         \u001b[0;31m# Of all spelling errors, 99% is covered by edit distance 2.\u001b[0m\u001b[0;34m\u001b[0m\u001b[0;34m\u001b[0m\u001b[0;34m\u001b[0m\u001b[0m\n\u001b[1;32m   1374\u001b[0m         \u001b[0;31m# Only keep candidates that are actually known words (20% speedup).\u001b[0m\u001b[0;34m\u001b[0m\u001b[0;34m\u001b[0m\u001b[0;34m\u001b[0m\u001b[0m\n\u001b[0;32m-> 1375\u001b[0;31m         \u001b[0;32mreturn\u001b[0m \u001b[0mset\u001b[0m\u001b[0;34m(\u001b[0m\u001b[0me2\u001b[0m \u001b[0;32mfor\u001b[0m \u001b[0me1\u001b[0m \u001b[0;32min\u001b[0m \u001b[0mself\u001b[0m\u001b[0;34m.\u001b[0m\u001b[0m_edit1\u001b[0m\u001b[0;34m(\u001b[0m\u001b[0mw\u001b[0m\u001b[0;34m)\u001b[0m \u001b[0;32mfor\u001b[0m \u001b[0me2\u001b[0m \u001b[0;32min\u001b[0m \u001b[0mself\u001b[0m\u001b[0;34m.\u001b[0m\u001b[0m_edit1\u001b[0m\u001b[0;34m(\u001b[0m\u001b[0me1\u001b[0m\u001b[0;34m)\u001b[0m \u001b[0;32mif\u001b[0m \u001b[0me2\u001b[0m \u001b[0;32min\u001b[0m \u001b[0mself\u001b[0m\u001b[0;34m)\u001b[0m\u001b[0;34m\u001b[0m\u001b[0;34m\u001b[0m\u001b[0m\n\u001b[0m\u001b[1;32m   1376\u001b[0m \u001b[0;34m\u001b[0m\u001b[0m\n\u001b[1;32m   1377\u001b[0m     \u001b[0;32mdef\u001b[0m \u001b[0m_known\u001b[0m\u001b[0;34m(\u001b[0m\u001b[0mself\u001b[0m\u001b[0;34m,\u001b[0m \u001b[0mwords\u001b[0m\u001b[0;34m=\u001b[0m\u001b[0;34m[\u001b[0m\u001b[0;34m]\u001b[0m\u001b[0;34m)\u001b[0m\u001b[0;34m:\u001b[0m\u001b[0;34m\u001b[0m\u001b[0;34m\u001b[0m\u001b[0m\n",
            "\u001b[0;32m/usr/local/lib/python3.6/dist-packages/textblob/_text.py\u001b[0m in \u001b[0;36m<genexpr>\u001b[0;34m(.0)\u001b[0m\n\u001b[1;32m   1373\u001b[0m         \u001b[0;31m# Of all spelling errors, 99% is covered by edit distance 2.\u001b[0m\u001b[0;34m\u001b[0m\u001b[0;34m\u001b[0m\u001b[0;34m\u001b[0m\u001b[0m\n\u001b[1;32m   1374\u001b[0m         \u001b[0;31m# Only keep candidates that are actually known words (20% speedup).\u001b[0m\u001b[0;34m\u001b[0m\u001b[0;34m\u001b[0m\u001b[0;34m\u001b[0m\u001b[0m\n\u001b[0;32m-> 1375\u001b[0;31m         \u001b[0;32mreturn\u001b[0m \u001b[0mset\u001b[0m\u001b[0;34m(\u001b[0m\u001b[0me2\u001b[0m \u001b[0;32mfor\u001b[0m \u001b[0me1\u001b[0m \u001b[0;32min\u001b[0m \u001b[0mself\u001b[0m\u001b[0;34m.\u001b[0m\u001b[0m_edit1\u001b[0m\u001b[0;34m(\u001b[0m\u001b[0mw\u001b[0m\u001b[0;34m)\u001b[0m \u001b[0;32mfor\u001b[0m \u001b[0me2\u001b[0m \u001b[0;32min\u001b[0m \u001b[0mself\u001b[0m\u001b[0;34m.\u001b[0m\u001b[0m_edit1\u001b[0m\u001b[0;34m(\u001b[0m\u001b[0me1\u001b[0m\u001b[0;34m)\u001b[0m \u001b[0;32mif\u001b[0m \u001b[0me2\u001b[0m \u001b[0;32min\u001b[0m \u001b[0mself\u001b[0m\u001b[0;34m)\u001b[0m\u001b[0;34m\u001b[0m\u001b[0;34m\u001b[0m\u001b[0m\n\u001b[0m\u001b[1;32m   1376\u001b[0m \u001b[0;34m\u001b[0m\u001b[0m\n\u001b[1;32m   1377\u001b[0m     \u001b[0;32mdef\u001b[0m \u001b[0m_known\u001b[0m\u001b[0;34m(\u001b[0m\u001b[0mself\u001b[0m\u001b[0;34m,\u001b[0m \u001b[0mwords\u001b[0m\u001b[0;34m=\u001b[0m\u001b[0;34m[\u001b[0m\u001b[0;34m]\u001b[0m\u001b[0;34m)\u001b[0m\u001b[0;34m:\u001b[0m\u001b[0;34m\u001b[0m\u001b[0;34m\u001b[0m\u001b[0m\n",
            "\u001b[0;32m/usr/local/lib/python3.6/dist-packages/textblob/_text.py\u001b[0m in \u001b[0;36m__contains__\u001b[0;34m(self, *args)\u001b[0m\n\u001b[1;32m     94\u001b[0m         \u001b[0;32mreturn\u001b[0m \u001b[0mself\u001b[0m\u001b[0;34m.\u001b[0m\u001b[0m_lazy\u001b[0m\u001b[0;34m(\u001b[0m\u001b[0;34m\"__iter__\"\u001b[0m\u001b[0;34m)\u001b[0m\u001b[0;34m\u001b[0m\u001b[0;34m\u001b[0m\u001b[0m\n\u001b[1;32m     95\u001b[0m     \u001b[0;32mdef\u001b[0m \u001b[0m__contains__\u001b[0m\u001b[0;34m(\u001b[0m\u001b[0mself\u001b[0m\u001b[0;34m,\u001b[0m \u001b[0;34m*\u001b[0m\u001b[0margs\u001b[0m\u001b[0;34m)\u001b[0m\u001b[0;34m:\u001b[0m\u001b[0;34m\u001b[0m\u001b[0;34m\u001b[0m\u001b[0m\n\u001b[0;32m---> 96\u001b[0;31m         \u001b[0;32mreturn\u001b[0m \u001b[0mself\u001b[0m\u001b[0;34m.\u001b[0m\u001b[0m_lazy\u001b[0m\u001b[0;34m(\u001b[0m\u001b[0;34m\"__contains__\"\u001b[0m\u001b[0;34m,\u001b[0m \u001b[0;34m*\u001b[0m\u001b[0margs\u001b[0m\u001b[0;34m)\u001b[0m\u001b[0;34m\u001b[0m\u001b[0;34m\u001b[0m\u001b[0m\n\u001b[0m\u001b[1;32m     97\u001b[0m     \u001b[0;32mdef\u001b[0m \u001b[0m__getitem__\u001b[0m\u001b[0;34m(\u001b[0m\u001b[0mself\u001b[0m\u001b[0;34m,\u001b[0m \u001b[0;34m*\u001b[0m\u001b[0margs\u001b[0m\u001b[0;34m)\u001b[0m\u001b[0;34m:\u001b[0m\u001b[0;34m\u001b[0m\u001b[0;34m\u001b[0m\u001b[0m\n\u001b[1;32m     98\u001b[0m         \u001b[0;32mreturn\u001b[0m \u001b[0mself\u001b[0m\u001b[0;34m.\u001b[0m\u001b[0m_lazy\u001b[0m\u001b[0;34m(\u001b[0m\u001b[0;34m\"__getitem__\"\u001b[0m\u001b[0;34m,\u001b[0m \u001b[0;34m*\u001b[0m\u001b[0margs\u001b[0m\u001b[0;34m)\u001b[0m\u001b[0;34m\u001b[0m\u001b[0;34m\u001b[0m\u001b[0m\n",
            "\u001b[0;32m/usr/local/lib/python3.6/dist-packages/textblob/_text.py\u001b[0m in \u001b[0;36m_lazy\u001b[0;34m(self, method, *args)\u001b[0m\n\u001b[1;32m     85\u001b[0m             \u001b[0mself\u001b[0m\u001b[0;34m.\u001b[0m\u001b[0mload\u001b[0m\u001b[0;34m(\u001b[0m\u001b[0;34m)\u001b[0m\u001b[0;34m\u001b[0m\u001b[0;34m\u001b[0m\u001b[0m\n\u001b[1;32m     86\u001b[0m             \u001b[0msetattr\u001b[0m\u001b[0;34m(\u001b[0m\u001b[0mself\u001b[0m\u001b[0;34m,\u001b[0m \u001b[0mmethod\u001b[0m\u001b[0;34m,\u001b[0m \u001b[0mtypes\u001b[0m\u001b[0;34m.\u001b[0m\u001b[0mMethodType\u001b[0m\u001b[0;34m(\u001b[0m\u001b[0mgetattr\u001b[0m\u001b[0;34m(\u001b[0m\u001b[0mdict\u001b[0m\u001b[0;34m,\u001b[0m \u001b[0mmethod\u001b[0m\u001b[0;34m)\u001b[0m\u001b[0;34m,\u001b[0m \u001b[0mself\u001b[0m\u001b[0;34m)\u001b[0m\u001b[0;34m)\u001b[0m\u001b[0;34m\u001b[0m\u001b[0;34m\u001b[0m\u001b[0m\n\u001b[0;32m---> 87\u001b[0;31m         \u001b[0;32mreturn\u001b[0m \u001b[0mgetattr\u001b[0m\u001b[0;34m(\u001b[0m\u001b[0mdict\u001b[0m\u001b[0;34m,\u001b[0m \u001b[0mmethod\u001b[0m\u001b[0;34m)\u001b[0m\u001b[0;34m(\u001b[0m\u001b[0mself\u001b[0m\u001b[0;34m,\u001b[0m \u001b[0;34m*\u001b[0m\u001b[0margs\u001b[0m\u001b[0;34m)\u001b[0m\u001b[0;34m\u001b[0m\u001b[0;34m\u001b[0m\u001b[0m\n\u001b[0m\u001b[1;32m     88\u001b[0m \u001b[0;34m\u001b[0m\u001b[0m\n\u001b[1;32m     89\u001b[0m     \u001b[0;32mdef\u001b[0m \u001b[0m__repr__\u001b[0m\u001b[0;34m(\u001b[0m\u001b[0mself\u001b[0m\u001b[0;34m)\u001b[0m\u001b[0;34m:\u001b[0m\u001b[0;34m\u001b[0m\u001b[0;34m\u001b[0m\u001b[0m\n",
            "\u001b[0;31mKeyboardInterrupt\u001b[0m: "
          ]
        }
      ]
    },
    {
      "cell_type": "markdown",
      "metadata": {
        "id": "gjOty28NqtDV"
      },
      "source": [
        "#Removing words with fewer frequencies"
      ]
    },
    {
      "cell_type": "code",
      "metadata": {
        "id": "bRJD86RqqwXh"
      },
      "source": [
        ""
      ],
      "execution_count": null,
      "outputs": []
    },
    {
      "cell_type": "markdown",
      "metadata": {
        "id": "pyg2c1BQqxL3"
      },
      "source": [
        "#Word cloud visualization"
      ]
    },
    {
      "cell_type": "code",
      "metadata": {
        "colab": {
          "base_uri": "https://localhost:8080/",
          "height": 420
        },
        "id": "uv4W2IuqZdj7",
        "outputId": "6d4658a7-e104-4d44-929f-8e92990dfe37"
      },
      "source": [
        "allWords = ''.join([str(twts) for twts in airline['text']])\n",
        "wrdcld = WordCloud(background_color='white',\n",
        "                      width=1500,\n",
        "                      height=1000).generate(allWords)\n",
        "plt.figure(figsize=(10,10))\n",
        "plt.imshow(wrdcld)\n",
        "plt.axis('off')\n",
        "plt.show"
      ],
      "execution_count": null,
      "outputs": [
        {
          "output_type": "execute_result",
          "data": {
            "text/plain": [
              "<function matplotlib.pyplot.show>"
            ]
          },
          "metadata": {
            "tags": []
          },
          "execution_count": 118
        },
        {
          "output_type": "display_data",
          "data": {
            "image/png": "[encoded data removed]",
            "text/plain": [
              "<Figure size 720x720 with 1 Axes>"
            ]
          },
          "metadata": {
            "tags": [],
            "needs_background": "light"
          }
        }
      ]
    },
    {
      "cell_type": "markdown",
      "metadata": {
        "id": "HHFvl8GxrUWm"
      },
      "source": [
        "Removing columns because we need only the last process from cleaning the data"
      ]
    },
    {
      "cell_type": "code",
      "metadata": {
        "id": "L7TAVcqSrThN"
      },
      "source": [
        "airline = airline.drop(['Tweet_lemmatized', 'Tweet_stemmed'], axis=1)"
      ],
      "execution_count": null,
      "outputs": []
    },
    {
      "cell_type": "code",
      "metadata": {
        "colab": {
          "base_uri": "https://localhost:8080/",
          "height": 374
        },
        "id": "cl2wbALr9bI-",
        "outputId": "a7e6084d-7e1d-4997-e10b-2514f118d434"
      },
      "source": [
        "airline.sample(5)"
      ],
      "execution_count": null,
      "outputs": [
        {
          "output_type": "execute_result",
          "data": {
            "text/html": [
              "<div>\n",
              "<style scoped>\n",
              "    .dataframe tbody tr th:only-of-type {\n",
              "        vertical-align: middle;\n",
              "    }\n",
              "\n",
              "    .dataframe tbody tr th {\n",
              "        vertical-align: top;\n",
              "    }\n",
              "\n",
              "    .dataframe thead th {\n",
              "        text-align: right;\n",
              "    }\n",
              "</style>\n",
              "<table border=\"1\" class=\"dataframe\">\n",
              "  <thead>\n",
              "    <tr style=\"text-align: right;\">\n",
              "      <th></th>\n",
              "      <th>tweet_id</th>\n",
              "      <th>created_at</th>\n",
              "      <th>text</th>\n",
              "      <th>likes</th>\n",
              "      <th>retweeted</th>\n",
              "      <th>location</th>\n",
              "      <th>language</th>\n",
              "      <th>airline</th>\n",
              "      <th>string_text</th>\n",
              "    </tr>\n",
              "  </thead>\n",
              "  <tbody>\n",
              "    <tr>\n",
              "      <th>25</th>\n",
              "      <td>1336778045240307717</td>\n",
              "      <td>2020-12-09 21:01:36</td>\n",
              "      <td>[virgin, landing, airport, spotter, spotter, spotting, planespotting, planespotter, virgin]</td>\n",
              "      <td>0</td>\n",
              "      <td>False</td>\n",
              "      <td>Worldwide</td>\n",
              "      <td>en</td>\n",
              "      <td>Virgin Atlantic</td>\n",
              "      <td>virgin landing airport spotter spotter spotting planespotting planespotter virgin</td>\n",
              "    </tr>\n",
              "    <tr>\n",
              "      <th>228</th>\n",
              "      <td>1333843324696932356</td>\n",
              "      <td>2020-12-01 18:40:04</td>\n",
              "      <td>[start, shipping, covid, vaccine, unitedairlines]</td>\n",
              "      <td>0</td>\n",
              "      <td>False</td>\n",
              "      <td>Toronto, Ontario</td>\n",
              "      <td>en</td>\n",
              "      <td>United Airlines</td>\n",
              "      <td>start shipping covid vaccine unitedairlines</td>\n",
              "    </tr>\n",
              "    <tr>\n",
              "      <th>76</th>\n",
              "      <td>1336440854509187072</td>\n",
              "      <td>2020-12-08 22:41:44</td>\n",
              "      <td>[think, along, rail, route, aircanada]</td>\n",
              "      <td>0</td>\n",
              "      <td>False</td>\n",
              "      <td>Corner Brook, NL</td>\n",
              "      <td>en</td>\n",
              "      <td>Air Canada</td>\n",
              "      <td>think along rail route aircanada</td>\n",
              "    </tr>\n",
              "    <tr>\n",
              "      <th>272</th>\n",
              "      <td>1336140622227390466</td>\n",
              "      <td>2020-12-08 02:48:43</td>\n",
              "      <td>[challenging, year, aviation, airbus, family, grew, angeles, avgeek]</td>\n",
              "      <td>1</td>\n",
              "      <td>False</td>\n",
              "      <td>Los Angeles, CA</td>\n",
              "      <td>en</td>\n",
              "      <td>Qatar airways</td>\n",
              "      <td>challenging year aviation airbus family grew angeles avgeek</td>\n",
              "    </tr>\n",
              "    <tr>\n",
              "      <th>557</th>\n",
              "      <td>1334340018844758018</td>\n",
              "      <td>2020-12-03 03:33:45</td>\n",
              "      <td>[understood, saudiarabia, open, space, qatarairways, flight, report]</td>\n",
              "      <td>10</td>\n",
              "      <td>False</td>\n",
              "      <td>Doha, Qatar</td>\n",
              "      <td>en</td>\n",
              "      <td>Qatar airways</td>\n",
              "      <td>understood saudiarabia open space qatarairways flight report</td>\n",
              "    </tr>\n",
              "  </tbody>\n",
              "</table>\n",
              "</div>"
            ],
            "text/plain": [
              "                tweet_id  ...                                                                        string_text\n",
              "25   1336778045240307717  ...  virgin landing airport spotter spotter spotting planespotting planespotter virgin\n",
              "228  1333843324696932356  ...                                        start shipping covid vaccine unitedairlines\n",
              "76   1336440854509187072  ...                                                   think along rail route aircanada\n",
              "272  1336140622227390466  ...                        challenging year aviation airbus family grew angeles avgeek\n",
              "557  1334340018844758018  ...                       understood saudiarabia open space qatarairways flight report\n",
              "\n",
              "[5 rows x 9 columns]"
            ]
          },
          "metadata": {
            "tags": []
          },
          "execution_count": 182
        }
      ]
    },
    {
      "cell_type": "markdown",
      "metadata": {
        "id": "Y2b2xDgsvOKM"
      },
      "source": [
        "#Save the data set"
      ]
    },
    {
      "cell_type": "code",
      "metadata": {
        "id": "Ifag5vI2ZUyB"
      },
      "source": [
        "airline.to_csv('airline.csv')\n",
        "!cp airline.csv \"./gdrive/My Drive/datasets/new_datasets/\""
      ],
      "execution_count": null,
      "outputs": []
    }
  ]
}