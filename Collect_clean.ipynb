{
  "nbformat": 4,
  "nbformat_minor": 0,
  "metadata": {
    "colab": {
      "name": "Collect_clean.ipynb",
      "provenance": [],
      "collapsed_sections": [],
      "authorship_tag": "ABX9TyPUAcXWkq7+uKtCtfTg4Zuc",
      "include_colab_link": true
    },
    "kernelspec": {
      "name": "python3",
      "display_name": "Python 3"
    }
  },
  "cells": [
    {
      "cell_type": "markdown",
      "metadata": {
        "id": "view-in-github",
        "colab_type": "text"
      },
      "source": [
        "<a href=\"https://colab.research.google.com/github/buthaina279/DS_Capstone_NLP/blob/main/Collect_clean.ipynb\" target=\"_parent\"><img src=\"https://colab.research.google.com/assets/colab-badge.svg\" alt=\"Open In Colab\"/></a>"
      ]
    },
    {
      "cell_type": "code",
      "metadata": {
        "id": "trMq9TeJe4VX"
      },
      "source": [
        "# Import all needed libraries\n",
        "import tweepy                   # Python wrapper around Twitter API\n",
        "from google.colab import drive  # to mount Drive to Colab notebook\n",
        "import json\n",
        "import csv\n",
        "from datetime import date\n",
        "from datetime import datetime\n",
        "import time\n",
        "import itertools "
      ],
      "execution_count": 31,
      "outputs": []
    },
    {
      "cell_type": "code",
      "metadata": {
        "id": "fpwspMND3VaM"
      },
      "source": [
        "# Import Libraries\n",
        "\n",
        "from textblob import TextBlob\n",
        "import sys\n",
        "import tweepy\n",
        "import matplotlib.pyplot as plt\n",
        "import pandas as pd\n",
        "import numpy as np\n",
        "import os\n",
        "import nltk\n",
        "#import pycountry\n",
        "import re\n",
        "import string\n",
        "\n",
        "from wordcloud import WordCloud, STOPWORDS\n",
        "from PIL import Image\n",
        "from nltk.sentiment.vader import SentimentIntensityAnalyzer\n",
        "#from langdetect import detect\n",
        "from nltk.stem import SnowballStemmer\n",
        "from nltk.sentiment.vader import SentimentIntensityAnalyzer\n",
        "from sklearn.feature_extraction.text import CountVectorizer"
      ],
      "execution_count": 32,
      "outputs": []
    },
    {
      "cell_type": "code",
      "metadata": {
        "colab": {
          "base_uri": "https://localhost:8080/"
        },
        "id": "yBHSJYtuRlwq",
        "outputId": "603a654e-822e-4fa5-870d-c34f0e51f572"
      },
      "source": [
        "from sklearn.feature_extraction.text import CountVectorizer\n",
        "import nltk \n",
        "import string\n",
        "import re\n",
        "%matplotlib inline\n",
        "pd.set_option('display.max_colwidth', 100)"
      ],
      "execution_count": 33,
      "outputs": [
        {
          "output_type": "stream",
          "text": [
            "[nltk_data] Downloading package stopwords to /root/nltk_data...\n",
            "[nltk_data]   Package stopwords is already up-to-date!\n"
          ],
          "name": "stdout"
        },
        {
          "output_type": "execute_result",
          "data": {
            "text/plain": [
              "True"
            ]
          },
          "metadata": {
            "tags": []
          },
          "execution_count": 33
        }
      ]
    },
    {
      "cell_type": "code",
      "metadata": {
        "colab": {
          "base_uri": "https://localhost:8080/"
        },
        "id": "23aiW2uc5FEL",
        "outputId": "fb185564-6272-46f0-e676-4da9425e48f5"
      },
      "source": [
        "import nltk\n",
        "nltk.download('vader_lexicon')"
      ],
      "execution_count": 34,
      "outputs": [
        {
          "output_type": "stream",
          "text": [
            "[nltk_data] Downloading package vader_lexicon to /root/nltk_data...\n",
            "[nltk_data]   Package vader_lexicon is already up-to-date!\n"
          ],
          "name": "stdout"
        },
        {
          "output_type": "execute_result",
          "data": {
            "text/plain": [
              "True"
            ]
          },
          "metadata": {
            "tags": []
          },
          "execution_count": 34
        }
      ]
    },
    {
      "cell_type": "code",
      "metadata": {
        "colab": {
          "base_uri": "https://localhost:8080/"
        },
        "id": "hvqCIx4yl9Hu",
        "outputId": "d36b26cc-0d65-4b1c-aa84-cd45d778d14b"
      },
      "source": [
        "# Connect Google Drive to Colab\n",
        "drive.mount('/content/gdrive')\n",
        "# Create a variable to store the data path on your drive\n",
        "path = './gdrive/My Drive/datasets/twitter_analysis'"
      ],
      "execution_count": 5,
      "outputs": [
        {
          "output_type": "stream",
          "text": [
            "Mounted at /content/gdrive\n"
          ],
          "name": "stdout"
        }
      ]
    },
    {
      "cell_type": "code",
      "metadata": {
        "id": "VLYWMUPJmmGh"
      },
      "source": [
        "consumer_key=\"5iwJ0kh5IkWudh2kXbbV0s5eM\"\n",
        "consumer_secret=\"DSZGordR8WpGbNJbxwEwMBvJ4E4RJRbemzLQ0vpVArAzSuoLqY\"\n",
        "access_token=\"799815406462652416-V4f33Mp2G81GeSLeWVHQgGtp2djIuyK\"\n",
        "access_token_secret=\"UH4iGaQhmNiKVeo2scTmgZneTQuRDR10SSoyivGS0qU0K\"\n",
        "\n",
        "\n",
        "auth = tweepy.OAuthHandler(consumer_key,consumer_secret)\n",
        "auth.set_access_token(access_token, access_token_secret)\n",
        "api = tweepy.API(auth)"
      ],
      "execution_count": null,
      "outputs": []
    },
    {
      "cell_type": "code",
      "metadata": {
        "id": "f-5CJLw-60N7"
      },
      "source": [
        "# Helper function to get all tweets of a specified user\n",
        "# NOTE:This method only allows access to the most recent 3200 tweets\n",
        "# Source: https://gist.github.com/yanofsky/5436496\n",
        "def get_all_tweets(screen_name):\n",
        "  # initialize a list to hold all the Tweets\n",
        "  alltweets = []\n",
        "  # make initial request for most recent tweets \n",
        "  # (200 is the maximum allowed count)\n",
        "  new_tweets = api.user_timeline(screen_name = screen_name,count=200, lang = \"en\")\n",
        "  # save most recent tweets\n",
        "  alltweets.extend(new_tweets)\n",
        "  # save the id of the oldest tweet less one to avoid duplication\n",
        "  oldest = alltweets[-1].id - 1\n",
        "  # keep grabbing tweets until there are no tweets left\n",
        "  while len(new_tweets) > 0:\n",
        "    print(\"getting tweets before %s\" % (oldest))\n",
        "    # all subsequent requests use the max_id param to prevent\n",
        "    # duplicates\n",
        "    \n",
        "    new_tweets = api.user_timeline(screen_name = screen_name,count=200,max_id=oldest, lang = \"en\")\n",
        "    #just if lan tweetes \n",
        "    # save most recent tweets\n",
        "    \n",
        "    alltweets.extend(new_tweets)\n",
        "    # update the id of the oldest tweet less one\n",
        "    oldest = alltweets[-1].id - 1\n",
        "    print(\"...%s tweets downloaded so far\" % (len(alltweets)))\n",
        "    ### END OF WHILE LOOP ###\n",
        "  # transform the tweepy tweets into a 2D array that will \n",
        "  # populate the csv\n",
        "  outtweets = [[tweet.id_str, tweet.created_at, tweet.text, tweet.favorite_count,\n",
        "                tweet.retweeted, tweet.user.location, tweet.lang, screen_name] \n",
        "               for tweet in alltweets]\n",
        "  # write the csv\n",
        "  with open(path + '/%s_tweets_en.csv' % screen_name, 'w') as f:\n",
        "    writer = csv.writer(f)\n",
        "    writer.writerow([\"tweet_id\",\"created_at\",\"text\",\"likes\",\"retweeted\", \"location\", \"language\" , \"airline\"])\n",
        "    writer.writerows(outtweets)\n",
        "  pass"
      ],
      "execution_count": null,
      "outputs": []
    },
    {
      "cell_type": "code",
      "metadata": {
        "id": "INh4lHly7hQv"
      },
      "source": [
        "get_all_tweets(\"Saudi_airlines\")"
      ],
      "execution_count": null,
      "outputs": []
    },
    {
      "cell_type": "code",
      "metadata": {
        "id": "09LO2MO5B146"
      },
      "source": [
        "saudia_airlines = pd.read_csv(\"./gdrive/My Drive/datasets/twitter_analysis/Saudi_airlines_tweets.csv\")"
      ],
      "execution_count": 17,
      "outputs": []
    },
    {
      "cell_type": "code",
      "metadata": {
        "colab": {
          "base_uri": "https://localhost:8080/",
          "height": 529
        },
        "id": "paymIhP7Crwc",
        "outputId": "5d1d684f-ad5a-4842-94c0-cbe55277092a"
      },
      "source": [
        "saudia_airlines.sample(10)"
      ],
      "execution_count": 18,
      "outputs": [
        {
          "output_type": "execute_result",
          "data": {
            "text/html": [
              "<div>\n",
              "<style scoped>\n",
              "    .dataframe tbody tr th:only-of-type {\n",
              "        vertical-align: middle;\n",
              "    }\n",
              "\n",
              "    .dataframe tbody tr th {\n",
              "        vertical-align: top;\n",
              "    }\n",
              "\n",
              "    .dataframe thead th {\n",
              "        text-align: right;\n",
              "    }\n",
              "</style>\n",
              "<table border=\"1\" class=\"dataframe\">\n",
              "  <thead>\n",
              "    <tr style=\"text-align: right;\">\n",
              "      <th></th>\n",
              "      <th>tweet_id</th>\n",
              "      <th>created_at</th>\n",
              "      <th>text</th>\n",
              "      <th>likes</th>\n",
              "      <th>retweeted</th>\n",
              "      <th>location</th>\n",
              "      <th>language</th>\n",
              "      <th>airline</th>\n",
              "    </tr>\n",
              "  </thead>\n",
              "  <tbody>\n",
              "    <tr>\n",
              "      <th>1526</th>\n",
              "      <td>1326757022818299909</td>\n",
              "      <td>2020-11-12 05:21:38</td>\n",
              "      <td>@Hamad_Alkuraya https://t.co/l6rvOGSIr1</td>\n",
              "      <td>2</td>\n",
              "      <td>False</td>\n",
              "      <td>Saudi Arabia</td>\n",
              "      <td>und</td>\n",
              "      <td>Saudi_airlines</td>\n",
              "    </tr>\n",
              "    <tr>\n",
              "      <th>2881</th>\n",
              "      <td>1321019063318073344</td>\n",
              "      <td>2020-10-27 09:21:02</td>\n",
              "      <td>@Satish66015454 Dear guest, you can follow the flight schedule by visiting the Saudi website unt...</td>\n",
              "      <td>0</td>\n",
              "      <td>False</td>\n",
              "      <td>Saudi Arabia</td>\n",
              "      <td>en</td>\n",
              "      <td>Saudi_airlines</td>\n",
              "    </tr>\n",
              "    <tr>\n",
              "      <th>868</th>\n",
              "      <td>1330127332481388556</td>\n",
              "      <td>2020-11-21 12:34:03</td>\n",
              "      <td>@msm809 وعليكم السلام ضيفنا العزيز، ملاحظاتكم واقتراحاتكم القيمة هي محل اهتمامنا وتقديرنا، كما ي...</td>\n",
              "      <td>0</td>\n",
              "      <td>False</td>\n",
              "      <td>Saudi Arabia</td>\n",
              "      <td>ar</td>\n",
              "      <td>Saudi_airlines</td>\n",
              "    </tr>\n",
              "    <tr>\n",
              "      <th>2378</th>\n",
              "      <td>1322756496669790211</td>\n",
              "      <td>2020-11-01 04:24:59</td>\n",
              "      <td>@Gemini_kl ضيفنا العزيز، تم الرد عبر الخاص . شكراً لتواصلك</td>\n",
              "      <td>0</td>\n",
              "      <td>False</td>\n",
              "      <td>Saudi Arabia</td>\n",
              "      <td>ar</td>\n",
              "      <td>Saudi_airlines</td>\n",
              "    </tr>\n",
              "    <tr>\n",
              "      <th>2350</th>\n",
              "      <td>1322882929652092929</td>\n",
              "      <td>2020-11-01 12:47:23</td>\n",
              "      <td>@hadi54416 ضيفنا العزيز، يرجى ايضاح طلبك لنتمكن من خدمتك. شكراً لتواصلك</td>\n",
              "      <td>0</td>\n",
              "      <td>False</td>\n",
              "      <td>Saudi Arabia</td>\n",
              "      <td>ar</td>\n",
              "      <td>Saudi_airlines</td>\n",
              "    </tr>\n",
              "    <tr>\n",
              "      <th>1529</th>\n",
              "      <td>1326755572297986048</td>\n",
              "      <td>2020-11-12 05:15:53</td>\n",
              "      <td>@SalimGahlot_ Hello our valued guest, For more information regarding your inquire kindly visit h...</td>\n",
              "      <td>1</td>\n",
              "      <td>False</td>\n",
              "      <td>Saudi Arabia</td>\n",
              "      <td>en</td>\n",
              "      <td>Saudi_airlines</td>\n",
              "    </tr>\n",
              "    <tr>\n",
              "      <th>1593</th>\n",
              "      <td>1326257163002634240</td>\n",
              "      <td>2020-11-10 20:15:22</td>\n",
              "      <td>@fayzasafar ضيفنا العزيز، نأمل منك الاستفسار عبر \"المديرية العامة للجوازات السعودية\" عبر موقعهم ...</td>\n",
              "      <td>0</td>\n",
              "      <td>False</td>\n",
              "      <td>Saudi Arabia</td>\n",
              "      <td>ar</td>\n",
              "      <td>Saudi_airlines</td>\n",
              "    </tr>\n",
              "    <tr>\n",
              "      <th>2694</th>\n",
              "      <td>1321568104980353024</td>\n",
              "      <td>2020-10-28 21:42:44</td>\n",
              "      <td>@tilloi أهلاً ضيفنا العزيز، لخدمتك يرجى التواصل مع قسم الشحن الجوي عبر زيارة الرابط التاليhttps:...</td>\n",
              "      <td>0</td>\n",
              "      <td>False</td>\n",
              "      <td>Saudi Arabia</td>\n",
              "      <td>ar</td>\n",
              "      <td>Saudi_airlines</td>\n",
              "    </tr>\n",
              "    <tr>\n",
              "      <th>2898</th>\n",
              "      <td>1320948231552061440</td>\n",
              "      <td>2020-10-27 04:39:35</td>\n",
              "      <td>@harish28737 Dear guest, Kindly clarify your inquiry to assist you. Thank you</td>\n",
              "      <td>0</td>\n",
              "      <td>False</td>\n",
              "      <td>Saudi Arabia</td>\n",
              "      <td>en</td>\n",
              "      <td>Saudi_airlines</td>\n",
              "    </tr>\n",
              "    <tr>\n",
              "      <th>706</th>\n",
              "      <td>1330974868670705666</td>\n",
              "      <td>2020-11-23 20:41:51</td>\n",
              "      <td>@AC04x عليكم السلام ضيفنا العزيز، يرجى تزويدنا برقم التذكرة الإلكترونية والتي تبدأ بـ065 عبر الخ...</td>\n",
              "      <td>0</td>\n",
              "      <td>False</td>\n",
              "      <td>Saudi Arabia</td>\n",
              "      <td>ar</td>\n",
              "      <td>Saudi_airlines</td>\n",
              "    </tr>\n",
              "  </tbody>\n",
              "</table>\n",
              "</div>"
            ],
            "text/plain": [
              "                 tweet_id           created_at  ... language         airline\n",
              "1526  1326757022818299909  2020-11-12 05:21:38  ...      und  Saudi_airlines\n",
              "2881  1321019063318073344  2020-10-27 09:21:02  ...       en  Saudi_airlines\n",
              "868   1330127332481388556  2020-11-21 12:34:03  ...       ar  Saudi_airlines\n",
              "2378  1322756496669790211  2020-11-01 04:24:59  ...       ar  Saudi_airlines\n",
              "2350  1322882929652092929  2020-11-01 12:47:23  ...       ar  Saudi_airlines\n",
              "1529  1326755572297986048  2020-11-12 05:15:53  ...       en  Saudi_airlines\n",
              "1593  1326257163002634240  2020-11-10 20:15:22  ...       ar  Saudi_airlines\n",
              "2694  1321568104980353024  2020-10-28 21:42:44  ...       ar  Saudi_airlines\n",
              "2898  1320948231552061440  2020-10-27 04:39:35  ...       en  Saudi_airlines\n",
              "706   1330974868670705666  2020-11-23 20:41:51  ...       ar  Saudi_airlines\n",
              "\n",
              "[10 rows x 8 columns]"
            ]
          },
          "metadata": {
            "tags": []
          },
          "execution_count": 18
        }
      ]
    },
    {
      "cell_type": "code",
      "metadata": {
        "colab": {
          "base_uri": "https://localhost:8080/"
        },
        "id": "8QqQ0EegC2Bn",
        "outputId": "f99c94e2-7a96-4f34-89ea-468f6f973e30"
      },
      "source": [
        "get_all_tweets(\"flynas\")"
      ],
      "execution_count": null,
      "outputs": [
        {
          "output_type": "stream",
          "text": [
            "getting tweets before 1333803986864857088\n",
            "...400 tweets downloaded so far\n",
            "getting tweets before 1331903679733977088\n",
            "...600 tweets downloaded so far\n",
            "getting tweets before 1330055167807549446\n",
            "...800 tweets downloaded so far\n",
            "getting tweets before 1328180460221059071\n",
            "...1000 tweets downloaded so far\n",
            "getting tweets before 1326192459039338495\n",
            "...1200 tweets downloaded so far\n",
            "getting tweets before 1324406303817609218\n",
            "...1400 tweets downloaded so far\n",
            "getting tweets before 1322929543569678335\n",
            "...1600 tweets downloaded so far\n",
            "getting tweets before 1321350527469367295\n",
            "...1800 tweets downloaded so far\n",
            "getting tweets before 1319797682727170049\n",
            "...2000 tweets downloaded so far\n",
            "getting tweets before 1318201592693329920\n",
            "...2200 tweets downloaded so far\n",
            "getting tweets before 1316789074557100033\n",
            "...2400 tweets downloaded so far\n",
            "getting tweets before 1315389871813464063\n",
            "...2600 tweets downloaded so far\n",
            "getting tweets before 1314166213241700353\n",
            "...2800 tweets downloaded so far\n",
            "getting tweets before 1312731818022637567\n",
            "...3000 tweets downloaded so far\n",
            "getting tweets before 1311446830165757962\n",
            "...3200 tweets downloaded so far\n",
            "getting tweets before 1310174980794200070\n",
            "...3218 tweets downloaded so far\n",
            "getting tweets before 1310117946942017536\n",
            "...3218 tweets downloaded so far\n"
          ],
          "name": "stdout"
        }
      ]
    },
    {
      "cell_type": "code",
      "metadata": {
        "id": "v1WWJd1CGZY3"
      },
      "source": [
        "flynas_airlines = pd.read_csv(\"./gdrive/My Drive/datasets/twitter_analysis/flynas_tweets.csv\")"
      ],
      "execution_count": null,
      "outputs": []
    },
    {
      "cell_type": "code",
      "metadata": {
        "colab": {
          "base_uri": "https://localhost:8080/",
          "height": 359
        },
        "id": "DHkxXoZdGqNC",
        "outputId": "6da7da21-b7cd-436d-9b38-82f2ee36afc5"
      },
      "source": [
        "flynas_airlines.sample(10)"
      ],
      "execution_count": null,
      "outputs": [
        {
          "output_type": "execute_result",
          "data": {
            "text/html": [
              "<div>\n",
              "<style scoped>\n",
              "    .dataframe tbody tr th:only-of-type {\n",
              "        vertical-align: middle;\n",
              "    }\n",
              "\n",
              "    .dataframe tbody tr th {\n",
              "        vertical-align: top;\n",
              "    }\n",
              "\n",
              "    .dataframe thead th {\n",
              "        text-align: right;\n",
              "    }\n",
              "</style>\n",
              "<table border=\"1\" class=\"dataframe\">\n",
              "  <thead>\n",
              "    <tr style=\"text-align: right;\">\n",
              "      <th></th>\n",
              "      <th>id</th>\n",
              "      <th>created_at</th>\n",
              "      <th>text</th>\n",
              "      <th>likes</th>\n",
              "      <th>in reply to</th>\n",
              "      <th>retweeted</th>\n",
              "      <th>location</th>\n",
              "      <th>language</th>\n",
              "    </tr>\n",
              "  </thead>\n",
              "  <tbody>\n",
              "    <tr>\n",
              "      <th>2829</th>\n",
              "      <td>1312469651083853824</td>\n",
              "      <td>2020-10-03 19:08:43</td>\n",
              "      <td>@Mehtab0000786 Hello dear, provide us with you...</td>\n",
              "      <td>0</td>\n",
              "      <td>Mehtab0000786</td>\n",
              "      <td>False</td>\n",
              "      <td>Saudi Arabia</td>\n",
              "      <td>en</td>\n",
              "    </tr>\n",
              "    <tr>\n",
              "      <th>719</th>\n",
              "      <td>1328838370856984577</td>\n",
              "      <td>2020-11-17 23:12:10</td>\n",
              "      <td>@A_F_Alanzi وعليكم السلام ، يرجى تزويدنا برقم ...</td>\n",
              "      <td>0</td>\n",
              "      <td>A_F_Alanzi</td>\n",
              "      <td>False</td>\n",
              "      <td>Saudi Arabia</td>\n",
              "      <td>ar</td>\n",
              "    </tr>\n",
              "    <tr>\n",
              "      <th>1862</th>\n",
              "      <td>1319281845918265347</td>\n",
              "      <td>2020-10-22 14:17:57</td>\n",
              "      <td>ايش الأغراض اللي ماتقدر تسافر بدونها ؟ 👀\\n\\n#ط...</td>\n",
              "      <td>14</td>\n",
              "      <td>NaN</td>\n",
              "      <td>False</td>\n",
              "      <td>Saudi Arabia</td>\n",
              "      <td>ar</td>\n",
              "    </tr>\n",
              "    <tr>\n",
              "      <th>1239</th>\n",
              "      <td>1324001912254091270</td>\n",
              "      <td>2020-11-04 14:53:49</td>\n",
              "      <td>@hatemamreet مرحبا، تم الرد في الخاص .</td>\n",
              "      <td>0</td>\n",
              "      <td>hatemamreet</td>\n",
              "      <td>False</td>\n",
              "      <td>Saudi Arabia</td>\n",
              "      <td>ar</td>\n",
              "    </tr>\n",
              "    <tr>\n",
              "      <th>2943</th>\n",
              "      <td>1311701994210549760</td>\n",
              "      <td>2020-10-01 16:18:20</td>\n",
              "      <td>@A_thobaiti وعليكم السلام، يسمح بحمله فقط داخل...</td>\n",
              "      <td>0</td>\n",
              "      <td>A_thobaiti</td>\n",
              "      <td>False</td>\n",
              "      <td>Saudi Arabia</td>\n",
              "      <td>ar</td>\n",
              "    </tr>\n",
              "    <tr>\n",
              "      <th>1768</th>\n",
              "      <td>1320018351800930306</td>\n",
              "      <td>2020-10-24 15:04:34</td>\n",
              "      <td>@ii_il15 حياك الله ، تم الرد من خلال الخاص . ش...</td>\n",
              "      <td>0</td>\n",
              "      <td>ii_il15</td>\n",
              "      <td>False</td>\n",
              "      <td>Saudi Arabia</td>\n",
              "      <td>ar</td>\n",
              "    </tr>\n",
              "    <tr>\n",
              "      <th>306</th>\n",
              "      <td>1332817897144594432</td>\n",
              "      <td>2020-11-28 22:45:23</td>\n",
              "      <td>@sale_b0b تم الرد عبر الخاص</td>\n",
              "      <td>0</td>\n",
              "      <td>sale_b0b</td>\n",
              "      <td>False</td>\n",
              "      <td>Saudi Arabia</td>\n",
              "      <td>ar</td>\n",
              "    </tr>\n",
              "    <tr>\n",
              "      <th>2387</th>\n",
              "      <td>1315536164716261377</td>\n",
              "      <td>2020-10-12 06:13:57</td>\n",
              "      <td>@Asamjh11123 حياك الله،تابعنا وسيتم الإعلان عن...</td>\n",
              "      <td>0</td>\n",
              "      <td>Asamjh11123</td>\n",
              "      <td>False</td>\n",
              "      <td>Saudi Arabia</td>\n",
              "      <td>ar</td>\n",
              "    </tr>\n",
              "    <tr>\n",
              "      <th>2785</th>\n",
              "      <td>1312782872001085443</td>\n",
              "      <td>2020-10-04 15:53:21</td>\n",
              "      <td>@kmell4411 مرحبا، تابعنا بإستمرار وسيتم الإعلا...</td>\n",
              "      <td>0</td>\n",
              "      <td>kmell4411</td>\n",
              "      <td>False</td>\n",
              "      <td>Saudi Arabia</td>\n",
              "      <td>ar</td>\n",
              "    </tr>\n",
              "    <tr>\n",
              "      <th>2650</th>\n",
              "      <td>1313770948017958914</td>\n",
              "      <td>2020-10-07 09:19:37</td>\n",
              "      <td>@MecFawzi حياك الله ،رحلاتنا من مطار الملك عبد...</td>\n",
              "      <td>0</td>\n",
              "      <td>MecFawzi</td>\n",
              "      <td>False</td>\n",
              "      <td>Saudi Arabia</td>\n",
              "      <td>ar</td>\n",
              "    </tr>\n",
              "  </tbody>\n",
              "</table>\n",
              "</div>"
            ],
            "text/plain": [
              "                       id           created_at  ...      location  language\n",
              "2829  1312469651083853824  2020-10-03 19:08:43  ...  Saudi Arabia        en\n",
              "719   1328838370856984577  2020-11-17 23:12:10  ...  Saudi Arabia        ar\n",
              "1862  1319281845918265347  2020-10-22 14:17:57  ...  Saudi Arabia        ar\n",
              "1239  1324001912254091270  2020-11-04 14:53:49  ...  Saudi Arabia        ar\n",
              "2943  1311701994210549760  2020-10-01 16:18:20  ...  Saudi Arabia        ar\n",
              "1768  1320018351800930306  2020-10-24 15:04:34  ...  Saudi Arabia        ar\n",
              "306   1332817897144594432  2020-11-28 22:45:23  ...  Saudi Arabia        ar\n",
              "2387  1315536164716261377  2020-10-12 06:13:57  ...  Saudi Arabia        ar\n",
              "2785  1312782872001085443  2020-10-04 15:53:21  ...  Saudi Arabia        ar\n",
              "2650  1313770948017958914  2020-10-07 09:19:37  ...  Saudi Arabia        ar\n",
              "\n",
              "[10 rows x 8 columns]"
            ]
          },
          "metadata": {
            "tags": []
          },
          "execution_count": 61
        }
      ]
    },
    {
      "cell_type": "code",
      "metadata": {
        "colab": {
          "base_uri": "https://localhost:8080/"
        },
        "id": "hRzSlXxRdmYU",
        "outputId": "52627ed7-3a90-41ed-9cea-7869b5a87ad9"
      },
      "source": [
        "len(saudia_airlines[saudia_airlines.language == \"en\"])"
      ],
      "execution_count": null,
      "outputs": [
        {
          "output_type": "execute_result",
          "data": {
            "text/plain": [
              "1464"
            ]
          },
          "metadata": {
            "tags": []
          },
          "execution_count": 92
        }
      ]
    },
    {
      "cell_type": "code",
      "metadata": {
        "colab": {
          "base_uri": "https://localhost:8080/"
        },
        "id": "D9s7w7SEgA5Y",
        "outputId": "d0948792-1cbe-4a55-f6a7-cf95dc238b09"
      },
      "source": [
        "len(flynas_airlines[flynas_airlines.language == \"en\"])"
      ],
      "execution_count": null,
      "outputs": [
        {
          "output_type": "execute_result",
          "data": {
            "text/plain": [
              "219"
            ]
          },
          "metadata": {
            "tags": []
          },
          "execution_count": 94
        }
      ]
    },
    {
      "cell_type": "code",
      "metadata": {
        "id": "pmD6TM9CEwCS"
      },
      "source": [
        "saudia_airlines_en = saudia_airlines[saudia_airlines.language == \"en\"]"
      ],
      "execution_count": 19,
      "outputs": []
    },
    {
      "cell_type": "code",
      "metadata": {
        "colab": {
          "base_uri": "https://localhost:8080/",
          "height": 289
        },
        "id": "r8uKzLnUE9sH",
        "outputId": "1996101a-c7d0-4b9d-f9f5-5b1ba0a73a33"
      },
      "source": [
        "saudia_airlines_en.head()"
      ],
      "execution_count": null,
      "outputs": [
        {
          "output_type": "execute_result",
          "data": {
            "text/html": [
              "<div>\n",
              "<style scoped>\n",
              "    .dataframe tbody tr th:only-of-type {\n",
              "        vertical-align: middle;\n",
              "    }\n",
              "\n",
              "    .dataframe tbody tr th {\n",
              "        vertical-align: top;\n",
              "    }\n",
              "\n",
              "    .dataframe thead th {\n",
              "        text-align: right;\n",
              "    }\n",
              "</style>\n",
              "<table border=\"1\" class=\"dataframe\">\n",
              "  <thead>\n",
              "    <tr style=\"text-align: right;\">\n",
              "      <th></th>\n",
              "      <th>tweet_id</th>\n",
              "      <th>created_at</th>\n",
              "      <th>text</th>\n",
              "      <th>likes</th>\n",
              "      <th>retweeted</th>\n",
              "      <th>location</th>\n",
              "      <th>language</th>\n",
              "      <th>airline</th>\n",
              "    </tr>\n",
              "  </thead>\n",
              "  <tbody>\n",
              "    <tr>\n",
              "      <th>14</th>\n",
              "      <td>1335393841810202624</td>\n",
              "      <td>2020-12-06 01:21:16</td>\n",
              "      <td>@Mohamme43723700 Dear guest, there is no flight from India to Saudi Arabia at this time. Kindly ...</td>\n",
              "      <td>1</td>\n",
              "      <td>False</td>\n",
              "      <td>Saudi Arabia</td>\n",
              "      <td>en</td>\n",
              "      <td>Saudi_airlines</td>\n",
              "    </tr>\n",
              "    <tr>\n",
              "      <th>23</th>\n",
              "      <td>1335337522738720770</td>\n",
              "      <td>2020-12-05 21:37:29</td>\n",
              "      <td>@khalidwhd Hello dear guest, we hope you check and be informed of travel updates due to the Coro...</td>\n",
              "      <td>1</td>\n",
              "      <td>False</td>\n",
              "      <td>Saudi Arabia</td>\n",
              "      <td>en</td>\n",
              "      <td>Saudi_airlines</td>\n",
              "    </tr>\n",
              "    <tr>\n",
              "      <th>29</th>\n",
              "      <td>1335334320014315521</td>\n",
              "      <td>2020-12-05 21:24:45</td>\n",
              "      <td>@JailanShair Hello dear guest, please provide us with the booking number through the direct mess...</td>\n",
              "      <td>0</td>\n",
              "      <td>False</td>\n",
              "      <td>Saudi Arabia</td>\n",
              "      <td>en</td>\n",
              "      <td>Saudi_airlines</td>\n",
              "    </tr>\n",
              "    <tr>\n",
              "      <th>38</th>\n",
              "      <td>1335322063851167748</td>\n",
              "      <td>2020-12-05 20:36:03</td>\n",
              "      <td>@Shakeel60633858 Dear guest, there is no flight from India to Saudi Arabia at this time. When fl...</td>\n",
              "      <td>1</td>\n",
              "      <td>False</td>\n",
              "      <td>Saudi Arabia</td>\n",
              "      <td>en</td>\n",
              "      <td>Saudi_airlines</td>\n",
              "    </tr>\n",
              "    <tr>\n",
              "      <th>43</th>\n",
              "      <td>1335314759588122626</td>\n",
              "      <td>2020-12-05 20:07:02</td>\n",
              "      <td>@AliAnsari079348 Hello dear guest, You can follow up the flights schedule in our website https:/...</td>\n",
              "      <td>1</td>\n",
              "      <td>False</td>\n",
              "      <td>Saudi Arabia</td>\n",
              "      <td>en</td>\n",
              "      <td>Saudi_airlines</td>\n",
              "    </tr>\n",
              "  </tbody>\n",
              "</table>\n",
              "</div>"
            ],
            "text/plain": [
              "               tweet_id           created_at  ... language         airline\n",
              "14  1335393841810202624  2020-12-06 01:21:16  ...       en  Saudi_airlines\n",
              "23  1335337522738720770  2020-12-05 21:37:29  ...       en  Saudi_airlines\n",
              "29  1335334320014315521  2020-12-05 21:24:45  ...       en  Saudi_airlines\n",
              "38  1335322063851167748  2020-12-05 20:36:03  ...       en  Saudi_airlines\n",
              "43  1335314759588122626  2020-12-05 20:07:02  ...       en  Saudi_airlines\n",
              "\n",
              "[5 rows x 8 columns]"
            ]
          },
          "metadata": {
            "tags": []
          },
          "execution_count": 13
        }
      ]
    },
    {
      "cell_type": "code",
      "metadata": {
        "id": "BYTR5SINFD50"
      },
      "source": [
        "flynas_airlines_en = flynas_airlines[flynas_airlines.language == \"en\"]"
      ],
      "execution_count": null,
      "outputs": []
    },
    {
      "cell_type": "code",
      "metadata": {
        "colab": {
          "base_uri": "https://localhost:8080/",
          "height": 289
        },
        "id": "Cmd77uvcFKTJ",
        "outputId": "125550de-5401-47c7-b0f4-cda22c482b9b"
      },
      "source": [
        "flynas_airlines_en.head()"
      ],
      "execution_count": null,
      "outputs": [
        {
          "output_type": "execute_result",
          "data": {
            "text/html": [
              "<div>\n",
              "<style scoped>\n",
              "    .dataframe tbody tr th:only-of-type {\n",
              "        vertical-align: middle;\n",
              "    }\n",
              "\n",
              "    .dataframe tbody tr th {\n",
              "        vertical-align: top;\n",
              "    }\n",
              "\n",
              "    .dataframe thead th {\n",
              "        text-align: right;\n",
              "    }\n",
              "</style>\n",
              "<table border=\"1\" class=\"dataframe\">\n",
              "  <thead>\n",
              "    <tr style=\"text-align: right;\">\n",
              "      <th></th>\n",
              "      <th>tweet_id</th>\n",
              "      <th>created_at</th>\n",
              "      <th>text</th>\n",
              "      <th>likes</th>\n",
              "      <th>retweeted</th>\n",
              "      <th>location</th>\n",
              "      <th>language</th>\n",
              "      <th>airline</th>\n",
              "    </tr>\n",
              "  </thead>\n",
              "  <tbody>\n",
              "    <tr>\n",
              "      <th>2</th>\n",
              "      <td>1335581954213900288</td>\n",
              "      <td>2020-12-06 13:48:46</td>\n",
              "      <td>@dhanraj_parmar Hello, kindly provide us with your booking number on private message</td>\n",
              "      <td>0</td>\n",
              "      <td>False</td>\n",
              "      <td>Saudi Arabia</td>\n",
              "      <td>en</td>\n",
              "      <td>flynas</td>\n",
              "    </tr>\n",
              "    <tr>\n",
              "      <th>17</th>\n",
              "      <td>1335517244978245632</td>\n",
              "      <td>2020-12-06 09:31:38</td>\n",
              "      <td>@Ansar34237667 Hello, please provide us with your reservation number via the private. Please</td>\n",
              "      <td>0</td>\n",
              "      <td>False</td>\n",
              "      <td>Saudi Arabia</td>\n",
              "      <td>en</td>\n",
              "      <td>flynas</td>\n",
              "    </tr>\n",
              "    <tr>\n",
              "      <th>19</th>\n",
              "      <td>1335515818642255873</td>\n",
              "      <td>2020-12-06 09:25:58</td>\n",
              "      <td>@_lulzz Hello, kindly provide us with your booking number on private message https://t.co/Hgn8z1...</td>\n",
              "      <td>0</td>\n",
              "      <td>False</td>\n",
              "      <td>Saudi Arabia</td>\n",
              "      <td>en</td>\n",
              "      <td>flynas</td>\n",
              "    </tr>\n",
              "    <tr>\n",
              "      <th>51</th>\n",
              "      <td>1335109047671001088</td>\n",
              "      <td>2020-12-05 06:29:36</td>\n",
              "      <td>@aliarum44 Hi, kindly keep following us continuously, any new flights will be announced as soon ...</td>\n",
              "      <td>0</td>\n",
              "      <td>False</td>\n",
              "      <td>Saudi Arabia</td>\n",
              "      <td>en</td>\n",
              "      <td>flynas</td>\n",
              "    </tr>\n",
              "    <tr>\n",
              "      <th>65</th>\n",
              "      <td>1334936896925995009</td>\n",
              "      <td>2020-12-04 19:05:32</td>\n",
              "      <td>@afsarmohd78 God bless you, follow us and an announcement will be made when any new trips are av...</td>\n",
              "      <td>0</td>\n",
              "      <td>False</td>\n",
              "      <td>Saudi Arabia</td>\n",
              "      <td>en</td>\n",
              "      <td>flynas</td>\n",
              "    </tr>\n",
              "  </tbody>\n",
              "</table>\n",
              "</div>"
            ],
            "text/plain": [
              "               tweet_id           created_at  ... language  airline\n",
              "2   1335581954213900288  2020-12-06 13:48:46  ...       en   flynas\n",
              "17  1335517244978245632  2020-12-06 09:31:38  ...       en   flynas\n",
              "19  1335515818642255873  2020-12-06 09:25:58  ...       en   flynas\n",
              "51  1335109047671001088  2020-12-05 06:29:36  ...       en   flynas\n",
              "65  1334936896925995009  2020-12-04 19:05:32  ...       en   flynas\n",
              "\n",
              "[5 rows x 8 columns]"
            ]
          },
          "metadata": {
            "tags": []
          },
          "execution_count": 174
        }
      ]
    },
    {
      "cell_type": "code",
      "metadata": {
        "id": "A37qyiiD942V"
      },
      "source": [
        "#Creating PieCart\n",
        "\n",
        "labels = ['Positive ['+str(positive)+'%]' , 'Neutral ['+str(neutral)+'%]','Negative ['+str(negative)+'%]']\n",
        "sizes = [positive, neutral, negative]\n",
        "colors = ['yellowgreen', 'blue','red']\n",
        "patches, texts = plt.pie(sizes,colors=colors, startangle=90)\n",
        "plt.style.use('default')\n",
        "plt.legend(labels)\n",
        "plt.title(\"Sentiment Analysis Result for keyword=  \"+keyword+\"\" )\n",
        "plt.axis('equal')\n",
        "plt.show()"
      ],
      "execution_count": null,
      "outputs": []
    },
    {
      "cell_type": "markdown",
      "metadata": {
        "id": "LomcoeEHNDAw"
      },
      "source": [
        "#Cleaning the text"
      ]
    },
    {
      "cell_type": "code",
      "metadata": {
        "id": "j5w6YrFGQV5O"
      },
      "source": [
        "# Create a function to clean the tweets\n",
        "def cleanTxt(text):\n",
        " text = re.sub('@[A-Za-z0–9]+', '', text) #Removing @mentions\n",
        " text = re.sub('#', '', text) # Removing '#' hash tag\n",
        " text = re.sub('RT[\\s]+', '', text) # Removing RT\n",
        " text = re.sub('https?:\\/\\/\\S+', '', text) # Removing hyperlink\n",
        " text = re.sub(r'\\d', '', text)\n",
        " text = \"\".join([word.lower() for word in text if word not in string.punctuation])\n",
        " \n",
        " return text"
      ],
      "execution_count": 20,
      "outputs": []
    },
    {
      "cell_type": "code",
      "metadata": {
        "colab": {
          "base_uri": "https://localhost:8080/",
          "height": 711
        },
        "id": "Aqjl50j_GZSA",
        "outputId": "f8c414e8-60c0-4613-cfa3-739e9789b6ae"
      },
      "source": [
        "# Clean the tweets\n",
        "saudia_airlines_en[\"text\"] = saudia_airlines_en[\"text\"].apply(cleanTxt)\n",
        "\n",
        "# Show the cleaned tweets\n",
        "saudia_airlines_en"
      ],
      "execution_count": 21,
      "outputs": [
        {
          "output_type": "stream",
          "text": [
            "/usr/local/lib/python3.6/dist-packages/ipykernel_launcher.py:2: SettingWithCopyWarning: \n",
            "A value is trying to be set on a copy of a slice from a DataFrame.\n",
            "Try using .loc[row_indexer,col_indexer] = value instead\n",
            "\n",
            "See the caveats in the documentation: https://pandas.pydata.org/pandas-docs/stable/user_guide/indexing.html#returning-a-view-versus-a-copy\n",
            "  \n"
          ],
          "name": "stderr"
        },
        {
          "output_type": "execute_result",
          "data": {
            "text/html": [
              "<div>\n",
              "<style scoped>\n",
              "    .dataframe tbody tr th:only-of-type {\n",
              "        vertical-align: middle;\n",
              "    }\n",
              "\n",
              "    .dataframe tbody tr th {\n",
              "        vertical-align: top;\n",
              "    }\n",
              "\n",
              "    .dataframe thead th {\n",
              "        text-align: right;\n",
              "    }\n",
              "</style>\n",
              "<table border=\"1\" class=\"dataframe\">\n",
              "  <thead>\n",
              "    <tr style=\"text-align: right;\">\n",
              "      <th></th>\n",
              "      <th>tweet_id</th>\n",
              "      <th>created_at</th>\n",
              "      <th>text</th>\n",
              "      <th>likes</th>\n",
              "      <th>retweeted</th>\n",
              "      <th>location</th>\n",
              "      <th>language</th>\n",
              "      <th>airline</th>\n",
              "    </tr>\n",
              "  </thead>\n",
              "  <tbody>\n",
              "    <tr>\n",
              "      <th>14</th>\n",
              "      <td>1335393841810202624</td>\n",
              "      <td>2020-12-06 01:21:16</td>\n",
              "      <td>dear guest there is no flight from india to saudi arabia at this time kindly follow the flights…</td>\n",
              "      <td>1</td>\n",
              "      <td>False</td>\n",
              "      <td>Saudi Arabia</td>\n",
              "      <td>en</td>\n",
              "      <td>Saudi_airlines</td>\n",
              "    </tr>\n",
              "    <tr>\n",
              "      <th>23</th>\n",
              "      <td>1335337522738720770</td>\n",
              "      <td>2020-12-05 21:37:29</td>\n",
              "      <td>hello dear guest we hope you check and be informed of travel updates due to the corona virus co...</td>\n",
              "      <td>1</td>\n",
              "      <td>False</td>\n",
              "      <td>Saudi Arabia</td>\n",
              "      <td>en</td>\n",
              "      <td>Saudi_airlines</td>\n",
              "    </tr>\n",
              "    <tr>\n",
              "      <th>29</th>\n",
              "      <td>1335334320014315521</td>\n",
              "      <td>2020-12-05 21:24:45</td>\n",
              "      <td>hello dear guest please provide us with the booking number through the direct message to let yo...</td>\n",
              "      <td>0</td>\n",
              "      <td>False</td>\n",
              "      <td>Saudi Arabia</td>\n",
              "      <td>en</td>\n",
              "      <td>Saudi_airlines</td>\n",
              "    </tr>\n",
              "    <tr>\n",
              "      <th>38</th>\n",
              "      <td>1335322063851167748</td>\n",
              "      <td>2020-12-05 20:36:03</td>\n",
              "      <td>dear guest there is no flight from india to saudi arabia at this time when flights schedule back…</td>\n",
              "      <td>1</td>\n",
              "      <td>False</td>\n",
              "      <td>Saudi Arabia</td>\n",
              "      <td>en</td>\n",
              "      <td>Saudi_airlines</td>\n",
              "    </tr>\n",
              "    <tr>\n",
              "      <th>43</th>\n",
              "      <td>1335314759588122626</td>\n",
              "      <td>2020-12-05 20:07:02</td>\n",
              "      <td>hello dear guest you can follow up the flights schedule in our website  …</td>\n",
              "      <td>1</td>\n",
              "      <td>False</td>\n",
              "      <td>Saudi Arabia</td>\n",
              "      <td>en</td>\n",
              "      <td>Saudi_airlines</td>\n",
              "    </tr>\n",
              "    <tr>\n",
              "      <th>...</th>\n",
              "      <td>...</td>\n",
              "      <td>...</td>\n",
              "      <td>...</td>\n",
              "      <td>...</td>\n",
              "      <td>...</td>\n",
              "      <td>...</td>\n",
              "      <td>...</td>\n",
              "      <td>...</td>\n",
              "    </tr>\n",
              "    <tr>\n",
              "      <th>3225</th>\n",
              "      <td>1320352707732000768</td>\n",
              "      <td>2020-10-25 13:13:11</td>\n",
              "      <td>dear guest kindly check the flights schedule on  and choose flights info…</td>\n",
              "      <td>0</td>\n",
              "      <td>False</td>\n",
              "      <td>Saudi Arabia</td>\n",
              "      <td>en</td>\n",
              "      <td>Saudi_airlines</td>\n",
              "    </tr>\n",
              "    <tr>\n",
              "      <th>3226</th>\n",
              "      <td>1320352682104729600</td>\n",
              "      <td>2020-10-25 13:13:05</td>\n",
              "      <td>dear guest kindly check the flights schedule on  and choose flights info…</td>\n",
              "      <td>0</td>\n",
              "      <td>False</td>\n",
              "      <td>Saudi Arabia</td>\n",
              "      <td>en</td>\n",
              "      <td>Saudi_airlines</td>\n",
              "    </tr>\n",
              "    <tr>\n",
              "      <th>3227</th>\n",
              "      <td>1320352661305237507</td>\n",
              "      <td>2020-10-25 13:13:00</td>\n",
              "      <td>dear guest kindly check the flights schedule on  and choose flights info t…</td>\n",
              "      <td>0</td>\n",
              "      <td>False</td>\n",
              "      <td>Saudi Arabia</td>\n",
              "      <td>en</td>\n",
              "      <td>Saudi_airlines</td>\n",
              "    </tr>\n",
              "    <tr>\n",
              "      <th>3229</th>\n",
              "      <td>1320339013727899648</td>\n",
              "      <td>2020-10-25 12:18:46</td>\n",
              "      <td>once the flights resumed it will show in our website and you can book your flight residents wit...</td>\n",
              "      <td>0</td>\n",
              "      <td>False</td>\n",
              "      <td>Saudi Arabia</td>\n",
              "      <td>en</td>\n",
              "      <td>Saudi_airlines</td>\n",
              "    </tr>\n",
              "    <tr>\n",
              "      <th>3231</th>\n",
              "      <td>1320337737224998918</td>\n",
              "      <td>2020-10-25 12:13:41</td>\n",
              "      <td>once the flights resumed it will show in our website and yo can book your flight residents with...</td>\n",
              "      <td>0</td>\n",
              "      <td>False</td>\n",
              "      <td>Saudi Arabia</td>\n",
              "      <td>en</td>\n",
              "      <td>Saudi_airlines</td>\n",
              "    </tr>\n",
              "  </tbody>\n",
              "</table>\n",
              "<p>1464 rows × 8 columns</p>\n",
              "</div>"
            ],
            "text/plain": [
              "                 tweet_id           created_at  ... language         airline\n",
              "14    1335393841810202624  2020-12-06 01:21:16  ...       en  Saudi_airlines\n",
              "23    1335337522738720770  2020-12-05 21:37:29  ...       en  Saudi_airlines\n",
              "29    1335334320014315521  2020-12-05 21:24:45  ...       en  Saudi_airlines\n",
              "38    1335322063851167748  2020-12-05 20:36:03  ...       en  Saudi_airlines\n",
              "43    1335314759588122626  2020-12-05 20:07:02  ...       en  Saudi_airlines\n",
              "...                   ...                  ...  ...      ...             ...\n",
              "3225  1320352707732000768  2020-10-25 13:13:11  ...       en  Saudi_airlines\n",
              "3226  1320352682104729600  2020-10-25 13:13:05  ...       en  Saudi_airlines\n",
              "3227  1320352661305237507  2020-10-25 13:13:00  ...       en  Saudi_airlines\n",
              "3229  1320339013727899648  2020-10-25 12:18:46  ...       en  Saudi_airlines\n",
              "3231  1320337737224998918  2020-10-25 12:13:41  ...       en  Saudi_airlines\n",
              "\n",
              "[1464 rows x 8 columns]"
            ]
          },
          "metadata": {
            "tags": []
          },
          "execution_count": 21
        }
      ]
    },
    {
      "cell_type": "code",
      "metadata": {
        "id": "ste8xB17RRqR"
      },
      "source": [
        "def tokenization(text):\n",
        "    text = re.split('\\W+', text)\n",
        "    return text\n"
      ],
      "execution_count": 22,
      "outputs": []
    },
    {
      "cell_type": "code",
      "metadata": {
        "colab": {
          "base_uri": "https://localhost:8080/",
          "height": 683
        },
        "id": "CN5KKh-fRrFe",
        "outputId": "403b3954-0ca3-4b4c-b4e7-cd6aebe96bfb"
      },
      "source": [
        "\n",
        "saudia_airlines_en['Tweet_tokenized'] = saudia_airlines_en['text'].apply(lambda x: tokenization(x.lower()))\n",
        "saudia_airlines_en.head()"
      ],
      "execution_count": 23,
      "outputs": [
        {
          "output_type": "stream",
          "text": [
            "/usr/local/lib/python3.6/dist-packages/ipykernel_launcher.py:2: SettingWithCopyWarning: \n",
            "A value is trying to be set on a copy of a slice from a DataFrame.\n",
            "Try using .loc[row_indexer,col_indexer] = value instead\n",
            "\n",
            "See the caveats in the documentation: https://pandas.pydata.org/pandas-docs/stable/user_guide/indexing.html#returning-a-view-versus-a-copy\n",
            "  \n"
          ],
          "name": "stderr"
        },
        {
          "output_type": "execute_result",
          "data": {
            "text/html": [
              "<div>\n",
              "<style scoped>\n",
              "    .dataframe tbody tr th:only-of-type {\n",
              "        vertical-align: middle;\n",
              "    }\n",
              "\n",
              "    .dataframe tbody tr th {\n",
              "        vertical-align: top;\n",
              "    }\n",
              "\n",
              "    .dataframe thead th {\n",
              "        text-align: right;\n",
              "    }\n",
              "</style>\n",
              "<table border=\"1\" class=\"dataframe\">\n",
              "  <thead>\n",
              "    <tr style=\"text-align: right;\">\n",
              "      <th></th>\n",
              "      <th>tweet_id</th>\n",
              "      <th>created_at</th>\n",
              "      <th>text</th>\n",
              "      <th>likes</th>\n",
              "      <th>retweeted</th>\n",
              "      <th>location</th>\n",
              "      <th>language</th>\n",
              "      <th>airline</th>\n",
              "      <th>Tweet_tokenized</th>\n",
              "    </tr>\n",
              "  </thead>\n",
              "  <tbody>\n",
              "    <tr>\n",
              "      <th>14</th>\n",
              "      <td>1335393841810202624</td>\n",
              "      <td>2020-12-06 01:21:16</td>\n",
              "      <td>dear guest there is no flight from india to saudi arabia at this time kindly follow the flights…</td>\n",
              "      <td>1</td>\n",
              "      <td>False</td>\n",
              "      <td>Saudi Arabia</td>\n",
              "      <td>en</td>\n",
              "      <td>Saudi_airlines</td>\n",
              "      <td>[, dear, guest, there, is, no, flight, from, india, to, saudi, arabia, at, this, time, kindly, f...</td>\n",
              "    </tr>\n",
              "    <tr>\n",
              "      <th>23</th>\n",
              "      <td>1335337522738720770</td>\n",
              "      <td>2020-12-05 21:37:29</td>\n",
              "      <td>hello dear guest we hope you check and be informed of travel updates due to the corona virus co...</td>\n",
              "      <td>1</td>\n",
              "      <td>False</td>\n",
              "      <td>Saudi Arabia</td>\n",
              "      <td>en</td>\n",
              "      <td>Saudi_airlines</td>\n",
              "      <td>[, hello, dear, guest, we, hope, you, check, and, be, informed, of, travel, updates, due, to, th...</td>\n",
              "    </tr>\n",
              "    <tr>\n",
              "      <th>29</th>\n",
              "      <td>1335334320014315521</td>\n",
              "      <td>2020-12-05 21:24:45</td>\n",
              "      <td>hello dear guest please provide us with the booking number through the direct message to let yo...</td>\n",
              "      <td>0</td>\n",
              "      <td>False</td>\n",
              "      <td>Saudi Arabia</td>\n",
              "      <td>en</td>\n",
              "      <td>Saudi_airlines</td>\n",
              "      <td>[, hello, dear, guest, please, provide, us, with, the, booking, number, through, the, direct, me...</td>\n",
              "    </tr>\n",
              "    <tr>\n",
              "      <th>38</th>\n",
              "      <td>1335322063851167748</td>\n",
              "      <td>2020-12-05 20:36:03</td>\n",
              "      <td>dear guest there is no flight from india to saudi arabia at this time when flights schedule back…</td>\n",
              "      <td>1</td>\n",
              "      <td>False</td>\n",
              "      <td>Saudi Arabia</td>\n",
              "      <td>en</td>\n",
              "      <td>Saudi_airlines</td>\n",
              "      <td>[, dear, guest, there, is, no, flight, from, india, to, saudi, arabia, at, this, time, when, fli...</td>\n",
              "    </tr>\n",
              "    <tr>\n",
              "      <th>43</th>\n",
              "      <td>1335314759588122626</td>\n",
              "      <td>2020-12-05 20:07:02</td>\n",
              "      <td>hello dear guest you can follow up the flights schedule in our website  …</td>\n",
              "      <td>1</td>\n",
              "      <td>False</td>\n",
              "      <td>Saudi Arabia</td>\n",
              "      <td>en</td>\n",
              "      <td>Saudi_airlines</td>\n",
              "      <td>[, hello, dear, guest, you, can, follow, up, the, flights, schedule, in, our, website, ]</td>\n",
              "    </tr>\n",
              "  </tbody>\n",
              "</table>\n",
              "</div>"
            ],
            "text/plain": [
              "               tweet_id  ...                                                                                      Tweet_tokenized\n",
              "14  1335393841810202624  ...  [, dear, guest, there, is, no, flight, from, india, to, saudi, arabia, at, this, time, kindly, f...\n",
              "23  1335337522738720770  ...  [, hello, dear, guest, we, hope, you, check, and, be, informed, of, travel, updates, due, to, th...\n",
              "29  1335334320014315521  ...  [, hello, dear, guest, please, provide, us, with, the, booking, number, through, the, direct, me...\n",
              "38  1335322063851167748  ...  [, dear, guest, there, is, no, flight, from, india, to, saudi, arabia, at, this, time, when, fli...\n",
              "43  1335314759588122626  ...             [, hello, dear, guest, you, can, follow, up, the, flights, schedule, in, our, website, ]\n",
              "\n",
              "[5 rows x 9 columns]"
            ]
          },
          "metadata": {
            "tags": []
          },
          "execution_count": 23
        }
      ]
    },
    {
      "cell_type": "markdown",
      "metadata": {
        "id": "E91sKwLcWPbf"
      },
      "source": [
        "#stemming\n",
        "\n",
        "stemming is basically an algorithm to categorize similar words into one. "
      ]
    },
    {
      "cell_type": "code",
      "metadata": {
        "colab": {
          "base_uri": "https://localhost:8080/",
          "height": 751
        },
        "id": "f34UQPonZUf_",
        "outputId": "8c7bf0f4-367a-42b7-a933-b66061aa6f4e"
      },
      "source": [
        "ps = nltk.PorterStemmer()\n",
        "\n",
        "def stemming(text):\n",
        "    text = [ps.stem(word) for word in text]\n",
        "    return text\n",
        "\n",
        "saudia_airlines_en['Tweet_stemmed'] = saudia_airlines_en['Tweet_tokenized'].apply(lambda x: stemming(x))\n",
        "saudia_airlines_en.head()"
      ],
      "execution_count": 24,
      "outputs": [
        {
          "output_type": "stream",
          "text": [
            "/usr/local/lib/python3.6/dist-packages/ipykernel_launcher.py:7: SettingWithCopyWarning: \n",
            "A value is trying to be set on a copy of a slice from a DataFrame.\n",
            "Try using .loc[row_indexer,col_indexer] = value instead\n",
            "\n",
            "See the caveats in the documentation: https://pandas.pydata.org/pandas-docs/stable/user_guide/indexing.html#returning-a-view-versus-a-copy\n",
            "  import sys\n"
          ],
          "name": "stderr"
        },
        {
          "output_type": "execute_result",
          "data": {
            "text/html": [
              "<div>\n",
              "<style scoped>\n",
              "    .dataframe tbody tr th:only-of-type {\n",
              "        vertical-align: middle;\n",
              "    }\n",
              "\n",
              "    .dataframe tbody tr th {\n",
              "        vertical-align: top;\n",
              "    }\n",
              "\n",
              "    .dataframe thead th {\n",
              "        text-align: right;\n",
              "    }\n",
              "</style>\n",
              "<table border=\"1\" class=\"dataframe\">\n",
              "  <thead>\n",
              "    <tr style=\"text-align: right;\">\n",
              "      <th></th>\n",
              "      <th>tweet_id</th>\n",
              "      <th>created_at</th>\n",
              "      <th>text</th>\n",
              "      <th>likes</th>\n",
              "      <th>retweeted</th>\n",
              "      <th>location</th>\n",
              "      <th>language</th>\n",
              "      <th>airline</th>\n",
              "      <th>Tweet_tokenized</th>\n",
              "      <th>Tweet_stemmed</th>\n",
              "    </tr>\n",
              "  </thead>\n",
              "  <tbody>\n",
              "    <tr>\n",
              "      <th>14</th>\n",
              "      <td>1335393841810202624</td>\n",
              "      <td>2020-12-06 01:21:16</td>\n",
              "      <td>dear guest there is no flight from india to saudi arabia at this time kindly follow the flights…</td>\n",
              "      <td>1</td>\n",
              "      <td>False</td>\n",
              "      <td>Saudi Arabia</td>\n",
              "      <td>en</td>\n",
              "      <td>Saudi_airlines</td>\n",
              "      <td>[, dear, guest, there, is, no, flight, from, india, to, saudi, arabia, at, this, time, kindly, f...</td>\n",
              "      <td>[, dear, guest, there, is, no, flight, from, india, to, saudi, arabia, at, thi, time, kindli, fo...</td>\n",
              "    </tr>\n",
              "    <tr>\n",
              "      <th>23</th>\n",
              "      <td>1335337522738720770</td>\n",
              "      <td>2020-12-05 21:37:29</td>\n",
              "      <td>hello dear guest we hope you check and be informed of travel updates due to the corona virus co...</td>\n",
              "      <td>1</td>\n",
              "      <td>False</td>\n",
              "      <td>Saudi Arabia</td>\n",
              "      <td>en</td>\n",
              "      <td>Saudi_airlines</td>\n",
              "      <td>[, hello, dear, guest, we, hope, you, check, and, be, informed, of, travel, updates, due, to, th...</td>\n",
              "      <td>[, hello, dear, guest, we, hope, you, check, and, be, inform, of, travel, updat, due, to, the, c...</td>\n",
              "    </tr>\n",
              "    <tr>\n",
              "      <th>29</th>\n",
              "      <td>1335334320014315521</td>\n",
              "      <td>2020-12-05 21:24:45</td>\n",
              "      <td>hello dear guest please provide us with the booking number through the direct message to let yo...</td>\n",
              "      <td>0</td>\n",
              "      <td>False</td>\n",
              "      <td>Saudi Arabia</td>\n",
              "      <td>en</td>\n",
              "      <td>Saudi_airlines</td>\n",
              "      <td>[, hello, dear, guest, please, provide, us, with, the, booking, number, through, the, direct, me...</td>\n",
              "      <td>[, hello, dear, guest, pleas, provid, us, with, the, book, number, through, the, direct, messag,...</td>\n",
              "    </tr>\n",
              "    <tr>\n",
              "      <th>38</th>\n",
              "      <td>1335322063851167748</td>\n",
              "      <td>2020-12-05 20:36:03</td>\n",
              "      <td>dear guest there is no flight from india to saudi arabia at this time when flights schedule back…</td>\n",
              "      <td>1</td>\n",
              "      <td>False</td>\n",
              "      <td>Saudi Arabia</td>\n",
              "      <td>en</td>\n",
              "      <td>Saudi_airlines</td>\n",
              "      <td>[, dear, guest, there, is, no, flight, from, india, to, saudi, arabia, at, this, time, when, fli...</td>\n",
              "      <td>[, dear, guest, there, is, no, flight, from, india, to, saudi, arabia, at, thi, time, when, flig...</td>\n",
              "    </tr>\n",
              "    <tr>\n",
              "      <th>43</th>\n",
              "      <td>1335314759588122626</td>\n",
              "      <td>2020-12-05 20:07:02</td>\n",
              "      <td>hello dear guest you can follow up the flights schedule in our website  …</td>\n",
              "      <td>1</td>\n",
              "      <td>False</td>\n",
              "      <td>Saudi Arabia</td>\n",
              "      <td>en</td>\n",
              "      <td>Saudi_airlines</td>\n",
              "      <td>[, hello, dear, guest, you, can, follow, up, the, flights, schedule, in, our, website, ]</td>\n",
              "      <td>[, hello, dear, guest, you, can, follow, up, the, flight, schedul, in, our, websit, ]</td>\n",
              "    </tr>\n",
              "  </tbody>\n",
              "</table>\n",
              "</div>"
            ],
            "text/plain": [
              "               tweet_id  ...                                                                                        Tweet_stemmed\n",
              "14  1335393841810202624  ...  [, dear, guest, there, is, no, flight, from, india, to, saudi, arabia, at, thi, time, kindli, fo...\n",
              "23  1335337522738720770  ...  [, hello, dear, guest, we, hope, you, check, and, be, inform, of, travel, updat, due, to, the, c...\n",
              "29  1335334320014315521  ...  [, hello, dear, guest, pleas, provid, us, with, the, book, number, through, the, direct, messag,...\n",
              "38  1335322063851167748  ...  [, dear, guest, there, is, no, flight, from, india, to, saudi, arabia, at, thi, time, when, flig...\n",
              "43  1335314759588122626  ...                [, hello, dear, guest, you, can, follow, up, the, flight, schedul, in, our, websit, ]\n",
              "\n",
              "[5 rows x 10 columns]"
            ]
          },
          "metadata": {
            "tags": []
          },
          "execution_count": 24
        }
      ]
    },
    {
      "cell_type": "markdown",
      "metadata": {
        "id": "qyceIrDnYlWV"
      },
      "source": [
        "#Lemmatizing\n",
        "\n",
        "According to wiki, Lemmatisation is closely related to stemming. The difference is that a stemmer operates on a single word without knowledge of the context, and therefore cannot discriminate between words which have different meanings depending on part of speech"
      ]
    },
    {
      "cell_type": "code",
      "metadata": {
        "colab": {
          "base_uri": "https://localhost:8080/",
          "height": 1000
        },
        "id": "Uti6WRCQWXUj",
        "outputId": "3eea3ae8-f3f5-444a-f307-bf65c36c703e"
      },
      "source": [
        "nltk.download('wordnet')\n",
        "wn = nltk.WordNetLemmatizer()\n",
        "\n",
        "def lemmatize(text):\n",
        "    text = [wn.lemmatize(word) for word in text]\n",
        "    return text\n",
        "\n",
        "saudia_airlines_en['Tweet_lemmatized'] = saudia_airlines_en['Tweet_tokenized'].apply(lambda x: lemmatize(x))\n",
        "saudia_airlines_en.head()"
      ],
      "execution_count": 26,
      "outputs": [
        {
          "output_type": "stream",
          "text": [
            "[nltk_data] Downloading package wordnet to /root/nltk_data...\n",
            "[nltk_data]   Unzipping corpora/wordnet.zip.\n"
          ],
          "name": "stdout"
        },
        {
          "output_type": "stream",
          "text": [
            "/usr/local/lib/python3.6/dist-packages/ipykernel_launcher.py:8: SettingWithCopyWarning: \n",
            "A value is trying to be set on a copy of a slice from a DataFrame.\n",
            "Try using .loc[row_indexer,col_indexer] = value instead\n",
            "\n",
            "See the caveats in the documentation: https://pandas.pydata.org/pandas-docs/stable/user_guide/indexing.html#returning-a-view-versus-a-copy\n",
            "  \n"
          ],
          "name": "stderr"
        },
        {
          "output_type": "execute_result",
          "data": {
            "text/html": [
              "<div>\n",
              "<style scoped>\n",
              "    .dataframe tbody tr th:only-of-type {\n",
              "        vertical-align: middle;\n",
              "    }\n",
              "\n",
              "    .dataframe tbody tr th {\n",
              "        vertical-align: top;\n",
              "    }\n",
              "\n",
              "    .dataframe thead th {\n",
              "        text-align: right;\n",
              "    }\n",
              "</style>\n",
              "<table border=\"1\" class=\"dataframe\">\n",
              "  <thead>\n",
              "    <tr style=\"text-align: right;\">\n",
              "      <th></th>\n",
              "      <th>tweet_id</th>\n",
              "      <th>created_at</th>\n",
              "      <th>text</th>\n",
              "      <th>likes</th>\n",
              "      <th>retweeted</th>\n",
              "      <th>location</th>\n",
              "      <th>language</th>\n",
              "      <th>airline</th>\n",
              "      <th>Tweet_tokenized</th>\n",
              "      <th>Tweet_stemmed</th>\n",
              "      <th>Tweet_lemmatized</th>\n",
              "    </tr>\n",
              "  </thead>\n",
              "  <tbody>\n",
              "    <tr>\n",
              "      <th>14</th>\n",
              "      <td>1335393841810202624</td>\n",
              "      <td>2020-12-06 01:21:16</td>\n",
              "      <td>dear guest there is no flight from india to saudi arabia at this time kindly follow the flights…</td>\n",
              "      <td>1</td>\n",
              "      <td>False</td>\n",
              "      <td>Saudi Arabia</td>\n",
              "      <td>en</td>\n",
              "      <td>Saudi_airlines</td>\n",
              "      <td>[, dear, guest, there, is, no, flight, from, india, to, saudi, arabia, at, this, time, kindly, f...</td>\n",
              "      <td>[, dear, guest, there, is, no, flight, from, india, to, saudi, arabia, at, thi, time, kindli, fo...</td>\n",
              "      <td>[, dear, guest, there, is, no, flight, from, india, to, saudi, arabia, at, this, time, kindly, f...</td>\n",
              "    </tr>\n",
              "    <tr>\n",
              "      <th>23</th>\n",
              "      <td>1335337522738720770</td>\n",
              "      <td>2020-12-05 21:37:29</td>\n",
              "      <td>hello dear guest we hope you check and be informed of travel updates due to the corona virus co...</td>\n",
              "      <td>1</td>\n",
              "      <td>False</td>\n",
              "      <td>Saudi Arabia</td>\n",
              "      <td>en</td>\n",
              "      <td>Saudi_airlines</td>\n",
              "      <td>[, hello, dear, guest, we, hope, you, check, and, be, informed, of, travel, updates, due, to, th...</td>\n",
              "      <td>[, hello, dear, guest, we, hope, you, check, and, be, inform, of, travel, updat, due, to, the, c...</td>\n",
              "      <td>[, hello, dear, guest, we, hope, you, check, and, be, informed, of, travel, update, due, to, the...</td>\n",
              "    </tr>\n",
              "    <tr>\n",
              "      <th>29</th>\n",
              "      <td>1335334320014315521</td>\n",
              "      <td>2020-12-05 21:24:45</td>\n",
              "      <td>hello dear guest please provide us with the booking number through the direct message to let yo...</td>\n",
              "      <td>0</td>\n",
              "      <td>False</td>\n",
              "      <td>Saudi Arabia</td>\n",
              "      <td>en</td>\n",
              "      <td>Saudi_airlines</td>\n",
              "      <td>[, hello, dear, guest, please, provide, us, with, the, booking, number, through, the, direct, me...</td>\n",
              "      <td>[, hello, dear, guest, pleas, provid, us, with, the, book, number, through, the, direct, messag,...</td>\n",
              "      <td>[, hello, dear, guest, please, provide, u, with, the, booking, number, through, the, direct, mes...</td>\n",
              "    </tr>\n",
              "    <tr>\n",
              "      <th>38</th>\n",
              "      <td>1335322063851167748</td>\n",
              "      <td>2020-12-05 20:36:03</td>\n",
              "      <td>dear guest there is no flight from india to saudi arabia at this time when flights schedule back…</td>\n",
              "      <td>1</td>\n",
              "      <td>False</td>\n",
              "      <td>Saudi Arabia</td>\n",
              "      <td>en</td>\n",
              "      <td>Saudi_airlines</td>\n",
              "      <td>[, dear, guest, there, is, no, flight, from, india, to, saudi, arabia, at, this, time, when, fli...</td>\n",
              "      <td>[, dear, guest, there, is, no, flight, from, india, to, saudi, arabia, at, thi, time, when, flig...</td>\n",
              "      <td>[, dear, guest, there, is, no, flight, from, india, to, saudi, arabia, at, this, time, when, fli...</td>\n",
              "    </tr>\n",
              "    <tr>\n",
              "      <th>43</th>\n",
              "      <td>1335314759588122626</td>\n",
              "      <td>2020-12-05 20:07:02</td>\n",
              "      <td>hello dear guest you can follow up the flights schedule in our website  …</td>\n",
              "      <td>1</td>\n",
              "      <td>False</td>\n",
              "      <td>Saudi Arabia</td>\n",
              "      <td>en</td>\n",
              "      <td>Saudi_airlines</td>\n",
              "      <td>[, hello, dear, guest, you, can, follow, up, the, flights, schedule, in, our, website, ]</td>\n",
              "      <td>[, hello, dear, guest, you, can, follow, up, the, flight, schedul, in, our, websit, ]</td>\n",
              "      <td>[, hello, dear, guest, you, can, follow, up, the, flight, schedule, in, our, website, ]</td>\n",
              "    </tr>\n",
              "  </tbody>\n",
              "</table>\n",
              "</div>"
            ],
            "text/plain": [
              "               tweet_id  ...                                                                                     Tweet_lemmatized\n",
              "14  1335393841810202624  ...  [, dear, guest, there, is, no, flight, from, india, to, saudi, arabia, at, this, time, kindly, f...\n",
              "23  1335337522738720770  ...  [, hello, dear, guest, we, hope, you, check, and, be, informed, of, travel, update, due, to, the...\n",
              "29  1335334320014315521  ...  [, hello, dear, guest, please, provide, u, with, the, booking, number, through, the, direct, mes...\n",
              "38  1335322063851167748  ...  [, dear, guest, there, is, no, flight, from, india, to, saudi, arabia, at, this, time, when, fli...\n",
              "43  1335314759588122626  ...              [, hello, dear, guest, you, can, follow, up, the, flight, schedule, in, our, website, ]\n",
              "\n",
              "[5 rows x 11 columns]"
            ]
          },
          "metadata": {
            "tags": []
          },
          "execution_count": 26
        }
      ]
    },
    {
      "cell_type": "markdown",
      "metadata": {
        "id": "DQBoBiOTnMsG"
      },
      "source": [
        "In fact, it can be clearly seen that lemmatizing better than stemming since some the words transformed to meaningless words such as kindli instead of being kindly which is the correct form of the word "
      ]
    },
    {
      "cell_type": "markdown",
      "metadata": {
        "id": "s6CyjKuCalCc"
      },
      "source": [
        "Now let's compare the number of unique words in Lemmatizing and Stemming"
      ]
    },
    {
      "cell_type": "code",
      "metadata": {
        "colab": {
          "base_uri": "https://localhost:8080/"
        },
        "id": "vVyPn-JjY4mc",
        "outputId": "846189c0-9dd0-4614-8806-77879b9f8d0d"
      },
      "source": [
        "listOfWordsLemma = list(itertools.chain.from_iterable(saudia_airlines_en['Tweet_lemmatized']))\n",
        "listOfWordsStem = list(itertools.chain.from_iterable(saudia_airlines_en['Tweet_stemmed']))\n",
        "\n",
        "#number of unique tokens\n",
        "print(\"Unique words aft Lemm :\"+str(len(set(listOfWordsLemma))))\n",
        "print(\"Unique words aft Stem :\"+str(len(set(listOfWordsStem))))\n",
        "\n"
      ],
      "execution_count": 27,
      "outputs": [
        {
          "output_type": "stream",
          "text": [
            "Unique words aft Lemm :512\n",
            "Unique words aft Stem :470\n"
          ],
          "name": "stdout"
        }
      ]
    },
    {
      "cell_type": "markdown",
      "metadata": {
        "id": "9ta44Djjn4K7"
      },
      "source": [
        "Surprisingly the Stemmed version got a lesser number of words. Therefore I will have to move forward with the saudia_airlines_en['Tweet_lemmatized'] data set."
      ]
    },
    {
      "cell_type": "markdown",
      "metadata": {
        "id": "1t1JXvDIYSMo"
      },
      "source": [
        "#Remove stopwords"
      ]
    },
    {
      "cell_type": "code",
      "metadata": {
        "colab": {
          "base_uri": "https://localhost:8080/"
        },
        "id": "C_9nfiibo2sn",
        "outputId": "485170a8-f934-4325-cfa6-6cb09dd17f44"
      },
      "source": [
        "nltk.download('stopwords')\n",
        "stopword = nltk.corpus.stopwords.words('english')"
      ],
      "execution_count": 38,
      "outputs": [
        {
          "output_type": "stream",
          "text": [
            "[nltk_data] Downloading package stopwords to /root/nltk_data...\n",
            "[nltk_data]   Package stopwords is already up-to-date!\n"
          ],
          "name": "stdout"
        }
      ]
    },
    {
      "cell_type": "code",
      "metadata": {
        "id": "wVMd789EpKa-"
      },
      "source": [
        "def remove_stopwords(text):\n",
        "    text = [word for word in text if word not in stopword]\n",
        "    return text"
      ],
      "execution_count": 40,
      "outputs": []
    },
    {
      "cell_type": "code",
      "metadata": {
        "colab": {
          "base_uri": "https://localhost:8080/",
          "height": 1000
        },
        "id": "S5xdTfuSX7di",
        "outputId": "d93a4d18-9793-4d14-a133-0aba4139f8b2"
      },
      "source": [
        "saudia_airlines_en['Tweet_nonstop'] = saudia_airlines_en['Tweet_lemmatized'].apply(lambda x: remove_stopwords(x))\n",
        "saudia_airlines_en.head(10)"
      ],
      "execution_count": 41,
      "outputs": [
        {
          "output_type": "stream",
          "text": [
            "/usr/local/lib/python3.6/dist-packages/ipykernel_launcher.py:1: SettingWithCopyWarning: \n",
            "A value is trying to be set on a copy of a slice from a DataFrame.\n",
            "Try using .loc[row_indexer,col_indexer] = value instead\n",
            "\n",
            "See the caveats in the documentation: https://pandas.pydata.org/pandas-docs/stable/user_guide/indexing.html#returning-a-view-versus-a-copy\n",
            "  \"\"\"Entry point for launching an IPython kernel.\n"
          ],
          "name": "stderr"
        },
        {
          "output_type": "execute_result",
          "data": {
            "text/html": [
              "<div>\n",
              "<style scoped>\n",
              "    .dataframe tbody tr th:only-of-type {\n",
              "        vertical-align: middle;\n",
              "    }\n",
              "\n",
              "    .dataframe tbody tr th {\n",
              "        vertical-align: top;\n",
              "    }\n",
              "\n",
              "    .dataframe thead th {\n",
              "        text-align: right;\n",
              "    }\n",
              "</style>\n",
              "<table border=\"1\" class=\"dataframe\">\n",
              "  <thead>\n",
              "    <tr style=\"text-align: right;\">\n",
              "      <th></th>\n",
              "      <th>tweet_id</th>\n",
              "      <th>created_at</th>\n",
              "      <th>text</th>\n",
              "      <th>likes</th>\n",
              "      <th>retweeted</th>\n",
              "      <th>location</th>\n",
              "      <th>language</th>\n",
              "      <th>airline</th>\n",
              "      <th>Tweet_tokenized</th>\n",
              "      <th>Tweet_stemmed</th>\n",
              "      <th>Tweet_lemmatized</th>\n",
              "      <th>Tweet_nonstop</th>\n",
              "    </tr>\n",
              "  </thead>\n",
              "  <tbody>\n",
              "    <tr>\n",
              "      <th>14</th>\n",
              "      <td>1335393841810202624</td>\n",
              "      <td>2020-12-06 01:21:16</td>\n",
              "      <td>dear guest there is no flight from india to saudi arabia at this time kindly follow the flights…</td>\n",
              "      <td>1</td>\n",
              "      <td>False</td>\n",
              "      <td>Saudi Arabia</td>\n",
              "      <td>en</td>\n",
              "      <td>Saudi_airlines</td>\n",
              "      <td>[, dear, guest, there, is, no, flight, from, india, to, saudi, arabia, at, this, time, kindly, f...</td>\n",
              "      <td>[, dear, guest, there, is, no, flight, from, india, to, saudi, arabia, at, thi, time, kindli, fo...</td>\n",
              "      <td>[, dear, guest, there, is, no, flight, from, india, to, saudi, arabia, at, this, time, kindly, f...</td>\n",
              "      <td>[, dear, guest, flight, india, saudi, arabia, time, kindly, follow, flight, ]</td>\n",
              "    </tr>\n",
              "    <tr>\n",
              "      <th>23</th>\n",
              "      <td>1335337522738720770</td>\n",
              "      <td>2020-12-05 21:37:29</td>\n",
              "      <td>hello dear guest we hope you check and be informed of travel updates due to the corona virus co...</td>\n",
              "      <td>1</td>\n",
              "      <td>False</td>\n",
              "      <td>Saudi Arabia</td>\n",
              "      <td>en</td>\n",
              "      <td>Saudi_airlines</td>\n",
              "      <td>[, hello, dear, guest, we, hope, you, check, and, be, informed, of, travel, updates, due, to, th...</td>\n",
              "      <td>[, hello, dear, guest, we, hope, you, check, and, be, inform, of, travel, updat, due, to, the, c...</td>\n",
              "      <td>[, hello, dear, guest, we, hope, you, check, and, be, informed, of, travel, update, due, to, the...</td>\n",
              "      <td>[, hello, dear, guest, hope, check, informed, travel, update, due, corona, virus, covid, ]</td>\n",
              "    </tr>\n",
              "    <tr>\n",
              "      <th>29</th>\n",
              "      <td>1335334320014315521</td>\n",
              "      <td>2020-12-05 21:24:45</td>\n",
              "      <td>hello dear guest please provide us with the booking number through the direct message to let yo...</td>\n",
              "      <td>0</td>\n",
              "      <td>False</td>\n",
              "      <td>Saudi Arabia</td>\n",
              "      <td>en</td>\n",
              "      <td>Saudi_airlines</td>\n",
              "      <td>[, hello, dear, guest, please, provide, us, with, the, booking, number, through, the, direct, me...</td>\n",
              "      <td>[, hello, dear, guest, pleas, provid, us, with, the, book, number, through, the, direct, messag,...</td>\n",
              "      <td>[, hello, dear, guest, please, provide, u, with, the, booking, number, through, the, direct, mes...</td>\n",
              "      <td>[, hello, dear, guest, please, provide, u, booking, number, direct, message, let, know, thank]</td>\n",
              "    </tr>\n",
              "    <tr>\n",
              "      <th>38</th>\n",
              "      <td>1335322063851167748</td>\n",
              "      <td>2020-12-05 20:36:03</td>\n",
              "      <td>dear guest there is no flight from india to saudi arabia at this time when flights schedule back…</td>\n",
              "      <td>1</td>\n",
              "      <td>False</td>\n",
              "      <td>Saudi Arabia</td>\n",
              "      <td>en</td>\n",
              "      <td>Saudi_airlines</td>\n",
              "      <td>[, dear, guest, there, is, no, flight, from, india, to, saudi, arabia, at, this, time, when, fli...</td>\n",
              "      <td>[, dear, guest, there, is, no, flight, from, india, to, saudi, arabia, at, thi, time, when, flig...</td>\n",
              "      <td>[, dear, guest, there, is, no, flight, from, india, to, saudi, arabia, at, this, time, when, fli...</td>\n",
              "      <td>[, dear, guest, flight, india, saudi, arabia, time, flight, schedule, back, ]</td>\n",
              "    </tr>\n",
              "    <tr>\n",
              "      <th>43</th>\n",
              "      <td>1335314759588122626</td>\n",
              "      <td>2020-12-05 20:07:02</td>\n",
              "      <td>hello dear guest you can follow up the flights schedule in our website  …</td>\n",
              "      <td>1</td>\n",
              "      <td>False</td>\n",
              "      <td>Saudi Arabia</td>\n",
              "      <td>en</td>\n",
              "      <td>Saudi_airlines</td>\n",
              "      <td>[, hello, dear, guest, you, can, follow, up, the, flights, schedule, in, our, website, ]</td>\n",
              "      <td>[, hello, dear, guest, you, can, follow, up, the, flight, schedul, in, our, websit, ]</td>\n",
              "      <td>[, hello, dear, guest, you, can, follow, up, the, flight, schedule, in, our, website, ]</td>\n",
              "      <td>[, hello, dear, guest, follow, flight, schedule, website, ]</td>\n",
              "    </tr>\n",
              "    <tr>\n",
              "      <th>50</th>\n",
              "      <td>1335306576312356865</td>\n",
              "      <td>2020-12-05 19:34:31</td>\n",
              "      <td>dear guest there is no flight from india to saudi arabia at this time when flights schedule bac...</td>\n",
              "      <td>0</td>\n",
              "      <td>False</td>\n",
              "      <td>Saudi Arabia</td>\n",
              "      <td>en</td>\n",
              "      <td>Saudi_airlines</td>\n",
              "      <td>[, dear, guest, there, is, no, flight, from, india, to, saudi, arabia, at, this, time, when, fli...</td>\n",
              "      <td>[, dear, guest, there, is, no, flight, from, india, to, saudi, arabia, at, thi, time, when, flig...</td>\n",
              "      <td>[, dear, guest, there, is, no, flight, from, india, to, saudi, arabia, at, this, time, when, fli...</td>\n",
              "      <td>[, dear, guest, flight, india, saudi, arabia, time, flight, schedule, back, ]</td>\n",
              "    </tr>\n",
              "    <tr>\n",
              "      <th>51</th>\n",
              "      <td>1335304974679613443</td>\n",
              "      <td>2020-12-05 19:28:09</td>\n",
              "      <td>hello dear valued guest once the confirmation of the date of lifting restrictions on internatio...</td>\n",
              "      <td>1</td>\n",
              "      <td>False</td>\n",
              "      <td>Saudi Arabia</td>\n",
              "      <td>en</td>\n",
              "      <td>Saudi_airlines</td>\n",
              "      <td>[, hello, dear, valued, guest, once, the, confirmation, of, the, date, of, lifting, restrictions...</td>\n",
              "      <td>[, hello, dear, valu, guest, onc, the, confirm, of, the, date, of, lift, restrict, on, intern, f...</td>\n",
              "      <td>[, hello, dear, valued, guest, once, the, confirmation, of, the, date, of, lifting, restriction,...</td>\n",
              "      <td>[, hello, dear, valued, guest, confirmation, date, lifting, restriction, international, fl, ]</td>\n",
              "    </tr>\n",
              "    <tr>\n",
              "      <th>53</th>\n",
              "      <td>1335276146653589507</td>\n",
              "      <td>2020-12-05 17:33:36</td>\n",
              "      <td>dear guest there is no flight from india to saudi arabia at this time when flights schedule back…</td>\n",
              "      <td>0</td>\n",
              "      <td>False</td>\n",
              "      <td>Saudi Arabia</td>\n",
              "      <td>en</td>\n",
              "      <td>Saudi_airlines</td>\n",
              "      <td>[, dear, guest, there, is, no, flight, from, india, to, saudi, arabia, at, this, time, when, fli...</td>\n",
              "      <td>[, dear, guest, there, is, no, flight, from, india, to, saudi, arabia, at, thi, time, when, flig...</td>\n",
              "      <td>[, dear, guest, there, is, no, flight, from, india, to, saudi, arabia, at, this, time, when, fli...</td>\n",
              "      <td>[, dear, guest, flight, india, saudi, arabia, time, flight, schedule, back, ]</td>\n",
              "    </tr>\n",
              "    <tr>\n",
              "      <th>55</th>\n",
              "      <td>1335275872295804928</td>\n",
              "      <td>2020-12-05 17:32:30</td>\n",
              "      <td>dear guest there is no flight from india to saudi arabia at this time when flights schedule bac...</td>\n",
              "      <td>0</td>\n",
              "      <td>False</td>\n",
              "      <td>Saudi Arabia</td>\n",
              "      <td>en</td>\n",
              "      <td>Saudi_airlines</td>\n",
              "      <td>[, dear, guest, there, is, no, flight, from, india, to, saudi, arabia, at, this, time, when, fli...</td>\n",
              "      <td>[, dear, guest, there, is, no, flight, from, india, to, saudi, arabia, at, thi, time, when, flig...</td>\n",
              "      <td>[, dear, guest, there, is, no, flight, from, india, to, saudi, arabia, at, this, time, when, fli...</td>\n",
              "      <td>[, dear, guest, flight, india, saudi, arabia, time, flight, schedule, back, ]</td>\n",
              "    </tr>\n",
              "    <tr>\n",
              "      <th>57</th>\n",
              "      <td>1335266364739694593</td>\n",
              "      <td>2020-12-05 16:54:44</td>\n",
              "      <td>hello dear guest imran please provide us with the ticket number through the direct message to a...</td>\n",
              "      <td>0</td>\n",
              "      <td>False</td>\n",
              "      <td>Saudi Arabia</td>\n",
              "      <td>en</td>\n",
              "      <td>Saudi_airlines</td>\n",
              "      <td>[, hello, dear, guest, imran, please, provide, us, with, the, ticket, number, through, the, dire...</td>\n",
              "      <td>[, hello, dear, guest, imran, pleas, provid, us, with, the, ticket, number, through, the, direct...</td>\n",
              "      <td>[, hello, dear, guest, imran, please, provide, u, with, the, ticket, number, through, the, direc...</td>\n",
              "      <td>[, hello, dear, guest, imran, please, provide, u, ticket, number, direct, message, allow, ]</td>\n",
              "    </tr>\n",
              "  </tbody>\n",
              "</table>\n",
              "</div>"
            ],
            "text/plain": [
              "               tweet_id  ...                                                                                   Tweet_nonstop\n",
              "14  1335393841810202624  ...                   [, dear, guest, flight, india, saudi, arabia, time, kindly, follow, flight, ]\n",
              "23  1335337522738720770  ...      [, hello, dear, guest, hope, check, informed, travel, update, due, corona, virus, covid, ]\n",
              "29  1335334320014315521  ...  [, hello, dear, guest, please, provide, u, booking, number, direct, message, let, know, thank]\n",
              "38  1335322063851167748  ...                   [, dear, guest, flight, india, saudi, arabia, time, flight, schedule, back, ]\n",
              "43  1335314759588122626  ...                                     [, hello, dear, guest, follow, flight, schedule, website, ]\n",
              "50  1335306576312356865  ...                   [, dear, guest, flight, india, saudi, arabia, time, flight, schedule, back, ]\n",
              "51  1335304974679613443  ...   [, hello, dear, valued, guest, confirmation, date, lifting, restriction, international, fl, ]\n",
              "53  1335276146653589507  ...                   [, dear, guest, flight, india, saudi, arabia, time, flight, schedule, back, ]\n",
              "55  1335275872295804928  ...                   [, dear, guest, flight, india, saudi, arabia, time, flight, schedule, back, ]\n",
              "57  1335266364739694593  ...     [, hello, dear, guest, imran, please, provide, u, ticket, number, direct, message, allow, ]\n",
              "\n",
              "[10 rows x 12 columns]"
            ]
          },
          "metadata": {
            "tags": []
          },
          "execution_count": 41
        }
      ]
    },
    {
      "cell_type": "markdown",
      "metadata": {
        "id": "mFhrHbmNpaa9"
      },
      "source": [
        "Now, let's check the number of unique words has reduced or not. Ideally, there has to be some reduction. "
      ]
    },
    {
      "cell_type": "code",
      "metadata": {
        "colab": {
          "base_uri": "https://localhost:8080/"
        },
        "id": "o5ZmiTYlpfQL",
        "outputId": "0709f977-a0aa-4fb6-8dcb-dc414a81b23f"
      },
      "source": [
        "listOfWordsNonstop = list(itertools.chain.from_iterable(saudia_airlines_en['Tweet_nonstop']))\n",
        "\n",
        "#number of unique tokens in first data set\n",
        "print(\"Unique words aft removing stop words :\"+str(len(set(listOfWordsNonstop))))"
      ],
      "execution_count": 43,
      "outputs": [
        {
          "output_type": "stream",
          "text": [
            "Unique words aft removing stop words :444\n"
          ],
          "name": "stdout"
        }
      ]
    },
    {
      "cell_type": "markdown",
      "metadata": {
        "id": "gjOty28NqtDV"
      },
      "source": [
        "#Removing words with fewer frequencies"
      ]
    },
    {
      "cell_type": "code",
      "metadata": {
        "id": "bRJD86RqqwXh"
      },
      "source": [
        ""
      ],
      "execution_count": null,
      "outputs": []
    },
    {
      "cell_type": "markdown",
      "metadata": {
        "id": "pyg2c1BQqxL3"
      },
      "source": [
        "#Word cloud visualization"
      ]
    },
    {
      "cell_type": "code",
      "metadata": {
        "colab": {
          "base_uri": "https://localhost:8080/",
          "height": 232
        },
        "id": "uv4W2IuqZdj7",
        "outputId": "9cde284b-a2c4-4dc9-d079-ce96a399869f"
      },
      "source": [
        "\n",
        "allWords = ''.join([str(twts) for twts in saudia_airlines_en['Tweet_nonstop']])\n",
        "wordCloud = WordCloud(width=500, height=300, random_state=21, max_font_size=110).generate(allWords)\n",
        "\n",
        "\n",
        "plt.imshow(wordCloud, interpolation=\"bilinear\")\n",
        "plt.axis('off')\n",
        "plt.show()"
      ],
      "execution_count": 46,
      "outputs": [
        {
          "output_type": "display_data",
          "data": {
            "image/png": "[encoded data removed]",
            "text/plain": [
              "<Figure size 432x288 with 1 Axes>"
            ]
          },
          "metadata": {
            "tags": [],
            "needs_background": "light"
          }
        }
      ]
    },
    {
      "cell_type": "markdown",
      "metadata": {
        "id": "HHFvl8GxrUWm"
      },
      "source": [
        "Removing columns because we need only the last process from cleaning the data"
      ]
    },
    {
      "cell_type": "code",
      "metadata": {
        "id": "L7TAVcqSrThN"
      },
      "source": [
        "saudia_airlines_en = saudia_airlines_en.drop(['Tweet_tokenized', 'Tweet_lemmatized', 'Tweet_stemmed'], axis=1)"
      ],
      "execution_count": 47,
      "outputs": []
    },
    {
      "cell_type": "markdown",
      "metadata": {
        "id": "Y2b2xDgsvOKM"
      },
      "source": [
        "#Save the data set"
      ]
    },
    {
      "cell_type": "code",
      "metadata": {
        "id": "Ifag5vI2ZUyB"
      },
      "source": [
        "saudia_airlines_en.to_csv('saudia_airlines_en.csv')\n",
        "!cp saudia_airlines_en.csv \"./gdrive/My Drive/datasets/twitter_analysis/\""
      ],
      "execution_count": 48,
      "outputs": []
    },
    {
      "cell_type": "markdown",
      "metadata": {
        "id": "_G_N3j7wNRMO"
      },
      "source": [
        "#Clean the flynas"
      ]
    }
  ]
}