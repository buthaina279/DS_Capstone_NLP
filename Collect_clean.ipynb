{
  "nbformat": 4,
  "nbformat_minor": 0,
  "metadata": {
    "colab": {
      "name": "Collect_clean.ipynb",
      "provenance": [],
      "collapsed_sections": [
        "mwk95HikRwMv",
        "AxJwidIcNysK",
        "bJBqy4GCfV4_",
        "lMkDFWKcu1Xs",
        "qljezK_MzBPo",
        "7TCkvtZQzM-5"
      ],
      "authorship_tag": "ABX9TyP8knWUIAXfR/9s2G3VhGGz",
      "include_colab_link": true
    },
    "kernelspec": {
      "name": "python3",
      "display_name": "Python 3"
    }
  },
  "cells": [
    {
      "cell_type": "markdown",
      "metadata": {
        "id": "view-in-github",
        "colab_type": "text"
      },
      "source": [
        "<a href=\"https://colab.research.google.com/github/buthaina279/DS_Capstone_NLP/blob/main/Collect_clean.ipynb\" target=\"_parent\"><img src=\"https://colab.research.google.com/assets/colab-badge.svg\" alt=\"Open In Colab\"/></a>"
      ]
    },
    {
      "cell_type": "code",
      "metadata": {
        "id": "trMq9TeJe4VX"
      },
      "source": [
        "# Import all needed libraries\n",
        "import tweepy                   # Python wrapper around Twitter API\n",
        "from google.colab import drive  # to mount Drive to Colab notebook\n",
        "import json\n",
        "import csv\n",
        "from datetime import date\n",
        "from datetime import datetime\n",
        "import time\n",
        "import itertools "
      ],
      "execution_count": null,
      "outputs": []
    },
    {
      "cell_type": "code",
      "metadata": {
        "id": "fpwspMND3VaM",
        "colab": {
          "base_uri": "https://localhost:8080/"
        },
        "outputId": "34d77c05-1d7c-4f95-d523-3af8a6efdf85"
      },
      "source": [
        "# Import Libraries\n",
        "\n",
        "from textblob import TextBlob\n",
        "import sys\n",
        "import tweepy\n",
        "import matplotlib.pyplot as plt\n",
        "import pandas as pd\n",
        "import numpy as np\n",
        "import os\n",
        "import nltk\n",
        "#import pycountry\n",
        "import re\n",
        "import string\n",
        "\n",
        "from wordcloud import WordCloud, STOPWORDS\n",
        "from PIL import Image\n",
        "from nltk.sentiment.vader import SentimentIntensityAnalyzer\n",
        "#from langdetect import detect\n",
        "from nltk.stem import SnowballStemmer\n",
        "from nltk.sentiment.vader import SentimentIntensityAnalyzer\n",
        "from sklearn.feature_extraction.text import CountVectorizer"
      ],
      "execution_count": null,
      "outputs": [
        {
          "output_type": "stream",
          "text": [
            "/usr/local/lib/python3.6/dist-packages/nltk/twitter/__init__.py:20: UserWarning: The twython library has not been installed. Some functionality from the twitter package will not be available.\n",
            "  warnings.warn(\"The twython library has not been installed. \"\n"
          ],
          "name": "stderr"
        }
      ]
    },
    {
      "cell_type": "code",
      "metadata": {
        "id": "yBHSJYtuRlwq"
      },
      "source": [
        "from sklearn.feature_extraction.text import CountVectorizer\n",
        "import nltk \n",
        "import string\n",
        "import re\n",
        "%matplotlib inline\n",
        "pd.set_option('display.max_colwidth', 100)"
      ],
      "execution_count": null,
      "outputs": []
    },
    {
      "cell_type": "code",
      "metadata": {
        "colab": {
          "base_uri": "https://localhost:8080/"
        },
        "id": "23aiW2uc5FEL",
        "outputId": "cf5a15c5-a240-4bd6-dde4-a39f7f4f6e59"
      },
      "source": [
        "import nltk\n",
        "nltk.download('vader_lexicon')"
      ],
      "execution_count": null,
      "outputs": [
        {
          "output_type": "stream",
          "text": [
            "[nltk_data] Downloading package vader_lexicon to /root/nltk_data...\n",
            "[nltk_data]   Package vader_lexicon is already up-to-date!\n"
          ],
          "name": "stdout"
        },
        {
          "output_type": "execute_result",
          "data": {
            "text/plain": [
              "True"
            ]
          },
          "metadata": {
            "tags": []
          },
          "execution_count": 4
        }
      ]
    },
    {
      "cell_type": "code",
      "metadata": {
        "colab": {
          "base_uri": "https://localhost:8080/"
        },
        "id": "hvqCIx4yl9Hu",
        "outputId": "d3cbee82-10da-4f8f-9b8f-62a4f2c2efe1"
      },
      "source": [
        "# Connect Google Drive to Colab\n",
        "drive.mount('/content/gdrive')\n",
        "# Create a variable to store the data path on your drive\n",
        "path = './gdrive/My Drive/datasets/new_datasets/'"
      ],
      "execution_count": null,
      "outputs": [
        {
          "output_type": "stream",
          "text": [
            "Drive already mounted at /content/gdrive; to attempt to forcibly remount, call drive.mount(\"/content/gdrive\", force_remount=True).\n"
          ],
          "name": "stdout"
        }
      ]
    },
    {
      "cell_type": "code",
      "metadata": {
        "id": "VLYWMUPJmmGh"
      },
      "source": [
        "consumer_key=\"5iwJ0kh5IkWudh2kXbbV0s5eM\"\n",
        "consumer_secret=\"DSZGordR8WpGbNJbxwEwMBvJ4E4RJRbemzLQ0vpVArAzSuoLqY\"\n",
        "access_token=\"799815406462652416-V4f33Mp2G81GeSLeWVHQgGtp2djIuyK\"\n",
        "access_token_secret=\"UH4iGaQhmNiKVeo2scTmgZneTQuRDR10SSoyivGS0qU0K\"\n",
        "\n",
        "\n",
        "auth = tweepy.OAuthHandler(consumer_key,consumer_secret)\n",
        "auth.set_access_token(access_token, access_token_secret)\n",
        "api = tweepy.API(auth)\n",
        "#, wait_on_rate_limit=True, timeout = 5"
      ],
      "execution_count": null,
      "outputs": []
    },
    {
      "cell_type": "markdown",
      "metadata": {
        "id": "l2ikktTJoEX8"
      },
      "source": [
        "#try1"
      ]
    },
    {
      "cell_type": "code",
      "metadata": {
        "id": "2eII0zq1xrGb"
      },
      "source": [
        "# define screen_name\n",
        "def get_ids(screen_name):\n",
        "    '''\n",
        "    :argument: screen_name of user\n",
        "    :returns: a list_id of the given user's followers\n",
        "    '''\n",
        "    # get first list\n",
        "    first_list = api.search(q = screen_name, rpp = 100, lang = \"en\")\n",
        "    id_list = first_list['text']\n",
        "    cursor = first_list['next_cursor']\n",
        "    while cursor != 0 :\n",
        "        user_ids = api.search(q = screen_name, rpp = 100, lang = \"en\", cursor=cursor)\n",
        "        id_list.extend(user_ids[0]['ids'])\n",
        "        cursor = user_ids[0]['next_cursor']\n",
        "    return id_list"
      ],
      "execution_count": null,
      "outputs": []
    },
    {
      "cell_type": "code",
      "metadata": {
        "colab": {
          "base_uri": "https://localhost:8080/",
          "height": 283
        },
        "id": "6FxVwrg8ywqF",
        "outputId": "69d0e746-cbc8-4d33-981b-d2f91fa76868"
      },
      "source": [
        "all_tweets_airline = get_ids(\"Airlines\")"
      ],
      "execution_count": null,
      "outputs": [
        {
          "output_type": "error",
          "ename": "TypeError",
          "evalue": "ignored",
          "traceback": [
            "\u001b[0;31m---------------------------------------------------------------------------\u001b[0m",
            "\u001b[0;31mTypeError\u001b[0m                                 Traceback (most recent call last)",
            "\u001b[0;32m<ipython-input-23-96697c14c87e>\u001b[0m in \u001b[0;36m<module>\u001b[0;34m()\u001b[0m\n\u001b[0;32m----> 1\u001b[0;31m \u001b[0mall_tweets_airline\u001b[0m \u001b[0;34m=\u001b[0m \u001b[0mget_ids\u001b[0m\u001b[0;34m(\u001b[0m\u001b[0;34m\"Airlines\"\u001b[0m\u001b[0;34m)\u001b[0m\u001b[0;34m\u001b[0m\u001b[0;34m\u001b[0m\u001b[0m\n\u001b[0m",
            "\u001b[0;32m<ipython-input-22-d657dce42078>\u001b[0m in \u001b[0;36mget_ids\u001b[0;34m(screen_name)\u001b[0m\n\u001b[1;32m      7\u001b[0m     \u001b[0;31m# get first list\u001b[0m\u001b[0;34m\u001b[0m\u001b[0;34m\u001b[0m\u001b[0;34m\u001b[0m\u001b[0m\n\u001b[1;32m      8\u001b[0m     \u001b[0mfirst_list\u001b[0m \u001b[0;34m=\u001b[0m \u001b[0mapi\u001b[0m\u001b[0;34m.\u001b[0m\u001b[0msearch\u001b[0m\u001b[0;34m(\u001b[0m\u001b[0mq\u001b[0m \u001b[0;34m=\u001b[0m \u001b[0mscreen_name\u001b[0m\u001b[0;34m,\u001b[0m \u001b[0mrpp\u001b[0m \u001b[0;34m=\u001b[0m \u001b[0;36m100\u001b[0m\u001b[0;34m,\u001b[0m \u001b[0mlang\u001b[0m \u001b[0;34m=\u001b[0m \u001b[0;34m\"en\"\u001b[0m\u001b[0;34m)\u001b[0m\u001b[0;34m\u001b[0m\u001b[0;34m\u001b[0m\u001b[0m\n\u001b[0;32m----> 9\u001b[0;31m     \u001b[0mid_list\u001b[0m \u001b[0;34m=\u001b[0m \u001b[0mfirst_list\u001b[0m\u001b[0;34m[\u001b[0m\u001b[0;34m'text'\u001b[0m\u001b[0;34m]\u001b[0m\u001b[0;34m\u001b[0m\u001b[0;34m\u001b[0m\u001b[0m\n\u001b[0m\u001b[1;32m     10\u001b[0m     \u001b[0mcursor\u001b[0m \u001b[0;34m=\u001b[0m \u001b[0mfirst_list\u001b[0m\u001b[0;34m[\u001b[0m\u001b[0;34m'next_cursor'\u001b[0m\u001b[0;34m]\u001b[0m\u001b[0;34m\u001b[0m\u001b[0;34m\u001b[0m\u001b[0m\n\u001b[1;32m     11\u001b[0m     \u001b[0;32mwhile\u001b[0m \u001b[0mcursor\u001b[0m \u001b[0;34m!=\u001b[0m \u001b[0;36m0\u001b[0m \u001b[0;34m:\u001b[0m\u001b[0;34m\u001b[0m\u001b[0;34m\u001b[0m\u001b[0m\n",
            "\u001b[0;31mTypeError\u001b[0m: list indices must be integers or slices, not str"
          ]
        }
      ]
    },
    {
      "cell_type": "markdown",
      "metadata": {
        "id": "qt9owuGbyxVx"
      },
      "source": [
        "#I run this for all files "
      ]
    },
    {
      "cell_type": "code",
      "metadata": {
        "id": "Gtmd6dRQoGhY"
      },
      "source": [
        "# Helper function to get all tweets of a specified user\n",
        "# NOTE:This method only allows access to the most recent 3200 tweets\n",
        "# Source: https://gist.github.com/yanofsky/5436496\n",
        "def get_all_tweets4(screen_name):\n",
        "  # initialize a list to hold all the Tweets\n",
        "  alltweets = []\n",
        "  # make initial request for most recent tweets \n",
        "  # (200 is the maximum allowed count)\n",
        "  new_tweets = api.search(q = screen_name, rpp = 100, lang = \"en\")\n",
        "  # save most recent tweets\n",
        "  alltweets.extend(new_tweets)\n",
        "  # save the id of the oldest tweet less one to avoid duplication\n",
        "  oldest = alltweets[-1].id - 1\n",
        "  # keep grabbing tweets until there are no tweets left\n",
        "  while len(new_tweets) > 0:\n",
        "    print(\"getting tweets before %s\" % (oldest))\n",
        "    # all subsequent requests use the max_id param to prevent\n",
        "    # duplicates\n",
        "    \n",
        "    new_tweets = api.search(q = screen_name,rpp = 100,max_id=oldest, lang = \"en\")\n",
        "    #just if lan tweetes \n",
        "    # save most recent tweets\n",
        "    \n",
        "    alltweets.extend(new_tweets)\n",
        "    # update the id of the oldest tweet less one\n",
        "    oldest = alltweets[-1].id - 1\n",
        "    print(\"...%s tweets downloaded so far\" % (len(alltweets)))\n",
        "    ### END OF WHILE LOOP ###\n",
        "  # transform the tweepy tweets into a 2D array that will \n",
        "  # populate the csv\n",
        "  outtweets = [[tweet.id_str, tweet.created_at, tweet.text, tweet.favorite_count,\n",
        "                tweet.retweeted, tweet.user.location, tweet.lang, screen_name] \n",
        "               for tweet in alltweets]\n",
        "  # write the csv\n",
        "  with open(path + '/%s_tweets.csv' % screen_name, 'w') as f:\n",
        "    writer = csv.writer(f)\n",
        "    writer.writerow([\"tweet_id\",\"created_at\",\"text\",\"likes\",\"retweeted\", \"location\", \"language\" , \"airline\"])\n",
        "    writer.writerows(outtweets)\n",
        "  pass"
      ],
      "execution_count": null,
      "outputs": []
    },
    {
      "cell_type": "code",
      "metadata": {
        "colab": {
          "base_uri": "https://localhost:8080/"
        },
        "id": "tf6xfjd4ULq0",
        "outputId": "48c23b20-a7d9-4862-f855-271b743e16e5"
      },
      "source": [
        "get_all_tweets4('#AirCanada')"
      ],
      "execution_count": null,
      "outputs": [
        {
          "output_type": "stream",
          "text": [
            "getting tweets before 1337035614730915839\n",
            "...30 tweets downloaded so far\n",
            "getting tweets before 1336763263082696705\n",
            "...45 tweets downloaded so far\n",
            "getting tweets before 1336700087830011908\n",
            "...60 tweets downloaded so far\n",
            "getting tweets before 1336515175319564288\n",
            "...71 tweets downloaded so far\n",
            "getting tweets before 1336452110418927618\n",
            "...86 tweets downloaded so far\n",
            "getting tweets before 1336430076884365316\n",
            "...98 tweets downloaded so far\n",
            "getting tweets before 1336403765386207232\n",
            "...112 tweets downloaded so far\n",
            "getting tweets before 1336337692213198850\n",
            "...126 tweets downloaded so far\n",
            "getting tweets before 1336074483551981567\n",
            "...139 tweets downloaded so far\n",
            "getting tweets before 1335987378062671881\n",
            "...152 tweets downloaded so far\n",
            "getting tweets before 1335946554016935936\n",
            "...167 tweets downloaded so far\n",
            "getting tweets before 1335777383127937024\n",
            "...182 tweets downloaded so far\n",
            "getting tweets before 1335684440064847872\n",
            "...197 tweets downloaded so far\n",
            "getting tweets before 1335127416310788096\n",
            "...210 tweets downloaded so far\n",
            "getting tweets before 1334817233776861184\n",
            "...225 tweets downloaded so far\n",
            "getting tweets before 1334458125567528959\n",
            "...237 tweets downloaded so far\n",
            "getting tweets before 1334199371852902403\n",
            "...247 tweets downloaded so far\n",
            "getting tweets before 1333782849519046656\n",
            "...247 tweets downloaded so far\n"
          ],
          "name": "stdout"
        }
      ]
    },
    {
      "cell_type": "markdown",
      "metadata": {
        "id": "mwk95HikRwMv"
      },
      "source": [
        "#try again new code to avoid duplicate tweets"
      ]
    },
    {
      "cell_type": "code",
      "metadata": {
        "id": "hEwex7zYR2PI"
      },
      "source": [
        "import tweepy\n",
        "\n",
        "consumer_key=\"5iwJ0kh5IkWudh2kXbbV0s5eM\"\n",
        "consumer_secret=\"DSZGordR8WpGbNJbxwEwMBvJ4E4RJRbemzLQ0vpVArAzSuoLqY\"\n",
        "\n",
        "\n",
        "# Replace the API_KEY and API_SECRET with your application's key and secret.\n",
        "auth = tweepy.AppAuthHandler(consumer_key, consumer_secret)\n",
        "\n",
        "api = tweepy.API(auth, wait_on_rate_limit=True, wait_on_rate_limit_notify=True)"
      ],
      "execution_count": null,
      "outputs": []
    },
    {
      "cell_type": "code",
      "metadata": {
        "colab": {
          "base_uri": "https://localhost:8080/"
        },
        "id": "2p3eOLcwT76y",
        "outputId": "1cda20b7-6023-409b-a958-3d7a14b0d6f1"
      },
      "source": [
        "!pip3 install jsonpickle"
      ],
      "execution_count": null,
      "outputs": [
        {
          "output_type": "stream",
          "text": [
            "Collecting jsonpickle\n",
            "  Downloading https://files.pythonhosted.org/packages/ee/d5/1cc282dc23346a43aab461bf2e8c36593aacd34242bee1a13fa750db0cfe/jsonpickle-1.4.2-py2.py3-none-any.whl\n",
            "Requirement already satisfied: importlib-metadata; python_version < \"3.8\" in /usr/local/lib/python3.6/dist-packages (from jsonpickle) (2.0.0)\n",
            "Requirement already satisfied: zipp>=0.5 in /usr/local/lib/python3.6/dist-packages (from importlib-metadata; python_version < \"3.8\"->jsonpickle) (3.4.0)\n",
            "Installing collected packages: jsonpickle\n",
            "Successfully installed jsonpickle-1.4.2\n"
          ],
          "name": "stdout"
        }
      ]
    },
    {
      "cell_type": "code",
      "metadata": {
        "colab": {
          "base_uri": "https://localhost:8080/"
        },
        "id": "HHNbNAqLSiaO",
        "outputId": "2e00dfc4-04d8-4df6-bc7c-c53f70309543"
      },
      "source": [
        "import sys\n",
        "import jsonpickle\n",
        "import os\n",
        "\n",
        "searchQuery = '#saudi_airlines'  # this is what we're searching for\n",
        "maxTweets = 1000 # Some arbitrary large number\n",
        "tweetsPerQry = 100  # this is the max the API permits\n",
        "fName = 'hasg_saudia_tweets.csv' # We'll store the tweets in a text file.\n",
        "\n",
        "\n",
        "# If results from a specific ID onwards are reqd, set since_id to that ID.\n",
        "# else default to no lower limit, go as far back as API allows\n",
        "sinceId = None\n",
        "\n",
        "\n",
        "places = []\n",
        "time = []\n",
        "tweets = []\n",
        "\n",
        "# If results only below a specific ID are, set max_id to that ID.\n",
        "# else default to no upper limit, start from the most recent tweet matching the search query.\n",
        "max_id = -1\n",
        "\n",
        "tweetCount = 0\n",
        "print(\"Downloading max {0} tweets\".format(maxTweets))\n",
        "\n",
        "with open(path + fName, 'w') as f:\n",
        "    while tweetCount < maxTweets:\n",
        "        try:\n",
        "            if (max_id <= 0):\n",
        "                if (not sinceId):\n",
        "                    new_tweets = api.search(q=searchQuery, count=tweetsPerQry, lang = 'en')\n",
        "                else:\n",
        "                    new_tweets = api.search(q=searchQuery, count=tweetsPerQry,\n",
        "                                            since_id=sinceId, lang = 'en')\n",
        "            else:\n",
        "                if (not sinceId):\n",
        "                    new_tweets = api.search(q=searchQuery, count=tweetsPerQry,\n",
        "                                            max_id=str(max_id - 1), lang = 'en')\n",
        "                else:\n",
        "                    new_tweets = api.search(q=searchQuery, count=tweetsPerQry,\n",
        "                                            max_id=str(max_id - 1),\n",
        "                                            since_id=sinceId, lang = 'en')\n",
        "            if not new_tweets:\n",
        "                \n",
        "                print(\"No more tweets found\")\n",
        "                break\n",
        "            for tweet in new_tweets:\n",
        "                \n",
        "                #add data to lists\n",
        "                \n",
        "                #1. creted at\n",
        "                time.append((tweet.created_at.month,tweet.created_at.year))\n",
        "                \n",
        "                #location of user\n",
        "                places.append(tweet.user.location)\n",
        "                \n",
        "                #text of tweet\n",
        "                tweets.append(tweet.text)\n",
        "                \n",
        "                f.write(jsonpickle.encode(tweet.text, unpicklable=False) +'\\n')\n",
        "                \n",
        "            tweetCount += len(new_tweets)\n",
        "            print(\"Downloaded {0} tweets\".format(tweetCount))\n",
        "            max_id = new_tweets[-1].id\n",
        "        \n",
        "        except tweepy.TweepError as e:\n",
        "            # Just exit if any error\n",
        "            print(\"some error : \" + str(e))\n",
        "            break\n",
        "\n",
        "print (\"Downloaded {0} tweets, Saved to {1}\".format(tweetCount, fName))"
      ],
      "execution_count": null,
      "outputs": [
        {
          "output_type": "stream",
          "text": [
            "Downloading max 1000 tweets\n",
            "Downloaded 3 tweets\n",
            "No more tweets found\n",
            "Downloaded 3 tweets, Saved to hasg_saudia_tweets.csv\n"
          ],
          "name": "stdout"
        }
      ]
    },
    {
      "cell_type": "markdown",
      "metadata": {
        "id": "0LAqLjJBfO1u"
      },
      "source": [
        "#Collect the datasets"
      ]
    },
    {
      "cell_type": "code",
      "metadata": {
        "id": "f-5CJLw-60N7"
      },
      "source": [
        "# Helper function to get all tweets of a specified user\n",
        "# NOTE:This method only allows access to the most recent 3200 tweets\n",
        "# Source: https://gist.github.com/yanofsky/5436496\n",
        "def get_all_tweets(screen_name):\n",
        "  # initialize a list to hold all the Tweets\n",
        "  alltweets = []\n",
        "  # make initial request for most recent tweets \n",
        "  # (200 is the maximum allowed count)\n",
        "  new_tweets = api.user_timeline(screen_name = screen_name,count=200, lang = \"en\")\n",
        "  # save most recent tweets\n",
        "  alltweets.extend(new_tweets)\n",
        "  # save the id of the oldest tweet less one to avoid duplication\n",
        "  oldest = alltweets[-1].id - 1\n",
        "  # keep grabbing tweets until there are no tweets left\n",
        "  while len(new_tweets) > 0:\n",
        "    print(\"getting tweets before %s\" % (oldest))\n",
        "    # all subsequent requests use the max_id param to prevent\n",
        "    # duplicates\n",
        "    \n",
        "    new_tweets = api.user_timeline(screen_name = screen_name,count=200,max_id=oldest, lang = \"en\")\n",
        "    #just if lan tweetes \n",
        "    # save most recent tweets\n",
        "    \n",
        "    alltweets.extend(new_tweets)\n",
        "    # update the id of the oldest tweet less one\n",
        "    oldest = alltweets[-1].id - 1\n",
        "    print(\"...%s tweets downloaded so far\" % (len(alltweets)))\n",
        "    ### END OF WHILE LOOP ###\n",
        "  # transform the tweepy tweets into a 2D array that will \n",
        "  # populate the csv\n",
        "  outtweets = [[tweet.id_str, tweet.created_at, tweet.text, tweet.favorite_count,\n",
        "                tweet.retweeted, tweet.user.location, tweet.lang, screen_name] \n",
        "               for tweet in alltweets]\n",
        "  # write the csv\n",
        "  with open(path + '/%s_tweets.csv' % screen_name, 'w') as f:\n",
        "    writer = csv.writer(f)\n",
        "    writer.writerow([\"tweet_id\",\"created_at\",\"text\",\"likes\",\"retweeted\", \"location\", \"language\" , \"airline\"])\n",
        "    writer.writerows(outtweets)\n",
        "  pass"
      ],
      "execution_count": null,
      "outputs": []
    },
    {
      "cell_type": "code",
      "metadata": {
        "id": "INh4lHly7hQv",
        "colab": {
          "base_uri": "https://localhost:8080/",
          "height": 307
        },
        "outputId": "51175f53-b728-47d7-8554-0556311a4993"
      },
      "source": [
        "get_all_tweets(\"Saudia_airlines\")"
      ],
      "execution_count": null,
      "outputs": [
        {
          "output_type": "error",
          "ename": "TweepError",
          "evalue": "ignored",
          "traceback": [
            "\u001b[0;31m---------------------------------------------------------------------------\u001b[0m",
            "\u001b[0;31mTweepError\u001b[0m                                Traceback (most recent call last)",
            "\u001b[0;32m<ipython-input-7-9c958a881d3a>\u001b[0m in \u001b[0;36m<module>\u001b[0;34m()\u001b[0m\n\u001b[0;32m----> 1\u001b[0;31m \u001b[0mget_all_tweets\u001b[0m\u001b[0;34m(\u001b[0m\u001b[0;34m\"#Saudia_airlines\"\u001b[0m\u001b[0;34m)\u001b[0m\u001b[0;34m\u001b[0m\u001b[0;34m\u001b[0m\u001b[0m\n\u001b[0m",
            "\u001b[0;32m<ipython-input-5-396561fcf329>\u001b[0m in \u001b[0;36mget_all_tweets\u001b[0;34m(screen_name)\u001b[0m\n\u001b[1;32m      7\u001b[0m   \u001b[0;31m# make initial request for most recent tweets\u001b[0m\u001b[0;34m\u001b[0m\u001b[0;34m\u001b[0m\u001b[0;34m\u001b[0m\u001b[0m\n\u001b[1;32m      8\u001b[0m   \u001b[0;31m# (200 is the maximum allowed count)\u001b[0m\u001b[0;34m\u001b[0m\u001b[0;34m\u001b[0m\u001b[0;34m\u001b[0m\u001b[0m\n\u001b[0;32m----> 9\u001b[0;31m   \u001b[0mnew_tweets\u001b[0m \u001b[0;34m=\u001b[0m \u001b[0mapi\u001b[0m\u001b[0;34m.\u001b[0m\u001b[0muser_timeline\u001b[0m\u001b[0;34m(\u001b[0m\u001b[0mscreen_name\u001b[0m \u001b[0;34m=\u001b[0m \u001b[0mscreen_name\u001b[0m\u001b[0;34m,\u001b[0m\u001b[0mcount\u001b[0m\u001b[0;34m=\u001b[0m\u001b[0;36m200\u001b[0m\u001b[0;34m,\u001b[0m \u001b[0mlang\u001b[0m \u001b[0;34m=\u001b[0m \u001b[0;34m\"en\"\u001b[0m\u001b[0;34m)\u001b[0m\u001b[0;34m\u001b[0m\u001b[0;34m\u001b[0m\u001b[0m\n\u001b[0m\u001b[1;32m     10\u001b[0m   \u001b[0;31m# save most recent tweets\u001b[0m\u001b[0;34m\u001b[0m\u001b[0;34m\u001b[0m\u001b[0;34m\u001b[0m\u001b[0m\n\u001b[1;32m     11\u001b[0m   \u001b[0malltweets\u001b[0m\u001b[0;34m.\u001b[0m\u001b[0mextend\u001b[0m\u001b[0;34m(\u001b[0m\u001b[0mnew_tweets\u001b[0m\u001b[0;34m)\u001b[0m\u001b[0;34m\u001b[0m\u001b[0;34m\u001b[0m\u001b[0m\n",
            "\u001b[0;32m/usr/local/lib/python3.6/dist-packages/tweepy/binder.py\u001b[0m in \u001b[0;36m_call\u001b[0;34m(*args, **kwargs)\u001b[0m\n\u001b[1;32m    248\u001b[0m             \u001b[0;32mreturn\u001b[0m \u001b[0mmethod\u001b[0m\u001b[0;34m\u001b[0m\u001b[0;34m\u001b[0m\u001b[0m\n\u001b[1;32m    249\u001b[0m         \u001b[0;32melse\u001b[0m\u001b[0;34m:\u001b[0m\u001b[0;34m\u001b[0m\u001b[0;34m\u001b[0m\u001b[0m\n\u001b[0;32m--> 250\u001b[0;31m             \u001b[0;32mreturn\u001b[0m \u001b[0mmethod\u001b[0m\u001b[0;34m.\u001b[0m\u001b[0mexecute\u001b[0m\u001b[0;34m(\u001b[0m\u001b[0;34m)\u001b[0m\u001b[0;34m\u001b[0m\u001b[0;34m\u001b[0m\u001b[0m\n\u001b[0m\u001b[1;32m    251\u001b[0m \u001b[0;34m\u001b[0m\u001b[0m\n\u001b[1;32m    252\u001b[0m     \u001b[0;31m# Set pagination mode\u001b[0m\u001b[0;34m\u001b[0m\u001b[0;34m\u001b[0m\u001b[0;34m\u001b[0m\u001b[0m\n",
            "\u001b[0;32m/usr/local/lib/python3.6/dist-packages/tweepy/binder.py\u001b[0m in \u001b[0;36mexecute\u001b[0;34m(self)\u001b[0m\n\u001b[1;32m    232\u001b[0m                     \u001b[0;32mraise\u001b[0m \u001b[0mRateLimitError\u001b[0m\u001b[0;34m(\u001b[0m\u001b[0merror_msg\u001b[0m\u001b[0;34m,\u001b[0m \u001b[0mresp\u001b[0m\u001b[0;34m)\u001b[0m\u001b[0;34m\u001b[0m\u001b[0;34m\u001b[0m\u001b[0m\n\u001b[1;32m    233\u001b[0m                 \u001b[0;32melse\u001b[0m\u001b[0;34m:\u001b[0m\u001b[0;34m\u001b[0m\u001b[0;34m\u001b[0m\u001b[0m\n\u001b[0;32m--> 234\u001b[0;31m                     \u001b[0;32mraise\u001b[0m \u001b[0mTweepError\u001b[0m\u001b[0;34m(\u001b[0m\u001b[0merror_msg\u001b[0m\u001b[0;34m,\u001b[0m \u001b[0mresp\u001b[0m\u001b[0;34m,\u001b[0m \u001b[0mapi_code\u001b[0m\u001b[0;34m=\u001b[0m\u001b[0mapi_error_code\u001b[0m\u001b[0;34m)\u001b[0m\u001b[0;34m\u001b[0m\u001b[0;34m\u001b[0m\u001b[0m\n\u001b[0m\u001b[1;32m    235\u001b[0m \u001b[0;34m\u001b[0m\u001b[0m\n\u001b[1;32m    236\u001b[0m             \u001b[0;31m# Parse the response payload\u001b[0m\u001b[0;34m\u001b[0m\u001b[0;34m\u001b[0m\u001b[0;34m\u001b[0m\u001b[0m\n",
            "\u001b[0;31mTweepError\u001b[0m: [{'code': 34, 'message': 'Sorry, that page does not exist.'}]"
          ]
        }
      ]
    },
    {
      "cell_type": "code",
      "metadata": {
        "colab": {
          "base_uri": "https://localhost:8080/"
        },
        "id": "8QqQ0EegC2Bn",
        "outputId": "5f3eac59-07cb-4f88-bcd0-40fc3979e6e9"
      },
      "source": [
        "get_all_tweets(\"flynas\")"
      ],
      "execution_count": null,
      "outputs": [
        {
          "output_type": "stream",
          "text": [
            "getting tweets before 1334850066801156096\n",
            "...400 tweets downloaded so far\n",
            "getting tweets before 1333156561330597889\n",
            "...600 tweets downloaded so far\n",
            "getting tweets before 1331215307248193536\n",
            "...800 tweets downloaded so far\n",
            "getting tweets before 1329369271940607999\n",
            "...1000 tweets downloaded so far\n",
            "getting tweets before 1327251135770599429\n",
            "...1200 tweets downloaded so far\n",
            "getting tweets before 1325649121156403199\n",
            "...1400 tweets downloaded so far\n",
            "getting tweets before 1323859462243966977\n",
            "...1600 tweets downloaded so far\n",
            "getting tweets before 1322264179290578945\n",
            "...1800 tweets downloaded so far\n",
            "getting tweets before 1320685303896723456\n",
            "...2000 tweets downloaded so far\n",
            "getting tweets before 1319247641604128768\n",
            "...2200 tweets downloaded so far\n",
            "getting tweets before 1317695904825167871\n",
            "...2400 tweets downloaded so far\n",
            "getting tweets before 1316309111512936448\n",
            "...2600 tweets downloaded so far\n",
            "getting tweets before 1314965630454566918\n",
            "...2800 tweets downloaded so far\n",
            "getting tweets before 1313599117596164095\n",
            "...3000 tweets downloaded so far\n",
            "getting tweets before 1312151128503533570\n",
            "...3200 tweets downloaded so far\n",
            "getting tweets before 1311071083198636032\n",
            "...3240 tweets downloaded so far\n",
            "getting tweets before 1310872121430736902\n",
            "...3240 tweets downloaded so far\n"
          ],
          "name": "stdout"
        }
      ]
    },
    {
      "cell_type": "code",
      "metadata": {
        "id": "eN1FYZiEXEmq"
      },
      "source": [
        ""
      ],
      "execution_count": null,
      "outputs": []
    },
    {
      "cell_type": "markdown",
      "metadata": {
        "id": "AxJwidIcNysK"
      },
      "source": [
        "#try another hashtag for flynas"
      ]
    },
    {
      "cell_type": "code",
      "metadata": {
        "id": "M1CjDiQ0N2gY"
      },
      "source": [
        "search_query=\"saudia_airlines\"\n",
        "new_tweets = tweepy.Cursor(api.user_timeline,q=search_query,count=200,lang=\"en\",tweet_mode='extended').items(3000)"
      ],
      "execution_count": null,
      "outputs": []
    },
    {
      "cell_type": "code",
      "metadata": {
        "colab": {
          "base_uri": "https://localhost:8080/"
        },
        "id": "tEzCoG87WWhe",
        "outputId": "9b30a6b1-2891-4ef5-b6c2-8797d08e7de2"
      },
      "source": [
        "new_tweets"
      ],
      "execution_count": null,
      "outputs": [
        {
          "output_type": "execute_result",
          "data": {
            "text/plain": [
              "<tweepy.cursor.ItemIterator at 0x7f2d71d88e10>"
            ]
          },
          "metadata": {
            "tags": []
          },
          "execution_count": 41
        }
      ]
    },
    {
      "cell_type": "code",
      "metadata": {
        "id": "DzS97RciYJm5"
      },
      "source": [
        "alltweets = []\n",
        "alltweets.extend(new_tweets)"
      ],
      "execution_count": null,
      "outputs": []
    },
    {
      "cell_type": "code",
      "metadata": {
        "id": "lgJgb97UWixX"
      },
      "source": [
        "\n",
        "for tweet in new_tweets:\n",
        "  all_tweets.append(tweet)\n"
      ],
      "execution_count": null,
      "outputs": []
    },
    {
      "cell_type": "code",
      "metadata": {
        "colab": {
          "base_uri": "https://localhost:8080/"
        },
        "id": "ci2R2ADmXFzR",
        "outputId": "af4c0753-37d4-40d1-e9d1-f69fb025e668"
      },
      "source": [
        "len(alltweets)"
      ],
      "execution_count": null,
      "outputs": [
        {
          "output_type": "execute_result",
          "data": {
            "text/plain": [
              "243"
            ]
          },
          "metadata": {
            "tags": []
          },
          "execution_count": 43
        }
      ]
    },
    {
      "cell_type": "code",
      "metadata": {
        "id": "fcEmh_jjYmrd"
      },
      "source": [
        "# Helper function to handle twitter API rate limit\n",
        "def limit_handled(cursor, list_name):\n",
        "  while True:\n",
        "    try:\n",
        "      yield cursor.next()\n",
        "    # Catch Twitter API rate limit exception and wait for 15 minutes\n",
        "    except tweepy.RateLimitError:\n",
        "      #print(\"\\nData points in list = {}\".format(len(list_name))))\n",
        "      print('Hit Twitter API rate limit.')\n",
        "      for i in range(3, 0, -1):\n",
        "        print(\"Wait for {} mins.\".format(i * 5))\n",
        "        time.sleep(5 * 60)\n",
        "    # Catch any other Twitter API exceptions\n",
        "    except tweepy.error.TweepError:\n",
        "      print('\\nCaught TweepError exception' )"
      ],
      "execution_count": null,
      "outputs": []
    },
    {
      "cell_type": "code",
      "metadata": {
        "id": "8RFEkk-BZ2zU"
      },
      "source": [
        "limit_handled(new_tweets, saudia_care)"
      ],
      "execution_count": null,
      "outputs": []
    },
    {
      "cell_type": "markdown",
      "metadata": {
        "id": "bJBqy4GCfV4_"
      },
      "source": [
        "#try this"
      ]
    },
    {
      "cell_type": "code",
      "metadata": {
        "id": "zemmZFirTTGN"
      },
      "source": [
        "# Helper function to get all tweets of a specified user\n",
        "# NOTE:This method only allows access to the most recent 3200 tweets\n",
        "# Source: https://gist.github.com/yanofsky/5436496\n",
        "def get_all_tweets2(screen_name):\n",
        "  # initialize a list to hold all the Tweets\n",
        "  alltweets = []\n",
        "  # make initial request for most recent tweets \n",
        "  # (200 is the maximum allowed count)\n",
        "  #Cursor(api.user_timeline).items():\n",
        "  new_tweets = api.search(q=screen_name,count=200,lang=\"en\",tweet_mode='extended')\n",
        "  # save most recent tweets\n",
        "  alltweets.extend(new_tweets)\n",
        "  # save the id of the oldest tweet less one to avoid duplication\n",
        "  oldest = alltweets[-1].id - 1\n",
        "  # keep grabbing tweets until there are no tweets left\n",
        "\n",
        "\n",
        "  while len(new_tweets) > 0:\n",
        "    if len(alltweets) == 3000:\n",
        "      break\n",
        "    print(\"getting tweets before %s\" % (oldest))\n",
        "    # all subsequent requests use the max_id param to prevent\n",
        "    # duplicates\n",
        "    \n",
        "    new_tweets = api.search(q=screen_name,count=200,lang=\"en\",tweet_mode='extended')\n",
        "    #just if lan tweetes \n",
        "    # save most recent tweets\n",
        "    \n",
        "    alltweets.extend(new_tweets)\n",
        "    # update the id of the oldest tweet less one\n",
        "    oldest = alltweets[-1].id - 1\n",
        "    print(\"...%s tweets downloaded so far\" % (len(alltweets)))\n",
        "    ### END OF WHILE LOOP ###\n",
        "  # transform the tweepy tweets into a 2D array that will \n",
        "  # populate the csv\n",
        "  return alltweets"
      ],
      "execution_count": null,
      "outputs": []
    },
    {
      "cell_type": "code",
      "metadata": {
        "colab": {
          "base_uri": "https://localhost:8080/",
          "height": 1000
        },
        "id": "FIKuD0sLK02Q",
        "outputId": "4b4d06ec-71d7-49ed-c1ce-9febeb31dfbc"
      },
      "source": [
        "all_tweets2 = get_all_tweets2('#saudia')"
      ],
      "execution_count": null,
      "outputs": [
        {
          "output_type": "stream",
          "text": [
            "getting tweets before 1333819527759622143\n",
            "...188 tweets downloaded so far\n",
            "getting tweets before 1333819527759622143\n",
            "...282 tweets downloaded so far\n",
            "getting tweets before 1333819527759622143\n",
            "...376 tweets downloaded so far\n",
            "getting tweets before 1333819527759622143\n",
            "...470 tweets downloaded so far\n",
            "getting tweets before 1333819527759622143\n",
            "...564 tweets downloaded so far\n",
            "getting tweets before 1333819527759622143\n",
            "...658 tweets downloaded so far\n",
            "getting tweets before 1333819527759622143\n",
            "...752 tweets downloaded so far\n",
            "getting tweets before 1333819527759622143\n",
            "...846 tweets downloaded so far\n",
            "getting tweets before 1333819527759622143\n",
            "...940 tweets downloaded so far\n",
            "getting tweets before 1333819527759622143\n",
            "...1034 tweets downloaded so far\n",
            "getting tweets before 1333819527759622143\n",
            "...1128 tweets downloaded so far\n",
            "getting tweets before 1333819527759622143\n",
            "...1222 tweets downloaded so far\n",
            "getting tweets before 1333819527759622143\n",
            "...1316 tweets downloaded so far\n",
            "getting tweets before 1333819527759622143\n",
            "...1410 tweets downloaded so far\n",
            "getting tweets before 1333819527759622143\n",
            "...1504 tweets downloaded so far\n",
            "getting tweets before 1333819527759622143\n",
            "...1598 tweets downloaded so far\n",
            "getting tweets before 1333819527759622143\n",
            "...1692 tweets downloaded so far\n",
            "getting tweets before 1333819527759622143\n",
            "...1786 tweets downloaded so far\n",
            "getting tweets before 1333819527759622143\n",
            "...1880 tweets downloaded so far\n",
            "getting tweets before 1333819527759622143\n",
            "...1974 tweets downloaded so far\n",
            "getting tweets before 1333819527759622143\n",
            "...2068 tweets downloaded so far\n",
            "getting tweets before 1333819527759622143\n",
            "...2162 tweets downloaded so far\n",
            "getting tweets before 1333819527759622143\n",
            "...2256 tweets downloaded so far\n",
            "getting tweets before 1333819527759622143\n",
            "...2350 tweets downloaded so far\n",
            "getting tweets before 1333819527759622143\n",
            "...2444 tweets downloaded so far\n",
            "getting tweets before 1333819527759622143\n",
            "...2538 tweets downloaded so far\n",
            "getting tweets before 1333819527759622143\n",
            "...2632 tweets downloaded so far\n",
            "getting tweets before 1333819527759622143\n",
            "...2726 tweets downloaded so far\n",
            "getting tweets before 1333819527759622143\n",
            "...2820 tweets downloaded so far\n",
            "getting tweets before 1333819527759622143\n",
            "...2914 tweets downloaded so far\n",
            "getting tweets before 1333819527759622143\n",
            "...3008 tweets downloaded so far\n",
            "getting tweets before 1333819527759622143\n",
            "...3102 tweets downloaded so far\n",
            "getting tweets before 1333819527759622143\n",
            "...3196 tweets downloaded so far\n",
            "getting tweets before 1333819527759622143\n",
            "...3290 tweets downloaded so far\n",
            "getting tweets before 1333819527759622143\n",
            "...3384 tweets downloaded so far\n",
            "getting tweets before 1333819527759622143\n",
            "...3478 tweets downloaded so far\n",
            "getting tweets before 1333819527759622143\n",
            "...3572 tweets downloaded so far\n",
            "getting tweets before 1333819527759622143\n",
            "...3666 tweets downloaded so far\n",
            "getting tweets before 1333819527759622143\n",
            "...3760 tweets downloaded so far\n",
            "getting tweets before 1333819527759622143\n",
            "...3854 tweets downloaded so far\n",
            "getting tweets before 1333819527759622143\n",
            "...3948 tweets downloaded so far\n",
            "getting tweets before 1333819527759622143\n",
            "...4042 tweets downloaded so far\n",
            "getting tweets before 1333819527759622143\n",
            "...4136 tweets downloaded so far\n",
            "getting tweets before 1333819527759622143\n",
            "...4230 tweets downloaded so far\n",
            "getting tweets before 1333819527759622143\n",
            "...4324 tweets downloaded so far\n",
            "getting tweets before 1333819527759622143\n",
            "...4418 tweets downloaded so far\n",
            "getting tweets before 1333819527759622143\n",
            "...4512 tweets downloaded so far\n",
            "getting tweets before 1333819527759622143\n",
            "...4606 tweets downloaded so far\n",
            "getting tweets before 1333819527759622143\n",
            "...4700 tweets downloaded so far\n",
            "getting tweets before 1333819527759622143\n",
            "...4794 tweets downloaded so far\n",
            "getting tweets before 1333819527759622143\n",
            "...4888 tweets downloaded so far\n",
            "getting tweets before 1333819527759622143\n",
            "...4982 tweets downloaded so far\n",
            "getting tweets before 1333819527759622143\n",
            "...5076 tweets downloaded so far\n",
            "getting tweets before 1333819527759622143\n",
            "...5170 tweets downloaded so far\n",
            "getting tweets before 1333819527759622143\n",
            "...5264 tweets downloaded so far\n",
            "getting tweets before 1333819527759622143\n",
            "...5358 tweets downloaded so far\n",
            "getting tweets before 1333819527759622143\n",
            "...5452 tweets downloaded so far\n",
            "getting tweets before 1333819527759622143\n",
            "...5546 tweets downloaded so far\n",
            "getting tweets before 1333819527759622143\n",
            "...5640 tweets downloaded so far\n",
            "getting tweets before 1333819527759622143\n",
            "...5734 tweets downloaded so far\n",
            "getting tweets before 1333819527759622143\n",
            "...5828 tweets downloaded so far\n",
            "getting tweets before 1333819527759622143\n",
            "...5922 tweets downloaded so far\n",
            "getting tweets before 1333819527759622143\n",
            "...6016 tweets downloaded so far\n",
            "getting tweets before 1333819527759622143\n",
            "...6110 tweets downloaded so far\n",
            "getting tweets before 1333819527759622143\n",
            "...6204 tweets downloaded so far\n",
            "getting tweets before 1333819527759622143\n",
            "...6298 tweets downloaded so far\n",
            "getting tweets before 1333819527759622143\n",
            "...6392 tweets downloaded so far\n",
            "getting tweets before 1333819527759622143\n",
            "...6486 tweets downloaded so far\n",
            "getting tweets before 1333819527759622143\n",
            "...6580 tweets downloaded so far\n",
            "getting tweets before 1333819527759622143\n",
            "...6674 tweets downloaded so far\n",
            "getting tweets before 1333819527759622143\n",
            "...6768 tweets downloaded so far\n",
            "getting tweets before 1333819527759622143\n",
            "...6862 tweets downloaded so far\n",
            "getting tweets before 1333819527759622143\n",
            "...6956 tweets downloaded so far\n",
            "getting tweets before 1333819527759622143\n",
            "...7050 tweets downloaded so far\n",
            "getting tweets before 1333819527759622143\n",
            "...7144 tweets downloaded so far\n",
            "getting tweets before 1333819527759622143\n",
            "...7238 tweets downloaded so far\n",
            "getting tweets before 1333819527759622143\n",
            "...7332 tweets downloaded so far\n",
            "getting tweets before 1333819527759622143\n",
            "...7426 tweets downloaded so far\n",
            "getting tweets before 1333819527759622143\n",
            "...7520 tweets downloaded so far\n",
            "getting tweets before 1333819527759622143\n",
            "...7614 tweets downloaded so far\n",
            "getting tweets before 1333819527759622143\n",
            "...7708 tweets downloaded so far\n",
            "getting tweets before 1333819527759622143\n",
            "...7802 tweets downloaded so far\n",
            "getting tweets before 1333819527759622143\n",
            "...7896 tweets downloaded so far\n",
            "getting tweets before 1333819527759622143\n",
            "...7990 tweets downloaded so far\n",
            "getting tweets before 1333819527759622143\n",
            "...8084 tweets downloaded so far\n",
            "getting tweets before 1333819527759622143\n",
            "...8178 tweets downloaded so far\n",
            "getting tweets before 1333819527759622143\n",
            "...8272 tweets downloaded so far\n",
            "getting tweets before 1333819527759622143\n",
            "...8366 tweets downloaded so far\n",
            "getting tweets before 1333819527759622143\n",
            "...8460 tweets downloaded so far\n",
            "getting tweets before 1333819527759622143\n",
            "...8554 tweets downloaded so far\n",
            "getting tweets before 1333819527759622143\n",
            "...8648 tweets downloaded so far\n",
            "getting tweets before 1333819527759622143\n"
          ],
          "name": "stdout"
        },
        {
          "output_type": "error",
          "ename": "KeyboardInterrupt",
          "evalue": "ignored",
          "traceback": [
            "\u001b[0;31m---------------------------------------------------------------------------\u001b[0m",
            "\u001b[0;31mTypeError\u001b[0m                                 Traceback (most recent call last)",
            "\u001b[0;32m/usr/local/lib/python3.6/dist-packages/urllib3/connectionpool.py\u001b[0m in \u001b[0;36m_make_request\u001b[0;34m(self, conn, method, url, timeout, chunked, **httplib_request_kw)\u001b[0m\n\u001b[1;32m    376\u001b[0m             \u001b[0;32mtry\u001b[0m\u001b[0;34m:\u001b[0m  \u001b[0;31m# Python 2.7, use buffering of HTTP responses\u001b[0m\u001b[0;34m\u001b[0m\u001b[0;34m\u001b[0m\u001b[0m\n\u001b[0;32m--> 377\u001b[0;31m                 \u001b[0mhttplib_response\u001b[0m \u001b[0;34m=\u001b[0m \u001b[0mconn\u001b[0m\u001b[0;34m.\u001b[0m\u001b[0mgetresponse\u001b[0m\u001b[0;34m(\u001b[0m\u001b[0mbuffering\u001b[0m\u001b[0;34m=\u001b[0m\u001b[0;32mTrue\u001b[0m\u001b[0;34m)\u001b[0m\u001b[0;34m\u001b[0m\u001b[0;34m\u001b[0m\u001b[0m\n\u001b[0m\u001b[1;32m    378\u001b[0m             \u001b[0;32mexcept\u001b[0m \u001b[0mTypeError\u001b[0m\u001b[0;34m:\u001b[0m  \u001b[0;31m# Python 3\u001b[0m\u001b[0;34m\u001b[0m\u001b[0;34m\u001b[0m\u001b[0m\n",
            "\u001b[0;31mTypeError\u001b[0m: getresponse() got an unexpected keyword argument 'buffering'",
            "\nDuring handling of the above exception, another exception occurred:\n",
            "\u001b[0;31mKeyboardInterrupt\u001b[0m                         Traceback (most recent call last)",
            "\u001b[0;32m<ipython-input-9-6b4af3172e68>\u001b[0m in \u001b[0;36m<module>\u001b[0;34m()\u001b[0m\n\u001b[0;32m----> 1\u001b[0;31m \u001b[0mall_tweets2\u001b[0m \u001b[0;34m=\u001b[0m \u001b[0mget_all_tweets2\u001b[0m\u001b[0;34m(\u001b[0m\u001b[0;34m'#saudia'\u001b[0m\u001b[0;34m)\u001b[0m\u001b[0;34m\u001b[0m\u001b[0;34m\u001b[0m\u001b[0m\n\u001b[0m",
            "\u001b[0;32m<ipython-input-8-c47ef292f01a>\u001b[0m in \u001b[0;36mget_all_tweets2\u001b[0;34m(screen_name)\u001b[0m\n\u001b[1;32m     23\u001b[0m     \u001b[0;31m# duplicates\u001b[0m\u001b[0;34m\u001b[0m\u001b[0;34m\u001b[0m\u001b[0;34m\u001b[0m\u001b[0m\n\u001b[1;32m     24\u001b[0m \u001b[0;34m\u001b[0m\u001b[0m\n\u001b[0;32m---> 25\u001b[0;31m     \u001b[0mnew_tweets\u001b[0m \u001b[0;34m=\u001b[0m \u001b[0mapi\u001b[0m\u001b[0;34m.\u001b[0m\u001b[0msearch\u001b[0m\u001b[0;34m(\u001b[0m\u001b[0mq\u001b[0m\u001b[0;34m=\u001b[0m\u001b[0mscreen_name\u001b[0m\u001b[0;34m,\u001b[0m\u001b[0mcount\u001b[0m\u001b[0;34m=\u001b[0m\u001b[0;36m200\u001b[0m\u001b[0;34m,\u001b[0m\u001b[0mlang\u001b[0m\u001b[0;34m=\u001b[0m\u001b[0;34m\"en\"\u001b[0m\u001b[0;34m,\u001b[0m\u001b[0mtweet_mode\u001b[0m\u001b[0;34m=\u001b[0m\u001b[0;34m'extended'\u001b[0m\u001b[0;34m)\u001b[0m\u001b[0;34m\u001b[0m\u001b[0;34m\u001b[0m\u001b[0m\n\u001b[0m\u001b[1;32m     26\u001b[0m     \u001b[0;31m#just if lan tweetes\u001b[0m\u001b[0;34m\u001b[0m\u001b[0;34m\u001b[0m\u001b[0;34m\u001b[0m\u001b[0m\n\u001b[1;32m     27\u001b[0m     \u001b[0;31m# save most recent tweets\u001b[0m\u001b[0;34m\u001b[0m\u001b[0;34m\u001b[0m\u001b[0;34m\u001b[0m\u001b[0m\n",
            "\u001b[0;32m/usr/local/lib/python3.6/dist-packages/tweepy/binder.py\u001b[0m in \u001b[0;36m_call\u001b[0;34m(*args, **kwargs)\u001b[0m\n\u001b[1;32m    248\u001b[0m             \u001b[0;32mreturn\u001b[0m \u001b[0mmethod\u001b[0m\u001b[0;34m\u001b[0m\u001b[0;34m\u001b[0m\u001b[0m\n\u001b[1;32m    249\u001b[0m         \u001b[0;32melse\u001b[0m\u001b[0;34m:\u001b[0m\u001b[0;34m\u001b[0m\u001b[0;34m\u001b[0m\u001b[0m\n\u001b[0;32m--> 250\u001b[0;31m             \u001b[0;32mreturn\u001b[0m \u001b[0mmethod\u001b[0m\u001b[0;34m.\u001b[0m\u001b[0mexecute\u001b[0m\u001b[0;34m(\u001b[0m\u001b[0;34m)\u001b[0m\u001b[0;34m\u001b[0m\u001b[0;34m\u001b[0m\u001b[0m\n\u001b[0m\u001b[1;32m    251\u001b[0m \u001b[0;34m\u001b[0m\u001b[0m\n\u001b[1;32m    252\u001b[0m     \u001b[0;31m# Set pagination mode\u001b[0m\u001b[0;34m\u001b[0m\u001b[0;34m\u001b[0m\u001b[0;34m\u001b[0m\u001b[0m\n",
            "\u001b[0;32m/usr/local/lib/python3.6/dist-packages/tweepy/binder.py\u001b[0m in \u001b[0;36mexecute\u001b[0;34m(self)\u001b[0m\n\u001b[1;32m    188\u001b[0m                                                 \u001b[0mtimeout\u001b[0m\u001b[0;34m=\u001b[0m\u001b[0mself\u001b[0m\u001b[0;34m.\u001b[0m\u001b[0mapi\u001b[0m\u001b[0;34m.\u001b[0m\u001b[0mtimeout\u001b[0m\u001b[0;34m,\u001b[0m\u001b[0;34m\u001b[0m\u001b[0;34m\u001b[0m\u001b[0m\n\u001b[1;32m    189\u001b[0m                                                 \u001b[0mauth\u001b[0m\u001b[0;34m=\u001b[0m\u001b[0mauth\u001b[0m\u001b[0;34m,\u001b[0m\u001b[0;34m\u001b[0m\u001b[0;34m\u001b[0m\u001b[0m\n\u001b[0;32m--> 190\u001b[0;31m                                                 proxies=self.api.proxy)\n\u001b[0m\u001b[1;32m    191\u001b[0m                 \u001b[0;32mexcept\u001b[0m \u001b[0mException\u001b[0m \u001b[0;32mas\u001b[0m \u001b[0me\u001b[0m\u001b[0;34m:\u001b[0m\u001b[0;34m\u001b[0m\u001b[0;34m\u001b[0m\u001b[0m\n\u001b[1;32m    192\u001b[0m                     \u001b[0msix\u001b[0m\u001b[0;34m.\u001b[0m\u001b[0mreraise\u001b[0m\u001b[0;34m(\u001b[0m\u001b[0mTweepError\u001b[0m\u001b[0;34m,\u001b[0m \u001b[0mTweepError\u001b[0m\u001b[0;34m(\u001b[0m\u001b[0;34m'Failed to send request: %s'\u001b[0m \u001b[0;34m%\u001b[0m \u001b[0me\u001b[0m\u001b[0;34m)\u001b[0m\u001b[0;34m,\u001b[0m \u001b[0msys\u001b[0m\u001b[0;34m.\u001b[0m\u001b[0mexc_info\u001b[0m\u001b[0;34m(\u001b[0m\u001b[0;34m)\u001b[0m\u001b[0;34m[\u001b[0m\u001b[0;36m2\u001b[0m\u001b[0;34m]\u001b[0m\u001b[0;34m)\u001b[0m\u001b[0;34m\u001b[0m\u001b[0;34m\u001b[0m\u001b[0m\n",
            "\u001b[0;32m/usr/local/lib/python3.6/dist-packages/requests/sessions.py\u001b[0m in \u001b[0;36mrequest\u001b[0;34m(self, method, url, params, data, headers, cookies, files, auth, timeout, allow_redirects, proxies, hooks, stream, verify, cert, json)\u001b[0m\n\u001b[1;32m    528\u001b[0m         }\n\u001b[1;32m    529\u001b[0m         \u001b[0msend_kwargs\u001b[0m\u001b[0;34m.\u001b[0m\u001b[0mupdate\u001b[0m\u001b[0;34m(\u001b[0m\u001b[0msettings\u001b[0m\u001b[0;34m)\u001b[0m\u001b[0;34m\u001b[0m\u001b[0;34m\u001b[0m\u001b[0m\n\u001b[0;32m--> 530\u001b[0;31m         \u001b[0mresp\u001b[0m \u001b[0;34m=\u001b[0m \u001b[0mself\u001b[0m\u001b[0;34m.\u001b[0m\u001b[0msend\u001b[0m\u001b[0;34m(\u001b[0m\u001b[0mprep\u001b[0m\u001b[0;34m,\u001b[0m \u001b[0;34m**\u001b[0m\u001b[0msend_kwargs\u001b[0m\u001b[0;34m)\u001b[0m\u001b[0;34m\u001b[0m\u001b[0;34m\u001b[0m\u001b[0m\n\u001b[0m\u001b[1;32m    531\u001b[0m \u001b[0;34m\u001b[0m\u001b[0m\n\u001b[1;32m    532\u001b[0m         \u001b[0;32mreturn\u001b[0m \u001b[0mresp\u001b[0m\u001b[0;34m\u001b[0m\u001b[0;34m\u001b[0m\u001b[0m\n",
            "\u001b[0;32m/usr/local/lib/python3.6/dist-packages/requests/sessions.py\u001b[0m in \u001b[0;36msend\u001b[0;34m(self, request, **kwargs)\u001b[0m\n\u001b[1;32m    641\u001b[0m \u001b[0;34m\u001b[0m\u001b[0m\n\u001b[1;32m    642\u001b[0m         \u001b[0;31m# Send the request\u001b[0m\u001b[0;34m\u001b[0m\u001b[0;34m\u001b[0m\u001b[0;34m\u001b[0m\u001b[0m\n\u001b[0;32m--> 643\u001b[0;31m         \u001b[0mr\u001b[0m \u001b[0;34m=\u001b[0m \u001b[0madapter\u001b[0m\u001b[0;34m.\u001b[0m\u001b[0msend\u001b[0m\u001b[0;34m(\u001b[0m\u001b[0mrequest\u001b[0m\u001b[0;34m,\u001b[0m \u001b[0;34m**\u001b[0m\u001b[0mkwargs\u001b[0m\u001b[0;34m)\u001b[0m\u001b[0;34m\u001b[0m\u001b[0;34m\u001b[0m\u001b[0m\n\u001b[0m\u001b[1;32m    644\u001b[0m \u001b[0;34m\u001b[0m\u001b[0m\n\u001b[1;32m    645\u001b[0m         \u001b[0;31m# Total elapsed time of the request (approximately)\u001b[0m\u001b[0;34m\u001b[0m\u001b[0;34m\u001b[0m\u001b[0;34m\u001b[0m\u001b[0m\n",
            "\u001b[0;32m/usr/local/lib/python3.6/dist-packages/requests/adapters.py\u001b[0m in \u001b[0;36msend\u001b[0;34m(self, request, stream, timeout, verify, cert, proxies)\u001b[0m\n\u001b[1;32m    447\u001b[0m                     \u001b[0mdecode_content\u001b[0m\u001b[0;34m=\u001b[0m\u001b[0;32mFalse\u001b[0m\u001b[0;34m,\u001b[0m\u001b[0;34m\u001b[0m\u001b[0;34m\u001b[0m\u001b[0m\n\u001b[1;32m    448\u001b[0m                     \u001b[0mretries\u001b[0m\u001b[0;34m=\u001b[0m\u001b[0mself\u001b[0m\u001b[0;34m.\u001b[0m\u001b[0mmax_retries\u001b[0m\u001b[0;34m,\u001b[0m\u001b[0;34m\u001b[0m\u001b[0;34m\u001b[0m\u001b[0m\n\u001b[0;32m--> 449\u001b[0;31m                     \u001b[0mtimeout\u001b[0m\u001b[0;34m=\u001b[0m\u001b[0mtimeout\u001b[0m\u001b[0;34m\u001b[0m\u001b[0;34m\u001b[0m\u001b[0m\n\u001b[0m\u001b[1;32m    450\u001b[0m                 )\n\u001b[1;32m    451\u001b[0m \u001b[0;34m\u001b[0m\u001b[0m\n",
            "\u001b[0;32m/usr/local/lib/python3.6/dist-packages/urllib3/connectionpool.py\u001b[0m in \u001b[0;36murlopen\u001b[0;34m(self, method, url, body, headers, retries, redirect, assert_same_host, timeout, pool_timeout, release_conn, chunked, body_pos, **response_kw)\u001b[0m\n\u001b[1;32m    598\u001b[0m                                                   \u001b[0mtimeout\u001b[0m\u001b[0;34m=\u001b[0m\u001b[0mtimeout_obj\u001b[0m\u001b[0;34m,\u001b[0m\u001b[0;34m\u001b[0m\u001b[0;34m\u001b[0m\u001b[0m\n\u001b[1;32m    599\u001b[0m                                                   \u001b[0mbody\u001b[0m\u001b[0;34m=\u001b[0m\u001b[0mbody\u001b[0m\u001b[0;34m,\u001b[0m \u001b[0mheaders\u001b[0m\u001b[0;34m=\u001b[0m\u001b[0mheaders\u001b[0m\u001b[0;34m,\u001b[0m\u001b[0;34m\u001b[0m\u001b[0;34m\u001b[0m\u001b[0m\n\u001b[0;32m--> 600\u001b[0;31m                                                   chunked=chunked)\n\u001b[0m\u001b[1;32m    601\u001b[0m \u001b[0;34m\u001b[0m\u001b[0m\n\u001b[1;32m    602\u001b[0m             \u001b[0;31m# If we're going to release the connection in ``finally:``, then\u001b[0m\u001b[0;34m\u001b[0m\u001b[0;34m\u001b[0m\u001b[0;34m\u001b[0m\u001b[0m\n",
            "\u001b[0;32m/usr/local/lib/python3.6/dist-packages/urllib3/connectionpool.py\u001b[0m in \u001b[0;36m_make_request\u001b[0;34m(self, conn, method, url, timeout, chunked, **httplib_request_kw)\u001b[0m\n\u001b[1;32m    378\u001b[0m             \u001b[0;32mexcept\u001b[0m \u001b[0mTypeError\u001b[0m\u001b[0;34m:\u001b[0m  \u001b[0;31m# Python 3\u001b[0m\u001b[0;34m\u001b[0m\u001b[0;34m\u001b[0m\u001b[0m\n\u001b[1;32m    379\u001b[0m                 \u001b[0;32mtry\u001b[0m\u001b[0;34m:\u001b[0m\u001b[0;34m\u001b[0m\u001b[0;34m\u001b[0m\u001b[0m\n\u001b[0;32m--> 380\u001b[0;31m                     \u001b[0mhttplib_response\u001b[0m \u001b[0;34m=\u001b[0m \u001b[0mconn\u001b[0m\u001b[0;34m.\u001b[0m\u001b[0mgetresponse\u001b[0m\u001b[0;34m(\u001b[0m\u001b[0;34m)\u001b[0m\u001b[0;34m\u001b[0m\u001b[0;34m\u001b[0m\u001b[0m\n\u001b[0m\u001b[1;32m    381\u001b[0m                 \u001b[0;32mexcept\u001b[0m \u001b[0mException\u001b[0m \u001b[0;32mas\u001b[0m \u001b[0me\u001b[0m\u001b[0;34m:\u001b[0m\u001b[0;34m\u001b[0m\u001b[0;34m\u001b[0m\u001b[0m\n\u001b[1;32m    382\u001b[0m                     \u001b[0;31m# Remove the TypeError from the exception chain in Python 3;\u001b[0m\u001b[0;34m\u001b[0m\u001b[0;34m\u001b[0m\u001b[0;34m\u001b[0m\u001b[0m\n",
            "\u001b[0;32m/usr/lib/python3.6/http/client.py\u001b[0m in \u001b[0;36mgetresponse\u001b[0;34m(self)\u001b[0m\n\u001b[1;32m   1371\u001b[0m         \u001b[0;32mtry\u001b[0m\u001b[0;34m:\u001b[0m\u001b[0;34m\u001b[0m\u001b[0;34m\u001b[0m\u001b[0m\n\u001b[1;32m   1372\u001b[0m             \u001b[0;32mtry\u001b[0m\u001b[0;34m:\u001b[0m\u001b[0;34m\u001b[0m\u001b[0;34m\u001b[0m\u001b[0m\n\u001b[0;32m-> 1373\u001b[0;31m                 \u001b[0mresponse\u001b[0m\u001b[0;34m.\u001b[0m\u001b[0mbegin\u001b[0m\u001b[0;34m(\u001b[0m\u001b[0;34m)\u001b[0m\u001b[0;34m\u001b[0m\u001b[0;34m\u001b[0m\u001b[0m\n\u001b[0m\u001b[1;32m   1374\u001b[0m             \u001b[0;32mexcept\u001b[0m \u001b[0mConnectionError\u001b[0m\u001b[0;34m:\u001b[0m\u001b[0;34m\u001b[0m\u001b[0;34m\u001b[0m\u001b[0m\n\u001b[1;32m   1375\u001b[0m                 \u001b[0mself\u001b[0m\u001b[0;34m.\u001b[0m\u001b[0mclose\u001b[0m\u001b[0;34m(\u001b[0m\u001b[0;34m)\u001b[0m\u001b[0;34m\u001b[0m\u001b[0;34m\u001b[0m\u001b[0m\n",
            "\u001b[0;32m/usr/lib/python3.6/http/client.py\u001b[0m in \u001b[0;36mbegin\u001b[0;34m(self)\u001b[0m\n\u001b[1;32m    309\u001b[0m         \u001b[0;31m# read until we get a non-100 response\u001b[0m\u001b[0;34m\u001b[0m\u001b[0;34m\u001b[0m\u001b[0;34m\u001b[0m\u001b[0m\n\u001b[1;32m    310\u001b[0m         \u001b[0;32mwhile\u001b[0m \u001b[0;32mTrue\u001b[0m\u001b[0;34m:\u001b[0m\u001b[0;34m\u001b[0m\u001b[0;34m\u001b[0m\u001b[0m\n\u001b[0;32m--> 311\u001b[0;31m             \u001b[0mversion\u001b[0m\u001b[0;34m,\u001b[0m \u001b[0mstatus\u001b[0m\u001b[0;34m,\u001b[0m \u001b[0mreason\u001b[0m \u001b[0;34m=\u001b[0m \u001b[0mself\u001b[0m\u001b[0;34m.\u001b[0m\u001b[0m_read_status\u001b[0m\u001b[0;34m(\u001b[0m\u001b[0;34m)\u001b[0m\u001b[0;34m\u001b[0m\u001b[0;34m\u001b[0m\u001b[0m\n\u001b[0m\u001b[1;32m    312\u001b[0m             \u001b[0;32mif\u001b[0m \u001b[0mstatus\u001b[0m \u001b[0;34m!=\u001b[0m \u001b[0mCONTINUE\u001b[0m\u001b[0;34m:\u001b[0m\u001b[0;34m\u001b[0m\u001b[0;34m\u001b[0m\u001b[0m\n\u001b[1;32m    313\u001b[0m                 \u001b[0;32mbreak\u001b[0m\u001b[0;34m\u001b[0m\u001b[0;34m\u001b[0m\u001b[0m\n",
            "\u001b[0;32m/usr/lib/python3.6/http/client.py\u001b[0m in \u001b[0;36m_read_status\u001b[0;34m(self)\u001b[0m\n\u001b[1;32m    270\u001b[0m \u001b[0;34m\u001b[0m\u001b[0m\n\u001b[1;32m    271\u001b[0m     \u001b[0;32mdef\u001b[0m \u001b[0m_read_status\u001b[0m\u001b[0;34m(\u001b[0m\u001b[0mself\u001b[0m\u001b[0;34m)\u001b[0m\u001b[0;34m:\u001b[0m\u001b[0;34m\u001b[0m\u001b[0;34m\u001b[0m\u001b[0m\n\u001b[0;32m--> 272\u001b[0;31m         \u001b[0mline\u001b[0m \u001b[0;34m=\u001b[0m \u001b[0mstr\u001b[0m\u001b[0;34m(\u001b[0m\u001b[0mself\u001b[0m\u001b[0;34m.\u001b[0m\u001b[0mfp\u001b[0m\u001b[0;34m.\u001b[0m\u001b[0mreadline\u001b[0m\u001b[0;34m(\u001b[0m\u001b[0m_MAXLINE\u001b[0m \u001b[0;34m+\u001b[0m \u001b[0;36m1\u001b[0m\u001b[0;34m)\u001b[0m\u001b[0;34m,\u001b[0m \u001b[0;34m\"iso-8859-1\"\u001b[0m\u001b[0;34m)\u001b[0m\u001b[0;34m\u001b[0m\u001b[0;34m\u001b[0m\u001b[0m\n\u001b[0m\u001b[1;32m    273\u001b[0m         \u001b[0;32mif\u001b[0m \u001b[0mlen\u001b[0m\u001b[0;34m(\u001b[0m\u001b[0mline\u001b[0m\u001b[0;34m)\u001b[0m \u001b[0;34m>\u001b[0m \u001b[0m_MAXLINE\u001b[0m\u001b[0;34m:\u001b[0m\u001b[0;34m\u001b[0m\u001b[0;34m\u001b[0m\u001b[0m\n\u001b[1;32m    274\u001b[0m             \u001b[0;32mraise\u001b[0m \u001b[0mLineTooLong\u001b[0m\u001b[0;34m(\u001b[0m\u001b[0;34m\"status line\"\u001b[0m\u001b[0;34m)\u001b[0m\u001b[0;34m\u001b[0m\u001b[0;34m\u001b[0m\u001b[0m\n",
            "\u001b[0;32m/usr/lib/python3.6/socket.py\u001b[0m in \u001b[0;36mreadinto\u001b[0;34m(self, b)\u001b[0m\n\u001b[1;32m    584\u001b[0m         \u001b[0;32mwhile\u001b[0m \u001b[0;32mTrue\u001b[0m\u001b[0;34m:\u001b[0m\u001b[0;34m\u001b[0m\u001b[0;34m\u001b[0m\u001b[0m\n\u001b[1;32m    585\u001b[0m             \u001b[0;32mtry\u001b[0m\u001b[0;34m:\u001b[0m\u001b[0;34m\u001b[0m\u001b[0;34m\u001b[0m\u001b[0m\n\u001b[0;32m--> 586\u001b[0;31m                 \u001b[0;32mreturn\u001b[0m \u001b[0mself\u001b[0m\u001b[0;34m.\u001b[0m\u001b[0m_sock\u001b[0m\u001b[0;34m.\u001b[0m\u001b[0mrecv_into\u001b[0m\u001b[0;34m(\u001b[0m\u001b[0mb\u001b[0m\u001b[0;34m)\u001b[0m\u001b[0;34m\u001b[0m\u001b[0;34m\u001b[0m\u001b[0m\n\u001b[0m\u001b[1;32m    587\u001b[0m             \u001b[0;32mexcept\u001b[0m \u001b[0mtimeout\u001b[0m\u001b[0;34m:\u001b[0m\u001b[0;34m\u001b[0m\u001b[0;34m\u001b[0m\u001b[0m\n\u001b[1;32m    588\u001b[0m                 \u001b[0mself\u001b[0m\u001b[0;34m.\u001b[0m\u001b[0m_timeout_occurred\u001b[0m \u001b[0;34m=\u001b[0m \u001b[0;32mTrue\u001b[0m\u001b[0;34m\u001b[0m\u001b[0;34m\u001b[0m\u001b[0m\n",
            "\u001b[0;32m/usr/lib/python3.6/ssl.py\u001b[0m in \u001b[0;36mrecv_into\u001b[0;34m(self, buffer, nbytes, flags)\u001b[0m\n\u001b[1;32m   1010\u001b[0m                   \u001b[0;34m\"non-zero flags not allowed in calls to recv_into() on %s\"\u001b[0m \u001b[0;34m%\u001b[0m\u001b[0;34m\u001b[0m\u001b[0;34m\u001b[0m\u001b[0m\n\u001b[1;32m   1011\u001b[0m                   self.__class__)\n\u001b[0;32m-> 1012\u001b[0;31m             \u001b[0;32mreturn\u001b[0m \u001b[0mself\u001b[0m\u001b[0;34m.\u001b[0m\u001b[0mread\u001b[0m\u001b[0;34m(\u001b[0m\u001b[0mnbytes\u001b[0m\u001b[0;34m,\u001b[0m \u001b[0mbuffer\u001b[0m\u001b[0;34m)\u001b[0m\u001b[0;34m\u001b[0m\u001b[0;34m\u001b[0m\u001b[0m\n\u001b[0m\u001b[1;32m   1013\u001b[0m         \u001b[0;32melse\u001b[0m\u001b[0;34m:\u001b[0m\u001b[0;34m\u001b[0m\u001b[0;34m\u001b[0m\u001b[0m\n\u001b[1;32m   1014\u001b[0m             \u001b[0;32mreturn\u001b[0m \u001b[0msocket\u001b[0m\u001b[0;34m.\u001b[0m\u001b[0mrecv_into\u001b[0m\u001b[0;34m(\u001b[0m\u001b[0mself\u001b[0m\u001b[0;34m,\u001b[0m \u001b[0mbuffer\u001b[0m\u001b[0;34m,\u001b[0m \u001b[0mnbytes\u001b[0m\u001b[0;34m,\u001b[0m \u001b[0mflags\u001b[0m\u001b[0;34m)\u001b[0m\u001b[0;34m\u001b[0m\u001b[0;34m\u001b[0m\u001b[0m\n",
            "\u001b[0;32m/usr/lib/python3.6/ssl.py\u001b[0m in \u001b[0;36mread\u001b[0;34m(self, len, buffer)\u001b[0m\n\u001b[1;32m    872\u001b[0m             \u001b[0;32mraise\u001b[0m \u001b[0mValueError\u001b[0m\u001b[0;34m(\u001b[0m\u001b[0;34m\"Read on closed or unwrapped SSL socket.\"\u001b[0m\u001b[0;34m)\u001b[0m\u001b[0;34m\u001b[0m\u001b[0;34m\u001b[0m\u001b[0m\n\u001b[1;32m    873\u001b[0m         \u001b[0;32mtry\u001b[0m\u001b[0;34m:\u001b[0m\u001b[0;34m\u001b[0m\u001b[0;34m\u001b[0m\u001b[0m\n\u001b[0;32m--> 874\u001b[0;31m             \u001b[0;32mreturn\u001b[0m \u001b[0mself\u001b[0m\u001b[0;34m.\u001b[0m\u001b[0m_sslobj\u001b[0m\u001b[0;34m.\u001b[0m\u001b[0mread\u001b[0m\u001b[0;34m(\u001b[0m\u001b[0mlen\u001b[0m\u001b[0;34m,\u001b[0m \u001b[0mbuffer\u001b[0m\u001b[0;34m)\u001b[0m\u001b[0;34m\u001b[0m\u001b[0;34m\u001b[0m\u001b[0m\n\u001b[0m\u001b[1;32m    875\u001b[0m         \u001b[0;32mexcept\u001b[0m \u001b[0mSSLError\u001b[0m \u001b[0;32mas\u001b[0m \u001b[0mx\u001b[0m\u001b[0;34m:\u001b[0m\u001b[0;34m\u001b[0m\u001b[0;34m\u001b[0m\u001b[0m\n\u001b[1;32m    876\u001b[0m             \u001b[0;32mif\u001b[0m \u001b[0mx\u001b[0m\u001b[0;34m.\u001b[0m\u001b[0margs\u001b[0m\u001b[0;34m[\u001b[0m\u001b[0;36m0\u001b[0m\u001b[0;34m]\u001b[0m \u001b[0;34m==\u001b[0m \u001b[0mSSL_ERROR_EOF\u001b[0m \u001b[0;32mand\u001b[0m \u001b[0mself\u001b[0m\u001b[0;34m.\u001b[0m\u001b[0msuppress_ragged_eofs\u001b[0m\u001b[0;34m:\u001b[0m\u001b[0;34m\u001b[0m\u001b[0;34m\u001b[0m\u001b[0m\n",
            "\u001b[0;32m/usr/lib/python3.6/ssl.py\u001b[0m in \u001b[0;36mread\u001b[0;34m(self, len, buffer)\u001b[0m\n\u001b[1;32m    629\u001b[0m         \"\"\"\n\u001b[1;32m    630\u001b[0m         \u001b[0;32mif\u001b[0m \u001b[0mbuffer\u001b[0m \u001b[0;32mis\u001b[0m \u001b[0;32mnot\u001b[0m \u001b[0;32mNone\u001b[0m\u001b[0;34m:\u001b[0m\u001b[0;34m\u001b[0m\u001b[0;34m\u001b[0m\u001b[0m\n\u001b[0;32m--> 631\u001b[0;31m             \u001b[0mv\u001b[0m \u001b[0;34m=\u001b[0m \u001b[0mself\u001b[0m\u001b[0;34m.\u001b[0m\u001b[0m_sslobj\u001b[0m\u001b[0;34m.\u001b[0m\u001b[0mread\u001b[0m\u001b[0;34m(\u001b[0m\u001b[0mlen\u001b[0m\u001b[0;34m,\u001b[0m \u001b[0mbuffer\u001b[0m\u001b[0;34m)\u001b[0m\u001b[0;34m\u001b[0m\u001b[0;34m\u001b[0m\u001b[0m\n\u001b[0m\u001b[1;32m    632\u001b[0m         \u001b[0;32melse\u001b[0m\u001b[0;34m:\u001b[0m\u001b[0;34m\u001b[0m\u001b[0;34m\u001b[0m\u001b[0m\n\u001b[1;32m    633\u001b[0m             \u001b[0mv\u001b[0m \u001b[0;34m=\u001b[0m \u001b[0mself\u001b[0m\u001b[0;34m.\u001b[0m\u001b[0m_sslobj\u001b[0m\u001b[0;34m.\u001b[0m\u001b[0mread\u001b[0m\u001b[0;34m(\u001b[0m\u001b[0mlen\u001b[0m\u001b[0;34m)\u001b[0m\u001b[0;34m\u001b[0m\u001b[0;34m\u001b[0m\u001b[0m\n",
            "\u001b[0;31mKeyboardInterrupt\u001b[0m: "
          ]
        }
      ]
    },
    {
      "cell_type": "code",
      "metadata": {
        "colab": {
          "base_uri": "https://localhost:8080/",
          "height": 164
        },
        "id": "hwgebeXdcpls",
        "outputId": "300c99ee-94a0-4998-8d9d-49dd4bb248f8"
      },
      "source": [
        "all_tweets2"
      ],
      "execution_count": null,
      "outputs": [
        {
          "output_type": "error",
          "ename": "NameError",
          "evalue": "ignored",
          "traceback": [
            "\u001b[0;31m---------------------------------------------------------------------------\u001b[0m",
            "\u001b[0;31mNameError\u001b[0m                                 Traceback (most recent call last)",
            "\u001b[0;32m<ipython-input-10-69544e3119b8>\u001b[0m in \u001b[0;36m<module>\u001b[0;34m()\u001b[0m\n\u001b[0;32m----> 1\u001b[0;31m \u001b[0mall_tweets2\u001b[0m\u001b[0;34m\u001b[0m\u001b[0;34m\u001b[0m\u001b[0m\n\u001b[0m",
            "\u001b[0;31mNameError\u001b[0m: name 'all_tweets2' is not defined"
          ]
        }
      ]
    },
    {
      "cell_type": "code",
      "metadata": {
        "colab": {
          "base_uri": "https://localhost:8080/",
          "height": 164
        },
        "id": "Lmj67zpYNhFD",
        "outputId": "4317d5d5-4cf9-433f-9198-85fa3172abde"
      },
      "source": [
        "len(all_tweets2)"
      ],
      "execution_count": null,
      "outputs": [
        {
          "output_type": "error",
          "ename": "NameError",
          "evalue": "ignored",
          "traceback": [
            "\u001b[0;31m---------------------------------------------------------------------------\u001b[0m",
            "\u001b[0;31mNameError\u001b[0m                                 Traceback (most recent call last)",
            "\u001b[0;32m<ipython-input-21-614c39bf63d5>\u001b[0m in \u001b[0;36m<module>\u001b[0;34m()\u001b[0m\n\u001b[0;32m----> 1\u001b[0;31m \u001b[0mlen\u001b[0m\u001b[0;34m(\u001b[0m\u001b[0mall_tweets2\u001b[0m\u001b[0;34m)\u001b[0m\u001b[0;34m\u001b[0m\u001b[0;34m\u001b[0m\u001b[0m\n\u001b[0m",
            "\u001b[0;31mNameError\u001b[0m: name 'all_tweets2' is not defined"
          ]
        }
      ]
    },
    {
      "cell_type": "markdown",
      "metadata": {
        "id": "lMkDFWKcu1Xs"
      },
      "source": [
        "#this give me duplicated data"
      ]
    },
    {
      "cell_type": "code",
      "metadata": {
        "id": "mi_uX06BrNTl"
      },
      "source": [
        "def get_all_tweets3(screen_name):\n",
        "  # initialize a list to hold all the Tweets\n",
        "  alltweets = []\n",
        "  # make initial request for most recent tweets \n",
        "  # (200 is the maximum allowed count)\n",
        "  #Cursor(api.user_timeline).items():\n",
        "  new_tweets = api.search(q=screen_name,count=200,lang=\"en\",tweet_mode='extended')\n",
        "  # save most recent tweets\n",
        "  alltweets.extend(new_tweets)\n",
        "  # save the id of the oldest tweet less one to avoid duplication\n",
        "  oldest = alltweets[-1].id - 1\n",
        "  return alltweets, oldest"
      ],
      "execution_count": null,
      "outputs": []
    },
    {
      "cell_type": "code",
      "metadata": {
        "id": "36fhxSfnZtLT"
      },
      "source": [
        "tweets_fly, oldest = get_all_tweets3('flynas')"
      ],
      "execution_count": null,
      "outputs": []
    },
    {
      "cell_type": "code",
      "metadata": {
        "id": "KVS8UI65y2_0"
      },
      "source": [
        "tweets_fly"
      ],
      "execution_count": null,
      "outputs": []
    },
    {
      "cell_type": "code",
      "metadata": {
        "colab": {
          "base_uri": "https://localhost:8080/"
        },
        "id": "RiTF41xcy54T",
        "outputId": "c8f2e716-694c-4c57-d065-0e510ee7cefc"
      },
      "source": [
        "len(tweets_fly)"
      ],
      "execution_count": null,
      "outputs": [
        {
          "output_type": "execute_result",
          "data": {
            "text/plain": [
              "100"
            ]
          },
          "metadata": {
            "tags": []
          },
          "execution_count": 9
        }
      ]
    },
    {
      "cell_type": "code",
      "metadata": {
        "id": "4WmW8aXauMZt"
      },
      "source": [
        "tweets_saudia, oldest = get_all_tweets3('#saudi_airlines')"
      ],
      "execution_count": null,
      "outputs": []
    },
    {
      "cell_type": "code",
      "metadata": {
        "colab": {
          "base_uri": "https://localhost:8080/"
        },
        "id": "G76n2ZtHvDHX",
        "outputId": "e97e6347-976b-4ad7-933a-34c8118e9902"
      },
      "source": [
        "tweets_saudia"
      ],
      "execution_count": null,
      "outputs": [
        {
          "output_type": "execute_result",
          "data": {
            "text/plain": [
              "[Status(_api=<tweepy.api.API object at 0x7f3d43502828>, _json={'created_at': 'Thu Dec 10 10:21:16 +0000 2020', 'id': 1336979288470548481, 'id_str': '1336979288470548481', 'full_text': \"RT @SAEIMEDIA: To achieve the Kingdom's vision 🇸🇦 in the sustainability of economic power, social development and knowledge transfer in the…\", 'truncated': False, 'display_text_range': [0, 140], 'entities': {'hashtags': [], 'symbols': [], 'user_mentions': [{'screen_name': 'SAEIMEDIA', 'name': 'SAEI', 'id': 176053912, 'id_str': '176053912', 'indices': [3, 13]}], 'urls': []}, 'metadata': {'iso_language_code': 'en', 'result_type': 'recent'}, 'source': '<a href=\"http://twitter.com/download/android\" rel=\"nofollow\">Twitter for Android</a>', 'in_reply_to_status_id': None, 'in_reply_to_status_id_str': None, 'in_reply_to_user_id': None, 'in_reply_to_user_id_str': None, 'in_reply_to_screen_name': None, 'user': {'id': 330671041, 'id_str': '330671041', 'name': 'AZIZ D SAUD', 'screen_name': 'azizz007', 'location': 'RIYADH,SAUDI ARABIA', 'description': '\\u200fالرأي ... والرأي الأخر', 'url': None, 'entities': {'description': {'urls': []}}, 'protected': False, 'followers_count': 977, 'friends_count': 567, 'listed_count': 22, 'created_at': 'Wed Jul 06 23:57:51 +0000 2011', 'favourites_count': 174, 'utc_offset': None, 'time_zone': None, 'geo_enabled': False, 'verified': False, 'statuses_count': 161815, 'lang': None, 'contributors_enabled': False, 'is_translator': False, 'is_translation_enabled': False, 'profile_background_color': '0099B9', 'profile_background_image_url': 'http://abs.twimg.com/images/themes/theme4/bg.gif', 'profile_background_image_url_https': 'https://abs.twimg.com/images/themes/theme4/bg.gif', 'profile_background_tile': False, 'profile_image_url': 'http://pbs.twimg.com/profile_images/507817400700375040/og9y8jFR_normal.jpeg', 'profile_image_url_https': 'https://pbs.twimg.com/profile_images/507817400700375040/og9y8jFR_normal.jpeg', 'profile_banner_url': 'https://pbs.twimg.com/profile_banners/330671041/1588808940', 'profile_link_color': '0099B9', 'profile_sidebar_border_color': '5ED4DC', 'profile_sidebar_fill_color': '95E8EC', 'profile_text_color': '3C3940', 'profile_use_background_image': True, 'has_extended_profile': True, 'default_profile': False, 'default_profile_image': False, 'following': False, 'follow_request_sent': False, 'notifications': False, 'translator_type': 'none'}, 'geo': None, 'coordinates': None, 'place': None, 'contributors': None, 'retweeted_status': {'created_at': 'Thu Dec 10 08:25:00 +0000 2020', 'id': 1336950027005161473, 'id_str': '1336950027005161473', 'full_text': \"To achieve the Kingdom's vision 🇸🇦 in the sustainability of economic power, social development and knowledge transfer in the #aviation industry ✈️ #SAEI ; one of #Saudi_Airlines companies, signed a memorandum of understanding agreement with GDC Technics. https://t.co/BQynulJLG8\", 'truncated': False, 'display_text_range': [0, 254], 'entities': {'hashtags': [{'text': 'aviation', 'indices': [125, 134]}, {'text': 'SAEI', 'indices': [147, 152]}, {'text': 'Saudi_Airlines', 'indices': [162, 177]}], 'symbols': [], 'user_mentions': [], 'urls': [], 'media': [{'id': 1336950020294184961, 'id_str': '1336950020294184961', 'indices': [255, 278], 'media_url': 'http://pbs.twimg.com/media/Eo3M9cIWEAECwpa.jpg', 'media_url_https': 'https://pbs.twimg.com/media/Eo3M9cIWEAECwpa.jpg', 'url': 'https://t.co/BQynulJLG8', 'display_url': 'pic.twitter.com/BQynulJLG8', 'expanded_url': 'https://twitter.com/SAEIMEDIA/status/1336950027005161473/photo/1', 'type': 'photo', 'sizes': {'thumb': {'w': 150, 'h': 150, 'resize': 'crop'}, 'large': {'w': 1322, 'h': 2048, 'resize': 'fit'}, 'medium': {'w': 775, 'h': 1200, 'resize': 'fit'}, 'small': {'w': 439, 'h': 680, 'resize': 'fit'}}}]}, 'extended_entities': {'media': [{'id': 1336950020294184961, 'id_str': '1336950020294184961', 'indices': [255, 278], 'media_url': 'http://pbs.twimg.com/media/Eo3M9cIWEAECwpa.jpg', 'media_url_https': 'https://pbs.twimg.com/media/Eo3M9cIWEAECwpa.jpg', 'url': 'https://t.co/BQynulJLG8', 'display_url': 'pic.twitter.com/BQynulJLG8', 'expanded_url': 'https://twitter.com/SAEIMEDIA/status/1336950027005161473/photo/1', 'type': 'photo', 'sizes': {'thumb': {'w': 150, 'h': 150, 'resize': 'crop'}, 'large': {'w': 1322, 'h': 2048, 'resize': 'fit'}, 'medium': {'w': 775, 'h': 1200, 'resize': 'fit'}, 'small': {'w': 439, 'h': 680, 'resize': 'fit'}}}]}, 'metadata': {'iso_language_code': 'en', 'result_type': 'recent'}, 'source': '<a href=\"http://twitter.com/download/iphone\" rel=\"nofollow\">Twitter for iPhone</a>', 'in_reply_to_status_id': None, 'in_reply_to_status_id_str': None, 'in_reply_to_user_id': None, 'in_reply_to_user_id_str': None, 'in_reply_to_screen_name': None, 'user': {'id': 176053912, 'id_str': '176053912', 'name': 'SAEI', 'screen_name': 'SAEIMEDIA', 'location': 'Jeddah, Saudi Arabia', 'description': 'الحساب الرسمي #السعودية_لهندسة_وصناعة_الطيران احدى شركات #الخطوط_السعودية The official account of #SAEI Saudia Aerospace Engineering Industries', 'url': 'https://t.co/jI11cpSxqp', 'entities': {'url': {'urls': [{'url': 'https://t.co/jI11cpSxqp', 'expanded_url': 'http://www.saei.aero', 'display_url': 'saei.aero', 'indices': [0, 23]}]}, 'description': {'urls': []}}, 'protected': False, 'followers_count': 25466, 'friends_count': 27, 'listed_count': 49, 'created_at': 'Sun Aug 08 12:16:56 +0000 2010', 'favourites_count': 493, 'utc_offset': None, 'time_zone': None, 'geo_enabled': False, 'verified': True, 'statuses_count': 3372, 'lang': None, 'contributors_enabled': False, 'is_translator': False, 'is_translation_enabled': False, 'profile_background_color': '3B94D9', 'profile_background_image_url': 'http://abs.twimg.com/images/themes/theme14/bg.gif', 'profile_background_image_url_https': 'https://abs.twimg.com/images/themes/theme14/bg.gif', 'profile_background_tile': True, 'profile_image_url': 'http://pbs.twimg.com/profile_images/1309882953909010433/_eSaaRJ0_normal.jpg', 'profile_image_url_https': 'https://pbs.twimg.com/profile_images/1309882953909010433/_eSaaRJ0_normal.jpg', 'profile_banner_url': 'https://pbs.twimg.com/profile_banners/176053912/1601134772', 'profile_link_color': '3B94D9', 'profile_sidebar_border_color': 'FFFFFF', 'profile_sidebar_fill_color': 'EFEFEF', 'profile_text_color': '333333', 'profile_use_background_image': True, 'has_extended_profile': False, 'default_profile': False, 'default_profile_image': False, 'following': False, 'follow_request_sent': False, 'notifications': False, 'translator_type': 'none'}, 'geo': None, 'coordinates': None, 'place': None, 'contributors': None, 'is_quote_status': False, 'retweet_count': 3, 'favorite_count': 5, 'favorited': False, 'retweeted': False, 'possibly_sensitive': False, 'lang': 'en'}, 'is_quote_status': False, 'retweet_count': 3, 'favorite_count': 0, 'favorited': False, 'retweeted': False, 'lang': 'en'}, created_at=datetime.datetime(2020, 12, 10, 10, 21, 16), id=1336979288470548481, id_str='1336979288470548481', full_text=\"RT @SAEIMEDIA: To achieve the Kingdom's vision 🇸🇦 in the sustainability of economic power, social development and knowledge transfer in the…\", truncated=False, display_text_range=[0, 140], entities={'hashtags': [], 'symbols': [], 'user_mentions': [{'screen_name': 'SAEIMEDIA', 'name': 'SAEI', 'id': 176053912, 'id_str': '176053912', 'indices': [3, 13]}], 'urls': []}, metadata={'iso_language_code': 'en', 'result_type': 'recent'}, source='Twitter for Android', source_url='http://twitter.com/download/android', in_reply_to_status_id=None, in_reply_to_status_id_str=None, in_reply_to_user_id=None, in_reply_to_user_id_str=None, in_reply_to_screen_name=None, author=User(_api=<tweepy.api.API object at 0x7f3d43502828>, _json={'id': 330671041, 'id_str': '330671041', 'name': 'AZIZ D SAUD', 'screen_name': 'azizz007', 'location': 'RIYADH,SAUDI ARABIA', 'description': '\\u200fالرأي ... والرأي الأخر', 'url': None, 'entities': {'description': {'urls': []}}, 'protected': False, 'followers_count': 977, 'friends_count': 567, 'listed_count': 22, 'created_at': 'Wed Jul 06 23:57:51 +0000 2011', 'favourites_count': 174, 'utc_offset': None, 'time_zone': None, 'geo_enabled': False, 'verified': False, 'statuses_count': 161815, 'lang': None, 'contributors_enabled': False, 'is_translator': False, 'is_translation_enabled': False, 'profile_background_color': '0099B9', 'profile_background_image_url': 'http://abs.twimg.com/images/themes/theme4/bg.gif', 'profile_background_image_url_https': 'https://abs.twimg.com/images/themes/theme4/bg.gif', 'profile_background_tile': False, 'profile_image_url': 'http://pbs.twimg.com/profile_images/507817400700375040/og9y8jFR_normal.jpeg', 'profile_image_url_https': 'https://pbs.twimg.com/profile_images/507817400700375040/og9y8jFR_normal.jpeg', 'profile_banner_url': 'https://pbs.twimg.com/profile_banners/330671041/1588808940', 'profile_link_color': '0099B9', 'profile_sidebar_border_color': '5ED4DC', 'profile_sidebar_fill_color': '95E8EC', 'profile_text_color': '3C3940', 'profile_use_background_image': True, 'has_extended_profile': True, 'default_profile': False, 'default_profile_image': False, 'following': False, 'follow_request_sent': False, 'notifications': False, 'translator_type': 'none'}, id=330671041, id_str='330671041', name='AZIZ D SAUD', screen_name='azizz007', location='RIYADH,SAUDI ARABIA', description='\\u200fالرأي ... والرأي الأخر', url=None, entities={'description': {'urls': []}}, protected=False, followers_count=977, friends_count=567, listed_count=22, created_at=datetime.datetime(2011, 7, 6, 23, 57, 51), favourites_count=174, utc_offset=None, time_zone=None, geo_enabled=False, verified=False, statuses_count=161815, lang=None, contributors_enabled=False, is_translator=False, is_translation_enabled=False, profile_background_color='0099B9', profile_background_image_url='http://abs.twimg.com/images/themes/theme4/bg.gif', profile_background_image_url_https='https://abs.twimg.com/images/themes/theme4/bg.gif', profile_background_tile=False, profile_image_url='http://pbs.twimg.com/profile_images/507817400700375040/og9y8jFR_normal.jpeg', profile_image_url_https='https://pbs.twimg.com/profile_images/507817400700375040/og9y8jFR_normal.jpeg', profile_banner_url='https://pbs.twimg.com/profile_banners/330671041/1588808940', profile_link_color='0099B9', profile_sidebar_border_color='5ED4DC', profile_sidebar_fill_color='95E8EC', profile_text_color='3C3940', profile_use_background_image=True, has_extended_profile=True, default_profile=False, default_profile_image=False, following=False, follow_request_sent=False, notifications=False, translator_type='none'), user=User(_api=<tweepy.api.API object at 0x7f3d43502828>, _json={'id': 330671041, 'id_str': '330671041', 'name': 'AZIZ D SAUD', 'screen_name': 'azizz007', 'location': 'RIYADH,SAUDI ARABIA', 'description': '\\u200fالرأي ... والرأي الأخر', 'url': None, 'entities': {'description': {'urls': []}}, 'protected': False, 'followers_count': 977, 'friends_count': 567, 'listed_count': 22, 'created_at': 'Wed Jul 06 23:57:51 +0000 2011', 'favourites_count': 174, 'utc_offset': None, 'time_zone': None, 'geo_enabled': False, 'verified': False, 'statuses_count': 161815, 'lang': None, 'contributors_enabled': False, 'is_translator': False, 'is_translation_enabled': False, 'profile_background_color': '0099B9', 'profile_background_image_url': 'http://abs.twimg.com/images/themes/theme4/bg.gif', 'profile_background_image_url_https': 'https://abs.twimg.com/images/themes/theme4/bg.gif', 'profile_background_tile': False, 'profile_image_url': 'http://pbs.twimg.com/profile_images/507817400700375040/og9y8jFR_normal.jpeg', 'profile_image_url_https': 'https://pbs.twimg.com/profile_images/507817400700375040/og9y8jFR_normal.jpeg', 'profile_banner_url': 'https://pbs.twimg.com/profile_banners/330671041/1588808940', 'profile_link_color': '0099B9', 'profile_sidebar_border_color': '5ED4DC', 'profile_sidebar_fill_color': '95E8EC', 'profile_text_color': '3C3940', 'profile_use_background_image': True, 'has_extended_profile': True, 'default_profile': False, 'default_profile_image': False, 'following': False, 'follow_request_sent': False, 'notifications': False, 'translator_type': 'none'}, id=330671041, id_str='330671041', name='AZIZ D SAUD', screen_name='azizz007', location='RIYADH,SAUDI ARABIA', description='\\u200fالرأي ... والرأي الأخر', url=None, entities={'description': {'urls': []}}, protected=False, followers_count=977, friends_count=567, listed_count=22, created_at=datetime.datetime(2011, 7, 6, 23, 57, 51), favourites_count=174, utc_offset=None, time_zone=None, geo_enabled=False, verified=False, statuses_count=161815, lang=None, contributors_enabled=False, is_translator=False, is_translation_enabled=False, profile_background_color='0099B9', profile_background_image_url='http://abs.twimg.com/images/themes/theme4/bg.gif', profile_background_image_url_https='https://abs.twimg.com/images/themes/theme4/bg.gif', profile_background_tile=False, profile_image_url='http://pbs.twimg.com/profile_images/507817400700375040/og9y8jFR_normal.jpeg', profile_image_url_https='https://pbs.twimg.com/profile_images/507817400700375040/og9y8jFR_normal.jpeg', profile_banner_url='https://pbs.twimg.com/profile_banners/330671041/1588808940', profile_link_color='0099B9', profile_sidebar_border_color='5ED4DC', profile_sidebar_fill_color='95E8EC', profile_text_color='3C3940', profile_use_background_image=True, has_extended_profile=True, default_profile=False, default_profile_image=False, following=False, follow_request_sent=False, notifications=False, translator_type='none'), geo=None, coordinates=None, place=None, contributors=None, retweeted_status=Status(_api=<tweepy.api.API object at 0x7f3d43502828>, _json={'created_at': 'Thu Dec 10 08:25:00 +0000 2020', 'id': 1336950027005161473, 'id_str': '1336950027005161473', 'full_text': \"To achieve the Kingdom's vision 🇸🇦 in the sustainability of economic power, social development and knowledge transfer in the #aviation industry ✈️ #SAEI ; one of #Saudi_Airlines companies, signed a memorandum of understanding agreement with GDC Technics. https://t.co/BQynulJLG8\", 'truncated': False, 'display_text_range': [0, 254], 'entities': {'hashtags': [{'text': 'aviation', 'indices': [125, 134]}, {'text': 'SAEI', 'indices': [147, 152]}, {'text': 'Saudi_Airlines', 'indices': [162, 177]}], 'symbols': [], 'user_mentions': [], 'urls': [], 'media': [{'id': 1336950020294184961, 'id_str': '1336950020294184961', 'indices': [255, 278], 'media_url': 'http://pbs.twimg.com/media/Eo3M9cIWEAECwpa.jpg', 'media_url_https': 'https://pbs.twimg.com/media/Eo3M9cIWEAECwpa.jpg', 'url': 'https://t.co/BQynulJLG8', 'display_url': 'pic.twitter.com/BQynulJLG8', 'expanded_url': 'https://twitter.com/SAEIMEDIA/status/1336950027005161473/photo/1', 'type': 'photo', 'sizes': {'thumb': {'w': 150, 'h': 150, 'resize': 'crop'}, 'large': {'w': 1322, 'h': 2048, 'resize': 'fit'}, 'medium': {'w': 775, 'h': 1200, 'resize': 'fit'}, 'small': {'w': 439, 'h': 680, 'resize': 'fit'}}}]}, 'extended_entities': {'media': [{'id': 1336950020294184961, 'id_str': '1336950020294184961', 'indices': [255, 278], 'media_url': 'http://pbs.twimg.com/media/Eo3M9cIWEAECwpa.jpg', 'media_url_https': 'https://pbs.twimg.com/media/Eo3M9cIWEAECwpa.jpg', 'url': 'https://t.co/BQynulJLG8', 'display_url': 'pic.twitter.com/BQynulJLG8', 'expanded_url': 'https://twitter.com/SAEIMEDIA/status/1336950027005161473/photo/1', 'type': 'photo', 'sizes': {'thumb': {'w': 150, 'h': 150, 'resize': 'crop'}, 'large': {'w': 1322, 'h': 2048, 'resize': 'fit'}, 'medium': {'w': 775, 'h': 1200, 'resize': 'fit'}, 'small': {'w': 439, 'h': 680, 'resize': 'fit'}}}]}, 'metadata': {'iso_language_code': 'en', 'result_type': 'recent'}, 'source': '<a href=\"http://twitter.com/download/iphone\" rel=\"nofollow\">Twitter for iPhone</a>', 'in_reply_to_status_id': None, 'in_reply_to_status_id_str': None, 'in_reply_to_user_id': None, 'in_reply_to_user_id_str': None, 'in_reply_to_screen_name': None, 'user': {'id': 176053912, 'id_str': '176053912', 'name': 'SAEI', 'screen_name': 'SAEIMEDIA', 'location': 'Jeddah, Saudi Arabia', 'description': 'الحساب الرسمي #السعودية_لهندسة_وصناعة_الطيران احدى شركات #الخطوط_السعودية The official account of #SAEI Saudia Aerospace Engineering Industries', 'url': 'https://t.co/jI11cpSxqp', 'entities': {'url': {'urls': [{'url': 'https://t.co/jI11cpSxqp', 'expanded_url': 'http://www.saei.aero', 'display_url': 'saei.aero', 'indices': [0, 23]}]}, 'description': {'urls': []}}, 'protected': False, 'followers_count': 25466, 'friends_count': 27, 'listed_count': 49, 'created_at': 'Sun Aug 08 12:16:56 +0000 2010', 'favourites_count': 493, 'utc_offset': None, 'time_zone': None, 'geo_enabled': False, 'verified': True, 'statuses_count': 3372, 'lang': None, 'contributors_enabled': False, 'is_translator': False, 'is_translation_enabled': False, 'profile_background_color': '3B94D9', 'profile_background_image_url': 'http://abs.twimg.com/images/themes/theme14/bg.gif', 'profile_background_image_url_https': 'https://abs.twimg.com/images/themes/theme14/bg.gif', 'profile_background_tile': True, 'profile_image_url': 'http://pbs.twimg.com/profile_images/1309882953909010433/_eSaaRJ0_normal.jpg', 'profile_image_url_https': 'https://pbs.twimg.com/profile_images/1309882953909010433/_eSaaRJ0_normal.jpg', 'profile_banner_url': 'https://pbs.twimg.com/profile_banners/176053912/1601134772', 'profile_link_color': '3B94D9', 'profile_sidebar_border_color': 'FFFFFF', 'profile_sidebar_fill_color': 'EFEFEF', 'profile_text_color': '333333', 'profile_use_background_image': True, 'has_extended_profile': False, 'default_profile': False, 'default_profile_image': False, 'following': False, 'follow_request_sent': False, 'notifications': False, 'translator_type': 'none'}, 'geo': None, 'coordinates': None, 'place': None, 'contributors': None, 'is_quote_status': False, 'retweet_count': 3, 'favorite_count': 5, 'favorited': False, 'retweeted': False, 'possibly_sensitive': False, 'lang': 'en'}, created_at=datetime.datetime(2020, 12, 10, 8, 25), id=1336950027005161473, id_str='1336950027005161473', full_text=\"To achieve the Kingdom's vision 🇸🇦 in the sustainability of economic power, social development and knowledge transfer in the #aviation industry ✈️ #SAEI ; one of #Saudi_Airlines companies, signed a memorandum of understanding agreement with GDC Technics. https://t.co/BQynulJLG8\", truncated=False, display_text_range=[0, 254], entities={'hashtags': [{'text': 'aviation', 'indices': [125, 134]}, {'text': 'SAEI', 'indices': [147, 152]}, {'text': 'Saudi_Airlines', 'indices': [162, 177]}], 'symbols': [], 'user_mentions': [], 'urls': [], 'media': [{'id': 1336950020294184961, 'id_str': '1336950020294184961', 'indices': [255, 278], 'media_url': 'http://pbs.twimg.com/media/Eo3M9cIWEAECwpa.jpg', 'media_url_https': 'https://pbs.twimg.com/media/Eo3M9cIWEAECwpa.jpg', 'url': 'https://t.co/BQynulJLG8', 'display_url': 'pic.twitter.com/BQynulJLG8', 'expanded_url': 'https://twitter.com/SAEIMEDIA/status/1336950027005161473/photo/1', 'type': 'photo', 'sizes': {'thumb': {'w': 150, 'h': 150, 'resize': 'crop'}, 'large': {'w': 1322, 'h': 2048, 'resize': 'fit'}, 'medium': {'w': 775, 'h': 1200, 'resize': 'fit'}, 'small': {'w': 439, 'h': 680, 'resize': 'fit'}}}]}, extended_entities={'media': [{'id': 1336950020294184961, 'id_str': '1336950020294184961', 'indices': [255, 278], 'media_url': 'http://pbs.twimg.com/media/Eo3M9cIWEAECwpa.jpg', 'media_url_https': 'https://pbs.twimg.com/media/Eo3M9cIWEAECwpa.jpg', 'url': 'https://t.co/BQynulJLG8', 'display_url': 'pic.twitter.com/BQynulJLG8', 'expanded_url': 'https://twitter.com/SAEIMEDIA/status/1336950027005161473/photo/1', 'type': 'photo', 'sizes': {'thumb': {'w': 150, 'h': 150, 'resize': 'crop'}, 'large': {'w': 1322, 'h': 2048, 'resize': 'fit'}, 'medium': {'w': 775, 'h': 1200, 'resize': 'fit'}, 'small': {'w': 439, 'h': 680, 'resize': 'fit'}}}]}, metadata={'iso_language_code': 'en', 'result_type': 'recent'}, source='Twitter for iPhone', source_url='http://twitter.com/download/iphone', in_reply_to_status_id=None, in_reply_to_status_id_str=None, in_reply_to_user_id=None, in_reply_to_user_id_str=None, in_reply_to_screen_name=None, author=User(_api=<tweepy.api.API object at 0x7f3d43502828>, _json={'id': 176053912, 'id_str': '176053912', 'name': 'SAEI', 'screen_name': 'SAEIMEDIA', 'location': 'Jeddah, Saudi Arabia', 'description': 'الحساب الرسمي #السعودية_لهندسة_وصناعة_الطيران احدى شركات #الخطوط_السعودية The official account of #SAEI Saudia Aerospace Engineering Industries', 'url': 'https://t.co/jI11cpSxqp', 'entities': {'url': {'urls': [{'url': 'https://t.co/jI11cpSxqp', 'expanded_url': 'http://www.saei.aero', 'display_url': 'saei.aero', 'indices': [0, 23]}]}, 'description': {'urls': []}}, 'protected': False, 'followers_count': 25466, 'friends_count': 27, 'listed_count': 49, 'created_at': 'Sun Aug 08 12:16:56 +0000 2010', 'favourites_count': 493, 'utc_offset': None, 'time_zone': None, 'geo_enabled': False, 'verified': True, 'statuses_count': 3372, 'lang': None, 'contributors_enabled': False, 'is_translator': False, 'is_translation_enabled': False, 'profile_background_color': '3B94D9', 'profile_background_image_url': 'http://abs.twimg.com/images/themes/theme14/bg.gif', 'profile_background_image_url_https': 'https://abs.twimg.com/images/themes/theme14/bg.gif', 'profile_background_tile': True, 'profile_image_url': 'http://pbs.twimg.com/profile_images/1309882953909010433/_eSaaRJ0_normal.jpg', 'profile_image_url_https': 'https://pbs.twimg.com/profile_images/1309882953909010433/_eSaaRJ0_normal.jpg', 'profile_banner_url': 'https://pbs.twimg.com/profile_banners/176053912/1601134772', 'profile_link_color': '3B94D9', 'profile_sidebar_border_color': 'FFFFFF', 'profile_sidebar_fill_color': 'EFEFEF', 'profile_text_color': '333333', 'profile_use_background_image': True, 'has_extended_profile': False, 'default_profile': False, 'default_profile_image': False, 'following': False, 'follow_request_sent': False, 'notifications': False, 'translator_type': 'none'}, id=176053912, id_str='176053912', name='SAEI', screen_name='SAEIMEDIA', location='Jeddah, Saudi Arabia', description='الحساب الرسمي #السعودية_لهندسة_وصناعة_الطيران احدى شركات #الخطوط_السعودية The official account of #SAEI Saudia Aerospace Engineering Industries', url='https://t.co/jI11cpSxqp', entities={'url': {'urls': [{'url': 'https://t.co/jI11cpSxqp', 'expanded_url': 'http://www.saei.aero', 'display_url': 'saei.aero', 'indices': [0, 23]}]}, 'description': {'urls': []}}, protected=False, followers_count=25466, friends_count=27, listed_count=49, created_at=datetime.datetime(2010, 8, 8, 12, 16, 56), favourites_count=493, utc_offset=None, time_zone=None, geo_enabled=False, verified=True, statuses_count=3372, lang=None, contributors_enabled=False, is_translator=False, is_translation_enabled=False, profile_background_color='3B94D9', profile_background_image_url='http://abs.twimg.com/images/themes/theme14/bg.gif', profile_background_image_url_https='https://abs.twimg.com/images/themes/theme14/bg.gif', profile_background_tile=True, profile_image_url='http://pbs.twimg.com/profile_images/1309882953909010433/_eSaaRJ0_normal.jpg', profile_image_url_https='https://pbs.twimg.com/profile_images/1309882953909010433/_eSaaRJ0_normal.jpg', profile_banner_url='https://pbs.twimg.com/profile_banners/176053912/1601134772', profile_link_color='3B94D9', profile_sidebar_border_color='FFFFFF', profile_sidebar_fill_color='EFEFEF', profile_text_color='333333', profile_use_background_image=True, has_extended_profile=False, default_profile=False, default_profile_image=False, following=False, follow_request_sent=False, notifications=False, translator_type='none'), user=User(_api=<tweepy.api.API object at 0x7f3d43502828>, _json={'id': 176053912, 'id_str': '176053912', 'name': 'SAEI', 'screen_name': 'SAEIMEDIA', 'location': 'Jeddah, Saudi Arabia', 'description': 'الحساب الرسمي #السعودية_لهندسة_وصناعة_الطيران احدى شركات #الخطوط_السعودية The official account of #SAEI Saudia Aerospace Engineering Industries', 'url': 'https://t.co/jI11cpSxqp', 'entities': {'url': {'urls': [{'url': 'https://t.co/jI11cpSxqp', 'expanded_url': 'http://www.saei.aero', 'display_url': 'saei.aero', 'indices': [0, 23]}]}, 'description': {'urls': []}}, 'protected': False, 'followers_count': 25466, 'friends_count': 27, 'listed_count': 49, 'created_at': 'Sun Aug 08 12:16:56 +0000 2010', 'favourites_count': 493, 'utc_offset': None, 'time_zone': None, 'geo_enabled': False, 'verified': True, 'statuses_count': 3372, 'lang': None, 'contributors_enabled': False, 'is_translator': False, 'is_translation_enabled': False, 'profile_background_color': '3B94D9', 'profile_background_image_url': 'http://abs.twimg.com/images/themes/theme14/bg.gif', 'profile_background_image_url_https': 'https://abs.twimg.com/images/themes/theme14/bg.gif', 'profile_background_tile': True, 'profile_image_url': 'http://pbs.twimg.com/profile_images/1309882953909010433/_eSaaRJ0_normal.jpg', 'profile_image_url_https': 'https://pbs.twimg.com/profile_images/1309882953909010433/_eSaaRJ0_normal.jpg', 'profile_banner_url': 'https://pbs.twimg.com/profile_banners/176053912/1601134772', 'profile_link_color': '3B94D9', 'profile_sidebar_border_color': 'FFFFFF', 'profile_sidebar_fill_color': 'EFEFEF', 'profile_text_color': '333333', 'profile_use_background_image': True, 'has_extended_profile': False, 'default_profile': False, 'default_profile_image': False, 'following': False, 'follow_request_sent': False, 'notifications': False, 'translator_type': 'none'}, id=176053912, id_str='176053912', name='SAEI', screen_name='SAEIMEDIA', location='Jeddah, Saudi Arabia', description='الحساب الرسمي #السعودية_لهندسة_وصناعة_الطيران احدى شركات #الخطوط_السعودية The official account of #SAEI Saudia Aerospace Engineering Industries', url='https://t.co/jI11cpSxqp', entities={'url': {'urls': [{'url': 'https://t.co/jI11cpSxqp', 'expanded_url': 'http://www.saei.aero', 'display_url': 'saei.aero', 'indices': [0, 23]}]}, 'description': {'urls': []}}, protected=False, followers_count=25466, friends_count=27, listed_count=49, created_at=datetime.datetime(2010, 8, 8, 12, 16, 56), favourites_count=493, utc_offset=None, time_zone=None, geo_enabled=False, verified=True, statuses_count=3372, lang=None, contributors_enabled=False, is_translator=False, is_translation_enabled=False, profile_background_color='3B94D9', profile_background_image_url='http://abs.twimg.com/images/themes/theme14/bg.gif', profile_background_image_url_https='https://abs.twimg.com/images/themes/theme14/bg.gif', profile_background_tile=True, profile_image_url='http://pbs.twimg.com/profile_images/1309882953909010433/_eSaaRJ0_normal.jpg', profile_image_url_https='https://pbs.twimg.com/profile_images/1309882953909010433/_eSaaRJ0_normal.jpg', profile_banner_url='https://pbs.twimg.com/profile_banners/176053912/1601134772', profile_link_color='3B94D9', profile_sidebar_border_color='FFFFFF', profile_sidebar_fill_color='EFEFEF', profile_text_color='333333', profile_use_background_image=True, has_extended_profile=False, default_profile=False, default_profile_image=False, following=False, follow_request_sent=False, notifications=False, translator_type='none'), geo=None, coordinates=None, place=None, contributors=None, is_quote_status=False, retweet_count=3, favorite_count=5, favorited=False, retweeted=False, possibly_sensitive=False, lang='en'), is_quote_status=False, retweet_count=3, favorite_count=0, favorited=False, retweeted=False, lang='en'),\n",
              " Status(_api=<tweepy.api.API object at 0x7f3d43502828>, _json={'created_at': 'Thu Dec 10 09:31:45 +0000 2020', 'id': 1336966824416735234, 'id_str': '1336966824416735234', 'full_text': \"RT @SAEIMEDIA: To achieve the Kingdom's vision 🇸🇦 in the sustainability of economic power, social development and knowledge transfer in the…\", 'truncated': False, 'display_text_range': [0, 140], 'entities': {'hashtags': [], 'symbols': [], 'user_mentions': [{'screen_name': 'SAEIMEDIA', 'name': 'SAEI', 'id': 176053912, 'id_str': '176053912', 'indices': [3, 13]}], 'urls': []}, 'metadata': {'iso_language_code': 'en', 'result_type': 'recent'}, 'source': '<a href=\"http://twitter.com/download/android\" rel=\"nofollow\">Twitter for Android</a>', 'in_reply_to_status_id': None, 'in_reply_to_status_id_str': None, 'in_reply_to_user_id': None, 'in_reply_to_user_id_str': None, 'in_reply_to_screen_name': None, 'user': {'id': 423210903, 'id_str': '423210903', 'name': 'ثامر بن نواف السعدون', 'screen_name': 'Thamerzo6', 'location': 'الرياض, المملكة العربية السعود', 'description': 'Son...Brother.... Husband...And father....Ground engineer for aircraft maintenance for saudi airlines', 'url': None, 'entities': {'description': {'urls': []}}, 'protected': False, 'followers_count': 1436, 'friends_count': 1008, 'listed_count': 15, 'created_at': 'Mon Nov 28 06:47:21 +0000 2011', 'favourites_count': 2966, 'utc_offset': None, 'time_zone': None, 'geo_enabled': True, 'verified': False, 'statuses_count': 83438, 'lang': None, 'contributors_enabled': False, 'is_translator': False, 'is_translation_enabled': False, 'profile_background_color': 'C0DEED', 'profile_background_image_url': 'http://abs.twimg.com/images/themes/theme1/bg.png', 'profile_background_image_url_https': 'https://abs.twimg.com/images/themes/theme1/bg.png', 'profile_background_tile': False, 'profile_image_url': 'http://pbs.twimg.com/profile_images/621092501512851456/ka5fd2iW_normal.jpg', 'profile_image_url_https': 'https://pbs.twimg.com/profile_images/621092501512851456/ka5fd2iW_normal.jpg', 'profile_banner_url': 'https://pbs.twimg.com/profile_banners/423210903/1584326769', 'profile_link_color': '1DA1F2', 'profile_sidebar_border_color': 'C0DEED', 'profile_sidebar_fill_color': 'DDEEF6', 'profile_text_color': '333333', 'profile_use_background_image': True, 'has_extended_profile': True, 'default_profile': True, 'default_profile_image': False, 'following': False, 'follow_request_sent': False, 'notifications': False, 'translator_type': 'none'}, 'geo': None, 'coordinates': None, 'place': None, 'contributors': None, 'retweeted_status': {'created_at': 'Thu Dec 10 08:25:00 +0000 2020', 'id': 1336950027005161473, 'id_str': '1336950027005161473', 'full_text': \"To achieve the Kingdom's vision 🇸🇦 in the sustainability of economic power, social development and knowledge transfer in the #aviation industry ✈️ #SAEI ; one of #Saudi_Airlines companies, signed a memorandum of understanding agreement with GDC Technics. https://t.co/BQynulJLG8\", 'truncated': False, 'display_text_range': [0, 254], 'entities': {'hashtags': [{'text': 'aviation', 'indices': [125, 134]}, {'text': 'SAEI', 'indices': [147, 152]}, {'text': 'Saudi_Airlines', 'indices': [162, 177]}], 'symbols': [], 'user_mentions': [], 'urls': [], 'media': [{'id': 1336950020294184961, 'id_str': '1336950020294184961', 'indices': [255, 278], 'media_url': 'http://pbs.twimg.com/media/Eo3M9cIWEAECwpa.jpg', 'media_url_https': 'https://pbs.twimg.com/media/Eo3M9cIWEAECwpa.jpg', 'url': 'https://t.co/BQynulJLG8', 'display_url': 'pic.twitter.com/BQynulJLG8', 'expanded_url': 'https://twitter.com/SAEIMEDIA/status/1336950027005161473/photo/1', 'type': 'photo', 'sizes': {'thumb': {'w': 150, 'h': 150, 'resize': 'crop'}, 'large': {'w': 1322, 'h': 2048, 'resize': 'fit'}, 'medium': {'w': 775, 'h': 1200, 'resize': 'fit'}, 'small': {'w': 439, 'h': 680, 'resize': 'fit'}}}]}, 'extended_entities': {'media': [{'id': 1336950020294184961, 'id_str': '1336950020294184961', 'indices': [255, 278], 'media_url': 'http://pbs.twimg.com/media/Eo3M9cIWEAECwpa.jpg', 'media_url_https': 'https://pbs.twimg.com/media/Eo3M9cIWEAECwpa.jpg', 'url': 'https://t.co/BQynulJLG8', 'display_url': 'pic.twitter.com/BQynulJLG8', 'expanded_url': 'https://twitter.com/SAEIMEDIA/status/1336950027005161473/photo/1', 'type': 'photo', 'sizes': {'thumb': {'w': 150, 'h': 150, 'resize': 'crop'}, 'large': {'w': 1322, 'h': 2048, 'resize': 'fit'}, 'medium': {'w': 775, 'h': 1200, 'resize': 'fit'}, 'small': {'w': 439, 'h': 680, 'resize': 'fit'}}}]}, 'metadata': {'iso_language_code': 'en', 'result_type': 'recent'}, 'source': '<a href=\"http://twitter.com/download/iphone\" rel=\"nofollow\">Twitter for iPhone</a>', 'in_reply_to_status_id': None, 'in_reply_to_status_id_str': None, 'in_reply_to_user_id': None, 'in_reply_to_user_id_str': None, 'in_reply_to_screen_name': None, 'user': {'id': 176053912, 'id_str': '176053912', 'name': 'SAEI', 'screen_name': 'SAEIMEDIA', 'location': 'Jeddah, Saudi Arabia', 'description': 'الحساب الرسمي #السعودية_لهندسة_وصناعة_الطيران احدى شركات #الخطوط_السعودية The official account of #SAEI Saudia Aerospace Engineering Industries', 'url': 'https://t.co/jI11cpSxqp', 'entities': {'url': {'urls': [{'url': 'https://t.co/jI11cpSxqp', 'expanded_url': 'http://www.saei.aero', 'display_url': 'saei.aero', 'indices': [0, 23]}]}, 'description': {'urls': []}}, 'protected': False, 'followers_count': 25466, 'friends_count': 27, 'listed_count': 49, 'created_at': 'Sun Aug 08 12:16:56 +0000 2010', 'favourites_count': 493, 'utc_offset': None, 'time_zone': None, 'geo_enabled': False, 'verified': True, 'statuses_count': 3372, 'lang': None, 'contributors_enabled': False, 'is_translator': False, 'is_translation_enabled': False, 'profile_background_color': '3B94D9', 'profile_background_image_url': 'http://abs.twimg.com/images/themes/theme14/bg.gif', 'profile_background_image_url_https': 'https://abs.twimg.com/images/themes/theme14/bg.gif', 'profile_background_tile': True, 'profile_image_url': 'http://pbs.twimg.com/profile_images/1309882953909010433/_eSaaRJ0_normal.jpg', 'profile_image_url_https': 'https://pbs.twimg.com/profile_images/1309882953909010433/_eSaaRJ0_normal.jpg', 'profile_banner_url': 'https://pbs.twimg.com/profile_banners/176053912/1601134772', 'profile_link_color': '3B94D9', 'profile_sidebar_border_color': 'FFFFFF', 'profile_sidebar_fill_color': 'EFEFEF', 'profile_text_color': '333333', 'profile_use_background_image': True, 'has_extended_profile': False, 'default_profile': False, 'default_profile_image': False, 'following': False, 'follow_request_sent': False, 'notifications': False, 'translator_type': 'none'}, 'geo': None, 'coordinates': None, 'place': None, 'contributors': None, 'is_quote_status': False, 'retweet_count': 3, 'favorite_count': 5, 'favorited': False, 'retweeted': False, 'possibly_sensitive': False, 'lang': 'en'}, 'is_quote_status': False, 'retweet_count': 3, 'favorite_count': 0, 'favorited': False, 'retweeted': False, 'lang': 'en'}, created_at=datetime.datetime(2020, 12, 10, 9, 31, 45), id=1336966824416735234, id_str='1336966824416735234', full_text=\"RT @SAEIMEDIA: To achieve the Kingdom's vision 🇸🇦 in the sustainability of economic power, social development and knowledge transfer in the…\", truncated=False, display_text_range=[0, 140], entities={'hashtags': [], 'symbols': [], 'user_mentions': [{'screen_name': 'SAEIMEDIA', 'name': 'SAEI', 'id': 176053912, 'id_str': '176053912', 'indices': [3, 13]}], 'urls': []}, metadata={'iso_language_code': 'en', 'result_type': 'recent'}, source='Twitter for Android', source_url='http://twitter.com/download/android', in_reply_to_status_id=None, in_reply_to_status_id_str=None, in_reply_to_user_id=None, in_reply_to_user_id_str=None, in_reply_to_screen_name=None, author=User(_api=<tweepy.api.API object at 0x7f3d43502828>, _json={'id': 423210903, 'id_str': '423210903', 'name': 'ثامر بن نواف السعدون', 'screen_name': 'Thamerzo6', 'location': 'الرياض, المملكة العربية السعود', 'description': 'Son...Brother.... Husband...And father....Ground engineer for aircraft maintenance for saudi airlines', 'url': None, 'entities': {'description': {'urls': []}}, 'protected': False, 'followers_count': 1436, 'friends_count': 1008, 'listed_count': 15, 'created_at': 'Mon Nov 28 06:47:21 +0000 2011', 'favourites_count': 2966, 'utc_offset': None, 'time_zone': None, 'geo_enabled': True, 'verified': False, 'statuses_count': 83438, 'lang': None, 'contributors_enabled': False, 'is_translator': False, 'is_translation_enabled': False, 'profile_background_color': 'C0DEED', 'profile_background_image_url': 'http://abs.twimg.com/images/themes/theme1/bg.png', 'profile_background_image_url_https': 'https://abs.twimg.com/images/themes/theme1/bg.png', 'profile_background_tile': False, 'profile_image_url': 'http://pbs.twimg.com/profile_images/621092501512851456/ka5fd2iW_normal.jpg', 'profile_image_url_https': 'https://pbs.twimg.com/profile_images/621092501512851456/ka5fd2iW_normal.jpg', 'profile_banner_url': 'https://pbs.twimg.com/profile_banners/423210903/1584326769', 'profile_link_color': '1DA1F2', 'profile_sidebar_border_color': 'C0DEED', 'profile_sidebar_fill_color': 'DDEEF6', 'profile_text_color': '333333', 'profile_use_background_image': True, 'has_extended_profile': True, 'default_profile': True, 'default_profile_image': False, 'following': False, 'follow_request_sent': False, 'notifications': False, 'translator_type': 'none'}, id=423210903, id_str='423210903', name='ثامر بن نواف السعدون', screen_name='Thamerzo6', location='الرياض, المملكة العربية السعود', description='Son...Brother.... Husband...And father....Ground engineer for aircraft maintenance for saudi airlines', url=None, entities={'description': {'urls': []}}, protected=False, followers_count=1436, friends_count=1008, listed_count=15, created_at=datetime.datetime(2011, 11, 28, 6, 47, 21), favourites_count=2966, utc_offset=None, time_zone=None, geo_enabled=True, verified=False, statuses_count=83438, lang=None, contributors_enabled=False, is_translator=False, is_translation_enabled=False, profile_background_color='C0DEED', profile_background_image_url='http://abs.twimg.com/images/themes/theme1/bg.png', profile_background_image_url_https='https://abs.twimg.com/images/themes/theme1/bg.png', profile_background_tile=False, profile_image_url='http://pbs.twimg.com/profile_images/621092501512851456/ka5fd2iW_normal.jpg', profile_image_url_https='https://pbs.twimg.com/profile_images/621092501512851456/ka5fd2iW_normal.jpg', profile_banner_url='https://pbs.twimg.com/profile_banners/423210903/1584326769', profile_link_color='1DA1F2', profile_sidebar_border_color='C0DEED', profile_sidebar_fill_color='DDEEF6', profile_text_color='333333', profile_use_background_image=True, has_extended_profile=True, default_profile=True, default_profile_image=False, following=False, follow_request_sent=False, notifications=False, translator_type='none'), user=User(_api=<tweepy.api.API object at 0x7f3d43502828>, _json={'id': 423210903, 'id_str': '423210903', 'name': 'ثامر بن نواف السعدون', 'screen_name': 'Thamerzo6', 'location': 'الرياض, المملكة العربية السعود', 'description': 'Son...Brother.... Husband...And father....Ground engineer for aircraft maintenance for saudi airlines', 'url': None, 'entities': {'description': {'urls': []}}, 'protected': False, 'followers_count': 1436, 'friends_count': 1008, 'listed_count': 15, 'created_at': 'Mon Nov 28 06:47:21 +0000 2011', 'favourites_count': 2966, 'utc_offset': None, 'time_zone': None, 'geo_enabled': True, 'verified': False, 'statuses_count': 83438, 'lang': None, 'contributors_enabled': False, 'is_translator': False, 'is_translation_enabled': False, 'profile_background_color': 'C0DEED', 'profile_background_image_url': 'http://abs.twimg.com/images/themes/theme1/bg.png', 'profile_background_image_url_https': 'https://abs.twimg.com/images/themes/theme1/bg.png', 'profile_background_tile': False, 'profile_image_url': 'http://pbs.twimg.com/profile_images/621092501512851456/ka5fd2iW_normal.jpg', 'profile_image_url_https': 'https://pbs.twimg.com/profile_images/621092501512851456/ka5fd2iW_normal.jpg', 'profile_banner_url': 'https://pbs.twimg.com/profile_banners/423210903/1584326769', 'profile_link_color': '1DA1F2', 'profile_sidebar_border_color': 'C0DEED', 'profile_sidebar_fill_color': 'DDEEF6', 'profile_text_color': '333333', 'profile_use_background_image': True, 'has_extended_profile': True, 'default_profile': True, 'default_profile_image': False, 'following': False, 'follow_request_sent': False, 'notifications': False, 'translator_type': 'none'}, id=423210903, id_str='423210903', name='ثامر بن نواف السعدون', screen_name='Thamerzo6', location='الرياض, المملكة العربية السعود', description='Son...Brother.... Husband...And father....Ground engineer for aircraft maintenance for saudi airlines', url=None, entities={'description': {'urls': []}}, protected=False, followers_count=1436, friends_count=1008, listed_count=15, created_at=datetime.datetime(2011, 11, 28, 6, 47, 21), favourites_count=2966, utc_offset=None, time_zone=None, geo_enabled=True, verified=False, statuses_count=83438, lang=None, contributors_enabled=False, is_translator=False, is_translation_enabled=False, profile_background_color='C0DEED', profile_background_image_url='http://abs.twimg.com/images/themes/theme1/bg.png', profile_background_image_url_https='https://abs.twimg.com/images/themes/theme1/bg.png', profile_background_tile=False, profile_image_url='http://pbs.twimg.com/profile_images/621092501512851456/ka5fd2iW_normal.jpg', profile_image_url_https='https://pbs.twimg.com/profile_images/621092501512851456/ka5fd2iW_normal.jpg', profile_banner_url='https://pbs.twimg.com/profile_banners/423210903/1584326769', profile_link_color='1DA1F2', profile_sidebar_border_color='C0DEED', profile_sidebar_fill_color='DDEEF6', profile_text_color='333333', profile_use_background_image=True, has_extended_profile=True, default_profile=True, default_profile_image=False, following=False, follow_request_sent=False, notifications=False, translator_type='none'), geo=None, coordinates=None, place=None, contributors=None, retweeted_status=Status(_api=<tweepy.api.API object at 0x7f3d43502828>, _json={'created_at': 'Thu Dec 10 08:25:00 +0000 2020', 'id': 1336950027005161473, 'id_str': '1336950027005161473', 'full_text': \"To achieve the Kingdom's vision 🇸🇦 in the sustainability of economic power, social development and knowledge transfer in the #aviation industry ✈️ #SAEI ; one of #Saudi_Airlines companies, signed a memorandum of understanding agreement with GDC Technics. https://t.co/BQynulJLG8\", 'truncated': False, 'display_text_range': [0, 254], 'entities': {'hashtags': [{'text': 'aviation', 'indices': [125, 134]}, {'text': 'SAEI', 'indices': [147, 152]}, {'text': 'Saudi_Airlines', 'indices': [162, 177]}], 'symbols': [], 'user_mentions': [], 'urls': [], 'media': [{'id': 1336950020294184961, 'id_str': '1336950020294184961', 'indices': [255, 278], 'media_url': 'http://pbs.twimg.com/media/Eo3M9cIWEAECwpa.jpg', 'media_url_https': 'https://pbs.twimg.com/media/Eo3M9cIWEAECwpa.jpg', 'url': 'https://t.co/BQynulJLG8', 'display_url': 'pic.twitter.com/BQynulJLG8', 'expanded_url': 'https://twitter.com/SAEIMEDIA/status/1336950027005161473/photo/1', 'type': 'photo', 'sizes': {'thumb': {'w': 150, 'h': 150, 'resize': 'crop'}, 'large': {'w': 1322, 'h': 2048, 'resize': 'fit'}, 'medium': {'w': 775, 'h': 1200, 'resize': 'fit'}, 'small': {'w': 439, 'h': 680, 'resize': 'fit'}}}]}, 'extended_entities': {'media': [{'id': 1336950020294184961, 'id_str': '1336950020294184961', 'indices': [255, 278], 'media_url': 'http://pbs.twimg.com/media/Eo3M9cIWEAECwpa.jpg', 'media_url_https': 'https://pbs.twimg.com/media/Eo3M9cIWEAECwpa.jpg', 'url': 'https://t.co/BQynulJLG8', 'display_url': 'pic.twitter.com/BQynulJLG8', 'expanded_url': 'https://twitter.com/SAEIMEDIA/status/1336950027005161473/photo/1', 'type': 'photo', 'sizes': {'thumb': {'w': 150, 'h': 150, 'resize': 'crop'}, 'large': {'w': 1322, 'h': 2048, 'resize': 'fit'}, 'medium': {'w': 775, 'h': 1200, 'resize': 'fit'}, 'small': {'w': 439, 'h': 680, 'resize': 'fit'}}}]}, 'metadata': {'iso_language_code': 'en', 'result_type': 'recent'}, 'source': '<a href=\"http://twitter.com/download/iphone\" rel=\"nofollow\">Twitter for iPhone</a>', 'in_reply_to_status_id': None, 'in_reply_to_status_id_str': None, 'in_reply_to_user_id': None, 'in_reply_to_user_id_str': None, 'in_reply_to_screen_name': None, 'user': {'id': 176053912, 'id_str': '176053912', 'name': 'SAEI', 'screen_name': 'SAEIMEDIA', 'location': 'Jeddah, Saudi Arabia', 'description': 'الحساب الرسمي #السعودية_لهندسة_وصناعة_الطيران احدى شركات #الخطوط_السعودية The official account of #SAEI Saudia Aerospace Engineering Industries', 'url': 'https://t.co/jI11cpSxqp', 'entities': {'url': {'urls': [{'url': 'https://t.co/jI11cpSxqp', 'expanded_url': 'http://www.saei.aero', 'display_url': 'saei.aero', 'indices': [0, 23]}]}, 'description': {'urls': []}}, 'protected': False, 'followers_count': 25466, 'friends_count': 27, 'listed_count': 49, 'created_at': 'Sun Aug 08 12:16:56 +0000 2010', 'favourites_count': 493, 'utc_offset': None, 'time_zone': None, 'geo_enabled': False, 'verified': True, 'statuses_count': 3372, 'lang': None, 'contributors_enabled': False, 'is_translator': False, 'is_translation_enabled': False, 'profile_background_color': '3B94D9', 'profile_background_image_url': 'http://abs.twimg.com/images/themes/theme14/bg.gif', 'profile_background_image_url_https': 'https://abs.twimg.com/images/themes/theme14/bg.gif', 'profile_background_tile': True, 'profile_image_url': 'http://pbs.twimg.com/profile_images/1309882953909010433/_eSaaRJ0_normal.jpg', 'profile_image_url_https': 'https://pbs.twimg.com/profile_images/1309882953909010433/_eSaaRJ0_normal.jpg', 'profile_banner_url': 'https://pbs.twimg.com/profile_banners/176053912/1601134772', 'profile_link_color': '3B94D9', 'profile_sidebar_border_color': 'FFFFFF', 'profile_sidebar_fill_color': 'EFEFEF', 'profile_text_color': '333333', 'profile_use_background_image': True, 'has_extended_profile': False, 'default_profile': False, 'default_profile_image': False, 'following': False, 'follow_request_sent': False, 'notifications': False, 'translator_type': 'none'}, 'geo': None, 'coordinates': None, 'place': None, 'contributors': None, 'is_quote_status': False, 'retweet_count': 3, 'favorite_count': 5, 'favorited': False, 'retweeted': False, 'possibly_sensitive': False, 'lang': 'en'}, created_at=datetime.datetime(2020, 12, 10, 8, 25), id=1336950027005161473, id_str='1336950027005161473', full_text=\"To achieve the Kingdom's vision 🇸🇦 in the sustainability of economic power, social development and knowledge transfer in the #aviation industry ✈️ #SAEI ; one of #Saudi_Airlines companies, signed a memorandum of understanding agreement with GDC Technics. https://t.co/BQynulJLG8\", truncated=False, display_text_range=[0, 254], entities={'hashtags': [{'text': 'aviation', 'indices': [125, 134]}, {'text': 'SAEI', 'indices': [147, 152]}, {'text': 'Saudi_Airlines', 'indices': [162, 177]}], 'symbols': [], 'user_mentions': [], 'urls': [], 'media': [{'id': 1336950020294184961, 'id_str': '1336950020294184961', 'indices': [255, 278], 'media_url': 'http://pbs.twimg.com/media/Eo3M9cIWEAECwpa.jpg', 'media_url_https': 'https://pbs.twimg.com/media/Eo3M9cIWEAECwpa.jpg', 'url': 'https://t.co/BQynulJLG8', 'display_url': 'pic.twitter.com/BQynulJLG8', 'expanded_url': 'https://twitter.com/SAEIMEDIA/status/1336950027005161473/photo/1', 'type': 'photo', 'sizes': {'thumb': {'w': 150, 'h': 150, 'resize': 'crop'}, 'large': {'w': 1322, 'h': 2048, 'resize': 'fit'}, 'medium': {'w': 775, 'h': 1200, 'resize': 'fit'}, 'small': {'w': 439, 'h': 680, 'resize': 'fit'}}}]}, extended_entities={'media': [{'id': 1336950020294184961, 'id_str': '1336950020294184961', 'indices': [255, 278], 'media_url': 'http://pbs.twimg.com/media/Eo3M9cIWEAECwpa.jpg', 'media_url_https': 'https://pbs.twimg.com/media/Eo3M9cIWEAECwpa.jpg', 'url': 'https://t.co/BQynulJLG8', 'display_url': 'pic.twitter.com/BQynulJLG8', 'expanded_url': 'https://twitter.com/SAEIMEDIA/status/1336950027005161473/photo/1', 'type': 'photo', 'sizes': {'thumb': {'w': 150, 'h': 150, 'resize': 'crop'}, 'large': {'w': 1322, 'h': 2048, 'resize': 'fit'}, 'medium': {'w': 775, 'h': 1200, 'resize': 'fit'}, 'small': {'w': 439, 'h': 680, 'resize': 'fit'}}}]}, metadata={'iso_language_code': 'en', 'result_type': 'recent'}, source='Twitter for iPhone', source_url='http://twitter.com/download/iphone', in_reply_to_status_id=None, in_reply_to_status_id_str=None, in_reply_to_user_id=None, in_reply_to_user_id_str=None, in_reply_to_screen_name=None, author=User(_api=<tweepy.api.API object at 0x7f3d43502828>, _json={'id': 176053912, 'id_str': '176053912', 'name': 'SAEI', 'screen_name': 'SAEIMEDIA', 'location': 'Jeddah, Saudi Arabia', 'description': 'الحساب الرسمي #السعودية_لهندسة_وصناعة_الطيران احدى شركات #الخطوط_السعودية The official account of #SAEI Saudia Aerospace Engineering Industries', 'url': 'https://t.co/jI11cpSxqp', 'entities': {'url': {'urls': [{'url': 'https://t.co/jI11cpSxqp', 'expanded_url': 'http://www.saei.aero', 'display_url': 'saei.aero', 'indices': [0, 23]}]}, 'description': {'urls': []}}, 'protected': False, 'followers_count': 25466, 'friends_count': 27, 'listed_count': 49, 'created_at': 'Sun Aug 08 12:16:56 +0000 2010', 'favourites_count': 493, 'utc_offset': None, 'time_zone': None, 'geo_enabled': False, 'verified': True, 'statuses_count': 3372, 'lang': None, 'contributors_enabled': False, 'is_translator': False, 'is_translation_enabled': False, 'profile_background_color': '3B94D9', 'profile_background_image_url': 'http://abs.twimg.com/images/themes/theme14/bg.gif', 'profile_background_image_url_https': 'https://abs.twimg.com/images/themes/theme14/bg.gif', 'profile_background_tile': True, 'profile_image_url': 'http://pbs.twimg.com/profile_images/1309882953909010433/_eSaaRJ0_normal.jpg', 'profile_image_url_https': 'https://pbs.twimg.com/profile_images/1309882953909010433/_eSaaRJ0_normal.jpg', 'profile_banner_url': 'https://pbs.twimg.com/profile_banners/176053912/1601134772', 'profile_link_color': '3B94D9', 'profile_sidebar_border_color': 'FFFFFF', 'profile_sidebar_fill_color': 'EFEFEF', 'profile_text_color': '333333', 'profile_use_background_image': True, 'has_extended_profile': False, 'default_profile': False, 'default_profile_image': False, 'following': False, 'follow_request_sent': False, 'notifications': False, 'translator_type': 'none'}, id=176053912, id_str='176053912', name='SAEI', screen_name='SAEIMEDIA', location='Jeddah, Saudi Arabia', description='الحساب الرسمي #السعودية_لهندسة_وصناعة_الطيران احدى شركات #الخطوط_السعودية The official account of #SAEI Saudia Aerospace Engineering Industries', url='https://t.co/jI11cpSxqp', entities={'url': {'urls': [{'url': 'https://t.co/jI11cpSxqp', 'expanded_url': 'http://www.saei.aero', 'display_url': 'saei.aero', 'indices': [0, 23]}]}, 'description': {'urls': []}}, protected=False, followers_count=25466, friends_count=27, listed_count=49, created_at=datetime.datetime(2010, 8, 8, 12, 16, 56), favourites_count=493, utc_offset=None, time_zone=None, geo_enabled=False, verified=True, statuses_count=3372, lang=None, contributors_enabled=False, is_translator=False, is_translation_enabled=False, profile_background_color='3B94D9', profile_background_image_url='http://abs.twimg.com/images/themes/theme14/bg.gif', profile_background_image_url_https='https://abs.twimg.com/images/themes/theme14/bg.gif', profile_background_tile=True, profile_image_url='http://pbs.twimg.com/profile_images/1309882953909010433/_eSaaRJ0_normal.jpg', profile_image_url_https='https://pbs.twimg.com/profile_images/1309882953909010433/_eSaaRJ0_normal.jpg', profile_banner_url='https://pbs.twimg.com/profile_banners/176053912/1601134772', profile_link_color='3B94D9', profile_sidebar_border_color='FFFFFF', profile_sidebar_fill_color='EFEFEF', profile_text_color='333333', profile_use_background_image=True, has_extended_profile=False, default_profile=False, default_profile_image=False, following=False, follow_request_sent=False, notifications=False, translator_type='none'), user=User(_api=<tweepy.api.API object at 0x7f3d43502828>, _json={'id': 176053912, 'id_str': '176053912', 'name': 'SAEI', 'screen_name': 'SAEIMEDIA', 'location': 'Jeddah, Saudi Arabia', 'description': 'الحساب الرسمي #السعودية_لهندسة_وصناعة_الطيران احدى شركات #الخطوط_السعودية The official account of #SAEI Saudia Aerospace Engineering Industries', 'url': 'https://t.co/jI11cpSxqp', 'entities': {'url': {'urls': [{'url': 'https://t.co/jI11cpSxqp', 'expanded_url': 'http://www.saei.aero', 'display_url': 'saei.aero', 'indices': [0, 23]}]}, 'description': {'urls': []}}, 'protected': False, 'followers_count': 25466, 'friends_count': 27, 'listed_count': 49, 'created_at': 'Sun Aug 08 12:16:56 +0000 2010', 'favourites_count': 493, 'utc_offset': None, 'time_zone': None, 'geo_enabled': False, 'verified': True, 'statuses_count': 3372, 'lang': None, 'contributors_enabled': False, 'is_translator': False, 'is_translation_enabled': False, 'profile_background_color': '3B94D9', 'profile_background_image_url': 'http://abs.twimg.com/images/themes/theme14/bg.gif', 'profile_background_image_url_https': 'https://abs.twimg.com/images/themes/theme14/bg.gif', 'profile_background_tile': True, 'profile_image_url': 'http://pbs.twimg.com/profile_images/1309882953909010433/_eSaaRJ0_normal.jpg', 'profile_image_url_https': 'https://pbs.twimg.com/profile_images/1309882953909010433/_eSaaRJ0_normal.jpg', 'profile_banner_url': 'https://pbs.twimg.com/profile_banners/176053912/1601134772', 'profile_link_color': '3B94D9', 'profile_sidebar_border_color': 'FFFFFF', 'profile_sidebar_fill_color': 'EFEFEF', 'profile_text_color': '333333', 'profile_use_background_image': True, 'has_extended_profile': False, 'default_profile': False, 'default_profile_image': False, 'following': False, 'follow_request_sent': False, 'notifications': False, 'translator_type': 'none'}, id=176053912, id_str='176053912', name='SAEI', screen_name='SAEIMEDIA', location='Jeddah, Saudi Arabia', description='الحساب الرسمي #السعودية_لهندسة_وصناعة_الطيران احدى شركات #الخطوط_السعودية The official account of #SAEI Saudia Aerospace Engineering Industries', url='https://t.co/jI11cpSxqp', entities={'url': {'urls': [{'url': 'https://t.co/jI11cpSxqp', 'expanded_url': 'http://www.saei.aero', 'display_url': 'saei.aero', 'indices': [0, 23]}]}, 'description': {'urls': []}}, protected=False, followers_count=25466, friends_count=27, listed_count=49, created_at=datetime.datetime(2010, 8, 8, 12, 16, 56), favourites_count=493, utc_offset=None, time_zone=None, geo_enabled=False, verified=True, statuses_count=3372, lang=None, contributors_enabled=False, is_translator=False, is_translation_enabled=False, profile_background_color='3B94D9', profile_background_image_url='http://abs.twimg.com/images/themes/theme14/bg.gif', profile_background_image_url_https='https://abs.twimg.com/images/themes/theme14/bg.gif', profile_background_tile=True, profile_image_url='http://pbs.twimg.com/profile_images/1309882953909010433/_eSaaRJ0_normal.jpg', profile_image_url_https='https://pbs.twimg.com/profile_images/1309882953909010433/_eSaaRJ0_normal.jpg', profile_banner_url='https://pbs.twimg.com/profile_banners/176053912/1601134772', profile_link_color='3B94D9', profile_sidebar_border_color='FFFFFF', profile_sidebar_fill_color='EFEFEF', profile_text_color='333333', profile_use_background_image=True, has_extended_profile=False, default_profile=False, default_profile_image=False, following=False, follow_request_sent=False, notifications=False, translator_type='none'), geo=None, coordinates=None, place=None, contributors=None, is_quote_status=False, retweet_count=3, favorite_count=5, favorited=False, retweeted=False, possibly_sensitive=False, lang='en'), is_quote_status=False, retweet_count=3, favorite_count=0, favorited=False, retweeted=False, lang='en'),\n",
              " Status(_api=<tweepy.api.API object at 0x7f3d43502828>, _json={'created_at': 'Thu Dec 10 08:25:00 +0000 2020', 'id': 1336950027005161473, 'id_str': '1336950027005161473', 'full_text': \"To achieve the Kingdom's vision 🇸🇦 in the sustainability of economic power, social development and knowledge transfer in the #aviation industry ✈️ #SAEI ; one of #Saudi_Airlines companies, signed a memorandum of understanding agreement with GDC Technics. https://t.co/BQynulJLG8\", 'truncated': False, 'display_text_range': [0, 254], 'entities': {'hashtags': [{'text': 'aviation', 'indices': [125, 134]}, {'text': 'SAEI', 'indices': [147, 152]}, {'text': 'Saudi_Airlines', 'indices': [162, 177]}], 'symbols': [], 'user_mentions': [], 'urls': [], 'media': [{'id': 1336950020294184961, 'id_str': '1336950020294184961', 'indices': [255, 278], 'media_url': 'http://pbs.twimg.com/media/Eo3M9cIWEAECwpa.jpg', 'media_url_https': 'https://pbs.twimg.com/media/Eo3M9cIWEAECwpa.jpg', 'url': 'https://t.co/BQynulJLG8', 'display_url': 'pic.twitter.com/BQynulJLG8', 'expanded_url': 'https://twitter.com/SAEIMEDIA/status/1336950027005161473/photo/1', 'type': 'photo', 'sizes': {'thumb': {'w': 150, 'h': 150, 'resize': 'crop'}, 'large': {'w': 1322, 'h': 2048, 'resize': 'fit'}, 'medium': {'w': 775, 'h': 1200, 'resize': 'fit'}, 'small': {'w': 439, 'h': 680, 'resize': 'fit'}}}]}, 'extended_entities': {'media': [{'id': 1336950020294184961, 'id_str': '1336950020294184961', 'indices': [255, 278], 'media_url': 'http://pbs.twimg.com/media/Eo3M9cIWEAECwpa.jpg', 'media_url_https': 'https://pbs.twimg.com/media/Eo3M9cIWEAECwpa.jpg', 'url': 'https://t.co/BQynulJLG8', 'display_url': 'pic.twitter.com/BQynulJLG8', 'expanded_url': 'https://twitter.com/SAEIMEDIA/status/1336950027005161473/photo/1', 'type': 'photo', 'sizes': {'thumb': {'w': 150, 'h': 150, 'resize': 'crop'}, 'large': {'w': 1322, 'h': 2048, 'resize': 'fit'}, 'medium': {'w': 775, 'h': 1200, 'resize': 'fit'}, 'small': {'w': 439, 'h': 680, 'resize': 'fit'}}}]}, 'metadata': {'iso_language_code': 'en', 'result_type': 'recent'}, 'source': '<a href=\"http://twitter.com/download/iphone\" rel=\"nofollow\">Twitter for iPhone</a>', 'in_reply_to_status_id': None, 'in_reply_to_status_id_str': None, 'in_reply_to_user_id': None, 'in_reply_to_user_id_str': None, 'in_reply_to_screen_name': None, 'user': {'id': 176053912, 'id_str': '176053912', 'name': 'SAEI', 'screen_name': 'SAEIMEDIA', 'location': 'Jeddah, Saudi Arabia', 'description': 'الحساب الرسمي #السعودية_لهندسة_وصناعة_الطيران احدى شركات #الخطوط_السعودية The official account of #SAEI Saudia Aerospace Engineering Industries', 'url': 'https://t.co/jI11cpSxqp', 'entities': {'url': {'urls': [{'url': 'https://t.co/jI11cpSxqp', 'expanded_url': 'http://www.saei.aero', 'display_url': 'saei.aero', 'indices': [0, 23]}]}, 'description': {'urls': []}}, 'protected': False, 'followers_count': 25466, 'friends_count': 27, 'listed_count': 49, 'created_at': 'Sun Aug 08 12:16:56 +0000 2010', 'favourites_count': 493, 'utc_offset': None, 'time_zone': None, 'geo_enabled': False, 'verified': True, 'statuses_count': 3372, 'lang': None, 'contributors_enabled': False, 'is_translator': False, 'is_translation_enabled': False, 'profile_background_color': '3B94D9', 'profile_background_image_url': 'http://abs.twimg.com/images/themes/theme14/bg.gif', 'profile_background_image_url_https': 'https://abs.twimg.com/images/themes/theme14/bg.gif', 'profile_background_tile': True, 'profile_image_url': 'http://pbs.twimg.com/profile_images/1309882953909010433/_eSaaRJ0_normal.jpg', 'profile_image_url_https': 'https://pbs.twimg.com/profile_images/1309882953909010433/_eSaaRJ0_normal.jpg', 'profile_banner_url': 'https://pbs.twimg.com/profile_banners/176053912/1601134772', 'profile_link_color': '3B94D9', 'profile_sidebar_border_color': 'FFFFFF', 'profile_sidebar_fill_color': 'EFEFEF', 'profile_text_color': '333333', 'profile_use_background_image': True, 'has_extended_profile': False, 'default_profile': False, 'default_profile_image': False, 'following': False, 'follow_request_sent': False, 'notifications': False, 'translator_type': 'none'}, 'geo': None, 'coordinates': None, 'place': None, 'contributors': None, 'is_quote_status': False, 'retweet_count': 3, 'favorite_count': 5, 'favorited': False, 'retweeted': False, 'possibly_sensitive': False, 'lang': 'en'}, created_at=datetime.datetime(2020, 12, 10, 8, 25), id=1336950027005161473, id_str='1336950027005161473', full_text=\"To achieve the Kingdom's vision 🇸🇦 in the sustainability of economic power, social development and knowledge transfer in the #aviation industry ✈️ #SAEI ; one of #Saudi_Airlines companies, signed a memorandum of understanding agreement with GDC Technics. https://t.co/BQynulJLG8\", truncated=False, display_text_range=[0, 254], entities={'hashtags': [{'text': 'aviation', 'indices': [125, 134]}, {'text': 'SAEI', 'indices': [147, 152]}, {'text': 'Saudi_Airlines', 'indices': [162, 177]}], 'symbols': [], 'user_mentions': [], 'urls': [], 'media': [{'id': 1336950020294184961, 'id_str': '1336950020294184961', 'indices': [255, 278], 'media_url': 'http://pbs.twimg.com/media/Eo3M9cIWEAECwpa.jpg', 'media_url_https': 'https://pbs.twimg.com/media/Eo3M9cIWEAECwpa.jpg', 'url': 'https://t.co/BQynulJLG8', 'display_url': 'pic.twitter.com/BQynulJLG8', 'expanded_url': 'https://twitter.com/SAEIMEDIA/status/1336950027005161473/photo/1', 'type': 'photo', 'sizes': {'thumb': {'w': 150, 'h': 150, 'resize': 'crop'}, 'large': {'w': 1322, 'h': 2048, 'resize': 'fit'}, 'medium': {'w': 775, 'h': 1200, 'resize': 'fit'}, 'small': {'w': 439, 'h': 680, 'resize': 'fit'}}}]}, extended_entities={'media': [{'id': 1336950020294184961, 'id_str': '1336950020294184961', 'indices': [255, 278], 'media_url': 'http://pbs.twimg.com/media/Eo3M9cIWEAECwpa.jpg', 'media_url_https': 'https://pbs.twimg.com/media/Eo3M9cIWEAECwpa.jpg', 'url': 'https://t.co/BQynulJLG8', 'display_url': 'pic.twitter.com/BQynulJLG8', 'expanded_url': 'https://twitter.com/SAEIMEDIA/status/1336950027005161473/photo/1', 'type': 'photo', 'sizes': {'thumb': {'w': 150, 'h': 150, 'resize': 'crop'}, 'large': {'w': 1322, 'h': 2048, 'resize': 'fit'}, 'medium': {'w': 775, 'h': 1200, 'resize': 'fit'}, 'small': {'w': 439, 'h': 680, 'resize': 'fit'}}}]}, metadata={'iso_language_code': 'en', 'result_type': 'recent'}, source='Twitter for iPhone', source_url='http://twitter.com/download/iphone', in_reply_to_status_id=None, in_reply_to_status_id_str=None, in_reply_to_user_id=None, in_reply_to_user_id_str=None, in_reply_to_screen_name=None, author=User(_api=<tweepy.api.API object at 0x7f3d43502828>, _json={'id': 176053912, 'id_str': '176053912', 'name': 'SAEI', 'screen_name': 'SAEIMEDIA', 'location': 'Jeddah, Saudi Arabia', 'description': 'الحساب الرسمي #السعودية_لهندسة_وصناعة_الطيران احدى شركات #الخطوط_السعودية The official account of #SAEI Saudia Aerospace Engineering Industries', 'url': 'https://t.co/jI11cpSxqp', 'entities': {'url': {'urls': [{'url': 'https://t.co/jI11cpSxqp', 'expanded_url': 'http://www.saei.aero', 'display_url': 'saei.aero', 'indices': [0, 23]}]}, 'description': {'urls': []}}, 'protected': False, 'followers_count': 25466, 'friends_count': 27, 'listed_count': 49, 'created_at': 'Sun Aug 08 12:16:56 +0000 2010', 'favourites_count': 493, 'utc_offset': None, 'time_zone': None, 'geo_enabled': False, 'verified': True, 'statuses_count': 3372, 'lang': None, 'contributors_enabled': False, 'is_translator': False, 'is_translation_enabled': False, 'profile_background_color': '3B94D9', 'profile_background_image_url': 'http://abs.twimg.com/images/themes/theme14/bg.gif', 'profile_background_image_url_https': 'https://abs.twimg.com/images/themes/theme14/bg.gif', 'profile_background_tile': True, 'profile_image_url': 'http://pbs.twimg.com/profile_images/1309882953909010433/_eSaaRJ0_normal.jpg', 'profile_image_url_https': 'https://pbs.twimg.com/profile_images/1309882953909010433/_eSaaRJ0_normal.jpg', 'profile_banner_url': 'https://pbs.twimg.com/profile_banners/176053912/1601134772', 'profile_link_color': '3B94D9', 'profile_sidebar_border_color': 'FFFFFF', 'profile_sidebar_fill_color': 'EFEFEF', 'profile_text_color': '333333', 'profile_use_background_image': True, 'has_extended_profile': False, 'default_profile': False, 'default_profile_image': False, 'following': False, 'follow_request_sent': False, 'notifications': False, 'translator_type': 'none'}, id=176053912, id_str='176053912', name='SAEI', screen_name='SAEIMEDIA', location='Jeddah, Saudi Arabia', description='الحساب الرسمي #السعودية_لهندسة_وصناعة_الطيران احدى شركات #الخطوط_السعودية The official account of #SAEI Saudia Aerospace Engineering Industries', url='https://t.co/jI11cpSxqp', entities={'url': {'urls': [{'url': 'https://t.co/jI11cpSxqp', 'expanded_url': 'http://www.saei.aero', 'display_url': 'saei.aero', 'indices': [0, 23]}]}, 'description': {'urls': []}}, protected=False, followers_count=25466, friends_count=27, listed_count=49, created_at=datetime.datetime(2010, 8, 8, 12, 16, 56), favourites_count=493, utc_offset=None, time_zone=None, geo_enabled=False, verified=True, statuses_count=3372, lang=None, contributors_enabled=False, is_translator=False, is_translation_enabled=False, profile_background_color='3B94D9', profile_background_image_url='http://abs.twimg.com/images/themes/theme14/bg.gif', profile_background_image_url_https='https://abs.twimg.com/images/themes/theme14/bg.gif', profile_background_tile=True, profile_image_url='http://pbs.twimg.com/profile_images/1309882953909010433/_eSaaRJ0_normal.jpg', profile_image_url_https='https://pbs.twimg.com/profile_images/1309882953909010433/_eSaaRJ0_normal.jpg', profile_banner_url='https://pbs.twimg.com/profile_banners/176053912/1601134772', profile_link_color='3B94D9', profile_sidebar_border_color='FFFFFF', profile_sidebar_fill_color='EFEFEF', profile_text_color='333333', profile_use_background_image=True, has_extended_profile=False, default_profile=False, default_profile_image=False, following=False, follow_request_sent=False, notifications=False, translator_type='none'), user=User(_api=<tweepy.api.API object at 0x7f3d43502828>, _json={'id': 176053912, 'id_str': '176053912', 'name': 'SAEI', 'screen_name': 'SAEIMEDIA', 'location': 'Jeddah, Saudi Arabia', 'description': 'الحساب الرسمي #السعودية_لهندسة_وصناعة_الطيران احدى شركات #الخطوط_السعودية The official account of #SAEI Saudia Aerospace Engineering Industries', 'url': 'https://t.co/jI11cpSxqp', 'entities': {'url': {'urls': [{'url': 'https://t.co/jI11cpSxqp', 'expanded_url': 'http://www.saei.aero', 'display_url': 'saei.aero', 'indices': [0, 23]}]}, 'description': {'urls': []}}, 'protected': False, 'followers_count': 25466, 'friends_count': 27, 'listed_count': 49, 'created_at': 'Sun Aug 08 12:16:56 +0000 2010', 'favourites_count': 493, 'utc_offset': None, 'time_zone': None, 'geo_enabled': False, 'verified': True, 'statuses_count': 3372, 'lang': None, 'contributors_enabled': False, 'is_translator': False, 'is_translation_enabled': False, 'profile_background_color': '3B94D9', 'profile_background_image_url': 'http://abs.twimg.com/images/themes/theme14/bg.gif', 'profile_background_image_url_https': 'https://abs.twimg.com/images/themes/theme14/bg.gif', 'profile_background_tile': True, 'profile_image_url': 'http://pbs.twimg.com/profile_images/1309882953909010433/_eSaaRJ0_normal.jpg', 'profile_image_url_https': 'https://pbs.twimg.com/profile_images/1309882953909010433/_eSaaRJ0_normal.jpg', 'profile_banner_url': 'https://pbs.twimg.com/profile_banners/176053912/1601134772', 'profile_link_color': '3B94D9', 'profile_sidebar_border_color': 'FFFFFF', 'profile_sidebar_fill_color': 'EFEFEF', 'profile_text_color': '333333', 'profile_use_background_image': True, 'has_extended_profile': False, 'default_profile': False, 'default_profile_image': False, 'following': False, 'follow_request_sent': False, 'notifications': False, 'translator_type': 'none'}, id=176053912, id_str='176053912', name='SAEI', screen_name='SAEIMEDIA', location='Jeddah, Saudi Arabia', description='الحساب الرسمي #السعودية_لهندسة_وصناعة_الطيران احدى شركات #الخطوط_السعودية The official account of #SAEI Saudia Aerospace Engineering Industries', url='https://t.co/jI11cpSxqp', entities={'url': {'urls': [{'url': 'https://t.co/jI11cpSxqp', 'expanded_url': 'http://www.saei.aero', 'display_url': 'saei.aero', 'indices': [0, 23]}]}, 'description': {'urls': []}}, protected=False, followers_count=25466, friends_count=27, listed_count=49, created_at=datetime.datetime(2010, 8, 8, 12, 16, 56), favourites_count=493, utc_offset=None, time_zone=None, geo_enabled=False, verified=True, statuses_count=3372, lang=None, contributors_enabled=False, is_translator=False, is_translation_enabled=False, profile_background_color='3B94D9', profile_background_image_url='http://abs.twimg.com/images/themes/theme14/bg.gif', profile_background_image_url_https='https://abs.twimg.com/images/themes/theme14/bg.gif', profile_background_tile=True, profile_image_url='http://pbs.twimg.com/profile_images/1309882953909010433/_eSaaRJ0_normal.jpg', profile_image_url_https='https://pbs.twimg.com/profile_images/1309882953909010433/_eSaaRJ0_normal.jpg', profile_banner_url='https://pbs.twimg.com/profile_banners/176053912/1601134772', profile_link_color='3B94D9', profile_sidebar_border_color='FFFFFF', profile_sidebar_fill_color='EFEFEF', profile_text_color='333333', profile_use_background_image=True, has_extended_profile=False, default_profile=False, default_profile_image=False, following=False, follow_request_sent=False, notifications=False, translator_type='none'), geo=None, coordinates=None, place=None, contributors=None, is_quote_status=False, retweet_count=3, favorite_count=5, favorited=False, retweeted=False, possibly_sensitive=False, lang='en')]"
            ]
          },
          "metadata": {
            "tags": []
          },
          "execution_count": 8
        }
      ]
    },
    {
      "cell_type": "code",
      "metadata": {
        "colab": {
          "base_uri": "https://localhost:8080/"
        },
        "id": "dEd5XauYwk-I",
        "outputId": "8dbfde4c-1f46-44f9-b2c0-47b7f343184b"
      },
      "source": [
        "len(tweets_saudia)"
      ],
      "execution_count": null,
      "outputs": [
        {
          "output_type": "execute_result",
          "data": {
            "text/plain": [
              "2"
            ]
          },
          "metadata": {
            "tags": []
          },
          "execution_count": 28
        }
      ]
    },
    {
      "cell_type": "markdown",
      "metadata": {
        "id": "qljezK_MzBPo"
      },
      "source": [
        "#flynas"
      ]
    },
    {
      "cell_type": "code",
      "metadata": {
        "colab": {
          "base_uri": "https://localhost:8080/",
          "height": 1000
        },
        "id": "-hhQHSEFrnTE",
        "outputId": "4cffbf69-3914-4d65-8492-7e1bc4bfebfb"
      },
      "source": [
        "#oldest = tweets_fly[-1].id - 1\n",
        "while len(tweets_fly) > 0:\n",
        "    print(\"getting tweets before %s\" % (oldest))\n",
        "    # all subsequent requests use the max_id param to prevent\n",
        "    # duplicates\n",
        "    \n",
        "    new_tweets = api.search(q='flynas',count=200,lang=\"en\",tweet_mode='extended')\n",
        "    #just if lan tweetes \n",
        "    # save most recent tweets\n",
        "    \n",
        "    tweets_fly.extend(new_tweets)\n",
        "    # update the id of the oldest tweet less one\n",
        "    oldest = tweets_fly[-1].id - 1\n",
        "    print(\"...%s tweets downloaded so far\" % (len(tweets_fly)))\n",
        "    \n",
        "    ### END OF WHILE LOOP ###\n",
        "  # transform the tweepy tweets into a 2D array that will \n",
        "  # populate the csv\n",
        "  #return alltweets"
      ],
      "execution_count": null,
      "outputs": [
        {
          "output_type": "stream",
          "text": [
            "getting tweets before 1333453795901247494\n",
            "...200 tweets downloaded so far\n",
            "getting tweets before 1333453795901247494\n",
            "...300 tweets downloaded so far\n",
            "getting tweets before 1333453795901247494\n",
            "...400 tweets downloaded so far\n",
            "getting tweets before 1333453795901247494\n",
            "...500 tweets downloaded so far\n",
            "getting tweets before 1333453795901247494\n",
            "...600 tweets downloaded so far\n",
            "getting tweets before 1333453795901247494\n",
            "...700 tweets downloaded so far\n",
            "getting tweets before 1333453795901247494\n",
            "...800 tweets downloaded so far\n",
            "getting tweets before 1333453795901247494\n",
            "...900 tweets downloaded so far\n",
            "getting tweets before 1333453795901247494\n",
            "...1000 tweets downloaded so far\n",
            "getting tweets before 1333453795901247494\n",
            "...1100 tweets downloaded so far\n",
            "getting tweets before 1333453795901247494\n",
            "...1200 tweets downloaded so far\n",
            "getting tweets before 1333453795901247494\n",
            "...1300 tweets downloaded so far\n",
            "getting tweets before 1333453795901247494\n",
            "...1400 tweets downloaded so far\n",
            "getting tweets before 1333453795901247494\n",
            "...1500 tweets downloaded so far\n",
            "getting tweets before 1333453795901247494\n",
            "...1600 tweets downloaded so far\n",
            "getting tweets before 1333453795901247494\n",
            "...1700 tweets downloaded so far\n",
            "getting tweets before 1333453795901247494\n",
            "...1800 tweets downloaded so far\n",
            "getting tweets before 1333453795901247494\n",
            "...1900 tweets downloaded so far\n",
            "getting tweets before 1333453795901247494\n",
            "...2000 tweets downloaded so far\n",
            "getting tweets before 1333453795901247494\n",
            "...2100 tweets downloaded so far\n",
            "getting tweets before 1333453795901247494\n",
            "...2200 tweets downloaded so far\n",
            "getting tweets before 1333453795901247494\n",
            "...2300 tweets downloaded so far\n",
            "getting tweets before 1333453795901247494\n",
            "...2400 tweets downloaded so far\n",
            "getting tweets before 1333453795901247494\n",
            "...2500 tweets downloaded so far\n",
            "getting tweets before 1333453795901247494\n",
            "...2600 tweets downloaded so far\n",
            "getting tweets before 1333453795901247494\n",
            "...2700 tweets downloaded so far\n",
            "getting tweets before 1333453795901247494\n",
            "...2800 tweets downloaded so far\n",
            "getting tweets before 1333453795901247494\n",
            "...2900 tweets downloaded so far\n",
            "getting tweets before 1333453795901247494\n",
            "...3000 tweets downloaded so far\n",
            "getting tweets before 1333453795901247494\n",
            "...3100 tweets downloaded so far\n",
            "getting tweets before 1333453795901247494\n",
            "...3200 tweets downloaded so far\n",
            "getting tweets before 1333453795901247494\n",
            "...3300 tweets downloaded so far\n",
            "getting tweets before 1333453795901247494\n",
            "...3400 tweets downloaded so far\n",
            "getting tweets before 1333453795901247494\n",
            "...3500 tweets downloaded so far\n",
            "getting tweets before 1333453795901247494\n",
            "...3600 tweets downloaded so far\n",
            "getting tweets before 1333453795901247494\n",
            "...3700 tweets downloaded so far\n",
            "getting tweets before 1333453795901247494\n",
            "...3800 tweets downloaded so far\n",
            "getting tweets before 1333453795901247494\n",
            "...3900 tweets downloaded so far\n",
            "getting tweets before 1333453795901247494\n",
            "...4000 tweets downloaded so far\n",
            "getting tweets before 1333453795901247494\n"
          ],
          "name": "stdout"
        },
        {
          "output_type": "error",
          "ename": "KeyboardInterrupt",
          "evalue": "ignored",
          "traceback": [
            "\u001b[0;31m---------------------------------------------------------------------------\u001b[0m",
            "\u001b[0;31mTypeError\u001b[0m                                 Traceback (most recent call last)",
            "\u001b[0;32m/usr/local/lib/python3.6/dist-packages/urllib3/connectionpool.py\u001b[0m in \u001b[0;36m_make_request\u001b[0;34m(self, conn, method, url, timeout, chunked, **httplib_request_kw)\u001b[0m\n\u001b[1;32m    376\u001b[0m             \u001b[0;32mtry\u001b[0m\u001b[0;34m:\u001b[0m  \u001b[0;31m# Python 2.7, use buffering of HTTP responses\u001b[0m\u001b[0;34m\u001b[0m\u001b[0;34m\u001b[0m\u001b[0m\n\u001b[0;32m--> 377\u001b[0;31m                 \u001b[0mhttplib_response\u001b[0m \u001b[0;34m=\u001b[0m \u001b[0mconn\u001b[0m\u001b[0;34m.\u001b[0m\u001b[0mgetresponse\u001b[0m\u001b[0;34m(\u001b[0m\u001b[0mbuffering\u001b[0m\u001b[0;34m=\u001b[0m\u001b[0;32mTrue\u001b[0m\u001b[0;34m)\u001b[0m\u001b[0;34m\u001b[0m\u001b[0;34m\u001b[0m\u001b[0m\n\u001b[0m\u001b[1;32m    378\u001b[0m             \u001b[0;32mexcept\u001b[0m \u001b[0mTypeError\u001b[0m\u001b[0;34m:\u001b[0m  \u001b[0;31m# Python 3\u001b[0m\u001b[0;34m\u001b[0m\u001b[0;34m\u001b[0m\u001b[0m\n",
            "\u001b[0;31mTypeError\u001b[0m: getresponse() got an unexpected keyword argument 'buffering'",
            "\nDuring handling of the above exception, another exception occurred:\n",
            "\u001b[0;31mKeyboardInterrupt\u001b[0m                         Traceback (most recent call last)",
            "\u001b[0;32m<ipython-input-10-90988e3009c2>\u001b[0m in \u001b[0;36m<module>\u001b[0;34m()\u001b[0m\n\u001b[1;32m      5\u001b[0m     \u001b[0;31m# duplicates\u001b[0m\u001b[0;34m\u001b[0m\u001b[0;34m\u001b[0m\u001b[0;34m\u001b[0m\u001b[0m\n\u001b[1;32m      6\u001b[0m \u001b[0;34m\u001b[0m\u001b[0m\n\u001b[0;32m----> 7\u001b[0;31m     \u001b[0mnew_tweets\u001b[0m \u001b[0;34m=\u001b[0m \u001b[0mapi\u001b[0m\u001b[0;34m.\u001b[0m\u001b[0msearch\u001b[0m\u001b[0;34m(\u001b[0m\u001b[0mq\u001b[0m\u001b[0;34m=\u001b[0m\u001b[0;34m'flynas'\u001b[0m\u001b[0;34m,\u001b[0m\u001b[0mcount\u001b[0m\u001b[0;34m=\u001b[0m\u001b[0;36m200\u001b[0m\u001b[0;34m,\u001b[0m\u001b[0mlang\u001b[0m\u001b[0;34m=\u001b[0m\u001b[0;34m\"en\"\u001b[0m\u001b[0;34m,\u001b[0m\u001b[0mtweet_mode\u001b[0m\u001b[0;34m=\u001b[0m\u001b[0;34m'extended'\u001b[0m\u001b[0;34m)\u001b[0m\u001b[0;34m\u001b[0m\u001b[0;34m\u001b[0m\u001b[0m\n\u001b[0m\u001b[1;32m      8\u001b[0m     \u001b[0;31m#just if lan tweetes\u001b[0m\u001b[0;34m\u001b[0m\u001b[0;34m\u001b[0m\u001b[0;34m\u001b[0m\u001b[0m\n\u001b[1;32m      9\u001b[0m     \u001b[0;31m# save most recent tweets\u001b[0m\u001b[0;34m\u001b[0m\u001b[0;34m\u001b[0m\u001b[0;34m\u001b[0m\u001b[0m\n",
            "\u001b[0;32m/usr/local/lib/python3.6/dist-packages/tweepy/binder.py\u001b[0m in \u001b[0;36m_call\u001b[0;34m(*args, **kwargs)\u001b[0m\n\u001b[1;32m    248\u001b[0m             \u001b[0;32mreturn\u001b[0m \u001b[0mmethod\u001b[0m\u001b[0;34m\u001b[0m\u001b[0;34m\u001b[0m\u001b[0m\n\u001b[1;32m    249\u001b[0m         \u001b[0;32melse\u001b[0m\u001b[0;34m:\u001b[0m\u001b[0;34m\u001b[0m\u001b[0;34m\u001b[0m\u001b[0m\n\u001b[0;32m--> 250\u001b[0;31m             \u001b[0;32mreturn\u001b[0m \u001b[0mmethod\u001b[0m\u001b[0;34m.\u001b[0m\u001b[0mexecute\u001b[0m\u001b[0;34m(\u001b[0m\u001b[0;34m)\u001b[0m\u001b[0;34m\u001b[0m\u001b[0;34m\u001b[0m\u001b[0m\n\u001b[0m\u001b[1;32m    251\u001b[0m \u001b[0;34m\u001b[0m\u001b[0m\n\u001b[1;32m    252\u001b[0m     \u001b[0;31m# Set pagination mode\u001b[0m\u001b[0;34m\u001b[0m\u001b[0;34m\u001b[0m\u001b[0;34m\u001b[0m\u001b[0m\n",
            "\u001b[0;32m/usr/local/lib/python3.6/dist-packages/tweepy/binder.py\u001b[0m in \u001b[0;36mexecute\u001b[0;34m(self)\u001b[0m\n\u001b[1;32m    188\u001b[0m                                                 \u001b[0mtimeout\u001b[0m\u001b[0;34m=\u001b[0m\u001b[0mself\u001b[0m\u001b[0;34m.\u001b[0m\u001b[0mapi\u001b[0m\u001b[0;34m.\u001b[0m\u001b[0mtimeout\u001b[0m\u001b[0;34m,\u001b[0m\u001b[0;34m\u001b[0m\u001b[0;34m\u001b[0m\u001b[0m\n\u001b[1;32m    189\u001b[0m                                                 \u001b[0mauth\u001b[0m\u001b[0;34m=\u001b[0m\u001b[0mauth\u001b[0m\u001b[0;34m,\u001b[0m\u001b[0;34m\u001b[0m\u001b[0;34m\u001b[0m\u001b[0m\n\u001b[0;32m--> 190\u001b[0;31m                                                 proxies=self.api.proxy)\n\u001b[0m\u001b[1;32m    191\u001b[0m                 \u001b[0;32mexcept\u001b[0m \u001b[0mException\u001b[0m \u001b[0;32mas\u001b[0m \u001b[0me\u001b[0m\u001b[0;34m:\u001b[0m\u001b[0;34m\u001b[0m\u001b[0;34m\u001b[0m\u001b[0m\n\u001b[1;32m    192\u001b[0m                     \u001b[0msix\u001b[0m\u001b[0;34m.\u001b[0m\u001b[0mreraise\u001b[0m\u001b[0;34m(\u001b[0m\u001b[0mTweepError\u001b[0m\u001b[0;34m,\u001b[0m \u001b[0mTweepError\u001b[0m\u001b[0;34m(\u001b[0m\u001b[0;34m'Failed to send request: %s'\u001b[0m \u001b[0;34m%\u001b[0m \u001b[0me\u001b[0m\u001b[0;34m)\u001b[0m\u001b[0;34m,\u001b[0m \u001b[0msys\u001b[0m\u001b[0;34m.\u001b[0m\u001b[0mexc_info\u001b[0m\u001b[0;34m(\u001b[0m\u001b[0;34m)\u001b[0m\u001b[0;34m[\u001b[0m\u001b[0;36m2\u001b[0m\u001b[0;34m]\u001b[0m\u001b[0;34m)\u001b[0m\u001b[0;34m\u001b[0m\u001b[0;34m\u001b[0m\u001b[0m\n",
            "\u001b[0;32m/usr/local/lib/python3.6/dist-packages/requests/sessions.py\u001b[0m in \u001b[0;36mrequest\u001b[0;34m(self, method, url, params, data, headers, cookies, files, auth, timeout, allow_redirects, proxies, hooks, stream, verify, cert, json)\u001b[0m\n\u001b[1;32m    528\u001b[0m         }\n\u001b[1;32m    529\u001b[0m         \u001b[0msend_kwargs\u001b[0m\u001b[0;34m.\u001b[0m\u001b[0mupdate\u001b[0m\u001b[0;34m(\u001b[0m\u001b[0msettings\u001b[0m\u001b[0;34m)\u001b[0m\u001b[0;34m\u001b[0m\u001b[0;34m\u001b[0m\u001b[0m\n\u001b[0;32m--> 530\u001b[0;31m         \u001b[0mresp\u001b[0m \u001b[0;34m=\u001b[0m \u001b[0mself\u001b[0m\u001b[0;34m.\u001b[0m\u001b[0msend\u001b[0m\u001b[0;34m(\u001b[0m\u001b[0mprep\u001b[0m\u001b[0;34m,\u001b[0m \u001b[0;34m**\u001b[0m\u001b[0msend_kwargs\u001b[0m\u001b[0;34m)\u001b[0m\u001b[0;34m\u001b[0m\u001b[0;34m\u001b[0m\u001b[0m\n\u001b[0m\u001b[1;32m    531\u001b[0m \u001b[0;34m\u001b[0m\u001b[0m\n\u001b[1;32m    532\u001b[0m         \u001b[0;32mreturn\u001b[0m \u001b[0mresp\u001b[0m\u001b[0;34m\u001b[0m\u001b[0;34m\u001b[0m\u001b[0m\n",
            "\u001b[0;32m/usr/local/lib/python3.6/dist-packages/requests/sessions.py\u001b[0m in \u001b[0;36msend\u001b[0;34m(self, request, **kwargs)\u001b[0m\n\u001b[1;32m    641\u001b[0m \u001b[0;34m\u001b[0m\u001b[0m\n\u001b[1;32m    642\u001b[0m         \u001b[0;31m# Send the request\u001b[0m\u001b[0;34m\u001b[0m\u001b[0;34m\u001b[0m\u001b[0;34m\u001b[0m\u001b[0m\n\u001b[0;32m--> 643\u001b[0;31m         \u001b[0mr\u001b[0m \u001b[0;34m=\u001b[0m \u001b[0madapter\u001b[0m\u001b[0;34m.\u001b[0m\u001b[0msend\u001b[0m\u001b[0;34m(\u001b[0m\u001b[0mrequest\u001b[0m\u001b[0;34m,\u001b[0m \u001b[0;34m**\u001b[0m\u001b[0mkwargs\u001b[0m\u001b[0;34m)\u001b[0m\u001b[0;34m\u001b[0m\u001b[0;34m\u001b[0m\u001b[0m\n\u001b[0m\u001b[1;32m    644\u001b[0m \u001b[0;34m\u001b[0m\u001b[0m\n\u001b[1;32m    645\u001b[0m         \u001b[0;31m# Total elapsed time of the request (approximately)\u001b[0m\u001b[0;34m\u001b[0m\u001b[0;34m\u001b[0m\u001b[0;34m\u001b[0m\u001b[0m\n",
            "\u001b[0;32m/usr/local/lib/python3.6/dist-packages/requests/adapters.py\u001b[0m in \u001b[0;36msend\u001b[0;34m(self, request, stream, timeout, verify, cert, proxies)\u001b[0m\n\u001b[1;32m    447\u001b[0m                     \u001b[0mdecode_content\u001b[0m\u001b[0;34m=\u001b[0m\u001b[0;32mFalse\u001b[0m\u001b[0;34m,\u001b[0m\u001b[0;34m\u001b[0m\u001b[0;34m\u001b[0m\u001b[0m\n\u001b[1;32m    448\u001b[0m                     \u001b[0mretries\u001b[0m\u001b[0;34m=\u001b[0m\u001b[0mself\u001b[0m\u001b[0;34m.\u001b[0m\u001b[0mmax_retries\u001b[0m\u001b[0;34m,\u001b[0m\u001b[0;34m\u001b[0m\u001b[0;34m\u001b[0m\u001b[0m\n\u001b[0;32m--> 449\u001b[0;31m                     \u001b[0mtimeout\u001b[0m\u001b[0;34m=\u001b[0m\u001b[0mtimeout\u001b[0m\u001b[0;34m\u001b[0m\u001b[0;34m\u001b[0m\u001b[0m\n\u001b[0m\u001b[1;32m    450\u001b[0m                 )\n\u001b[1;32m    451\u001b[0m \u001b[0;34m\u001b[0m\u001b[0m\n",
            "\u001b[0;32m/usr/local/lib/python3.6/dist-packages/urllib3/connectionpool.py\u001b[0m in \u001b[0;36murlopen\u001b[0;34m(self, method, url, body, headers, retries, redirect, assert_same_host, timeout, pool_timeout, release_conn, chunked, body_pos, **response_kw)\u001b[0m\n\u001b[1;32m    598\u001b[0m                                                   \u001b[0mtimeout\u001b[0m\u001b[0;34m=\u001b[0m\u001b[0mtimeout_obj\u001b[0m\u001b[0;34m,\u001b[0m\u001b[0;34m\u001b[0m\u001b[0;34m\u001b[0m\u001b[0m\n\u001b[1;32m    599\u001b[0m                                                   \u001b[0mbody\u001b[0m\u001b[0;34m=\u001b[0m\u001b[0mbody\u001b[0m\u001b[0;34m,\u001b[0m \u001b[0mheaders\u001b[0m\u001b[0;34m=\u001b[0m\u001b[0mheaders\u001b[0m\u001b[0;34m,\u001b[0m\u001b[0;34m\u001b[0m\u001b[0;34m\u001b[0m\u001b[0m\n\u001b[0;32m--> 600\u001b[0;31m                                                   chunked=chunked)\n\u001b[0m\u001b[1;32m    601\u001b[0m \u001b[0;34m\u001b[0m\u001b[0m\n\u001b[1;32m    602\u001b[0m             \u001b[0;31m# If we're going to release the connection in ``finally:``, then\u001b[0m\u001b[0;34m\u001b[0m\u001b[0;34m\u001b[0m\u001b[0;34m\u001b[0m\u001b[0m\n",
            "\u001b[0;32m/usr/local/lib/python3.6/dist-packages/urllib3/connectionpool.py\u001b[0m in \u001b[0;36m_make_request\u001b[0;34m(self, conn, method, url, timeout, chunked, **httplib_request_kw)\u001b[0m\n\u001b[1;32m    378\u001b[0m             \u001b[0;32mexcept\u001b[0m \u001b[0mTypeError\u001b[0m\u001b[0;34m:\u001b[0m  \u001b[0;31m# Python 3\u001b[0m\u001b[0;34m\u001b[0m\u001b[0;34m\u001b[0m\u001b[0m\n\u001b[1;32m    379\u001b[0m                 \u001b[0;32mtry\u001b[0m\u001b[0;34m:\u001b[0m\u001b[0;34m\u001b[0m\u001b[0;34m\u001b[0m\u001b[0m\n\u001b[0;32m--> 380\u001b[0;31m                     \u001b[0mhttplib_response\u001b[0m \u001b[0;34m=\u001b[0m \u001b[0mconn\u001b[0m\u001b[0;34m.\u001b[0m\u001b[0mgetresponse\u001b[0m\u001b[0;34m(\u001b[0m\u001b[0;34m)\u001b[0m\u001b[0;34m\u001b[0m\u001b[0;34m\u001b[0m\u001b[0m\n\u001b[0m\u001b[1;32m    381\u001b[0m                 \u001b[0;32mexcept\u001b[0m \u001b[0mException\u001b[0m \u001b[0;32mas\u001b[0m \u001b[0me\u001b[0m\u001b[0;34m:\u001b[0m\u001b[0;34m\u001b[0m\u001b[0;34m\u001b[0m\u001b[0m\n\u001b[1;32m    382\u001b[0m                     \u001b[0;31m# Remove the TypeError from the exception chain in Python 3;\u001b[0m\u001b[0;34m\u001b[0m\u001b[0;34m\u001b[0m\u001b[0;34m\u001b[0m\u001b[0m\n",
            "\u001b[0;32m/usr/lib/python3.6/http/client.py\u001b[0m in \u001b[0;36mgetresponse\u001b[0;34m(self)\u001b[0m\n\u001b[1;32m   1371\u001b[0m         \u001b[0;32mtry\u001b[0m\u001b[0;34m:\u001b[0m\u001b[0;34m\u001b[0m\u001b[0;34m\u001b[0m\u001b[0m\n\u001b[1;32m   1372\u001b[0m             \u001b[0;32mtry\u001b[0m\u001b[0;34m:\u001b[0m\u001b[0;34m\u001b[0m\u001b[0;34m\u001b[0m\u001b[0m\n\u001b[0;32m-> 1373\u001b[0;31m                 \u001b[0mresponse\u001b[0m\u001b[0;34m.\u001b[0m\u001b[0mbegin\u001b[0m\u001b[0;34m(\u001b[0m\u001b[0;34m)\u001b[0m\u001b[0;34m\u001b[0m\u001b[0;34m\u001b[0m\u001b[0m\n\u001b[0m\u001b[1;32m   1374\u001b[0m             \u001b[0;32mexcept\u001b[0m \u001b[0mConnectionError\u001b[0m\u001b[0;34m:\u001b[0m\u001b[0;34m\u001b[0m\u001b[0;34m\u001b[0m\u001b[0m\n\u001b[1;32m   1375\u001b[0m                 \u001b[0mself\u001b[0m\u001b[0;34m.\u001b[0m\u001b[0mclose\u001b[0m\u001b[0;34m(\u001b[0m\u001b[0;34m)\u001b[0m\u001b[0;34m\u001b[0m\u001b[0;34m\u001b[0m\u001b[0m\n",
            "\u001b[0;32m/usr/lib/python3.6/http/client.py\u001b[0m in \u001b[0;36mbegin\u001b[0;34m(self)\u001b[0m\n\u001b[1;32m    309\u001b[0m         \u001b[0;31m# read until we get a non-100 response\u001b[0m\u001b[0;34m\u001b[0m\u001b[0;34m\u001b[0m\u001b[0;34m\u001b[0m\u001b[0m\n\u001b[1;32m    310\u001b[0m         \u001b[0;32mwhile\u001b[0m \u001b[0;32mTrue\u001b[0m\u001b[0;34m:\u001b[0m\u001b[0;34m\u001b[0m\u001b[0;34m\u001b[0m\u001b[0m\n\u001b[0;32m--> 311\u001b[0;31m             \u001b[0mversion\u001b[0m\u001b[0;34m,\u001b[0m \u001b[0mstatus\u001b[0m\u001b[0;34m,\u001b[0m \u001b[0mreason\u001b[0m \u001b[0;34m=\u001b[0m \u001b[0mself\u001b[0m\u001b[0;34m.\u001b[0m\u001b[0m_read_status\u001b[0m\u001b[0;34m(\u001b[0m\u001b[0;34m)\u001b[0m\u001b[0;34m\u001b[0m\u001b[0;34m\u001b[0m\u001b[0m\n\u001b[0m\u001b[1;32m    312\u001b[0m             \u001b[0;32mif\u001b[0m \u001b[0mstatus\u001b[0m \u001b[0;34m!=\u001b[0m \u001b[0mCONTINUE\u001b[0m\u001b[0;34m:\u001b[0m\u001b[0;34m\u001b[0m\u001b[0;34m\u001b[0m\u001b[0m\n\u001b[1;32m    313\u001b[0m                 \u001b[0;32mbreak\u001b[0m\u001b[0;34m\u001b[0m\u001b[0;34m\u001b[0m\u001b[0m\n",
            "\u001b[0;32m/usr/lib/python3.6/http/client.py\u001b[0m in \u001b[0;36m_read_status\u001b[0;34m(self)\u001b[0m\n\u001b[1;32m    270\u001b[0m \u001b[0;34m\u001b[0m\u001b[0m\n\u001b[1;32m    271\u001b[0m     \u001b[0;32mdef\u001b[0m \u001b[0m_read_status\u001b[0m\u001b[0;34m(\u001b[0m\u001b[0mself\u001b[0m\u001b[0;34m)\u001b[0m\u001b[0;34m:\u001b[0m\u001b[0;34m\u001b[0m\u001b[0;34m\u001b[0m\u001b[0m\n\u001b[0;32m--> 272\u001b[0;31m         \u001b[0mline\u001b[0m \u001b[0;34m=\u001b[0m \u001b[0mstr\u001b[0m\u001b[0;34m(\u001b[0m\u001b[0mself\u001b[0m\u001b[0;34m.\u001b[0m\u001b[0mfp\u001b[0m\u001b[0;34m.\u001b[0m\u001b[0mreadline\u001b[0m\u001b[0;34m(\u001b[0m\u001b[0m_MAXLINE\u001b[0m \u001b[0;34m+\u001b[0m \u001b[0;36m1\u001b[0m\u001b[0;34m)\u001b[0m\u001b[0;34m,\u001b[0m \u001b[0;34m\"iso-8859-1\"\u001b[0m\u001b[0;34m)\u001b[0m\u001b[0;34m\u001b[0m\u001b[0;34m\u001b[0m\u001b[0m\n\u001b[0m\u001b[1;32m    273\u001b[0m         \u001b[0;32mif\u001b[0m \u001b[0mlen\u001b[0m\u001b[0;34m(\u001b[0m\u001b[0mline\u001b[0m\u001b[0;34m)\u001b[0m \u001b[0;34m>\u001b[0m \u001b[0m_MAXLINE\u001b[0m\u001b[0;34m:\u001b[0m\u001b[0;34m\u001b[0m\u001b[0;34m\u001b[0m\u001b[0m\n\u001b[1;32m    274\u001b[0m             \u001b[0;32mraise\u001b[0m \u001b[0mLineTooLong\u001b[0m\u001b[0;34m(\u001b[0m\u001b[0;34m\"status line\"\u001b[0m\u001b[0;34m)\u001b[0m\u001b[0;34m\u001b[0m\u001b[0;34m\u001b[0m\u001b[0m\n",
            "\u001b[0;32m/usr/lib/python3.6/socket.py\u001b[0m in \u001b[0;36mreadinto\u001b[0;34m(self, b)\u001b[0m\n\u001b[1;32m    584\u001b[0m         \u001b[0;32mwhile\u001b[0m \u001b[0;32mTrue\u001b[0m\u001b[0;34m:\u001b[0m\u001b[0;34m\u001b[0m\u001b[0;34m\u001b[0m\u001b[0m\n\u001b[1;32m    585\u001b[0m             \u001b[0;32mtry\u001b[0m\u001b[0;34m:\u001b[0m\u001b[0;34m\u001b[0m\u001b[0;34m\u001b[0m\u001b[0m\n\u001b[0;32m--> 586\u001b[0;31m                 \u001b[0;32mreturn\u001b[0m \u001b[0mself\u001b[0m\u001b[0;34m.\u001b[0m\u001b[0m_sock\u001b[0m\u001b[0;34m.\u001b[0m\u001b[0mrecv_into\u001b[0m\u001b[0;34m(\u001b[0m\u001b[0mb\u001b[0m\u001b[0;34m)\u001b[0m\u001b[0;34m\u001b[0m\u001b[0;34m\u001b[0m\u001b[0m\n\u001b[0m\u001b[1;32m    587\u001b[0m             \u001b[0;32mexcept\u001b[0m \u001b[0mtimeout\u001b[0m\u001b[0;34m:\u001b[0m\u001b[0;34m\u001b[0m\u001b[0;34m\u001b[0m\u001b[0m\n\u001b[1;32m    588\u001b[0m                 \u001b[0mself\u001b[0m\u001b[0;34m.\u001b[0m\u001b[0m_timeout_occurred\u001b[0m \u001b[0;34m=\u001b[0m \u001b[0;32mTrue\u001b[0m\u001b[0;34m\u001b[0m\u001b[0;34m\u001b[0m\u001b[0m\n",
            "\u001b[0;32m/usr/lib/python3.6/ssl.py\u001b[0m in \u001b[0;36mrecv_into\u001b[0;34m(self, buffer, nbytes, flags)\u001b[0m\n\u001b[1;32m   1010\u001b[0m                   \u001b[0;34m\"non-zero flags not allowed in calls to recv_into() on %s\"\u001b[0m \u001b[0;34m%\u001b[0m\u001b[0;34m\u001b[0m\u001b[0;34m\u001b[0m\u001b[0m\n\u001b[1;32m   1011\u001b[0m                   self.__class__)\n\u001b[0;32m-> 1012\u001b[0;31m             \u001b[0;32mreturn\u001b[0m \u001b[0mself\u001b[0m\u001b[0;34m.\u001b[0m\u001b[0mread\u001b[0m\u001b[0;34m(\u001b[0m\u001b[0mnbytes\u001b[0m\u001b[0;34m,\u001b[0m \u001b[0mbuffer\u001b[0m\u001b[0;34m)\u001b[0m\u001b[0;34m\u001b[0m\u001b[0;34m\u001b[0m\u001b[0m\n\u001b[0m\u001b[1;32m   1013\u001b[0m         \u001b[0;32melse\u001b[0m\u001b[0;34m:\u001b[0m\u001b[0;34m\u001b[0m\u001b[0;34m\u001b[0m\u001b[0m\n\u001b[1;32m   1014\u001b[0m             \u001b[0;32mreturn\u001b[0m \u001b[0msocket\u001b[0m\u001b[0;34m.\u001b[0m\u001b[0mrecv_into\u001b[0m\u001b[0;34m(\u001b[0m\u001b[0mself\u001b[0m\u001b[0;34m,\u001b[0m \u001b[0mbuffer\u001b[0m\u001b[0;34m,\u001b[0m \u001b[0mnbytes\u001b[0m\u001b[0;34m,\u001b[0m \u001b[0mflags\u001b[0m\u001b[0;34m)\u001b[0m\u001b[0;34m\u001b[0m\u001b[0;34m\u001b[0m\u001b[0m\n",
            "\u001b[0;32m/usr/lib/python3.6/ssl.py\u001b[0m in \u001b[0;36mread\u001b[0;34m(self, len, buffer)\u001b[0m\n\u001b[1;32m    872\u001b[0m             \u001b[0;32mraise\u001b[0m \u001b[0mValueError\u001b[0m\u001b[0;34m(\u001b[0m\u001b[0;34m\"Read on closed or unwrapped SSL socket.\"\u001b[0m\u001b[0;34m)\u001b[0m\u001b[0;34m\u001b[0m\u001b[0;34m\u001b[0m\u001b[0m\n\u001b[1;32m    873\u001b[0m         \u001b[0;32mtry\u001b[0m\u001b[0;34m:\u001b[0m\u001b[0;34m\u001b[0m\u001b[0;34m\u001b[0m\u001b[0m\n\u001b[0;32m--> 874\u001b[0;31m             \u001b[0;32mreturn\u001b[0m \u001b[0mself\u001b[0m\u001b[0;34m.\u001b[0m\u001b[0m_sslobj\u001b[0m\u001b[0;34m.\u001b[0m\u001b[0mread\u001b[0m\u001b[0;34m(\u001b[0m\u001b[0mlen\u001b[0m\u001b[0;34m,\u001b[0m \u001b[0mbuffer\u001b[0m\u001b[0;34m)\u001b[0m\u001b[0;34m\u001b[0m\u001b[0;34m\u001b[0m\u001b[0m\n\u001b[0m\u001b[1;32m    875\u001b[0m         \u001b[0;32mexcept\u001b[0m \u001b[0mSSLError\u001b[0m \u001b[0;32mas\u001b[0m \u001b[0mx\u001b[0m\u001b[0;34m:\u001b[0m\u001b[0;34m\u001b[0m\u001b[0;34m\u001b[0m\u001b[0m\n\u001b[1;32m    876\u001b[0m             \u001b[0;32mif\u001b[0m \u001b[0mx\u001b[0m\u001b[0;34m.\u001b[0m\u001b[0margs\u001b[0m\u001b[0;34m[\u001b[0m\u001b[0;36m0\u001b[0m\u001b[0;34m]\u001b[0m \u001b[0;34m==\u001b[0m \u001b[0mSSL_ERROR_EOF\u001b[0m \u001b[0;32mand\u001b[0m \u001b[0mself\u001b[0m\u001b[0;34m.\u001b[0m\u001b[0msuppress_ragged_eofs\u001b[0m\u001b[0;34m:\u001b[0m\u001b[0;34m\u001b[0m\u001b[0;34m\u001b[0m\u001b[0m\n",
            "\u001b[0;32m/usr/lib/python3.6/ssl.py\u001b[0m in \u001b[0;36mread\u001b[0;34m(self, len, buffer)\u001b[0m\n\u001b[1;32m    629\u001b[0m         \"\"\"\n\u001b[1;32m    630\u001b[0m         \u001b[0;32mif\u001b[0m \u001b[0mbuffer\u001b[0m \u001b[0;32mis\u001b[0m \u001b[0;32mnot\u001b[0m \u001b[0;32mNone\u001b[0m\u001b[0;34m:\u001b[0m\u001b[0;34m\u001b[0m\u001b[0;34m\u001b[0m\u001b[0m\n\u001b[0;32m--> 631\u001b[0;31m             \u001b[0mv\u001b[0m \u001b[0;34m=\u001b[0m \u001b[0mself\u001b[0m\u001b[0;34m.\u001b[0m\u001b[0m_sslobj\u001b[0m\u001b[0;34m.\u001b[0m\u001b[0mread\u001b[0m\u001b[0;34m(\u001b[0m\u001b[0mlen\u001b[0m\u001b[0;34m,\u001b[0m \u001b[0mbuffer\u001b[0m\u001b[0;34m)\u001b[0m\u001b[0;34m\u001b[0m\u001b[0;34m\u001b[0m\u001b[0m\n\u001b[0m\u001b[1;32m    632\u001b[0m         \u001b[0;32melse\u001b[0m\u001b[0;34m:\u001b[0m\u001b[0;34m\u001b[0m\u001b[0;34m\u001b[0m\u001b[0m\n\u001b[1;32m    633\u001b[0m             \u001b[0mv\u001b[0m \u001b[0;34m=\u001b[0m \u001b[0mself\u001b[0m\u001b[0;34m.\u001b[0m\u001b[0m_sslobj\u001b[0m\u001b[0;34m.\u001b[0m\u001b[0mread\u001b[0m\u001b[0;34m(\u001b[0m\u001b[0mlen\u001b[0m\u001b[0;34m)\u001b[0m\u001b[0;34m\u001b[0m\u001b[0;34m\u001b[0m\u001b[0m\n",
            "\u001b[0;31mKeyboardInterrupt\u001b[0m: "
          ]
        }
      ]
    },
    {
      "cell_type": "markdown",
      "metadata": {
        "id": "7TCkvtZQzM-5"
      },
      "source": [
        "#Saudia"
      ]
    },
    {
      "cell_type": "code",
      "metadata": {
        "colab": {
          "base_uri": "https://localhost:8080/",
          "height": 1000
        },
        "id": "SrWxMe3lzE48",
        "outputId": "f662cc05-5464-45bf-87c7-18851e590a60"
      },
      "source": [
        "#oldest = tweets_saudia[-1].id - 1\n",
        "while len(tweets_saudia) > 0:\n",
        "    print(\"getting tweets before %s\" % (oldest))\n",
        "    # all subsequent requests use the max_id param to prevent\n",
        "    # duplicates\n",
        "    \n",
        "    new_tweets = api.search(q='#saudi_airlines',count=200,lang=\"en\",tweet_mode='extended')\n",
        "    #just if lan tweetes \n",
        "    # save most recent tweets\n",
        "    \n",
        "    tweets_saudia.extend(new_tweets)\n",
        "    # update the id of the oldest tweet less one\n",
        "    oldest = tweets_saudia[-1].id - 1\n",
        "    print(\"...%s tweets downloaded so far\" % (len(tweets_saudia)))\n",
        "    \n",
        "    ### END OF WHILE LOOP ###\n",
        "  # transform the tweepy tweets into a 2D array that will \n",
        "  # populate the csv\n",
        "  #return alltweets"
      ],
      "execution_count": null,
      "outputs": [
        {
          "output_type": "stream",
          "text": [
            "getting tweets before 1336950027005161472\n",
            "...6 tweets downloaded so far\n",
            "getting tweets before 1336950027005161472\n",
            "...9 tweets downloaded so far\n",
            "getting tweets before 1336950027005161472\n",
            "...12 tweets downloaded so far\n",
            "getting tweets before 1336950027005161472\n",
            "...15 tweets downloaded so far\n",
            "getting tweets before 1336950027005161472\n",
            "...18 tweets downloaded so far\n",
            "getting tweets before 1336950027005161472\n",
            "...21 tweets downloaded so far\n",
            "getting tweets before 1336950027005161472\n",
            "...24 tweets downloaded so far\n",
            "getting tweets before 1336950027005161472\n",
            "...27 tweets downloaded so far\n",
            "getting tweets before 1336950027005161472\n",
            "...30 tweets downloaded so far\n",
            "getting tweets before 1336950027005161472\n",
            "...33 tweets downloaded so far\n",
            "getting tweets before 1336950027005161472\n",
            "...36 tweets downloaded so far\n",
            "getting tweets before 1336950027005161472\n",
            "...39 tweets downloaded so far\n",
            "getting tweets before 1336950027005161472\n",
            "...42 tweets downloaded so far\n",
            "getting tweets before 1336950027005161472\n",
            "...45 tweets downloaded so far\n",
            "getting tweets before 1336950027005161472\n",
            "...48 tweets downloaded so far\n",
            "getting tweets before 1336950027005161472\n",
            "...51 tweets downloaded so far\n",
            "getting tweets before 1336950027005161472\n",
            "...54 tweets downloaded so far\n",
            "getting tweets before 1336950027005161472\n",
            "...57 tweets downloaded so far\n",
            "getting tweets before 1336950027005161472\n",
            "...60 tweets downloaded so far\n",
            "getting tweets before 1336950027005161472\n",
            "...63 tweets downloaded so far\n",
            "getting tweets before 1336950027005161472\n",
            "...66 tweets downloaded so far\n",
            "getting tweets before 1336950027005161472\n",
            "...69 tweets downloaded so far\n",
            "getting tweets before 1336950027005161472\n",
            "...72 tweets downloaded so far\n",
            "getting tweets before 1336950027005161472\n",
            "...75 tweets downloaded so far\n",
            "getting tweets before 1336950027005161472\n",
            "...78 tweets downloaded so far\n",
            "getting tweets before 1336950027005161472\n",
            "...81 tweets downloaded so far\n",
            "getting tweets before 1336950027005161472\n",
            "...84 tweets downloaded so far\n",
            "getting tweets before 1336950027005161472\n",
            "...87 tweets downloaded so far\n",
            "getting tweets before 1336950027005161472\n",
            "...90 tweets downloaded so far\n",
            "getting tweets before 1336950027005161472\n",
            "...93 tweets downloaded so far\n",
            "getting tweets before 1336950027005161472\n",
            "...96 tweets downloaded so far\n",
            "getting tweets before 1336950027005161472\n",
            "...99 tweets downloaded so far\n",
            "getting tweets before 1336950027005161472\n",
            "...102 tweets downloaded so far\n",
            "getting tweets before 1336950027005161472\n",
            "...105 tweets downloaded so far\n",
            "getting tweets before 1336950027005161472\n",
            "...108 tweets downloaded so far\n",
            "getting tweets before 1336950027005161472\n",
            "...111 tweets downloaded so far\n",
            "getting tweets before 1336950027005161472\n",
            "...114 tweets downloaded so far\n",
            "getting tweets before 1336950027005161472\n",
            "...117 tweets downloaded so far\n",
            "getting tweets before 1336950027005161472\n",
            "...120 tweets downloaded so far\n",
            "getting tweets before 1336950027005161472\n",
            "...123 tweets downloaded so far\n",
            "getting tweets before 1336950027005161472\n",
            "...126 tweets downloaded so far\n",
            "getting tweets before 1336950027005161472\n",
            "...129 tweets downloaded so far\n",
            "getting tweets before 1336950027005161472\n",
            "...132 tweets downloaded so far\n",
            "getting tweets before 1336950027005161472\n",
            "...135 tweets downloaded so far\n",
            "getting tweets before 1336950027005161472\n",
            "...138 tweets downloaded so far\n",
            "getting tweets before 1336950027005161472\n",
            "...141 tweets downloaded so far\n",
            "getting tweets before 1336950027005161472\n",
            "...144 tweets downloaded so far\n",
            "getting tweets before 1336950027005161472\n",
            "...147 tweets downloaded so far\n",
            "getting tweets before 1336950027005161472\n",
            "...150 tweets downloaded so far\n",
            "getting tweets before 1336950027005161472\n",
            "...153 tweets downloaded so far\n",
            "getting tweets before 1336950027005161472\n",
            "...156 tweets downloaded so far\n",
            "getting tweets before 1336950027005161472\n",
            "...159 tweets downloaded so far\n",
            "getting tweets before 1336950027005161472\n",
            "...162 tweets downloaded so far\n",
            "getting tweets before 1336950027005161472\n",
            "...165 tweets downloaded so far\n",
            "getting tweets before 1336950027005161472\n",
            "...168 tweets downloaded so far\n",
            "getting tweets before 1336950027005161472\n",
            "...171 tweets downloaded so far\n",
            "getting tweets before 1336950027005161472\n",
            "...174 tweets downloaded so far\n",
            "getting tweets before 1336950027005161472\n",
            "...177 tweets downloaded so far\n",
            "getting tweets before 1336950027005161472\n",
            "...180 tweets downloaded so far\n",
            "getting tweets before 1336950027005161472\n",
            "...183 tweets downloaded so far\n",
            "getting tweets before 1336950027005161472\n",
            "...186 tweets downloaded so far\n",
            "getting tweets before 1336950027005161472\n",
            "...189 tweets downloaded so far\n",
            "getting tweets before 1336950027005161472\n",
            "...192 tweets downloaded so far\n",
            "getting tweets before 1336950027005161472\n",
            "...195 tweets downloaded so far\n",
            "getting tweets before 1336950027005161472\n",
            "...198 tweets downloaded so far\n",
            "getting tweets before 1336950027005161472\n",
            "...201 tweets downloaded so far\n",
            "getting tweets before 1336950027005161472\n",
            "...204 tweets downloaded so far\n",
            "getting tweets before 1336950027005161472\n",
            "...207 tweets downloaded so far\n",
            "getting tweets before 1336950027005161472\n",
            "...210 tweets downloaded so far\n",
            "getting tweets before 1336950027005161472\n",
            "...213 tweets downloaded so far\n",
            "getting tweets before 1336950027005161472\n",
            "...216 tweets downloaded so far\n",
            "getting tweets before 1336950027005161472\n",
            "...219 tweets downloaded so far\n",
            "getting tweets before 1336950027005161472\n",
            "...222 tweets downloaded so far\n",
            "getting tweets before 1336950027005161472\n",
            "...225 tweets downloaded so far\n",
            "getting tweets before 1336950027005161472\n",
            "...228 tweets downloaded so far\n",
            "getting tweets before 1336950027005161472\n",
            "...231 tweets downloaded so far\n",
            "getting tweets before 1336950027005161472\n",
            "...234 tweets downloaded so far\n",
            "getting tweets before 1336950027005161472\n",
            "...237 tweets downloaded so far\n",
            "getting tweets before 1336950027005161472\n",
            "...240 tweets downloaded so far\n",
            "getting tweets before 1336950027005161472\n",
            "...243 tweets downloaded so far\n",
            "getting tweets before 1336950027005161472\n",
            "...246 tweets downloaded so far\n",
            "getting tweets before 1336950027005161472\n",
            "...249 tweets downloaded so far\n",
            "getting tweets before 1336950027005161472\n",
            "...252 tweets downloaded so far\n",
            "getting tweets before 1336950027005161472\n",
            "...255 tweets downloaded so far\n",
            "getting tweets before 1336950027005161472\n",
            "...258 tweets downloaded so far\n",
            "getting tweets before 1336950027005161472\n",
            "...261 tweets downloaded so far\n",
            "getting tweets before 1336950027005161472\n",
            "...264 tweets downloaded so far\n",
            "getting tweets before 1336950027005161472\n",
            "...267 tweets downloaded so far\n",
            "getting tweets before 1336950027005161472\n",
            "...270 tweets downloaded so far\n",
            "getting tweets before 1336950027005161472\n",
            "...273 tweets downloaded so far\n",
            "getting tweets before 1336950027005161472\n",
            "...276 tweets downloaded so far\n",
            "getting tweets before 1336950027005161472\n",
            "...279 tweets downloaded so far\n",
            "getting tweets before 1336950027005161472\n",
            "...282 tweets downloaded so far\n",
            "getting tweets before 1336950027005161472\n",
            "...285 tweets downloaded so far\n",
            "getting tweets before 1336950027005161472\n",
            "...288 tweets downloaded so far\n",
            "getting tweets before 1336950027005161472\n",
            "...291 tweets downloaded so far\n",
            "getting tweets before 1336950027005161472\n",
            "...294 tweets downloaded so far\n",
            "getting tweets before 1336950027005161472\n",
            "...297 tweets downloaded so far\n",
            "getting tweets before 1336950027005161472\n",
            "...300 tweets downloaded so far\n",
            "getting tweets before 1336950027005161472\n",
            "...303 tweets downloaded so far\n",
            "getting tweets before 1336950027005161472\n",
            "...306 tweets downloaded so far\n",
            "getting tweets before 1336950027005161472\n",
            "...309 tweets downloaded so far\n",
            "getting tweets before 1336950027005161472\n",
            "...312 tweets downloaded so far\n",
            "getting tweets before 1336950027005161472\n",
            "...315 tweets downloaded so far\n",
            "getting tweets before 1336950027005161472\n",
            "...318 tweets downloaded so far\n",
            "getting tweets before 1336950027005161472\n",
            "...321 tweets downloaded so far\n",
            "getting tweets before 1336950027005161472\n",
            "...324 tweets downloaded so far\n",
            "getting tweets before 1336950027005161472\n",
            "...327 tweets downloaded so far\n",
            "getting tweets before 1336950027005161472\n",
            "...330 tweets downloaded so far\n",
            "getting tweets before 1336950027005161472\n",
            "...333 tweets downloaded so far\n",
            "getting tweets before 1336950027005161472\n",
            "...336 tweets downloaded so far\n",
            "getting tweets before 1336950027005161472\n",
            "...339 tweets downloaded so far\n",
            "getting tweets before 1336950027005161472\n",
            "...342 tweets downloaded so far\n",
            "getting tweets before 1336950027005161472\n",
            "...345 tweets downloaded so far\n",
            "getting tweets before 1336950027005161472\n",
            "...348 tweets downloaded so far\n",
            "getting tweets before 1336950027005161472\n",
            "...351 tweets downloaded so far\n",
            "getting tweets before 1336950027005161472\n",
            "...354 tweets downloaded so far\n",
            "getting tweets before 1336950027005161472\n",
            "...357 tweets downloaded so far\n",
            "getting tweets before 1336950027005161472\n",
            "...360 tweets downloaded so far\n",
            "getting tweets before 1336950027005161472\n",
            "...363 tweets downloaded so far\n",
            "getting tweets before 1336950027005161472\n",
            "...366 tweets downloaded so far\n",
            "getting tweets before 1336950027005161472\n",
            "...369 tweets downloaded so far\n",
            "getting tweets before 1336950027005161472\n",
            "...372 tweets downloaded so far\n",
            "getting tweets before 1336950027005161472\n",
            "...375 tweets downloaded so far\n",
            "getting tweets before 1336950027005161472\n",
            "...378 tweets downloaded so far\n",
            "getting tweets before 1336950027005161472\n",
            "...381 tweets downloaded so far\n",
            "getting tweets before 1336950027005161472\n",
            "...384 tweets downloaded so far\n",
            "getting tweets before 1336950027005161472\n",
            "...387 tweets downloaded so far\n",
            "getting tweets before 1336950027005161472\n",
            "...390 tweets downloaded so far\n",
            "getting tweets before 1336950027005161472\n",
            "...393 tweets downloaded so far\n",
            "getting tweets before 1336950027005161472\n",
            "...396 tweets downloaded so far\n",
            "getting tweets before 1336950027005161472\n",
            "...399 tweets downloaded so far\n",
            "getting tweets before 1336950027005161472\n",
            "...402 tweets downloaded so far\n",
            "getting tweets before 1336950027005161472\n",
            "...405 tweets downloaded so far\n",
            "getting tweets before 1336950027005161472\n",
            "...408 tweets downloaded so far\n",
            "getting tweets before 1336950027005161472\n",
            "...411 tweets downloaded so far\n",
            "getting tweets before 1336950027005161472\n",
            "...414 tweets downloaded so far\n",
            "getting tweets before 1336950027005161472\n",
            "...417 tweets downloaded so far\n",
            "getting tweets before 1336950027005161472\n",
            "...420 tweets downloaded so far\n",
            "getting tweets before 1336950027005161472\n",
            "...423 tweets downloaded so far\n",
            "getting tweets before 1336950027005161472\n",
            "...426 tweets downloaded so far\n",
            "getting tweets before 1336950027005161472\n",
            "...429 tweets downloaded so far\n",
            "getting tweets before 1336950027005161472\n",
            "...432 tweets downloaded so far\n",
            "getting tweets before 1336950027005161472\n",
            "...435 tweets downloaded so far\n",
            "getting tweets before 1336950027005161472\n",
            "...438 tweets downloaded so far\n",
            "getting tweets before 1336950027005161472\n",
            "...441 tweets downloaded so far\n",
            "getting tweets before 1336950027005161472\n",
            "...444 tweets downloaded so far\n",
            "getting tweets before 1336950027005161472\n",
            "...447 tweets downloaded so far\n",
            "getting tweets before 1336950027005161472\n",
            "...450 tweets downloaded so far\n",
            "getting tweets before 1336950027005161472\n",
            "...453 tweets downloaded so far\n",
            "getting tweets before 1336950027005161472\n",
            "...456 tweets downloaded so far\n",
            "getting tweets before 1336950027005161472\n",
            "...459 tweets downloaded so far\n",
            "getting tweets before 1336950027005161472\n",
            "...462 tweets downloaded so far\n",
            "getting tweets before 1336950027005161472\n",
            "...465 tweets downloaded so far\n",
            "getting tweets before 1336950027005161472\n",
            "...468 tweets downloaded so far\n",
            "getting tweets before 1336950027005161472\n",
            "...471 tweets downloaded so far\n",
            "getting tweets before 1336950027005161472\n",
            "...474 tweets downloaded so far\n",
            "getting tweets before 1336950027005161472\n",
            "...477 tweets downloaded so far\n",
            "getting tweets before 1336950027005161472\n",
            "...480 tweets downloaded so far\n",
            "getting tweets before 1336950027005161472\n",
            "...483 tweets downloaded so far\n",
            "getting tweets before 1336950027005161472\n",
            "...486 tweets downloaded so far\n",
            "getting tweets before 1336950027005161472\n",
            "...489 tweets downloaded so far\n",
            "getting tweets before 1336950027005161472\n",
            "...492 tweets downloaded so far\n",
            "getting tweets before 1336950027005161472\n",
            "...495 tweets downloaded so far\n",
            "getting tweets before 1336950027005161472\n",
            "...498 tweets downloaded so far\n",
            "getting tweets before 1336950027005161472\n",
            "...501 tweets downloaded so far\n",
            "getting tweets before 1336950027005161472\n",
            "...504 tweets downloaded so far\n",
            "getting tweets before 1336950027005161472\n",
            "...507 tweets downloaded so far\n",
            "getting tweets before 1336950027005161472\n",
            "...510 tweets downloaded so far\n",
            "getting tweets before 1336950027005161472\n",
            "...513 tweets downloaded so far\n",
            "getting tweets before 1336950027005161472\n",
            "...516 tweets downloaded so far\n",
            "getting tweets before 1336950027005161472\n",
            "...519 tweets downloaded so far\n",
            "getting tweets before 1336950027005161472\n",
            "...522 tweets downloaded so far\n",
            "getting tweets before 1336950027005161472\n",
            "...525 tweets downloaded so far\n",
            "getting tweets before 1336950027005161472\n",
            "...528 tweets downloaded so far\n",
            "getting tweets before 1336950027005161472\n",
            "...531 tweets downloaded so far\n",
            "getting tweets before 1336950027005161472\n",
            "...534 tweets downloaded so far\n",
            "getting tweets before 1336950027005161472\n",
            "...537 tweets downloaded so far\n",
            "getting tweets before 1336950027005161472\n",
            "...540 tweets downloaded so far\n",
            "getting tweets before 1336950027005161472\n"
          ],
          "name": "stdout"
        },
        {
          "output_type": "error",
          "ename": "KeyboardInterrupt",
          "evalue": "ignored",
          "traceback": [
            "\u001b[0;31m---------------------------------------------------------------------------\u001b[0m",
            "\u001b[0;31mKeyboardInterrupt\u001b[0m                         Traceback (most recent call last)",
            "\u001b[0;32m<ipython-input-9-9077005f8033>\u001b[0m in \u001b[0;36m<module>\u001b[0;34m()\u001b[0m\n\u001b[1;32m      5\u001b[0m     \u001b[0;31m# duplicates\u001b[0m\u001b[0;34m\u001b[0m\u001b[0;34m\u001b[0m\u001b[0;34m\u001b[0m\u001b[0m\n\u001b[1;32m      6\u001b[0m \u001b[0;34m\u001b[0m\u001b[0m\n\u001b[0;32m----> 7\u001b[0;31m     \u001b[0mnew_tweets\u001b[0m \u001b[0;34m=\u001b[0m \u001b[0mapi\u001b[0m\u001b[0;34m.\u001b[0m\u001b[0msearch\u001b[0m\u001b[0;34m(\u001b[0m\u001b[0mq\u001b[0m\u001b[0;34m=\u001b[0m\u001b[0;34m'#saudi_airlines'\u001b[0m\u001b[0;34m,\u001b[0m\u001b[0mcount\u001b[0m\u001b[0;34m=\u001b[0m\u001b[0;36m200\u001b[0m\u001b[0;34m,\u001b[0m\u001b[0mlang\u001b[0m\u001b[0;34m=\u001b[0m\u001b[0;34m\"en\"\u001b[0m\u001b[0;34m,\u001b[0m\u001b[0mtweet_mode\u001b[0m\u001b[0;34m=\u001b[0m\u001b[0;34m'extended'\u001b[0m\u001b[0;34m)\u001b[0m\u001b[0;34m\u001b[0m\u001b[0;34m\u001b[0m\u001b[0m\n\u001b[0m\u001b[1;32m      8\u001b[0m     \u001b[0;31m#just if lan tweetes\u001b[0m\u001b[0;34m\u001b[0m\u001b[0;34m\u001b[0m\u001b[0;34m\u001b[0m\u001b[0m\n\u001b[1;32m      9\u001b[0m     \u001b[0;31m# save most recent tweets\u001b[0m\u001b[0;34m\u001b[0m\u001b[0;34m\u001b[0m\u001b[0;34m\u001b[0m\u001b[0m\n",
            "\u001b[0;32m/usr/local/lib/python3.6/dist-packages/tweepy/binder.py\u001b[0m in \u001b[0;36m_call\u001b[0;34m(*args, **kwargs)\u001b[0m\n\u001b[1;32m    248\u001b[0m             \u001b[0;32mreturn\u001b[0m \u001b[0mmethod\u001b[0m\u001b[0;34m\u001b[0m\u001b[0;34m\u001b[0m\u001b[0m\n\u001b[1;32m    249\u001b[0m         \u001b[0;32melse\u001b[0m\u001b[0;34m:\u001b[0m\u001b[0;34m\u001b[0m\u001b[0;34m\u001b[0m\u001b[0m\n\u001b[0;32m--> 250\u001b[0;31m             \u001b[0;32mreturn\u001b[0m \u001b[0mmethod\u001b[0m\u001b[0;34m.\u001b[0m\u001b[0mexecute\u001b[0m\u001b[0;34m(\u001b[0m\u001b[0;34m)\u001b[0m\u001b[0;34m\u001b[0m\u001b[0;34m\u001b[0m\u001b[0m\n\u001b[0m\u001b[1;32m    251\u001b[0m \u001b[0;34m\u001b[0m\u001b[0m\n\u001b[1;32m    252\u001b[0m     \u001b[0;31m# Set pagination mode\u001b[0m\u001b[0;34m\u001b[0m\u001b[0;34m\u001b[0m\u001b[0;34m\u001b[0m\u001b[0m\n",
            "\u001b[0;32m/usr/local/lib/python3.6/dist-packages/tweepy/binder.py\u001b[0m in \u001b[0;36mexecute\u001b[0;34m(self)\u001b[0m\n\u001b[1;32m    162\u001b[0m                                     \u001b[0;32mif\u001b[0m \u001b[0mself\u001b[0m\u001b[0;34m.\u001b[0m\u001b[0mwait_on_rate_limit_notify\u001b[0m\u001b[0;34m:\u001b[0m\u001b[0;34m\u001b[0m\u001b[0;34m\u001b[0m\u001b[0m\n\u001b[1;32m    163\u001b[0m                                         \u001b[0mlog\u001b[0m\u001b[0;34m.\u001b[0m\u001b[0mwarning\u001b[0m\u001b[0;34m(\u001b[0m\u001b[0;34m\"Rate limit reached. Sleeping for: %d\"\u001b[0m \u001b[0;34m%\u001b[0m \u001b[0msleep_time\u001b[0m\u001b[0;34m)\u001b[0m\u001b[0;34m\u001b[0m\u001b[0;34m\u001b[0m\u001b[0m\n\u001b[0;32m--> 164\u001b[0;31m                                     \u001b[0mtime\u001b[0m\u001b[0;34m.\u001b[0m\u001b[0msleep\u001b[0m\u001b[0;34m(\u001b[0m\u001b[0msleep_time\u001b[0m \u001b[0;34m+\u001b[0m \u001b[0;36m5\u001b[0m\u001b[0;34m)\u001b[0m  \u001b[0;31m# sleep for few extra sec\u001b[0m\u001b[0;34m\u001b[0m\u001b[0;34m\u001b[0m\u001b[0m\n\u001b[0m\u001b[1;32m    165\u001b[0m \u001b[0;34m\u001b[0m\u001b[0m\n\u001b[1;32m    166\u001b[0m                 \u001b[0;31m# if self.wait_on_rate_limit and self._reset_time is not None and \\\u001b[0m\u001b[0;34m\u001b[0m\u001b[0;34m\u001b[0m\u001b[0;34m\u001b[0m\u001b[0m\n",
            "\u001b[0;31mKeyboardInterrupt\u001b[0m: "
          ]
        }
      ]
    },
    {
      "cell_type": "code",
      "metadata": {
        "colab": {
          "base_uri": "https://localhost:8080/"
        },
        "id": "Xj1Num0CtTaJ",
        "outputId": "9dbfd50c-b998-49bf-844d-356141ee640f"
      },
      "source": [
        "len(tweets_fly)"
      ],
      "execution_count": null,
      "outputs": [
        {
          "output_type": "execute_result",
          "data": {
            "text/plain": [
              "8700"
            ]
          },
          "metadata": {
            "tags": []
          },
          "execution_count": 12
        }
      ]
    },
    {
      "cell_type": "code",
      "metadata": {
        "colab": {
          "base_uri": "https://localhost:8080/"
        },
        "id": "lGahk1ui2kMa",
        "outputId": "ec604652-7f28-4872-d4ea-93aebf33ba44"
      },
      "source": [
        "len(tweets_saudia)"
      ],
      "execution_count": null,
      "outputs": [
        {
          "output_type": "execute_result",
          "data": {
            "text/plain": [
              "540"
            ]
          },
          "metadata": {
            "tags": []
          },
          "execution_count": 10
        }
      ]
    },
    {
      "cell_type": "code",
      "metadata": {
        "id": "KqQX75bLyfnt"
      },
      "source": [
        "search_query_fly = 'flynas'"
      ],
      "execution_count": null,
      "outputs": []
    },
    {
      "cell_type": "code",
      "metadata": {
        "id": "hSEDmjxVyiaL"
      },
      "source": [
        "search_query_saudia = 'Saudia airlines'"
      ],
      "execution_count": null,
      "outputs": []
    },
    {
      "cell_type": "code",
      "metadata": {
        "id": "NgYSMClyV0e7"
      },
      "source": [
        "outtweets = [[tweet.id_str, tweet.created_at,tweet.full_text , tweet.favorite_count,\n",
        "                tweet.retweeted, tweet.user.location, tweet.lang, search_query_saudia] \n",
        "               for tweet in tweets_saudia]\n",
        "  # write the csv\n",
        "with open(path + '/saudia_tweets_try1.csv', 'w') as f:\n",
        "  writer = csv.writer(f)\n",
        "  writer.writerow([\"tweet_id\",\"created_at\",\"text\",\"likes\",\"retweeted\", \"location\", \"language\" , \"airline\"])\n",
        "  writer.writerows(outtweets)\n",
        "pass"
      ],
      "execution_count": null,
      "outputs": []
    },
    {
      "cell_type": "code",
      "metadata": {
        "id": "uVRAbcQ1Tu2H"
      },
      "source": [
        "all_tweets = get_all_tweets2('flynas')"
      ],
      "execution_count": null,
      "outputs": []
    },
    {
      "cell_type": "code",
      "metadata": {
        "id": "SOndNReuS7r6"
      },
      "source": [
        "new_tweets"
      ],
      "execution_count": null,
      "outputs": []
    },
    {
      "cell_type": "code",
      "metadata": {
        "colab": {
          "base_uri": "https://localhost:8080/"
        },
        "id": "hRzSlXxRdmYU",
        "outputId": "e9d5d646-4f4a-4cde-c6f7-3d49b420e8cd"
      },
      "source": [
        "len(saudia_airlines[saudia_airlines.language == \"en\"])"
      ],
      "execution_count": null,
      "outputs": [
        {
          "output_type": "execute_result",
          "data": {
            "text/plain": [
              "1464"
            ]
          },
          "metadata": {
            "tags": []
          },
          "execution_count": 8
        }
      ]
    },
    {
      "cell_type": "code",
      "metadata": {
        "colab": {
          "base_uri": "https://localhost:8080/"
        },
        "id": "D9s7w7SEgA5Y",
        "outputId": "d0948792-1cbe-4a55-f6a7-cf95dc238b09"
      },
      "source": [
        "len(flynas_airlines[flynas_airlines.language == \"en\"])"
      ],
      "execution_count": null,
      "outputs": [
        {
          "output_type": "execute_result",
          "data": {
            "text/plain": [
              "219"
            ]
          },
          "metadata": {
            "tags": []
          },
          "execution_count": 94
        }
      ]
    },
    {
      "cell_type": "markdown",
      "metadata": {
        "id": "SH0nMx1nFyka"
      },
      "source": [
        "#Combine the same airline with different hashtags in one file "
      ]
    },
    {
      "cell_type": "markdown",
      "metadata": {
        "id": "UeuV7FoOIzRF"
      },
      "source": [
        "**read the datasets**"
      ]
    },
    {
      "cell_type": "code",
      "metadata": {
        "id": "dXeowBw6F8Sq"
      },
      "source": [
        "saudia1 = pd.read_csv('./gdrive/My Drive/datasets/new_datasets/saudia_tweets_try1.csv')\n",
        "saudia2 = pd.read_csv('./gdrive/My Drive/datasets/new_datasets/#saudia_tweets.csv')\n",
        "saudia3 = pd.read_csv('./gdrive/My Drive/datasets/new_datasets/#saudi_airlines_tweets.csv')"
      ],
      "execution_count": null,
      "outputs": []
    },
    {
      "cell_type": "code",
      "metadata": {
        "id": "HFuKiNyDI4_V"
      },
      "source": [
        "united1 = pd.read_csv('./gdrive/My Drive/datasets/new_datasets/#UnitedAirlines_tweets.csv')\n",
        "united2 = pd.read_csv('./gdrive/My Drive/datasets/new_datasets/#United_Airlines_tweets.csv')\n"
      ],
      "execution_count": null,
      "outputs": []
    },
    {
      "cell_type": "markdown",
      "metadata": {
        "id": "14sSmu11JZJ-"
      },
      "source": [
        "**combine**"
      ]
    },
    {
      "cell_type": "code",
      "metadata": {
        "id": "RtZ8hKWOJcs_"
      },
      "source": [
        "saudia = [saudia1, saudia2, saudia3]\n",
        "saudia_airline = pd.concat(saudia)"
      ],
      "execution_count": null,
      "outputs": []
    },
    {
      "cell_type": "code",
      "metadata": {
        "id": "BgIuOYyjJc_C"
      },
      "source": [
        "united = [united1, united2]\n",
        "united_airline = pd.concat(united)"
      ],
      "execution_count": null,
      "outputs": []
    },
    {
      "cell_type": "markdown",
      "metadata": {
        "id": "dhsUeJZ8J7Cz"
      },
      "source": [
        "**save**"
      ]
    },
    {
      "cell_type": "code",
      "metadata": {
        "id": "R6HntCv_J-24"
      },
      "source": [
        "saudia_airline.to_csv('saudia_airline.csv')\n",
        "!cp saudia_airline.csv \"./gdrive/My Drive/datasets/new_datasets/\""
      ],
      "execution_count": null,
      "outputs": []
    },
    {
      "cell_type": "code",
      "metadata": {
        "id": "xGZVYVInKF_S"
      },
      "source": [
        "united_airline.to_csv('united_airline.csv')\n",
        "!cp united_airline.csv \"./gdrive/My Drive/datasets/new_datasets/\""
      ],
      "execution_count": null,
      "outputs": []
    },
    {
      "cell_type": "markdown",
      "metadata": {
        "id": "KDUbuXLl5TmN"
      },
      "source": [
        "#Read all the files"
      ]
    },
    {
      "cell_type": "code",
      "metadata": {
        "colab": {
          "base_uri": "https://localhost:8080/"
        },
        "id": "5FibISC16wXN",
        "outputId": "d933838f-0cc4-4a65-ac82-ec09663f25ad"
      },
      "source": [
        "#read all files in new_datasets \n",
        "# use join for multi platform compatibility\n",
        "import csv\n",
        "import os\n",
        "import sys\n",
        "import re\n",
        "import glob\n",
        "\n",
        "all_files = []\n",
        "for infile in glob.glob(os.path.join(path, '*.csv')):\n",
        "    \n",
        "    # infile stores the complete path of the file\n",
        "    print(\"Current File Being Processed is:  \" + infile)\n",
        "    read_one = pd.read_csv(infile)\n",
        "    all_files.append(read_one)\n",
        "\n",
        "    #use split to seperate the path and name of the file\n",
        "    (PATH, FILENAME) = os.path.split(infile)\n",
        "    print(\" PATH is \" + PATH)\n",
        "    print(\" FILENAME is \" + FILENAME)\n",
        "    \n",
        "    #use splitext() to seperate name of the file and the extension\n",
        "    (ShortName, Extension) = os.path.splitext(FILENAME)\n",
        "    print(ShortName)\n",
        "    print(Extension)"
      ],
      "execution_count": null,
      "outputs": [
        {
          "output_type": "stream",
          "text": [
            "Current File Being Processed is:  ./gdrive/My Drive/datasets/new_datasets/Singapore _Airlines_tweets.csv\n",
            " PATH is ./gdrive/My Drive/datasets/new_datasets\n",
            " FILENAME is Singapore _Airlines_tweets.csv\n",
            "Singapore _Airlines_tweets\n",
            ".csv\n",
            "Current File Being Processed is:  ./gdrive/My Drive/datasets/new_datasets/virginatlantic_tweets.csv\n",
            " PATH is ./gdrive/My Drive/datasets/new_datasets\n",
            " FILENAME is virginatlantic_tweets.csv\n",
            "virginatlantic_tweets\n",
            ".csv\n",
            "Current File Being Processed is:  ./gdrive/My Drive/datasets/new_datasets/qatarairways_tweets.csv\n",
            " PATH is ./gdrive/My Drive/datasets/new_datasets\n",
            " FILENAME is qatarairways_tweets.csv\n",
            "qatarairways_tweets\n",
            ".csv\n",
            "Current File Being Processed is:  ./gdrive/My Drive/datasets/new_datasets/britishairways_tweets.csv\n",
            " PATH is ./gdrive/My Drive/datasets/new_datasets\n",
            " FILENAME is britishairways_tweets.csv\n",
            "britishairways_tweets\n",
            ".csv\n",
            "Current File Being Processed is:  ./gdrive/My Drive/datasets/new_datasets/flydubai_tweets.csv\n",
            " PATH is ./gdrive/My Drive/datasets/new_datasets\n",
            " FILENAME is flydubai_tweets.csv\n",
            "flydubai_tweets\n",
            ".csv\n",
            "Current File Being Processed is:  ./gdrive/My Drive/datasets/new_datasets/airfrance_tweets.csv\n",
            " PATH is ./gdrive/My Drive/datasets/new_datasets\n",
            " FILENAME is airfrance_tweets.csv\n",
            "airfrance_tweets\n",
            ".csv\n",
            "Current File Being Processed is:  ./gdrive/My Drive/datasets/new_datasets/turkishairlines_tweets.csv\n",
            " PATH is ./gdrive/My Drive/datasets/new_datasets\n",
            " FILENAME is turkishairlines_tweets.csv\n",
            "turkishairlines_tweets\n",
            ".csv\n",
            "Current File Being Processed is:  ./gdrive/My Drive/datasets/new_datasets/Americanairlines_tweets.csv\n",
            " PATH is ./gdrive/My Drive/datasets/new_datasets\n",
            " FILENAME is Americanairlines_tweets.csv\n",
            "Americanairlines_tweets\n",
            ".csv\n",
            "Current File Being Processed is:  ./gdrive/My Drive/datasets/new_datasets/AirCanada_tweets.csv\n",
            " PATH is ./gdrive/My Drive/datasets/new_datasets\n",
            " FILENAME is AirCanada_tweets.csv\n",
            "AirCanada_tweets\n",
            ".csv\n",
            "Current File Being Processed is:  ./gdrive/My Drive/datasets/new_datasets/saudia_airline.csv\n",
            " PATH is ./gdrive/My Drive/datasets/new_datasets\n",
            " FILENAME is saudia_airline.csv\n",
            "saudia_airline\n",
            ".csv\n",
            "Current File Being Processed is:  ./gdrive/My Drive/datasets/new_datasets/united_airline.csv\n",
            " PATH is ./gdrive/My Drive/datasets/new_datasets\n",
            " FILENAME is united_airline.csv\n",
            "united_airline\n",
            ".csv\n"
          ],
          "name": "stdout"
        }
      ]
    },
    {
      "cell_type": "markdown",
      "metadata": {
        "id": "r5veUgiY4gbC"
      },
      "source": [
        "#Filter English tweets"
      ]
    },
    {
      "cell_type": "markdown",
      "metadata": {
        "id": "kDqe04xF4ph9"
      },
      "source": [
        "**Saudia Airlines**"
      ]
    },
    {
      "cell_type": "code",
      "metadata": {
        "id": "kWlQYYAV4jYa"
      },
      "source": [
        "saudia_airlines_en = saudia_airlines[saudia_airlines.language == \"en\"]"
      ],
      "execution_count": null,
      "outputs": []
    },
    {
      "cell_type": "code",
      "metadata": {
        "colab": {
          "base_uri": "https://localhost:8080/"
        },
        "id": "ZciURK8B4myg",
        "outputId": "94b9f319-a471-473d-a3c8-ebebec73af89"
      },
      "source": [
        "saudia_airlines_en.shape"
      ],
      "execution_count": null,
      "outputs": [
        {
          "output_type": "execute_result",
          "data": {
            "text/plain": [
              "(1373, 8)"
            ]
          },
          "metadata": {
            "tags": []
          },
          "execution_count": 67
        }
      ]
    },
    {
      "cell_type": "code",
      "metadata": {
        "colab": {
          "base_uri": "https://localhost:8080/",
          "height": 204
        },
        "id": "X5qXpXWL5Bpa",
        "outputId": "e972f8d0-5505-4806-8699-82342b4534a5"
      },
      "source": [
        "saudia_airlines_en.head(5)"
      ],
      "execution_count": null,
      "outputs": [
        {
          "output_type": "execute_result",
          "data": {
            "text/html": [
              "<div>\n",
              "<style scoped>\n",
              "    .dataframe tbody tr th:only-of-type {\n",
              "        vertical-align: middle;\n",
              "    }\n",
              "\n",
              "    .dataframe tbody tr th {\n",
              "        vertical-align: top;\n",
              "    }\n",
              "\n",
              "    .dataframe thead th {\n",
              "        text-align: right;\n",
              "    }\n",
              "</style>\n",
              "<table border=\"1\" class=\"dataframe\">\n",
              "  <thead>\n",
              "    <tr style=\"text-align: right;\">\n",
              "      <th></th>\n",
              "      <th>tweet_id</th>\n",
              "      <th>created_at</th>\n",
              "      <th>text</th>\n",
              "      <th>likes</th>\n",
              "      <th>retweeted</th>\n",
              "      <th>location</th>\n",
              "      <th>language</th>\n",
              "      <th>airline</th>\n",
              "    </tr>\n",
              "  </thead>\n",
              "  <tbody>\n",
              "    <tr>\n",
              "      <th>5</th>\n",
              "      <td>1336728569272262663</td>\n",
              "      <td>2020-12-09 17:45:00</td>\n",
              "      <td>@Shakeel60633858 Dear guest, there is no fligh...</td>\n",
              "      <td>0</td>\n",
              "      <td>False</td>\n",
              "      <td>Saudi Arabia</td>\n",
              "      <td>en</td>\n",
              "      <td>Saudi_airlines</td>\n",
              "    </tr>\n",
              "    <tr>\n",
              "      <th>7</th>\n",
              "      <td>1336719354537369603</td>\n",
              "      <td>2020-12-09 17:08:23</td>\n",
              "      <td>@Zishanh31436141 Dear guest, there is no fligh...</td>\n",
              "      <td>0</td>\n",
              "      <td>False</td>\n",
              "      <td>Saudi Arabia</td>\n",
              "      <td>en</td>\n",
              "      <td>Saudi_airlines</td>\n",
              "    </tr>\n",
              "    <tr>\n",
              "      <th>9</th>\n",
              "      <td>1336711502087254018</td>\n",
              "      <td>2020-12-09 16:37:11</td>\n",
              "      <td>@AnwarHu13119859 Hello dear valued guest, once...</td>\n",
              "      <td>0</td>\n",
              "      <td>False</td>\n",
              "      <td>Saudi Arabia</td>\n",
              "      <td>en</td>\n",
              "      <td>Saudi_airlines</td>\n",
              "    </tr>\n",
              "    <tr>\n",
              "      <th>14</th>\n",
              "      <td>1336705261340332032</td>\n",
              "      <td>2020-12-09 16:12:23</td>\n",
              "      <td>@Emuyefetari Dear valued guest, kindly review ...</td>\n",
              "      <td>0</td>\n",
              "      <td>False</td>\n",
              "      <td>Saudi Arabia</td>\n",
              "      <td>en</td>\n",
              "      <td>Saudi_airlines</td>\n",
              "    </tr>\n",
              "    <tr>\n",
              "      <th>19</th>\n",
              "      <td>1336693042225483781</td>\n",
              "      <td>2020-12-09 15:23:50</td>\n",
              "      <td>@KashmirLakha5 Dear guest, there is no flight ...</td>\n",
              "      <td>0</td>\n",
              "      <td>False</td>\n",
              "      <td>Saudi Arabia</td>\n",
              "      <td>en</td>\n",
              "      <td>Saudi_airlines</td>\n",
              "    </tr>\n",
              "  </tbody>\n",
              "</table>\n",
              "</div>"
            ],
            "text/plain": [
              "               tweet_id           created_at  ... language         airline\n",
              "5   1336728569272262663  2020-12-09 17:45:00  ...       en  Saudi_airlines\n",
              "7   1336719354537369603  2020-12-09 17:08:23  ...       en  Saudi_airlines\n",
              "9   1336711502087254018  2020-12-09 16:37:11  ...       en  Saudi_airlines\n",
              "14  1336705261340332032  2020-12-09 16:12:23  ...       en  Saudi_airlines\n",
              "19  1336693042225483781  2020-12-09 15:23:50  ...       en  Saudi_airlines\n",
              "\n",
              "[5 rows x 8 columns]"
            ]
          },
          "metadata": {
            "tags": []
          },
          "execution_count": 68
        }
      ]
    },
    {
      "cell_type": "markdown",
      "metadata": {
        "id": "VwbRshC44sL2"
      },
      "source": [
        "**Flynas**"
      ]
    },
    {
      "cell_type": "code",
      "metadata": {
        "id": "68S3cgRY4uit"
      },
      "source": [
        "flynas_airlines_en = flynas_airlines[flynas_airlines.language == \"en\"]"
      ],
      "execution_count": null,
      "outputs": []
    },
    {
      "cell_type": "code",
      "metadata": {
        "colab": {
          "base_uri": "https://localhost:8080/"
        },
        "id": "0ROGYquz4u0N",
        "outputId": "ac1bdaee-707b-479e-9ed8-dfa506b91851"
      },
      "source": [
        "flynas_airlines_en.shape"
      ],
      "execution_count": null,
      "outputs": [
        {
          "output_type": "execute_result",
          "data": {
            "text/plain": [
              "(225, 8)"
            ]
          },
          "metadata": {
            "tags": []
          },
          "execution_count": 70
        }
      ]
    },
    {
      "cell_type": "code",
      "metadata": {
        "colab": {
          "base_uri": "https://localhost:8080/",
          "height": 204
        },
        "id": "iD2x_o_T5EmN",
        "outputId": "bafa6a8e-8f65-4ea3-9d9f-578e8a8374a2"
      },
      "source": [
        "flynas_airlines_en.head(5)"
      ],
      "execution_count": null,
      "outputs": [
        {
          "output_type": "execute_result",
          "data": {
            "text/html": [
              "<div>\n",
              "<style scoped>\n",
              "    .dataframe tbody tr th:only-of-type {\n",
              "        vertical-align: middle;\n",
              "    }\n",
              "\n",
              "    .dataframe tbody tr th {\n",
              "        vertical-align: top;\n",
              "    }\n",
              "\n",
              "    .dataframe thead th {\n",
              "        text-align: right;\n",
              "    }\n",
              "</style>\n",
              "<table border=\"1\" class=\"dataframe\">\n",
              "  <thead>\n",
              "    <tr style=\"text-align: right;\">\n",
              "      <th></th>\n",
              "      <th>tweet_id</th>\n",
              "      <th>created_at</th>\n",
              "      <th>text</th>\n",
              "      <th>likes</th>\n",
              "      <th>retweeted</th>\n",
              "      <th>location</th>\n",
              "      <th>language</th>\n",
              "      <th>airline</th>\n",
              "    </tr>\n",
              "  </thead>\n",
              "  <tbody>\n",
              "    <tr>\n",
              "      <th>11</th>\n",
              "      <td>1336631281145294850</td>\n",
              "      <td>2020-12-09 11:18:25</td>\n",
              "      <td>@lahoridhol hello, dear kindly cheek link belo...</td>\n",
              "      <td>0</td>\n",
              "      <td>False</td>\n",
              "      <td>Saudi Arabia</td>\n",
              "      <td>en</td>\n",
              "      <td>flynas</td>\n",
              "    </tr>\n",
              "    <tr>\n",
              "      <th>24</th>\n",
              "      <td>1336548014068994051</td>\n",
              "      <td>2020-12-09 05:47:33</td>\n",
              "      <td>@jessica_uys Hello, kindly provide us with you...</td>\n",
              "      <td>0</td>\n",
              "      <td>False</td>\n",
              "      <td>Saudi Arabia</td>\n",
              "      <td>en</td>\n",
              "      <td>flynas</td>\n",
              "    </tr>\n",
              "    <tr>\n",
              "      <th>25</th>\n",
              "      <td>1336463232177934338</td>\n",
              "      <td>2020-12-09 00:10:39</td>\n",
              "      <td>@saqibxtc Good morning dear , kindly provide u...</td>\n",
              "      <td>0</td>\n",
              "      <td>False</td>\n",
              "      <td>Saudi Arabia</td>\n",
              "      <td>en</td>\n",
              "      <td>flynas</td>\n",
              "    </tr>\n",
              "    <tr>\n",
              "      <th>45</th>\n",
              "      <td>1336310819198537740</td>\n",
              "      <td>2020-12-08 14:05:01</td>\n",
              "      <td>@nandlal23173532 Dear, Follow us if available ...</td>\n",
              "      <td>0</td>\n",
              "      <td>False</td>\n",
              "      <td>Saudi Arabia</td>\n",
              "      <td>en</td>\n",
              "      <td>flynas</td>\n",
              "    </tr>\n",
              "    <tr>\n",
              "      <th>53</th>\n",
              "      <td>1336270489245921280</td>\n",
              "      <td>2020-12-08 11:24:45</td>\n",
              "      <td>@HusainA89126244 kindly delete the tweet becau...</td>\n",
              "      <td>0</td>\n",
              "      <td>False</td>\n",
              "      <td>Saudi Arabia</td>\n",
              "      <td>en</td>\n",
              "      <td>flynas</td>\n",
              "    </tr>\n",
              "  </tbody>\n",
              "</table>\n",
              "</div>"
            ],
            "text/plain": [
              "               tweet_id           created_at  ... language  airline\n",
              "11  1336631281145294850  2020-12-09 11:18:25  ...       en   flynas\n",
              "24  1336548014068994051  2020-12-09 05:47:33  ...       en   flynas\n",
              "25  1336463232177934338  2020-12-09 00:10:39  ...       en   flynas\n",
              "45  1336310819198537740  2020-12-08 14:05:01  ...       en   flynas\n",
              "53  1336270489245921280  2020-12-08 11:24:45  ...       en   flynas\n",
              "\n",
              "[5 rows x 8 columns]"
            ]
          },
          "metadata": {
            "tags": []
          },
          "execution_count": 71
        }
      ]
    },
    {
      "cell_type": "markdown",
      "metadata": {
        "id": "wCnrmR4w5cBo"
      },
      "source": [
        "As we can see here there is **imbalance** in the number of tweets in Saudia Airlines and Flynas so we must consider this when apply **Machine Learning**"
      ]
    },
    {
      "cell_type": "markdown",
      "metadata": {
        "id": "8nkGHySp3x_K"
      },
      "source": [
        "#Combine the data sets\n"
      ]
    },
    {
      "cell_type": "code",
      "metadata": {
        "id": "ELgqRmNF_8md"
      },
      "source": [
        "airline = pd.concat(all_files)"
      ],
      "execution_count": null,
      "outputs": []
    },
    {
      "cell_type": "code",
      "metadata": {
        "colab": {
          "base_uri": "https://localhost:8080/"
        },
        "id": "U8ZR2GjkEs46",
        "outputId": "d2b0f6e2-3227-4f3d-df95-ba3086f2e329"
      },
      "source": [
        "airline.shape"
      ],
      "execution_count": null,
      "outputs": [
        {
          "output_type": "execute_result",
          "data": {
            "text/plain": [
              "(3834, 9)"
            ]
          },
          "metadata": {
            "tags": []
          },
          "execution_count": 12
        }
      ]
    },
    {
      "cell_type": "code",
      "metadata": {
        "colab": {
          "base_uri": "https://localhost:8080/"
        },
        "id": "YLrPNsH3NzMz",
        "outputId": "993fdd13-f832-40f4-bc65-7c7dc485628e"
      },
      "source": [
        "airline.info()"
      ],
      "execution_count": null,
      "outputs": [
        {
          "output_type": "stream",
          "text": [
            "<class 'pandas.core.frame.DataFrame'>\n",
            "Int64Index: 3834 entries, 0 to 232\n",
            "Data columns (total 9 columns):\n",
            " #   Column      Non-Null Count  Dtype  \n",
            "---  ------      --------------  -----  \n",
            " 0   tweet_id    3834 non-null   int64  \n",
            " 1   created_at  3834 non-null   object \n",
            " 2   text        3834 non-null   object \n",
            " 3   likes       3834 non-null   int64  \n",
            " 4   retweeted   3834 non-null   bool   \n",
            " 5   location    2942 non-null   object \n",
            " 6   language    3834 non-null   object \n",
            " 7   airline     3834 non-null   object \n",
            " 8   Unnamed: 0  873 non-null    float64\n",
            "dtypes: bool(1), float64(1), int64(2), object(5)\n",
            "memory usage: 273.3+ KB\n"
          ],
          "name": "stdout"
        }
      ]
    },
    {
      "cell_type": "markdown",
      "metadata": {
        "id": "hkzeY_XeOglE"
      },
      "source": [
        "**remove dummy variable**"
      ]
    },
    {
      "cell_type": "code",
      "metadata": {
        "id": "TjG66hv1OTKL"
      },
      "source": [
        "airline = airline.drop(columns = ['Unnamed: 0'])"
      ],
      "execution_count": null,
      "outputs": []
    },
    {
      "cell_type": "code",
      "metadata": {
        "colab": {
          "base_uri": "https://localhost:8080/",
          "height": 529
        },
        "id": "mHVz8tde7dhH",
        "outputId": "83a47242-d22d-41e8-c9b4-e4da1166840e"
      },
      "source": [
        "airline.sample(10)"
      ],
      "execution_count": null,
      "outputs": [
        {
          "output_type": "execute_result",
          "data": {
            "text/html": [
              "<div>\n",
              "<style scoped>\n",
              "    .dataframe tbody tr th:only-of-type {\n",
              "        vertical-align: middle;\n",
              "    }\n",
              "\n",
              "    .dataframe tbody tr th {\n",
              "        vertical-align: top;\n",
              "    }\n",
              "\n",
              "    .dataframe thead th {\n",
              "        text-align: right;\n",
              "    }\n",
              "</style>\n",
              "<table border=\"1\" class=\"dataframe\">\n",
              "  <thead>\n",
              "    <tr style=\"text-align: right;\">\n",
              "      <th></th>\n",
              "      <th>tweet_id</th>\n",
              "      <th>created_at</th>\n",
              "      <th>text</th>\n",
              "      <th>likes</th>\n",
              "      <th>retweeted</th>\n",
              "      <th>location</th>\n",
              "      <th>language</th>\n",
              "      <th>airline</th>\n",
              "    </tr>\n",
              "  </thead>\n",
              "  <tbody>\n",
              "    <tr>\n",
              "      <th>259</th>\n",
              "      <td>1334559330419564547</td>\n",
              "      <td>2020-12-03 18:05:13</td>\n",
              "      <td>Waiting for Passengers, American Puts Boeing Max in the Air\\n\\nhttps://t.co/EFJJ8OWyEB\\n\\n#Ameri...</td>\n",
              "      <td>0</td>\n",
              "      <td>False</td>\n",
              "      <td>Las Vegas, NV</td>\n",
              "      <td>en</td>\n",
              "      <td>#Americanairlines</td>\n",
              "    </tr>\n",
              "    <tr>\n",
              "      <th>324</th>\n",
              "      <td>1336979288470548481</td>\n",
              "      <td>2020-12-10 10:21:16</td>\n",
              "      <td>RT @SAEIMEDIA: To achieve the Kingdom's vision 🇸🇦 in the sustainability of economic power, socia...</td>\n",
              "      <td>0</td>\n",
              "      <td>False</td>\n",
              "      <td>RIYADH,SAUDI ARABIA</td>\n",
              "      <td>en</td>\n",
              "      <td>Saudia airlines</td>\n",
              "    </tr>\n",
              "    <tr>\n",
              "      <th>189</th>\n",
              "      <td>1335328507220602882</td>\n",
              "      <td>2020-12-05 21:01:39</td>\n",
              "      <td>RT @TheRealRossMan: American Eagle ERJ-145LR N663AR On Arrival 5 Dec 2020 #aviation #aviationpho...</td>\n",
              "      <td>0</td>\n",
              "      <td>False</td>\n",
              "      <td>Worldwide</td>\n",
              "      <td>en</td>\n",
              "      <td>#Americanairlines</td>\n",
              "    </tr>\n",
              "    <tr>\n",
              "      <th>50</th>\n",
              "      <td>1334094608180129793</td>\n",
              "      <td>2020-12-02 11:18:35</td>\n",
              "      <td>RT @jfkjetsofficial: These stunning @SingaporeAir @Airbus A350s needed their beauty sleep in bet...</td>\n",
              "      <td>0</td>\n",
              "      <td>False</td>\n",
              "      <td>Distrito Federal de Bogotá CO</td>\n",
              "      <td>en</td>\n",
              "      <td>#Singapore _Airlines</td>\n",
              "    </tr>\n",
              "    <tr>\n",
              "      <th>53</th>\n",
              "      <td>1336973128434655232</td>\n",
              "      <td>2020-12-10 09:56:48</td>\n",
              "      <td>RT @abelola2007: #QatarAirways. I have been trying to get to your customer service center but no...</td>\n",
              "      <td>0</td>\n",
              "      <td>False</td>\n",
              "      <td>London</td>\n",
              "      <td>en</td>\n",
              "      <td>#qatarairways</td>\n",
              "    </tr>\n",
              "    <tr>\n",
              "      <th>270</th>\n",
              "      <td>1336979288470548481</td>\n",
              "      <td>2020-12-10 10:21:16</td>\n",
              "      <td>RT @SAEIMEDIA: To achieve the Kingdom's vision 🇸🇦 in the sustainability of economic power, socia...</td>\n",
              "      <td>0</td>\n",
              "      <td>False</td>\n",
              "      <td>RIYADH,SAUDI ARABIA</td>\n",
              "      <td>en</td>\n",
              "      <td>Saudia airlines</td>\n",
              "    </tr>\n",
              "    <tr>\n",
              "      <th>0</th>\n",
              "      <td>1337163032670031872</td>\n",
              "      <td>2020-12-10 22:31:24</td>\n",
              "      <td>This new season explore Zagreb. Book your Economy Flights from Singapore to Zagreb from Qatar Ai...</td>\n",
              "      <td>0</td>\n",
              "      <td>False</td>\n",
              "      <td>NaN</td>\n",
              "      <td>en</td>\n",
              "      <td>#qatarairways</td>\n",
              "    </tr>\n",
              "    <tr>\n",
              "      <th>283</th>\n",
              "      <td>1334724765794222089</td>\n",
              "      <td>2020-12-04 05:02:36</td>\n",
              "      <td>Turkish Airlines Flight Operations between Manila &amp;amp; Istanbul for December 2020 (as of Novemb...</td>\n",
              "      <td>0</td>\n",
              "      <td>False</td>\n",
              "      <td>Philippines</td>\n",
              "      <td>en</td>\n",
              "      <td>#turkishairlines</td>\n",
              "    </tr>\n",
              "    <tr>\n",
              "      <th>517</th>\n",
              "      <td>1334168508104667140</td>\n",
              "      <td>2020-12-02 16:12:14</td>\n",
              "      <td>#BritishAirways' Queens of the Skies will continue to inspire aviation enthusiasts across the #U...</td>\n",
              "      <td>1</td>\n",
              "      <td>False</td>\n",
              "      <td>NaN</td>\n",
              "      <td>en</td>\n",
              "      <td>#britishairways</td>\n",
              "    </tr>\n",
              "    <tr>\n",
              "      <th>104</th>\n",
              "      <td>1335401291879608326</td>\n",
              "      <td>2020-12-06 01:50:53</td>\n",
              "      <td>RT @skygoflycom: Close up of an Air France Airbus a340 landing at St. Maarten...https://t.co/L0l...</td>\n",
              "      <td>0</td>\n",
              "      <td>False</td>\n",
              "      <td>South Taranaki District</td>\n",
              "      <td>en</td>\n",
              "      <td>#airfrance</td>\n",
              "    </tr>\n",
              "  </tbody>\n",
              "</table>\n",
              "</div>"
            ],
            "text/plain": [
              "                tweet_id           created_at  ... language               airline\n",
              "259  1334559330419564547  2020-12-03 18:05:13  ...       en     #Americanairlines\n",
              "324  1336979288470548481  2020-12-10 10:21:16  ...       en       Saudia airlines\n",
              "189  1335328507220602882  2020-12-05 21:01:39  ...       en     #Americanairlines\n",
              "50   1334094608180129793  2020-12-02 11:18:35  ...       en  #Singapore _Airlines\n",
              "53   1336973128434655232  2020-12-10 09:56:48  ...       en         #qatarairways\n",
              "270  1336979288470548481  2020-12-10 10:21:16  ...       en       Saudia airlines\n",
              "0    1337163032670031872  2020-12-10 22:31:24  ...       en         #qatarairways\n",
              "283  1334724765794222089  2020-12-04 05:02:36  ...       en      #turkishairlines\n",
              "517  1334168508104667140  2020-12-02 16:12:14  ...       en       #britishairways\n",
              "104  1335401291879608326  2020-12-06 01:50:53  ...       en            #airfrance\n",
              "\n",
              "[10 rows x 8 columns]"
            ]
          },
          "metadata": {
            "tags": []
          },
          "execution_count": 149
        }
      ]
    },
    {
      "cell_type": "markdown",
      "metadata": {
        "id": "a8yATewu6c-1"
      },
      "source": [
        "#Check the duplicated tweets and remove it \n",
        "\n"
      ]
    },
    {
      "cell_type": "code",
      "metadata": {
        "id": "5mJb3c4fAbTe"
      },
      "source": [
        "airline.drop_duplicates(subset='text', inplace= True)"
      ],
      "execution_count": null,
      "outputs": []
    },
    {
      "cell_type": "code",
      "metadata": {
        "colab": {
          "base_uri": "https://localhost:8080/"
        },
        "id": "jTnekAZ5AhmK",
        "outputId": "ad8daeae-627a-41a8-a574-7e89c9f8d356"
      },
      "source": [
        "airline.shape"
      ],
      "execution_count": null,
      "outputs": [
        {
          "output_type": "execute_result",
          "data": {
            "text/plain": [
              "(1857, 8)"
            ]
          },
          "metadata": {
            "tags": []
          },
          "execution_count": 72
        }
      ]
    },
    {
      "cell_type": "code",
      "metadata": {
        "colab": {
          "base_uri": "https://localhost:8080/",
          "height": 289
        },
        "id": "KuXaG4LTXrh_",
        "outputId": "0870d3eb-da6d-4b91-a011-33cff486514a"
      },
      "source": [
        "airline.head(5)"
      ],
      "execution_count": null,
      "outputs": [
        {
          "output_type": "execute_result",
          "data": {
            "text/html": [
              "<div>\n",
              "<style scoped>\n",
              "    .dataframe tbody tr th:only-of-type {\n",
              "        vertical-align: middle;\n",
              "    }\n",
              "\n",
              "    .dataframe tbody tr th {\n",
              "        vertical-align: top;\n",
              "    }\n",
              "\n",
              "    .dataframe thead th {\n",
              "        text-align: right;\n",
              "    }\n",
              "</style>\n",
              "<table border=\"1\" class=\"dataframe\">\n",
              "  <thead>\n",
              "    <tr style=\"text-align: right;\">\n",
              "      <th></th>\n",
              "      <th>tweet_id</th>\n",
              "      <th>created_at</th>\n",
              "      <th>text</th>\n",
              "      <th>likes</th>\n",
              "      <th>retweeted</th>\n",
              "      <th>location</th>\n",
              "      <th>language</th>\n",
              "      <th>airline</th>\n",
              "    </tr>\n",
              "  </thead>\n",
              "  <tbody>\n",
              "    <tr>\n",
              "      <th>0</th>\n",
              "      <td>1337012314470457345</td>\n",
              "      <td>2020-12-10 12:32:30</td>\n",
              "      <td>[singapore, airlines, increases, ties, with, india, s, vistara, india, singapore, travel, travel...</td>\n",
              "      <td>0</td>\n",
              "      <td>False</td>\n",
              "      <td>Taiwan</td>\n",
              "      <td>en</td>\n",
              "      <td>#Singapore _Airlines</td>\n",
              "    </tr>\n",
              "    <tr>\n",
              "      <th>1</th>\n",
              "      <td>1336883367103651841</td>\n",
              "      <td>2020-12-10 04:00:07</td>\n",
              "      <td>[changi, readies, for, vaccine, distribution, in, asia, singapores, air, cargo, hub, gears, up, ...</td>\n",
              "      <td>0</td>\n",
              "      <td>False</td>\n",
              "      <td>Central Region, Singapore</td>\n",
              "      <td>en</td>\n",
              "      <td>#Singapore _Airlines</td>\n",
              "    </tr>\n",
              "    <tr>\n",
              "      <th>2</th>\n",
              "      <td>1336659677971505153</td>\n",
              "      <td>2020-12-09 13:11:15</td>\n",
              "      <td>[singapore, airlines, to, strengthen, ties, with, india, s, vistara, singapore, india, sia, asia, ]</td>\n",
              "      <td>0</td>\n",
              "      <td>False</td>\n",
              "      <td>Taiwan</td>\n",
              "      <td>en</td>\n",
              "      <td>#Singapore _Airlines</td>\n",
              "    </tr>\n",
              "    <tr>\n",
              "      <th>3</th>\n",
              "      <td>1336565658373373953</td>\n",
              "      <td>2020-12-09 06:57:39</td>\n",
              "      <td>[, amp, have, jointly, put, together, a, changireadytaskforce, of, governmentagencies, cargohand...</td>\n",
              "      <td>0</td>\n",
              "      <td>False</td>\n",
              "      <td>NaN</td>\n",
              "      <td>en</td>\n",
              "      <td>#Singapore _Airlines</td>\n",
              "    </tr>\n",
              "    <tr>\n",
              "      <th>4</th>\n",
              "      <td>1336548533856477184</td>\n",
              "      <td>2020-12-09 05:49:36</td>\n",
              "      <td>[singapore, airlines, vswh, boeing, ber, hongkong, international, airport, hkg, date, phot, ]</td>\n",
              "      <td>2</td>\n",
              "      <td>False</td>\n",
              "      <td>NaN</td>\n",
              "      <td>en</td>\n",
              "      <td>#Singapore _Airlines</td>\n",
              "    </tr>\n",
              "  </tbody>\n",
              "</table>\n",
              "</div>"
            ],
            "text/plain": [
              "              tweet_id           created_at  ... language               airline\n",
              "0  1337012314470457345  2020-12-10 12:32:30  ...       en  #Singapore _Airlines\n",
              "1  1336883367103651841  2020-12-10 04:00:07  ...       en  #Singapore _Airlines\n",
              "2  1336659677971505153  2020-12-09 13:11:15  ...       en  #Singapore _Airlines\n",
              "3  1336565658373373953  2020-12-09 06:57:39  ...       en  #Singapore _Airlines\n",
              "4  1336548533856477184  2020-12-09 05:49:36  ...       en  #Singapore _Airlines\n",
              "\n",
              "[5 rows x 8 columns]"
            ]
          },
          "metadata": {
            "tags": []
          },
          "execution_count": 26
        }
      ]
    },
    {
      "cell_type": "markdown",
      "metadata": {
        "id": "LomcoeEHNDAw"
      },
      "source": [
        "#**Data munging**"
      ]
    },
    {
      "cell_type": "markdown",
      "metadata": {
        "id": "WiWbUeuHiD8s"
      },
      "source": [
        "#using regular expression"
      ]
    },
    {
      "cell_type": "code",
      "metadata": {
        "id": "j5w6YrFGQV5O"
      },
      "source": [
        "# Create a function to clean the tweets\n",
        "def cleanTxt(text):\n",
        " text = re.sub('@[A-Za-z0–9]+', '', text) #Removing @mentions\n",
        " text = re.sub('#', '', text) # Removing '#' hash tag\n",
        " text = re.sub('RT[\\s]+', '', text) # Removing RT\n",
        " text = re.sub('https?:\\/\\/\\S+', '', text) # Removing hyperlink\n",
        " text = re.sub(r'\\d', '', text)\n",
        " text = \"\".join([word.lower() for word in text if word not in string.punctuation])\n",
        " \n",
        " return text"
      ],
      "execution_count": null,
      "outputs": []
    },
    {
      "cell_type": "code",
      "metadata": {
        "colab": {
          "base_uri": "https://localhost:8080/",
          "height": 289
        },
        "id": "Aqjl50j_GZSA",
        "outputId": "95aa2ea3-ccb0-4347-fb95-680d1d1fe723"
      },
      "source": [
        "# Clean the tweets\n",
        "airline[\"text\"] = airline[\"text\"].apply(cleanTxt)\n",
        "\n",
        "# Show the cleaned tweets\n",
        "airline.head(5)"
      ],
      "execution_count": null,
      "outputs": [
        {
          "output_type": "execute_result",
          "data": {
            "text/html": [
              "<div>\n",
              "<style scoped>\n",
              "    .dataframe tbody tr th:only-of-type {\n",
              "        vertical-align: middle;\n",
              "    }\n",
              "\n",
              "    .dataframe tbody tr th {\n",
              "        vertical-align: top;\n",
              "    }\n",
              "\n",
              "    .dataframe thead th {\n",
              "        text-align: right;\n",
              "    }\n",
              "</style>\n",
              "<table border=\"1\" class=\"dataframe\">\n",
              "  <thead>\n",
              "    <tr style=\"text-align: right;\">\n",
              "      <th></th>\n",
              "      <th>tweet_id</th>\n",
              "      <th>created_at</th>\n",
              "      <th>text</th>\n",
              "      <th>likes</th>\n",
              "      <th>retweeted</th>\n",
              "      <th>location</th>\n",
              "      <th>language</th>\n",
              "      <th>airline</th>\n",
              "    </tr>\n",
              "  </thead>\n",
              "  <tbody>\n",
              "    <tr>\n",
              "      <th>0</th>\n",
              "      <td>1337012314470457345</td>\n",
              "      <td>2020-12-10 12:32:30</td>\n",
              "      <td>singapore airlines increases ties with india’s vistara\\nindia singapore travel\\ntravelphotograph...</td>\n",
              "      <td>0</td>\n",
              "      <td>False</td>\n",
              "      <td>Taiwan</td>\n",
              "      <td>en</td>\n",
              "      <td>#Singapore _Airlines</td>\n",
              "    </tr>\n",
              "    <tr>\n",
              "      <th>1</th>\n",
              "      <td>1336883367103651841</td>\n",
              "      <td>2020-12-10 04:00:07</td>\n",
              "      <td>changi readies for vaccine distribution in asia\\nsingapores air cargo hub gears up for the safe ...</td>\n",
              "      <td>0</td>\n",
              "      <td>False</td>\n",
              "      <td>Central Region, Singapore</td>\n",
              "      <td>en</td>\n",
              "      <td>#Singapore _Airlines</td>\n",
              "    </tr>\n",
              "    <tr>\n",
              "      <th>2</th>\n",
              "      <td>1336659677971505153</td>\n",
              "      <td>2020-12-09 13:11:15</td>\n",
              "      <td>singapore airlines to strengthen ties with india’s vistara\\nsingapore india  sia asia…</td>\n",
              "      <td>0</td>\n",
              "      <td>False</td>\n",
              "      <td>Taiwan</td>\n",
              "      <td>en</td>\n",
              "      <td>#Singapore _Airlines</td>\n",
              "    </tr>\n",
              "    <tr>\n",
              "      <th>3</th>\n",
              "      <td>1336565658373373953</td>\n",
              "      <td>2020-12-09 06:57:39</td>\n",
              "      <td>amp  have jointly put together a  changireadytaskforce of governmentagencies cargohandlers…</td>\n",
              "      <td>0</td>\n",
              "      <td>False</td>\n",
              "      <td>NaN</td>\n",
              "      <td>en</td>\n",
              "      <td>#Singapore _Airlines</td>\n",
              "    </tr>\n",
              "    <tr>\n",
              "      <th>4</th>\n",
              "      <td>1336548533856477184</td>\n",
              "      <td>2020-12-09 05:49:36</td>\n",
              "      <td>singapore airlines vswh  boeing ber  hongkong international airport hkg\\ndate \\nphot…</td>\n",
              "      <td>2</td>\n",
              "      <td>False</td>\n",
              "      <td>NaN</td>\n",
              "      <td>en</td>\n",
              "      <td>#Singapore _Airlines</td>\n",
              "    </tr>\n",
              "  </tbody>\n",
              "</table>\n",
              "</div>"
            ],
            "text/plain": [
              "              tweet_id           created_at  ... language               airline\n",
              "0  1337012314470457345  2020-12-10 12:32:30  ...       en  #Singapore _Airlines\n",
              "1  1336883367103651841  2020-12-10 04:00:07  ...       en  #Singapore _Airlines\n",
              "2  1336659677971505153  2020-12-09 13:11:15  ...       en  #Singapore _Airlines\n",
              "3  1336565658373373953  2020-12-09 06:57:39  ...       en  #Singapore _Airlines\n",
              "4  1336548533856477184  2020-12-09 05:49:36  ...       en  #Singapore _Airlines\n",
              "\n",
              "[5 rows x 8 columns]"
            ]
          },
          "metadata": {
            "tags": []
          },
          "execution_count": 73
        }
      ]
    },
    {
      "cell_type": "markdown",
      "metadata": {
        "id": "WNyjvOcMJb6I"
      },
      "source": [
        "#Tokanization"
      ]
    },
    {
      "cell_type": "code",
      "metadata": {
        "id": "ste8xB17RRqR"
      },
      "source": [
        "def tokenization(text):\n",
        "    text = re.split('\\W+', text)\n",
        "    return text\n"
      ],
      "execution_count": null,
      "outputs": []
    },
    {
      "cell_type": "code",
      "metadata": {
        "colab": {
          "base_uri": "https://localhost:8080/",
          "height": 289
        },
        "id": "CN5KKh-fRrFe",
        "outputId": "fe153ded-0486-4006-e53a-bbc6ebb4b558"
      },
      "source": [
        "\n",
        "airline['text'] = airline['text'].apply(lambda x: tokenization(x.lower()))\n",
        "airline.head(5)"
      ],
      "execution_count": null,
      "outputs": [
        {
          "output_type": "execute_result",
          "data": {
            "text/html": [
              "<div>\n",
              "<style scoped>\n",
              "    .dataframe tbody tr th:only-of-type {\n",
              "        vertical-align: middle;\n",
              "    }\n",
              "\n",
              "    .dataframe tbody tr th {\n",
              "        vertical-align: top;\n",
              "    }\n",
              "\n",
              "    .dataframe thead th {\n",
              "        text-align: right;\n",
              "    }\n",
              "</style>\n",
              "<table border=\"1\" class=\"dataframe\">\n",
              "  <thead>\n",
              "    <tr style=\"text-align: right;\">\n",
              "      <th></th>\n",
              "      <th>tweet_id</th>\n",
              "      <th>created_at</th>\n",
              "      <th>text</th>\n",
              "      <th>likes</th>\n",
              "      <th>retweeted</th>\n",
              "      <th>location</th>\n",
              "      <th>language</th>\n",
              "      <th>airline</th>\n",
              "    </tr>\n",
              "  </thead>\n",
              "  <tbody>\n",
              "    <tr>\n",
              "      <th>0</th>\n",
              "      <td>1337012314470457345</td>\n",
              "      <td>2020-12-10 12:32:30</td>\n",
              "      <td>[singapore, airlines, increases, ties, with, india, s, vistara, india, singapore, travel, travel...</td>\n",
              "      <td>0</td>\n",
              "      <td>False</td>\n",
              "      <td>Taiwan</td>\n",
              "      <td>en</td>\n",
              "      <td>#Singapore _Airlines</td>\n",
              "    </tr>\n",
              "    <tr>\n",
              "      <th>1</th>\n",
              "      <td>1336883367103651841</td>\n",
              "      <td>2020-12-10 04:00:07</td>\n",
              "      <td>[changi, readies, for, vaccine, distribution, in, asia, singapores, air, cargo, hub, gears, up, ...</td>\n",
              "      <td>0</td>\n",
              "      <td>False</td>\n",
              "      <td>Central Region, Singapore</td>\n",
              "      <td>en</td>\n",
              "      <td>#Singapore _Airlines</td>\n",
              "    </tr>\n",
              "    <tr>\n",
              "      <th>2</th>\n",
              "      <td>1336659677971505153</td>\n",
              "      <td>2020-12-09 13:11:15</td>\n",
              "      <td>[singapore, airlines, to, strengthen, ties, with, india, s, vistara, singapore, india, sia, asia, ]</td>\n",
              "      <td>0</td>\n",
              "      <td>False</td>\n",
              "      <td>Taiwan</td>\n",
              "      <td>en</td>\n",
              "      <td>#Singapore _Airlines</td>\n",
              "    </tr>\n",
              "    <tr>\n",
              "      <th>3</th>\n",
              "      <td>1336565658373373953</td>\n",
              "      <td>2020-12-09 06:57:39</td>\n",
              "      <td>[, amp, have, jointly, put, together, a, changireadytaskforce, of, governmentagencies, cargohand...</td>\n",
              "      <td>0</td>\n",
              "      <td>False</td>\n",
              "      <td>NaN</td>\n",
              "      <td>en</td>\n",
              "      <td>#Singapore _Airlines</td>\n",
              "    </tr>\n",
              "    <tr>\n",
              "      <th>4</th>\n",
              "      <td>1336548533856477184</td>\n",
              "      <td>2020-12-09 05:49:36</td>\n",
              "      <td>[singapore, airlines, vswh, boeing, ber, hongkong, international, airport, hkg, date, phot, ]</td>\n",
              "      <td>2</td>\n",
              "      <td>False</td>\n",
              "      <td>NaN</td>\n",
              "      <td>en</td>\n",
              "      <td>#Singapore _Airlines</td>\n",
              "    </tr>\n",
              "  </tbody>\n",
              "</table>\n",
              "</div>"
            ],
            "text/plain": [
              "              tweet_id           created_at  ... language               airline\n",
              "0  1337012314470457345  2020-12-10 12:32:30  ...       en  #Singapore _Airlines\n",
              "1  1336883367103651841  2020-12-10 04:00:07  ...       en  #Singapore _Airlines\n",
              "2  1336659677971505153  2020-12-09 13:11:15  ...       en  #Singapore _Airlines\n",
              "3  1336565658373373953  2020-12-09 06:57:39  ...       en  #Singapore _Airlines\n",
              "4  1336548533856477184  2020-12-09 05:49:36  ...       en  #Singapore _Airlines\n",
              "\n",
              "[5 rows x 8 columns]"
            ]
          },
          "metadata": {
            "tags": []
          },
          "execution_count": 74
        }
      ]
    },
    {
      "cell_type": "markdown",
      "metadata": {
        "id": "E91sKwLcWPbf"
      },
      "source": [
        "#stemming\n",
        "\n",
        "stemming is basically an algorithm to categorize similar words into one. "
      ]
    },
    {
      "cell_type": "code",
      "metadata": {
        "id": "f34UQPonZUf_"
      },
      "source": [
        "ps = nltk.PorterStemmer()\n",
        "\n",
        "def stemming(text):\n",
        "    text = [ps.stem(word) for word in text]\n",
        "    return text"
      ],
      "execution_count": null,
      "outputs": []
    },
    {
      "cell_type": "code",
      "metadata": {
        "id": "fMRaOH2gKHEL",
        "colab": {
          "base_uri": "https://localhost:8080/",
          "height": 374
        },
        "outputId": "5963a775-04fb-48ae-8f25-43ec196b3aec"
      },
      "source": [
        "airline['Tweet_stemmed'] = airline['text'].apply(lambda x: stemming(x))\n",
        "airline.head(5)"
      ],
      "execution_count": null,
      "outputs": [
        {
          "output_type": "execute_result",
          "data": {
            "text/html": [
              "<div>\n",
              "<style scoped>\n",
              "    .dataframe tbody tr th:only-of-type {\n",
              "        vertical-align: middle;\n",
              "    }\n",
              "\n",
              "    .dataframe tbody tr th {\n",
              "        vertical-align: top;\n",
              "    }\n",
              "\n",
              "    .dataframe thead th {\n",
              "        text-align: right;\n",
              "    }\n",
              "</style>\n",
              "<table border=\"1\" class=\"dataframe\">\n",
              "  <thead>\n",
              "    <tr style=\"text-align: right;\">\n",
              "      <th></th>\n",
              "      <th>tweet_id</th>\n",
              "      <th>created_at</th>\n",
              "      <th>text</th>\n",
              "      <th>likes</th>\n",
              "      <th>retweeted</th>\n",
              "      <th>location</th>\n",
              "      <th>language</th>\n",
              "      <th>airline</th>\n",
              "      <th>Tweet_stemmed</th>\n",
              "    </tr>\n",
              "  </thead>\n",
              "  <tbody>\n",
              "    <tr>\n",
              "      <th>0</th>\n",
              "      <td>1337012314470457345</td>\n",
              "      <td>2020-12-10 12:32:30</td>\n",
              "      <td>[singapore, airlines, increases, ties, with, india, s, vistara, india, singapore, travel, travel...</td>\n",
              "      <td>0</td>\n",
              "      <td>False</td>\n",
              "      <td>Taiwan</td>\n",
              "      <td>en</td>\n",
              "      <td>#Singapore _Airlines</td>\n",
              "      <td>[singapor, airlin, increas, tie, with, india, s, vistara, india, singapor, travel, travelphotogr...</td>\n",
              "    </tr>\n",
              "    <tr>\n",
              "      <th>1</th>\n",
              "      <td>1336883367103651841</td>\n",
              "      <td>2020-12-10 04:00:07</td>\n",
              "      <td>[changi, readies, for, vaccine, distribution, in, asia, singapores, air, cargo, hub, gears, up, ...</td>\n",
              "      <td>0</td>\n",
              "      <td>False</td>\n",
              "      <td>Central Region, Singapore</td>\n",
              "      <td>en</td>\n",
              "      <td>#Singapore _Airlines</td>\n",
              "      <td>[changi, readi, for, vaccin, distribut, in, asia, singapor, air, cargo, hub, gear, up, for, the,...</td>\n",
              "    </tr>\n",
              "    <tr>\n",
              "      <th>2</th>\n",
              "      <td>1336659677971505153</td>\n",
              "      <td>2020-12-09 13:11:15</td>\n",
              "      <td>[singapore, airlines, to, strengthen, ties, with, india, s, vistara, singapore, india, sia, asia, ]</td>\n",
              "      <td>0</td>\n",
              "      <td>False</td>\n",
              "      <td>Taiwan</td>\n",
              "      <td>en</td>\n",
              "      <td>#Singapore _Airlines</td>\n",
              "      <td>[singapor, airlin, to, strengthen, tie, with, india, s, vistara, singapor, india, sia, asia, ]</td>\n",
              "    </tr>\n",
              "    <tr>\n",
              "      <th>3</th>\n",
              "      <td>1336565658373373953</td>\n",
              "      <td>2020-12-09 06:57:39</td>\n",
              "      <td>[, amp, have, jointly, put, together, a, changireadytaskforce, of, governmentagencies, cargohand...</td>\n",
              "      <td>0</td>\n",
              "      <td>False</td>\n",
              "      <td>NaN</td>\n",
              "      <td>en</td>\n",
              "      <td>#Singapore _Airlines</td>\n",
              "      <td>[, amp, have, jointli, put, togeth, a, changireadytaskforc, of, governmentag, cargohandl, ]</td>\n",
              "    </tr>\n",
              "    <tr>\n",
              "      <th>4</th>\n",
              "      <td>1336548533856477184</td>\n",
              "      <td>2020-12-09 05:49:36</td>\n",
              "      <td>[singapore, airlines, vswh, boeing, ber, hongkong, international, airport, hkg, date, phot, ]</td>\n",
              "      <td>2</td>\n",
              "      <td>False</td>\n",
              "      <td>NaN</td>\n",
              "      <td>en</td>\n",
              "      <td>#Singapore _Airlines</td>\n",
              "      <td>[singapor, airlin, vswh, boe, ber, hongkong, intern, airport, hkg, date, phot, ]</td>\n",
              "    </tr>\n",
              "  </tbody>\n",
              "</table>\n",
              "</div>"
            ],
            "text/plain": [
              "              tweet_id  ...                                                                                        Tweet_stemmed\n",
              "0  1337012314470457345  ...  [singapor, airlin, increas, tie, with, india, s, vistara, india, singapor, travel, travelphotogr...\n",
              "1  1336883367103651841  ...  [changi, readi, for, vaccin, distribut, in, asia, singapor, air, cargo, hub, gear, up, for, the,...\n",
              "2  1336659677971505153  ...       [singapor, airlin, to, strengthen, tie, with, india, s, vistara, singapor, india, sia, asia, ]\n",
              "3  1336565658373373953  ...          [, amp, have, jointli, put, togeth, a, changireadytaskforc, of, governmentag, cargohandl, ]\n",
              "4  1336548533856477184  ...                     [singapor, airlin, vswh, boe, ber, hongkong, intern, airport, hkg, date, phot, ]\n",
              "\n",
              "[5 rows x 9 columns]"
            ]
          },
          "metadata": {
            "tags": []
          },
          "execution_count": 75
        }
      ]
    },
    {
      "cell_type": "markdown",
      "metadata": {
        "id": "qyceIrDnYlWV"
      },
      "source": [
        "#Lemmatizing\n",
        "\n",
        "According to wiki, Lemmatisation is closely related to stemming. The difference is that a stemmer operates on a single word without knowledge of the context, and therefore cannot discriminate between words which have different meanings depending on part of speech"
      ]
    },
    {
      "cell_type": "code",
      "metadata": {
        "colab": {
          "base_uri": "https://localhost:8080/"
        },
        "id": "Uti6WRCQWXUj",
        "outputId": "8bf3caf3-118a-498a-893e-a14d4ed8097c"
      },
      "source": [
        "nltk.download('wordnet')\n",
        "wn = nltk.WordNetLemmatizer()\n",
        "\n",
        "def lemmatize(text):\n",
        "    text = [wn.lemmatize(word) for word in text]\n",
        "    return text\n"
      ],
      "execution_count": null,
      "outputs": [
        {
          "output_type": "stream",
          "text": [
            "[nltk_data] Downloading package wordnet to /root/nltk_data...\n",
            "[nltk_data]   Package wordnet is already up-to-date!\n"
          ],
          "name": "stdout"
        }
      ]
    },
    {
      "cell_type": "code",
      "metadata": {
        "id": "2XJJfuwZKh7g",
        "colab": {
          "base_uri": "https://localhost:8080/",
          "height": 476
        },
        "outputId": "55388d7b-9779-4fea-95fa-720b3c1bb351"
      },
      "source": [
        "airline['Tweet_lemmatized'] = airline['text'].apply(lambda x: lemmatize(x))\n",
        "airline.head(5)"
      ],
      "execution_count": null,
      "outputs": [
        {
          "output_type": "execute_result",
          "data": {
            "text/html": [
              "<div>\n",
              "<style scoped>\n",
              "    .dataframe tbody tr th:only-of-type {\n",
              "        vertical-align: middle;\n",
              "    }\n",
              "\n",
              "    .dataframe tbody tr th {\n",
              "        vertical-align: top;\n",
              "    }\n",
              "\n",
              "    .dataframe thead th {\n",
              "        text-align: right;\n",
              "    }\n",
              "</style>\n",
              "<table border=\"1\" class=\"dataframe\">\n",
              "  <thead>\n",
              "    <tr style=\"text-align: right;\">\n",
              "      <th></th>\n",
              "      <th>tweet_id</th>\n",
              "      <th>created_at</th>\n",
              "      <th>text</th>\n",
              "      <th>likes</th>\n",
              "      <th>retweeted</th>\n",
              "      <th>location</th>\n",
              "      <th>language</th>\n",
              "      <th>airline</th>\n",
              "      <th>Tweet_stemmed</th>\n",
              "      <th>Tweet_lemmatized</th>\n",
              "    </tr>\n",
              "  </thead>\n",
              "  <tbody>\n",
              "    <tr>\n",
              "      <th>0</th>\n",
              "      <td>1337012314470457345</td>\n",
              "      <td>2020-12-10 12:32:30</td>\n",
              "      <td>[singapore, airlines, increases, ties, with, india, s, vistara, india, singapore, travel, travel...</td>\n",
              "      <td>0</td>\n",
              "      <td>False</td>\n",
              "      <td>Taiwan</td>\n",
              "      <td>en</td>\n",
              "      <td>#Singapore _Airlines</td>\n",
              "      <td>[singapor, airlin, increas, tie, with, india, s, vistara, india, singapor, travel, travelphotogr...</td>\n",
              "      <td>[singapore, airline, increase, tie, with, india, s, vistara, india, singapore, travel, travelpho...</td>\n",
              "    </tr>\n",
              "    <tr>\n",
              "      <th>1</th>\n",
              "      <td>1336883367103651841</td>\n",
              "      <td>2020-12-10 04:00:07</td>\n",
              "      <td>[changi, readies, for, vaccine, distribution, in, asia, singapores, air, cargo, hub, gears, up, ...</td>\n",
              "      <td>0</td>\n",
              "      <td>False</td>\n",
              "      <td>Central Region, Singapore</td>\n",
              "      <td>en</td>\n",
              "      <td>#Singapore _Airlines</td>\n",
              "      <td>[changi, readi, for, vaccin, distribut, in, asia, singapor, air, cargo, hub, gear, up, for, the,...</td>\n",
              "      <td>[changi, ready, for, vaccine, distribution, in, asia, singapore, air, cargo, hub, gear, up, for,...</td>\n",
              "    </tr>\n",
              "    <tr>\n",
              "      <th>2</th>\n",
              "      <td>1336659677971505153</td>\n",
              "      <td>2020-12-09 13:11:15</td>\n",
              "      <td>[singapore, airlines, to, strengthen, ties, with, india, s, vistara, singapore, india, sia, asia, ]</td>\n",
              "      <td>0</td>\n",
              "      <td>False</td>\n",
              "      <td>Taiwan</td>\n",
              "      <td>en</td>\n",
              "      <td>#Singapore _Airlines</td>\n",
              "      <td>[singapor, airlin, to, strengthen, tie, with, india, s, vistara, singapor, india, sia, asia, ]</td>\n",
              "      <td>[singapore, airline, to, strengthen, tie, with, india, s, vistara, singapore, india, sia, asia, ]</td>\n",
              "    </tr>\n",
              "    <tr>\n",
              "      <th>3</th>\n",
              "      <td>1336565658373373953</td>\n",
              "      <td>2020-12-09 06:57:39</td>\n",
              "      <td>[, amp, have, jointly, put, together, a, changireadytaskforce, of, governmentagencies, cargohand...</td>\n",
              "      <td>0</td>\n",
              "      <td>False</td>\n",
              "      <td>NaN</td>\n",
              "      <td>en</td>\n",
              "      <td>#Singapore _Airlines</td>\n",
              "      <td>[, amp, have, jointli, put, togeth, a, changireadytaskforc, of, governmentag, cargohandl, ]</td>\n",
              "      <td>[, amp, have, jointly, put, together, a, changireadytaskforce, of, governmentagencies, cargohand...</td>\n",
              "    </tr>\n",
              "    <tr>\n",
              "      <th>4</th>\n",
              "      <td>1336548533856477184</td>\n",
              "      <td>2020-12-09 05:49:36</td>\n",
              "      <td>[singapore, airlines, vswh, boeing, ber, hongkong, international, airport, hkg, date, phot, ]</td>\n",
              "      <td>2</td>\n",
              "      <td>False</td>\n",
              "      <td>NaN</td>\n",
              "      <td>en</td>\n",
              "      <td>#Singapore _Airlines</td>\n",
              "      <td>[singapor, airlin, vswh, boe, ber, hongkong, intern, airport, hkg, date, phot, ]</td>\n",
              "      <td>[singapore, airline, vswh, boeing, ber, hongkong, international, airport, hkg, date, phot, ]</td>\n",
              "    </tr>\n",
              "  </tbody>\n",
              "</table>\n",
              "</div>"
            ],
            "text/plain": [
              "              tweet_id  ...                                                                                     Tweet_lemmatized\n",
              "0  1337012314470457345  ...  [singapore, airline, increase, tie, with, india, s, vistara, india, singapore, travel, travelpho...\n",
              "1  1336883367103651841  ...  [changi, ready, for, vaccine, distribution, in, asia, singapore, air, cargo, hub, gear, up, for,...\n",
              "2  1336659677971505153  ...    [singapore, airline, to, strengthen, tie, with, india, s, vistara, singapore, india, sia, asia, ]\n",
              "3  1336565658373373953  ...  [, amp, have, jointly, put, together, a, changireadytaskforce, of, governmentagencies, cargohand...\n",
              "4  1336548533856477184  ...         [singapore, airline, vswh, boeing, ber, hongkong, international, airport, hkg, date, phot, ]\n",
              "\n",
              "[5 rows x 10 columns]"
            ]
          },
          "metadata": {
            "tags": []
          },
          "execution_count": 76
        }
      ]
    },
    {
      "cell_type": "markdown",
      "metadata": {
        "id": "DQBoBiOTnMsG"
      },
      "source": [
        "In fact, it can be clearly seen that lemmatizing better than stemming since some the words transformed to meaningless words such as kindli instead of being kindly which is the correct form of the word "
      ]
    },
    {
      "cell_type": "markdown",
      "metadata": {
        "id": "s6CyjKuCalCc"
      },
      "source": [
        "Now let's compare the number of unique words in Lemmatizing and Stemming"
      ]
    },
    {
      "cell_type": "code",
      "metadata": {
        "colab": {
          "base_uri": "https://localhost:8080/"
        },
        "id": "vVyPn-JjY4mc",
        "outputId": "506623c7-be9f-472f-b44a-f4c5b9de706f"
      },
      "source": [
        "listOfWordsLemma = list(itertools.chain.from_iterable(airline['Tweet_lemmatized']))\n",
        "listOfWordsStem = list(itertools.chain.from_iterable(airline['Tweet_stemmed']))\n",
        "\n",
        "#number of unique tokens\n",
        "print(\"Unique words aft Lemm :\"+str(len(set(listOfWordsLemma))))\n",
        "print(\"Unique words aft Stem :\"+str(len(set(listOfWordsStem))))"
      ],
      "execution_count": null,
      "outputs": [
        {
          "output_type": "stream",
          "text": [
            "Unique words aft Lemm :4396\n",
            "Unique words aft Stem :3899\n"
          ],
          "name": "stdout"
        }
      ]
    },
    {
      "cell_type": "markdown",
      "metadata": {
        "id": "9ta44Djjn4K7"
      },
      "source": [
        "Surprisingly the Stemmed version got a lesser number of words. Therefore I will have to move forward with ['Tweet_lemmatized'] data set."
      ]
    },
    {
      "cell_type": "markdown",
      "metadata": {
        "id": "1t1JXvDIYSMo"
      },
      "source": [
        "#Remove stopwords"
      ]
    },
    {
      "cell_type": "code",
      "metadata": {
        "colab": {
          "base_uri": "https://localhost:8080/"
        },
        "id": "C_9nfiibo2sn",
        "outputId": "331d4544-bf3a-476e-92fa-3defbba9c359"
      },
      "source": [
        "nltk.download('stopwords')\n",
        "stopword = nltk.corpus.stopwords.words('english')"
      ],
      "execution_count": null,
      "outputs": [
        {
          "output_type": "stream",
          "text": [
            "[nltk_data] Downloading package stopwords to /root/nltk_data...\n",
            "[nltk_data]   Package stopwords is already up-to-date!\n"
          ],
          "name": "stdout"
        }
      ]
    },
    {
      "cell_type": "code",
      "metadata": {
        "id": "wVMd789EpKa-"
      },
      "source": [
        "def remove_stopwords(text):\n",
        "    text = [word for word in text if word not in stopword]\n",
        "    return text"
      ],
      "execution_count": null,
      "outputs": []
    },
    {
      "cell_type": "code",
      "metadata": {
        "colab": {
          "base_uri": "https://localhost:8080/",
          "height": 476
        },
        "id": "S5xdTfuSX7di",
        "outputId": "1be5901f-0bb3-4263-90c4-2dd39936ec5f"
      },
      "source": [
        "airline['text'] = airline['Tweet_lemmatized'].apply(lambda x: remove_stopwords(x))\n",
        "airline.head(5)"
      ],
      "execution_count": null,
      "outputs": [
        {
          "output_type": "execute_result",
          "data": {
            "text/html": [
              "<div>\n",
              "<style scoped>\n",
              "    .dataframe tbody tr th:only-of-type {\n",
              "        vertical-align: middle;\n",
              "    }\n",
              "\n",
              "    .dataframe tbody tr th {\n",
              "        vertical-align: top;\n",
              "    }\n",
              "\n",
              "    .dataframe thead th {\n",
              "        text-align: right;\n",
              "    }\n",
              "</style>\n",
              "<table border=\"1\" class=\"dataframe\">\n",
              "  <thead>\n",
              "    <tr style=\"text-align: right;\">\n",
              "      <th></th>\n",
              "      <th>tweet_id</th>\n",
              "      <th>created_at</th>\n",
              "      <th>text</th>\n",
              "      <th>likes</th>\n",
              "      <th>retweeted</th>\n",
              "      <th>location</th>\n",
              "      <th>language</th>\n",
              "      <th>airline</th>\n",
              "      <th>Tweet_stemmed</th>\n",
              "      <th>Tweet_lemmatized</th>\n",
              "    </tr>\n",
              "  </thead>\n",
              "  <tbody>\n",
              "    <tr>\n",
              "      <th>0</th>\n",
              "      <td>1337012314470457345</td>\n",
              "      <td>2020-12-10 12:32:30</td>\n",
              "      <td>[singapore, airline, increase, tie, india, vistara, india, singapore, travel, travelphotography,...</td>\n",
              "      <td>0</td>\n",
              "      <td>False</td>\n",
              "      <td>Taiwan</td>\n",
              "      <td>en</td>\n",
              "      <td>#Singapore _Airlines</td>\n",
              "      <td>[singapor, airlin, increas, tie, with, india, s, vistara, india, singapor, travel, travelphotogr...</td>\n",
              "      <td>[singapore, airline, increase, tie, with, india, s, vistara, india, singapore, travel, travelpho...</td>\n",
              "    </tr>\n",
              "    <tr>\n",
              "      <th>1</th>\n",
              "      <td>1336883367103651841</td>\n",
              "      <td>2020-12-10 04:00:07</td>\n",
              "      <td>[changi, ready, vaccine, distribution, asia, singapore, air, cargo, hub, gear, safe, transportat...</td>\n",
              "      <td>0</td>\n",
              "      <td>False</td>\n",
              "      <td>Central Region, Singapore</td>\n",
              "      <td>en</td>\n",
              "      <td>#Singapore _Airlines</td>\n",
              "      <td>[changi, readi, for, vaccin, distribut, in, asia, singapor, air, cargo, hub, gear, up, for, the,...</td>\n",
              "      <td>[changi, ready, for, vaccine, distribution, in, asia, singapore, air, cargo, hub, gear, up, for,...</td>\n",
              "    </tr>\n",
              "    <tr>\n",
              "      <th>2</th>\n",
              "      <td>1336659677971505153</td>\n",
              "      <td>2020-12-09 13:11:15</td>\n",
              "      <td>[singapore, airline, strengthen, tie, india, vistara, singapore, india, sia, asia, ]</td>\n",
              "      <td>0</td>\n",
              "      <td>False</td>\n",
              "      <td>Taiwan</td>\n",
              "      <td>en</td>\n",
              "      <td>#Singapore _Airlines</td>\n",
              "      <td>[singapor, airlin, to, strengthen, tie, with, india, s, vistara, singapor, india, sia, asia, ]</td>\n",
              "      <td>[singapore, airline, to, strengthen, tie, with, india, s, vistara, singapore, india, sia, asia, ]</td>\n",
              "    </tr>\n",
              "    <tr>\n",
              "      <th>3</th>\n",
              "      <td>1336565658373373953</td>\n",
              "      <td>2020-12-09 06:57:39</td>\n",
              "      <td>[, amp, jointly, put, together, changireadytaskforce, governmentagencies, cargohandlers, ]</td>\n",
              "      <td>0</td>\n",
              "      <td>False</td>\n",
              "      <td>NaN</td>\n",
              "      <td>en</td>\n",
              "      <td>#Singapore _Airlines</td>\n",
              "      <td>[, amp, have, jointli, put, togeth, a, changireadytaskforc, of, governmentag, cargohandl, ]</td>\n",
              "      <td>[, amp, have, jointly, put, together, a, changireadytaskforce, of, governmentagencies, cargohand...</td>\n",
              "    </tr>\n",
              "    <tr>\n",
              "      <th>4</th>\n",
              "      <td>1336548533856477184</td>\n",
              "      <td>2020-12-09 05:49:36</td>\n",
              "      <td>[singapore, airline, vswh, boeing, ber, hongkong, international, airport, hkg, date, phot, ]</td>\n",
              "      <td>2</td>\n",
              "      <td>False</td>\n",
              "      <td>NaN</td>\n",
              "      <td>en</td>\n",
              "      <td>#Singapore _Airlines</td>\n",
              "      <td>[singapor, airlin, vswh, boe, ber, hongkong, intern, airport, hkg, date, phot, ]</td>\n",
              "      <td>[singapore, airline, vswh, boeing, ber, hongkong, international, airport, hkg, date, phot, ]</td>\n",
              "    </tr>\n",
              "  </tbody>\n",
              "</table>\n",
              "</div>"
            ],
            "text/plain": [
              "              tweet_id  ...                                                                                     Tweet_lemmatized\n",
              "0  1337012314470457345  ...  [singapore, airline, increase, tie, with, india, s, vistara, india, singapore, travel, travelpho...\n",
              "1  1336883367103651841  ...  [changi, ready, for, vaccine, distribution, in, asia, singapore, air, cargo, hub, gear, up, for,...\n",
              "2  1336659677971505153  ...    [singapore, airline, to, strengthen, tie, with, india, s, vistara, singapore, india, sia, asia, ]\n",
              "3  1336565658373373953  ...  [, amp, have, jointly, put, together, a, changireadytaskforce, of, governmentagencies, cargohand...\n",
              "4  1336548533856477184  ...         [singapore, airline, vswh, boeing, ber, hongkong, international, airport, hkg, date, phot, ]\n",
              "\n",
              "[5 rows x 10 columns]"
            ]
          },
          "metadata": {
            "tags": []
          },
          "execution_count": 77
        }
      ]
    },
    {
      "cell_type": "markdown",
      "metadata": {
        "id": "mFhrHbmNpaa9"
      },
      "source": [
        "Now, let's check the number of unique words has reduced or not. Ideally, there has to be some reduction. "
      ]
    },
    {
      "cell_type": "code",
      "metadata": {
        "colab": {
          "base_uri": "https://localhost:8080/"
        },
        "id": "o5ZmiTYlpfQL",
        "outputId": "e2405b52-a961-4cc3-ffae-216dfba42987"
      },
      "source": [
        "listOfWordsNonstop = list(itertools.chain.from_iterable(airline['text']))\n",
        "\n",
        "#number of unique tokens in first data set\n",
        "print(\"Unique words aft removing stop words :\"+str(len(set(listOfWordsNonstop))))"
      ],
      "execution_count": null,
      "outputs": [
        {
          "output_type": "stream",
          "text": [
            "Unique words aft removing stop words :4270\n"
          ],
          "name": "stdout"
        }
      ]
    },
    {
      "cell_type": "markdown",
      "metadata": {
        "id": "hWVR54lARts6"
      },
      "source": [
        "#remove short words "
      ]
    },
    {
      "cell_type": "code",
      "metadata": {
        "id": "1yw965tXVYTy"
      },
      "source": [
        "def shortword(text):\n",
        "    text = [word for word in text if len(word)>3]\n",
        "    return text"
      ],
      "execution_count": null,
      "outputs": []
    },
    {
      "cell_type": "code",
      "metadata": {
        "colab": {
          "base_uri": "https://localhost:8080/",
          "height": 476
        },
        "id": "FOAM5S-nVB8b",
        "outputId": "d5195a07-7ada-4e2e-a02e-0a0445bca53e"
      },
      "source": [
        "airline['text'] = airline['text'].apply(lambda x: shortword(x))\n",
        "airline.head(5)"
      ],
      "execution_count": null,
      "outputs": [
        {
          "output_type": "execute_result",
          "data": {
            "text/html": [
              "<div>\n",
              "<style scoped>\n",
              "    .dataframe tbody tr th:only-of-type {\n",
              "        vertical-align: middle;\n",
              "    }\n",
              "\n",
              "    .dataframe tbody tr th {\n",
              "        vertical-align: top;\n",
              "    }\n",
              "\n",
              "    .dataframe thead th {\n",
              "        text-align: right;\n",
              "    }\n",
              "</style>\n",
              "<table border=\"1\" class=\"dataframe\">\n",
              "  <thead>\n",
              "    <tr style=\"text-align: right;\">\n",
              "      <th></th>\n",
              "      <th>tweet_id</th>\n",
              "      <th>created_at</th>\n",
              "      <th>text</th>\n",
              "      <th>likes</th>\n",
              "      <th>retweeted</th>\n",
              "      <th>location</th>\n",
              "      <th>language</th>\n",
              "      <th>airline</th>\n",
              "      <th>Tweet_stemmed</th>\n",
              "      <th>Tweet_lemmatized</th>\n",
              "    </tr>\n",
              "  </thead>\n",
              "  <tbody>\n",
              "    <tr>\n",
              "      <th>0</th>\n",
              "      <td>1337012314470457345</td>\n",
              "      <td>2020-12-10 12:32:30</td>\n",
              "      <td>[singapore, airline, increase, india, vistara, india, singapore, travel, travelphotography, trav...</td>\n",
              "      <td>0</td>\n",
              "      <td>False</td>\n",
              "      <td>Taiwan</td>\n",
              "      <td>en</td>\n",
              "      <td>#Singapore _Airlines</td>\n",
              "      <td>[singapor, airlin, increas, tie, with, india, s, vistara, india, singapor, travel, travelphotogr...</td>\n",
              "      <td>[singapore, airline, increase, tie, with, india, s, vistara, india, singapore, travel, travelpho...</td>\n",
              "    </tr>\n",
              "    <tr>\n",
              "      <th>1</th>\n",
              "      <td>1336883367103651841</td>\n",
              "      <td>2020-12-10 04:00:07</td>\n",
              "      <td>[changi, ready, vaccine, distribution, asia, singapore, cargo, gear, safe, transportation]</td>\n",
              "      <td>0</td>\n",
              "      <td>False</td>\n",
              "      <td>Central Region, Singapore</td>\n",
              "      <td>en</td>\n",
              "      <td>#Singapore _Airlines</td>\n",
              "      <td>[changi, readi, for, vaccin, distribut, in, asia, singapor, air, cargo, hub, gear, up, for, the,...</td>\n",
              "      <td>[changi, ready, for, vaccine, distribution, in, asia, singapore, air, cargo, hub, gear, up, for,...</td>\n",
              "    </tr>\n",
              "    <tr>\n",
              "      <th>2</th>\n",
              "      <td>1336659677971505153</td>\n",
              "      <td>2020-12-09 13:11:15</td>\n",
              "      <td>[singapore, airline, strengthen, india, vistara, singapore, india, asia]</td>\n",
              "      <td>0</td>\n",
              "      <td>False</td>\n",
              "      <td>Taiwan</td>\n",
              "      <td>en</td>\n",
              "      <td>#Singapore _Airlines</td>\n",
              "      <td>[singapor, airlin, to, strengthen, tie, with, india, s, vistara, singapor, india, sia, asia, ]</td>\n",
              "      <td>[singapore, airline, to, strengthen, tie, with, india, s, vistara, singapore, india, sia, asia, ]</td>\n",
              "    </tr>\n",
              "    <tr>\n",
              "      <th>3</th>\n",
              "      <td>1336565658373373953</td>\n",
              "      <td>2020-12-09 06:57:39</td>\n",
              "      <td>[jointly, together, changireadytaskforce, governmentagencies, cargohandlers]</td>\n",
              "      <td>0</td>\n",
              "      <td>False</td>\n",
              "      <td>NaN</td>\n",
              "      <td>en</td>\n",
              "      <td>#Singapore _Airlines</td>\n",
              "      <td>[, amp, have, jointli, put, togeth, a, changireadytaskforc, of, governmentag, cargohandl, ]</td>\n",
              "      <td>[, amp, have, jointly, put, together, a, changireadytaskforce, of, governmentagencies, cargohand...</td>\n",
              "    </tr>\n",
              "    <tr>\n",
              "      <th>4</th>\n",
              "      <td>1336548533856477184</td>\n",
              "      <td>2020-12-09 05:49:36</td>\n",
              "      <td>[singapore, airline, vswh, boeing, hongkong, international, airport, date, phot]</td>\n",
              "      <td>2</td>\n",
              "      <td>False</td>\n",
              "      <td>NaN</td>\n",
              "      <td>en</td>\n",
              "      <td>#Singapore _Airlines</td>\n",
              "      <td>[singapor, airlin, vswh, boe, ber, hongkong, intern, airport, hkg, date, phot, ]</td>\n",
              "      <td>[singapore, airline, vswh, boeing, ber, hongkong, international, airport, hkg, date, phot, ]</td>\n",
              "    </tr>\n",
              "  </tbody>\n",
              "</table>\n",
              "</div>"
            ],
            "text/plain": [
              "              tweet_id  ...                                                                                     Tweet_lemmatized\n",
              "0  1337012314470457345  ...  [singapore, airline, increase, tie, with, india, s, vistara, india, singapore, travel, travelpho...\n",
              "1  1336883367103651841  ...  [changi, ready, for, vaccine, distribution, in, asia, singapore, air, cargo, hub, gear, up, for,...\n",
              "2  1336659677971505153  ...    [singapore, airline, to, strengthen, tie, with, india, s, vistara, singapore, india, sia, asia, ]\n",
              "3  1336565658373373953  ...  [, amp, have, jointly, put, together, a, changireadytaskforce, of, governmentagencies, cargohand...\n",
              "4  1336548533856477184  ...         [singapore, airline, vswh, boeing, ber, hongkong, international, airport, hkg, date, phot, ]\n",
              "\n",
              "[5 rows x 10 columns]"
            ]
          },
          "metadata": {
            "tags": []
          },
          "execution_count": 78
        }
      ]
    },
    {
      "cell_type": "markdown",
      "metadata": {
        "id": "9a6u7R3N3tz2"
      },
      "source": [
        "#Convert tokens into string"
      ]
    },
    {
      "cell_type": "code",
      "metadata": {
        "id": "2tauy8rU3QdQ"
      },
      "source": [
        "def join_tokens(tokens):\n",
        "  document = \" \".join([word for word in tokens if not word.isdigit()])\n",
        "  return document"
      ],
      "execution_count": null,
      "outputs": []
    },
    {
      "cell_type": "code",
      "metadata": {
        "id": "a38Hh_XjL7tw",
        "colab": {
          "base_uri": "https://localhost:8080/",
          "height": 578
        },
        "outputId": "6136194b-c984-4b18-fe73-c1f8220380ea"
      },
      "source": [
        "airline['string_text'] = airline['text'].apply(lambda x: join_tokens(x))\n",
        "airline.head(5)"
      ],
      "execution_count": null,
      "outputs": [
        {
          "output_type": "execute_result",
          "data": {
            "text/html": [
              "<div>\n",
              "<style scoped>\n",
              "    .dataframe tbody tr th:only-of-type {\n",
              "        vertical-align: middle;\n",
              "    }\n",
              "\n",
              "    .dataframe tbody tr th {\n",
              "        vertical-align: top;\n",
              "    }\n",
              "\n",
              "    .dataframe thead th {\n",
              "        text-align: right;\n",
              "    }\n",
              "</style>\n",
              "<table border=\"1\" class=\"dataframe\">\n",
              "  <thead>\n",
              "    <tr style=\"text-align: right;\">\n",
              "      <th></th>\n",
              "      <th>tweet_id</th>\n",
              "      <th>created_at</th>\n",
              "      <th>text</th>\n",
              "      <th>likes</th>\n",
              "      <th>retweeted</th>\n",
              "      <th>location</th>\n",
              "      <th>language</th>\n",
              "      <th>airline</th>\n",
              "      <th>Tweet_stemmed</th>\n",
              "      <th>Tweet_lemmatized</th>\n",
              "      <th>string_text</th>\n",
              "    </tr>\n",
              "  </thead>\n",
              "  <tbody>\n",
              "    <tr>\n",
              "      <th>0</th>\n",
              "      <td>1337012314470457345</td>\n",
              "      <td>2020-12-10 12:32:30</td>\n",
              "      <td>[singapore, airline, increase, india, vistara, india, singapore, travel, travelphotography, trav...</td>\n",
              "      <td>0</td>\n",
              "      <td>False</td>\n",
              "      <td>Taiwan</td>\n",
              "      <td>en</td>\n",
              "      <td>#Singapore _Airlines</td>\n",
              "      <td>[singapor, airlin, increas, tie, with, india, s, vistara, india, singapor, travel, travelphotogr...</td>\n",
              "      <td>[singapore, airline, increase, tie, with, india, s, vistara, india, singapore, travel, travelpho...</td>\n",
              "      <td>singapore airline increase india vistara india singapore travel travelphotography traveling</td>\n",
              "    </tr>\n",
              "    <tr>\n",
              "      <th>1</th>\n",
              "      <td>1336883367103651841</td>\n",
              "      <td>2020-12-10 04:00:07</td>\n",
              "      <td>[changi, ready, vaccine, distribution, asia, singapore, cargo, gear, safe, transportation]</td>\n",
              "      <td>0</td>\n",
              "      <td>False</td>\n",
              "      <td>Central Region, Singapore</td>\n",
              "      <td>en</td>\n",
              "      <td>#Singapore _Airlines</td>\n",
              "      <td>[changi, readi, for, vaccin, distribut, in, asia, singapor, air, cargo, hub, gear, up, for, the,...</td>\n",
              "      <td>[changi, ready, for, vaccine, distribution, in, asia, singapore, air, cargo, hub, gear, up, for,...</td>\n",
              "      <td>changi ready vaccine distribution asia singapore cargo gear safe transportation</td>\n",
              "    </tr>\n",
              "    <tr>\n",
              "      <th>2</th>\n",
              "      <td>1336659677971505153</td>\n",
              "      <td>2020-12-09 13:11:15</td>\n",
              "      <td>[singapore, airline, strengthen, india, vistara, singapore, india, asia]</td>\n",
              "      <td>0</td>\n",
              "      <td>False</td>\n",
              "      <td>Taiwan</td>\n",
              "      <td>en</td>\n",
              "      <td>#Singapore _Airlines</td>\n",
              "      <td>[singapor, airlin, to, strengthen, tie, with, india, s, vistara, singapor, india, sia, asia, ]</td>\n",
              "      <td>[singapore, airline, to, strengthen, tie, with, india, s, vistara, singapore, india, sia, asia, ]</td>\n",
              "      <td>singapore airline strengthen india vistara singapore india asia</td>\n",
              "    </tr>\n",
              "    <tr>\n",
              "      <th>3</th>\n",
              "      <td>1336565658373373953</td>\n",
              "      <td>2020-12-09 06:57:39</td>\n",
              "      <td>[jointly, together, changireadytaskforce, governmentagencies, cargohandlers]</td>\n",
              "      <td>0</td>\n",
              "      <td>False</td>\n",
              "      <td>NaN</td>\n",
              "      <td>en</td>\n",
              "      <td>#Singapore _Airlines</td>\n",
              "      <td>[, amp, have, jointli, put, togeth, a, changireadytaskforc, of, governmentag, cargohandl, ]</td>\n",
              "      <td>[, amp, have, jointly, put, together, a, changireadytaskforce, of, governmentagencies, cargohand...</td>\n",
              "      <td>jointly together changireadytaskforce governmentagencies cargohandlers</td>\n",
              "    </tr>\n",
              "    <tr>\n",
              "      <th>4</th>\n",
              "      <td>1336548533856477184</td>\n",
              "      <td>2020-12-09 05:49:36</td>\n",
              "      <td>[singapore, airline, vswh, boeing, hongkong, international, airport, date, phot]</td>\n",
              "      <td>2</td>\n",
              "      <td>False</td>\n",
              "      <td>NaN</td>\n",
              "      <td>en</td>\n",
              "      <td>#Singapore _Airlines</td>\n",
              "      <td>[singapor, airlin, vswh, boe, ber, hongkong, intern, airport, hkg, date, phot, ]</td>\n",
              "      <td>[singapore, airline, vswh, boeing, ber, hongkong, international, airport, hkg, date, phot, ]</td>\n",
              "      <td>singapore airline vswh boeing hongkong international airport date phot</td>\n",
              "    </tr>\n",
              "  </tbody>\n",
              "</table>\n",
              "</div>"
            ],
            "text/plain": [
              "              tweet_id  ...                                                                                  string_text\n",
              "0  1337012314470457345  ...  singapore airline increase india vistara india singapore travel travelphotography traveling\n",
              "1  1336883367103651841  ...              changi ready vaccine distribution asia singapore cargo gear safe transportation\n",
              "2  1336659677971505153  ...                              singapore airline strengthen india vistara singapore india asia\n",
              "3  1336565658373373953  ...                       jointly together changireadytaskforce governmentagencies cargohandlers\n",
              "4  1336548533856477184  ...                       singapore airline vswh boeing hongkong international airport date phot\n",
              "\n",
              "[5 rows x 11 columns]"
            ]
          },
          "metadata": {
            "tags": []
          },
          "execution_count": 79
        }
      ]
    },
    {
      "cell_type": "markdown",
      "metadata": {
        "id": "SqgRsUYhR7Gm"
      },
      "source": [
        "#spelling correction"
      ]
    },
    {
      "cell_type": "code",
      "metadata": {
        "colab": {
          "base_uri": "https://localhost:8080/",
          "height": 358
        },
        "id": "-_zCIB9aXGNz",
        "outputId": "1eee5b44-5eee-48eb-ad40-1c178856cec5"
      },
      "source": [
        "from textblob import TextBlob\n",
        "airline['text'] = airline['text'].apply(lambda x: str(TextBlob(x).correct()))"
      ],
      "execution_count": null,
      "outputs": [
        {
          "output_type": "error",
          "ename": "KeyboardInterrupt",
          "evalue": "ignored",
          "traceback": [
            "\u001b[0;31m---------------------------------------------------------------------------\u001b[0m",
            "\u001b[0;31mKeyboardInterrupt\u001b[0m                         Traceback (most recent call last)",
            "\u001b[0;32m<ipython-input-168-f2ddd8e99fbc>\u001b[0m in \u001b[0;36m<module>\u001b[0;34m()\u001b[0m\n\u001b[1;32m      1\u001b[0m \u001b[0;32mfrom\u001b[0m \u001b[0mtextblob\u001b[0m \u001b[0;32mimport\u001b[0m \u001b[0mTextBlob\u001b[0m\u001b[0;34m\u001b[0m\u001b[0;34m\u001b[0m\u001b[0m\n\u001b[0;32m----> 2\u001b[0;31m \u001b[0mairline\u001b[0m\u001b[0;34m[\u001b[0m\u001b[0;34m'text'\u001b[0m\u001b[0;34m]\u001b[0m \u001b[0;34m=\u001b[0m \u001b[0mairline\u001b[0m\u001b[0;34m[\u001b[0m\u001b[0;34m'text'\u001b[0m\u001b[0;34m]\u001b[0m\u001b[0;34m.\u001b[0m\u001b[0mapply\u001b[0m\u001b[0;34m(\u001b[0m\u001b[0;32mlambda\u001b[0m \u001b[0mx\u001b[0m\u001b[0;34m:\u001b[0m \u001b[0mstr\u001b[0m\u001b[0;34m(\u001b[0m\u001b[0mTextBlob\u001b[0m\u001b[0;34m(\u001b[0m\u001b[0mx\u001b[0m\u001b[0;34m)\u001b[0m\u001b[0;34m.\u001b[0m\u001b[0mcorrect\u001b[0m\u001b[0;34m(\u001b[0m\u001b[0;34m)\u001b[0m\u001b[0;34m)\u001b[0m\u001b[0;34m)\u001b[0m\u001b[0;34m\u001b[0m\u001b[0;34m\u001b[0m\u001b[0m\n\u001b[0m",
            "\u001b[0;32m/usr/local/lib/python3.6/dist-packages/pandas/core/series.py\u001b[0m in \u001b[0;36mapply\u001b[0;34m(self, func, convert_dtype, args, **kwds)\u001b[0m\n\u001b[1;32m   4211\u001b[0m             \u001b[0;32melse\u001b[0m\u001b[0;34m:\u001b[0m\u001b[0;34m\u001b[0m\u001b[0;34m\u001b[0m\u001b[0m\n\u001b[1;32m   4212\u001b[0m                 \u001b[0mvalues\u001b[0m \u001b[0;34m=\u001b[0m \u001b[0mself\u001b[0m\u001b[0;34m.\u001b[0m\u001b[0mastype\u001b[0m\u001b[0;34m(\u001b[0m\u001b[0mobject\u001b[0m\u001b[0;34m)\u001b[0m\u001b[0;34m.\u001b[0m\u001b[0m_values\u001b[0m\u001b[0;34m\u001b[0m\u001b[0;34m\u001b[0m\u001b[0m\n\u001b[0;32m-> 4213\u001b[0;31m                 \u001b[0mmapped\u001b[0m \u001b[0;34m=\u001b[0m \u001b[0mlib\u001b[0m\u001b[0;34m.\u001b[0m\u001b[0mmap_infer\u001b[0m\u001b[0;34m(\u001b[0m\u001b[0mvalues\u001b[0m\u001b[0;34m,\u001b[0m \u001b[0mf\u001b[0m\u001b[0;34m,\u001b[0m \u001b[0mconvert\u001b[0m\u001b[0;34m=\u001b[0m\u001b[0mconvert_dtype\u001b[0m\u001b[0;34m)\u001b[0m\u001b[0;34m\u001b[0m\u001b[0;34m\u001b[0m\u001b[0m\n\u001b[0m\u001b[1;32m   4214\u001b[0m \u001b[0;34m\u001b[0m\u001b[0m\n\u001b[1;32m   4215\u001b[0m         \u001b[0;32mif\u001b[0m \u001b[0mlen\u001b[0m\u001b[0;34m(\u001b[0m\u001b[0mmapped\u001b[0m\u001b[0;34m)\u001b[0m \u001b[0;32mand\u001b[0m \u001b[0misinstance\u001b[0m\u001b[0;34m(\u001b[0m\u001b[0mmapped\u001b[0m\u001b[0;34m[\u001b[0m\u001b[0;36m0\u001b[0m\u001b[0;34m]\u001b[0m\u001b[0;34m,\u001b[0m \u001b[0mSeries\u001b[0m\u001b[0;34m)\u001b[0m\u001b[0;34m:\u001b[0m\u001b[0;34m\u001b[0m\u001b[0;34m\u001b[0m\u001b[0m\n",
            "\u001b[0;32mpandas/_libs/lib.pyx\u001b[0m in \u001b[0;36mpandas._libs.lib.map_infer\u001b[0;34m()\u001b[0m\n",
            "\u001b[0;32m<ipython-input-168-f2ddd8e99fbc>\u001b[0m in \u001b[0;36m<lambda>\u001b[0;34m(x)\u001b[0m\n\u001b[1;32m      1\u001b[0m \u001b[0;32mfrom\u001b[0m \u001b[0mtextblob\u001b[0m \u001b[0;32mimport\u001b[0m \u001b[0mTextBlob\u001b[0m\u001b[0;34m\u001b[0m\u001b[0;34m\u001b[0m\u001b[0m\n\u001b[0;32m----> 2\u001b[0;31m \u001b[0mairline\u001b[0m\u001b[0;34m[\u001b[0m\u001b[0;34m'text'\u001b[0m\u001b[0;34m]\u001b[0m \u001b[0;34m=\u001b[0m \u001b[0mairline\u001b[0m\u001b[0;34m[\u001b[0m\u001b[0;34m'text'\u001b[0m\u001b[0;34m]\u001b[0m\u001b[0;34m.\u001b[0m\u001b[0mapply\u001b[0m\u001b[0;34m(\u001b[0m\u001b[0;32mlambda\u001b[0m \u001b[0mx\u001b[0m\u001b[0;34m:\u001b[0m \u001b[0mstr\u001b[0m\u001b[0;34m(\u001b[0m\u001b[0mTextBlob\u001b[0m\u001b[0;34m(\u001b[0m\u001b[0mx\u001b[0m\u001b[0;34m)\u001b[0m\u001b[0;34m.\u001b[0m\u001b[0mcorrect\u001b[0m\u001b[0;34m(\u001b[0m\u001b[0;34m)\u001b[0m\u001b[0;34m)\u001b[0m\u001b[0;34m)\u001b[0m\u001b[0;34m\u001b[0m\u001b[0;34m\u001b[0m\u001b[0m\n\u001b[0m",
            "\u001b[0;32m/usr/local/lib/python3.6/dist-packages/textblob/blob.py\u001b[0m in \u001b[0;36mcorrect\u001b[0;34m(self)\u001b[0m\n\u001b[1;32m    578\u001b[0m         \u001b[0mtokens\u001b[0m \u001b[0;34m=\u001b[0m \u001b[0mnltk\u001b[0m\u001b[0;34m.\u001b[0m\u001b[0mtokenize\u001b[0m\u001b[0;34m.\u001b[0m\u001b[0mregexp_tokenize\u001b[0m\u001b[0;34m(\u001b[0m\u001b[0mself\u001b[0m\u001b[0;34m.\u001b[0m\u001b[0mraw\u001b[0m\u001b[0;34m,\u001b[0m \u001b[0;34mr\"\\w+|[^\\w\\s]|\\s\"\u001b[0m\u001b[0;34m)\u001b[0m\u001b[0;34m\u001b[0m\u001b[0;34m\u001b[0m\u001b[0m\n\u001b[1;32m    579\u001b[0m         \u001b[0mcorrected\u001b[0m \u001b[0;34m=\u001b[0m \u001b[0;34m(\u001b[0m\u001b[0mWord\u001b[0m\u001b[0;34m(\u001b[0m\u001b[0mw\u001b[0m\u001b[0;34m)\u001b[0m\u001b[0;34m.\u001b[0m\u001b[0mcorrect\u001b[0m\u001b[0;34m(\u001b[0m\u001b[0;34m)\u001b[0m \u001b[0;32mfor\u001b[0m \u001b[0mw\u001b[0m \u001b[0;32min\u001b[0m \u001b[0mtokens\u001b[0m\u001b[0;34m)\u001b[0m\u001b[0;34m\u001b[0m\u001b[0;34m\u001b[0m\u001b[0m\n\u001b[0;32m--> 580\u001b[0;31m         \u001b[0mret\u001b[0m \u001b[0;34m=\u001b[0m \u001b[0;34m''\u001b[0m\u001b[0;34m.\u001b[0m\u001b[0mjoin\u001b[0m\u001b[0;34m(\u001b[0m\u001b[0mcorrected\u001b[0m\u001b[0;34m)\u001b[0m\u001b[0;34m\u001b[0m\u001b[0;34m\u001b[0m\u001b[0m\n\u001b[0m\u001b[1;32m    581\u001b[0m         \u001b[0;32mreturn\u001b[0m \u001b[0mself\u001b[0m\u001b[0;34m.\u001b[0m\u001b[0m__class__\u001b[0m\u001b[0;34m(\u001b[0m\u001b[0mret\u001b[0m\u001b[0;34m)\u001b[0m\u001b[0;34m\u001b[0m\u001b[0;34m\u001b[0m\u001b[0m\n\u001b[1;32m    582\u001b[0m \u001b[0;34m\u001b[0m\u001b[0m\n",
            "\u001b[0;32m/usr/local/lib/python3.6/dist-packages/textblob/blob.py\u001b[0m in \u001b[0;36m<genexpr>\u001b[0;34m(.0)\u001b[0m\n\u001b[1;32m    577\u001b[0m         \u001b[0;31m# regex matches: word or punctuation or whitespace\u001b[0m\u001b[0;34m\u001b[0m\u001b[0;34m\u001b[0m\u001b[0;34m\u001b[0m\u001b[0m\n\u001b[1;32m    578\u001b[0m         \u001b[0mtokens\u001b[0m \u001b[0;34m=\u001b[0m \u001b[0mnltk\u001b[0m\u001b[0;34m.\u001b[0m\u001b[0mtokenize\u001b[0m\u001b[0;34m.\u001b[0m\u001b[0mregexp_tokenize\u001b[0m\u001b[0;34m(\u001b[0m\u001b[0mself\u001b[0m\u001b[0;34m.\u001b[0m\u001b[0mraw\u001b[0m\u001b[0;34m,\u001b[0m \u001b[0;34mr\"\\w+|[^\\w\\s]|\\s\"\u001b[0m\u001b[0;34m)\u001b[0m\u001b[0;34m\u001b[0m\u001b[0;34m\u001b[0m\u001b[0m\n\u001b[0;32m--> 579\u001b[0;31m         \u001b[0mcorrected\u001b[0m \u001b[0;34m=\u001b[0m \u001b[0;34m(\u001b[0m\u001b[0mWord\u001b[0m\u001b[0;34m(\u001b[0m\u001b[0mw\u001b[0m\u001b[0;34m)\u001b[0m\u001b[0;34m.\u001b[0m\u001b[0mcorrect\u001b[0m\u001b[0;34m(\u001b[0m\u001b[0;34m)\u001b[0m \u001b[0;32mfor\u001b[0m \u001b[0mw\u001b[0m \u001b[0;32min\u001b[0m \u001b[0mtokens\u001b[0m\u001b[0;34m)\u001b[0m\u001b[0;34m\u001b[0m\u001b[0;34m\u001b[0m\u001b[0m\n\u001b[0m\u001b[1;32m    580\u001b[0m         \u001b[0mret\u001b[0m \u001b[0;34m=\u001b[0m \u001b[0;34m''\u001b[0m\u001b[0;34m.\u001b[0m\u001b[0mjoin\u001b[0m\u001b[0;34m(\u001b[0m\u001b[0mcorrected\u001b[0m\u001b[0;34m)\u001b[0m\u001b[0;34m\u001b[0m\u001b[0;34m\u001b[0m\u001b[0m\n\u001b[1;32m    581\u001b[0m         \u001b[0;32mreturn\u001b[0m \u001b[0mself\u001b[0m\u001b[0;34m.\u001b[0m\u001b[0m__class__\u001b[0m\u001b[0;34m(\u001b[0m\u001b[0mret\u001b[0m\u001b[0;34m)\u001b[0m\u001b[0;34m\u001b[0m\u001b[0;34m\u001b[0m\u001b[0m\n",
            "\u001b[0;32m/usr/local/lib/python3.6/dist-packages/textblob/blob.py\u001b[0m in \u001b[0;36mcorrect\u001b[0;34m(self)\u001b[0m\n\u001b[1;32m    125\u001b[0m         \u001b[0;34m.\u001b[0m\u001b[0;34m.\u001b[0m \u001b[0mversionadded\u001b[0m\u001b[0;34m:\u001b[0m\u001b[0;34m:\u001b[0m \u001b[0;36m0.6\u001b[0m\u001b[0;36m.0\u001b[0m\u001b[0;34m\u001b[0m\u001b[0;34m\u001b[0m\u001b[0m\n\u001b[1;32m    126\u001b[0m         '''\n\u001b[0;32m--> 127\u001b[0;31m         \u001b[0;32mreturn\u001b[0m \u001b[0mWord\u001b[0m\u001b[0;34m(\u001b[0m\u001b[0mself\u001b[0m\u001b[0;34m.\u001b[0m\u001b[0mspellcheck\u001b[0m\u001b[0;34m(\u001b[0m\u001b[0;34m)\u001b[0m\u001b[0;34m[\u001b[0m\u001b[0;36m0\u001b[0m\u001b[0;34m]\u001b[0m\u001b[0;34m[\u001b[0m\u001b[0;36m0\u001b[0m\u001b[0;34m]\u001b[0m\u001b[0;34m)\u001b[0m\u001b[0;34m\u001b[0m\u001b[0;34m\u001b[0m\u001b[0m\n\u001b[0m\u001b[1;32m    128\u001b[0m \u001b[0;34m\u001b[0m\u001b[0m\n\u001b[1;32m    129\u001b[0m     \u001b[0;34m@\u001b[0m\u001b[0mcached_property\u001b[0m\u001b[0;34m\u001b[0m\u001b[0;34m\u001b[0m\u001b[0m\n",
            "\u001b[0;32m/usr/local/lib/python3.6/dist-packages/textblob/blob.py\u001b[0m in \u001b[0;36mspellcheck\u001b[0;34m(self)\u001b[0m\n\u001b[1;32m    117\u001b[0m         \u001b[0;34m.\u001b[0m\u001b[0;34m.\u001b[0m \u001b[0mversionadded\u001b[0m\u001b[0;34m:\u001b[0m\u001b[0;34m:\u001b[0m \u001b[0;36m0.6\u001b[0m\u001b[0;36m.0\u001b[0m\u001b[0;34m\u001b[0m\u001b[0;34m\u001b[0m\u001b[0m\n\u001b[1;32m    118\u001b[0m         '''\n\u001b[0;32m--> 119\u001b[0;31m         \u001b[0;32mreturn\u001b[0m \u001b[0msuggest\u001b[0m\u001b[0;34m(\u001b[0m\u001b[0mself\u001b[0m\u001b[0;34m.\u001b[0m\u001b[0mstring\u001b[0m\u001b[0;34m)\u001b[0m\u001b[0;34m\u001b[0m\u001b[0;34m\u001b[0m\u001b[0m\n\u001b[0m\u001b[1;32m    120\u001b[0m \u001b[0;34m\u001b[0m\u001b[0m\n\u001b[1;32m    121\u001b[0m     \u001b[0;32mdef\u001b[0m \u001b[0mcorrect\u001b[0m\u001b[0;34m(\u001b[0m\u001b[0mself\u001b[0m\u001b[0;34m)\u001b[0m\u001b[0;34m:\u001b[0m\u001b[0;34m\u001b[0m\u001b[0;34m\u001b[0m\u001b[0m\n",
            "\u001b[0;32m/usr/local/lib/python3.6/dist-packages/textblob/en/__init__.py\u001b[0m in \u001b[0;36msuggest\u001b[0;34m(w)\u001b[0m\n\u001b[1;32m    121\u001b[0m     \"\"\" Returns a list of (word, confidence)-tuples of spelling corrections.\n\u001b[1;32m    122\u001b[0m     \"\"\"\n\u001b[0;32m--> 123\u001b[0;31m     \u001b[0;32mreturn\u001b[0m \u001b[0mspelling\u001b[0m\u001b[0;34m.\u001b[0m\u001b[0msuggest\u001b[0m\u001b[0;34m(\u001b[0m\u001b[0mw\u001b[0m\u001b[0;34m)\u001b[0m\u001b[0;34m\u001b[0m\u001b[0;34m\u001b[0m\u001b[0m\n\u001b[0m\u001b[1;32m    124\u001b[0m \u001b[0;34m\u001b[0m\u001b[0m\n\u001b[1;32m    125\u001b[0m \u001b[0;32mdef\u001b[0m \u001b[0mpolarity\u001b[0m\u001b[0;34m(\u001b[0m\u001b[0ms\u001b[0m\u001b[0;34m,\u001b[0m \u001b[0;34m**\u001b[0m\u001b[0mkwargs\u001b[0m\u001b[0;34m)\u001b[0m\u001b[0;34m:\u001b[0m\u001b[0;34m\u001b[0m\u001b[0;34m\u001b[0m\u001b[0m\n",
            "\u001b[0;32m/usr/local/lib/python3.6/dist-packages/textblob/_text.py\u001b[0m in \u001b[0;36msuggest\u001b[0;34m(self, w)\u001b[0m\n\u001b[1;32m   1396\u001b[0m         \u001b[0mcandidates\u001b[0m \u001b[0;34m=\u001b[0m \u001b[0mself\u001b[0m\u001b[0;34m.\u001b[0m\u001b[0m_known\u001b[0m\u001b[0;34m(\u001b[0m\u001b[0;34m[\u001b[0m\u001b[0mw\u001b[0m\u001b[0;34m]\u001b[0m\u001b[0;34m)\u001b[0m\u001b[0;31m \u001b[0m\u001b[0;31m\\\u001b[0m\u001b[0;34m\u001b[0m\u001b[0;34m\u001b[0m\u001b[0m\n\u001b[1;32m   1397\u001b[0m                   \u001b[0;32mor\u001b[0m \u001b[0mself\u001b[0m\u001b[0;34m.\u001b[0m\u001b[0m_known\u001b[0m\u001b[0;34m(\u001b[0m\u001b[0mself\u001b[0m\u001b[0;34m.\u001b[0m\u001b[0m_edit1\u001b[0m\u001b[0;34m(\u001b[0m\u001b[0mw\u001b[0m\u001b[0;34m)\u001b[0m\u001b[0;34m)\u001b[0m\u001b[0;31m \u001b[0m\u001b[0;31m\\\u001b[0m\u001b[0;34m\u001b[0m\u001b[0;34m\u001b[0m\u001b[0m\n\u001b[0;32m-> 1398\u001b[0;31m                   \u001b[0;32mor\u001b[0m \u001b[0mself\u001b[0m\u001b[0;34m.\u001b[0m\u001b[0m_known\u001b[0m\u001b[0;34m(\u001b[0m\u001b[0mself\u001b[0m\u001b[0;34m.\u001b[0m\u001b[0m_edit2\u001b[0m\u001b[0;34m(\u001b[0m\u001b[0mw\u001b[0m\u001b[0;34m)\u001b[0m\u001b[0;34m)\u001b[0m\u001b[0;31m \u001b[0m\u001b[0;31m\\\u001b[0m\u001b[0;34m\u001b[0m\u001b[0;34m\u001b[0m\u001b[0m\n\u001b[0m\u001b[1;32m   1399\u001b[0m                   \u001b[0;32mor\u001b[0m \u001b[0;34m[\u001b[0m\u001b[0mw\u001b[0m\u001b[0;34m]\u001b[0m\u001b[0;34m\u001b[0m\u001b[0;34m\u001b[0m\u001b[0m\n\u001b[1;32m   1400\u001b[0m         \u001b[0mcandidates\u001b[0m \u001b[0;34m=\u001b[0m \u001b[0;34m[\u001b[0m\u001b[0;34m(\u001b[0m\u001b[0mself\u001b[0m\u001b[0;34m.\u001b[0m\u001b[0mget\u001b[0m\u001b[0;34m(\u001b[0m\u001b[0mc\u001b[0m\u001b[0;34m,\u001b[0m \u001b[0;36m0.0\u001b[0m\u001b[0;34m)\u001b[0m\u001b[0;34m,\u001b[0m \u001b[0mc\u001b[0m\u001b[0;34m)\u001b[0m \u001b[0;32mfor\u001b[0m \u001b[0mc\u001b[0m \u001b[0;32min\u001b[0m \u001b[0mcandidates\u001b[0m\u001b[0;34m]\u001b[0m\u001b[0;34m\u001b[0m\u001b[0;34m\u001b[0m\u001b[0m\n",
            "\u001b[0;32m/usr/local/lib/python3.6/dist-packages/textblob/_text.py\u001b[0m in \u001b[0;36m_edit2\u001b[0;34m(self, w)\u001b[0m\n\u001b[1;32m   1373\u001b[0m         \u001b[0;31m# Of all spelling errors, 99% is covered by edit distance 2.\u001b[0m\u001b[0;34m\u001b[0m\u001b[0;34m\u001b[0m\u001b[0;34m\u001b[0m\u001b[0m\n\u001b[1;32m   1374\u001b[0m         \u001b[0;31m# Only keep candidates that are actually known words (20% speedup).\u001b[0m\u001b[0;34m\u001b[0m\u001b[0;34m\u001b[0m\u001b[0;34m\u001b[0m\u001b[0m\n\u001b[0;32m-> 1375\u001b[0;31m         \u001b[0;32mreturn\u001b[0m \u001b[0mset\u001b[0m\u001b[0;34m(\u001b[0m\u001b[0me2\u001b[0m \u001b[0;32mfor\u001b[0m \u001b[0me1\u001b[0m \u001b[0;32min\u001b[0m \u001b[0mself\u001b[0m\u001b[0;34m.\u001b[0m\u001b[0m_edit1\u001b[0m\u001b[0;34m(\u001b[0m\u001b[0mw\u001b[0m\u001b[0;34m)\u001b[0m \u001b[0;32mfor\u001b[0m \u001b[0me2\u001b[0m \u001b[0;32min\u001b[0m \u001b[0mself\u001b[0m\u001b[0;34m.\u001b[0m\u001b[0m_edit1\u001b[0m\u001b[0;34m(\u001b[0m\u001b[0me1\u001b[0m\u001b[0;34m)\u001b[0m \u001b[0;32mif\u001b[0m \u001b[0me2\u001b[0m \u001b[0;32min\u001b[0m \u001b[0mself\u001b[0m\u001b[0;34m)\u001b[0m\u001b[0;34m\u001b[0m\u001b[0;34m\u001b[0m\u001b[0m\n\u001b[0m\u001b[1;32m   1376\u001b[0m \u001b[0;34m\u001b[0m\u001b[0m\n\u001b[1;32m   1377\u001b[0m     \u001b[0;32mdef\u001b[0m \u001b[0m_known\u001b[0m\u001b[0;34m(\u001b[0m\u001b[0mself\u001b[0m\u001b[0;34m,\u001b[0m \u001b[0mwords\u001b[0m\u001b[0;34m=\u001b[0m\u001b[0;34m[\u001b[0m\u001b[0;34m]\u001b[0m\u001b[0;34m)\u001b[0m\u001b[0;34m:\u001b[0m\u001b[0;34m\u001b[0m\u001b[0;34m\u001b[0m\u001b[0m\n",
            "\u001b[0;32m/usr/local/lib/python3.6/dist-packages/textblob/_text.py\u001b[0m in \u001b[0;36m<genexpr>\u001b[0;34m(.0)\u001b[0m\n\u001b[1;32m   1373\u001b[0m         \u001b[0;31m# Of all spelling errors, 99% is covered by edit distance 2.\u001b[0m\u001b[0;34m\u001b[0m\u001b[0;34m\u001b[0m\u001b[0;34m\u001b[0m\u001b[0m\n\u001b[1;32m   1374\u001b[0m         \u001b[0;31m# Only keep candidates that are actually known words (20% speedup).\u001b[0m\u001b[0;34m\u001b[0m\u001b[0;34m\u001b[0m\u001b[0;34m\u001b[0m\u001b[0m\n\u001b[0;32m-> 1375\u001b[0;31m         \u001b[0;32mreturn\u001b[0m \u001b[0mset\u001b[0m\u001b[0;34m(\u001b[0m\u001b[0me2\u001b[0m \u001b[0;32mfor\u001b[0m \u001b[0me1\u001b[0m \u001b[0;32min\u001b[0m \u001b[0mself\u001b[0m\u001b[0;34m.\u001b[0m\u001b[0m_edit1\u001b[0m\u001b[0;34m(\u001b[0m\u001b[0mw\u001b[0m\u001b[0;34m)\u001b[0m \u001b[0;32mfor\u001b[0m \u001b[0me2\u001b[0m \u001b[0;32min\u001b[0m \u001b[0mself\u001b[0m\u001b[0;34m.\u001b[0m\u001b[0m_edit1\u001b[0m\u001b[0;34m(\u001b[0m\u001b[0me1\u001b[0m\u001b[0;34m)\u001b[0m \u001b[0;32mif\u001b[0m \u001b[0me2\u001b[0m \u001b[0;32min\u001b[0m \u001b[0mself\u001b[0m\u001b[0;34m)\u001b[0m\u001b[0;34m\u001b[0m\u001b[0;34m\u001b[0m\u001b[0m\n\u001b[0m\u001b[1;32m   1376\u001b[0m \u001b[0;34m\u001b[0m\u001b[0m\n\u001b[1;32m   1377\u001b[0m     \u001b[0;32mdef\u001b[0m \u001b[0m_known\u001b[0m\u001b[0;34m(\u001b[0m\u001b[0mself\u001b[0m\u001b[0;34m,\u001b[0m \u001b[0mwords\u001b[0m\u001b[0;34m=\u001b[0m\u001b[0;34m[\u001b[0m\u001b[0;34m]\u001b[0m\u001b[0;34m)\u001b[0m\u001b[0;34m:\u001b[0m\u001b[0;34m\u001b[0m\u001b[0;34m\u001b[0m\u001b[0m\n",
            "\u001b[0;32m/usr/local/lib/python3.6/dist-packages/textblob/_text.py\u001b[0m in \u001b[0;36m__contains__\u001b[0;34m(self, *args)\u001b[0m\n\u001b[1;32m     94\u001b[0m         \u001b[0;32mreturn\u001b[0m \u001b[0mself\u001b[0m\u001b[0;34m.\u001b[0m\u001b[0m_lazy\u001b[0m\u001b[0;34m(\u001b[0m\u001b[0;34m\"__iter__\"\u001b[0m\u001b[0;34m)\u001b[0m\u001b[0;34m\u001b[0m\u001b[0;34m\u001b[0m\u001b[0m\n\u001b[1;32m     95\u001b[0m     \u001b[0;32mdef\u001b[0m \u001b[0m__contains__\u001b[0m\u001b[0;34m(\u001b[0m\u001b[0mself\u001b[0m\u001b[0;34m,\u001b[0m \u001b[0;34m*\u001b[0m\u001b[0margs\u001b[0m\u001b[0;34m)\u001b[0m\u001b[0;34m:\u001b[0m\u001b[0;34m\u001b[0m\u001b[0;34m\u001b[0m\u001b[0m\n\u001b[0;32m---> 96\u001b[0;31m         \u001b[0;32mreturn\u001b[0m \u001b[0mself\u001b[0m\u001b[0;34m.\u001b[0m\u001b[0m_lazy\u001b[0m\u001b[0;34m(\u001b[0m\u001b[0;34m\"__contains__\"\u001b[0m\u001b[0;34m,\u001b[0m \u001b[0;34m*\u001b[0m\u001b[0margs\u001b[0m\u001b[0;34m)\u001b[0m\u001b[0;34m\u001b[0m\u001b[0;34m\u001b[0m\u001b[0m\n\u001b[0m\u001b[1;32m     97\u001b[0m     \u001b[0;32mdef\u001b[0m \u001b[0m__getitem__\u001b[0m\u001b[0;34m(\u001b[0m\u001b[0mself\u001b[0m\u001b[0;34m,\u001b[0m \u001b[0;34m*\u001b[0m\u001b[0margs\u001b[0m\u001b[0;34m)\u001b[0m\u001b[0;34m:\u001b[0m\u001b[0;34m\u001b[0m\u001b[0;34m\u001b[0m\u001b[0m\n\u001b[1;32m     98\u001b[0m         \u001b[0;32mreturn\u001b[0m \u001b[0mself\u001b[0m\u001b[0;34m.\u001b[0m\u001b[0m_lazy\u001b[0m\u001b[0;34m(\u001b[0m\u001b[0;34m\"__getitem__\"\u001b[0m\u001b[0;34m,\u001b[0m \u001b[0;34m*\u001b[0m\u001b[0margs\u001b[0m\u001b[0;34m)\u001b[0m\u001b[0;34m\u001b[0m\u001b[0;34m\u001b[0m\u001b[0m\n",
            "\u001b[0;32m/usr/local/lib/python3.6/dist-packages/textblob/_text.py\u001b[0m in \u001b[0;36m_lazy\u001b[0;34m(self, method, *args)\u001b[0m\n\u001b[1;32m     85\u001b[0m             \u001b[0mself\u001b[0m\u001b[0;34m.\u001b[0m\u001b[0mload\u001b[0m\u001b[0;34m(\u001b[0m\u001b[0;34m)\u001b[0m\u001b[0;34m\u001b[0m\u001b[0;34m\u001b[0m\u001b[0m\n\u001b[1;32m     86\u001b[0m             \u001b[0msetattr\u001b[0m\u001b[0;34m(\u001b[0m\u001b[0mself\u001b[0m\u001b[0;34m,\u001b[0m \u001b[0mmethod\u001b[0m\u001b[0;34m,\u001b[0m \u001b[0mtypes\u001b[0m\u001b[0;34m.\u001b[0m\u001b[0mMethodType\u001b[0m\u001b[0;34m(\u001b[0m\u001b[0mgetattr\u001b[0m\u001b[0;34m(\u001b[0m\u001b[0mdict\u001b[0m\u001b[0;34m,\u001b[0m \u001b[0mmethod\u001b[0m\u001b[0;34m)\u001b[0m\u001b[0;34m,\u001b[0m \u001b[0mself\u001b[0m\u001b[0;34m)\u001b[0m\u001b[0;34m)\u001b[0m\u001b[0;34m\u001b[0m\u001b[0;34m\u001b[0m\u001b[0m\n\u001b[0;32m---> 87\u001b[0;31m         \u001b[0;32mreturn\u001b[0m \u001b[0mgetattr\u001b[0m\u001b[0;34m(\u001b[0m\u001b[0mdict\u001b[0m\u001b[0;34m,\u001b[0m \u001b[0mmethod\u001b[0m\u001b[0;34m)\u001b[0m\u001b[0;34m(\u001b[0m\u001b[0mself\u001b[0m\u001b[0;34m,\u001b[0m \u001b[0;34m*\u001b[0m\u001b[0margs\u001b[0m\u001b[0;34m)\u001b[0m\u001b[0;34m\u001b[0m\u001b[0;34m\u001b[0m\u001b[0m\n\u001b[0m\u001b[1;32m     88\u001b[0m \u001b[0;34m\u001b[0m\u001b[0m\n\u001b[1;32m     89\u001b[0m     \u001b[0;32mdef\u001b[0m \u001b[0m__repr__\u001b[0m\u001b[0;34m(\u001b[0m\u001b[0mself\u001b[0m\u001b[0;34m)\u001b[0m\u001b[0;34m:\u001b[0m\u001b[0;34m\u001b[0m\u001b[0;34m\u001b[0m\u001b[0m\n",
            "\u001b[0;31mKeyboardInterrupt\u001b[0m: "
          ]
        }
      ]
    },
    {
      "cell_type": "markdown",
      "metadata": {
        "id": "gjOty28NqtDV"
      },
      "source": [
        "#Removing words with fewer frequencies"
      ]
    },
    {
      "cell_type": "code",
      "metadata": {
        "id": "bRJD86RqqwXh"
      },
      "source": [
        ""
      ],
      "execution_count": null,
      "outputs": []
    },
    {
      "cell_type": "markdown",
      "metadata": {
        "id": "pyg2c1BQqxL3"
      },
      "source": [
        "#Word cloud visualization"
      ]
    },
    {
      "cell_type": "code",
      "metadata": {
        "colab": {
          "base_uri": "https://localhost:8080/",
          "height": 232
        },
        "id": "uv4W2IuqZdj7",
        "outputId": "22a808ab-8ffa-4111-f99e-0d644ed6d178"
      },
      "source": [
        "allWords = ''.join([str(twts) for twts in airline['text']])\n",
        "wordCloud = WordCloud(width=500, height=300, random_state=21, max_font_size=110).generate(allWords)\n",
        "\n",
        "\n",
        "plt.imshow(wordCloud, interpolation=\"bilinear\")\n",
        "plt.axis('off')\n",
        "plt.show()"
      ],
      "execution_count": null,
      "outputs": [
        {
          "output_type": "display_data",
          "data": {
            "image/png": "[encoded data removed]",
            "text/plain": [
              "<Figure size 432x288 with 1 Axes>"
            ]
          },
          "metadata": {
            "tags": [],
            "needs_background": "light"
          }
        }
      ]
    },
    {
      "cell_type": "markdown",
      "metadata": {
        "id": "HHFvl8GxrUWm"
      },
      "source": [
        "Removing columns because we need only the last process from cleaning the data"
      ]
    },
    {
      "cell_type": "code",
      "metadata": {
        "id": "L7TAVcqSrThN"
      },
      "source": [
        "airline = airline.drop(['Tweet_lemmatized', 'Tweet_stemmed'], axis=1)"
      ],
      "execution_count": null,
      "outputs": []
    },
    {
      "cell_type": "code",
      "metadata": {
        "colab": {
          "base_uri": "https://localhost:8080/",
          "height": 408
        },
        "id": "cl2wbALr9bI-",
        "outputId": "11e098f2-3418-49f1-f245-9606535bbbc4"
      },
      "source": [
        "airline.sample(5)"
      ],
      "execution_count": null,
      "outputs": [
        {
          "output_type": "execute_result",
          "data": {
            "text/html": [
              "<div>\n",
              "<style scoped>\n",
              "    .dataframe tbody tr th:only-of-type {\n",
              "        vertical-align: middle;\n",
              "    }\n",
              "\n",
              "    .dataframe tbody tr th {\n",
              "        vertical-align: top;\n",
              "    }\n",
              "\n",
              "    .dataframe thead th {\n",
              "        text-align: right;\n",
              "    }\n",
              "</style>\n",
              "<table border=\"1\" class=\"dataframe\">\n",
              "  <thead>\n",
              "    <tr style=\"text-align: right;\">\n",
              "      <th></th>\n",
              "      <th>tweet_id</th>\n",
              "      <th>created_at</th>\n",
              "      <th>text</th>\n",
              "      <th>likes</th>\n",
              "      <th>retweeted</th>\n",
              "      <th>location</th>\n",
              "      <th>language</th>\n",
              "      <th>airline</th>\n",
              "      <th>string_text</th>\n",
              "    </tr>\n",
              "  </thead>\n",
              "  <tbody>\n",
              "    <tr>\n",
              "      <th>553</th>\n",
              "      <td>1333805173030916103</td>\n",
              "      <td>2020-12-01 16:08:28</td>\n",
              "      <td>[worst, airline, world, doesnt, return, money, canceled, flight, britishairways]</td>\n",
              "      <td>0</td>\n",
              "      <td>False</td>\n",
              "      <td>NaN</td>\n",
              "      <td>en</td>\n",
              "      <td>#britishairways</td>\n",
              "      <td>worst airline world doesnt return money canceled flight britishairways</td>\n",
              "    </tr>\n",
              "    <tr>\n",
              "      <th>240</th>\n",
              "      <td>1334619073271906304</td>\n",
              "      <td>2020-12-03 22:02:37</td>\n",
              "      <td>[amazing, half, full, flight, check, size, carryon, gate, americanairlines]</td>\n",
              "      <td>1</td>\n",
              "      <td>False</td>\n",
              "      <td>Texas, USA</td>\n",
              "      <td>en</td>\n",
              "      <td>#Americanairlines</td>\n",
              "      <td>amazing half full flight check size carryon gate americanairlines</td>\n",
              "    </tr>\n",
              "    <tr>\n",
              "      <th>331</th>\n",
              "      <td>1335743146144174081</td>\n",
              "      <td>2020-12-07 00:29:17</td>\n",
              "      <td>[wirecard, enron, germany, wirecard, finance, enron, fraud, financialplanning, germany, australia]</td>\n",
              "      <td>0</td>\n",
              "      <td>False</td>\n",
              "      <td>Dadaocheng, Taipei</td>\n",
              "      <td>en</td>\n",
              "      <td>#qatarairways</td>\n",
              "      <td>wirecard enron germany wirecard finance enron fraud financialplanning germany australia</td>\n",
              "    </tr>\n",
              "    <tr>\n",
              "      <th>272</th>\n",
              "      <td>1334520022790791170</td>\n",
              "      <td>2020-12-03 15:29:02</td>\n",
              "      <td>[americanairlines, revers, policy, imposed, weight, limit, wheelchair, accessibility, inclusion]</td>\n",
              "      <td>0</td>\n",
              "      <td>False</td>\n",
              "      <td>NaN</td>\n",
              "      <td>en</td>\n",
              "      <td>#Americanairlines</td>\n",
              "      <td>americanairlines revers policy imposed weight limit wheelchair accessibility inclusion</td>\n",
              "    </tr>\n",
              "    <tr>\n",
              "      <th>386</th>\n",
              "      <td>1335232192218361858</td>\n",
              "      <td>2020-12-05 14:38:56</td>\n",
              "      <td>[airway, wheres, refund, expecting, since, august, despite, promise]</td>\n",
              "      <td>1</td>\n",
              "      <td>False</td>\n",
              "      <td>NaN</td>\n",
              "      <td>en</td>\n",
              "      <td>#britishairways</td>\n",
              "      <td>airway wheres refund expecting since august despite promise</td>\n",
              "    </tr>\n",
              "  </tbody>\n",
              "</table>\n",
              "</div>"
            ],
            "text/plain": [
              "                tweet_id  ...                                                                              string_text\n",
              "553  1333805173030916103  ...                   worst airline world doesnt return money canceled flight britishairways\n",
              "240  1334619073271906304  ...                        amazing half full flight check size carryon gate americanairlines\n",
              "331  1335743146144174081  ...  wirecard enron germany wirecard finance enron fraud financialplanning germany australia\n",
              "272  1334520022790791170  ...   americanairlines revers policy imposed weight limit wheelchair accessibility inclusion\n",
              "386  1335232192218361858  ...                              airway wheres refund expecting since august despite promise\n",
              "\n",
              "[5 rows x 9 columns]"
            ]
          },
          "metadata": {
            "tags": []
          },
          "execution_count": 81
        }
      ]
    },
    {
      "cell_type": "markdown",
      "metadata": {
        "id": "Y2b2xDgsvOKM"
      },
      "source": [
        "#Save the data set"
      ]
    },
    {
      "cell_type": "code",
      "metadata": {
        "id": "Ifag5vI2ZUyB"
      },
      "source": [
        "airline.to_csv('airline.csv')\n",
        "!cp airline.csv \"./gdrive/My Drive/datasets/new_datasets/\""
      ],
      "execution_count": null,
      "outputs": []
    }
  ]
}