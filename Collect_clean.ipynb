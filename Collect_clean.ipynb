{
  "nbformat": 4,
  "nbformat_minor": 0,
  "metadata": {
    "colab": {
      "name": "Collect_clean.ipynb",
      "provenance": [],
      "collapsed_sections": [],
      "authorship_tag": "ABX9TyMQTVH9SOvqb+KZ8TDPu+5X",
      "include_colab_link": true
    },
    "kernelspec": {
      "name": "python3",
      "display_name": "Python 3"
    }
  },
  "cells": [
    {
      "cell_type": "markdown",
      "metadata": {
        "id": "view-in-github",
        "colab_type": "text"
      },
      "source": [
        "<a href=\"https://colab.research.google.com/github/buthaina279/DS_Capstone_NLP/blob/main/Collect_clean.ipynb\" target=\"_parent\"><img src=\"https://colab.research.google.com/assets/colab-badge.svg\" alt=\"Open In Colab\"/></a>"
      ]
    },
    {
      "cell_type": "code",
      "metadata": {
        "id": "trMq9TeJe4VX"
      },
      "source": [
        "# Import all needed libraries\n",
        "import tweepy                   # Python wrapper around Twitter API\n",
        "from google.colab import drive  # to mount Drive to Colab notebook\n",
        "import json\n",
        "import csv\n",
        "from datetime import date\n",
        "from datetime import datetime\n",
        "import time\n",
        "import itertools "
      ],
      "execution_count": 2,
      "outputs": []
    },
    {
      "cell_type": "code",
      "metadata": {
        "id": "fpwspMND3VaM",
        "colab": {
          "base_uri": "https://localhost:8080/"
        },
        "outputId": "94706703-4298-44ad-c7e8-6ea0fda54648"
      },
      "source": [
        "# Import Libraries\n",
        "\n",
        "from textblob import TextBlob\n",
        "import sys\n",
        "import tweepy\n",
        "import matplotlib.pyplot as plt\n",
        "import pandas as pd\n",
        "import numpy as np\n",
        "import os\n",
        "import nltk\n",
        "#import pycountry\n",
        "import re\n",
        "import string\n",
        "\n",
        "from wordcloud import WordCloud, STOPWORDS\n",
        "from PIL import Image\n",
        "from nltk.sentiment.vader import SentimentIntensityAnalyzer\n",
        "#from langdetect import detect\n",
        "from nltk.stem import SnowballStemmer\n",
        "from nltk.sentiment.vader import SentimentIntensityAnalyzer\n",
        "from sklearn.feature_extraction.text import CountVectorizer"
      ],
      "execution_count": 3,
      "outputs": [
        {
          "output_type": "stream",
          "text": [
            "/usr/local/lib/python3.6/dist-packages/nltk/twitter/__init__.py:20: UserWarning: The twython library has not been installed. Some functionality from the twitter package will not be available.\n",
            "  warnings.warn(\"The twython library has not been installed. \"\n"
          ],
          "name": "stderr"
        }
      ]
    },
    {
      "cell_type": "code",
      "metadata": {
        "id": "yBHSJYtuRlwq"
      },
      "source": [
        "from sklearn.feature_extraction.text import CountVectorizer\n",
        "import nltk \n",
        "import string\n",
        "import re\n",
        "%matplotlib inline\n",
        "pd.set_option('display.max_colwidth', 100)"
      ],
      "execution_count": 4,
      "outputs": []
    },
    {
      "cell_type": "code",
      "metadata": {
        "colab": {
          "base_uri": "https://localhost:8080/"
        },
        "id": "23aiW2uc5FEL",
        "outputId": "8aee9ad2-3413-4600-ee3f-2809f04e9f98"
      },
      "source": [
        "import nltk\n",
        "nltk.download('vader_lexicon')"
      ],
      "execution_count": 5,
      "outputs": [
        {
          "output_type": "stream",
          "text": [
            "[nltk_data] Downloading package vader_lexicon to /root/nltk_data...\n",
            "[nltk_data]   Package vader_lexicon is already up-to-date!\n"
          ],
          "name": "stdout"
        },
        {
          "output_type": "execute_result",
          "data": {
            "text/plain": [
              "True"
            ]
          },
          "metadata": {
            "tags": []
          },
          "execution_count": 5
        }
      ]
    },
    {
      "cell_type": "code",
      "metadata": {
        "colab": {
          "base_uri": "https://localhost:8080/"
        },
        "id": "hvqCIx4yl9Hu",
        "outputId": "bbe089dc-28ae-41f2-cc8c-c280fabde555"
      },
      "source": [
        "# Connect Google Drive to Colab\n",
        "drive.mount('/content/gdrive')\n",
        "# Create a variable to store the data path on your drive\n",
        "path = './gdrive/My Drive/datasets/twitter_analysis'"
      ],
      "execution_count": 7,
      "outputs": [
        {
          "output_type": "stream",
          "text": [
            "Drive already mounted at /content/gdrive; to attempt to forcibly remount, call drive.mount(\"/content/gdrive\", force_remount=True).\n"
          ],
          "name": "stdout"
        }
      ]
    },
    {
      "cell_type": "code",
      "metadata": {
        "id": "VLYWMUPJmmGh"
      },
      "source": [
        "consumer_key=\"5iwJ0kh5IkWudh2kXbbV0s5eM\"\n",
        "consumer_secret=\"DSZGordR8WpGbNJbxwEwMBvJ4E4RJRbemzLQ0vpVArAzSuoLqY\"\n",
        "access_token=\"799815406462652416-V4f33Mp2G81GeSLeWVHQgGtp2djIuyK\"\n",
        "access_token_secret=\"UH4iGaQhmNiKVeo2scTmgZneTQuRDR10SSoyivGS0qU0K\"\n",
        "\n",
        "\n",
        "auth = tweepy.OAuthHandler(consumer_key,consumer_secret)\n",
        "auth.set_access_token(access_token, access_token_secret)\n",
        "api = tweepy.API(auth)"
      ],
      "execution_count": 6,
      "outputs": []
    },
    {
      "cell_type": "code",
      "metadata": {
        "id": "f-5CJLw-60N7"
      },
      "source": [
        "# Helper function to get all tweets of a specified user\n",
        "# NOTE:This method only allows access to the most recent 3200 tweets\n",
        "# Source: https://gist.github.com/yanofsky/5436496\n",
        "def get_all_tweets(screen_name):\n",
        "  # initialize a list to hold all the Tweets\n",
        "  alltweets = []\n",
        "  # make initial request for most recent tweets \n",
        "  # (200 is the maximum allowed count)\n",
        "  new_tweets = api.user_timeline(screen_name = screen_name,count=200, lang = \"en\")\n",
        "  # save most recent tweets\n",
        "  alltweets.extend(new_tweets)\n",
        "  # save the id of the oldest tweet less one to avoid duplication\n",
        "  oldest = alltweets[-1].id - 1\n",
        "  # keep grabbing tweets until there are no tweets left\n",
        "  while len(new_tweets) > 0:\n",
        "    print(\"getting tweets before %s\" % (oldest))\n",
        "    # all subsequent requests use the max_id param to prevent\n",
        "    # duplicates\n",
        "    \n",
        "    new_tweets = api.user_timeline(screen_name = screen_name,count=200,max_id=oldest, lang = \"en\")\n",
        "    #just if lan tweetes \n",
        "    # save most recent tweets\n",
        "    \n",
        "    alltweets.extend(new_tweets)\n",
        "    # update the id of the oldest tweet less one\n",
        "    oldest = alltweets[-1].id - 1\n",
        "    print(\"...%s tweets downloaded so far\" % (len(alltweets)))\n",
        "    ### END OF WHILE LOOP ###\n",
        "  # transform the tweepy tweets into a 2D array that will \n",
        "  # populate the csv\n",
        "  outtweets = [[tweet.id_str, tweet.created_at, tweet.text, tweet.favorite_count,\n",
        "                tweet.retweeted, tweet.user.location, tweet.lang, screen_name] \n",
        "               for tweet in alltweets]\n",
        "  # write the csv\n",
        "  with open(path + '/%s_tweets_en.csv' % screen_name, 'w') as f:\n",
        "    writer = csv.writer(f)\n",
        "    writer.writerow([\"tweet_id\",\"created_at\",\"text\",\"likes\",\"retweeted\", \"location\", \"language\" , \"airline\"])\n",
        "    writer.writerows(outtweets)\n",
        "  pass"
      ],
      "execution_count": 23,
      "outputs": []
    },
    {
      "cell_type": "code",
      "metadata": {
        "id": "INh4lHly7hQv"
      },
      "source": [
        "get_all_tweets(\"Saudi_airlines\")"
      ],
      "execution_count": null,
      "outputs": []
    },
    {
      "cell_type": "code",
      "metadata": {
        "id": "09LO2MO5B146"
      },
      "source": [
        "saudia_airlines = pd.read_csv(\"./gdrive/My Drive/datasets/twitter_analysis/Saudi_airlines_tweets.csv\")"
      ],
      "execution_count": 7,
      "outputs": []
    },
    {
      "cell_type": "code",
      "metadata": {
        "colab": {
          "base_uri": "https://localhost:8080/",
          "height": 529
        },
        "id": "paymIhP7Crwc",
        "outputId": "5d1d684f-ad5a-4842-94c0-cbe55277092a"
      },
      "source": [
        "saudia_airlines.sample(10)"
      ],
      "execution_count": null,
      "outputs": [
        {
          "output_type": "execute_result",
          "data": {
            "text/html": [
              "<div>\n",
              "<style scoped>\n",
              "    .dataframe tbody tr th:only-of-type {\n",
              "        vertical-align: middle;\n",
              "    }\n",
              "\n",
              "    .dataframe tbody tr th {\n",
              "        vertical-align: top;\n",
              "    }\n",
              "\n",
              "    .dataframe thead th {\n",
              "        text-align: right;\n",
              "    }\n",
              "</style>\n",
              "<table border=\"1\" class=\"dataframe\">\n",
              "  <thead>\n",
              "    <tr style=\"text-align: right;\">\n",
              "      <th></th>\n",
              "      <th>tweet_id</th>\n",
              "      <th>created_at</th>\n",
              "      <th>text</th>\n",
              "      <th>likes</th>\n",
              "      <th>retweeted</th>\n",
              "      <th>location</th>\n",
              "      <th>language</th>\n",
              "      <th>airline</th>\n",
              "    </tr>\n",
              "  </thead>\n",
              "  <tbody>\n",
              "    <tr>\n",
              "      <th>1526</th>\n",
              "      <td>1326757022818299909</td>\n",
              "      <td>2020-11-12 05:21:38</td>\n",
              "      <td>@Hamad_Alkuraya https://t.co/l6rvOGSIr1</td>\n",
              "      <td>2</td>\n",
              "      <td>False</td>\n",
              "      <td>Saudi Arabia</td>\n",
              "      <td>und</td>\n",
              "      <td>Saudi_airlines</td>\n",
              "    </tr>\n",
              "    <tr>\n",
              "      <th>2881</th>\n",
              "      <td>1321019063318073344</td>\n",
              "      <td>2020-10-27 09:21:02</td>\n",
              "      <td>@Satish66015454 Dear guest, you can follow the flight schedule by visiting the Saudi website unt...</td>\n",
              "      <td>0</td>\n",
              "      <td>False</td>\n",
              "      <td>Saudi Arabia</td>\n",
              "      <td>en</td>\n",
              "      <td>Saudi_airlines</td>\n",
              "    </tr>\n",
              "    <tr>\n",
              "      <th>868</th>\n",
              "      <td>1330127332481388556</td>\n",
              "      <td>2020-11-21 12:34:03</td>\n",
              "      <td>@msm809 وعليكم السلام ضيفنا العزيز، ملاحظاتكم واقتراحاتكم القيمة هي محل اهتمامنا وتقديرنا، كما ي...</td>\n",
              "      <td>0</td>\n",
              "      <td>False</td>\n",
              "      <td>Saudi Arabia</td>\n",
              "      <td>ar</td>\n",
              "      <td>Saudi_airlines</td>\n",
              "    </tr>\n",
              "    <tr>\n",
              "      <th>2378</th>\n",
              "      <td>1322756496669790211</td>\n",
              "      <td>2020-11-01 04:24:59</td>\n",
              "      <td>@Gemini_kl ضيفنا العزيز، تم الرد عبر الخاص . شكراً لتواصلك</td>\n",
              "      <td>0</td>\n",
              "      <td>False</td>\n",
              "      <td>Saudi Arabia</td>\n",
              "      <td>ar</td>\n",
              "      <td>Saudi_airlines</td>\n",
              "    </tr>\n",
              "    <tr>\n",
              "      <th>2350</th>\n",
              "      <td>1322882929652092929</td>\n",
              "      <td>2020-11-01 12:47:23</td>\n",
              "      <td>@hadi54416 ضيفنا العزيز، يرجى ايضاح طلبك لنتمكن من خدمتك. شكراً لتواصلك</td>\n",
              "      <td>0</td>\n",
              "      <td>False</td>\n",
              "      <td>Saudi Arabia</td>\n",
              "      <td>ar</td>\n",
              "      <td>Saudi_airlines</td>\n",
              "    </tr>\n",
              "    <tr>\n",
              "      <th>1529</th>\n",
              "      <td>1326755572297986048</td>\n",
              "      <td>2020-11-12 05:15:53</td>\n",
              "      <td>@SalimGahlot_ Hello our valued guest, For more information regarding your inquire kindly visit h...</td>\n",
              "      <td>1</td>\n",
              "      <td>False</td>\n",
              "      <td>Saudi Arabia</td>\n",
              "      <td>en</td>\n",
              "      <td>Saudi_airlines</td>\n",
              "    </tr>\n",
              "    <tr>\n",
              "      <th>1593</th>\n",
              "      <td>1326257163002634240</td>\n",
              "      <td>2020-11-10 20:15:22</td>\n",
              "      <td>@fayzasafar ضيفنا العزيز، نأمل منك الاستفسار عبر \"المديرية العامة للجوازات السعودية\" عبر موقعهم ...</td>\n",
              "      <td>0</td>\n",
              "      <td>False</td>\n",
              "      <td>Saudi Arabia</td>\n",
              "      <td>ar</td>\n",
              "      <td>Saudi_airlines</td>\n",
              "    </tr>\n",
              "    <tr>\n",
              "      <th>2694</th>\n",
              "      <td>1321568104980353024</td>\n",
              "      <td>2020-10-28 21:42:44</td>\n",
              "      <td>@tilloi أهلاً ضيفنا العزيز، لخدمتك يرجى التواصل مع قسم الشحن الجوي عبر زيارة الرابط التاليhttps:...</td>\n",
              "      <td>0</td>\n",
              "      <td>False</td>\n",
              "      <td>Saudi Arabia</td>\n",
              "      <td>ar</td>\n",
              "      <td>Saudi_airlines</td>\n",
              "    </tr>\n",
              "    <tr>\n",
              "      <th>2898</th>\n",
              "      <td>1320948231552061440</td>\n",
              "      <td>2020-10-27 04:39:35</td>\n",
              "      <td>@harish28737 Dear guest, Kindly clarify your inquiry to assist you. Thank you</td>\n",
              "      <td>0</td>\n",
              "      <td>False</td>\n",
              "      <td>Saudi Arabia</td>\n",
              "      <td>en</td>\n",
              "      <td>Saudi_airlines</td>\n",
              "    </tr>\n",
              "    <tr>\n",
              "      <th>706</th>\n",
              "      <td>1330974868670705666</td>\n",
              "      <td>2020-11-23 20:41:51</td>\n",
              "      <td>@AC04x عليكم السلام ضيفنا العزيز، يرجى تزويدنا برقم التذكرة الإلكترونية والتي تبدأ بـ065 عبر الخ...</td>\n",
              "      <td>0</td>\n",
              "      <td>False</td>\n",
              "      <td>Saudi Arabia</td>\n",
              "      <td>ar</td>\n",
              "      <td>Saudi_airlines</td>\n",
              "    </tr>\n",
              "  </tbody>\n",
              "</table>\n",
              "</div>"
            ],
            "text/plain": [
              "                 tweet_id           created_at  ... language         airline\n",
              "1526  1326757022818299909  2020-11-12 05:21:38  ...      und  Saudi_airlines\n",
              "2881  1321019063318073344  2020-10-27 09:21:02  ...       en  Saudi_airlines\n",
              "868   1330127332481388556  2020-11-21 12:34:03  ...       ar  Saudi_airlines\n",
              "2378  1322756496669790211  2020-11-01 04:24:59  ...       ar  Saudi_airlines\n",
              "2350  1322882929652092929  2020-11-01 12:47:23  ...       ar  Saudi_airlines\n",
              "1529  1326755572297986048  2020-11-12 05:15:53  ...       en  Saudi_airlines\n",
              "1593  1326257163002634240  2020-11-10 20:15:22  ...       ar  Saudi_airlines\n",
              "2694  1321568104980353024  2020-10-28 21:42:44  ...       ar  Saudi_airlines\n",
              "2898  1320948231552061440  2020-10-27 04:39:35  ...       en  Saudi_airlines\n",
              "706   1330974868670705666  2020-11-23 20:41:51  ...       ar  Saudi_airlines\n",
              "\n",
              "[10 rows x 8 columns]"
            ]
          },
          "metadata": {
            "tags": []
          },
          "execution_count": 18
        }
      ]
    },
    {
      "cell_type": "code",
      "metadata": {
        "colab": {
          "base_uri": "https://localhost:8080/",
          "height": 562
        },
        "id": "8QqQ0EegC2Bn",
        "outputId": "8eec3fbf-93fd-4078-f42c-5807a870ca43"
      },
      "source": [
        "get_all_tweets(\"flynas\")"
      ],
      "execution_count": 24,
      "outputs": [
        {
          "output_type": "stream",
          "text": [
            "getting tweets before 1334618129184460801\n",
            "...400 tweets downloaded so far\n",
            "getting tweets before 1332942078486175751\n",
            "...600 tweets downloaded so far\n",
            "getting tweets before 1330985511696134158\n",
            "...800 tweets downloaded so far\n",
            "getting tweets before 1329101033721753601\n",
            "...1000 tweets downloaded so far\n",
            "getting tweets before 1327018240896241663\n",
            "...1200 tweets downloaded so far\n",
            "getting tweets before 1325445164362592255\n",
            "...1400 tweets downloaded so far\n",
            "getting tweets before 1323583067353718783\n",
            "...1600 tweets downloaded so far\n",
            "getting tweets before 1321993254137724933\n"
          ],
          "name": "stdout"
        },
        {
          "output_type": "error",
          "ename": "KeyboardInterrupt",
          "evalue": "ignored",
          "traceback": [
            "\u001b[0;31m---------------------------------------------------------------------------\u001b[0m",
            "\u001b[0;31mKeyboardInterrupt\u001b[0m                         Traceback (most recent call last)",
            "\u001b[0;32m<ipython-input-24-6742e5e7ed55>\u001b[0m in \u001b[0;36m<module>\u001b[0;34m()\u001b[0m\n\u001b[0;32m----> 1\u001b[0;31m \u001b[0mget_all_tweets\u001b[0m\u001b[0;34m(\u001b[0m\u001b[0;34m\"flynas\"\u001b[0m\u001b[0;34m)\u001b[0m\u001b[0;34m\u001b[0m\u001b[0;34m\u001b[0m\u001b[0m\n\u001b[0m",
            "\u001b[0;32m<ipython-input-23-012550e0a296>\u001b[0m in \u001b[0;36mget_all_tweets\u001b[0;34m(screen_name)\u001b[0m\n\u001b[1;32m     18\u001b[0m     \u001b[0;31m# duplicates\u001b[0m\u001b[0;34m\u001b[0m\u001b[0;34m\u001b[0m\u001b[0;34m\u001b[0m\u001b[0m\n\u001b[1;32m     19\u001b[0m \u001b[0;34m\u001b[0m\u001b[0m\n\u001b[0;32m---> 20\u001b[0;31m     \u001b[0mnew_tweets\u001b[0m \u001b[0;34m=\u001b[0m \u001b[0mapi\u001b[0m\u001b[0;34m.\u001b[0m\u001b[0muser_timeline\u001b[0m\u001b[0;34m(\u001b[0m\u001b[0mscreen_name\u001b[0m \u001b[0;34m=\u001b[0m \u001b[0mscreen_name\u001b[0m\u001b[0;34m,\u001b[0m\u001b[0mcount\u001b[0m\u001b[0;34m=\u001b[0m\u001b[0;36m200\u001b[0m\u001b[0;34m,\u001b[0m\u001b[0mmax_id\u001b[0m\u001b[0;34m=\u001b[0m\u001b[0moldest\u001b[0m\u001b[0;34m,\u001b[0m \u001b[0mlang\u001b[0m \u001b[0;34m=\u001b[0m \u001b[0;34m\"en\"\u001b[0m\u001b[0;34m)\u001b[0m\u001b[0;34m\u001b[0m\u001b[0;34m\u001b[0m\u001b[0m\n\u001b[0m\u001b[1;32m     21\u001b[0m     \u001b[0;31m#just if lan tweetes\u001b[0m\u001b[0;34m\u001b[0m\u001b[0;34m\u001b[0m\u001b[0;34m\u001b[0m\u001b[0m\n\u001b[1;32m     22\u001b[0m     \u001b[0;31m# save most recent tweets\u001b[0m\u001b[0;34m\u001b[0m\u001b[0;34m\u001b[0m\u001b[0;34m\u001b[0m\u001b[0m\n",
            "\u001b[0;32m/usr/local/lib/python3.6/dist-packages/tweepy/binder.py\u001b[0m in \u001b[0;36m_call\u001b[0;34m(*args, **kwargs)\u001b[0m\n\u001b[1;32m    248\u001b[0m             \u001b[0;32mreturn\u001b[0m \u001b[0mmethod\u001b[0m\u001b[0;34m\u001b[0m\u001b[0;34m\u001b[0m\u001b[0m\n\u001b[1;32m    249\u001b[0m         \u001b[0;32melse\u001b[0m\u001b[0;34m:\u001b[0m\u001b[0;34m\u001b[0m\u001b[0;34m\u001b[0m\u001b[0m\n\u001b[0;32m--> 250\u001b[0;31m             \u001b[0;32mreturn\u001b[0m \u001b[0mmethod\u001b[0m\u001b[0;34m.\u001b[0m\u001b[0mexecute\u001b[0m\u001b[0;34m(\u001b[0m\u001b[0;34m)\u001b[0m\u001b[0;34m\u001b[0m\u001b[0;34m\u001b[0m\u001b[0m\n\u001b[0m\u001b[1;32m    251\u001b[0m \u001b[0;34m\u001b[0m\u001b[0m\n\u001b[1;32m    252\u001b[0m     \u001b[0;31m# Set pagination mode\u001b[0m\u001b[0;34m\u001b[0m\u001b[0;34m\u001b[0m\u001b[0;34m\u001b[0m\u001b[0m\n",
            "\u001b[0;32m/usr/local/lib/python3.6/dist-packages/tweepy/binder.py\u001b[0m in \u001b[0;36mexecute\u001b[0;34m(self)\u001b[0m\n\u001b[1;32m    188\u001b[0m                                                 \u001b[0mtimeout\u001b[0m\u001b[0;34m=\u001b[0m\u001b[0mself\u001b[0m\u001b[0;34m.\u001b[0m\u001b[0mapi\u001b[0m\u001b[0;34m.\u001b[0m\u001b[0mtimeout\u001b[0m\u001b[0;34m,\u001b[0m\u001b[0;34m\u001b[0m\u001b[0;34m\u001b[0m\u001b[0m\n\u001b[1;32m    189\u001b[0m                                                 \u001b[0mauth\u001b[0m\u001b[0;34m=\u001b[0m\u001b[0mauth\u001b[0m\u001b[0;34m,\u001b[0m\u001b[0;34m\u001b[0m\u001b[0;34m\u001b[0m\u001b[0m\n\u001b[0;32m--> 190\u001b[0;31m                                                 proxies=self.api.proxy)\n\u001b[0m\u001b[1;32m    191\u001b[0m                 \u001b[0;32mexcept\u001b[0m \u001b[0mException\u001b[0m \u001b[0;32mas\u001b[0m \u001b[0me\u001b[0m\u001b[0;34m:\u001b[0m\u001b[0;34m\u001b[0m\u001b[0;34m\u001b[0m\u001b[0m\n\u001b[1;32m    192\u001b[0m                     \u001b[0msix\u001b[0m\u001b[0;34m.\u001b[0m\u001b[0mreraise\u001b[0m\u001b[0;34m(\u001b[0m\u001b[0mTweepError\u001b[0m\u001b[0;34m,\u001b[0m \u001b[0mTweepError\u001b[0m\u001b[0;34m(\u001b[0m\u001b[0;34m'Failed to send request: %s'\u001b[0m \u001b[0;34m%\u001b[0m \u001b[0me\u001b[0m\u001b[0;34m)\u001b[0m\u001b[0;34m,\u001b[0m \u001b[0msys\u001b[0m\u001b[0;34m.\u001b[0m\u001b[0mexc_info\u001b[0m\u001b[0;34m(\u001b[0m\u001b[0;34m)\u001b[0m\u001b[0;34m[\u001b[0m\u001b[0;36m2\u001b[0m\u001b[0;34m]\u001b[0m\u001b[0;34m)\u001b[0m\u001b[0;34m\u001b[0m\u001b[0;34m\u001b[0m\u001b[0m\n",
            "\u001b[0;32m/usr/local/lib/python3.6/dist-packages/requests/sessions.py\u001b[0m in \u001b[0;36mrequest\u001b[0;34m(self, method, url, params, data, headers, cookies, files, auth, timeout, allow_redirects, proxies, hooks, stream, verify, cert, json)\u001b[0m\n\u001b[1;32m    528\u001b[0m         }\n\u001b[1;32m    529\u001b[0m         \u001b[0msend_kwargs\u001b[0m\u001b[0;34m.\u001b[0m\u001b[0mupdate\u001b[0m\u001b[0;34m(\u001b[0m\u001b[0msettings\u001b[0m\u001b[0;34m)\u001b[0m\u001b[0;34m\u001b[0m\u001b[0;34m\u001b[0m\u001b[0m\n\u001b[0;32m--> 530\u001b[0;31m         \u001b[0mresp\u001b[0m \u001b[0;34m=\u001b[0m \u001b[0mself\u001b[0m\u001b[0;34m.\u001b[0m\u001b[0msend\u001b[0m\u001b[0;34m(\u001b[0m\u001b[0mprep\u001b[0m\u001b[0;34m,\u001b[0m \u001b[0;34m**\u001b[0m\u001b[0msend_kwargs\u001b[0m\u001b[0;34m)\u001b[0m\u001b[0;34m\u001b[0m\u001b[0;34m\u001b[0m\u001b[0m\n\u001b[0m\u001b[1;32m    531\u001b[0m \u001b[0;34m\u001b[0m\u001b[0m\n\u001b[1;32m    532\u001b[0m         \u001b[0;32mreturn\u001b[0m \u001b[0mresp\u001b[0m\u001b[0;34m\u001b[0m\u001b[0;34m\u001b[0m\u001b[0m\n",
            "\u001b[0;32m/usr/local/lib/python3.6/dist-packages/requests/sessions.py\u001b[0m in \u001b[0;36msend\u001b[0;34m(self, request, **kwargs)\u001b[0m\n\u001b[1;32m    641\u001b[0m \u001b[0;34m\u001b[0m\u001b[0m\n\u001b[1;32m    642\u001b[0m         \u001b[0;31m# Send the request\u001b[0m\u001b[0;34m\u001b[0m\u001b[0;34m\u001b[0m\u001b[0;34m\u001b[0m\u001b[0m\n\u001b[0;32m--> 643\u001b[0;31m         \u001b[0mr\u001b[0m \u001b[0;34m=\u001b[0m \u001b[0madapter\u001b[0m\u001b[0;34m.\u001b[0m\u001b[0msend\u001b[0m\u001b[0;34m(\u001b[0m\u001b[0mrequest\u001b[0m\u001b[0;34m,\u001b[0m \u001b[0;34m**\u001b[0m\u001b[0mkwargs\u001b[0m\u001b[0;34m)\u001b[0m\u001b[0;34m\u001b[0m\u001b[0;34m\u001b[0m\u001b[0m\n\u001b[0m\u001b[1;32m    644\u001b[0m \u001b[0;34m\u001b[0m\u001b[0m\n\u001b[1;32m    645\u001b[0m         \u001b[0;31m# Total elapsed time of the request (approximately)\u001b[0m\u001b[0;34m\u001b[0m\u001b[0;34m\u001b[0m\u001b[0;34m\u001b[0m\u001b[0m\n",
            "\u001b[0;32m/usr/local/lib/python3.6/dist-packages/requests/adapters.py\u001b[0m in \u001b[0;36msend\u001b[0;34m(self, request, stream, timeout, verify, cert, proxies)\u001b[0m\n\u001b[1;32m    447\u001b[0m                     \u001b[0mdecode_content\u001b[0m\u001b[0;34m=\u001b[0m\u001b[0;32mFalse\u001b[0m\u001b[0;34m,\u001b[0m\u001b[0;34m\u001b[0m\u001b[0;34m\u001b[0m\u001b[0m\n\u001b[1;32m    448\u001b[0m                     \u001b[0mretries\u001b[0m\u001b[0;34m=\u001b[0m\u001b[0mself\u001b[0m\u001b[0;34m.\u001b[0m\u001b[0mmax_retries\u001b[0m\u001b[0;34m,\u001b[0m\u001b[0;34m\u001b[0m\u001b[0;34m\u001b[0m\u001b[0m\n\u001b[0;32m--> 449\u001b[0;31m                     \u001b[0mtimeout\u001b[0m\u001b[0;34m=\u001b[0m\u001b[0mtimeout\u001b[0m\u001b[0;34m\u001b[0m\u001b[0;34m\u001b[0m\u001b[0m\n\u001b[0m\u001b[1;32m    450\u001b[0m                 )\n\u001b[1;32m    451\u001b[0m \u001b[0;34m\u001b[0m\u001b[0m\n",
            "\u001b[0;32m/usr/local/lib/python3.6/dist-packages/urllib3/connectionpool.py\u001b[0m in \u001b[0;36murlopen\u001b[0;34m(self, method, url, body, headers, retries, redirect, assert_same_host, timeout, pool_timeout, release_conn, chunked, body_pos, **response_kw)\u001b[0m\n\u001b[1;32m    598\u001b[0m                                                   \u001b[0mtimeout\u001b[0m\u001b[0;34m=\u001b[0m\u001b[0mtimeout_obj\u001b[0m\u001b[0;34m,\u001b[0m\u001b[0;34m\u001b[0m\u001b[0;34m\u001b[0m\u001b[0m\n\u001b[1;32m    599\u001b[0m                                                   \u001b[0mbody\u001b[0m\u001b[0;34m=\u001b[0m\u001b[0mbody\u001b[0m\u001b[0;34m,\u001b[0m \u001b[0mheaders\u001b[0m\u001b[0;34m=\u001b[0m\u001b[0mheaders\u001b[0m\u001b[0;34m,\u001b[0m\u001b[0;34m\u001b[0m\u001b[0;34m\u001b[0m\u001b[0m\n\u001b[0;32m--> 600\u001b[0;31m                                                   chunked=chunked)\n\u001b[0m\u001b[1;32m    601\u001b[0m \u001b[0;34m\u001b[0m\u001b[0m\n\u001b[1;32m    602\u001b[0m             \u001b[0;31m# If we're going to release the connection in ``finally:``, then\u001b[0m\u001b[0;34m\u001b[0m\u001b[0;34m\u001b[0m\u001b[0;34m\u001b[0m\u001b[0m\n",
            "\u001b[0;32m/usr/local/lib/python3.6/dist-packages/urllib3/connectionpool.py\u001b[0m in \u001b[0;36m_make_request\u001b[0;34m(self, conn, method, url, timeout, chunked, **httplib_request_kw)\u001b[0m\n\u001b[1;32m    341\u001b[0m         \u001b[0;31m# Trigger any extra validation we need to do.\u001b[0m\u001b[0;34m\u001b[0m\u001b[0;34m\u001b[0m\u001b[0;34m\u001b[0m\u001b[0m\n\u001b[1;32m    342\u001b[0m         \u001b[0;32mtry\u001b[0m\u001b[0;34m:\u001b[0m\u001b[0;34m\u001b[0m\u001b[0;34m\u001b[0m\u001b[0m\n\u001b[0;32m--> 343\u001b[0;31m             \u001b[0mself\u001b[0m\u001b[0;34m.\u001b[0m\u001b[0m_validate_conn\u001b[0m\u001b[0;34m(\u001b[0m\u001b[0mconn\u001b[0m\u001b[0;34m)\u001b[0m\u001b[0;34m\u001b[0m\u001b[0;34m\u001b[0m\u001b[0m\n\u001b[0m\u001b[1;32m    344\u001b[0m         \u001b[0;32mexcept\u001b[0m \u001b[0;34m(\u001b[0m\u001b[0mSocketTimeout\u001b[0m\u001b[0;34m,\u001b[0m \u001b[0mBaseSSLError\u001b[0m\u001b[0;34m)\u001b[0m \u001b[0;32mas\u001b[0m \u001b[0me\u001b[0m\u001b[0;34m:\u001b[0m\u001b[0;34m\u001b[0m\u001b[0;34m\u001b[0m\u001b[0m\n\u001b[1;32m    345\u001b[0m             \u001b[0;31m# Py2 raises this as a BaseSSLError, Py3 raises it as socket timeout.\u001b[0m\u001b[0;34m\u001b[0m\u001b[0;34m\u001b[0m\u001b[0;34m\u001b[0m\u001b[0m\n",
            "\u001b[0;32m/usr/local/lib/python3.6/dist-packages/urllib3/connectionpool.py\u001b[0m in \u001b[0;36m_validate_conn\u001b[0;34m(self, conn)\u001b[0m\n\u001b[1;32m    837\u001b[0m         \u001b[0;31m# Force connect early to allow us to validate the connection.\u001b[0m\u001b[0;34m\u001b[0m\u001b[0;34m\u001b[0m\u001b[0;34m\u001b[0m\u001b[0m\n\u001b[1;32m    838\u001b[0m         \u001b[0;32mif\u001b[0m \u001b[0;32mnot\u001b[0m \u001b[0mgetattr\u001b[0m\u001b[0;34m(\u001b[0m\u001b[0mconn\u001b[0m\u001b[0;34m,\u001b[0m \u001b[0;34m'sock'\u001b[0m\u001b[0;34m,\u001b[0m \u001b[0;32mNone\u001b[0m\u001b[0;34m)\u001b[0m\u001b[0;34m:\u001b[0m  \u001b[0;31m# AppEngine might not have  `.sock`\u001b[0m\u001b[0;34m\u001b[0m\u001b[0;34m\u001b[0m\u001b[0m\n\u001b[0;32m--> 839\u001b[0;31m             \u001b[0mconn\u001b[0m\u001b[0;34m.\u001b[0m\u001b[0mconnect\u001b[0m\u001b[0;34m(\u001b[0m\u001b[0;34m)\u001b[0m\u001b[0;34m\u001b[0m\u001b[0;34m\u001b[0m\u001b[0m\n\u001b[0m\u001b[1;32m    840\u001b[0m \u001b[0;34m\u001b[0m\u001b[0m\n\u001b[1;32m    841\u001b[0m         \u001b[0;32mif\u001b[0m \u001b[0;32mnot\u001b[0m \u001b[0mconn\u001b[0m\u001b[0;34m.\u001b[0m\u001b[0mis_verified\u001b[0m\u001b[0;34m:\u001b[0m\u001b[0;34m\u001b[0m\u001b[0;34m\u001b[0m\u001b[0m\n",
            "\u001b[0;32m/usr/local/lib/python3.6/dist-packages/urllib3/connection.py\u001b[0m in \u001b[0;36mconnect\u001b[0;34m(self)\u001b[0m\n\u001b[1;32m    299\u001b[0m     \u001b[0;32mdef\u001b[0m \u001b[0mconnect\u001b[0m\u001b[0;34m(\u001b[0m\u001b[0mself\u001b[0m\u001b[0;34m)\u001b[0m\u001b[0;34m:\u001b[0m\u001b[0;34m\u001b[0m\u001b[0;34m\u001b[0m\u001b[0m\n\u001b[1;32m    300\u001b[0m         \u001b[0;31m# Add certificate verification\u001b[0m\u001b[0;34m\u001b[0m\u001b[0;34m\u001b[0m\u001b[0;34m\u001b[0m\u001b[0m\n\u001b[0;32m--> 301\u001b[0;31m         \u001b[0mconn\u001b[0m \u001b[0;34m=\u001b[0m \u001b[0mself\u001b[0m\u001b[0;34m.\u001b[0m\u001b[0m_new_conn\u001b[0m\u001b[0;34m(\u001b[0m\u001b[0;34m)\u001b[0m\u001b[0;34m\u001b[0m\u001b[0;34m\u001b[0m\u001b[0m\n\u001b[0m\u001b[1;32m    302\u001b[0m         \u001b[0mhostname\u001b[0m \u001b[0;34m=\u001b[0m \u001b[0mself\u001b[0m\u001b[0;34m.\u001b[0m\u001b[0mhost\u001b[0m\u001b[0;34m\u001b[0m\u001b[0;34m\u001b[0m\u001b[0m\n\u001b[1;32m    303\u001b[0m \u001b[0;34m\u001b[0m\u001b[0m\n",
            "\u001b[0;32m/usr/local/lib/python3.6/dist-packages/urllib3/connection.py\u001b[0m in \u001b[0;36m_new_conn\u001b[0;34m(self)\u001b[0m\n\u001b[1;32m    157\u001b[0m         \u001b[0;32mtry\u001b[0m\u001b[0;34m:\u001b[0m\u001b[0;34m\u001b[0m\u001b[0;34m\u001b[0m\u001b[0m\n\u001b[1;32m    158\u001b[0m             conn = connection.create_connection(\n\u001b[0;32m--> 159\u001b[0;31m                 (self._dns_host, self.port), self.timeout, **extra_kw)\n\u001b[0m\u001b[1;32m    160\u001b[0m \u001b[0;34m\u001b[0m\u001b[0m\n\u001b[1;32m    161\u001b[0m         \u001b[0;32mexcept\u001b[0m \u001b[0mSocketTimeout\u001b[0m\u001b[0;34m:\u001b[0m\u001b[0;34m\u001b[0m\u001b[0;34m\u001b[0m\u001b[0m\n",
            "\u001b[0;32m/usr/local/lib/python3.6/dist-packages/urllib3/util/connection.py\u001b[0m in \u001b[0;36mcreate_connection\u001b[0;34m(address, timeout, source_address, socket_options)\u001b[0m\n\u001b[1;32m     55\u001b[0m     \u001b[0mfamily\u001b[0m \u001b[0;34m=\u001b[0m \u001b[0mallowed_gai_family\u001b[0m\u001b[0;34m(\u001b[0m\u001b[0;34m)\u001b[0m\u001b[0;34m\u001b[0m\u001b[0;34m\u001b[0m\u001b[0m\n\u001b[1;32m     56\u001b[0m \u001b[0;34m\u001b[0m\u001b[0m\n\u001b[0;32m---> 57\u001b[0;31m     \u001b[0;32mfor\u001b[0m \u001b[0mres\u001b[0m \u001b[0;32min\u001b[0m \u001b[0msocket\u001b[0m\u001b[0;34m.\u001b[0m\u001b[0mgetaddrinfo\u001b[0m\u001b[0;34m(\u001b[0m\u001b[0mhost\u001b[0m\u001b[0;34m,\u001b[0m \u001b[0mport\u001b[0m\u001b[0;34m,\u001b[0m \u001b[0mfamily\u001b[0m\u001b[0;34m,\u001b[0m \u001b[0msocket\u001b[0m\u001b[0;34m.\u001b[0m\u001b[0mSOCK_STREAM\u001b[0m\u001b[0;34m)\u001b[0m\u001b[0;34m:\u001b[0m\u001b[0;34m\u001b[0m\u001b[0;34m\u001b[0m\u001b[0m\n\u001b[0m\u001b[1;32m     58\u001b[0m         \u001b[0maf\u001b[0m\u001b[0;34m,\u001b[0m \u001b[0msocktype\u001b[0m\u001b[0;34m,\u001b[0m \u001b[0mproto\u001b[0m\u001b[0;34m,\u001b[0m \u001b[0mcanonname\u001b[0m\u001b[0;34m,\u001b[0m \u001b[0msa\u001b[0m \u001b[0;34m=\u001b[0m \u001b[0mres\u001b[0m\u001b[0;34m\u001b[0m\u001b[0;34m\u001b[0m\u001b[0m\n\u001b[1;32m     59\u001b[0m         \u001b[0msock\u001b[0m \u001b[0;34m=\u001b[0m \u001b[0;32mNone\u001b[0m\u001b[0;34m\u001b[0m\u001b[0;34m\u001b[0m\u001b[0m\n",
            "\u001b[0;32m/usr/lib/python3.6/socket.py\u001b[0m in \u001b[0;36mgetaddrinfo\u001b[0;34m(host, port, family, type, proto, flags)\u001b[0m\n\u001b[1;32m    743\u001b[0m     \u001b[0;31m# and socket type values to enum constants.\u001b[0m\u001b[0;34m\u001b[0m\u001b[0;34m\u001b[0m\u001b[0;34m\u001b[0m\u001b[0m\n\u001b[1;32m    744\u001b[0m     \u001b[0maddrlist\u001b[0m \u001b[0;34m=\u001b[0m \u001b[0;34m[\u001b[0m\u001b[0;34m]\u001b[0m\u001b[0;34m\u001b[0m\u001b[0;34m\u001b[0m\u001b[0m\n\u001b[0;32m--> 745\u001b[0;31m     \u001b[0;32mfor\u001b[0m \u001b[0mres\u001b[0m \u001b[0;32min\u001b[0m \u001b[0m_socket\u001b[0m\u001b[0;34m.\u001b[0m\u001b[0mgetaddrinfo\u001b[0m\u001b[0;34m(\u001b[0m\u001b[0mhost\u001b[0m\u001b[0;34m,\u001b[0m \u001b[0mport\u001b[0m\u001b[0;34m,\u001b[0m \u001b[0mfamily\u001b[0m\u001b[0;34m,\u001b[0m \u001b[0mtype\u001b[0m\u001b[0;34m,\u001b[0m \u001b[0mproto\u001b[0m\u001b[0;34m,\u001b[0m \u001b[0mflags\u001b[0m\u001b[0;34m)\u001b[0m\u001b[0;34m:\u001b[0m\u001b[0;34m\u001b[0m\u001b[0;34m\u001b[0m\u001b[0m\n\u001b[0m\u001b[1;32m    746\u001b[0m         \u001b[0maf\u001b[0m\u001b[0;34m,\u001b[0m \u001b[0msocktype\u001b[0m\u001b[0;34m,\u001b[0m \u001b[0mproto\u001b[0m\u001b[0;34m,\u001b[0m \u001b[0mcanonname\u001b[0m\u001b[0;34m,\u001b[0m \u001b[0msa\u001b[0m \u001b[0;34m=\u001b[0m \u001b[0mres\u001b[0m\u001b[0;34m\u001b[0m\u001b[0;34m\u001b[0m\u001b[0m\n\u001b[1;32m    747\u001b[0m         addrlist.append((_intenum_converter(af, AddressFamily),\n",
            "\u001b[0;31mKeyboardInterrupt\u001b[0m: "
          ]
        }
      ]
    },
    {
      "cell_type": "code",
      "metadata": {
        "id": "v1WWJd1CGZY3"
      },
      "source": [
        "flynas_airlines = pd.read_csv(\"./gdrive/My Drive/datasets/twitter_analysis/flynas_tweets.csv\")"
      ],
      "execution_count": 30,
      "outputs": []
    },
    {
      "cell_type": "code",
      "metadata": {
        "colab": {
          "base_uri": "https://localhost:8080/",
          "height": 529
        },
        "id": "DHkxXoZdGqNC",
        "outputId": "5cd716c5-1a55-49a2-bcf3-5c20ded0ea61"
      },
      "source": [
        "flynas_airlines.sample(10)"
      ],
      "execution_count": 31,
      "outputs": [
        {
          "output_type": "execute_result",
          "data": {
            "text/html": [
              "<div>\n",
              "<style scoped>\n",
              "    .dataframe tbody tr th:only-of-type {\n",
              "        vertical-align: middle;\n",
              "    }\n",
              "\n",
              "    .dataframe tbody tr th {\n",
              "        vertical-align: top;\n",
              "    }\n",
              "\n",
              "    .dataframe thead th {\n",
              "        text-align: right;\n",
              "    }\n",
              "</style>\n",
              "<table border=\"1\" class=\"dataframe\">\n",
              "  <thead>\n",
              "    <tr style=\"text-align: right;\">\n",
              "      <th></th>\n",
              "      <th>tweet_id</th>\n",
              "      <th>created_at</th>\n",
              "      <th>text</th>\n",
              "      <th>likes</th>\n",
              "      <th>retweeted</th>\n",
              "      <th>location</th>\n",
              "      <th>language</th>\n",
              "      <th>airline</th>\n",
              "    </tr>\n",
              "  </thead>\n",
              "  <tbody>\n",
              "    <tr>\n",
              "      <th>899</th>\n",
              "      <td>1327024829002883078</td>\n",
              "      <td>2020-11-12 23:05:48</td>\n",
              "      <td>@3SOmViSyQenrXQ7 وعليكم السلام,زودنا برقم الحجز على الخاص لوسمحت https://t.co/Hgn8z1m435</td>\n",
              "      <td>0</td>\n",
              "      <td>False</td>\n",
              "      <td>Saudi Arabia</td>\n",
              "      <td>ar</td>\n",
              "      <td>flynas</td>\n",
              "    </tr>\n",
              "    <tr>\n",
              "      <th>1743</th>\n",
              "      <td>1320277093733879808</td>\n",
              "      <td>2020-10-25 08:12:43</td>\n",
              "      <td>@imtiyazjjn Hello dear, we have replied via the DM , thank you</td>\n",
              "      <td>0</td>\n",
              "      <td>False</td>\n",
              "      <td>Saudi Arabia</td>\n",
              "      <td>en</td>\n",
              "      <td>flynas</td>\n",
              "    </tr>\n",
              "    <tr>\n",
              "      <th>2324</th>\n",
              "      <td>1315982016748367873</td>\n",
              "      <td>2020-10-13 11:45:37</td>\n",
              "      <td>@sonel_sd للرحلات من أو الى الخرطوم الوزن المتاح للبالغ على الدرجة الإقتصادية حقيبة واحدة 30 كيل...</td>\n",
              "      <td>0</td>\n",
              "      <td>False</td>\n",
              "      <td>Saudi Arabia</td>\n",
              "      <td>ar</td>\n",
              "      <td>flynas</td>\n",
              "    </tr>\n",
              "    <tr>\n",
              "      <th>2470</th>\n",
              "      <td>1315010931676585984</td>\n",
              "      <td>2020-10-10 19:26:52</td>\n",
              "      <td>@mesh3l2 وعليكم السلام، زودنا برقم الحجز في الخاص من فضلك https://t.co/Hgn8z1m435</td>\n",
              "      <td>0</td>\n",
              "      <td>False</td>\n",
              "      <td>Saudi Arabia</td>\n",
              "      <td>ar</td>\n",
              "      <td>flynas</td>\n",
              "    </tr>\n",
              "    <tr>\n",
              "      <th>117</th>\n",
              "      <td>1334557802598174721</td>\n",
              "      <td>2020-12-03 17:59:09</td>\n",
              "      <td>@NNouf_20 حياك الله، طيران ناس يسمح للأمهات الحوامل بالسفر (بدون شهادة من طبيب) إذا كان الحمل لم...</td>\n",
              "      <td>0</td>\n",
              "      <td>False</td>\n",
              "      <td>Saudi Arabia</td>\n",
              "      <td>ar</td>\n",
              "      <td>flynas</td>\n",
              "    </tr>\n",
              "    <tr>\n",
              "      <th>1451</th>\n",
              "      <td>1322479243415199744</td>\n",
              "      <td>2020-10-31 10:03:16</td>\n",
              "      <td>@Aa12372471621 مرحبا، زودنا بصورة من الخطأ الظاهر لك عبر الخاص إذا سمحت \\nhttps://t.co/Hgn8z1m435</td>\n",
              "      <td>0</td>\n",
              "      <td>False</td>\n",
              "      <td>Saudi Arabia</td>\n",
              "      <td>ar</td>\n",
              "      <td>flynas</td>\n",
              "    </tr>\n",
              "    <tr>\n",
              "      <th>468</th>\n",
              "      <td>1331298574978732033</td>\n",
              "      <td>2020-11-24 18:08:09</td>\n",
              "      <td>@jjttflora حياك الله، تم الرد على الخاص .</td>\n",
              "      <td>0</td>\n",
              "      <td>False</td>\n",
              "      <td>Saudi Arabia</td>\n",
              "      <td>ar</td>\n",
              "      <td>flynas</td>\n",
              "    </tr>\n",
              "    <tr>\n",
              "      <th>760</th>\n",
              "      <td>1328485099130777600</td>\n",
              "      <td>2020-11-16 23:48:24</td>\n",
              "      <td>@ithamer1986 مرحبا ، يرجى تزويدنا برقم الحجز عبر الخاص إذا سمحت https://t.co/Hgn8z1m435</td>\n",
              "      <td>0</td>\n",
              "      <td>False</td>\n",
              "      <td>Saudi Arabia</td>\n",
              "      <td>ar</td>\n",
              "      <td>flynas</td>\n",
              "    </tr>\n",
              "    <tr>\n",
              "      <th>363</th>\n",
              "      <td>1332116718626480128</td>\n",
              "      <td>2020-11-27 00:19:09</td>\n",
              "      <td>@abuNaif34 مرحبا، تم التواصل عبر الخاص</td>\n",
              "      <td>0</td>\n",
              "      <td>False</td>\n",
              "      <td>Saudi Arabia</td>\n",
              "      <td>ar</td>\n",
              "      <td>flynas</td>\n",
              "    </tr>\n",
              "    <tr>\n",
              "      <th>134</th>\n",
              "      <td>1334439000736722949</td>\n",
              "      <td>2020-12-03 10:07:05</td>\n",
              "      <td>@uXulNjwho7I7C2p حياك الله، يمكنك الإضافة بعد إقلاع الرحلة بـ 24 ساعة عن طريق الدخول لحسابك و اخ...</td>\n",
              "      <td>0</td>\n",
              "      <td>False</td>\n",
              "      <td>Saudi Arabia</td>\n",
              "      <td>ar</td>\n",
              "      <td>flynas</td>\n",
              "    </tr>\n",
              "  </tbody>\n",
              "</table>\n",
              "</div>"
            ],
            "text/plain": [
              "                 tweet_id           created_at  ... language  airline\n",
              "899   1327024829002883078  2020-11-12 23:05:48  ...       ar   flynas\n",
              "1743  1320277093733879808  2020-10-25 08:12:43  ...       en   flynas\n",
              "2324  1315982016748367873  2020-10-13 11:45:37  ...       ar   flynas\n",
              "2470  1315010931676585984  2020-10-10 19:26:52  ...       ar   flynas\n",
              "117   1334557802598174721  2020-12-03 17:59:09  ...       ar   flynas\n",
              "1451  1322479243415199744  2020-10-31 10:03:16  ...       ar   flynas\n",
              "468   1331298574978732033  2020-11-24 18:08:09  ...       ar   flynas\n",
              "760   1328485099130777600  2020-11-16 23:48:24  ...       ar   flynas\n",
              "363   1332116718626480128  2020-11-27 00:19:09  ...       ar   flynas\n",
              "134   1334439000736722949  2020-12-03 10:07:05  ...       ar   flynas\n",
              "\n",
              "[10 rows x 8 columns]"
            ]
          },
          "metadata": {
            "tags": []
          },
          "execution_count": 31
        }
      ]
    },
    {
      "cell_type": "markdown",
      "metadata": {
        "id": "AxJwidIcNysK"
      },
      "source": [
        "#try another hashtag for flynas"
      ]
    },
    {
      "cell_type": "code",
      "metadata": {
        "colab": {
          "base_uri": "https://localhost:8080/",
          "height": 324
        },
        "id": "M1CjDiQ0N2gY",
        "outputId": "64995e3a-25e8-40a4-e1d1-9f1bc2f8f806"
      },
      "source": [
        "search_query=\"#flynas\"\n",
        "new_tweets = api.search(q=search_query,count=200,lang=\"en\",tweet_mode='extended')"
      ],
      "execution_count": 20,
      "outputs": [
        {
          "output_type": "error",
          "ename": "RateLimitError",
          "evalue": "ignored",
          "traceback": [
            "\u001b[0;31m---------------------------------------------------------------------------\u001b[0m",
            "\u001b[0;31mRateLimitError\u001b[0m                            Traceback (most recent call last)",
            "\u001b[0;32m<ipython-input-20-915416672823>\u001b[0m in \u001b[0;36m<module>\u001b[0;34m()\u001b[0m\n\u001b[1;32m      1\u001b[0m \u001b[0msearch_query\u001b[0m\u001b[0;34m=\u001b[0m\u001b[0;34m\"#flynas\"\u001b[0m\u001b[0;34m\u001b[0m\u001b[0;34m\u001b[0m\u001b[0m\n\u001b[0;32m----> 2\u001b[0;31m \u001b[0mnew_tweets\u001b[0m \u001b[0;34m=\u001b[0m \u001b[0mapi\u001b[0m\u001b[0;34m.\u001b[0m\u001b[0msearch\u001b[0m\u001b[0;34m(\u001b[0m\u001b[0mq\u001b[0m\u001b[0;34m=\u001b[0m\u001b[0msearch_query\u001b[0m\u001b[0;34m,\u001b[0m\u001b[0mcount\u001b[0m\u001b[0;34m=\u001b[0m\u001b[0;36m200\u001b[0m\u001b[0;34m,\u001b[0m\u001b[0mlang\u001b[0m\u001b[0;34m=\u001b[0m\u001b[0;34m\"en\"\u001b[0m\u001b[0;34m,\u001b[0m\u001b[0mtweet_mode\u001b[0m\u001b[0;34m=\u001b[0m\u001b[0;34m'extended'\u001b[0m\u001b[0;34m)\u001b[0m\u001b[0;34m\u001b[0m\u001b[0;34m\u001b[0m\u001b[0m\n\u001b[0m",
            "\u001b[0;32m/usr/local/lib/python3.6/dist-packages/tweepy/binder.py\u001b[0m in \u001b[0;36m_call\u001b[0;34m(*args, **kwargs)\u001b[0m\n\u001b[1;32m    248\u001b[0m             \u001b[0;32mreturn\u001b[0m \u001b[0mmethod\u001b[0m\u001b[0;34m\u001b[0m\u001b[0;34m\u001b[0m\u001b[0m\n\u001b[1;32m    249\u001b[0m         \u001b[0;32melse\u001b[0m\u001b[0;34m:\u001b[0m\u001b[0;34m\u001b[0m\u001b[0;34m\u001b[0m\u001b[0m\n\u001b[0;32m--> 250\u001b[0;31m             \u001b[0;32mreturn\u001b[0m \u001b[0mmethod\u001b[0m\u001b[0;34m.\u001b[0m\u001b[0mexecute\u001b[0m\u001b[0;34m(\u001b[0m\u001b[0;34m)\u001b[0m\u001b[0;34m\u001b[0m\u001b[0;34m\u001b[0m\u001b[0m\n\u001b[0m\u001b[1;32m    251\u001b[0m \u001b[0;34m\u001b[0m\u001b[0m\n\u001b[1;32m    252\u001b[0m     \u001b[0;31m# Set pagination mode\u001b[0m\u001b[0;34m\u001b[0m\u001b[0;34m\u001b[0m\u001b[0;34m\u001b[0m\u001b[0m\n",
            "\u001b[0;32m/usr/local/lib/python3.6/dist-packages/tweepy/binder.py\u001b[0m in \u001b[0;36mexecute\u001b[0;34m(self)\u001b[0m\n\u001b[1;32m    230\u001b[0m \u001b[0;34m\u001b[0m\u001b[0m\n\u001b[1;32m    231\u001b[0m                 \u001b[0;32mif\u001b[0m \u001b[0mis_rate_limit_error_message\u001b[0m\u001b[0;34m(\u001b[0m\u001b[0merror_msg\u001b[0m\u001b[0;34m)\u001b[0m\u001b[0;34m:\u001b[0m\u001b[0;34m\u001b[0m\u001b[0;34m\u001b[0m\u001b[0m\n\u001b[0;32m--> 232\u001b[0;31m                     \u001b[0;32mraise\u001b[0m \u001b[0mRateLimitError\u001b[0m\u001b[0;34m(\u001b[0m\u001b[0merror_msg\u001b[0m\u001b[0;34m,\u001b[0m \u001b[0mresp\u001b[0m\u001b[0;34m)\u001b[0m\u001b[0;34m\u001b[0m\u001b[0;34m\u001b[0m\u001b[0m\n\u001b[0m\u001b[1;32m    233\u001b[0m                 \u001b[0;32melse\u001b[0m\u001b[0;34m:\u001b[0m\u001b[0;34m\u001b[0m\u001b[0;34m\u001b[0m\u001b[0m\n\u001b[1;32m    234\u001b[0m                     \u001b[0;32mraise\u001b[0m \u001b[0mTweepError\u001b[0m\u001b[0;34m(\u001b[0m\u001b[0merror_msg\u001b[0m\u001b[0;34m,\u001b[0m \u001b[0mresp\u001b[0m\u001b[0;34m,\u001b[0m \u001b[0mapi_code\u001b[0m\u001b[0;34m=\u001b[0m\u001b[0mapi_error_code\u001b[0m\u001b[0;34m)\u001b[0m\u001b[0;34m\u001b[0m\u001b[0;34m\u001b[0m\u001b[0m\n",
            "\u001b[0;31mRateLimitError\u001b[0m: [{'message': 'Rate limit exceeded', 'code': 88}]"
          ]
        }
      ]
    },
    {
      "cell_type": "code",
      "metadata": {
        "id": "fcEmh_jjYmrd"
      },
      "source": [
        "# Helper function to handle twitter API rate limit\n",
        "def limit_handled(cursor, list_name):\n",
        "  while True:\n",
        "    try:\n",
        "      yield cursor.next()\n",
        "    # Catch Twitter API rate limit exception and wait for 15 minutes\n",
        "    except tweepy.RateLimitError:\n",
        "      #print(\"\\nData points in list = {}\".format(len(list_name))))\n",
        "      print('Hit Twitter API rate limit.')\n",
        "      for i in range(3, 0, -1):\n",
        "        print(\"Wait for {} mins.\".format(i * 5))\n",
        "        time.sleep(5 * 60)\n",
        "    # Catch any other Twitter API exceptions\n",
        "    except tweepy.error.TweepError:\n",
        "      print('\\nCaught TweepError exception' )"
      ],
      "execution_count": 15,
      "outputs": []
    },
    {
      "cell_type": "code",
      "metadata": {
        "colab": {
          "base_uri": "https://localhost:8080/",
          "height": 164
        },
        "id": "8RFEkk-BZ2zU",
        "outputId": "7531195b-9926-4b10-beb0-f4d9ab8f3783"
      },
      "source": [
        "limit_handled(new_tweets, saudia_care)"
      ],
      "execution_count": 21,
      "outputs": [
        {
          "output_type": "error",
          "ename": "NameError",
          "evalue": "ignored",
          "traceback": [
            "\u001b[0;31m---------------------------------------------------------------------------\u001b[0m",
            "\u001b[0;31mNameError\u001b[0m                                 Traceback (most recent call last)",
            "\u001b[0;32m<ipython-input-21-af2792b5bea2>\u001b[0m in \u001b[0;36m<module>\u001b[0;34m()\u001b[0m\n\u001b[0;32m----> 1\u001b[0;31m \u001b[0mlimit_handled\u001b[0m\u001b[0;34m(\u001b[0m\u001b[0mnew_tweets\u001b[0m\u001b[0;34m,\u001b[0m \u001b[0msaudia_care\u001b[0m\u001b[0;34m)\u001b[0m\u001b[0;34m\u001b[0m\u001b[0;34m\u001b[0m\u001b[0m\n\u001b[0m",
            "\u001b[0;31mNameError\u001b[0m: name 'new_tweets' is not defined"
          ]
        }
      ]
    },
    {
      "cell_type": "code",
      "metadata": {
        "id": "zemmZFirTTGN"
      },
      "source": [
        "# Helper function to get all tweets of a specified user\n",
        "# NOTE:This method only allows access to the most recent 3200 tweets\n",
        "# Source: https://gist.github.com/yanofsky/5436496\n",
        "def get_all_tweets2(screen_name):\n",
        "  # initialize a list to hold all the Tweets\n",
        "  alltweets = []\n",
        "  # make initial request for most recent tweets \n",
        "  # (200 is the maximum allowed count)\n",
        "  new_tweets = api.search(q=screen_name,count=200,lang=\"en\",tweet_mode='extended')\n",
        "  # save most recent tweets\n",
        "  alltweets.extend(new_tweets)\n",
        "  # save the id of the oldest tweet less one to avoid duplication\n",
        "  oldest = alltweets[-1].id - 1\n",
        "  # keep grabbing tweets until there are no tweets left\n",
        "  while len(new_tweets) > 0:\n",
        "    print(\"getting tweets before %s\" % (oldest))\n",
        "    # all subsequent requests use the max_id param to prevent\n",
        "    # duplicates\n",
        "    \n",
        "    new_tweets = api.search(q=screen_name,count=200,lang=\"en\",tweet_mode='extended')\n",
        "    #just if lan tweetes \n",
        "    # save most recent tweets\n",
        "    \n",
        "    alltweets.extend(new_tweets)\n",
        "    # update the id of the oldest tweet less one\n",
        "    oldest = alltweets[-1].id - 1\n",
        "    print(\"...%s tweets downloaded so far\" % (len(alltweets)))\n",
        "    ### END OF WHILE LOOP ###\n",
        "  # transform the tweepy tweets into a 2D array that will \n",
        "  # populate the csv\n",
        "  outtweets = [[tweet.id_str, tweet.created_at, tweet.text, tweet.favorite_count,\n",
        "                tweet.retweeted, tweet.user.location, tweet.lang, screen_name] \n",
        "               for tweet in alltweets]\n",
        "  # write the csv\n",
        "  with open(path + '/%s_tweets_new.csv' % screen_name, 'w') as f:\n",
        "    writer = csv.writer(f)\n",
        "    writer.writerow([\"tweet_id\",\"created_at\",\"text\",\"likes\",\"retweeted\", \"location\", \"language\" , \"airline\"])\n",
        "    writer.writerows(outtweets)\n",
        "  pass"
      ],
      "execution_count": 16,
      "outputs": []
    },
    {
      "cell_type": "code",
      "metadata": {
        "colab": {
          "base_uri": "https://localhost:8080/",
          "height": 307
        },
        "id": "uVRAbcQ1Tu2H",
        "outputId": "e472eaa9-bcda-495e-8a48-f63c5b798a63"
      },
      "source": [
        "get_all_tweets2('saudia')"
      ],
      "execution_count": 18,
      "outputs": [
        {
          "output_type": "error",
          "ename": "RateLimitError",
          "evalue": "ignored",
          "traceback": [
            "\u001b[0;31m---------------------------------------------------------------------------\u001b[0m",
            "\u001b[0;31mRateLimitError\u001b[0m                            Traceback (most recent call last)",
            "\u001b[0;32m<ipython-input-18-1640fe5bb837>\u001b[0m in \u001b[0;36m<module>\u001b[0;34m()\u001b[0m\n\u001b[0;32m----> 1\u001b[0;31m \u001b[0mget_all_tweets2\u001b[0m\u001b[0;34m(\u001b[0m\u001b[0;34m'saudia'\u001b[0m\u001b[0;34m)\u001b[0m\u001b[0;34m\u001b[0m\u001b[0;34m\u001b[0m\u001b[0m\n\u001b[0m",
            "\u001b[0;32m<ipython-input-16-36a7457ff169>\u001b[0m in \u001b[0;36mget_all_tweets2\u001b[0;34m(screen_name)\u001b[0m\n\u001b[1;32m      7\u001b[0m   \u001b[0;31m# make initial request for most recent tweets\u001b[0m\u001b[0;34m\u001b[0m\u001b[0;34m\u001b[0m\u001b[0;34m\u001b[0m\u001b[0m\n\u001b[1;32m      8\u001b[0m   \u001b[0;31m# (200 is the maximum allowed count)\u001b[0m\u001b[0;34m\u001b[0m\u001b[0;34m\u001b[0m\u001b[0;34m\u001b[0m\u001b[0m\n\u001b[0;32m----> 9\u001b[0;31m   \u001b[0mnew_tweets\u001b[0m \u001b[0;34m=\u001b[0m \u001b[0mapi\u001b[0m\u001b[0;34m.\u001b[0m\u001b[0msearch\u001b[0m\u001b[0;34m(\u001b[0m\u001b[0mq\u001b[0m\u001b[0;34m=\u001b[0m\u001b[0mscreen_name\u001b[0m\u001b[0;34m,\u001b[0m\u001b[0mcount\u001b[0m\u001b[0;34m=\u001b[0m\u001b[0;36m200\u001b[0m\u001b[0;34m,\u001b[0m\u001b[0mlang\u001b[0m\u001b[0;34m=\u001b[0m\u001b[0;34m\"en\"\u001b[0m\u001b[0;34m,\u001b[0m\u001b[0mtweet_mode\u001b[0m\u001b[0;34m=\u001b[0m\u001b[0;34m'extended'\u001b[0m\u001b[0;34m)\u001b[0m\u001b[0;34m\u001b[0m\u001b[0;34m\u001b[0m\u001b[0m\n\u001b[0m\u001b[1;32m     10\u001b[0m   \u001b[0;31m# save most recent tweets\u001b[0m\u001b[0;34m\u001b[0m\u001b[0;34m\u001b[0m\u001b[0;34m\u001b[0m\u001b[0m\n\u001b[1;32m     11\u001b[0m   \u001b[0malltweets\u001b[0m\u001b[0;34m.\u001b[0m\u001b[0mextend\u001b[0m\u001b[0;34m(\u001b[0m\u001b[0mnew_tweets\u001b[0m\u001b[0;34m)\u001b[0m\u001b[0;34m\u001b[0m\u001b[0;34m\u001b[0m\u001b[0m\n",
            "\u001b[0;32m/usr/local/lib/python3.6/dist-packages/tweepy/binder.py\u001b[0m in \u001b[0;36m_call\u001b[0;34m(*args, **kwargs)\u001b[0m\n\u001b[1;32m    248\u001b[0m             \u001b[0;32mreturn\u001b[0m \u001b[0mmethod\u001b[0m\u001b[0;34m\u001b[0m\u001b[0;34m\u001b[0m\u001b[0m\n\u001b[1;32m    249\u001b[0m         \u001b[0;32melse\u001b[0m\u001b[0;34m:\u001b[0m\u001b[0;34m\u001b[0m\u001b[0;34m\u001b[0m\u001b[0m\n\u001b[0;32m--> 250\u001b[0;31m             \u001b[0;32mreturn\u001b[0m \u001b[0mmethod\u001b[0m\u001b[0;34m.\u001b[0m\u001b[0mexecute\u001b[0m\u001b[0;34m(\u001b[0m\u001b[0;34m)\u001b[0m\u001b[0;34m\u001b[0m\u001b[0;34m\u001b[0m\u001b[0m\n\u001b[0m\u001b[1;32m    251\u001b[0m \u001b[0;34m\u001b[0m\u001b[0m\n\u001b[1;32m    252\u001b[0m     \u001b[0;31m# Set pagination mode\u001b[0m\u001b[0;34m\u001b[0m\u001b[0;34m\u001b[0m\u001b[0;34m\u001b[0m\u001b[0m\n",
            "\u001b[0;32m/usr/local/lib/python3.6/dist-packages/tweepy/binder.py\u001b[0m in \u001b[0;36mexecute\u001b[0;34m(self)\u001b[0m\n\u001b[1;32m    230\u001b[0m \u001b[0;34m\u001b[0m\u001b[0m\n\u001b[1;32m    231\u001b[0m                 \u001b[0;32mif\u001b[0m \u001b[0mis_rate_limit_error_message\u001b[0m\u001b[0;34m(\u001b[0m\u001b[0merror_msg\u001b[0m\u001b[0;34m)\u001b[0m\u001b[0;34m:\u001b[0m\u001b[0;34m\u001b[0m\u001b[0;34m\u001b[0m\u001b[0m\n\u001b[0;32m--> 232\u001b[0;31m                     \u001b[0;32mraise\u001b[0m \u001b[0mRateLimitError\u001b[0m\u001b[0;34m(\u001b[0m\u001b[0merror_msg\u001b[0m\u001b[0;34m,\u001b[0m \u001b[0mresp\u001b[0m\u001b[0;34m)\u001b[0m\u001b[0;34m\u001b[0m\u001b[0;34m\u001b[0m\u001b[0m\n\u001b[0m\u001b[1;32m    233\u001b[0m                 \u001b[0;32melse\u001b[0m\u001b[0;34m:\u001b[0m\u001b[0;34m\u001b[0m\u001b[0;34m\u001b[0m\u001b[0m\n\u001b[1;32m    234\u001b[0m                     \u001b[0;32mraise\u001b[0m \u001b[0mTweepError\u001b[0m\u001b[0;34m(\u001b[0m\u001b[0merror_msg\u001b[0m\u001b[0;34m,\u001b[0m \u001b[0mresp\u001b[0m\u001b[0;34m,\u001b[0m \u001b[0mapi_code\u001b[0m\u001b[0;34m=\u001b[0m\u001b[0mapi_error_code\u001b[0m\u001b[0;34m)\u001b[0m\u001b[0;34m\u001b[0m\u001b[0;34m\u001b[0m\u001b[0m\n",
            "\u001b[0;31mRateLimitError\u001b[0m: [{'message': 'Rate limit exceeded', 'code': 88}]"
          ]
        }
      ]
    },
    {
      "cell_type": "code",
      "metadata": {
        "colab": {
          "base_uri": "https://localhost:8080/",
          "height": 164
        },
        "id": "SOndNReuS7r6",
        "outputId": "42b17354-c225-4b40-db81-78298bcdf5a9"
      },
      "source": [
        "new_tweets"
      ],
      "execution_count": 19,
      "outputs": [
        {
          "output_type": "error",
          "ename": "NameError",
          "evalue": "ignored",
          "traceback": [
            "\u001b[0;31m---------------------------------------------------------------------------\u001b[0m",
            "\u001b[0;31mNameError\u001b[0m                                 Traceback (most recent call last)",
            "\u001b[0;32m<ipython-input-19-b84fe6835d59>\u001b[0m in \u001b[0;36m<module>\u001b[0;34m()\u001b[0m\n\u001b[0;32m----> 1\u001b[0;31m \u001b[0mnew_tweets\u001b[0m\u001b[0;34m\u001b[0m\u001b[0;34m\u001b[0m\u001b[0m\n\u001b[0m",
            "\u001b[0;31mNameError\u001b[0m: name 'new_tweets' is not defined"
          ]
        }
      ]
    },
    {
      "cell_type": "code",
      "metadata": {
        "colab": {
          "base_uri": "https://localhost:8080/"
        },
        "id": "hRzSlXxRdmYU",
        "outputId": "e9d5d646-4f4a-4cde-c6f7-3d49b420e8cd"
      },
      "source": [
        "len(saudia_airlines[saudia_airlines.language == \"en\"])"
      ],
      "execution_count": 8,
      "outputs": [
        {
          "output_type": "execute_result",
          "data": {
            "text/plain": [
              "1464"
            ]
          },
          "metadata": {
            "tags": []
          },
          "execution_count": 8
        }
      ]
    },
    {
      "cell_type": "code",
      "metadata": {
        "colab": {
          "base_uri": "https://localhost:8080/"
        },
        "id": "D9s7w7SEgA5Y",
        "outputId": "d0948792-1cbe-4a55-f6a7-cf95dc238b09"
      },
      "source": [
        "len(flynas_airlines[flynas_airlines.language == \"en\"])"
      ],
      "execution_count": null,
      "outputs": [
        {
          "output_type": "execute_result",
          "data": {
            "text/plain": [
              "219"
            ]
          },
          "metadata": {
            "tags": []
          },
          "execution_count": 94
        }
      ]
    },
    {
      "cell_type": "markdown",
      "metadata": {
        "id": "1MIc2zuSDEie"
      },
      "source": [
        "#Filter the English tweets"
      ]
    },
    {
      "cell_type": "markdown",
      "metadata": {
        "id": "rkRMUM9zI10g"
      },
      "source": [
        "**Saudia Airlines**"
      ]
    },
    {
      "cell_type": "code",
      "metadata": {
        "id": "pmD6TM9CEwCS"
      },
      "source": [
        "saudia_airlines_en = saudia_airlines[saudia_airlines.language == \"en\"]"
      ],
      "execution_count": 9,
      "outputs": []
    },
    {
      "cell_type": "code",
      "metadata": {
        "colab": {
          "base_uri": "https://localhost:8080/",
          "height": 289
        },
        "id": "r8uKzLnUE9sH",
        "outputId": "1996101a-c7d0-4b9d-f9f5-5b1ba0a73a33"
      },
      "source": [
        "saudia_airlines_en.head(10)"
      ],
      "execution_count": null,
      "outputs": [
        {
          "output_type": "execute_result",
          "data": {
            "text/html": [
              "<div>\n",
              "<style scoped>\n",
              "    .dataframe tbody tr th:only-of-type {\n",
              "        vertical-align: middle;\n",
              "    }\n",
              "\n",
              "    .dataframe tbody tr th {\n",
              "        vertical-align: top;\n",
              "    }\n",
              "\n",
              "    .dataframe thead th {\n",
              "        text-align: right;\n",
              "    }\n",
              "</style>\n",
              "<table border=\"1\" class=\"dataframe\">\n",
              "  <thead>\n",
              "    <tr style=\"text-align: right;\">\n",
              "      <th></th>\n",
              "      <th>tweet_id</th>\n",
              "      <th>created_at</th>\n",
              "      <th>text</th>\n",
              "      <th>likes</th>\n",
              "      <th>retweeted</th>\n",
              "      <th>location</th>\n",
              "      <th>language</th>\n",
              "      <th>airline</th>\n",
              "    </tr>\n",
              "  </thead>\n",
              "  <tbody>\n",
              "    <tr>\n",
              "      <th>14</th>\n",
              "      <td>1335393841810202624</td>\n",
              "      <td>2020-12-06 01:21:16</td>\n",
              "      <td>@Mohamme43723700 Dear guest, there is no flight from India to Saudi Arabia at this time. Kindly ...</td>\n",
              "      <td>1</td>\n",
              "      <td>False</td>\n",
              "      <td>Saudi Arabia</td>\n",
              "      <td>en</td>\n",
              "      <td>Saudi_airlines</td>\n",
              "    </tr>\n",
              "    <tr>\n",
              "      <th>23</th>\n",
              "      <td>1335337522738720770</td>\n",
              "      <td>2020-12-05 21:37:29</td>\n",
              "      <td>@khalidwhd Hello dear guest, we hope you check and be informed of travel updates due to the Coro...</td>\n",
              "      <td>1</td>\n",
              "      <td>False</td>\n",
              "      <td>Saudi Arabia</td>\n",
              "      <td>en</td>\n",
              "      <td>Saudi_airlines</td>\n",
              "    </tr>\n",
              "    <tr>\n",
              "      <th>29</th>\n",
              "      <td>1335334320014315521</td>\n",
              "      <td>2020-12-05 21:24:45</td>\n",
              "      <td>@JailanShair Hello dear guest, please provide us with the booking number through the direct mess...</td>\n",
              "      <td>0</td>\n",
              "      <td>False</td>\n",
              "      <td>Saudi Arabia</td>\n",
              "      <td>en</td>\n",
              "      <td>Saudi_airlines</td>\n",
              "    </tr>\n",
              "    <tr>\n",
              "      <th>38</th>\n",
              "      <td>1335322063851167748</td>\n",
              "      <td>2020-12-05 20:36:03</td>\n",
              "      <td>@Shakeel60633858 Dear guest, there is no flight from India to Saudi Arabia at this time. When fl...</td>\n",
              "      <td>1</td>\n",
              "      <td>False</td>\n",
              "      <td>Saudi Arabia</td>\n",
              "      <td>en</td>\n",
              "      <td>Saudi_airlines</td>\n",
              "    </tr>\n",
              "    <tr>\n",
              "      <th>43</th>\n",
              "      <td>1335314759588122626</td>\n",
              "      <td>2020-12-05 20:07:02</td>\n",
              "      <td>@AliAnsari079348 Hello dear guest, You can follow up the flights schedule in our website https:/...</td>\n",
              "      <td>1</td>\n",
              "      <td>False</td>\n",
              "      <td>Saudi Arabia</td>\n",
              "      <td>en</td>\n",
              "      <td>Saudi_airlines</td>\n",
              "    </tr>\n",
              "  </tbody>\n",
              "</table>\n",
              "</div>"
            ],
            "text/plain": [
              "               tweet_id           created_at  ... language         airline\n",
              "14  1335393841810202624  2020-12-06 01:21:16  ...       en  Saudi_airlines\n",
              "23  1335337522738720770  2020-12-05 21:37:29  ...       en  Saudi_airlines\n",
              "29  1335334320014315521  2020-12-05 21:24:45  ...       en  Saudi_airlines\n",
              "38  1335322063851167748  2020-12-05 20:36:03  ...       en  Saudi_airlines\n",
              "43  1335314759588122626  2020-12-05 20:07:02  ...       en  Saudi_airlines\n",
              "\n",
              "[5 rows x 8 columns]"
            ]
          },
          "metadata": {
            "tags": []
          },
          "execution_count": 13
        }
      ]
    },
    {
      "cell_type": "markdown",
      "metadata": {
        "id": "0VQ8z8zAI9Hv"
      },
      "source": [
        "**Flynas**"
      ]
    },
    {
      "cell_type": "code",
      "metadata": {
        "id": "pmWZApxHIyD3"
      },
      "source": [
        "flynas_airlines_en = flynas_airlines[flynas_airlines.language == \"en\"]"
      ],
      "execution_count": 33,
      "outputs": []
    },
    {
      "cell_type": "code",
      "metadata": {
        "colab": {
          "base_uri": "https://localhost:8080/",
          "height": 529
        },
        "id": "9056pqQ_JLFj",
        "outputId": "92777ad5-0b05-4e80-9eda-980d929ce682"
      },
      "source": [
        "flynas_airlines_en.head(10)"
      ],
      "execution_count": 34,
      "outputs": [
        {
          "output_type": "execute_result",
          "data": {
            "text/html": [
              "<div>\n",
              "<style scoped>\n",
              "    .dataframe tbody tr th:only-of-type {\n",
              "        vertical-align: middle;\n",
              "    }\n",
              "\n",
              "    .dataframe tbody tr th {\n",
              "        vertical-align: top;\n",
              "    }\n",
              "\n",
              "    .dataframe thead th {\n",
              "        text-align: right;\n",
              "    }\n",
              "</style>\n",
              "<table border=\"1\" class=\"dataframe\">\n",
              "  <thead>\n",
              "    <tr style=\"text-align: right;\">\n",
              "      <th></th>\n",
              "      <th>tweet_id</th>\n",
              "      <th>created_at</th>\n",
              "      <th>text</th>\n",
              "      <th>likes</th>\n",
              "      <th>retweeted</th>\n",
              "      <th>location</th>\n",
              "      <th>language</th>\n",
              "      <th>airline</th>\n",
              "    </tr>\n",
              "  </thead>\n",
              "  <tbody>\n",
              "    <tr>\n",
              "      <th>2</th>\n",
              "      <td>1335581954213900288</td>\n",
              "      <td>2020-12-06 13:48:46</td>\n",
              "      <td>@dhanraj_parmar Hello, kindly provide us with your booking number on private message</td>\n",
              "      <td>0</td>\n",
              "      <td>False</td>\n",
              "      <td>Saudi Arabia</td>\n",
              "      <td>en</td>\n",
              "      <td>flynas</td>\n",
              "    </tr>\n",
              "    <tr>\n",
              "      <th>17</th>\n",
              "      <td>1335517244978245632</td>\n",
              "      <td>2020-12-06 09:31:38</td>\n",
              "      <td>@Ansar34237667 Hello, please provide us with your reservation number via the private. Please</td>\n",
              "      <td>0</td>\n",
              "      <td>False</td>\n",
              "      <td>Saudi Arabia</td>\n",
              "      <td>en</td>\n",
              "      <td>flynas</td>\n",
              "    </tr>\n",
              "    <tr>\n",
              "      <th>19</th>\n",
              "      <td>1335515818642255873</td>\n",
              "      <td>2020-12-06 09:25:58</td>\n",
              "      <td>@_lulzz Hello, kindly provide us with your booking number on private message https://t.co/Hgn8z1...</td>\n",
              "      <td>0</td>\n",
              "      <td>False</td>\n",
              "      <td>Saudi Arabia</td>\n",
              "      <td>en</td>\n",
              "      <td>flynas</td>\n",
              "    </tr>\n",
              "    <tr>\n",
              "      <th>51</th>\n",
              "      <td>1335109047671001088</td>\n",
              "      <td>2020-12-05 06:29:36</td>\n",
              "      <td>@aliarum44 Hi, kindly keep following us continuously, any new flights will be announced as soon ...</td>\n",
              "      <td>0</td>\n",
              "      <td>False</td>\n",
              "      <td>Saudi Arabia</td>\n",
              "      <td>en</td>\n",
              "      <td>flynas</td>\n",
              "    </tr>\n",
              "    <tr>\n",
              "      <th>65</th>\n",
              "      <td>1334936896925995009</td>\n",
              "      <td>2020-12-04 19:05:32</td>\n",
              "      <td>@afsarmohd78 God bless you, follow us and an announcement will be made when any new trips are av...</td>\n",
              "      <td>0</td>\n",
              "      <td>False</td>\n",
              "      <td>Saudi Arabia</td>\n",
              "      <td>en</td>\n",
              "      <td>flynas</td>\n",
              "    </tr>\n",
              "    <tr>\n",
              "      <th>140</th>\n",
              "      <td>1334357826085511168</td>\n",
              "      <td>2020-12-03 04:44:31</td>\n",
              "      <td>@msajidn20 Hello, kindly provide us with your reservation number in private message https://t.co...</td>\n",
              "      <td>0</td>\n",
              "      <td>False</td>\n",
              "      <td>Saudi Arabia</td>\n",
              "      <td>en</td>\n",
              "      <td>flynas</td>\n",
              "    </tr>\n",
              "    <tr>\n",
              "      <th>155</th>\n",
              "      <td>1334213615025594368</td>\n",
              "      <td>2020-12-02 19:11:28</td>\n",
              "      <td>@kmohsin769_khan Hello dear, kindly keep following us and we will announce if flights are available</td>\n",
              "      <td>1</td>\n",
              "      <td>False</td>\n",
              "      <td>Saudi Arabia</td>\n",
              "      <td>en</td>\n",
              "      <td>flynas</td>\n",
              "    </tr>\n",
              "    <tr>\n",
              "      <th>174</th>\n",
              "      <td>1334040421144682499</td>\n",
              "      <td>2020-12-02 07:43:16</td>\n",
              "      <td>@kmohsin769_khan Hello dear, follow us we will be announce when flights resume .Thank you</td>\n",
              "      <td>0</td>\n",
              "      <td>False</td>\n",
              "      <td>Saudi Arabia</td>\n",
              "      <td>en</td>\n",
              "      <td>flynas</td>\n",
              "    </tr>\n",
              "    <tr>\n",
              "      <th>175</th>\n",
              "      <td>1334038103120621568</td>\n",
              "      <td>2020-12-02 07:34:03</td>\n",
              "      <td>@megdad_4u Dear, kindly provide us with your booking number in private message and delete the tw...</td>\n",
              "      <td>0</td>\n",
              "      <td>False</td>\n",
              "      <td>Saudi Arabia</td>\n",
              "      <td>en</td>\n",
              "      <td>flynas</td>\n",
              "    </tr>\n",
              "    <tr>\n",
              "      <th>206</th>\n",
              "      <td>1333752758852317189</td>\n",
              "      <td>2020-12-01 12:40:12</td>\n",
              "      <td>@aliarum44 Dear, Follow us if available will be announced. Thank you</td>\n",
              "      <td>0</td>\n",
              "      <td>False</td>\n",
              "      <td>Saudi Arabia</td>\n",
              "      <td>en</td>\n",
              "      <td>flynas</td>\n",
              "    </tr>\n",
              "  </tbody>\n",
              "</table>\n",
              "</div>"
            ],
            "text/plain": [
              "                tweet_id           created_at  ... language  airline\n",
              "2    1335581954213900288  2020-12-06 13:48:46  ...       en   flynas\n",
              "17   1335517244978245632  2020-12-06 09:31:38  ...       en   flynas\n",
              "19   1335515818642255873  2020-12-06 09:25:58  ...       en   flynas\n",
              "51   1335109047671001088  2020-12-05 06:29:36  ...       en   flynas\n",
              "65   1334936896925995009  2020-12-04 19:05:32  ...       en   flynas\n",
              "140  1334357826085511168  2020-12-03 04:44:31  ...       en   flynas\n",
              "155  1334213615025594368  2020-12-02 19:11:28  ...       en   flynas\n",
              "174  1334040421144682499  2020-12-02 07:43:16  ...       en   flynas\n",
              "175  1334038103120621568  2020-12-02 07:34:03  ...       en   flynas\n",
              "206  1333752758852317189  2020-12-01 12:40:12  ...       en   flynas\n",
              "\n",
              "[10 rows x 8 columns]"
            ]
          },
          "metadata": {
            "tags": []
          },
          "execution_count": 34
        }
      ]
    },
    {
      "cell_type": "markdown",
      "metadata": {
        "id": "LomcoeEHNDAw"
      },
      "source": [
        "#Cleaning the text"
      ]
    },
    {
      "cell_type": "code",
      "metadata": {
        "id": "j5w6YrFGQV5O"
      },
      "source": [
        "# Create a function to clean the tweets\n",
        "def cleanTxt(text):\n",
        " text = re.sub('@[A-Za-z0–9]+', '', text) #Removing @mentions\n",
        " text = re.sub('#', '', text) # Removing '#' hash tag\n",
        " text = re.sub('RT[\\s]+', '', text) # Removing RT\n",
        " text = re.sub('https?:\\/\\/\\S+', '', text) # Removing hyperlink\n",
        " text = re.sub(r'\\d', '', text)\n",
        " text = \"\".join([word.lower() for word in text if word not in string.punctuation])\n",
        " \n",
        " return text"
      ],
      "execution_count": 10,
      "outputs": []
    },
    {
      "cell_type": "markdown",
      "metadata": {
        "id": "N91V3uRqJSBD"
      },
      "source": [
        "**Saudia Airlines**"
      ]
    },
    {
      "cell_type": "code",
      "metadata": {
        "colab": {
          "base_uri": "https://localhost:8080/",
          "height": 691
        },
        "id": "Aqjl50j_GZSA",
        "outputId": "e0451f3c-9174-40e8-e9a2-03306fc28870"
      },
      "source": [
        "# Clean the tweets\n",
        "saudia_airlines_en[\"text\"] = saudia_airlines_en[\"text\"].apply(cleanTxt)\n",
        "\n",
        "# Show the cleaned tweets\n",
        "saudia_airlines_en.head(10)"
      ],
      "execution_count": 11,
      "outputs": [
        {
          "output_type": "stream",
          "text": [
            "/usr/local/lib/python3.6/dist-packages/ipykernel_launcher.py:2: SettingWithCopyWarning: \n",
            "A value is trying to be set on a copy of a slice from a DataFrame.\n",
            "Try using .loc[row_indexer,col_indexer] = value instead\n",
            "\n",
            "See the caveats in the documentation: https://pandas.pydata.org/pandas-docs/stable/user_guide/indexing.html#returning-a-view-versus-a-copy\n",
            "  \n"
          ],
          "name": "stderr"
        },
        {
          "output_type": "execute_result",
          "data": {
            "text/html": [
              "<div>\n",
              "<style scoped>\n",
              "    .dataframe tbody tr th:only-of-type {\n",
              "        vertical-align: middle;\n",
              "    }\n",
              "\n",
              "    .dataframe tbody tr th {\n",
              "        vertical-align: top;\n",
              "    }\n",
              "\n",
              "    .dataframe thead th {\n",
              "        text-align: right;\n",
              "    }\n",
              "</style>\n",
              "<table border=\"1\" class=\"dataframe\">\n",
              "  <thead>\n",
              "    <tr style=\"text-align: right;\">\n",
              "      <th></th>\n",
              "      <th>tweet_id</th>\n",
              "      <th>created_at</th>\n",
              "      <th>text</th>\n",
              "      <th>likes</th>\n",
              "      <th>retweeted</th>\n",
              "      <th>location</th>\n",
              "      <th>language</th>\n",
              "      <th>airline</th>\n",
              "    </tr>\n",
              "  </thead>\n",
              "  <tbody>\n",
              "    <tr>\n",
              "      <th>14</th>\n",
              "      <td>1335393841810202624</td>\n",
              "      <td>2020-12-06 01:21:16</td>\n",
              "      <td>dear guest there is no flight from india to saudi arabia at this time kindly follow the flights…</td>\n",
              "      <td>1</td>\n",
              "      <td>False</td>\n",
              "      <td>Saudi Arabia</td>\n",
              "      <td>en</td>\n",
              "      <td>Saudi_airlines</td>\n",
              "    </tr>\n",
              "    <tr>\n",
              "      <th>23</th>\n",
              "      <td>1335337522738720770</td>\n",
              "      <td>2020-12-05 21:37:29</td>\n",
              "      <td>hello dear guest we hope you check and be informed of travel updates due to the corona virus co...</td>\n",
              "      <td>1</td>\n",
              "      <td>False</td>\n",
              "      <td>Saudi Arabia</td>\n",
              "      <td>en</td>\n",
              "      <td>Saudi_airlines</td>\n",
              "    </tr>\n",
              "    <tr>\n",
              "      <th>29</th>\n",
              "      <td>1335334320014315521</td>\n",
              "      <td>2020-12-05 21:24:45</td>\n",
              "      <td>hello dear guest please provide us with the booking number through the direct message to let yo...</td>\n",
              "      <td>0</td>\n",
              "      <td>False</td>\n",
              "      <td>Saudi Arabia</td>\n",
              "      <td>en</td>\n",
              "      <td>Saudi_airlines</td>\n",
              "    </tr>\n",
              "    <tr>\n",
              "      <th>38</th>\n",
              "      <td>1335322063851167748</td>\n",
              "      <td>2020-12-05 20:36:03</td>\n",
              "      <td>dear guest there is no flight from india to saudi arabia at this time when flights schedule back…</td>\n",
              "      <td>1</td>\n",
              "      <td>False</td>\n",
              "      <td>Saudi Arabia</td>\n",
              "      <td>en</td>\n",
              "      <td>Saudi_airlines</td>\n",
              "    </tr>\n",
              "    <tr>\n",
              "      <th>43</th>\n",
              "      <td>1335314759588122626</td>\n",
              "      <td>2020-12-05 20:07:02</td>\n",
              "      <td>hello dear guest you can follow up the flights schedule in our website  …</td>\n",
              "      <td>1</td>\n",
              "      <td>False</td>\n",
              "      <td>Saudi Arabia</td>\n",
              "      <td>en</td>\n",
              "      <td>Saudi_airlines</td>\n",
              "    </tr>\n",
              "    <tr>\n",
              "      <th>...</th>\n",
              "      <td>...</td>\n",
              "      <td>...</td>\n",
              "      <td>...</td>\n",
              "      <td>...</td>\n",
              "      <td>...</td>\n",
              "      <td>...</td>\n",
              "      <td>...</td>\n",
              "      <td>...</td>\n",
              "    </tr>\n",
              "    <tr>\n",
              "      <th>3225</th>\n",
              "      <td>1320352707732000768</td>\n",
              "      <td>2020-10-25 13:13:11</td>\n",
              "      <td>dear guest kindly check the flights schedule on  and choose flights info…</td>\n",
              "      <td>0</td>\n",
              "      <td>False</td>\n",
              "      <td>Saudi Arabia</td>\n",
              "      <td>en</td>\n",
              "      <td>Saudi_airlines</td>\n",
              "    </tr>\n",
              "    <tr>\n",
              "      <th>3226</th>\n",
              "      <td>1320352682104729600</td>\n",
              "      <td>2020-10-25 13:13:05</td>\n",
              "      <td>dear guest kindly check the flights schedule on  and choose flights info…</td>\n",
              "      <td>0</td>\n",
              "      <td>False</td>\n",
              "      <td>Saudi Arabia</td>\n",
              "      <td>en</td>\n",
              "      <td>Saudi_airlines</td>\n",
              "    </tr>\n",
              "    <tr>\n",
              "      <th>3227</th>\n",
              "      <td>1320352661305237507</td>\n",
              "      <td>2020-10-25 13:13:00</td>\n",
              "      <td>dear guest kindly check the flights schedule on  and choose flights info t…</td>\n",
              "      <td>0</td>\n",
              "      <td>False</td>\n",
              "      <td>Saudi Arabia</td>\n",
              "      <td>en</td>\n",
              "      <td>Saudi_airlines</td>\n",
              "    </tr>\n",
              "    <tr>\n",
              "      <th>3229</th>\n",
              "      <td>1320339013727899648</td>\n",
              "      <td>2020-10-25 12:18:46</td>\n",
              "      <td>once the flights resumed it will show in our website and you can book your flight residents wit...</td>\n",
              "      <td>0</td>\n",
              "      <td>False</td>\n",
              "      <td>Saudi Arabia</td>\n",
              "      <td>en</td>\n",
              "      <td>Saudi_airlines</td>\n",
              "    </tr>\n",
              "    <tr>\n",
              "      <th>3231</th>\n",
              "      <td>1320337737224998918</td>\n",
              "      <td>2020-10-25 12:13:41</td>\n",
              "      <td>once the flights resumed it will show in our website and yo can book your flight residents with...</td>\n",
              "      <td>0</td>\n",
              "      <td>False</td>\n",
              "      <td>Saudi Arabia</td>\n",
              "      <td>en</td>\n",
              "      <td>Saudi_airlines</td>\n",
              "    </tr>\n",
              "  </tbody>\n",
              "</table>\n",
              "<p>1464 rows × 8 columns</p>\n",
              "</div>"
            ],
            "text/plain": [
              "                 tweet_id           created_at  ... language         airline\n",
              "14    1335393841810202624  2020-12-06 01:21:16  ...       en  Saudi_airlines\n",
              "23    1335337522738720770  2020-12-05 21:37:29  ...       en  Saudi_airlines\n",
              "29    1335334320014315521  2020-12-05 21:24:45  ...       en  Saudi_airlines\n",
              "38    1335322063851167748  2020-12-05 20:36:03  ...       en  Saudi_airlines\n",
              "43    1335314759588122626  2020-12-05 20:07:02  ...       en  Saudi_airlines\n",
              "...                   ...                  ...  ...      ...             ...\n",
              "3225  1320352707732000768  2020-10-25 13:13:11  ...       en  Saudi_airlines\n",
              "3226  1320352682104729600  2020-10-25 13:13:05  ...       en  Saudi_airlines\n",
              "3227  1320352661305237507  2020-10-25 13:13:00  ...       en  Saudi_airlines\n",
              "3229  1320339013727899648  2020-10-25 12:18:46  ...       en  Saudi_airlines\n",
              "3231  1320337737224998918  2020-10-25 12:13:41  ...       en  Saudi_airlines\n",
              "\n",
              "[1464 rows x 8 columns]"
            ]
          },
          "metadata": {
            "tags": []
          },
          "execution_count": 11
        }
      ]
    },
    {
      "cell_type": "markdown",
      "metadata": {
        "id": "Q37qJC7QJaPs"
      },
      "source": [
        "**Flynas**"
      ]
    },
    {
      "cell_type": "code",
      "metadata": {
        "colab": {
          "base_uri": "https://localhost:8080/",
          "height": 631
        },
        "id": "Fwk48mZvJZGc",
        "outputId": "1f4e5ebf-76a7-4708-b27b-45cc8d1562f2"
      },
      "source": [
        "# Clean the tweets\n",
        "flynas_airlines_en[\"text\"] = flynas_airlines_en[\"text\"].apply(cleanTxt)\n",
        "\n",
        "# Show the cleaned tweets\n",
        "flynas_airlines_en.head(10)"
      ],
      "execution_count": 36,
      "outputs": [
        {
          "output_type": "stream",
          "text": [
            "/usr/local/lib/python3.6/dist-packages/ipykernel_launcher.py:2: SettingWithCopyWarning: \n",
            "A value is trying to be set on a copy of a slice from a DataFrame.\n",
            "Try using .loc[row_indexer,col_indexer] = value instead\n",
            "\n",
            "See the caveats in the documentation: https://pandas.pydata.org/pandas-docs/stable/user_guide/indexing.html#returning-a-view-versus-a-copy\n",
            "  \n"
          ],
          "name": "stderr"
        },
        {
          "output_type": "execute_result",
          "data": {
            "text/html": [
              "<div>\n",
              "<style scoped>\n",
              "    .dataframe tbody tr th:only-of-type {\n",
              "        vertical-align: middle;\n",
              "    }\n",
              "\n",
              "    .dataframe tbody tr th {\n",
              "        vertical-align: top;\n",
              "    }\n",
              "\n",
              "    .dataframe thead th {\n",
              "        text-align: right;\n",
              "    }\n",
              "</style>\n",
              "<table border=\"1\" class=\"dataframe\">\n",
              "  <thead>\n",
              "    <tr style=\"text-align: right;\">\n",
              "      <th></th>\n",
              "      <th>tweet_id</th>\n",
              "      <th>created_at</th>\n",
              "      <th>text</th>\n",
              "      <th>likes</th>\n",
              "      <th>retweeted</th>\n",
              "      <th>location</th>\n",
              "      <th>language</th>\n",
              "      <th>airline</th>\n",
              "    </tr>\n",
              "  </thead>\n",
              "  <tbody>\n",
              "    <tr>\n",
              "      <th>2</th>\n",
              "      <td>1335581954213900288</td>\n",
              "      <td>2020-12-06 13:48:46</td>\n",
              "      <td>parmar hello kindly provide us with your booking number on private message</td>\n",
              "      <td>0</td>\n",
              "      <td>False</td>\n",
              "      <td>Saudi Arabia</td>\n",
              "      <td>en</td>\n",
              "      <td>flynas</td>\n",
              "    </tr>\n",
              "    <tr>\n",
              "      <th>17</th>\n",
              "      <td>1335517244978245632</td>\n",
              "      <td>2020-12-06 09:31:38</td>\n",
              "      <td>hello please provide us with your reservation number via the private please</td>\n",
              "      <td>0</td>\n",
              "      <td>False</td>\n",
              "      <td>Saudi Arabia</td>\n",
              "      <td>en</td>\n",
              "      <td>flynas</td>\n",
              "    </tr>\n",
              "    <tr>\n",
              "      <th>19</th>\n",
              "      <td>1335515818642255873</td>\n",
              "      <td>2020-12-06 09:25:58</td>\n",
              "      <td>lulzz hello kindly provide us with your booking number on private message</td>\n",
              "      <td>0</td>\n",
              "      <td>False</td>\n",
              "      <td>Saudi Arabia</td>\n",
              "      <td>en</td>\n",
              "      <td>flynas</td>\n",
              "    </tr>\n",
              "    <tr>\n",
              "      <th>51</th>\n",
              "      <td>1335109047671001088</td>\n",
              "      <td>2020-12-05 06:29:36</td>\n",
              "      <td>hi kindly keep following us continuously any new flights will be announced as soon as they beco...</td>\n",
              "      <td>0</td>\n",
              "      <td>False</td>\n",
              "      <td>Saudi Arabia</td>\n",
              "      <td>en</td>\n",
              "      <td>flynas</td>\n",
              "    </tr>\n",
              "    <tr>\n",
              "      <th>65</th>\n",
              "      <td>1334936896925995009</td>\n",
              "      <td>2020-12-04 19:05:32</td>\n",
              "      <td>god bless you follow us and an announcement will be made when any new trips are available god w...</td>\n",
              "      <td>0</td>\n",
              "      <td>False</td>\n",
              "      <td>Saudi Arabia</td>\n",
              "      <td>en</td>\n",
              "      <td>flynas</td>\n",
              "    </tr>\n",
              "    <tr>\n",
              "      <th>140</th>\n",
              "      <td>1334357826085511168</td>\n",
              "      <td>2020-12-03 04:44:31</td>\n",
              "      <td>hello kindly provide us with your reservation number in private message</td>\n",
              "      <td>0</td>\n",
              "      <td>False</td>\n",
              "      <td>Saudi Arabia</td>\n",
              "      <td>en</td>\n",
              "      <td>flynas</td>\n",
              "    </tr>\n",
              "    <tr>\n",
              "      <th>155</th>\n",
              "      <td>1334213615025594368</td>\n",
              "      <td>2020-12-02 19:11:28</td>\n",
              "      <td>khan hello dear kindly keep following us and we will announce if flights are available</td>\n",
              "      <td>1</td>\n",
              "      <td>False</td>\n",
              "      <td>Saudi Arabia</td>\n",
              "      <td>en</td>\n",
              "      <td>flynas</td>\n",
              "    </tr>\n",
              "    <tr>\n",
              "      <th>174</th>\n",
              "      <td>1334040421144682499</td>\n",
              "      <td>2020-12-02 07:43:16</td>\n",
              "      <td>khan hello dear follow us we will be announce when flights resume thank you</td>\n",
              "      <td>0</td>\n",
              "      <td>False</td>\n",
              "      <td>Saudi Arabia</td>\n",
              "      <td>en</td>\n",
              "      <td>flynas</td>\n",
              "    </tr>\n",
              "    <tr>\n",
              "      <th>175</th>\n",
              "      <td>1334038103120621568</td>\n",
              "      <td>2020-12-02 07:34:03</td>\n",
              "      <td>u dear kindly provide us with your booking number in private message and delete the tweet becaus...</td>\n",
              "      <td>0</td>\n",
              "      <td>False</td>\n",
              "      <td>Saudi Arabia</td>\n",
              "      <td>en</td>\n",
              "      <td>flynas</td>\n",
              "    </tr>\n",
              "    <tr>\n",
              "      <th>206</th>\n",
              "      <td>1333752758852317189</td>\n",
              "      <td>2020-12-01 12:40:12</td>\n",
              "      <td>dear follow us if available will be announced thank you</td>\n",
              "      <td>0</td>\n",
              "      <td>False</td>\n",
              "      <td>Saudi Arabia</td>\n",
              "      <td>en</td>\n",
              "      <td>flynas</td>\n",
              "    </tr>\n",
              "  </tbody>\n",
              "</table>\n",
              "</div>"
            ],
            "text/plain": [
              "                tweet_id           created_at  ... language  airline\n",
              "2    1335581954213900288  2020-12-06 13:48:46  ...       en   flynas\n",
              "17   1335517244978245632  2020-12-06 09:31:38  ...       en   flynas\n",
              "19   1335515818642255873  2020-12-06 09:25:58  ...       en   flynas\n",
              "51   1335109047671001088  2020-12-05 06:29:36  ...       en   flynas\n",
              "65   1334936896925995009  2020-12-04 19:05:32  ...       en   flynas\n",
              "140  1334357826085511168  2020-12-03 04:44:31  ...       en   flynas\n",
              "155  1334213615025594368  2020-12-02 19:11:28  ...       en   flynas\n",
              "174  1334040421144682499  2020-12-02 07:43:16  ...       en   flynas\n",
              "175  1334038103120621568  2020-12-02 07:34:03  ...       en   flynas\n",
              "206  1333752758852317189  2020-12-01 12:40:12  ...       en   flynas\n",
              "\n",
              "[10 rows x 8 columns]"
            ]
          },
          "metadata": {
            "tags": []
          },
          "execution_count": 36
        }
      ]
    },
    {
      "cell_type": "markdown",
      "metadata": {
        "id": "WNyjvOcMJb6I"
      },
      "source": [
        "#Tokanization"
      ]
    },
    {
      "cell_type": "code",
      "metadata": {
        "id": "ste8xB17RRqR"
      },
      "source": [
        "def tokenization(text):\n",
        "    text = re.split('\\W+', text)\n",
        "    return text\n"
      ],
      "execution_count": 37,
      "outputs": []
    },
    {
      "cell_type": "markdown",
      "metadata": {
        "id": "rgdFakOrJ115"
      },
      "source": [
        "**Saudia Airlines**"
      ]
    },
    {
      "cell_type": "code",
      "metadata": {
        "colab": {
          "base_uri": "https://localhost:8080/",
          "height": 493
        },
        "id": "CN5KKh-fRrFe",
        "outputId": "db98ca5c-7dc5-4646-9a81-61a94ee32f29"
      },
      "source": [
        "\n",
        "saudia_airlines_en['Tweet_tokenized'] = saudia_airlines_en['text'].apply(lambda x: tokenization(x.lower()))\n",
        "saudia_airlines_en.head(10)"
      ],
      "execution_count": 13,
      "outputs": [
        {
          "output_type": "stream",
          "text": [
            "/usr/local/lib/python3.6/dist-packages/ipykernel_launcher.py:2: SettingWithCopyWarning: \n",
            "A value is trying to be set on a copy of a slice from a DataFrame.\n",
            "Try using .loc[row_indexer,col_indexer] = value instead\n",
            "\n",
            "See the caveats in the documentation: https://pandas.pydata.org/pandas-docs/stable/user_guide/indexing.html#returning-a-view-versus-a-copy\n",
            "  \n"
          ],
          "name": "stderr"
        },
        {
          "output_type": "execute_result",
          "data": {
            "text/html": [
              "<div>\n",
              "<style scoped>\n",
              "    .dataframe tbody tr th:only-of-type {\n",
              "        vertical-align: middle;\n",
              "    }\n",
              "\n",
              "    .dataframe tbody tr th {\n",
              "        vertical-align: top;\n",
              "    }\n",
              "\n",
              "    .dataframe thead th {\n",
              "        text-align: right;\n",
              "    }\n",
              "</style>\n",
              "<table border=\"1\" class=\"dataframe\">\n",
              "  <thead>\n",
              "    <tr style=\"text-align: right;\">\n",
              "      <th></th>\n",
              "      <th>tweet_id</th>\n",
              "      <th>created_at</th>\n",
              "      <th>text</th>\n",
              "      <th>likes</th>\n",
              "      <th>retweeted</th>\n",
              "      <th>location</th>\n",
              "      <th>language</th>\n",
              "      <th>airline</th>\n",
              "      <th>Tweet_tokenized</th>\n",
              "    </tr>\n",
              "  </thead>\n",
              "  <tbody>\n",
              "    <tr>\n",
              "      <th>14</th>\n",
              "      <td>1335393841810202624</td>\n",
              "      <td>2020-12-06 01:21:16</td>\n",
              "      <td>dear guest there is no flight from india to saudi arabia at this time kindly follow the flights…</td>\n",
              "      <td>1</td>\n",
              "      <td>False</td>\n",
              "      <td>Saudi Arabia</td>\n",
              "      <td>en</td>\n",
              "      <td>Saudi_airlines</td>\n",
              "      <td>[, dear, guest, there, is, no, flight, from, india, to, saudi, arabia, at, this, time, kindly, f...</td>\n",
              "    </tr>\n",
              "    <tr>\n",
              "      <th>23</th>\n",
              "      <td>1335337522738720770</td>\n",
              "      <td>2020-12-05 21:37:29</td>\n",
              "      <td>hello dear guest we hope you check and be informed of travel updates due to the corona virus co...</td>\n",
              "      <td>1</td>\n",
              "      <td>False</td>\n",
              "      <td>Saudi Arabia</td>\n",
              "      <td>en</td>\n",
              "      <td>Saudi_airlines</td>\n",
              "      <td>[, hello, dear, guest, we, hope, you, check, and, be, informed, of, travel, updates, due, to, th...</td>\n",
              "    </tr>\n",
              "    <tr>\n",
              "      <th>29</th>\n",
              "      <td>1335334320014315521</td>\n",
              "      <td>2020-12-05 21:24:45</td>\n",
              "      <td>hello dear guest please provide us with the booking number through the direct message to let yo...</td>\n",
              "      <td>0</td>\n",
              "      <td>False</td>\n",
              "      <td>Saudi Arabia</td>\n",
              "      <td>en</td>\n",
              "      <td>Saudi_airlines</td>\n",
              "      <td>[, hello, dear, guest, please, provide, us, with, the, booking, number, through, the, direct, me...</td>\n",
              "    </tr>\n",
              "    <tr>\n",
              "      <th>38</th>\n",
              "      <td>1335322063851167748</td>\n",
              "      <td>2020-12-05 20:36:03</td>\n",
              "      <td>dear guest there is no flight from india to saudi arabia at this time when flights schedule back…</td>\n",
              "      <td>1</td>\n",
              "      <td>False</td>\n",
              "      <td>Saudi Arabia</td>\n",
              "      <td>en</td>\n",
              "      <td>Saudi_airlines</td>\n",
              "      <td>[, dear, guest, there, is, no, flight, from, india, to, saudi, arabia, at, this, time, when, fli...</td>\n",
              "    </tr>\n",
              "    <tr>\n",
              "      <th>43</th>\n",
              "      <td>1335314759588122626</td>\n",
              "      <td>2020-12-05 20:07:02</td>\n",
              "      <td>hello dear guest you can follow up the flights schedule in our website  …</td>\n",
              "      <td>1</td>\n",
              "      <td>False</td>\n",
              "      <td>Saudi Arabia</td>\n",
              "      <td>en</td>\n",
              "      <td>Saudi_airlines</td>\n",
              "      <td>[, hello, dear, guest, you, can, follow, up, the, flights, schedule, in, our, website, ]</td>\n",
              "    </tr>\n",
              "  </tbody>\n",
              "</table>\n",
              "</div>"
            ],
            "text/plain": [
              "               tweet_id  ...                                                                                      Tweet_tokenized\n",
              "14  1335393841810202624  ...  [, dear, guest, there, is, no, flight, from, india, to, saudi, arabia, at, this, time, kindly, f...\n",
              "23  1335337522738720770  ...  [, hello, dear, guest, we, hope, you, check, and, be, informed, of, travel, updates, due, to, th...\n",
              "29  1335334320014315521  ...  [, hello, dear, guest, please, provide, us, with, the, booking, number, through, the, direct, me...\n",
              "38  1335322063851167748  ...  [, dear, guest, there, is, no, flight, from, india, to, saudi, arabia, at, this, time, when, fli...\n",
              "43  1335314759588122626  ...             [, hello, dear, guest, you, can, follow, up, the, flights, schedule, in, our, website, ]\n",
              "\n",
              "[5 rows x 9 columns]"
            ]
          },
          "metadata": {
            "tags": []
          },
          "execution_count": 13
        }
      ]
    },
    {
      "cell_type": "markdown",
      "metadata": {
        "id": "Wx7qP5iTJ5q1"
      },
      "source": [
        "**Flynas**"
      ]
    },
    {
      "cell_type": "code",
      "metadata": {
        "colab": {
          "base_uri": "https://localhost:8080/",
          "height": 476
        },
        "id": "phIodgwNJ52R",
        "outputId": "472e52b4-40e9-425b-e379-46845cc86f54"
      },
      "source": [
        "flynas_airlines_en['Tweet_tokenized'] = flynas_airlines_en['text'].apply(lambda x: tokenization(x.lower()))\n",
        "flynas_airlines_en.head(10)"
      ],
      "execution_count": 38,
      "outputs": [
        {
          "output_type": "stream",
          "text": [
            "/usr/local/lib/python3.6/dist-packages/ipykernel_launcher.py:1: SettingWithCopyWarning: \n",
            "A value is trying to be set on a copy of a slice from a DataFrame.\n",
            "Try using .loc[row_indexer,col_indexer] = value instead\n",
            "\n",
            "See the caveats in the documentation: https://pandas.pydata.org/pandas-docs/stable/user_guide/indexing.html#returning-a-view-versus-a-copy\n",
            "  \"\"\"Entry point for launching an IPython kernel.\n"
          ],
          "name": "stderr"
        },
        {
          "output_type": "execute_result",
          "data": {
            "text/html": [
              "<div>\n",
              "<style scoped>\n",
              "    .dataframe tbody tr th:only-of-type {\n",
              "        vertical-align: middle;\n",
              "    }\n",
              "\n",
              "    .dataframe tbody tr th {\n",
              "        vertical-align: top;\n",
              "    }\n",
              "\n",
              "    .dataframe thead th {\n",
              "        text-align: right;\n",
              "    }\n",
              "</style>\n",
              "<table border=\"1\" class=\"dataframe\">\n",
              "  <thead>\n",
              "    <tr style=\"text-align: right;\">\n",
              "      <th></th>\n",
              "      <th>tweet_id</th>\n",
              "      <th>created_at</th>\n",
              "      <th>text</th>\n",
              "      <th>likes</th>\n",
              "      <th>retweeted</th>\n",
              "      <th>location</th>\n",
              "      <th>language</th>\n",
              "      <th>airline</th>\n",
              "      <th>Tweet_tokenized</th>\n",
              "    </tr>\n",
              "  </thead>\n",
              "  <tbody>\n",
              "    <tr>\n",
              "      <th>2</th>\n",
              "      <td>1335581954213900288</td>\n",
              "      <td>2020-12-06 13:48:46</td>\n",
              "      <td>parmar hello kindly provide us with your booking number on private message</td>\n",
              "      <td>0</td>\n",
              "      <td>False</td>\n",
              "      <td>Saudi Arabia</td>\n",
              "      <td>en</td>\n",
              "      <td>flynas</td>\n",
              "      <td>[parmar, hello, kindly, provide, us, with, your, booking, number, on, private, message]</td>\n",
              "    </tr>\n",
              "    <tr>\n",
              "      <th>17</th>\n",
              "      <td>1335517244978245632</td>\n",
              "      <td>2020-12-06 09:31:38</td>\n",
              "      <td>hello please provide us with your reservation number via the private please</td>\n",
              "      <td>0</td>\n",
              "      <td>False</td>\n",
              "      <td>Saudi Arabia</td>\n",
              "      <td>en</td>\n",
              "      <td>flynas</td>\n",
              "      <td>[, hello, please, provide, us, with, your, reservation, number, via, the, private, please]</td>\n",
              "    </tr>\n",
              "    <tr>\n",
              "      <th>19</th>\n",
              "      <td>1335515818642255873</td>\n",
              "      <td>2020-12-06 09:25:58</td>\n",
              "      <td>lulzz hello kindly provide us with your booking number on private message</td>\n",
              "      <td>0</td>\n",
              "      <td>False</td>\n",
              "      <td>Saudi Arabia</td>\n",
              "      <td>en</td>\n",
              "      <td>flynas</td>\n",
              "      <td>[lulzz, hello, kindly, provide, us, with, your, booking, number, on, private, message, ]</td>\n",
              "    </tr>\n",
              "    <tr>\n",
              "      <th>51</th>\n",
              "      <td>1335109047671001088</td>\n",
              "      <td>2020-12-05 06:29:36</td>\n",
              "      <td>hi kindly keep following us continuously any new flights will be announced as soon as they beco...</td>\n",
              "      <td>0</td>\n",
              "      <td>False</td>\n",
              "      <td>Saudi Arabia</td>\n",
              "      <td>en</td>\n",
              "      <td>flynas</td>\n",
              "      <td>[, hi, kindly, keep, following, us, continuously, any, new, flights, will, be, announced, as, so...</td>\n",
              "    </tr>\n",
              "    <tr>\n",
              "      <th>65</th>\n",
              "      <td>1334936896925995009</td>\n",
              "      <td>2020-12-04 19:05:32</td>\n",
              "      <td>god bless you follow us and an announcement will be made when any new trips are available god w...</td>\n",
              "      <td>0</td>\n",
              "      <td>False</td>\n",
              "      <td>Saudi Arabia</td>\n",
              "      <td>en</td>\n",
              "      <td>flynas</td>\n",
              "      <td>[, god, bless, you, follow, us, and, an, announcement, will, be, made, when, any, new, trips, ar...</td>\n",
              "    </tr>\n",
              "  </tbody>\n",
              "</table>\n",
              "</div>"
            ],
            "text/plain": [
              "               tweet_id  ...                                                                                      Tweet_tokenized\n",
              "2   1335581954213900288  ...              [parmar, hello, kindly, provide, us, with, your, booking, number, on, private, message]\n",
              "17  1335517244978245632  ...           [, hello, please, provide, us, with, your, reservation, number, via, the, private, please]\n",
              "19  1335515818642255873  ...             [lulzz, hello, kindly, provide, us, with, your, booking, number, on, private, message, ]\n",
              "51  1335109047671001088  ...  [, hi, kindly, keep, following, us, continuously, any, new, flights, will, be, announced, as, so...\n",
              "65  1334936896925995009  ...  [, god, bless, you, follow, us, and, an, announcement, will, be, made, when, any, new, trips, ar...\n",
              "\n",
              "[5 rows x 9 columns]"
            ]
          },
          "metadata": {
            "tags": []
          },
          "execution_count": 38
        }
      ]
    },
    {
      "cell_type": "markdown",
      "metadata": {
        "id": "E91sKwLcWPbf"
      },
      "source": [
        "#stemming\n",
        "\n",
        "stemming is basically an algorithm to categorize similar words into one. "
      ]
    },
    {
      "cell_type": "code",
      "metadata": {
        "id": "f34UQPonZUf_"
      },
      "source": [
        "ps = nltk.PorterStemmer()\n",
        "\n",
        "def stemming(text):\n",
        "    text = [ps.stem(word) for word in text]\n",
        "    return text"
      ],
      "execution_count": 39,
      "outputs": []
    },
    {
      "cell_type": "markdown",
      "metadata": {
        "id": "hLleTSuFKPUb"
      },
      "source": [
        "**Saudia Airlines**"
      ]
    },
    {
      "cell_type": "code",
      "metadata": {
        "id": "fMRaOH2gKHEL"
      },
      "source": [
        "saudia_airlines_en['Tweet_stemmed'] = saudia_airlines_en['Tweet_tokenized'].apply(lambda x: stemming(x))\n",
        "saudia_airlines_en.head(10)"
      ],
      "execution_count": null,
      "outputs": []
    },
    {
      "cell_type": "markdown",
      "metadata": {
        "id": "ECx8LdFiKVab"
      },
      "source": [
        "**Flynas**"
      ]
    },
    {
      "cell_type": "code",
      "metadata": {
        "colab": {
          "base_uri": "https://localhost:8080/",
          "height": 1000
        },
        "id": "jnoLofgDKXnF",
        "outputId": "cd202c52-1f09-4264-8731-574a7c634584"
      },
      "source": [
        "flynas_airlines_en['Tweet_stemmed'] = flynas_airlines_en['Tweet_tokenized'].apply(lambda x: stemming(x))\n",
        "flynas_airlines_en.head(10)"
      ],
      "execution_count": 40,
      "outputs": [
        {
          "output_type": "stream",
          "text": [
            "/usr/local/lib/python3.6/dist-packages/ipykernel_launcher.py:1: SettingWithCopyWarning: \n",
            "A value is trying to be set on a copy of a slice from a DataFrame.\n",
            "Try using .loc[row_indexer,col_indexer] = value instead\n",
            "\n",
            "See the caveats in the documentation: https://pandas.pydata.org/pandas-docs/stable/user_guide/indexing.html#returning-a-view-versus-a-copy\n",
            "  \"\"\"Entry point for launching an IPython kernel.\n"
          ],
          "name": "stderr"
        },
        {
          "output_type": "execute_result",
          "data": {
            "text/html": [
              "<div>\n",
              "<style scoped>\n",
              "    .dataframe tbody tr th:only-of-type {\n",
              "        vertical-align: middle;\n",
              "    }\n",
              "\n",
              "    .dataframe tbody tr th {\n",
              "        vertical-align: top;\n",
              "    }\n",
              "\n",
              "    .dataframe thead th {\n",
              "        text-align: right;\n",
              "    }\n",
              "</style>\n",
              "<table border=\"1\" class=\"dataframe\">\n",
              "  <thead>\n",
              "    <tr style=\"text-align: right;\">\n",
              "      <th></th>\n",
              "      <th>tweet_id</th>\n",
              "      <th>created_at</th>\n",
              "      <th>text</th>\n",
              "      <th>likes</th>\n",
              "      <th>retweeted</th>\n",
              "      <th>location</th>\n",
              "      <th>language</th>\n",
              "      <th>airline</th>\n",
              "      <th>Tweet_tokenized</th>\n",
              "      <th>Tweet_stemmed</th>\n",
              "    </tr>\n",
              "  </thead>\n",
              "  <tbody>\n",
              "    <tr>\n",
              "      <th>2</th>\n",
              "      <td>1335581954213900288</td>\n",
              "      <td>2020-12-06 13:48:46</td>\n",
              "      <td>parmar hello kindly provide us with your booking number on private message</td>\n",
              "      <td>0</td>\n",
              "      <td>False</td>\n",
              "      <td>Saudi Arabia</td>\n",
              "      <td>en</td>\n",
              "      <td>flynas</td>\n",
              "      <td>[parmar, hello, kindly, provide, us, with, your, booking, number, on, private, message]</td>\n",
              "      <td>[parmar, hello, kindli, provid, us, with, your, book, number, on, privat, messag]</td>\n",
              "    </tr>\n",
              "    <tr>\n",
              "      <th>17</th>\n",
              "      <td>1335517244978245632</td>\n",
              "      <td>2020-12-06 09:31:38</td>\n",
              "      <td>hello please provide us with your reservation number via the private please</td>\n",
              "      <td>0</td>\n",
              "      <td>False</td>\n",
              "      <td>Saudi Arabia</td>\n",
              "      <td>en</td>\n",
              "      <td>flynas</td>\n",
              "      <td>[, hello, please, provide, us, with, your, reservation, number, via, the, private, please]</td>\n",
              "      <td>[, hello, pleas, provid, us, with, your, reserv, number, via, the, privat, pleas]</td>\n",
              "    </tr>\n",
              "    <tr>\n",
              "      <th>19</th>\n",
              "      <td>1335515818642255873</td>\n",
              "      <td>2020-12-06 09:25:58</td>\n",
              "      <td>lulzz hello kindly provide us with your booking number on private message</td>\n",
              "      <td>0</td>\n",
              "      <td>False</td>\n",
              "      <td>Saudi Arabia</td>\n",
              "      <td>en</td>\n",
              "      <td>flynas</td>\n",
              "      <td>[lulzz, hello, kindly, provide, us, with, your, booking, number, on, private, message, ]</td>\n",
              "      <td>[lulzz, hello, kindli, provid, us, with, your, book, number, on, privat, messag, ]</td>\n",
              "    </tr>\n",
              "    <tr>\n",
              "      <th>51</th>\n",
              "      <td>1335109047671001088</td>\n",
              "      <td>2020-12-05 06:29:36</td>\n",
              "      <td>hi kindly keep following us continuously any new flights will be announced as soon as they beco...</td>\n",
              "      <td>0</td>\n",
              "      <td>False</td>\n",
              "      <td>Saudi Arabia</td>\n",
              "      <td>en</td>\n",
              "      <td>flynas</td>\n",
              "      <td>[, hi, kindly, keep, following, us, continuously, any, new, flights, will, be, announced, as, so...</td>\n",
              "      <td>[, hi, kindli, keep, follow, us, continu, ani, new, flight, will, be, announc, as, soon, as, the...</td>\n",
              "    </tr>\n",
              "    <tr>\n",
              "      <th>65</th>\n",
              "      <td>1334936896925995009</td>\n",
              "      <td>2020-12-04 19:05:32</td>\n",
              "      <td>god bless you follow us and an announcement will be made when any new trips are available god w...</td>\n",
              "      <td>0</td>\n",
              "      <td>False</td>\n",
              "      <td>Saudi Arabia</td>\n",
              "      <td>en</td>\n",
              "      <td>flynas</td>\n",
              "      <td>[, god, bless, you, follow, us, and, an, announcement, will, be, made, when, any, new, trips, ar...</td>\n",
              "      <td>[, god, bless, you, follow, us, and, an, announc, will, be, made, when, ani, new, trip, are, ava...</td>\n",
              "    </tr>\n",
              "    <tr>\n",
              "      <th>140</th>\n",
              "      <td>1334357826085511168</td>\n",
              "      <td>2020-12-03 04:44:31</td>\n",
              "      <td>hello kindly provide us with your reservation number in private message</td>\n",
              "      <td>0</td>\n",
              "      <td>False</td>\n",
              "      <td>Saudi Arabia</td>\n",
              "      <td>en</td>\n",
              "      <td>flynas</td>\n",
              "      <td>[, hello, kindly, provide, us, with, your, reservation, number, in, private, message, ]</td>\n",
              "      <td>[, hello, kindli, provid, us, with, your, reserv, number, in, privat, messag, ]</td>\n",
              "    </tr>\n",
              "    <tr>\n",
              "      <th>155</th>\n",
              "      <td>1334213615025594368</td>\n",
              "      <td>2020-12-02 19:11:28</td>\n",
              "      <td>khan hello dear kindly keep following us and we will announce if flights are available</td>\n",
              "      <td>1</td>\n",
              "      <td>False</td>\n",
              "      <td>Saudi Arabia</td>\n",
              "      <td>en</td>\n",
              "      <td>flynas</td>\n",
              "      <td>[khan, hello, dear, kindly, keep, following, us, and, we, will, announce, if, flights, are, avai...</td>\n",
              "      <td>[khan, hello, dear, kindli, keep, follow, us, and, we, will, announc, if, flight, are, avail]</td>\n",
              "    </tr>\n",
              "    <tr>\n",
              "      <th>174</th>\n",
              "      <td>1334040421144682499</td>\n",
              "      <td>2020-12-02 07:43:16</td>\n",
              "      <td>khan hello dear follow us we will be announce when flights resume thank you</td>\n",
              "      <td>0</td>\n",
              "      <td>False</td>\n",
              "      <td>Saudi Arabia</td>\n",
              "      <td>en</td>\n",
              "      <td>flynas</td>\n",
              "      <td>[khan, hello, dear, follow, us, we, will, be, announce, when, flights, resume, thank, you]</td>\n",
              "      <td>[khan, hello, dear, follow, us, we, will, be, announc, when, flight, resum, thank, you]</td>\n",
              "    </tr>\n",
              "    <tr>\n",
              "      <th>175</th>\n",
              "      <td>1334038103120621568</td>\n",
              "      <td>2020-12-02 07:34:03</td>\n",
              "      <td>u dear kindly provide us with your booking number in private message and delete the tweet becaus...</td>\n",
              "      <td>0</td>\n",
              "      <td>False</td>\n",
              "      <td>Saudi Arabia</td>\n",
              "      <td>en</td>\n",
              "      <td>flynas</td>\n",
              "      <td>[u, dear, kindly, provide, us, with, your, booking, number, in, private, message, and, delete, t...</td>\n",
              "      <td>[u, dear, kindli, provid, us, with, your, book, number, in, privat, messag, and, delet, the, twe...</td>\n",
              "    </tr>\n",
              "    <tr>\n",
              "      <th>206</th>\n",
              "      <td>1333752758852317189</td>\n",
              "      <td>2020-12-01 12:40:12</td>\n",
              "      <td>dear follow us if available will be announced thank you</td>\n",
              "      <td>0</td>\n",
              "      <td>False</td>\n",
              "      <td>Saudi Arabia</td>\n",
              "      <td>en</td>\n",
              "      <td>flynas</td>\n",
              "      <td>[, dear, follow, us, if, available, will, be, announced, thank, you]</td>\n",
              "      <td>[, dear, follow, us, if, avail, will, be, announc, thank, you]</td>\n",
              "    </tr>\n",
              "  </tbody>\n",
              "</table>\n",
              "</div>"
            ],
            "text/plain": [
              "                tweet_id  ...                                                                                        Tweet_stemmed\n",
              "2    1335581954213900288  ...                    [parmar, hello, kindli, provid, us, with, your, book, number, on, privat, messag]\n",
              "17   1335517244978245632  ...                    [, hello, pleas, provid, us, with, your, reserv, number, via, the, privat, pleas]\n",
              "19   1335515818642255873  ...                   [lulzz, hello, kindli, provid, us, with, your, book, number, on, privat, messag, ]\n",
              "51   1335109047671001088  ...  [, hi, kindli, keep, follow, us, continu, ani, new, flight, will, be, announc, as, soon, as, the...\n",
              "65   1334936896925995009  ...  [, god, bless, you, follow, us, and, an, announc, will, be, made, when, ani, new, trip, are, ava...\n",
              "140  1334357826085511168  ...                      [, hello, kindli, provid, us, with, your, reserv, number, in, privat, messag, ]\n",
              "155  1334213615025594368  ...        [khan, hello, dear, kindli, keep, follow, us, and, we, will, announc, if, flight, are, avail]\n",
              "174  1334040421144682499  ...              [khan, hello, dear, follow, us, we, will, be, announc, when, flight, resum, thank, you]\n",
              "175  1334038103120621568  ...  [u, dear, kindli, provid, us, with, your, book, number, in, privat, messag, and, delet, the, twe...\n",
              "206  1333752758852317189  ...                                       [, dear, follow, us, if, avail, will, be, announc, thank, you]\n",
              "\n",
              "[10 rows x 10 columns]"
            ]
          },
          "metadata": {
            "tags": []
          },
          "execution_count": 40
        }
      ]
    },
    {
      "cell_type": "markdown",
      "metadata": {
        "id": "qyceIrDnYlWV"
      },
      "source": [
        "#Lemmatizing\n",
        "\n",
        "According to wiki, Lemmatisation is closely related to stemming. The difference is that a stemmer operates on a single word without knowledge of the context, and therefore cannot discriminate between words which have different meanings depending on part of speech"
      ]
    },
    {
      "cell_type": "code",
      "metadata": {
        "colab": {
          "base_uri": "https://localhost:8080/"
        },
        "id": "Uti6WRCQWXUj",
        "outputId": "9a821c99-658b-48f3-eb13-476d746c89ac"
      },
      "source": [
        "nltk.download('wordnet')\n",
        "wn = nltk.WordNetLemmatizer()\n",
        "\n",
        "def lemmatize(text):\n",
        "    text = [wn.lemmatize(word) for word in text]\n",
        "    return text\n"
      ],
      "execution_count": 41,
      "outputs": [
        {
          "output_type": "stream",
          "text": [
            "[nltk_data] Downloading package wordnet to /root/nltk_data...\n",
            "[nltk_data]   Package wordnet is already up-to-date!\n"
          ],
          "name": "stdout"
        }
      ]
    },
    {
      "cell_type": "markdown",
      "metadata": {
        "id": "oX-EMgw2Khuy"
      },
      "source": [
        "**Saudia Airlines**"
      ]
    },
    {
      "cell_type": "code",
      "metadata": {
        "id": "2XJJfuwZKh7g"
      },
      "source": [
        "saudia_airlines_en['Tweet_lemmatized'] = saudia_airlines_en['Tweet_tokenized'].apply(lambda x: lemmatize(x))\n",
        "saudia_airlines_en.head(10)"
      ],
      "execution_count": null,
      "outputs": []
    },
    {
      "cell_type": "markdown",
      "metadata": {
        "id": "8c9vk5ZNKnyX"
      },
      "source": [
        "**Flynas**"
      ]
    },
    {
      "cell_type": "code",
      "metadata": {
        "colab": {
          "base_uri": "https://localhost:8080/",
          "height": 1000
        },
        "id": "AmuLno0yKn_a",
        "outputId": "ae6283de-1401-4ace-df72-d0d7b6264c22"
      },
      "source": [
        "flynas_airlines_en['Tweet_lemmatized'] = flynas_airlines_en['Tweet_tokenized'].apply(lambda x: lemmatize(x))\n",
        "flynas_airlines_en.head(10)"
      ],
      "execution_count": 42,
      "outputs": [
        {
          "output_type": "stream",
          "text": [
            "/usr/local/lib/python3.6/dist-packages/ipykernel_launcher.py:1: SettingWithCopyWarning: \n",
            "A value is trying to be set on a copy of a slice from a DataFrame.\n",
            "Try using .loc[row_indexer,col_indexer] = value instead\n",
            "\n",
            "See the caveats in the documentation: https://pandas.pydata.org/pandas-docs/stable/user_guide/indexing.html#returning-a-view-versus-a-copy\n",
            "  \"\"\"Entry point for launching an IPython kernel.\n"
          ],
          "name": "stderr"
        },
        {
          "output_type": "execute_result",
          "data": {
            "text/html": [
              "<div>\n",
              "<style scoped>\n",
              "    .dataframe tbody tr th:only-of-type {\n",
              "        vertical-align: middle;\n",
              "    }\n",
              "\n",
              "    .dataframe tbody tr th {\n",
              "        vertical-align: top;\n",
              "    }\n",
              "\n",
              "    .dataframe thead th {\n",
              "        text-align: right;\n",
              "    }\n",
              "</style>\n",
              "<table border=\"1\" class=\"dataframe\">\n",
              "  <thead>\n",
              "    <tr style=\"text-align: right;\">\n",
              "      <th></th>\n",
              "      <th>tweet_id</th>\n",
              "      <th>created_at</th>\n",
              "      <th>text</th>\n",
              "      <th>likes</th>\n",
              "      <th>retweeted</th>\n",
              "      <th>location</th>\n",
              "      <th>language</th>\n",
              "      <th>airline</th>\n",
              "      <th>Tweet_tokenized</th>\n",
              "      <th>Tweet_stemmed</th>\n",
              "      <th>Tweet_lemmatized</th>\n",
              "    </tr>\n",
              "  </thead>\n",
              "  <tbody>\n",
              "    <tr>\n",
              "      <th>2</th>\n",
              "      <td>1335581954213900288</td>\n",
              "      <td>2020-12-06 13:48:46</td>\n",
              "      <td>parmar hello kindly provide us with your booking number on private message</td>\n",
              "      <td>0</td>\n",
              "      <td>False</td>\n",
              "      <td>Saudi Arabia</td>\n",
              "      <td>en</td>\n",
              "      <td>flynas</td>\n",
              "      <td>[parmar, hello, kindly, provide, us, with, your, booking, number, on, private, message]</td>\n",
              "      <td>[parmar, hello, kindli, provid, us, with, your, book, number, on, privat, messag]</td>\n",
              "      <td>[parmar, hello, kindly, provide, u, with, your, booking, number, on, private, message]</td>\n",
              "    </tr>\n",
              "    <tr>\n",
              "      <th>17</th>\n",
              "      <td>1335517244978245632</td>\n",
              "      <td>2020-12-06 09:31:38</td>\n",
              "      <td>hello please provide us with your reservation number via the private please</td>\n",
              "      <td>0</td>\n",
              "      <td>False</td>\n",
              "      <td>Saudi Arabia</td>\n",
              "      <td>en</td>\n",
              "      <td>flynas</td>\n",
              "      <td>[, hello, please, provide, us, with, your, reservation, number, via, the, private, please]</td>\n",
              "      <td>[, hello, pleas, provid, us, with, your, reserv, number, via, the, privat, pleas]</td>\n",
              "      <td>[, hello, please, provide, u, with, your, reservation, number, via, the, private, please]</td>\n",
              "    </tr>\n",
              "    <tr>\n",
              "      <th>19</th>\n",
              "      <td>1335515818642255873</td>\n",
              "      <td>2020-12-06 09:25:58</td>\n",
              "      <td>lulzz hello kindly provide us with your booking number on private message</td>\n",
              "      <td>0</td>\n",
              "      <td>False</td>\n",
              "      <td>Saudi Arabia</td>\n",
              "      <td>en</td>\n",
              "      <td>flynas</td>\n",
              "      <td>[lulzz, hello, kindly, provide, us, with, your, booking, number, on, private, message, ]</td>\n",
              "      <td>[lulzz, hello, kindli, provid, us, with, your, book, number, on, privat, messag, ]</td>\n",
              "      <td>[lulzz, hello, kindly, provide, u, with, your, booking, number, on, private, message, ]</td>\n",
              "    </tr>\n",
              "    <tr>\n",
              "      <th>51</th>\n",
              "      <td>1335109047671001088</td>\n",
              "      <td>2020-12-05 06:29:36</td>\n",
              "      <td>hi kindly keep following us continuously any new flights will be announced as soon as they beco...</td>\n",
              "      <td>0</td>\n",
              "      <td>False</td>\n",
              "      <td>Saudi Arabia</td>\n",
              "      <td>en</td>\n",
              "      <td>flynas</td>\n",
              "      <td>[, hi, kindly, keep, following, us, continuously, any, new, flights, will, be, announced, as, so...</td>\n",
              "      <td>[, hi, kindli, keep, follow, us, continu, ani, new, flight, will, be, announc, as, soon, as, the...</td>\n",
              "      <td>[, hi, kindly, keep, following, u, continuously, any, new, flight, will, be, announced, a, soon,...</td>\n",
              "    </tr>\n",
              "    <tr>\n",
              "      <th>65</th>\n",
              "      <td>1334936896925995009</td>\n",
              "      <td>2020-12-04 19:05:32</td>\n",
              "      <td>god bless you follow us and an announcement will be made when any new trips are available god w...</td>\n",
              "      <td>0</td>\n",
              "      <td>False</td>\n",
              "      <td>Saudi Arabia</td>\n",
              "      <td>en</td>\n",
              "      <td>flynas</td>\n",
              "      <td>[, god, bless, you, follow, us, and, an, announcement, will, be, made, when, any, new, trips, ar...</td>\n",
              "      <td>[, god, bless, you, follow, us, and, an, announc, will, be, made, when, ani, new, trip, are, ava...</td>\n",
              "      <td>[, god, bless, you, follow, u, and, an, announcement, will, be, made, when, any, new, trip, are,...</td>\n",
              "    </tr>\n",
              "    <tr>\n",
              "      <th>140</th>\n",
              "      <td>1334357826085511168</td>\n",
              "      <td>2020-12-03 04:44:31</td>\n",
              "      <td>hello kindly provide us with your reservation number in private message</td>\n",
              "      <td>0</td>\n",
              "      <td>False</td>\n",
              "      <td>Saudi Arabia</td>\n",
              "      <td>en</td>\n",
              "      <td>flynas</td>\n",
              "      <td>[, hello, kindly, provide, us, with, your, reservation, number, in, private, message, ]</td>\n",
              "      <td>[, hello, kindli, provid, us, with, your, reserv, number, in, privat, messag, ]</td>\n",
              "      <td>[, hello, kindly, provide, u, with, your, reservation, number, in, private, message, ]</td>\n",
              "    </tr>\n",
              "    <tr>\n",
              "      <th>155</th>\n",
              "      <td>1334213615025594368</td>\n",
              "      <td>2020-12-02 19:11:28</td>\n",
              "      <td>khan hello dear kindly keep following us and we will announce if flights are available</td>\n",
              "      <td>1</td>\n",
              "      <td>False</td>\n",
              "      <td>Saudi Arabia</td>\n",
              "      <td>en</td>\n",
              "      <td>flynas</td>\n",
              "      <td>[khan, hello, dear, kindly, keep, following, us, and, we, will, announce, if, flights, are, avai...</td>\n",
              "      <td>[khan, hello, dear, kindli, keep, follow, us, and, we, will, announc, if, flight, are, avail]</td>\n",
              "      <td>[khan, hello, dear, kindly, keep, following, u, and, we, will, announce, if, flight, are, availa...</td>\n",
              "    </tr>\n",
              "    <tr>\n",
              "      <th>174</th>\n",
              "      <td>1334040421144682499</td>\n",
              "      <td>2020-12-02 07:43:16</td>\n",
              "      <td>khan hello dear follow us we will be announce when flights resume thank you</td>\n",
              "      <td>0</td>\n",
              "      <td>False</td>\n",
              "      <td>Saudi Arabia</td>\n",
              "      <td>en</td>\n",
              "      <td>flynas</td>\n",
              "      <td>[khan, hello, dear, follow, us, we, will, be, announce, when, flights, resume, thank, you]</td>\n",
              "      <td>[khan, hello, dear, follow, us, we, will, be, announc, when, flight, resum, thank, you]</td>\n",
              "      <td>[khan, hello, dear, follow, u, we, will, be, announce, when, flight, resume, thank, you]</td>\n",
              "    </tr>\n",
              "    <tr>\n",
              "      <th>175</th>\n",
              "      <td>1334038103120621568</td>\n",
              "      <td>2020-12-02 07:34:03</td>\n",
              "      <td>u dear kindly provide us with your booking number in private message and delete the tweet becaus...</td>\n",
              "      <td>0</td>\n",
              "      <td>False</td>\n",
              "      <td>Saudi Arabia</td>\n",
              "      <td>en</td>\n",
              "      <td>flynas</td>\n",
              "      <td>[u, dear, kindly, provide, us, with, your, booking, number, in, private, message, and, delete, t...</td>\n",
              "      <td>[u, dear, kindli, provid, us, with, your, book, number, in, privat, messag, and, delet, the, twe...</td>\n",
              "      <td>[u, dear, kindly, provide, u, with, your, booking, number, in, private, message, and, delete, th...</td>\n",
              "    </tr>\n",
              "    <tr>\n",
              "      <th>206</th>\n",
              "      <td>1333752758852317189</td>\n",
              "      <td>2020-12-01 12:40:12</td>\n",
              "      <td>dear follow us if available will be announced thank you</td>\n",
              "      <td>0</td>\n",
              "      <td>False</td>\n",
              "      <td>Saudi Arabia</td>\n",
              "      <td>en</td>\n",
              "      <td>flynas</td>\n",
              "      <td>[, dear, follow, us, if, available, will, be, announced, thank, you]</td>\n",
              "      <td>[, dear, follow, us, if, avail, will, be, announc, thank, you]</td>\n",
              "      <td>[, dear, follow, u, if, available, will, be, announced, thank, you]</td>\n",
              "    </tr>\n",
              "  </tbody>\n",
              "</table>\n",
              "</div>"
            ],
            "text/plain": [
              "                tweet_id  ...                                                                                     Tweet_lemmatized\n",
              "2    1335581954213900288  ...               [parmar, hello, kindly, provide, u, with, your, booking, number, on, private, message]\n",
              "17   1335517244978245632  ...            [, hello, please, provide, u, with, your, reservation, number, via, the, private, please]\n",
              "19   1335515818642255873  ...              [lulzz, hello, kindly, provide, u, with, your, booking, number, on, private, message, ]\n",
              "51   1335109047671001088  ...  [, hi, kindly, keep, following, u, continuously, any, new, flight, will, be, announced, a, soon,...\n",
              "65   1334936896925995009  ...  [, god, bless, you, follow, u, and, an, announcement, will, be, made, when, any, new, trip, are,...\n",
              "140  1334357826085511168  ...               [, hello, kindly, provide, u, with, your, reservation, number, in, private, message, ]\n",
              "155  1334213615025594368  ...  [khan, hello, dear, kindly, keep, following, u, and, we, will, announce, if, flight, are, availa...\n",
              "174  1334040421144682499  ...             [khan, hello, dear, follow, u, we, will, be, announce, when, flight, resume, thank, you]\n",
              "175  1334038103120621568  ...  [u, dear, kindly, provide, u, with, your, booking, number, in, private, message, and, delete, th...\n",
              "206  1333752758852317189  ...                                  [, dear, follow, u, if, available, will, be, announced, thank, you]\n",
              "\n",
              "[10 rows x 11 columns]"
            ]
          },
          "metadata": {
            "tags": []
          },
          "execution_count": 42
        }
      ]
    },
    {
      "cell_type": "markdown",
      "metadata": {
        "id": "DQBoBiOTnMsG"
      },
      "source": [
        "In fact, it can be clearly seen that lemmatizing better than stemming since some the words transformed to meaningless words such as kindli instead of being kindly which is the correct form of the word "
      ]
    },
    {
      "cell_type": "markdown",
      "metadata": {
        "id": "s6CyjKuCalCc"
      },
      "source": [
        "Now let's compare the number of unique words in Lemmatizing and Stemming"
      ]
    },
    {
      "cell_type": "markdown",
      "metadata": {
        "id": "xla0YfmDK5yQ"
      },
      "source": [
        "**Saudia Airlines**"
      ]
    },
    {
      "cell_type": "code",
      "metadata": {
        "colab": {
          "base_uri": "https://localhost:8080/"
        },
        "id": "vVyPn-JjY4mc",
        "outputId": "6955cef8-00f9-4ae1-a260-4787ab436642"
      },
      "source": [
        "listOfWordsLemma = list(itertools.chain.from_iterable(saudia_airlines_en['Tweet_lemmatized']))\n",
        "listOfWordsStem = list(itertools.chain.from_iterable(saudia_airlines_en['Tweet_stemmed']))\n",
        "\n",
        "#number of unique tokens\n",
        "print(\"Unique words aft Lemm :\"+str(len(set(listOfWordsLemma))))\n",
        "print(\"Unique words aft Stem :\"+str(len(set(listOfWordsStem))))"
      ],
      "execution_count": 16,
      "outputs": [
        {
          "output_type": "stream",
          "text": [
            "Unique words aft Lemm :512\n",
            "Unique words aft Stem :470\n"
          ],
          "name": "stdout"
        }
      ]
    },
    {
      "cell_type": "markdown",
      "metadata": {
        "id": "tLci5soCK_L3"
      },
      "source": [
        "**Flynas**"
      ]
    },
    {
      "cell_type": "code",
      "metadata": {
        "colab": {
          "base_uri": "https://localhost:8080/"
        },
        "id": "hq21sLfpLE4v",
        "outputId": "05efcdc0-61fa-44f8-ddac-037919177779"
      },
      "source": [
        "listOfWordsLemma = list(itertools.chain.from_iterable(flynas_airlines_en['Tweet_lemmatized']))\n",
        "listOfWordsStem = list(itertools.chain.from_iterable(flynas_airlines_en['Tweet_stemmed']))\n",
        "\n",
        "#number of unique tokens\n",
        "print(\"Unique words aft Lemm :\"+str(len(set(listOfWordsLemma))))\n",
        "print(\"Unique words aft Stem :\"+str(len(set(listOfWordsStem))))\n"
      ],
      "execution_count": 43,
      "outputs": [
        {
          "output_type": "stream",
          "text": [
            "Unique words aft Lemm :162\n",
            "Unique words aft Stem :154\n"
          ],
          "name": "stdout"
        }
      ]
    },
    {
      "cell_type": "markdown",
      "metadata": {
        "id": "9ta44Djjn4K7"
      },
      "source": [
        "Surprisingly the Stemmed version got a lesser number of words. Therefore I will have to move forward with ['Tweet_lemmatized'] data set."
      ]
    },
    {
      "cell_type": "markdown",
      "metadata": {
        "id": "1t1JXvDIYSMo"
      },
      "source": [
        "#Remove stopwords"
      ]
    },
    {
      "cell_type": "code",
      "metadata": {
        "colab": {
          "base_uri": "https://localhost:8080/"
        },
        "id": "C_9nfiibo2sn",
        "outputId": "b945d0fd-0c94-4821-974e-9b6ca18ae651"
      },
      "source": [
        "nltk.download('stopwords')\n",
        "stopword = nltk.corpus.stopwords.words('english')"
      ],
      "execution_count": 17,
      "outputs": [
        {
          "output_type": "stream",
          "text": [
            "[nltk_data] Downloading package stopwords to /root/nltk_data...\n",
            "[nltk_data]   Unzipping corpora/stopwords.zip.\n"
          ],
          "name": "stdout"
        }
      ]
    },
    {
      "cell_type": "code",
      "metadata": {
        "id": "wVMd789EpKa-"
      },
      "source": [
        "def remove_stopwords(text):\n",
        "    text = [word for word in text if word not in stopword]\n",
        "    return text"
      ],
      "execution_count": 44,
      "outputs": []
    },
    {
      "cell_type": "markdown",
      "metadata": {
        "id": "v7B4SQEALYh1"
      },
      "source": [
        "**Saudia Airlines**"
      ]
    },
    {
      "cell_type": "code",
      "metadata": {
        "colab": {
          "base_uri": "https://localhost:8080/",
          "height": 1000
        },
        "id": "S5xdTfuSX7di",
        "outputId": "d01f03ac-0050-4da5-c060-d9e14183f9ea"
      },
      "source": [
        "saudia_airlines_en['Tweet_nonstop'] = saudia_airlines_en['Tweet_lemmatized'].apply(lambda x: remove_stopwords(x))\n",
        "saudia_airlines_en.head(10)"
      ],
      "execution_count": 19,
      "outputs": [
        {
          "output_type": "stream",
          "text": [
            "/usr/local/lib/python3.6/dist-packages/ipykernel_launcher.py:1: SettingWithCopyWarning: \n",
            "A value is trying to be set on a copy of a slice from a DataFrame.\n",
            "Try using .loc[row_indexer,col_indexer] = value instead\n",
            "\n",
            "See the caveats in the documentation: https://pandas.pydata.org/pandas-docs/stable/user_guide/indexing.html#returning-a-view-versus-a-copy\n",
            "  \"\"\"Entry point for launching an IPython kernel.\n"
          ],
          "name": "stderr"
        },
        {
          "output_type": "execute_result",
          "data": {
            "text/html": [
              "<div>\n",
              "<style scoped>\n",
              "    .dataframe tbody tr th:only-of-type {\n",
              "        vertical-align: middle;\n",
              "    }\n",
              "\n",
              "    .dataframe tbody tr th {\n",
              "        vertical-align: top;\n",
              "    }\n",
              "\n",
              "    .dataframe thead th {\n",
              "        text-align: right;\n",
              "    }\n",
              "</style>\n",
              "<table border=\"1\" class=\"dataframe\">\n",
              "  <thead>\n",
              "    <tr style=\"text-align: right;\">\n",
              "      <th></th>\n",
              "      <th>tweet_id</th>\n",
              "      <th>created_at</th>\n",
              "      <th>text</th>\n",
              "      <th>likes</th>\n",
              "      <th>retweeted</th>\n",
              "      <th>location</th>\n",
              "      <th>language</th>\n",
              "      <th>airline</th>\n",
              "      <th>Tweet_tokenized</th>\n",
              "      <th>Tweet_stemmed</th>\n",
              "      <th>Tweet_lemmatized</th>\n",
              "      <th>Tweet_nonstop</th>\n",
              "    </tr>\n",
              "  </thead>\n",
              "  <tbody>\n",
              "    <tr>\n",
              "      <th>14</th>\n",
              "      <td>1335393841810202624</td>\n",
              "      <td>2020-12-06 01:21:16</td>\n",
              "      <td>dear guest there is no flight from india to saudi arabia at this time kindly follow the flights…</td>\n",
              "      <td>1</td>\n",
              "      <td>False</td>\n",
              "      <td>Saudi Arabia</td>\n",
              "      <td>en</td>\n",
              "      <td>Saudi_airlines</td>\n",
              "      <td>[, dear, guest, there, is, no, flight, from, india, to, saudi, arabia, at, this, time, kindly, f...</td>\n",
              "      <td>[, dear, guest, there, is, no, flight, from, india, to, saudi, arabia, at, thi, time, kindli, fo...</td>\n",
              "      <td>[, dear, guest, there, is, no, flight, from, india, to, saudi, arabia, at, this, time, kindly, f...</td>\n",
              "      <td>[, dear, guest, flight, india, saudi, arabia, time, kindly, follow, flight, ]</td>\n",
              "    </tr>\n",
              "    <tr>\n",
              "      <th>23</th>\n",
              "      <td>1335337522738720770</td>\n",
              "      <td>2020-12-05 21:37:29</td>\n",
              "      <td>hello dear guest we hope you check and be informed of travel updates due to the corona virus co...</td>\n",
              "      <td>1</td>\n",
              "      <td>False</td>\n",
              "      <td>Saudi Arabia</td>\n",
              "      <td>en</td>\n",
              "      <td>Saudi_airlines</td>\n",
              "      <td>[, hello, dear, guest, we, hope, you, check, and, be, informed, of, travel, updates, due, to, th...</td>\n",
              "      <td>[, hello, dear, guest, we, hope, you, check, and, be, inform, of, travel, updat, due, to, the, c...</td>\n",
              "      <td>[, hello, dear, guest, we, hope, you, check, and, be, informed, of, travel, update, due, to, the...</td>\n",
              "      <td>[, hello, dear, guest, hope, check, informed, travel, update, due, corona, virus, covid, ]</td>\n",
              "    </tr>\n",
              "    <tr>\n",
              "      <th>29</th>\n",
              "      <td>1335334320014315521</td>\n",
              "      <td>2020-12-05 21:24:45</td>\n",
              "      <td>hello dear guest please provide us with the booking number through the direct message to let yo...</td>\n",
              "      <td>0</td>\n",
              "      <td>False</td>\n",
              "      <td>Saudi Arabia</td>\n",
              "      <td>en</td>\n",
              "      <td>Saudi_airlines</td>\n",
              "      <td>[, hello, dear, guest, please, provide, us, with, the, booking, number, through, the, direct, me...</td>\n",
              "      <td>[, hello, dear, guest, pleas, provid, us, with, the, book, number, through, the, direct, messag,...</td>\n",
              "      <td>[, hello, dear, guest, please, provide, u, with, the, booking, number, through, the, direct, mes...</td>\n",
              "      <td>[, hello, dear, guest, please, provide, u, booking, number, direct, message, let, know, thank]</td>\n",
              "    </tr>\n",
              "    <tr>\n",
              "      <th>38</th>\n",
              "      <td>1335322063851167748</td>\n",
              "      <td>2020-12-05 20:36:03</td>\n",
              "      <td>dear guest there is no flight from india to saudi arabia at this time when flights schedule back…</td>\n",
              "      <td>1</td>\n",
              "      <td>False</td>\n",
              "      <td>Saudi Arabia</td>\n",
              "      <td>en</td>\n",
              "      <td>Saudi_airlines</td>\n",
              "      <td>[, dear, guest, there, is, no, flight, from, india, to, saudi, arabia, at, this, time, when, fli...</td>\n",
              "      <td>[, dear, guest, there, is, no, flight, from, india, to, saudi, arabia, at, thi, time, when, flig...</td>\n",
              "      <td>[, dear, guest, there, is, no, flight, from, india, to, saudi, arabia, at, this, time, when, fli...</td>\n",
              "      <td>[, dear, guest, flight, india, saudi, arabia, time, flight, schedule, back, ]</td>\n",
              "    </tr>\n",
              "    <tr>\n",
              "      <th>43</th>\n",
              "      <td>1335314759588122626</td>\n",
              "      <td>2020-12-05 20:07:02</td>\n",
              "      <td>hello dear guest you can follow up the flights schedule in our website  …</td>\n",
              "      <td>1</td>\n",
              "      <td>False</td>\n",
              "      <td>Saudi Arabia</td>\n",
              "      <td>en</td>\n",
              "      <td>Saudi_airlines</td>\n",
              "      <td>[, hello, dear, guest, you, can, follow, up, the, flights, schedule, in, our, website, ]</td>\n",
              "      <td>[, hello, dear, guest, you, can, follow, up, the, flight, schedul, in, our, websit, ]</td>\n",
              "      <td>[, hello, dear, guest, you, can, follow, up, the, flight, schedule, in, our, website, ]</td>\n",
              "      <td>[, hello, dear, guest, follow, flight, schedule, website, ]</td>\n",
              "    </tr>\n",
              "    <tr>\n",
              "      <th>50</th>\n",
              "      <td>1335306576312356865</td>\n",
              "      <td>2020-12-05 19:34:31</td>\n",
              "      <td>dear guest there is no flight from india to saudi arabia at this time when flights schedule bac...</td>\n",
              "      <td>0</td>\n",
              "      <td>False</td>\n",
              "      <td>Saudi Arabia</td>\n",
              "      <td>en</td>\n",
              "      <td>Saudi_airlines</td>\n",
              "      <td>[, dear, guest, there, is, no, flight, from, india, to, saudi, arabia, at, this, time, when, fli...</td>\n",
              "      <td>[, dear, guest, there, is, no, flight, from, india, to, saudi, arabia, at, thi, time, when, flig...</td>\n",
              "      <td>[, dear, guest, there, is, no, flight, from, india, to, saudi, arabia, at, this, time, when, fli...</td>\n",
              "      <td>[, dear, guest, flight, india, saudi, arabia, time, flight, schedule, back, ]</td>\n",
              "    </tr>\n",
              "    <tr>\n",
              "      <th>51</th>\n",
              "      <td>1335304974679613443</td>\n",
              "      <td>2020-12-05 19:28:09</td>\n",
              "      <td>hello dear valued guest once the confirmation of the date of lifting restrictions on internatio...</td>\n",
              "      <td>1</td>\n",
              "      <td>False</td>\n",
              "      <td>Saudi Arabia</td>\n",
              "      <td>en</td>\n",
              "      <td>Saudi_airlines</td>\n",
              "      <td>[, hello, dear, valued, guest, once, the, confirmation, of, the, date, of, lifting, restrictions...</td>\n",
              "      <td>[, hello, dear, valu, guest, onc, the, confirm, of, the, date, of, lift, restrict, on, intern, f...</td>\n",
              "      <td>[, hello, dear, valued, guest, once, the, confirmation, of, the, date, of, lifting, restriction,...</td>\n",
              "      <td>[, hello, dear, valued, guest, confirmation, date, lifting, restriction, international, fl, ]</td>\n",
              "    </tr>\n",
              "    <tr>\n",
              "      <th>53</th>\n",
              "      <td>1335276146653589507</td>\n",
              "      <td>2020-12-05 17:33:36</td>\n",
              "      <td>dear guest there is no flight from india to saudi arabia at this time when flights schedule back…</td>\n",
              "      <td>0</td>\n",
              "      <td>False</td>\n",
              "      <td>Saudi Arabia</td>\n",
              "      <td>en</td>\n",
              "      <td>Saudi_airlines</td>\n",
              "      <td>[, dear, guest, there, is, no, flight, from, india, to, saudi, arabia, at, this, time, when, fli...</td>\n",
              "      <td>[, dear, guest, there, is, no, flight, from, india, to, saudi, arabia, at, thi, time, when, flig...</td>\n",
              "      <td>[, dear, guest, there, is, no, flight, from, india, to, saudi, arabia, at, this, time, when, fli...</td>\n",
              "      <td>[, dear, guest, flight, india, saudi, arabia, time, flight, schedule, back, ]</td>\n",
              "    </tr>\n",
              "    <tr>\n",
              "      <th>55</th>\n",
              "      <td>1335275872295804928</td>\n",
              "      <td>2020-12-05 17:32:30</td>\n",
              "      <td>dear guest there is no flight from india to saudi arabia at this time when flights schedule bac...</td>\n",
              "      <td>0</td>\n",
              "      <td>False</td>\n",
              "      <td>Saudi Arabia</td>\n",
              "      <td>en</td>\n",
              "      <td>Saudi_airlines</td>\n",
              "      <td>[, dear, guest, there, is, no, flight, from, india, to, saudi, arabia, at, this, time, when, fli...</td>\n",
              "      <td>[, dear, guest, there, is, no, flight, from, india, to, saudi, arabia, at, thi, time, when, flig...</td>\n",
              "      <td>[, dear, guest, there, is, no, flight, from, india, to, saudi, arabia, at, this, time, when, fli...</td>\n",
              "      <td>[, dear, guest, flight, india, saudi, arabia, time, flight, schedule, back, ]</td>\n",
              "    </tr>\n",
              "    <tr>\n",
              "      <th>57</th>\n",
              "      <td>1335266364739694593</td>\n",
              "      <td>2020-12-05 16:54:44</td>\n",
              "      <td>hello dear guest imran please provide us with the ticket number through the direct message to a...</td>\n",
              "      <td>0</td>\n",
              "      <td>False</td>\n",
              "      <td>Saudi Arabia</td>\n",
              "      <td>en</td>\n",
              "      <td>Saudi_airlines</td>\n",
              "      <td>[, hello, dear, guest, imran, please, provide, us, with, the, ticket, number, through, the, dire...</td>\n",
              "      <td>[, hello, dear, guest, imran, pleas, provid, us, with, the, ticket, number, through, the, direct...</td>\n",
              "      <td>[, hello, dear, guest, imran, please, provide, u, with, the, ticket, number, through, the, direc...</td>\n",
              "      <td>[, hello, dear, guest, imran, please, provide, u, ticket, number, direct, message, allow, ]</td>\n",
              "    </tr>\n",
              "  </tbody>\n",
              "</table>\n",
              "</div>"
            ],
            "text/plain": [
              "               tweet_id  ...                                                                                   Tweet_nonstop\n",
              "14  1335393841810202624  ...                   [, dear, guest, flight, india, saudi, arabia, time, kindly, follow, flight, ]\n",
              "23  1335337522738720770  ...      [, hello, dear, guest, hope, check, informed, travel, update, due, corona, virus, covid, ]\n",
              "29  1335334320014315521  ...  [, hello, dear, guest, please, provide, u, booking, number, direct, message, let, know, thank]\n",
              "38  1335322063851167748  ...                   [, dear, guest, flight, india, saudi, arabia, time, flight, schedule, back, ]\n",
              "43  1335314759588122626  ...                                     [, hello, dear, guest, follow, flight, schedule, website, ]\n",
              "50  1335306576312356865  ...                   [, dear, guest, flight, india, saudi, arabia, time, flight, schedule, back, ]\n",
              "51  1335304974679613443  ...   [, hello, dear, valued, guest, confirmation, date, lifting, restriction, international, fl, ]\n",
              "53  1335276146653589507  ...                   [, dear, guest, flight, india, saudi, arabia, time, flight, schedule, back, ]\n",
              "55  1335275872295804928  ...                   [, dear, guest, flight, india, saudi, arabia, time, flight, schedule, back, ]\n",
              "57  1335266364739694593  ...     [, hello, dear, guest, imran, please, provide, u, ticket, number, direct, message, allow, ]\n",
              "\n",
              "[10 rows x 12 columns]"
            ]
          },
          "metadata": {
            "tags": []
          },
          "execution_count": 19
        }
      ]
    },
    {
      "cell_type": "markdown",
      "metadata": {
        "id": "Vovrh_QtLd1c"
      },
      "source": [
        "**Flynas**"
      ]
    },
    {
      "cell_type": "code",
      "metadata": {
        "colab": {
          "base_uri": "https://localhost:8080/",
          "height": 1000
        },
        "id": "BaQPaVQnLeAE",
        "outputId": "0d43c6cf-fa1d-4fcc-db9f-e9f07eb04cc0"
      },
      "source": [
        "flynas_airlines_en['Tweet_nonstop'] = flynas_airlines_en['Tweet_lemmatized'].apply(lambda x: remove_stopwords(x))\n",
        "flynas_airlines_en.head(10)"
      ],
      "execution_count": 45,
      "outputs": [
        {
          "output_type": "stream",
          "text": [
            "/usr/local/lib/python3.6/dist-packages/ipykernel_launcher.py:1: SettingWithCopyWarning: \n",
            "A value is trying to be set on a copy of a slice from a DataFrame.\n",
            "Try using .loc[row_indexer,col_indexer] = value instead\n",
            "\n",
            "See the caveats in the documentation: https://pandas.pydata.org/pandas-docs/stable/user_guide/indexing.html#returning-a-view-versus-a-copy\n",
            "  \"\"\"Entry point for launching an IPython kernel.\n"
          ],
          "name": "stderr"
        },
        {
          "output_type": "execute_result",
          "data": {
            "text/html": [
              "<div>\n",
              "<style scoped>\n",
              "    .dataframe tbody tr th:only-of-type {\n",
              "        vertical-align: middle;\n",
              "    }\n",
              "\n",
              "    .dataframe tbody tr th {\n",
              "        vertical-align: top;\n",
              "    }\n",
              "\n",
              "    .dataframe thead th {\n",
              "        text-align: right;\n",
              "    }\n",
              "</style>\n",
              "<table border=\"1\" class=\"dataframe\">\n",
              "  <thead>\n",
              "    <tr style=\"text-align: right;\">\n",
              "      <th></th>\n",
              "      <th>tweet_id</th>\n",
              "      <th>created_at</th>\n",
              "      <th>text</th>\n",
              "      <th>likes</th>\n",
              "      <th>retweeted</th>\n",
              "      <th>location</th>\n",
              "      <th>language</th>\n",
              "      <th>airline</th>\n",
              "      <th>Tweet_tokenized</th>\n",
              "      <th>Tweet_stemmed</th>\n",
              "      <th>Tweet_lemmatized</th>\n",
              "      <th>Tweet_nonstop</th>\n",
              "    </tr>\n",
              "  </thead>\n",
              "  <tbody>\n",
              "    <tr>\n",
              "      <th>2</th>\n",
              "      <td>1335581954213900288</td>\n",
              "      <td>2020-12-06 13:48:46</td>\n",
              "      <td>parmar hello kindly provide us with your booking number on private message</td>\n",
              "      <td>0</td>\n",
              "      <td>False</td>\n",
              "      <td>Saudi Arabia</td>\n",
              "      <td>en</td>\n",
              "      <td>flynas</td>\n",
              "      <td>[parmar, hello, kindly, provide, us, with, your, booking, number, on, private, message]</td>\n",
              "      <td>[parmar, hello, kindli, provid, us, with, your, book, number, on, privat, messag]</td>\n",
              "      <td>[parmar, hello, kindly, provide, u, with, your, booking, number, on, private, message]</td>\n",
              "      <td>[parmar, hello, kindly, provide, u, booking, number, private, message]</td>\n",
              "    </tr>\n",
              "    <tr>\n",
              "      <th>17</th>\n",
              "      <td>1335517244978245632</td>\n",
              "      <td>2020-12-06 09:31:38</td>\n",
              "      <td>hello please provide us with your reservation number via the private please</td>\n",
              "      <td>0</td>\n",
              "      <td>False</td>\n",
              "      <td>Saudi Arabia</td>\n",
              "      <td>en</td>\n",
              "      <td>flynas</td>\n",
              "      <td>[, hello, please, provide, us, with, your, reservation, number, via, the, private, please]</td>\n",
              "      <td>[, hello, pleas, provid, us, with, your, reserv, number, via, the, privat, pleas]</td>\n",
              "      <td>[, hello, please, provide, u, with, your, reservation, number, via, the, private, please]</td>\n",
              "      <td>[, hello, please, provide, u, reservation, number, via, private, please]</td>\n",
              "    </tr>\n",
              "    <tr>\n",
              "      <th>19</th>\n",
              "      <td>1335515818642255873</td>\n",
              "      <td>2020-12-06 09:25:58</td>\n",
              "      <td>lulzz hello kindly provide us with your booking number on private message</td>\n",
              "      <td>0</td>\n",
              "      <td>False</td>\n",
              "      <td>Saudi Arabia</td>\n",
              "      <td>en</td>\n",
              "      <td>flynas</td>\n",
              "      <td>[lulzz, hello, kindly, provide, us, with, your, booking, number, on, private, message, ]</td>\n",
              "      <td>[lulzz, hello, kindli, provid, us, with, your, book, number, on, privat, messag, ]</td>\n",
              "      <td>[lulzz, hello, kindly, provide, u, with, your, booking, number, on, private, message, ]</td>\n",
              "      <td>[lulzz, hello, kindly, provide, u, booking, number, private, message, ]</td>\n",
              "    </tr>\n",
              "    <tr>\n",
              "      <th>51</th>\n",
              "      <td>1335109047671001088</td>\n",
              "      <td>2020-12-05 06:29:36</td>\n",
              "      <td>hi kindly keep following us continuously any new flights will be announced as soon as they beco...</td>\n",
              "      <td>0</td>\n",
              "      <td>False</td>\n",
              "      <td>Saudi Arabia</td>\n",
              "      <td>en</td>\n",
              "      <td>flynas</td>\n",
              "      <td>[, hi, kindly, keep, following, us, continuously, any, new, flights, will, be, announced, as, so...</td>\n",
              "      <td>[, hi, kindli, keep, follow, us, continu, ani, new, flight, will, be, announc, as, soon, as, the...</td>\n",
              "      <td>[, hi, kindly, keep, following, u, continuously, any, new, flight, will, be, announced, a, soon,...</td>\n",
              "      <td>[, hi, kindly, keep, following, u, continuously, new, flight, announced, soon, become, available...</td>\n",
              "    </tr>\n",
              "    <tr>\n",
              "      <th>65</th>\n",
              "      <td>1334936896925995009</td>\n",
              "      <td>2020-12-04 19:05:32</td>\n",
              "      <td>god bless you follow us and an announcement will be made when any new trips are available god w...</td>\n",
              "      <td>0</td>\n",
              "      <td>False</td>\n",
              "      <td>Saudi Arabia</td>\n",
              "      <td>en</td>\n",
              "      <td>flynas</td>\n",
              "      <td>[, god, bless, you, follow, us, and, an, announcement, will, be, made, when, any, new, trips, ar...</td>\n",
              "      <td>[, god, bless, you, follow, us, and, an, announc, will, be, made, when, ani, new, trip, are, ava...</td>\n",
              "      <td>[, god, bless, you, follow, u, and, an, announcement, will, be, made, when, any, new, trip, are,...</td>\n",
              "      <td>[, god, bless, follow, u, announcement, made, new, trip, available, god, willing]</td>\n",
              "    </tr>\n",
              "    <tr>\n",
              "      <th>140</th>\n",
              "      <td>1334357826085511168</td>\n",
              "      <td>2020-12-03 04:44:31</td>\n",
              "      <td>hello kindly provide us with your reservation number in private message</td>\n",
              "      <td>0</td>\n",
              "      <td>False</td>\n",
              "      <td>Saudi Arabia</td>\n",
              "      <td>en</td>\n",
              "      <td>flynas</td>\n",
              "      <td>[, hello, kindly, provide, us, with, your, reservation, number, in, private, message, ]</td>\n",
              "      <td>[, hello, kindli, provid, us, with, your, reserv, number, in, privat, messag, ]</td>\n",
              "      <td>[, hello, kindly, provide, u, with, your, reservation, number, in, private, message, ]</td>\n",
              "      <td>[, hello, kindly, provide, u, reservation, number, private, message, ]</td>\n",
              "    </tr>\n",
              "    <tr>\n",
              "      <th>155</th>\n",
              "      <td>1334213615025594368</td>\n",
              "      <td>2020-12-02 19:11:28</td>\n",
              "      <td>khan hello dear kindly keep following us and we will announce if flights are available</td>\n",
              "      <td>1</td>\n",
              "      <td>False</td>\n",
              "      <td>Saudi Arabia</td>\n",
              "      <td>en</td>\n",
              "      <td>flynas</td>\n",
              "      <td>[khan, hello, dear, kindly, keep, following, us, and, we, will, announce, if, flights, are, avai...</td>\n",
              "      <td>[khan, hello, dear, kindli, keep, follow, us, and, we, will, announc, if, flight, are, avail]</td>\n",
              "      <td>[khan, hello, dear, kindly, keep, following, u, and, we, will, announce, if, flight, are, availa...</td>\n",
              "      <td>[khan, hello, dear, kindly, keep, following, u, announce, flight, available]</td>\n",
              "    </tr>\n",
              "    <tr>\n",
              "      <th>174</th>\n",
              "      <td>1334040421144682499</td>\n",
              "      <td>2020-12-02 07:43:16</td>\n",
              "      <td>khan hello dear follow us we will be announce when flights resume thank you</td>\n",
              "      <td>0</td>\n",
              "      <td>False</td>\n",
              "      <td>Saudi Arabia</td>\n",
              "      <td>en</td>\n",
              "      <td>flynas</td>\n",
              "      <td>[khan, hello, dear, follow, us, we, will, be, announce, when, flights, resume, thank, you]</td>\n",
              "      <td>[khan, hello, dear, follow, us, we, will, be, announc, when, flight, resum, thank, you]</td>\n",
              "      <td>[khan, hello, dear, follow, u, we, will, be, announce, when, flight, resume, thank, you]</td>\n",
              "      <td>[khan, hello, dear, follow, u, announce, flight, resume, thank]</td>\n",
              "    </tr>\n",
              "    <tr>\n",
              "      <th>175</th>\n",
              "      <td>1334038103120621568</td>\n",
              "      <td>2020-12-02 07:34:03</td>\n",
              "      <td>u dear kindly provide us with your booking number in private message and delete the tweet becaus...</td>\n",
              "      <td>0</td>\n",
              "      <td>False</td>\n",
              "      <td>Saudi Arabia</td>\n",
              "      <td>en</td>\n",
              "      <td>flynas</td>\n",
              "      <td>[u, dear, kindly, provide, us, with, your, booking, number, in, private, message, and, delete, t...</td>\n",
              "      <td>[u, dear, kindli, provid, us, with, your, book, number, in, privat, messag, and, delet, the, twe...</td>\n",
              "      <td>[u, dear, kindly, provide, u, with, your, booking, number, in, private, message, and, delete, th...</td>\n",
              "      <td>[u, dear, kindly, provide, u, booking, number, private, message, delete, tweet, ]</td>\n",
              "    </tr>\n",
              "    <tr>\n",
              "      <th>206</th>\n",
              "      <td>1333752758852317189</td>\n",
              "      <td>2020-12-01 12:40:12</td>\n",
              "      <td>dear follow us if available will be announced thank you</td>\n",
              "      <td>0</td>\n",
              "      <td>False</td>\n",
              "      <td>Saudi Arabia</td>\n",
              "      <td>en</td>\n",
              "      <td>flynas</td>\n",
              "      <td>[, dear, follow, us, if, available, will, be, announced, thank, you]</td>\n",
              "      <td>[, dear, follow, us, if, avail, will, be, announc, thank, you]</td>\n",
              "      <td>[, dear, follow, u, if, available, will, be, announced, thank, you]</td>\n",
              "      <td>[, dear, follow, u, available, announced, thank]</td>\n",
              "    </tr>\n",
              "  </tbody>\n",
              "</table>\n",
              "</div>"
            ],
            "text/plain": [
              "                tweet_id  ...                                                                                        Tweet_nonstop\n",
              "2    1335581954213900288  ...                               [parmar, hello, kindly, provide, u, booking, number, private, message]\n",
              "17   1335517244978245632  ...                             [, hello, please, provide, u, reservation, number, via, private, please]\n",
              "19   1335515818642255873  ...                              [lulzz, hello, kindly, provide, u, booking, number, private, message, ]\n",
              "51   1335109047671001088  ...  [, hi, kindly, keep, following, u, continuously, new, flight, announced, soon, become, available...\n",
              "65   1334936896925995009  ...                    [, god, bless, follow, u, announcement, made, new, trip, available, god, willing]\n",
              "140  1334357826085511168  ...                               [, hello, kindly, provide, u, reservation, number, private, message, ]\n",
              "155  1334213615025594368  ...                         [khan, hello, dear, kindly, keep, following, u, announce, flight, available]\n",
              "174  1334040421144682499  ...                                      [khan, hello, dear, follow, u, announce, flight, resume, thank]\n",
              "175  1334038103120621568  ...                    [u, dear, kindly, provide, u, booking, number, private, message, delete, tweet, ]\n",
              "206  1333752758852317189  ...                                                     [, dear, follow, u, available, announced, thank]\n",
              "\n",
              "[10 rows x 12 columns]"
            ]
          },
          "metadata": {
            "tags": []
          },
          "execution_count": 45
        }
      ]
    },
    {
      "cell_type": "markdown",
      "metadata": {
        "id": "mFhrHbmNpaa9"
      },
      "source": [
        "Now, let's check the number of unique words has reduced or not. Ideally, there has to be some reduction. "
      ]
    },
    {
      "cell_type": "markdown",
      "metadata": {
        "id": "8OglprdVLrN9"
      },
      "source": [
        "**Saudia Airlines**"
      ]
    },
    {
      "cell_type": "code",
      "metadata": {
        "colab": {
          "base_uri": "https://localhost:8080/"
        },
        "id": "o5ZmiTYlpfQL",
        "outputId": "deacd3ef-7ca6-4b07-e141-56aff094f773"
      },
      "source": [
        "listOfWordsNonstop = list(itertools.chain.from_iterable(saudia_airlines_en['Tweet_nonstop']))\n",
        "\n",
        "#number of unique tokens in first data set\n",
        "print(\"Unique words aft removing stop words :\"+str(len(set(listOfWordsNonstop))))"
      ],
      "execution_count": 20,
      "outputs": [
        {
          "output_type": "stream",
          "text": [
            "Unique words aft removing stop words :444\n"
          ],
          "name": "stdout"
        }
      ]
    },
    {
      "cell_type": "markdown",
      "metadata": {
        "id": "FDJyrGaALu_a"
      },
      "source": [
        "**Flynas**"
      ]
    },
    {
      "cell_type": "code",
      "metadata": {
        "colab": {
          "base_uri": "https://localhost:8080/"
        },
        "id": "J5rGxruULxvY",
        "outputId": "5b009b57-7965-478f-ad25-c3aac7c1afe1"
      },
      "source": [
        "listOfWordsNonstop = list(itertools.chain.from_iterable(flynas_airlines_en['Tweet_nonstop']))\n",
        "\n",
        "#number of unique tokens in first data set\n",
        "print(\"Unique words aft removing stop words :\"+str(len(set(listOfWordsNonstop))))"
      ],
      "execution_count": 46,
      "outputs": [
        {
          "output_type": "stream",
          "text": [
            "Unique words aft removing stop words :125\n"
          ],
          "name": "stdout"
        }
      ]
    },
    {
      "cell_type": "markdown",
      "metadata": {
        "id": "9a6u7R3N3tz2"
      },
      "source": [
        "#Convert tokens into string"
      ]
    },
    {
      "cell_type": "code",
      "metadata": {
        "id": "2tauy8rU3QdQ"
      },
      "source": [
        "def join_tokens(tokens):\n",
        "  document = \" \".join([word for word in tokens if not word.isdigit()])\n",
        "  return document"
      ],
      "execution_count": 47,
      "outputs": []
    },
    {
      "cell_type": "markdown",
      "metadata": {
        "id": "j1U310YyL7i7"
      },
      "source": [
        "**Saudia Airlines**"
      ]
    },
    {
      "cell_type": "code",
      "metadata": {
        "id": "a38Hh_XjL7tw"
      },
      "source": [
        "saudia_airlines_en['nonstop_documents'] = saudia_airlines_en['Tweet_nonstop'].apply(lambda x: join_tokens(x))"
      ],
      "execution_count": null,
      "outputs": []
    },
    {
      "cell_type": "markdown",
      "metadata": {
        "id": "XHfbUauoL76w"
      },
      "source": [
        "**Flynas**"
      ]
    },
    {
      "cell_type": "code",
      "metadata": {
        "colab": {
          "base_uri": "https://localhost:8080/"
        },
        "id": "-bMf5WdpL8FN",
        "outputId": "3c32846d-2991-4670-9735-33bbb11a350b"
      },
      "source": [
        "flynas_airlines_en['nonstop_documents'] = flynas_airlines_en['Tweet_nonstop'].apply(lambda x: join_tokens(x))"
      ],
      "execution_count": 48,
      "outputs": [
        {
          "output_type": "stream",
          "text": [
            "/usr/local/lib/python3.6/dist-packages/ipykernel_launcher.py:1: SettingWithCopyWarning: \n",
            "A value is trying to be set on a copy of a slice from a DataFrame.\n",
            "Try using .loc[row_indexer,col_indexer] = value instead\n",
            "\n",
            "See the caveats in the documentation: https://pandas.pydata.org/pandas-docs/stable/user_guide/indexing.html#returning-a-view-versus-a-copy\n",
            "  \"\"\"Entry point for launching an IPython kernel.\n"
          ],
          "name": "stderr"
        }
      ]
    },
    {
      "cell_type": "markdown",
      "metadata": {
        "id": "gjOty28NqtDV"
      },
      "source": [
        "#Removing words with fewer frequencies"
      ]
    },
    {
      "cell_type": "code",
      "metadata": {
        "id": "bRJD86RqqwXh"
      },
      "source": [
        ""
      ],
      "execution_count": null,
      "outputs": []
    },
    {
      "cell_type": "markdown",
      "metadata": {
        "id": "pyg2c1BQqxL3"
      },
      "source": [
        "#Word cloud visualization"
      ]
    },
    {
      "cell_type": "markdown",
      "metadata": {
        "id": "dkdg3gHyMNFw"
      },
      "source": [
        "**Saudia Airlines**"
      ]
    },
    {
      "cell_type": "code",
      "metadata": {
        "colab": {
          "base_uri": "https://localhost:8080/",
          "height": 232
        },
        "id": "uv4W2IuqZdj7",
        "outputId": "22ac4fef-dbd3-443e-ed27-d0cf8f1e519a"
      },
      "source": [
        "allWords = ''.join([str(twts) for twts in saudia_airlines_en['nonstop_documents']])\n",
        "wordCloud = WordCloud(width=500, height=300, random_state=21, max_font_size=110).generate(allWords)\n",
        "\n",
        "\n",
        "plt.imshow(wordCloud, interpolation=\"bilinear\")\n",
        "plt.axis('off')\n",
        "plt.show()"
      ],
      "execution_count": 50,
      "outputs": [
        {
          "output_type": "display_data",
          "data": {
            "image/png": "[encoded data removed]",
            "text/plain": [
              "<Figure size 432x288 with 1 Axes>"
            ]
          },
          "metadata": {
            "tags": [],
            "needs_background": "light"
          }
        }
      ]
    },
    {
      "cell_type": "markdown",
      "metadata": {
        "id": "eSQrZP0qMQk4"
      },
      "source": [
        "**Flynas**"
      ]
    },
    {
      "cell_type": "code",
      "metadata": {
        "colab": {
          "base_uri": "https://localhost:8080/",
          "height": 232
        },
        "id": "sv75U9kvMTV_",
        "outputId": "3692fea4-7e42-46f2-b277-a71139a432f5"
      },
      "source": [
        "allWords = ''.join([str(twts) for twts in flynas_airlines_en['nonstop_documents']])\n",
        "wordCloud = WordCloud(width=500, height=300, random_state=21, max_font_size=110).generate(allWords)\n",
        "\n",
        "\n",
        "plt.imshow(wordCloud, interpolation=\"bilinear\")\n",
        "plt.axis('off')\n",
        "plt.show()"
      ],
      "execution_count": 51,
      "outputs": [
        {
          "output_type": "display_data",
          "data": {
            "image/png": "[encoded data removed]",
            "text/plain": [
              "<Figure size 432x288 with 1 Axes>"
            ]
          },
          "metadata": {
            "tags": [],
            "needs_background": "light"
          }
        }
      ]
    },
    {
      "cell_type": "markdown",
      "metadata": {
        "id": "HHFvl8GxrUWm"
      },
      "source": [
        "Removing columns because we need only the last process from cleaning the data"
      ]
    },
    {
      "cell_type": "markdown",
      "metadata": {
        "id": "NVIAdBIXMoud"
      },
      "source": [
        "**Saudia Airlines**"
      ]
    },
    {
      "cell_type": "code",
      "metadata": {
        "id": "L7TAVcqSrThN"
      },
      "source": [
        "saudia_airlines_en = saudia_airlines_en.drop(['Tweet_tokenized', 'Tweet_lemmatized', 'Tweet_stemmed', 'Tweet_nonstop'], axis=1)"
      ],
      "execution_count": 28,
      "outputs": []
    },
    {
      "cell_type": "markdown",
      "metadata": {
        "id": "J6FoOnb7Mu4_"
      },
      "source": [
        "**Flynas**"
      ]
    },
    {
      "cell_type": "code",
      "metadata": {
        "id": "-Pb1K0yOMvBf"
      },
      "source": [
        "flynas_airlines_en = flynas_airlines_en.drop(['Tweet_tokenized', 'Tweet_lemmatized', 'Tweet_stemmed', 'Tweet_nonstop'], axis=1)"
      ],
      "execution_count": 52,
      "outputs": []
    },
    {
      "cell_type": "markdown",
      "metadata": {
        "id": "Y2b2xDgsvOKM"
      },
      "source": [
        "#Save the data set"
      ]
    },
    {
      "cell_type": "markdown",
      "metadata": {
        "id": "A0RL5GFaM3hL"
      },
      "source": [
        "**Saudia Airlines**"
      ]
    },
    {
      "cell_type": "code",
      "metadata": {
        "id": "Ifag5vI2ZUyB"
      },
      "source": [
        "saudia_airlines_en.to_csv('saudia_airlines_en.csv')\n",
        "!cp saudia_airlines_en.csv \"./gdrive/My Drive/datasets/twitter_analysis/\""
      ],
      "execution_count": 29,
      "outputs": []
    },
    {
      "cell_type": "markdown",
      "metadata": {
        "id": "GqZlb2RMNNWC"
      },
      "source": [
        "**Flynas**"
      ]
    },
    {
      "cell_type": "code",
      "metadata": {
        "id": "_uEY9c-TNNcr"
      },
      "source": [
        "flynas_airlines_en.to_csv('flynas_airlines_en.csv')\n",
        "!cp flynas_airlines_en.csv \"./gdrive/My Drive/datasets/twitter_analysis/\""
      ],
      "execution_count": 53,
      "outputs": []
    },
    {
      "cell_type": "markdown",
      "metadata": {
        "id": "_G_N3j7wNRMO"
      },
      "source": [
        "#Clean the flynas"
      ]
    },
    {
      "cell_type": "code",
      "metadata": {
        "id": "rSmjMgjKC8j6"
      },
      "source": [
        "flynas_airlines_en = flynas_airlines[flynas_airlines.language == \"en\"]"
      ],
      "execution_count": null,
      "outputs": []
    },
    {
      "cell_type": "code",
      "metadata": {
        "id": "7qw8Y_3hC-oi"
      },
      "source": [
        "flynas_airlines_en.head(10)"
      ],
      "execution_count": null,
      "outputs": []
    }
  ]
}